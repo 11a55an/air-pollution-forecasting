{
 "cells": [
  {
   "cell_type": "markdown",
   "id": "0beeac35-14b5-49b4-9f3c-3d72a98f981c",
   "metadata": {},
   "source": [
    "# Data PreProcessing"
   ]
  },
  {
   "cell_type": "markdown",
   "id": "a5ac0f4b-e0f4-4da1-a436-c2e0264df34c",
   "metadata": {},
   "source": [
    "## Import Data"
   ]
  },
  {
   "cell_type": "code",
   "execution_count": 43,
   "id": "e6ecb1fd-b72a-4340-9b4b-2f3d62cf98cf",
   "metadata": {},
   "outputs": [],
   "source": [
    "import pandas as pd\n",
    "import numpy as np"
   ]
  },
  {
   "cell_type": "code",
   "execution_count": 44,
   "id": "6d91b9b8-4637-47d1-9635-58b38c68b348",
   "metadata": {},
   "outputs": [],
   "source": [
    "df = pd.read_csv(\"data_final.csv\")"
   ]
  },
  {
   "cell_type": "code",
   "execution_count": 45,
   "id": "e9541d8e-1938-4a00-9985-1c084e17c092",
   "metadata": {},
   "outputs": [
    {
     "data": {
      "text/html": [
       "<div>\n",
       "<style scoped>\n",
       "    .dataframe tbody tr th:only-of-type {\n",
       "        vertical-align: middle;\n",
       "    }\n",
       "\n",
       "    .dataframe tbody tr th {\n",
       "        vertical-align: top;\n",
       "    }\n",
       "\n",
       "    .dataframe thead th {\n",
       "        text-align: right;\n",
       "    }\n",
       "</style>\n",
       "<table border=\"1\" class=\"dataframe\">\n",
       "  <thead>\n",
       "    <tr style=\"text-align: right;\">\n",
       "      <th></th>\n",
       "      <th>temp</th>\n",
       "      <th>timestamp_local</th>\n",
       "      <th>city_name</th>\n",
       "      <th>country_code</th>\n",
       "      <th>aqi</th>\n",
       "      <th>co</th>\n",
       "      <th>no2</th>\n",
       "      <th>o3</th>\n",
       "      <th>pm10</th>\n",
       "      <th>pm25</th>\n",
       "      <th>so2</th>\n",
       "    </tr>\n",
       "  </thead>\n",
       "  <tbody>\n",
       "    <tr>\n",
       "      <th>0</th>\n",
       "      <td>12.6</td>\n",
       "      <td>2022-02-01T00:00:00</td>\n",
       "      <td>Gujrāt</td>\n",
       "      <td>PK</td>\n",
       "      <td>385.0</td>\n",
       "      <td>1339.8</td>\n",
       "      <td>76.0</td>\n",
       "      <td>10.7</td>\n",
       "      <td>491.7</td>\n",
       "      <td>347.67</td>\n",
       "      <td>238.0</td>\n",
       "    </tr>\n",
       "    <tr>\n",
       "      <th>1</th>\n",
       "      <td>11.5</td>\n",
       "      <td>2022-02-01T01:00:00</td>\n",
       "      <td>Gujrāt</td>\n",
       "      <td>PK</td>\n",
       "      <td>404.0</td>\n",
       "      <td>1437.6</td>\n",
       "      <td>76.0</td>\n",
       "      <td>9.3</td>\n",
       "      <td>508.3</td>\n",
       "      <td>359.33</td>\n",
       "      <td>268.0</td>\n",
       "    </tr>\n",
       "    <tr>\n",
       "      <th>2</th>\n",
       "      <td>11.9</td>\n",
       "      <td>2022-02-01T02:00:00</td>\n",
       "      <td>Gujrāt</td>\n",
       "      <td>PK</td>\n",
       "      <td>421.0</td>\n",
       "      <td>1535.5</td>\n",
       "      <td>76.0</td>\n",
       "      <td>8.0</td>\n",
       "      <td>525.0</td>\n",
       "      <td>371.00</td>\n",
       "      <td>298.0</td>\n",
       "    </tr>\n",
       "    <tr>\n",
       "      <th>3</th>\n",
       "      <td>12.2</td>\n",
       "      <td>2022-02-01T03:00:00</td>\n",
       "      <td>Gujrāt</td>\n",
       "      <td>PK</td>\n",
       "      <td>425.0</td>\n",
       "      <td>1659.0</td>\n",
       "      <td>68.3</td>\n",
       "      <td>5.3</td>\n",
       "      <td>529.3</td>\n",
       "      <td>374.00</td>\n",
       "      <td>275.7</td>\n",
       "    </tr>\n",
       "    <tr>\n",
       "      <th>4</th>\n",
       "      <td>11.9</td>\n",
       "      <td>2022-02-01T04:00:00</td>\n",
       "      <td>Gujrāt</td>\n",
       "      <td>PK</td>\n",
       "      <td>430.0</td>\n",
       "      <td>1782.5</td>\n",
       "      <td>60.7</td>\n",
       "      <td>2.7</td>\n",
       "      <td>533.7</td>\n",
       "      <td>377.00</td>\n",
       "      <td>253.3</td>\n",
       "    </tr>\n",
       "  </tbody>\n",
       "</table>\n",
       "</div>"
      ],
      "text/plain": [
       "   temp      timestamp_local city_name country_code    aqi      co   no2  \\\n",
       "0  12.6  2022-02-01T00:00:00    Gujrāt           PK  385.0  1339.8  76.0   \n",
       "1  11.5  2022-02-01T01:00:00    Gujrāt           PK  404.0  1437.6  76.0   \n",
       "2  11.9  2022-02-01T02:00:00    Gujrāt           PK  421.0  1535.5  76.0   \n",
       "3  12.2  2022-02-01T03:00:00    Gujrāt           PK  425.0  1659.0  68.3   \n",
       "4  11.9  2022-02-01T04:00:00    Gujrāt           PK  430.0  1782.5  60.7   \n",
       "\n",
       "     o3   pm10    pm25    so2  \n",
       "0  10.7  491.7  347.67  238.0  \n",
       "1   9.3  508.3  359.33  268.0  \n",
       "2   8.0  525.0  371.00  298.0  \n",
       "3   5.3  529.3  374.00  275.7  \n",
       "4   2.7  533.7  377.00  253.3  "
      ]
     },
     "execution_count": 45,
     "metadata": {},
     "output_type": "execute_result"
    }
   ],
   "source": [
    "df.head()"
   ]
  },
  {
   "cell_type": "markdown",
   "id": "7c4937f4-5444-4e6f-8d6c-8f2e07dc5243",
   "metadata": {},
   "source": [
    "## Missing Values"
   ]
  },
  {
   "cell_type": "code",
   "execution_count": 38,
   "id": "8e4b08d2-b937-4b35-8f31-717ea304e296",
   "metadata": {},
   "outputs": [
    {
     "data": {
      "text/plain": [
       "temp                0\n",
       "timestamp_local     0\n",
       "city_name           0\n",
       "country_code        0\n",
       "aqi                74\n",
       "co                 74\n",
       "no2                74\n",
       "o3                 74\n",
       "pm10               74\n",
       "pm25               74\n",
       "so2                74\n",
       "dtype: int64"
      ]
     },
     "execution_count": 38,
     "metadata": {},
     "output_type": "execute_result"
    }
   ],
   "source": [
    "df.isnull().sum()"
   ]
  },
  {
   "cell_type": "code",
   "execution_count": 39,
   "id": "377accd7-d281-414d-8ebe-9e8b84164210",
   "metadata": {},
   "outputs": [
    {
     "name": "stderr",
     "output_type": "stream",
     "text": [
      "C:\\Users\\Hassan\\AppData\\Local\\Temp\\ipykernel_9608\\801513000.py:3: FutureWarning: DataFrame.interpolate with object dtype is deprecated and will raise in a future version. Call obj.infer_objects(copy=False) before interpolating instead.\n",
      "  df.interpolate(method='time', inplace=True)\n"
     ]
    }
   ],
   "source": [
    "df['timestamp_local'] = pd.to_datetime(df['timestamp_local'])\n",
    "df.set_index('timestamp_local', inplace=True)\n",
    "df.interpolate(method='time', inplace=True)"
   ]
  },
  {
   "cell_type": "code",
   "execution_count": 7,
   "id": "79ed707b-a84f-49ef-88c5-0bb07dc8308f",
   "metadata": {},
   "outputs": [
    {
     "name": "stderr",
     "output_type": "stream",
     "text": [
      "C:\\Users\\Hassan\\AppData\\Local\\Temp\\ipykernel_9608\\1779685700.py:1: FutureWarning: A value is trying to be set on a copy of a DataFrame or Series through chained assignment using an inplace method.\n",
      "The behavior will change in pandas 3.0. This inplace method will never work because the intermediate object on which we are setting values always behaves as a copy.\n",
      "\n",
      "For example, when doing 'df[col].method(value, inplace=True)', try using 'df.method({col: value}, inplace=True)' or df[col] = df[col].method(value) instead, to perform the operation inplace on the original object.\n",
      "\n",
      "\n",
      "  df['co'].interpolate(method='linear', inplace=True)\n"
     ]
    }
   ],
   "source": [
    "df['co'].interpolate(method='linear', inplace=True)"
   ]
  },
  {
   "cell_type": "code",
   "execution_count": 8,
   "id": "adff69a9-c9bb-49cc-a098-adc5fa5d417c",
   "metadata": {},
   "outputs": [
    {
     "name": "stderr",
     "output_type": "stream",
     "text": [
      "C:\\Users\\Hassan\\AppData\\Local\\Temp\\ipykernel_9608\\1827981864.py:1: FutureWarning: A value is trying to be set on a copy of a DataFrame or Series through chained assignment using an inplace method.\n",
      "The behavior will change in pandas 3.0. This inplace method will never work because the intermediate object on which we are setting values always behaves as a copy.\n",
      "\n",
      "For example, when doing 'df[col].method(value, inplace=True)', try using 'df.method({col: value}, inplace=True)' or df[col] = df[col].method(value) instead, to perform the operation inplace on the original object.\n",
      "\n",
      "\n",
      "  df['no2'].interpolate(method='linear', inplace=True)\n"
     ]
    }
   ],
   "source": [
    "df['no2'].interpolate(method='linear', inplace=True)"
   ]
  },
  {
   "cell_type": "code",
   "execution_count": 9,
   "id": "099ed5c5-2386-4bd4-8825-4d6fb3972e7c",
   "metadata": {},
   "outputs": [
    {
     "name": "stderr",
     "output_type": "stream",
     "text": [
      "C:\\Users\\Hassan\\AppData\\Local\\Temp\\ipykernel_9608\\1819662422.py:1: FutureWarning: A value is trying to be set on a copy of a DataFrame or Series through chained assignment using an inplace method.\n",
      "The behavior will change in pandas 3.0. This inplace method will never work because the intermediate object on which we are setting values always behaves as a copy.\n",
      "\n",
      "For example, when doing 'df[col].method(value, inplace=True)', try using 'df.method({col: value}, inplace=True)' or df[col] = df[col].method(value) instead, to perform the operation inplace on the original object.\n",
      "\n",
      "\n",
      "  df['o3'].interpolate(method='linear', inplace=True)\n"
     ]
    }
   ],
   "source": [
    "df['o3'].interpolate(method='linear', inplace=True)"
   ]
  },
  {
   "cell_type": "code",
   "execution_count": 10,
   "id": "18ab42aa-9d95-4877-a70b-a3cd7028df08",
   "metadata": {},
   "outputs": [
    {
     "name": "stderr",
     "output_type": "stream",
     "text": [
      "C:\\Users\\Hassan\\AppData\\Local\\Temp\\ipykernel_9608\\2795150673.py:1: FutureWarning: A value is trying to be set on a copy of a DataFrame or Series through chained assignment using an inplace method.\n",
      "The behavior will change in pandas 3.0. This inplace method will never work because the intermediate object on which we are setting values always behaves as a copy.\n",
      "\n",
      "For example, when doing 'df[col].method(value, inplace=True)', try using 'df.method({col: value}, inplace=True)' or df[col] = df[col].method(value) instead, to perform the operation inplace on the original object.\n",
      "\n",
      "\n",
      "  df['pm10'].interpolate(method='linear', inplace=True)\n"
     ]
    }
   ],
   "source": [
    "df['pm10'].interpolate(method='linear', inplace=True)"
   ]
  },
  {
   "cell_type": "code",
   "execution_count": 11,
   "id": "255dd970-5e1d-40fc-b5ea-7b3b70c7b903",
   "metadata": {},
   "outputs": [
    {
     "name": "stderr",
     "output_type": "stream",
     "text": [
      "C:\\Users\\Hassan\\AppData\\Local\\Temp\\ipykernel_9608\\240827951.py:1: FutureWarning: A value is trying to be set on a copy of a DataFrame or Series through chained assignment using an inplace method.\n",
      "The behavior will change in pandas 3.0. This inplace method will never work because the intermediate object on which we are setting values always behaves as a copy.\n",
      "\n",
      "For example, when doing 'df[col].method(value, inplace=True)', try using 'df.method({col: value}, inplace=True)' or df[col] = df[col].method(value) instead, to perform the operation inplace on the original object.\n",
      "\n",
      "\n",
      "  df['pm25'].interpolate(method='linear', inplace=True)\n"
     ]
    }
   ],
   "source": [
    "df['pm25'].interpolate(method='linear', inplace=True)"
   ]
  },
  {
   "cell_type": "code",
   "execution_count": 12,
   "id": "207df78b-36b4-4796-96c4-be8fbc5945e1",
   "metadata": {},
   "outputs": [
    {
     "name": "stderr",
     "output_type": "stream",
     "text": [
      "C:\\Users\\Hassan\\AppData\\Local\\Temp\\ipykernel_9608\\2945241504.py:1: FutureWarning: A value is trying to be set on a copy of a DataFrame or Series through chained assignment using an inplace method.\n",
      "The behavior will change in pandas 3.0. This inplace method will never work because the intermediate object on which we are setting values always behaves as a copy.\n",
      "\n",
      "For example, when doing 'df[col].method(value, inplace=True)', try using 'df.method({col: value}, inplace=True)' or df[col] = df[col].method(value) instead, to perform the operation inplace on the original object.\n",
      "\n",
      "\n",
      "  df['so2'].interpolate(method='linear', inplace=True)\n"
     ]
    }
   ],
   "source": [
    "df['so2'].interpolate(method='linear', inplace=True)"
   ]
  },
  {
   "cell_type": "code",
   "execution_count": 41,
   "id": "d225a204-2de6-42b5-b83c-4dc46e108a65",
   "metadata": {},
   "outputs": [],
   "source": [
    "# Round interpolated values to two decimal points\n",
    "df['temp'] = df['temp'].round(0)"
   ]
  },
  {
   "cell_type": "code",
   "execution_count": 42,
   "id": "8b1e246e-d0f9-451b-a0ce-183df16f1d54",
   "metadata": {},
   "outputs": [
    {
     "data": {
      "text/html": [
       "<div>\n",
       "<style scoped>\n",
       "    .dataframe tbody tr th:only-of-type {\n",
       "        vertical-align: middle;\n",
       "    }\n",
       "\n",
       "    .dataframe tbody tr th {\n",
       "        vertical-align: top;\n",
       "    }\n",
       "\n",
       "    .dataframe thead th {\n",
       "        text-align: right;\n",
       "    }\n",
       "</style>\n",
       "<table border=\"1\" class=\"dataframe\">\n",
       "  <thead>\n",
       "    <tr style=\"text-align: right;\">\n",
       "      <th></th>\n",
       "      <th>temp</th>\n",
       "      <th>city_name</th>\n",
       "      <th>country_code</th>\n",
       "      <th>aqi</th>\n",
       "      <th>co</th>\n",
       "      <th>no2</th>\n",
       "      <th>o3</th>\n",
       "      <th>pm10</th>\n",
       "      <th>pm25</th>\n",
       "      <th>so2</th>\n",
       "    </tr>\n",
       "    <tr>\n",
       "      <th>timestamp_local</th>\n",
       "      <th></th>\n",
       "      <th></th>\n",
       "      <th></th>\n",
       "      <th></th>\n",
       "      <th></th>\n",
       "      <th></th>\n",
       "      <th></th>\n",
       "      <th></th>\n",
       "      <th></th>\n",
       "      <th></th>\n",
       "    </tr>\n",
       "  </thead>\n",
       "  <tbody>\n",
       "    <tr>\n",
       "      <th>2022-06-29 22:00:00</th>\n",
       "      <td>34.0</td>\n",
       "      <td>Gujrāt</td>\n",
       "      <td>PK</td>\n",
       "      <td>161.000000</td>\n",
       "      <td>205.600000</td>\n",
       "      <td>15.30</td>\n",
       "      <td>133.00</td>\n",
       "      <td>215.300000</td>\n",
       "      <td>160.670000</td>\n",
       "      <td>53.000000</td>\n",
       "    </tr>\n",
       "    <tr>\n",
       "      <th>2022-06-29 23:00:00</th>\n",
       "      <td>33.0</td>\n",
       "      <td>Gujrāt</td>\n",
       "      <td>PK</td>\n",
       "      <td>168.000000</td>\n",
       "      <td>204.300000</td>\n",
       "      <td>15.00</td>\n",
       "      <td>127.00</td>\n",
       "      <td>225.000000</td>\n",
       "      <td>168.000000</td>\n",
       "      <td>55.000000</td>\n",
       "    </tr>\n",
       "    <tr>\n",
       "      <th>2022-06-30 00:00:00</th>\n",
       "      <td>33.0</td>\n",
       "      <td>Gujrāt</td>\n",
       "      <td>PK</td>\n",
       "      <td>169.000000</td>\n",
       "      <td>197.100000</td>\n",
       "      <td>14.30</td>\n",
       "      <td>127.70</td>\n",
       "      <td>226.300000</td>\n",
       "      <td>169.330000</td>\n",
       "      <td>53.700000</td>\n",
       "    </tr>\n",
       "    <tr>\n",
       "      <th>2022-06-30 01:00:00</th>\n",
       "      <td>32.0</td>\n",
       "      <td>Gujrāt</td>\n",
       "      <td>PK</td>\n",
       "      <td>170.000000</td>\n",
       "      <td>189.900000</td>\n",
       "      <td>13.70</td>\n",
       "      <td>128.30</td>\n",
       "      <td>227.700000</td>\n",
       "      <td>170.670000</td>\n",
       "      <td>52.300000</td>\n",
       "    </tr>\n",
       "    <tr>\n",
       "      <th>2022-06-30 02:00:00</th>\n",
       "      <td>32.0</td>\n",
       "      <td>Gujrāt</td>\n",
       "      <td>PK</td>\n",
       "      <td>172.000000</td>\n",
       "      <td>182.700000</td>\n",
       "      <td>13.00</td>\n",
       "      <td>129.00</td>\n",
       "      <td>229.000000</td>\n",
       "      <td>172.000000</td>\n",
       "      <td>51.000000</td>\n",
       "    </tr>\n",
       "    <tr>\n",
       "      <th>...</th>\n",
       "      <td>...</td>\n",
       "      <td>...</td>\n",
       "      <td>...</td>\n",
       "      <td>...</td>\n",
       "      <td>...</td>\n",
       "      <td>...</td>\n",
       "      <td>...</td>\n",
       "      <td>...</td>\n",
       "      <td>...</td>\n",
       "      <td>...</td>\n",
       "    </tr>\n",
       "    <tr>\n",
       "      <th>2022-07-03 04:00:00</th>\n",
       "      <td>31.0</td>\n",
       "      <td>Gujrāt</td>\n",
       "      <td>PK</td>\n",
       "      <td>110.826667</td>\n",
       "      <td>122.809333</td>\n",
       "      <td>7.08</td>\n",
       "      <td>81.64</td>\n",
       "      <td>58.306667</td>\n",
       "      <td>40.773333</td>\n",
       "      <td>17.453333</td>\n",
       "    </tr>\n",
       "    <tr>\n",
       "      <th>2022-07-03 05:00:00</th>\n",
       "      <td>30.0</td>\n",
       "      <td>Gujrāt</td>\n",
       "      <td>PK</td>\n",
       "      <td>110.000000</td>\n",
       "      <td>122.000000</td>\n",
       "      <td>7.00</td>\n",
       "      <td>81.00</td>\n",
       "      <td>56.000000</td>\n",
       "      <td>39.000000</td>\n",
       "      <td>17.000000</td>\n",
       "    </tr>\n",
       "    <tr>\n",
       "      <th>2022-07-03 06:00:00</th>\n",
       "      <td>30.0</td>\n",
       "      <td>Gujrāt</td>\n",
       "      <td>PK</td>\n",
       "      <td>113.000000</td>\n",
       "      <td>127.200000</td>\n",
       "      <td>9.00</td>\n",
       "      <td>84.30</td>\n",
       "      <td>58.000000</td>\n",
       "      <td>40.330000</td>\n",
       "      <td>22.700000</td>\n",
       "    </tr>\n",
       "    <tr>\n",
       "      <th>2022-07-03 07:00:00</th>\n",
       "      <td>30.0</td>\n",
       "      <td>Gujrāt</td>\n",
       "      <td>PK</td>\n",
       "      <td>117.000000</td>\n",
       "      <td>132.500000</td>\n",
       "      <td>11.00</td>\n",
       "      <td>87.70</td>\n",
       "      <td>60.000000</td>\n",
       "      <td>41.670000</td>\n",
       "      <td>28.300000</td>\n",
       "    </tr>\n",
       "    <tr>\n",
       "      <th>2022-07-03 08:00:00</th>\n",
       "      <td>30.0</td>\n",
       "      <td>Gujrāt</td>\n",
       "      <td>PK</td>\n",
       "      <td>121.000000</td>\n",
       "      <td>137.700000</td>\n",
       "      <td>13.00</td>\n",
       "      <td>91.00</td>\n",
       "      <td>62.000000</td>\n",
       "      <td>43.000000</td>\n",
       "      <td>34.000000</td>\n",
       "    </tr>\n",
       "  </tbody>\n",
       "</table>\n",
       "<p>83 rows × 10 columns</p>\n",
       "</div>"
      ],
      "text/plain": [
       "                     temp city_name country_code         aqi          co  \\\n",
       "timestamp_local                                                            \n",
       "2022-06-29 22:00:00  34.0    Gujrāt           PK  161.000000  205.600000   \n",
       "2022-06-29 23:00:00  33.0    Gujrāt           PK  168.000000  204.300000   \n",
       "2022-06-30 00:00:00  33.0    Gujrāt           PK  169.000000  197.100000   \n",
       "2022-06-30 01:00:00  32.0    Gujrāt           PK  170.000000  189.900000   \n",
       "2022-06-30 02:00:00  32.0    Gujrāt           PK  172.000000  182.700000   \n",
       "...                   ...       ...          ...         ...         ...   \n",
       "2022-07-03 04:00:00  31.0    Gujrāt           PK  110.826667  122.809333   \n",
       "2022-07-03 05:00:00  30.0    Gujrāt           PK  110.000000  122.000000   \n",
       "2022-07-03 06:00:00  30.0    Gujrāt           PK  113.000000  127.200000   \n",
       "2022-07-03 07:00:00  30.0    Gujrāt           PK  117.000000  132.500000   \n",
       "2022-07-03 08:00:00  30.0    Gujrāt           PK  121.000000  137.700000   \n",
       "\n",
       "                       no2      o3        pm10        pm25        so2  \n",
       "timestamp_local                                                        \n",
       "2022-06-29 22:00:00  15.30  133.00  215.300000  160.670000  53.000000  \n",
       "2022-06-29 23:00:00  15.00  127.00  225.000000  168.000000  55.000000  \n",
       "2022-06-30 00:00:00  14.30  127.70  226.300000  169.330000  53.700000  \n",
       "2022-06-30 01:00:00  13.70  128.30  227.700000  170.670000  52.300000  \n",
       "2022-06-30 02:00:00  13.00  129.00  229.000000  172.000000  51.000000  \n",
       "...                    ...     ...         ...         ...        ...  \n",
       "2022-07-03 04:00:00   7.08   81.64   58.306667   40.773333  17.453333  \n",
       "2022-07-03 05:00:00   7.00   81.00   56.000000   39.000000  17.000000  \n",
       "2022-07-03 06:00:00   9.00   84.30   58.000000   40.330000  22.700000  \n",
       "2022-07-03 07:00:00  11.00   87.70   60.000000   41.670000  28.300000  \n",
       "2022-07-03 08:00:00  13.00   91.00   62.000000   43.000000  34.000000  \n",
       "\n",
       "[83 rows x 10 columns]"
      ]
     },
     "execution_count": 42,
     "metadata": {},
     "output_type": "execute_result"
    }
   ],
   "source": [
    "df.iloc[3574:3657]"
   ]
  },
  {
   "cell_type": "code",
   "execution_count": 32,
   "id": "7b095142-aa70-4a61-a82e-d8f0c8ba7214",
   "metadata": {},
   "outputs": [],
   "source": [
    "df.to_csv(\"data_cleaned.csv\")"
   ]
  }
 ],
 "metadata": {
  "kernelspec": {
   "display_name": "Python 3 (ipykernel)",
   "language": "python",
   "name": "python3"
  },
  "language_info": {
   "codemirror_mode": {
    "name": "ipython",
    "version": 3
   },
   "file_extension": ".py",
   "mimetype": "text/x-python",
   "name": "python",
   "nbconvert_exporter": "python",
   "pygments_lexer": "ipython3",
   "version": "3.10.1"
  }
 },
 "nbformat": 4,
 "nbformat_minor": 5
}
