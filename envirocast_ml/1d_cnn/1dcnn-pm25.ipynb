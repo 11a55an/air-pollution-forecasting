{
 "cells": [
  {
   "cell_type": "code",
   "execution_count": 1,
   "id": "08a7b78b-1d09-454f-8ecc-7c4184ab2240",
   "metadata": {},
   "outputs": [],
   "source": [
    "import pandas as pd\n",
    "import numpy as np"
   ]
  },
  {
   "cell_type": "code",
   "execution_count": 2,
   "id": "c1570c26-8e22-4498-9fe6-68e055e504a9",
   "metadata": {},
   "outputs": [],
   "source": [
    "df = pd.read_csv(\"../data/data_imputed_2.csv\")"
   ]
  },
  {
   "cell_type": "code",
   "execution_count": 3,
   "id": "55868db8-2144-49a3-9531-e4bf0728f0a2",
   "metadata": {},
   "outputs": [
    {
     "data": {
      "text/html": [
       "<div>\n",
       "<style scoped>\n",
       "    .dataframe tbody tr th:only-of-type {\n",
       "        vertical-align: middle;\n",
       "    }\n",
       "\n",
       "    .dataframe tbody tr th {\n",
       "        vertical-align: top;\n",
       "    }\n",
       "\n",
       "    .dataframe thead th {\n",
       "        text-align: right;\n",
       "    }\n",
       "</style>\n",
       "<table border=\"1\" class=\"dataframe\">\n",
       "  <thead>\n",
       "    <tr style=\"text-align: right;\">\n",
       "      <th></th>\n",
       "      <th>timestamp_local</th>\n",
       "      <th>temp</th>\n",
       "      <th>city_name</th>\n",
       "      <th>country_code</th>\n",
       "      <th>aqi</th>\n",
       "      <th>co</th>\n",
       "      <th>no2</th>\n",
       "      <th>o3</th>\n",
       "      <th>pm10</th>\n",
       "      <th>pm25</th>\n",
       "      <th>so2</th>\n",
       "    </tr>\n",
       "  </thead>\n",
       "  <tbody>\n",
       "    <tr>\n",
       "      <th>0</th>\n",
       "      <td>01/02/2022 0:00</td>\n",
       "      <td>12.6</td>\n",
       "      <td>Gujrāt</td>\n",
       "      <td>PK</td>\n",
       "      <td>385</td>\n",
       "      <td>1339.8</td>\n",
       "      <td>76.0</td>\n",
       "      <td>10.7</td>\n",
       "      <td>491.7</td>\n",
       "      <td>347.67</td>\n",
       "      <td>238.0</td>\n",
       "    </tr>\n",
       "    <tr>\n",
       "      <th>1</th>\n",
       "      <td>01/02/2022 1:00</td>\n",
       "      <td>11.5</td>\n",
       "      <td>Gujrāt</td>\n",
       "      <td>PK</td>\n",
       "      <td>404</td>\n",
       "      <td>1437.6</td>\n",
       "      <td>76.0</td>\n",
       "      <td>9.3</td>\n",
       "      <td>508.3</td>\n",
       "      <td>359.33</td>\n",
       "      <td>268.0</td>\n",
       "    </tr>\n",
       "    <tr>\n",
       "      <th>2</th>\n",
       "      <td>01/02/2022 2:00</td>\n",
       "      <td>11.9</td>\n",
       "      <td>Gujrāt</td>\n",
       "      <td>PK</td>\n",
       "      <td>421</td>\n",
       "      <td>1535.5</td>\n",
       "      <td>76.0</td>\n",
       "      <td>8.0</td>\n",
       "      <td>525.0</td>\n",
       "      <td>371.00</td>\n",
       "      <td>298.0</td>\n",
       "    </tr>\n",
       "    <tr>\n",
       "      <th>3</th>\n",
       "      <td>01/02/2022 3:00</td>\n",
       "      <td>12.2</td>\n",
       "      <td>Gujrāt</td>\n",
       "      <td>PK</td>\n",
       "      <td>425</td>\n",
       "      <td>1659.0</td>\n",
       "      <td>68.3</td>\n",
       "      <td>5.3</td>\n",
       "      <td>529.3</td>\n",
       "      <td>374.00</td>\n",
       "      <td>275.7</td>\n",
       "    </tr>\n",
       "    <tr>\n",
       "      <th>4</th>\n",
       "      <td>01/02/2022 4:00</td>\n",
       "      <td>11.9</td>\n",
       "      <td>Gujrāt</td>\n",
       "      <td>PK</td>\n",
       "      <td>430</td>\n",
       "      <td>1782.5</td>\n",
       "      <td>60.7</td>\n",
       "      <td>2.7</td>\n",
       "      <td>533.7</td>\n",
       "      <td>377.00</td>\n",
       "      <td>253.3</td>\n",
       "    </tr>\n",
       "  </tbody>\n",
       "</table>\n",
       "</div>"
      ],
      "text/plain": [
       "   timestamp_local  temp city_name country_code  aqi      co   no2    o3  \\\n",
       "0  01/02/2022 0:00  12.6    Gujrāt           PK  385  1339.8  76.0  10.7   \n",
       "1  01/02/2022 1:00  11.5    Gujrāt           PK  404  1437.6  76.0   9.3   \n",
       "2  01/02/2022 2:00  11.9    Gujrāt           PK  421  1535.5  76.0   8.0   \n",
       "3  01/02/2022 3:00  12.2    Gujrāt           PK  425  1659.0  68.3   5.3   \n",
       "4  01/02/2022 4:00  11.9    Gujrāt           PK  430  1782.5  60.7   2.7   \n",
       "\n",
       "    pm10    pm25    so2  \n",
       "0  491.7  347.67  238.0  \n",
       "1  508.3  359.33  268.0  \n",
       "2  525.0  371.00  298.0  \n",
       "3  529.3  374.00  275.7  \n",
       "4  533.7  377.00  253.3  "
      ]
     },
     "execution_count": 3,
     "metadata": {},
     "output_type": "execute_result"
    }
   ],
   "source": [
    "df.head()"
   ]
  },
  {
   "cell_type": "code",
   "execution_count": 4,
   "id": "1957f406-a837-4345-8d16-7835bd855082",
   "metadata": {},
   "outputs": [],
   "source": [
    "from sklearn.model_selection import train_test_split"
   ]
  },
  {
   "cell_type": "code",
   "execution_count": 5,
   "id": "d7e3c4f9-7208-48a1-bee4-1a89c09e2714",
   "metadata": {},
   "outputs": [],
   "source": [
    "data = df[['pm25']]"
   ]
  },
  {
   "cell_type": "code",
   "execution_count": 6,
   "id": "a2eedd5e-c6fa-43b7-9458-5deca00f11fb",
   "metadata": {},
   "outputs": [],
   "source": [
    "from sklearn.preprocessing import MinMaxScaler\n",
    "values = data.values\n",
    "\n",
    "values = values.astype('float32')\n",
    "\n",
    "scaler = MinMaxScaler(feature_range=(0, 1))\n",
    "scaled = scaler.fit_transform(values)"
   ]
  },
  {
   "cell_type": "code",
   "execution_count": 7,
   "id": "d93f3d70-328f-40a2-9403-0e22e9802560",
   "metadata": {},
   "outputs": [],
   "source": [
    "scaled = scaled.reshape((19706,))"
   ]
  },
  {
   "cell_type": "code",
   "execution_count": 8,
   "id": "09f5ccf2-8abf-4b08-8051-cb206ea52fad",
   "metadata": {},
   "outputs": [
    {
     "data": {
      "text/plain": [
       "(19706,)"
      ]
     },
     "execution_count": 8,
     "metadata": {},
     "output_type": "execute_result"
    }
   ],
   "source": [
    "scaled.shape"
   ]
  },
  {
   "cell_type": "code",
   "execution_count": 9,
   "id": "071ee44c-f600-41f6-9490-6cda18be3d8d",
   "metadata": {},
   "outputs": [],
   "source": [
    "def df_to_X_y(df, window_size, forecast_length):\n",
    "    # df_as_np = df.to_numpy()\n",
    "    X = []\n",
    "    y = []\n",
    "    \n",
    "    for i in range(len(df) - window_size - forecast_length):\n",
    "        row_x = [[a] for a in df[i:i+window_size]]\n",
    "        \n",
    "        X.append(row_x)\n",
    "        # row_y = df_as_np[i+window_size]\n",
    "        row_y = [b for b in df[i+window_size:i+window_size+forecast_length]]\n",
    "        \n",
    "        y.append(row_y)\n",
    "        \n",
    "    return np.array(X), np.array(y)"
   ]
  },
  {
   "cell_type": "code",
   "execution_count": 10,
   "id": "c118b905-bab3-4abf-b257-253d7ea2bb98",
   "metadata": {},
   "outputs": [],
   "source": [
    "WINDOW_WIDTH = 168\n",
    "FORECAST_LENGTH = 168\n",
    "X, y = df_to_X_y(scaled, WINDOW_WIDTH, FORECAST_LENGTH)\n",
    "\n",
    "\n",
    "X_train, X_test, y_train, y_test = train_test_split(X, y, test_size=0.2, random_state=0)\n",
    "X_train, X_val, y_train, y_val = train_test_split(X_train, y_train, test_size=0.2, random_state=0)\n",
    "\n",
    "X_max = X_train.max()\n",
    "X_min = X_train.min()"
   ]
  },
  {
   "cell_type": "code",
   "execution_count": 11,
   "id": "e7b85489-d3d6-4c17-8935-238402086eff",
   "metadata": {},
   "outputs": [],
   "source": [
    "batchSize = 16\n",
    "from keras.models import Sequential, save_model, load_model\n",
    "from keras.layers import *\n",
    "from keras.callbacks import ReduceLROnPlateau, ModelCheckpoint\n",
    "from tensorflow.keras.optimizers import Adam\n",
    "from keras.losses import MeanSquaredError\n",
    "from keras.metrics import RootMeanSquaredError"
   ]
  },
  {
   "cell_type": "code",
   "execution_count": 12,
   "id": "3b6c5847-1cc5-4149-b349-ff4f5c638c90",
   "metadata": {},
   "outputs": [
    {
     "name": "stderr",
     "output_type": "stream",
     "text": [
      "C:\\Users\\Hassan\\AppData\\Local\\Programs\\Python\\Python311\\Lib\\site-packages\\keras\\src\\layers\\convolutional\\base_conv.py:99: UserWarning: Do not pass an `input_shape`/`input_dim` argument to a layer. When using Sequential models, prefer using an `Input(shape)` object as the first layer in the model instead.\n",
      "  super().__init__(\n"
     ]
    },
    {
     "data": {
      "text/html": [
       "<pre style=\"white-space:pre;overflow-x:auto;line-height:normal;font-family:Menlo,'DejaVu Sans Mono',consolas,'Courier New',monospace\"><span style=\"font-weight: bold\">Model: \"sequential\"</span>\n",
       "</pre>\n"
      ],
      "text/plain": [
       "\u001b[1mModel: \"sequential\"\u001b[0m\n"
      ]
     },
     "metadata": {},
     "output_type": "display_data"
    },
    {
     "data": {
      "text/html": [
       "<pre style=\"white-space:pre;overflow-x:auto;line-height:normal;font-family:Menlo,'DejaVu Sans Mono',consolas,'Courier New',monospace\">┏━━━━━━━━━━━━━━━━━━━━━━━━━━━━━━━━━━━━━━┳━━━━━━━━━━━━━━━━━━━━━━━━━━━━━┳━━━━━━━━━━━━━━━━━┓\n",
       "┃<span style=\"font-weight: bold\"> Layer (type)                         </span>┃<span style=\"font-weight: bold\"> Output Shape                </span>┃<span style=\"font-weight: bold\">         Param # </span>┃\n",
       "┡━━━━━━━━━━━━━━━━━━━━━━━━━━━━━━━━━━━━━━╇━━━━━━━━━━━━━━━━━━━━━━━━━━━━━╇━━━━━━━━━━━━━━━━━┩\n",
       "│ conv1d (<span style=\"color: #0087ff; text-decoration-color: #0087ff\">Conv1D</span>)                      │ (<span style=\"color: #00d7ff; text-decoration-color: #00d7ff\">None</span>, <span style=\"color: #00af00; text-decoration-color: #00af00\">166</span>, <span style=\"color: #00af00; text-decoration-color: #00af00\">8</span>)              │              <span style=\"color: #00af00; text-decoration-color: #00af00\">32</span> │\n",
       "├──────────────────────────────────────┼─────────────────────────────┼─────────────────┤\n",
       "│ flatten (<span style=\"color: #0087ff; text-decoration-color: #0087ff\">Flatten</span>)                    │ (<span style=\"color: #00d7ff; text-decoration-color: #00d7ff\">None</span>, <span style=\"color: #00af00; text-decoration-color: #00af00\">1328</span>)                │               <span style=\"color: #00af00; text-decoration-color: #00af00\">0</span> │\n",
       "├──────────────────────────────────────┼─────────────────────────────┼─────────────────┤\n",
       "│ dense (<span style=\"color: #0087ff; text-decoration-color: #0087ff\">Dense</span>)                        │ (<span style=\"color: #00d7ff; text-decoration-color: #00d7ff\">None</span>, <span style=\"color: #00af00; text-decoration-color: #00af00\">168</span>)                 │         <span style=\"color: #00af00; text-decoration-color: #00af00\">223,272</span> │\n",
       "└──────────────────────────────────────┴─────────────────────────────┴─────────────────┘\n",
       "</pre>\n"
      ],
      "text/plain": [
       "┏━━━━━━━━━━━━━━━━━━━━━━━━━━━━━━━━━━━━━━┳━━━━━━━━━━━━━━━━━━━━━━━━━━━━━┳━━━━━━━━━━━━━━━━━┓\n",
       "┃\u001b[1m \u001b[0m\u001b[1mLayer (type)                        \u001b[0m\u001b[1m \u001b[0m┃\u001b[1m \u001b[0m\u001b[1mOutput Shape               \u001b[0m\u001b[1m \u001b[0m┃\u001b[1m \u001b[0m\u001b[1m        Param #\u001b[0m\u001b[1m \u001b[0m┃\n",
       "┡━━━━━━━━━━━━━━━━━━━━━━━━━━━━━━━━━━━━━━╇━━━━━━━━━━━━━━━━━━━━━━━━━━━━━╇━━━━━━━━━━━━━━━━━┩\n",
       "│ conv1d (\u001b[38;5;33mConv1D\u001b[0m)                      │ (\u001b[38;5;45mNone\u001b[0m, \u001b[38;5;34m166\u001b[0m, \u001b[38;5;34m8\u001b[0m)              │              \u001b[38;5;34m32\u001b[0m │\n",
       "├──────────────────────────────────────┼─────────────────────────────┼─────────────────┤\n",
       "│ flatten (\u001b[38;5;33mFlatten\u001b[0m)                    │ (\u001b[38;5;45mNone\u001b[0m, \u001b[38;5;34m1328\u001b[0m)                │               \u001b[38;5;34m0\u001b[0m │\n",
       "├──────────────────────────────────────┼─────────────────────────────┼─────────────────┤\n",
       "│ dense (\u001b[38;5;33mDense\u001b[0m)                        │ (\u001b[38;5;45mNone\u001b[0m, \u001b[38;5;34m168\u001b[0m)                 │         \u001b[38;5;34m223,272\u001b[0m │\n",
       "└──────────────────────────────────────┴─────────────────────────────┴─────────────────┘\n"
      ]
     },
     "metadata": {},
     "output_type": "display_data"
    },
    {
     "data": {
      "text/html": [
       "<pre style=\"white-space:pre;overflow-x:auto;line-height:normal;font-family:Menlo,'DejaVu Sans Mono',consolas,'Courier New',monospace\"><span style=\"font-weight: bold\"> Total params: </span><span style=\"color: #00af00; text-decoration-color: #00af00\">223,304</span> (872.28 KB)\n",
       "</pre>\n"
      ],
      "text/plain": [
       "\u001b[1m Total params: \u001b[0m\u001b[38;5;34m223,304\u001b[0m (872.28 KB)\n"
      ]
     },
     "metadata": {},
     "output_type": "display_data"
    },
    {
     "data": {
      "text/html": [
       "<pre style=\"white-space:pre;overflow-x:auto;line-height:normal;font-family:Menlo,'DejaVu Sans Mono',consolas,'Courier New',monospace\"><span style=\"font-weight: bold\"> Trainable params: </span><span style=\"color: #00af00; text-decoration-color: #00af00\">223,304</span> (872.28 KB)\n",
       "</pre>\n"
      ],
      "text/plain": [
       "\u001b[1m Trainable params: \u001b[0m\u001b[38;5;34m223,304\u001b[0m (872.28 KB)\n"
      ]
     },
     "metadata": {},
     "output_type": "display_data"
    },
    {
     "data": {
      "text/html": [
       "<pre style=\"white-space:pre;overflow-x:auto;line-height:normal;font-family:Menlo,'DejaVu Sans Mono',consolas,'Courier New',monospace\"><span style=\"font-weight: bold\"> Non-trainable params: </span><span style=\"color: #00af00; text-decoration-color: #00af00\">0</span> (0.00 B)\n",
       "</pre>\n"
      ],
      "text/plain": [
       "\u001b[1m Non-trainable params: \u001b[0m\u001b[38;5;34m0\u001b[0m (0.00 B)\n"
      ]
     },
     "metadata": {},
     "output_type": "display_data"
    },
    {
     "name": "stdout",
     "output_type": "stream",
     "text": [
      "Epoch 1/50\n",
      "\u001b[1m388/388\u001b[0m \u001b[32m━━━━━━━━━━━━━━━━━━━━\u001b[0m\u001b[37m\u001b[0m \u001b[1m5s\u001b[0m 9ms/step - loss: 0.0062 - root_mean_squared_error: 0.0772 - val_loss: 0.0037 - val_root_mean_squared_error: 0.0610 - learning_rate: 0.0010\n",
      "Epoch 2/50\n",
      "\u001b[1m388/388\u001b[0m \u001b[32m━━━━━━━━━━━━━━━━━━━━\u001b[0m\u001b[37m\u001b[0m \u001b[1m4s\u001b[0m 10ms/step - loss: 0.0037 - root_mean_squared_error: 0.0612 - val_loss: 0.0037 - val_root_mean_squared_error: 0.0606 - learning_rate: 0.0010\n",
      "Epoch 3/50\n",
      "\u001b[1m388/388\u001b[0m \u001b[32m━━━━━━━━━━━━━━━━━━━━\u001b[0m\u001b[37m\u001b[0m \u001b[1m3s\u001b[0m 8ms/step - loss: 0.0035 - root_mean_squared_error: 0.0593 - val_loss: 0.0034 - val_root_mean_squared_error: 0.0579 - learning_rate: 0.0010\n",
      "Epoch 4/50\n",
      "\u001b[1m388/388\u001b[0m \u001b[32m━━━━━━━━━━━━━━━━━━━━\u001b[0m\u001b[37m\u001b[0m \u001b[1m4s\u001b[0m 9ms/step - loss: 0.0034 - root_mean_squared_error: 0.0582 - val_loss: 0.0033 - val_root_mean_squared_error: 0.0579 - learning_rate: 0.0010\n",
      "Epoch 5/50\n",
      "\u001b[1m388/388\u001b[0m \u001b[32m━━━━━━━━━━━━━━━━━━━━\u001b[0m\u001b[37m\u001b[0m \u001b[1m4s\u001b[0m 10ms/step - loss: 0.0033 - root_mean_squared_error: 0.0571 - val_loss: 0.0033 - val_root_mean_squared_error: 0.0575 - learning_rate: 0.0010\n",
      "Epoch 6/50\n",
      "\u001b[1m388/388\u001b[0m \u001b[32m━━━━━━━━━━━━━━━━━━━━\u001b[0m\u001b[37m\u001b[0m \u001b[1m4s\u001b[0m 9ms/step - loss: 0.0033 - root_mean_squared_error: 0.0572 - val_loss: 0.0033 - val_root_mean_squared_error: 0.0576 - learning_rate: 0.0010\n",
      "Epoch 7/50\n",
      "\u001b[1m388/388\u001b[0m \u001b[32m━━━━━━━━━━━━━━━━━━━━\u001b[0m\u001b[37m\u001b[0m \u001b[1m3s\u001b[0m 8ms/step - loss: 0.0033 - root_mean_squared_error: 0.0573 - val_loss: 0.0034 - val_root_mean_squared_error: 0.0582 - learning_rate: 0.0010\n",
      "Epoch 8/50\n",
      "\u001b[1m388/388\u001b[0m \u001b[32m━━━━━━━━━━━━━━━━━━━━\u001b[0m\u001b[37m\u001b[0m \u001b[1m4s\u001b[0m 9ms/step - loss: 0.0031 - root_mean_squared_error: 0.0560 - val_loss: 0.0032 - val_root_mean_squared_error: 0.0568 - learning_rate: 0.0010\n",
      "Epoch 9/50\n",
      "\u001b[1m388/388\u001b[0m \u001b[32m━━━━━━━━━━━━━━━━━━━━\u001b[0m\u001b[37m\u001b[0m \u001b[1m4s\u001b[0m 9ms/step - loss: 0.0031 - root_mean_squared_error: 0.0557 - val_loss: 0.0033 - val_root_mean_squared_error: 0.0571 - learning_rate: 0.0010\n",
      "Epoch 10/50\n",
      "\u001b[1m388/388\u001b[0m \u001b[32m━━━━━━━━━━━━━━━━━━━━\u001b[0m\u001b[37m\u001b[0m \u001b[1m4s\u001b[0m 9ms/step - loss: 0.0032 - root_mean_squared_error: 0.0569 - val_loss: 0.0032 - val_root_mean_squared_error: 0.0565 - learning_rate: 0.0010\n",
      "Epoch 11/50\n",
      "\u001b[1m388/388\u001b[0m \u001b[32m━━━━━━━━━━━━━━━━━━━━\u001b[0m\u001b[37m\u001b[0m \u001b[1m3s\u001b[0m 8ms/step - loss: 0.0032 - root_mean_squared_error: 0.0565 - val_loss: 0.0031 - val_root_mean_squared_error: 0.0560 - learning_rate: 0.0010\n",
      "Epoch 12/50\n",
      "\u001b[1m388/388\u001b[0m \u001b[32m━━━━━━━━━━━━━━━━━━━━\u001b[0m\u001b[37m\u001b[0m \u001b[1m3s\u001b[0m 8ms/step - loss: 0.0032 - root_mean_squared_error: 0.0565 - val_loss: 0.0031 - val_root_mean_squared_error: 0.0559 - learning_rate: 0.0010\n",
      "Epoch 13/50\n",
      "\u001b[1m388/388\u001b[0m \u001b[32m━━━━━━━━━━━━━━━━━━━━\u001b[0m\u001b[37m\u001b[0m \u001b[1m3s\u001b[0m 8ms/step - loss: 0.0031 - root_mean_squared_error: 0.0557 - val_loss: 0.0031 - val_root_mean_squared_error: 0.0558 - learning_rate: 0.0010\n",
      "Epoch 14/50\n",
      "\u001b[1m388/388\u001b[0m \u001b[32m━━━━━━━━━━━━━━━━━━━━\u001b[0m\u001b[37m\u001b[0m \u001b[1m3s\u001b[0m 9ms/step - loss: 0.0031 - root_mean_squared_error: 0.0558 - val_loss: 0.0032 - val_root_mean_squared_error: 0.0564 - learning_rate: 0.0010\n",
      "Epoch 15/50\n",
      "\u001b[1m388/388\u001b[0m \u001b[32m━━━━━━━━━━━━━━━━━━━━\u001b[0m\u001b[37m\u001b[0m \u001b[1m3s\u001b[0m 9ms/step - loss: 0.0031 - root_mean_squared_error: 0.0555 - val_loss: 0.0031 - val_root_mean_squared_error: 0.0559 - learning_rate: 0.0010\n",
      "Epoch 16/50\n",
      "\u001b[1m388/388\u001b[0m \u001b[32m━━━━━━━━━━━━━━━━━━━━\u001b[0m\u001b[37m\u001b[0m \u001b[1m4s\u001b[0m 10ms/step - loss: 0.0031 - root_mean_squared_error: 0.0553 - val_loss: 0.0032 - val_root_mean_squared_error: 0.0563 - learning_rate: 0.0010\n",
      "Epoch 17/50\n",
      "\u001b[1m388/388\u001b[0m \u001b[32m━━━━━━━━━━━━━━━━━━━━\u001b[0m\u001b[37m\u001b[0m \u001b[1m3s\u001b[0m 9ms/step - loss: 0.0032 - root_mean_squared_error: 0.0563 - val_loss: 0.0032 - val_root_mean_squared_error: 0.0563 - learning_rate: 0.0010\n",
      "Epoch 18/50\n",
      "\u001b[1m388/388\u001b[0m \u001b[32m━━━━━━━━━━━━━━━━━━━━\u001b[0m\u001b[37m\u001b[0m \u001b[1m4s\u001b[0m 9ms/step - loss: 0.0032 - root_mean_squared_error: 0.0562 - val_loss: 0.0031 - val_root_mean_squared_error: 0.0555 - learning_rate: 0.0010\n",
      "Epoch 19/50\n",
      "\u001b[1m388/388\u001b[0m \u001b[32m━━━━━━━━━━━━━━━━━━━━\u001b[0m\u001b[37m\u001b[0m \u001b[1m5s\u001b[0m 9ms/step - loss: 0.0031 - root_mean_squared_error: 0.0552 - val_loss: 0.0032 - val_root_mean_squared_error: 0.0564 - learning_rate: 0.0010\n",
      "Epoch 20/50\n",
      "\u001b[1m388/388\u001b[0m \u001b[32m━━━━━━━━━━━━━━━━━━━━\u001b[0m\u001b[37m\u001b[0m \u001b[1m4s\u001b[0m 9ms/step - loss: 0.0031 - root_mean_squared_error: 0.0557 - val_loss: 0.0032 - val_root_mean_squared_error: 0.0565 - learning_rate: 0.0010\n",
      "Epoch 21/50\n",
      "\u001b[1m388/388\u001b[0m \u001b[32m━━━━━━━━━━━━━━━━━━━━\u001b[0m\u001b[37m\u001b[0m \u001b[1m5s\u001b[0m 12ms/step - loss: 0.0030 - root_mean_squared_error: 0.0547 - val_loss: 0.0031 - val_root_mean_squared_error: 0.0558 - learning_rate: 0.0010\n",
      "Epoch 22/50\n",
      "\u001b[1m388/388\u001b[0m \u001b[32m━━━━━━━━━━━━━━━━━━━━\u001b[0m\u001b[37m\u001b[0m \u001b[1m4s\u001b[0m 10ms/step - loss: 0.0031 - root_mean_squared_error: 0.0552 - val_loss: 0.0031 - val_root_mean_squared_error: 0.0557 - learning_rate: 0.0010\n",
      "Epoch 23/50\n",
      "\u001b[1m388/388\u001b[0m \u001b[32m━━━━━━━━━━━━━━━━━━━━\u001b[0m\u001b[37m\u001b[0m \u001b[1m4s\u001b[0m 10ms/step - loss: 0.0032 - root_mean_squared_error: 0.0561 - val_loss: 0.0031 - val_root_mean_squared_error: 0.0558 - learning_rate: 0.0010\n",
      "Epoch 24/50\n",
      "\u001b[1m388/388\u001b[0m \u001b[32m━━━━━━━━━━━━━━━━━━━━\u001b[0m\u001b[37m\u001b[0m \u001b[1m5s\u001b[0m 10ms/step - loss: 0.0029 - root_mean_squared_error: 0.0542 - val_loss: 0.0030 - val_root_mean_squared_error: 0.0551 - learning_rate: 1.0000e-04\n",
      "Epoch 25/50\n",
      "\u001b[1m388/388\u001b[0m \u001b[32m━━━━━━━━━━━━━━━━━━━━\u001b[0m\u001b[37m\u001b[0m \u001b[1m4s\u001b[0m 9ms/step - loss: 0.0029 - root_mean_squared_error: 0.0540 - val_loss: 0.0030 - val_root_mean_squared_error: 0.0552 - learning_rate: 1.0000e-04\n",
      "Epoch 26/50\n",
      "\u001b[1m388/388\u001b[0m \u001b[32m━━━━━━━━━━━━━━━━━━━━\u001b[0m\u001b[37m\u001b[0m \u001b[1m4s\u001b[0m 10ms/step - loss: 0.0029 - root_mean_squared_error: 0.0542 - val_loss: 0.0030 - val_root_mean_squared_error: 0.0550 - learning_rate: 1.0000e-04\n",
      "Epoch 27/50\n",
      "\u001b[1m388/388\u001b[0m \u001b[32m━━━━━━━━━━━━━━━━━━━━\u001b[0m\u001b[37m\u001b[0m \u001b[1m4s\u001b[0m 10ms/step - loss: 0.0029 - root_mean_squared_error: 0.0537 - val_loss: 0.0030 - val_root_mean_squared_error: 0.0550 - learning_rate: 1.0000e-04\n",
      "Epoch 28/50\n",
      "\u001b[1m388/388\u001b[0m \u001b[32m━━━━━━━━━━━━━━━━━━━━\u001b[0m\u001b[37m\u001b[0m \u001b[1m3s\u001b[0m 9ms/step - loss: 0.0029 - root_mean_squared_error: 0.0535 - val_loss: 0.0030 - val_root_mean_squared_error: 0.0550 - learning_rate: 1.0000e-04\n",
      "Epoch 29/50\n",
      "\u001b[1m388/388\u001b[0m \u001b[32m━━━━━━━━━━━━━━━━━━━━\u001b[0m\u001b[37m\u001b[0m \u001b[1m4s\u001b[0m 10ms/step - loss: 0.0028 - root_mean_squared_error: 0.0532 - val_loss: 0.0030 - val_root_mean_squared_error: 0.0551 - learning_rate: 1.0000e-04\n",
      "Epoch 30/50\n",
      "\u001b[1m388/388\u001b[0m \u001b[32m━━━━━━━━━━━━━━━━━━━━\u001b[0m\u001b[37m\u001b[0m \u001b[1m4s\u001b[0m 10ms/step - loss: 0.0029 - root_mean_squared_error: 0.0535 - val_loss: 0.0030 - val_root_mean_squared_error: 0.0550 - learning_rate: 1.0000e-04\n",
      "Epoch 31/50\n",
      "\u001b[1m388/388\u001b[0m \u001b[32m━━━━━━━━━━━━━━━━━━━━\u001b[0m\u001b[37m\u001b[0m \u001b[1m3s\u001b[0m 8ms/step - loss: 0.0030 - root_mean_squared_error: 0.0544 - val_loss: 0.0030 - val_root_mean_squared_error: 0.0550 - learning_rate: 1.0000e-04\n",
      "Epoch 32/50\n",
      "\u001b[1m388/388\u001b[0m \u001b[32m━━━━━━━━━━━━━━━━━━━━\u001b[0m\u001b[37m\u001b[0m \u001b[1m3s\u001b[0m 8ms/step - loss: 0.0029 - root_mean_squared_error: 0.0541 - val_loss: 0.0030 - val_root_mean_squared_error: 0.0551 - learning_rate: 1.0000e-04\n",
      "Epoch 33/50\n",
      "\u001b[1m388/388\u001b[0m \u001b[32m━━━━━━━━━━━━━━━━━━━━\u001b[0m\u001b[37m\u001b[0m \u001b[1m3s\u001b[0m 9ms/step - loss: 0.0030 - root_mean_squared_error: 0.0548 - val_loss: 0.0030 - val_root_mean_squared_error: 0.0551 - learning_rate: 1.0000e-04\n",
      "Epoch 34/50\n",
      "\u001b[1m388/388\u001b[0m \u001b[32m━━━━━━━━━━━━━━━━━━━━\u001b[0m\u001b[37m\u001b[0m \u001b[1m3s\u001b[0m 8ms/step - loss: 0.0029 - root_mean_squared_error: 0.0538 - val_loss: 0.0030 - val_root_mean_squared_error: 0.0549 - learning_rate: 1.0000e-05\n",
      "Epoch 35/50\n",
      "\u001b[1m388/388\u001b[0m \u001b[32m━━━━━━━━━━━━━━━━━━━━\u001b[0m\u001b[37m\u001b[0m \u001b[1m4s\u001b[0m 10ms/step - loss: 0.0029 - root_mean_squared_error: 0.0538 - val_loss: 0.0030 - val_root_mean_squared_error: 0.0549 - learning_rate: 1.0000e-05\n",
      "Epoch 36/50\n",
      "\u001b[1m388/388\u001b[0m \u001b[32m━━━━━━━━━━━━━━━━━━━━\u001b[0m\u001b[37m\u001b[0m \u001b[1m4s\u001b[0m 10ms/step - loss: 0.0030 - root_mean_squared_error: 0.0544 - val_loss: 0.0030 - val_root_mean_squared_error: 0.0549 - learning_rate: 1.0000e-05\n",
      "Epoch 37/50\n",
      "\u001b[1m388/388\u001b[0m \u001b[32m━━━━━━━━━━━━━━━━━━━━\u001b[0m\u001b[37m\u001b[0m \u001b[1m4s\u001b[0m 9ms/step - loss: 0.0029 - root_mean_squared_error: 0.0535 - val_loss: 0.0030 - val_root_mean_squared_error: 0.0549 - learning_rate: 1.0000e-05\n",
      "Epoch 38/50\n",
      "\u001b[1m388/388\u001b[0m \u001b[32m━━━━━━━━━━━━━━━━━━━━\u001b[0m\u001b[37m\u001b[0m \u001b[1m4s\u001b[0m 10ms/step - loss: 0.0029 - root_mean_squared_error: 0.0542 - val_loss: 0.0030 - val_root_mean_squared_error: 0.0549 - learning_rate: 1.0000e-05\n",
      "Epoch 39/50\n",
      "\u001b[1m388/388\u001b[0m \u001b[32m━━━━━━━━━━━━━━━━━━━━\u001b[0m\u001b[37m\u001b[0m \u001b[1m4s\u001b[0m 10ms/step - loss: 0.0028 - root_mean_squared_error: 0.0532 - val_loss: 0.0030 - val_root_mean_squared_error: 0.0549 - learning_rate: 1.0000e-05\n",
      "Epoch 40/50\n",
      "\u001b[1m388/388\u001b[0m \u001b[32m━━━━━━━━━━━━━━━━━━━━\u001b[0m\u001b[37m\u001b[0m \u001b[1m4s\u001b[0m 9ms/step - loss: 0.0028 - root_mean_squared_error: 0.0532 - val_loss: 0.0030 - val_root_mean_squared_error: 0.0549 - learning_rate: 1.0000e-05\n",
      "Epoch 41/50\n",
      "\u001b[1m388/388\u001b[0m \u001b[32m━━━━━━━━━━━━━━━━━━━━\u001b[0m\u001b[37m\u001b[0m \u001b[1m3s\u001b[0m 9ms/step - loss: 0.0029 - root_mean_squared_error: 0.0540 - val_loss: 0.0030 - val_root_mean_squared_error: 0.0549 - learning_rate: 1.0000e-05\n",
      "Epoch 42/50\n",
      "\u001b[1m388/388\u001b[0m \u001b[32m━━━━━━━━━━━━━━━━━━━━\u001b[0m\u001b[37m\u001b[0m \u001b[1m4s\u001b[0m 10ms/step - loss: 0.0030 - root_mean_squared_error: 0.0543 - val_loss: 0.0030 - val_root_mean_squared_error: 0.0549 - learning_rate: 1.0000e-05\n",
      "Epoch 43/50\n",
      "\u001b[1m388/388\u001b[0m \u001b[32m━━━━━━━━━━━━━━━━━━━━\u001b[0m\u001b[37m\u001b[0m \u001b[1m4s\u001b[0m 10ms/step - loss: 0.0028 - root_mean_squared_error: 0.0532 - val_loss: 0.0030 - val_root_mean_squared_error: 0.0549 - learning_rate: 1.0000e-05\n",
      "Epoch 44/50\n",
      "\u001b[1m388/388\u001b[0m \u001b[32m━━━━━━━━━━━━━━━━━━━━\u001b[0m\u001b[37m\u001b[0m \u001b[1m4s\u001b[0m 10ms/step - loss: 0.0030 - root_mean_squared_error: 0.0545 - val_loss: 0.0030 - val_root_mean_squared_error: 0.0549 - learning_rate: 1.0000e-06\n",
      "Epoch 45/50\n",
      "\u001b[1m388/388\u001b[0m \u001b[32m━━━━━━━━━━━━━━━━━━━━\u001b[0m\u001b[37m\u001b[0m \u001b[1m4s\u001b[0m 9ms/step - loss: 0.0029 - root_mean_squared_error: 0.0537 - val_loss: 0.0030 - val_root_mean_squared_error: 0.0549 - learning_rate: 1.0000e-06\n",
      "Epoch 46/50\n",
      "\u001b[1m388/388\u001b[0m \u001b[32m━━━━━━━━━━━━━━━━━━━━\u001b[0m\u001b[37m\u001b[0m \u001b[1m4s\u001b[0m 11ms/step - loss: 0.0029 - root_mean_squared_error: 0.0536 - val_loss: 0.0030 - val_root_mean_squared_error: 0.0549 - learning_rate: 1.0000e-06\n",
      "Epoch 47/50\n",
      "\u001b[1m388/388\u001b[0m \u001b[32m━━━━━━━━━━━━━━━━━━━━\u001b[0m\u001b[37m\u001b[0m \u001b[1m4s\u001b[0m 9ms/step - loss: 0.0029 - root_mean_squared_error: 0.0540 - val_loss: 0.0030 - val_root_mean_squared_error: 0.0549 - learning_rate: 1.0000e-06\n",
      "Epoch 48/50\n",
      "\u001b[1m388/388\u001b[0m \u001b[32m━━━━━━━━━━━━━━━━━━━━\u001b[0m\u001b[37m\u001b[0m \u001b[1m4s\u001b[0m 9ms/step - loss: 0.0029 - root_mean_squared_error: 0.0538 - val_loss: 0.0030 - val_root_mean_squared_error: 0.0549 - learning_rate: 1.0000e-06\n",
      "Epoch 49/50\n",
      "\u001b[1m388/388\u001b[0m \u001b[32m━━━━━━━━━━━━━━━━━━━━\u001b[0m\u001b[37m\u001b[0m \u001b[1m4s\u001b[0m 9ms/step - loss: 0.0029 - root_mean_squared_error: 0.0542 - val_loss: 0.0030 - val_root_mean_squared_error: 0.0549 - learning_rate: 1.0000e-06\n",
      "Epoch 50/50\n",
      "\u001b[1m388/388\u001b[0m \u001b[32m━━━━━━━━━━━━━━━━━━━━\u001b[0m\u001b[37m\u001b[0m \u001b[1m4s\u001b[0m 9ms/step - loss: 0.0029 - root_mean_squared_error: 0.0536 - val_loss: 0.0030 - val_root_mean_squared_error: 0.0549 - learning_rate: 1.0000e-06\n"
     ]
    }
   ],
   "source": [
    "normalizer = Normalization()\n",
    "normalizer.adapt(X_train)\n",
    "rlrop = ReduceLROnPlateau(monitor='val_loss', factor=0.1, patience=10)\n",
    "\n",
    "model = Sequential()\n",
    "# 1D Convolutional layers\n",
    "model.add(Conv1D(filters=8, kernel_size=3, activation='relu', input_shape=X_train.shape[1:]))\n",
    "# model.add(Conv1D(filters=64, kernel_size=3, activation='relu'))\n",
    "# model.add(Conv1D(filters=32, kernel_size=3, activation='relu'))\n",
    "# Flatten the output of the Conv layers\n",
    "model.add(Flatten())\n",
    "# model.add(LSTM(input_shape = X_train.shape[1:], units=86, return_sequences=True))\n",
    "# model.add(LSTM(units=64, return_sequences=True))\n",
    "# model.add(GRU(units=86, return_sequences=True))\n",
    "# model.add(LSTM(units=128, return_sequences=True))\n",
    "# model.add(GRU(units=100, return_sequences=True))\n",
    "# model.add(LSTM(units=100, return_sequences=False))\n",
    "# model.add(Dense(units=100,  activation='relu'))\n",
    "# model.add(Dense(8, activation='relu'))\n",
    "\n",
    "model.add(Dense(units=FORECAST_LENGTH, activation='linear'))\n",
    "\n",
    "model.summary()\n",
    "\n",
    "model.compile(optimizer=Adam(learning_rate=0.001), metrics=[RootMeanSquaredError()] , loss=MeanSquaredError())\n",
    "\n",
    "history = model.fit(X_train, y_train, validation_data=(X_val,y_val), epochs=50, callbacks=[rlrop])\n",
    "\n",
    "# score = model.evaluate(X_test, y_test, verbose = 1)"
   ]
  },
  {
   "cell_type": "code",
   "execution_count": 13,
   "id": "5674b419-12bd-4a4e-a83d-2438ae813939",
   "metadata": {},
   "outputs": [
    {
     "name": "stdout",
     "output_type": "stream",
     "text": [
      "\u001b[1m122/122\u001b[0m \u001b[32m━━━━━━━━━━━━━━━━━━━━\u001b[0m\u001b[37m\u001b[0m \u001b[1m1s\u001b[0m 6ms/step\n"
     ]
    }
   ],
   "source": [
    "forecast = model.predict(X_test)"
   ]
  },
  {
   "cell_type": "code",
   "execution_count": 14,
   "id": "abb7c26e-b6e8-4526-aa4e-9180825c9d51",
   "metadata": {},
   "outputs": [],
   "source": [
    "poll = np.array(df[\"pm25\"])\n",
    "\n",
    "meanop = poll.mean()\n",
    "stdop = poll.std()\n",
    "\n",
    "y_test_true = y_test*stdop + meanop\n",
    "testPredict = forecast*stdop + meanop"
   ]
  },
  {
   "cell_type": "code",
   "execution_count": 15,
   "id": "cccf66c7-77a1-483d-8b28-e5df8056b4b6",
   "metadata": {},
   "outputs": [],
   "source": [
    "from sklearn.metrics import mean_squared_error"
   ]
  },
  {
   "cell_type": "code",
   "execution_count": 16,
   "id": "3e3a186b-a281-4964-9581-f8f73931e019",
   "metadata": {},
   "outputs": [
    {
     "name": "stdout",
     "output_type": "stream",
     "text": [
      "Test RMSE = 3.5172045\n"
     ]
    }
   ],
   "source": [
    "rmse = np.sqrt(mean_squared_error(y_test_true, testPredict))\n",
    "print(\"Test RMSE =\"  ,rmse)"
   ]
  },
  {
   "cell_type": "code",
   "execution_count": 17,
   "id": "a8c9fe94-b991-48aa-b917-115e04f18ffa",
   "metadata": {},
   "outputs": [
    {
     "data": {
      "text/plain": [
       "(3874, 168)"
      ]
     },
     "execution_count": 17,
     "metadata": {},
     "output_type": "execute_result"
    }
   ],
   "source": [
    "y_test_true.shape"
   ]
  },
  {
   "cell_type": "code",
   "execution_count": 18,
   "id": "a21c236d-93b7-4d0a-ba80-08ec2a83c3f8",
   "metadata": {},
   "outputs": [
    {
     "data": {
      "text/plain": [
       "(3874, 168)"
      ]
     },
     "execution_count": 18,
     "metadata": {},
     "output_type": "execute_result"
    }
   ],
   "source": [
    "testPredict.shape"
   ]
  },
  {
   "cell_type": "code",
   "execution_count": 19,
   "id": "9c9037be-c096-476c-8472-bec3a194b54d",
   "metadata": {},
   "outputs": [],
   "source": [
    "import numpy as np\n",
    "\n",
    "def calculate_segment_rmse(predictions, actuals, segment_length=1):\n",
    "    num_segments = predictions.shape[1] // segment_length\n",
    "    rmses = []\n",
    "    \n",
    "    for i in range(num_segments):\n",
    "        start_idx = i * segment_length\n",
    "        end_idx = start_idx + segment_length\n",
    "        \n",
    "        # Extract the segment for both predictions and actuals\n",
    "        pred_segment = predictions[:, start_idx:end_idx]\n",
    "        actual_segment = actuals[:, start_idx:end_idx]\n",
    "        \n",
    "        # Calculate RMSE for this segment\n",
    "        segment_rmse = np.sqrt(mean_squared_error(actual_segment.flatten(), pred_segment.flatten()))\n",
    "        rmses.append(segment_rmse)\n",
    "    \n",
    "    return rmses"
   ]
  },
  {
   "cell_type": "code",
   "execution_count": 20,
   "id": "13b4f256-db53-49f0-a277-65259836076c",
   "metadata": {},
   "outputs": [
    {
     "name": "stdout",
     "output_type": "stream",
     "text": [
      "RMSE for segment 1: 0.7603\n",
      "RMSE for segment 2: 1.1413\n",
      "RMSE for segment 3: 1.5626\n",
      "RMSE for segment 4: 1.8698\n",
      "RMSE for segment 5: 2.1294\n",
      "RMSE for segment 6: 2.3465\n",
      "RMSE for segment 7: 2.4991\n",
      "RMSE for segment 8: 2.6040\n",
      "RMSE for segment 9: 2.6869\n",
      "RMSE for segment 10: 2.7366\n",
      "RMSE for segment 11: 2.7662\n",
      "RMSE for segment 12: 2.7775\n",
      "RMSE for segment 13: 2.8197\n",
      "RMSE for segment 14: 2.8729\n",
      "RMSE for segment 15: 2.9396\n",
      "RMSE for segment 16: 2.9450\n",
      "RMSE for segment 17: 2.9251\n",
      "RMSE for segment 18: 2.9185\n",
      "RMSE for segment 19: 2.8994\n",
      "RMSE for segment 20: 2.8786\n",
      "RMSE for segment 21: 2.8618\n",
      "RMSE for segment 22: 2.8618\n",
      "RMSE for segment 23: 2.8667\n",
      "RMSE for segment 24: 2.9031\n",
      "RMSE for segment 25: 2.9743\n",
      "RMSE for segment 26: 2.9840\n",
      "RMSE for segment 27: 3.0243\n",
      "RMSE for segment 28: 3.0787\n",
      "RMSE for segment 29: 3.1409\n",
      "RMSE for segment 30: 3.1659\n",
      "RMSE for segment 31: 3.1815\n",
      "RMSE for segment 32: 3.2186\n",
      "RMSE for segment 33: 3.2810\n",
      "RMSE for segment 34: 3.3024\n",
      "RMSE for segment 35: 3.2661\n",
      "RMSE for segment 36: 3.2446\n",
      "RMSE for segment 37: 3.2450\n",
      "RMSE for segment 38: 3.2599\n",
      "RMSE for segment 39: 3.2896\n",
      "RMSE for segment 40: 3.3287\n",
      "RMSE for segment 41: 3.3487\n",
      "RMSE for segment 42: 3.3701\n",
      "RMSE for segment 43: 3.3771\n",
      "RMSE for segment 44: 3.3976\n",
      "RMSE for segment 45: 3.4056\n",
      "RMSE for segment 46: 3.3883\n",
      "RMSE for segment 47: 3.3908\n",
      "RMSE for segment 48: 3.4242\n",
      "RMSE for segment 49: 3.4375\n",
      "RMSE for segment 50: 3.4204\n",
      "RMSE for segment 51: 3.4373\n",
      "RMSE for segment 52: 3.4606\n",
      "RMSE for segment 53: 3.4686\n",
      "RMSE for segment 54: 3.4772\n",
      "RMSE for segment 55: 3.4924\n",
      "RMSE for segment 56: 3.4988\n",
      "RMSE for segment 57: 3.4932\n",
      "RMSE for segment 58: 3.5061\n",
      "RMSE for segment 59: 3.4813\n",
      "RMSE for segment 60: 3.4979\n",
      "RMSE for segment 61: 3.4706\n",
      "RMSE for segment 62: 3.4594\n",
      "RMSE for segment 63: 3.4700\n",
      "RMSE for segment 64: 3.4699\n",
      "RMSE for segment 65: 3.4869\n",
      "RMSE for segment 66: 3.5220\n",
      "RMSE for segment 67: 3.5523\n",
      "RMSE for segment 68: 3.5487\n",
      "RMSE for segment 69: 3.5736\n",
      "RMSE for segment 70: 3.6246\n",
      "RMSE for segment 71: 3.6600\n",
      "RMSE for segment 72: 3.6644\n",
      "RMSE for segment 73: 3.6831\n",
      "RMSE for segment 74: 3.6953\n",
      "RMSE for segment 75: 3.7045\n",
      "RMSE for segment 76: 3.7175\n",
      "RMSE for segment 77: 3.7168\n",
      "RMSE for segment 78: 3.7552\n",
      "RMSE for segment 79: 3.7629\n",
      "RMSE for segment 80: 3.7909\n",
      "RMSE for segment 81: 3.7881\n",
      "RMSE for segment 82: 3.7580\n",
      "RMSE for segment 83: 3.7243\n",
      "RMSE for segment 84: 3.7281\n",
      "RMSE for segment 85: 3.7464\n",
      "RMSE for segment 86: 3.7353\n",
      "RMSE for segment 87: 3.7261\n",
      "RMSE for segment 88: 3.7189\n",
      "RMSE for segment 89: 3.6892\n",
      "RMSE for segment 90: 3.6560\n",
      "RMSE for segment 91: 3.6038\n",
      "RMSE for segment 92: 3.5807\n",
      "RMSE for segment 93: 3.5887\n",
      "RMSE for segment 94: 3.6008\n",
      "RMSE for segment 95: 3.6005\n",
      "RMSE for segment 96: 3.6079\n",
      "RMSE for segment 97: 3.6336\n",
      "RMSE for segment 98: 3.6680\n",
      "RMSE for segment 99: 3.7181\n",
      "RMSE for segment 100: 3.7561\n",
      "RMSE for segment 101: 3.8012\n",
      "RMSE for segment 102: 3.8315\n",
      "RMSE for segment 103: 3.8193\n",
      "RMSE for segment 104: 3.8135\n",
      "RMSE for segment 105: 3.7928\n",
      "RMSE for segment 106: 3.7788\n",
      "RMSE for segment 107: 3.7316\n",
      "RMSE for segment 108: 3.7145\n",
      "RMSE for segment 109: 3.7048\n",
      "RMSE for segment 110: 3.7283\n",
      "RMSE for segment 111: 3.7691\n",
      "RMSE for segment 112: 3.8346\n",
      "RMSE for segment 113: 3.8906\n",
      "RMSE for segment 114: 3.8977\n",
      "RMSE for segment 115: 3.8901\n",
      "RMSE for segment 116: 3.8906\n",
      "RMSE for segment 117: 3.8803\n",
      "RMSE for segment 118: 3.8417\n",
      "RMSE for segment 119: 3.8144\n",
      "RMSE for segment 120: 3.8005\n",
      "RMSE for segment 121: 3.7866\n",
      "RMSE for segment 122: 3.7958\n",
      "RMSE for segment 123: 3.8310\n",
      "RMSE for segment 124: 3.8453\n",
      "RMSE for segment 125: 3.8214\n",
      "RMSE for segment 126: 3.8101\n",
      "RMSE for segment 127: 3.8017\n",
      "RMSE for segment 128: 3.7898\n",
      "RMSE for segment 129: 3.7536\n",
      "RMSE for segment 130: 3.7234\n",
      "RMSE for segment 131: 3.7004\n",
      "RMSE for segment 132: 3.6902\n",
      "RMSE for segment 133: 3.6826\n",
      "RMSE for segment 134: 3.6609\n",
      "RMSE for segment 135: 3.6702\n",
      "RMSE for segment 136: 3.6669\n",
      "RMSE for segment 137: 3.6990\n",
      "RMSE for segment 138: 3.7195\n",
      "RMSE for segment 139: 3.7498\n",
      "RMSE for segment 140: 3.7854\n",
      "RMSE for segment 141: 3.7772\n",
      "RMSE for segment 142: 3.7871\n",
      "RMSE for segment 143: 3.7667\n",
      "RMSE for segment 144: 3.7802\n",
      "RMSE for segment 145: 3.7899\n",
      "RMSE for segment 146: 3.7814\n",
      "RMSE for segment 147: 3.7629\n",
      "RMSE for segment 148: 3.7382\n",
      "RMSE for segment 149: 3.7175\n",
      "RMSE for segment 150: 3.7044\n",
      "RMSE for segment 151: 3.7120\n",
      "RMSE for segment 152: 3.7691\n",
      "RMSE for segment 153: 3.8454\n",
      "RMSE for segment 154: 3.8852\n",
      "RMSE for segment 155: 3.8924\n",
      "RMSE for segment 156: 3.8696\n",
      "RMSE for segment 157: 3.8341\n",
      "RMSE for segment 158: 3.8129\n",
      "RMSE for segment 159: 3.8295\n",
      "RMSE for segment 160: 3.8642\n",
      "RMSE for segment 161: 3.8995\n",
      "RMSE for segment 162: 3.9066\n",
      "RMSE for segment 163: 3.9286\n",
      "RMSE for segment 164: 3.9269\n",
      "RMSE for segment 165: 3.9305\n",
      "RMSE for segment 166: 3.9524\n",
      "RMSE for segment 167: 3.9971\n",
      "RMSE for segment 168: 4.0546\n"
     ]
    }
   ],
   "source": [
    "segment_rmses = calculate_segment_rmse(testPredict, y_test_true)\n",
    "for i, rmse in enumerate(segment_rmses):\n",
    "    print(f\"RMSE for segment {i + 1}: {rmse:.4f}\")"
   ]
  },
  {
   "cell_type": "code",
   "execution_count": 21,
   "id": "7654b701-6ba9-4602-8611-59820b6311e4",
   "metadata": {},
   "outputs": [
    {
     "data": {
      "text/plain": [
       "array([[0.08048381, 0.07467578, 0.06992105, ..., 0.08197425, 0.08020122,\n",
       "        0.07953435],\n",
       "       [0.10448924, 0.10192487, 0.10453976, ..., 0.1626497 , 0.15221184,\n",
       "        0.14641044],\n",
       "       [0.05743064, 0.05653492, 0.05456128, ..., 0.05848379, 0.05706321,\n",
       "        0.05670088],\n",
       "       ...,\n",
       "       [0.15346214, 0.15776126, 0.1708462 , ..., 0.19479358, 0.18172857,\n",
       "        0.1671418 ],\n",
       "       [0.45238256, 0.4341074 , 0.36444584, ..., 0.37625173, 0.3804539 ,\n",
       "        0.36466834],\n",
       "       [0.04589932, 0.04859518, 0.05199139, ..., 0.04744203, 0.05138961,\n",
       "        0.0554092 ]], dtype=float32)"
      ]
     },
     "execution_count": 21,
     "metadata": {},
     "output_type": "execute_result"
    }
   ],
   "source": [
    "forecast"
   ]
  },
  {
   "cell_type": "code",
   "execution_count": 22,
   "id": "7ea98a00-c789-49d3-bdfe-1c06c5364c33",
   "metadata": {},
   "outputs": [
    {
     "data": {
      "text/plain": [
       "array([[ 83.83237 ,  83.45889 ,  83.15315 , ...,  83.92821 ,  83.81419 ,\n",
       "         83.77132 ],\n",
       "       [ 85.37599 ,  85.21109 ,  85.379234, ...,  89.11588 ,  88.444695,\n",
       "         88.07165 ],\n",
       "       [ 82.34998 ,  82.29238 ,  82.165474, ...,  82.4177  ,  82.326355,\n",
       "         82.303055],\n",
       "       ...,\n",
       "       [ 88.52509 ,  88.80154 ,  89.64294 , ...,  91.18283 ,  90.342705,\n",
       "         89.40473 ],\n",
       "       [107.74657 , 106.57141 , 102.09197 , ..., 102.85112 , 103.12134 ,\n",
       "        102.10628 ],\n",
       "       [ 81.60848 ,  81.78184 ,  82.00022 , ...,  81.70769 ,  81.961525,\n",
       "         82.21999 ]], dtype=float32)"
      ]
     },
     "execution_count": 22,
     "metadata": {},
     "output_type": "execute_result"
    }
   ],
   "source": [
    "testPredict"
   ]
  },
  {
   "cell_type": "code",
   "execution_count": 23,
   "id": "4e4e0314-523d-408f-9858-83e62f6ef22e",
   "metadata": {},
   "outputs": [
    {
     "data": {
      "text/plain": [
       "array([[ 83.99237 ,  84.028305,  84.06532 , ...,  84.86345 ,  84.463844,\n",
       "         84.06532 ],\n",
       "       [ 85.29899 ,  85.33492 ,  85.37194 , ...,  88.02111 ,  87.07708 ,\n",
       "         86.13413 ],\n",
       "       [ 82.17726 ,  81.77875 ,  81.379135, ...,  83.085365,  83.15723 ,\n",
       "         83.23018 ],\n",
       "       ...,\n",
       "       [ 87.912224,  88.5296  ,  89.14589 , ..., 103.372765,  99.88737 ,\n",
       "         96.40305 ],\n",
       "       [105.4786  , 103.48274 , 101.23209 , ..., 100.50692 ,  99.56289 ,\n",
       "         99.45401 ],\n",
       "       [ 81.63284 ,  81.99651 ,  82.3591  , ...,  80.72583 ,  81.379135,\n",
       "         82.03245 ]], dtype=float32)"
      ]
     },
     "execution_count": 23,
     "metadata": {},
     "output_type": "execute_result"
    }
   ],
   "source": [
    "y_test_true"
   ]
  },
  {
   "cell_type": "code",
   "execution_count": 72,
   "id": "f4750aac-95f7-4e91-8a8f-2c7a1b8f9821",
   "metadata": {},
   "outputs": [],
   "source": [
    "last_input = X_test[-1]"
   ]
  },
  {
   "cell_type": "code",
   "execution_count": 73,
   "id": "05f51012-a2c6-4bd7-a6e5-c63304d4a532",
   "metadata": {},
   "outputs": [
    {
     "data": {
      "text/plain": [
       "(168, 1)"
      ]
     },
     "execution_count": 73,
     "metadata": {},
     "output_type": "execute_result"
    }
   ],
   "source": [
    "last_input.shape"
   ]
  },
  {
   "cell_type": "code",
   "execution_count": 74,
   "id": "62ac89ac-a2a6-45b8-91b9-97f7a76a3b9c",
   "metadata": {},
   "outputs": [],
   "source": [
    "last_input = last_input.reshape(168,)"
   ]
  },
  {
   "cell_type": "code",
   "execution_count": 77,
   "id": "d5a7240d-c5bc-4310-9013-b5d388cfdc9b",
   "metadata": {},
   "outputs": [
    {
     "name": "stdout",
     "output_type": "stream",
     "text": [
      "\u001b[1m1/1\u001b[0m \u001b[32m━━━━━━━━━━━━━━━━━━━━\u001b[0m\u001b[37m\u001b[0m \u001b[1m0s\u001b[0m 44ms/step\n"
     ]
    }
   ],
   "source": [
    "# predictions = []\n",
    "# for _ in range(168):\n",
    "#     # Predict the next value\n",
    "#     print(last_input)\n",
    "predicted_value = model.predict(last_input.reshape(1, 168, 1))[0]\n",
    "predicted_value = predicted_value\n",
    "predicted_value = predicted_value * stdop + meanop\n",
    "    # predictions.append(predicted_value)\n",
    "    \n",
    "#     # Update the input sequence for the next iteration\n",
    "#     last_input = np.append(last_input[1:], predicted_value)\n",
    "# print(predictions)"
   ]
  },
  {
   "cell_type": "code",
   "execution_count": 78,
   "id": "c00705b9-7e0e-44a7-8ad7-322c750f0846",
   "metadata": {},
   "outputs": [
    {
     "data": {
      "text/plain": [
       "array([ 88.56814 ,  87.0865  ,  85.89468 ,  85.56283 ,  85.12053 ,\n",
       "        84.926125,  84.82616 ,  84.900276,  85.012024,  86.242004,\n",
       "        87.66179 ,  89.064674,  93.91494 ,  98.99813 , 103.95776 ,\n",
       "       104.310104, 104.34928 , 104.4447  , 102.89404 , 101.59718 ,\n",
       "        99.94553 ,  96.863625,  93.75132 ,  90.66343 ,  89.166595,\n",
       "        88.023994,  86.89277 ,  86.74036 ,  86.463684,  86.19579 ,\n",
       "        86.0873  ,  85.94686 ,  85.92076 ,  86.63535 ,  87.637215,\n",
       "        88.65329 ,  93.195015,  98.06164 , 103.030815, 104.152336,\n",
       "       104.91652 , 105.34003 , 103.85257 , 102.05101 , 100.2362  ,\n",
       "        96.88373 ,  93.53139 ,  90.27503 ,  88.84191 ,  87.40513 ,\n",
       "        86.02289 ,  85.74353 ,  85.2294  ,  85.013855,  84.87958 ,\n",
       "        85.02116 ,  85.15712 ,  86.54288 ,  88.187225,  89.803764,\n",
       "        94.41786 ,  99.27209 , 104.060486, 104.77241 , 105.30119 ,\n",
       "       105.5344  , 103.812996, 101.92653 ,  99.97254 ,  96.67348 ,\n",
       "        93.36318 ,  90.06612 ,  88.883865,  87.41988 ,  86.257996,\n",
       "        85.89323 ,  85.52318 ,  85.32102 ,  85.212135,  85.41734 ,\n",
       "        85.44294 ,  86.88772 ,  88.42813 ,  89.87231 ,  94.3871  ,\n",
       "        98.89175 , 103.51255 , 103.988144, 104.30536 , 104.463875,\n",
       "       102.83104 , 101.23766 ,  99.395615,  96.23447 ,  93.1072  ,\n",
       "        89.88361 ,  88.44426 ,  86.93304 ,  85.7267  ,  85.42998 ,\n",
       "        85.09143 ,  84.877815,  84.80253 ,  84.91784 ,  85.04701 ,\n",
       "        86.415215,  88.053856,  89.80704 ,  94.46972 ,  99.05317 ,\n",
       "       103.772835, 104.54094 , 105.160934, 105.37355 , 103.89804 ,\n",
       "       102.175186, 100.05637 ,  96.5805  ,  93.22951 ,  90.03805 ,\n",
       "        88.65351 ,  87.337814,  86.35747 ,  86.130104,  85.854004,\n",
       "        85.574486,  85.344345,  85.20817 ,  85.342766,  86.753914,\n",
       "        88.379616,  89.999084,  94.50329 ,  99.009476, 103.636116,\n",
       "       104.42882 , 104.9364  , 105.28834 , 103.75739 , 102.01799 ,\n",
       "       100.146355,  96.90202 ,  93.48583 ,  90.24728 ,  88.81865 ,\n",
       "        87.354706,  86.20567 ,  85.82206 ,  85.37863 ,  84.93696 ,\n",
       "        84.807556,  84.88998 ,  85.16136 ,  86.582886,  88.23338 ,\n",
       "        89.8009  ,  94.47478 ,  99.04369 , 103.914474, 104.657936,\n",
       "       105.368095, 105.70474 , 104.150024, 102.449455, 100.35277 ,\n",
       "        97.01424 ,  93.68242 ,  90.398506], dtype=float32)"
      ]
     },
     "execution_count": 78,
     "metadata": {},
     "output_type": "execute_result"
    }
   ],
   "source": [
    "predicted_value"
   ]
  },
  {
   "cell_type": "code",
   "execution_count": 35,
   "id": "f8fa1a80-49c3-4ac6-ab8c-32f45070d7d4",
   "metadata": {},
   "outputs": [
    {
     "data": {
      "text/plain": [
       "array([30.597725, 26.346886, 28.059309, 31.56474 , 28.663692, 29.550125,\n",
       "       30.980501, 25.601479, 27.394485, 29.328516, 29.932901, 28.583109,\n",
       "       27.172878, 28.139893, 31.504303, 29.932901, 25.601479, 26.346886,\n",
       "       26.125278, 29.187494, 27.53551 , 28.663692, 30.899918, 27.253462,\n",
       "       29.630709, 25.682062, 30.013485, 27.918285, 26.649078, 28.059309,\n",
       "       25.299286, 29.550125, 26.870686, 28.804716, 26.2663  , 28.361502,\n",
       "       26.2663  , 31.806494, 25.682062, 25.762648, 28.804716, 25.984255,\n",
       "       28.663692, 26.346886, 26.649078, 28.804716, 24.553877, 26.508055,\n",
       "       29.187494, 25.823086, 28.885302, 30.456701, 30.235092, 28.744278,\n",
       "       24.715046, 29.187494, 25.238846, 29.630709, 27.47507 , 30.376118,\n",
       "       29.711294, 24.553877, 31.423717, 29.106909, 29.026325, 25.460455,\n",
       "       28.139893, 24.775486, 30.980501, 27.01171 , 27.696678, 24.997093,\n",
       "       25.460455, 27.777262, 29.106909, 27.8377  , 28.965885, 28.059309,\n",
       "       29.550125, 29.932901, 28.583109, 30.013485, 24.997093, 29.026325,\n",
       "       28.804716, 24.936655, 28.52267 , 27.172878, 27.53551 , 28.361502,\n",
       "       28.885302, 25.90367 , 28.744278, 29.187494, 26.7901  , 25.90367 ,\n",
       "       25.37987 , 25.460455, 27.696678, 24.775486, 26.568493, 30.235092,\n",
       "       27.01171 , 27.918285, 26.346886, 28.744278, 27.253462, 27.092293,\n",
       "       26.125278, 26.42747 , 29.550125, 26.42747 , 25.37987 , 28.583109,\n",
       "       29.550125, 28.885302, 25.984255, 28.965885, 24.775486, 29.489685,\n",
       "       27.616093, 29.489685, 28.139893, 25.823086, 30.073925, 29.268078,\n",
       "       26.7901  , 28.804716, 29.187494, 30.376118, 28.583109, 28.361502,\n",
       "       27.092293, 30.235092, 30.758894, 28.361502, 28.280916, 27.8377  ,\n",
       "       27.01171 , 26.205862, 27.918285, 25.238846, 29.932901, 27.092293,\n",
       "       29.550125, 27.394485, 28.885302, 28.804716, 28.059309, 25.37987 ,\n",
       "       29.409101, 28.139893, 27.47507 , 25.984255, 26.346886, 27.092293,\n",
       "       28.139893, 29.489685, 28.663692, 29.711294, 26.951271, 27.8377  ,\n",
       "       27.172878, 28.220478, 28.361502, 30.376118, 31.121525, 28.442085],\n",
       "      dtype=float32)"
      ]
     },
     "execution_count": 35,
     "metadata": {},
     "output_type": "execute_result"
    }
   ],
   "source": [
    "y_test[-168:].ravel() * stdop + meanop"
   ]
  },
  {
   "cell_type": "code",
   "execution_count": 24,
   "id": "85765500-cf61-4e8a-8763-69a8f1e567ca",
   "metadata": {},
   "outputs": [],
   "source": [
    "model.save(\"pm25_1dcnn.keras\")"
   ]
  }
 ],
 "metadata": {
  "kernelspec": {
   "display_name": "Python 3 (ipykernel)",
   "language": "python",
   "name": "python3"
  },
  "language_info": {
   "codemirror_mode": {
    "name": "ipython",
    "version": 3
   },
   "file_extension": ".py",
   "mimetype": "text/x-python",
   "name": "python",
   "nbconvert_exporter": "python",
   "pygments_lexer": "ipython3",
   "version": "3.11.0"
  }
 },
 "nbformat": 4,
 "nbformat_minor": 5
}
