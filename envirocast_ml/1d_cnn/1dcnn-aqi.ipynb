{
 "cells": [
  {
   "cell_type": "code",
   "execution_count": 1,
   "id": "08a7b78b-1d09-454f-8ecc-7c4184ab2240",
   "metadata": {},
   "outputs": [],
   "source": [
    "import pandas as pd\n",
    "import numpy as np"
   ]
  },
  {
   "cell_type": "code",
   "execution_count": 2,
   "id": "c1570c26-8e22-4498-9fe6-68e055e504a9",
   "metadata": {},
   "outputs": [],
   "source": [
    "df = pd.read_csv(\"../data/data_imputed_2.csv\")"
   ]
  },
  {
   "cell_type": "code",
   "execution_count": 3,
   "id": "55868db8-2144-49a3-9531-e4bf0728f0a2",
   "metadata": {},
   "outputs": [
    {
     "data": {
      "text/html": [
       "<div>\n",
       "<style scoped>\n",
       "    .dataframe tbody tr th:only-of-type {\n",
       "        vertical-align: middle;\n",
       "    }\n",
       "\n",
       "    .dataframe tbody tr th {\n",
       "        vertical-align: top;\n",
       "    }\n",
       "\n",
       "    .dataframe thead th {\n",
       "        text-align: right;\n",
       "    }\n",
       "</style>\n",
       "<table border=\"1\" class=\"dataframe\">\n",
       "  <thead>\n",
       "    <tr style=\"text-align: right;\">\n",
       "      <th></th>\n",
       "      <th>timestamp_local</th>\n",
       "      <th>temp</th>\n",
       "      <th>city_name</th>\n",
       "      <th>country_code</th>\n",
       "      <th>aqi</th>\n",
       "      <th>co</th>\n",
       "      <th>no2</th>\n",
       "      <th>o3</th>\n",
       "      <th>pm10</th>\n",
       "      <th>pm25</th>\n",
       "      <th>so2</th>\n",
       "    </tr>\n",
       "  </thead>\n",
       "  <tbody>\n",
       "    <tr>\n",
       "      <th>0</th>\n",
       "      <td>01/02/2022 0:00</td>\n",
       "      <td>12.6</td>\n",
       "      <td>Gujrāt</td>\n",
       "      <td>PK</td>\n",
       "      <td>385</td>\n",
       "      <td>1339.8</td>\n",
       "      <td>76.0</td>\n",
       "      <td>10.7</td>\n",
       "      <td>491.7</td>\n",
       "      <td>347.67</td>\n",
       "      <td>238.0</td>\n",
       "    </tr>\n",
       "    <tr>\n",
       "      <th>1</th>\n",
       "      <td>01/02/2022 1:00</td>\n",
       "      <td>11.5</td>\n",
       "      <td>Gujrāt</td>\n",
       "      <td>PK</td>\n",
       "      <td>404</td>\n",
       "      <td>1437.6</td>\n",
       "      <td>76.0</td>\n",
       "      <td>9.3</td>\n",
       "      <td>508.3</td>\n",
       "      <td>359.33</td>\n",
       "      <td>268.0</td>\n",
       "    </tr>\n",
       "    <tr>\n",
       "      <th>2</th>\n",
       "      <td>01/02/2022 2:00</td>\n",
       "      <td>11.9</td>\n",
       "      <td>Gujrāt</td>\n",
       "      <td>PK</td>\n",
       "      <td>421</td>\n",
       "      <td>1535.5</td>\n",
       "      <td>76.0</td>\n",
       "      <td>8.0</td>\n",
       "      <td>525.0</td>\n",
       "      <td>371.00</td>\n",
       "      <td>298.0</td>\n",
       "    </tr>\n",
       "    <tr>\n",
       "      <th>3</th>\n",
       "      <td>01/02/2022 3:00</td>\n",
       "      <td>12.2</td>\n",
       "      <td>Gujrāt</td>\n",
       "      <td>PK</td>\n",
       "      <td>425</td>\n",
       "      <td>1659.0</td>\n",
       "      <td>68.3</td>\n",
       "      <td>5.3</td>\n",
       "      <td>529.3</td>\n",
       "      <td>374.00</td>\n",
       "      <td>275.7</td>\n",
       "    </tr>\n",
       "    <tr>\n",
       "      <th>4</th>\n",
       "      <td>01/02/2022 4:00</td>\n",
       "      <td>11.9</td>\n",
       "      <td>Gujrāt</td>\n",
       "      <td>PK</td>\n",
       "      <td>430</td>\n",
       "      <td>1782.5</td>\n",
       "      <td>60.7</td>\n",
       "      <td>2.7</td>\n",
       "      <td>533.7</td>\n",
       "      <td>377.00</td>\n",
       "      <td>253.3</td>\n",
       "    </tr>\n",
       "  </tbody>\n",
       "</table>\n",
       "</div>"
      ],
      "text/plain": [
       "   timestamp_local  temp city_name country_code  aqi      co   no2    o3  \\\n",
       "0  01/02/2022 0:00  12.6    Gujrāt           PK  385  1339.8  76.0  10.7   \n",
       "1  01/02/2022 1:00  11.5    Gujrāt           PK  404  1437.6  76.0   9.3   \n",
       "2  01/02/2022 2:00  11.9    Gujrāt           PK  421  1535.5  76.0   8.0   \n",
       "3  01/02/2022 3:00  12.2    Gujrāt           PK  425  1659.0  68.3   5.3   \n",
       "4  01/02/2022 4:00  11.9    Gujrāt           PK  430  1782.5  60.7   2.7   \n",
       "\n",
       "    pm10    pm25    so2  \n",
       "0  491.7  347.67  238.0  \n",
       "1  508.3  359.33  268.0  \n",
       "2  525.0  371.00  298.0  \n",
       "3  529.3  374.00  275.7  \n",
       "4  533.7  377.00  253.3  "
      ]
     },
     "execution_count": 3,
     "metadata": {},
     "output_type": "execute_result"
    }
   ],
   "source": [
    "df.head()"
   ]
  },
  {
   "cell_type": "code",
   "execution_count": 4,
   "id": "1957f406-a837-4345-8d16-7835bd855082",
   "metadata": {},
   "outputs": [],
   "source": [
    "from sklearn.model_selection import train_test_split\n",
    "import matplotlib.pyplot as plt\n",
    "import seaborn as sns"
   ]
  },
  {
   "cell_type": "code",
   "execution_count": 5,
   "id": "d7e3c4f9-7208-48a1-bee4-1a89c09e2714",
   "metadata": {},
   "outputs": [],
   "source": [
    "data = df[['aqi']]"
   ]
  },
  {
   "cell_type": "code",
   "execution_count": 6,
   "id": "a2eedd5e-c6fa-43b7-9458-5deca00f11fb",
   "metadata": {},
   "outputs": [],
   "source": [
    "from sklearn.preprocessing import MinMaxScaler\n",
    "values = data.values\n",
    "\n",
    "values = values.astype('float32')\n",
    "\n",
    "scaler = MinMaxScaler(feature_range=(0, 1))\n",
    "scaled = scaler.fit_transform(values)"
   ]
  },
  {
   "cell_type": "code",
   "execution_count": 7,
   "id": "6769d15d-c80b-41b2-9b8a-70bd947bdf6b",
   "metadata": {},
   "outputs": [
    {
     "data": {
      "text/plain": [
       "(19706, 1)"
      ]
     },
     "execution_count": 7,
     "metadata": {},
     "output_type": "execute_result"
    }
   ],
   "source": [
    "scaled.shape"
   ]
  },
  {
   "cell_type": "code",
   "execution_count": 8,
   "id": "d93f3d70-328f-40a2-9403-0e22e9802560",
   "metadata": {},
   "outputs": [],
   "source": [
    "scaled = scaled.reshape((19706,))"
   ]
  },
  {
   "cell_type": "code",
   "execution_count": 9,
   "id": "09f5ccf2-8abf-4b08-8051-cb206ea52fad",
   "metadata": {},
   "outputs": [
    {
     "data": {
      "text/plain": [
       "(19706,)"
      ]
     },
     "execution_count": 9,
     "metadata": {},
     "output_type": "execute_result"
    }
   ],
   "source": [
    "scaled.shape"
   ]
  },
  {
   "cell_type": "code",
   "execution_count": 10,
   "id": "071ee44c-f600-41f6-9490-6cda18be3d8d",
   "metadata": {},
   "outputs": [],
   "source": [
    "def df_to_X_y(df, window_size, forecast_length):\n",
    "    # df_as_np = df.to_numpy()\n",
    "    X = []\n",
    "    y = []\n",
    "    \n",
    "    for i in range(len(df) - window_size - forecast_length):\n",
    "        row_x = [[a] for a in df[i:i+window_size]]\n",
    "        \n",
    "        X.append(row_x)\n",
    "        # row_y = df_as_np[i+window_size]\n",
    "        row_y = [b for b in df[i+window_size:i+window_size+forecast_length]]\n",
    "        \n",
    "        y.append(row_y)\n",
    "        \n",
    "    return np.array(X), np.array(y)"
   ]
  },
  {
   "cell_type": "code",
   "execution_count": 11,
   "id": "c118b905-bab3-4abf-b257-253d7ea2bb98",
   "metadata": {},
   "outputs": [],
   "source": [
    "WINDOW_WIDTH = 168\n",
    "FORECAST_LENGTH = 168\n",
    "X, y = df_to_X_y(scaled, WINDOW_WIDTH, FORECAST_LENGTH)\n",
    "\n",
    "\n",
    "X_train, X_test, y_train, y_test = train_test_split(X, y, test_size=0.2, random_state=0)\n",
    "X_train, X_val, y_train, y_val = train_test_split(X_train, y_train, test_size=0.2, random_state=0)\n",
    "\n",
    "X_max = X_train.max()\n",
    "X_min = X_train.min()"
   ]
  },
  {
   "cell_type": "code",
   "execution_count": 12,
   "id": "e7b85489-d3d6-4c17-8935-238402086eff",
   "metadata": {},
   "outputs": [],
   "source": [
    "# batchSize = 16\n",
    "from keras.models import Sequential, save_model, load_model\n",
    "from keras.layers import *\n",
    "from keras.callbacks import ReduceLROnPlateau, ModelCheckpoint\n",
    "from tensorflow.keras.optimizers import Adam\n",
    "from keras.losses import MeanSquaredError\n",
    "from keras.metrics import RootMeanSquaredError"
   ]
  },
  {
   "cell_type": "code",
   "execution_count": 13,
   "id": "3b6c5847-1cc5-4149-b349-ff4f5c638c90",
   "metadata": {},
   "outputs": [
    {
     "name": "stderr",
     "output_type": "stream",
     "text": [
      "C:\\Users\\Hassan\\AppData\\Local\\Programs\\Python\\Python311\\Lib\\site-packages\\keras\\src\\layers\\convolutional\\base_conv.py:99: UserWarning: Do not pass an `input_shape`/`input_dim` argument to a layer. When using Sequential models, prefer using an `Input(shape)` object as the first layer in the model instead.\n",
      "  super().__init__(\n"
     ]
    },
    {
     "data": {
      "text/html": [
       "<pre style=\"white-space:pre;overflow-x:auto;line-height:normal;font-family:Menlo,'DejaVu Sans Mono',consolas,'Courier New',monospace\"><span style=\"font-weight: bold\">Model: \"sequential\"</span>\n",
       "</pre>\n"
      ],
      "text/plain": [
       "\u001b[1mModel: \"sequential\"\u001b[0m\n"
      ]
     },
     "metadata": {},
     "output_type": "display_data"
    },
    {
     "data": {
      "text/html": [
       "<pre style=\"white-space:pre;overflow-x:auto;line-height:normal;font-family:Menlo,'DejaVu Sans Mono',consolas,'Courier New',monospace\">┏━━━━━━━━━━━━━━━━━━━━━━━━━━━━━━━━━━━━━━┳━━━━━━━━━━━━━━━━━━━━━━━━━━━━━┳━━━━━━━━━━━━━━━━━┓\n",
       "┃<span style=\"font-weight: bold\"> Layer (type)                         </span>┃<span style=\"font-weight: bold\"> Output Shape                </span>┃<span style=\"font-weight: bold\">         Param # </span>┃\n",
       "┡━━━━━━━━━━━━━━━━━━━━━━━━━━━━━━━━━━━━━━╇━━━━━━━━━━━━━━━━━━━━━━━━━━━━━╇━━━━━━━━━━━━━━━━━┩\n",
       "│ conv1d (<span style=\"color: #0087ff; text-decoration-color: #0087ff\">Conv1D</span>)                      │ (<span style=\"color: #00d7ff; text-decoration-color: #00d7ff\">None</span>, <span style=\"color: #00af00; text-decoration-color: #00af00\">166</span>, <span style=\"color: #00af00; text-decoration-color: #00af00\">8</span>)              │              <span style=\"color: #00af00; text-decoration-color: #00af00\">32</span> │\n",
       "├──────────────────────────────────────┼─────────────────────────────┼─────────────────┤\n",
       "│ flatten (<span style=\"color: #0087ff; text-decoration-color: #0087ff\">Flatten</span>)                    │ (<span style=\"color: #00d7ff; text-decoration-color: #00d7ff\">None</span>, <span style=\"color: #00af00; text-decoration-color: #00af00\">1328</span>)                │               <span style=\"color: #00af00; text-decoration-color: #00af00\">0</span> │\n",
       "├──────────────────────────────────────┼─────────────────────────────┼─────────────────┤\n",
       "│ dense (<span style=\"color: #0087ff; text-decoration-color: #0087ff\">Dense</span>)                        │ (<span style=\"color: #00d7ff; text-decoration-color: #00d7ff\">None</span>, <span style=\"color: #00af00; text-decoration-color: #00af00\">168</span>)                 │         <span style=\"color: #00af00; text-decoration-color: #00af00\">223,272</span> │\n",
       "└──────────────────────────────────────┴─────────────────────────────┴─────────────────┘\n",
       "</pre>\n"
      ],
      "text/plain": [
       "┏━━━━━━━━━━━━━━━━━━━━━━━━━━━━━━━━━━━━━━┳━━━━━━━━━━━━━━━━━━━━━━━━━━━━━┳━━━━━━━━━━━━━━━━━┓\n",
       "┃\u001b[1m \u001b[0m\u001b[1mLayer (type)                        \u001b[0m\u001b[1m \u001b[0m┃\u001b[1m \u001b[0m\u001b[1mOutput Shape               \u001b[0m\u001b[1m \u001b[0m┃\u001b[1m \u001b[0m\u001b[1m        Param #\u001b[0m\u001b[1m \u001b[0m┃\n",
       "┡━━━━━━━━━━━━━━━━━━━━━━━━━━━━━━━━━━━━━━╇━━━━━━━━━━━━━━━━━━━━━━━━━━━━━╇━━━━━━━━━━━━━━━━━┩\n",
       "│ conv1d (\u001b[38;5;33mConv1D\u001b[0m)                      │ (\u001b[38;5;45mNone\u001b[0m, \u001b[38;5;34m166\u001b[0m, \u001b[38;5;34m8\u001b[0m)              │              \u001b[38;5;34m32\u001b[0m │\n",
       "├──────────────────────────────────────┼─────────────────────────────┼─────────────────┤\n",
       "│ flatten (\u001b[38;5;33mFlatten\u001b[0m)                    │ (\u001b[38;5;45mNone\u001b[0m, \u001b[38;5;34m1328\u001b[0m)                │               \u001b[38;5;34m0\u001b[0m │\n",
       "├──────────────────────────────────────┼─────────────────────────────┼─────────────────┤\n",
       "│ dense (\u001b[38;5;33mDense\u001b[0m)                        │ (\u001b[38;5;45mNone\u001b[0m, \u001b[38;5;34m168\u001b[0m)                 │         \u001b[38;5;34m223,272\u001b[0m │\n",
       "└──────────────────────────────────────┴─────────────────────────────┴─────────────────┘\n"
      ]
     },
     "metadata": {},
     "output_type": "display_data"
    },
    {
     "data": {
      "text/html": [
       "<pre style=\"white-space:pre;overflow-x:auto;line-height:normal;font-family:Menlo,'DejaVu Sans Mono',consolas,'Courier New',monospace\"><span style=\"font-weight: bold\"> Total params: </span><span style=\"color: #00af00; text-decoration-color: #00af00\">223,304</span> (872.28 KB)\n",
       "</pre>\n"
      ],
      "text/plain": [
       "\u001b[1m Total params: \u001b[0m\u001b[38;5;34m223,304\u001b[0m (872.28 KB)\n"
      ]
     },
     "metadata": {},
     "output_type": "display_data"
    },
    {
     "data": {
      "text/html": [
       "<pre style=\"white-space:pre;overflow-x:auto;line-height:normal;font-family:Menlo,'DejaVu Sans Mono',consolas,'Courier New',monospace\"><span style=\"font-weight: bold\"> Trainable params: </span><span style=\"color: #00af00; text-decoration-color: #00af00\">223,304</span> (872.28 KB)\n",
       "</pre>\n"
      ],
      "text/plain": [
       "\u001b[1m Trainable params: \u001b[0m\u001b[38;5;34m223,304\u001b[0m (872.28 KB)\n"
      ]
     },
     "metadata": {},
     "output_type": "display_data"
    },
    {
     "data": {
      "text/html": [
       "<pre style=\"white-space:pre;overflow-x:auto;line-height:normal;font-family:Menlo,'DejaVu Sans Mono',consolas,'Courier New',monospace\"><span style=\"font-weight: bold\"> Non-trainable params: </span><span style=\"color: #00af00; text-decoration-color: #00af00\">0</span> (0.00 B)\n",
       "</pre>\n"
      ],
      "text/plain": [
       "\u001b[1m Non-trainable params: \u001b[0m\u001b[38;5;34m0\u001b[0m (0.00 B)\n"
      ]
     },
     "metadata": {},
     "output_type": "display_data"
    },
    {
     "name": "stdout",
     "output_type": "stream",
     "text": [
      "Epoch 1/50\n",
      "\u001b[1m388/388\u001b[0m \u001b[32m━━━━━━━━━━━━━━━━━━━━\u001b[0m\u001b[37m\u001b[0m \u001b[1m6s\u001b[0m 10ms/step - loss: 0.0131 - root_mean_squared_error: 0.1117 - val_loss: 0.0090 - val_root_mean_squared_error: 0.0951 - learning_rate: 0.0010\n",
      "Epoch 2/50\n",
      "\u001b[1m388/388\u001b[0m \u001b[32m━━━━━━━━━━━━━━━━━━━━\u001b[0m\u001b[37m\u001b[0m \u001b[1m4s\u001b[0m 9ms/step - loss: 0.0077 - root_mean_squared_error: 0.0880 - val_loss: 0.0079 - val_root_mean_squared_error: 0.0890 - learning_rate: 0.0010\n",
      "Epoch 3/50\n",
      "\u001b[1m388/388\u001b[0m \u001b[32m━━━━━━━━━━━━━━━━━━━━\u001b[0m\u001b[37m\u001b[0m \u001b[1m5s\u001b[0m 8ms/step - loss: 0.0076 - root_mean_squared_error: 0.0873 - val_loss: 0.0077 - val_root_mean_squared_error: 0.0878 - learning_rate: 0.0010\n",
      "Epoch 4/50\n",
      "\u001b[1m388/388\u001b[0m \u001b[32m━━━━━━━━━━━━━━━━━━━━\u001b[0m\u001b[37m\u001b[0m \u001b[1m5s\u001b[0m 9ms/step - loss: 0.0077 - root_mean_squared_error: 0.0876 - val_loss: 0.0079 - val_root_mean_squared_error: 0.0891 - learning_rate: 0.0010\n",
      "Epoch 5/50\n",
      "\u001b[1m388/388\u001b[0m \u001b[32m━━━━━━━━━━━━━━━━━━━━\u001b[0m\u001b[37m\u001b[0m \u001b[1m4s\u001b[0m 10ms/step - loss: 0.0075 - root_mean_squared_error: 0.0869 - val_loss: 0.0077 - val_root_mean_squared_error: 0.0875 - learning_rate: 0.0010\n",
      "Epoch 6/50\n",
      "\u001b[1m388/388\u001b[0m \u001b[32m━━━━━━━━━━━━━━━━━━━━\u001b[0m\u001b[37m\u001b[0m \u001b[1m4s\u001b[0m 10ms/step - loss: 0.0074 - root_mean_squared_error: 0.0862 - val_loss: 0.0076 - val_root_mean_squared_error: 0.0874 - learning_rate: 0.0010\n",
      "Epoch 7/50\n",
      "\u001b[1m388/388\u001b[0m \u001b[32m━━━━━━━━━━━━━━━━━━━━\u001b[0m\u001b[37m\u001b[0m \u001b[1m4s\u001b[0m 10ms/step - loss: 0.0074 - root_mean_squared_error: 0.0861 - val_loss: 0.0076 - val_root_mean_squared_error: 0.0872 - learning_rate: 0.0010\n",
      "Epoch 8/50\n",
      "\u001b[1m388/388\u001b[0m \u001b[32m━━━━━━━━━━━━━━━━━━━━\u001b[0m\u001b[37m\u001b[0m \u001b[1m4s\u001b[0m 9ms/step - loss: 0.0074 - root_mean_squared_error: 0.0863 - val_loss: 0.0076 - val_root_mean_squared_error: 0.0874 - learning_rate: 0.0010\n",
      "Epoch 9/50\n",
      "\u001b[1m388/388\u001b[0m \u001b[32m━━━━━━━━━━━━━━━━━━━━\u001b[0m\u001b[37m\u001b[0m \u001b[1m4s\u001b[0m 9ms/step - loss: 0.0074 - root_mean_squared_error: 0.0858 - val_loss: 0.0077 - val_root_mean_squared_error: 0.0875 - learning_rate: 0.0010\n",
      "Epoch 10/50\n",
      "\u001b[1m388/388\u001b[0m \u001b[32m━━━━━━━━━━━━━━━━━━━━\u001b[0m\u001b[37m\u001b[0m \u001b[1m4s\u001b[0m 9ms/step - loss: 0.0072 - root_mean_squared_error: 0.0850 - val_loss: 0.0077 - val_root_mean_squared_error: 0.0875 - learning_rate: 0.0010\n",
      "Epoch 11/50\n",
      "\u001b[1m388/388\u001b[0m \u001b[32m━━━━━━━━━━━━━━━━━━━━\u001b[0m\u001b[37m\u001b[0m \u001b[1m3s\u001b[0m 9ms/step - loss: 0.0072 - root_mean_squared_error: 0.0850 - val_loss: 0.0076 - val_root_mean_squared_error: 0.0871 - learning_rate: 0.0010\n",
      "Epoch 12/50\n",
      "\u001b[1m388/388\u001b[0m \u001b[32m━━━━━━━━━━━━━━━━━━━━\u001b[0m\u001b[37m\u001b[0m \u001b[1m4s\u001b[0m 10ms/step - loss: 0.0073 - root_mean_squared_error: 0.0853 - val_loss: 0.0078 - val_root_mean_squared_error: 0.0884 - learning_rate: 0.0010\n",
      "Epoch 13/50\n",
      "\u001b[1m388/388\u001b[0m \u001b[32m━━━━━━━━━━━━━━━━━━━━\u001b[0m\u001b[37m\u001b[0m \u001b[1m5s\u001b[0m 9ms/step - loss: 0.0071 - root_mean_squared_error: 0.0844 - val_loss: 0.0076 - val_root_mean_squared_error: 0.0870 - learning_rate: 0.0010\n",
      "Epoch 14/50\n",
      "\u001b[1m388/388\u001b[0m \u001b[32m━━━━━━━━━━━━━━━━━━━━\u001b[0m\u001b[37m\u001b[0m \u001b[1m4s\u001b[0m 10ms/step - loss: 0.0072 - root_mean_squared_error: 0.0851 - val_loss: 0.0075 - val_root_mean_squared_error: 0.0868 - learning_rate: 0.0010\n",
      "Epoch 15/50\n",
      "\u001b[1m388/388\u001b[0m \u001b[32m━━━━━━━━━━━━━━━━━━━━\u001b[0m\u001b[37m\u001b[0m \u001b[1m3s\u001b[0m 9ms/step - loss: 0.0071 - root_mean_squared_error: 0.0845 - val_loss: 0.0076 - val_root_mean_squared_error: 0.0869 - learning_rate: 0.0010\n",
      "Epoch 16/50\n",
      "\u001b[1m388/388\u001b[0m \u001b[32m━━━━━━━━━━━━━━━━━━━━\u001b[0m\u001b[37m\u001b[0m \u001b[1m4s\u001b[0m 10ms/step - loss: 0.0070 - root_mean_squared_error: 0.0839 - val_loss: 0.0075 - val_root_mean_squared_error: 0.0868 - learning_rate: 0.0010\n",
      "Epoch 17/50\n",
      "\u001b[1m388/388\u001b[0m \u001b[32m━━━━━━━━━━━━━━━━━━━━\u001b[0m\u001b[37m\u001b[0m \u001b[1m5s\u001b[0m 13ms/step - loss: 0.0071 - root_mean_squared_error: 0.0844 - val_loss: 0.0077 - val_root_mean_squared_error: 0.0879 - learning_rate: 0.0010\n",
      "Epoch 18/50\n",
      "\u001b[1m388/388\u001b[0m \u001b[32m━━━━━━━━━━━━━━━━━━━━\u001b[0m\u001b[37m\u001b[0m \u001b[1m3s\u001b[0m 8ms/step - loss: 0.0071 - root_mean_squared_error: 0.0842 - val_loss: 0.0076 - val_root_mean_squared_error: 0.0871 - learning_rate: 0.0010\n",
      "Epoch 19/50\n",
      "\u001b[1m388/388\u001b[0m \u001b[32m━━━━━━━━━━━━━━━━━━━━\u001b[0m\u001b[37m\u001b[0m \u001b[1m5s\u001b[0m 12ms/step - loss: 0.0071 - root_mean_squared_error: 0.0844 - val_loss: 0.0075 - val_root_mean_squared_error: 0.0868 - learning_rate: 0.0010\n",
      "Epoch 20/50\n",
      "\u001b[1m388/388\u001b[0m \u001b[32m━━━━━━━━━━━━━━━━━━━━\u001b[0m\u001b[37m\u001b[0m \u001b[1m3s\u001b[0m 9ms/step - loss: 0.0071 - root_mean_squared_error: 0.0842 - val_loss: 0.0076 - val_root_mean_squared_error: 0.0874 - learning_rate: 0.0010\n",
      "Epoch 21/50\n",
      "\u001b[1m388/388\u001b[0m \u001b[32m━━━━━━━━━━━━━━━━━━━━\u001b[0m\u001b[37m\u001b[0m \u001b[1m6s\u001b[0m 10ms/step - loss: 0.0070 - root_mean_squared_error: 0.0839 - val_loss: 0.0076 - val_root_mean_squared_error: 0.0869 - learning_rate: 0.0010\n",
      "Epoch 22/50\n",
      "\u001b[1m388/388\u001b[0m \u001b[32m━━━━━━━━━━━━━━━━━━━━\u001b[0m\u001b[37m\u001b[0m \u001b[1m4s\u001b[0m 10ms/step - loss: 0.0069 - root_mean_squared_error: 0.0831 - val_loss: 0.0075 - val_root_mean_squared_error: 0.0866 - learning_rate: 1.0000e-04\n",
      "Epoch 23/50\n",
      "\u001b[1m388/388\u001b[0m \u001b[32m━━━━━━━━━━━━━━━━━━━━\u001b[0m\u001b[37m\u001b[0m \u001b[1m4s\u001b[0m 10ms/step - loss: 0.0069 - root_mean_squared_error: 0.0833 - val_loss: 0.0075 - val_root_mean_squared_error: 0.0867 - learning_rate: 1.0000e-04\n",
      "Epoch 24/50\n",
      "\u001b[1m388/388\u001b[0m \u001b[32m━━━━━━━━━━━━━━━━━━━━\u001b[0m\u001b[37m\u001b[0m \u001b[1m4s\u001b[0m 9ms/step - loss: 0.0068 - root_mean_squared_error: 0.0828 - val_loss: 0.0075 - val_root_mean_squared_error: 0.0867 - learning_rate: 1.0000e-04\n",
      "Epoch 25/50\n",
      "\u001b[1m388/388\u001b[0m \u001b[32m━━━━━━━━━━━━━━━━━━━━\u001b[0m\u001b[37m\u001b[0m \u001b[1m6s\u001b[0m 10ms/step - loss: 0.0069 - root_mean_squared_error: 0.0829 - val_loss: 0.0075 - val_root_mean_squared_error: 0.0866 - learning_rate: 1.0000e-04\n",
      "Epoch 26/50\n",
      "\u001b[1m388/388\u001b[0m \u001b[32m━━━━━━━━━━━━━━━━━━━━\u001b[0m\u001b[37m\u001b[0m \u001b[1m4s\u001b[0m 9ms/step - loss: 0.0068 - root_mean_squared_error: 0.0826 - val_loss: 0.0075 - val_root_mean_squared_error: 0.0866 - learning_rate: 1.0000e-04\n",
      "Epoch 27/50\n",
      "\u001b[1m388/388\u001b[0m \u001b[32m━━━━━━━━━━━━━━━━━━━━\u001b[0m\u001b[37m\u001b[0m \u001b[1m4s\u001b[0m 11ms/step - loss: 0.0068 - root_mean_squared_error: 0.0825 - val_loss: 0.0075 - val_root_mean_squared_error: 0.0868 - learning_rate: 1.0000e-04\n",
      "Epoch 28/50\n",
      "\u001b[1m388/388\u001b[0m \u001b[32m━━━━━━━━━━━━━━━━━━━━\u001b[0m\u001b[37m\u001b[0m \u001b[1m5s\u001b[0m 14ms/step - loss: 0.0068 - root_mean_squared_error: 0.0825 - val_loss: 0.0075 - val_root_mean_squared_error: 0.0866 - learning_rate: 1.0000e-04\n",
      "Epoch 29/50\n",
      "\u001b[1m388/388\u001b[0m \u001b[32m━━━━━━━━━━━━━━━━━━━━\u001b[0m\u001b[37m\u001b[0m \u001b[1m4s\u001b[0m 10ms/step - loss: 0.0069 - root_mean_squared_error: 0.0829 - val_loss: 0.0075 - val_root_mean_squared_error: 0.0867 - learning_rate: 1.0000e-04\n",
      "Epoch 30/50\n",
      "\u001b[1m388/388\u001b[0m \u001b[32m━━━━━━━━━━━━━━━━━━━━\u001b[0m\u001b[37m\u001b[0m \u001b[1m4s\u001b[0m 9ms/step - loss: 0.0069 - root_mean_squared_error: 0.0832 - val_loss: 0.0075 - val_root_mean_squared_error: 0.0867 - learning_rate: 1.0000e-04\n",
      "Epoch 31/50\n",
      "\u001b[1m388/388\u001b[0m \u001b[32m━━━━━━━━━━━━━━━━━━━━\u001b[0m\u001b[37m\u001b[0m \u001b[1m4s\u001b[0m 9ms/step - loss: 0.0068 - root_mean_squared_error: 0.0824 - val_loss: 0.0075 - val_root_mean_squared_error: 0.0866 - learning_rate: 1.0000e-04\n",
      "Epoch 32/50\n",
      "\u001b[1m388/388\u001b[0m \u001b[32m━━━━━━━━━━━━━━━━━━━━\u001b[0m\u001b[37m\u001b[0m \u001b[1m4s\u001b[0m 9ms/step - loss: 0.0069 - root_mean_squared_error: 0.0830 - val_loss: 0.0075 - val_root_mean_squared_error: 0.0866 - learning_rate: 1.0000e-05\n",
      "Epoch 33/50\n",
      "\u001b[1m388/388\u001b[0m \u001b[32m━━━━━━━━━━━━━━━━━━━━\u001b[0m\u001b[37m\u001b[0m \u001b[1m3s\u001b[0m 8ms/step - loss: 0.0068 - root_mean_squared_error: 0.0823 - val_loss: 0.0075 - val_root_mean_squared_error: 0.0866 - learning_rate: 1.0000e-05\n",
      "Epoch 34/50\n",
      "\u001b[1m388/388\u001b[0m \u001b[32m━━━━━━━━━━━━━━━━━━━━\u001b[0m\u001b[37m\u001b[0m \u001b[1m3s\u001b[0m 8ms/step - loss: 0.0068 - root_mean_squared_error: 0.0822 - val_loss: 0.0075 - val_root_mean_squared_error: 0.0866 - learning_rate: 1.0000e-05\n",
      "Epoch 35/50\n",
      "\u001b[1m388/388\u001b[0m \u001b[32m━━━━━━━━━━━━━━━━━━━━\u001b[0m\u001b[37m\u001b[0m \u001b[1m3s\u001b[0m 9ms/step - loss: 0.0068 - root_mean_squared_error: 0.0827 - val_loss: 0.0075 - val_root_mean_squared_error: 0.0866 - learning_rate: 1.0000e-05\n",
      "Epoch 36/50\n",
      "\u001b[1m388/388\u001b[0m \u001b[32m━━━━━━━━━━━━━━━━━━━━\u001b[0m\u001b[37m\u001b[0m \u001b[1m4s\u001b[0m 11ms/step - loss: 0.0068 - root_mean_squared_error: 0.0824 - val_loss: 0.0075 - val_root_mean_squared_error: 0.0866 - learning_rate: 1.0000e-05\n",
      "Epoch 37/50\n",
      "\u001b[1m388/388\u001b[0m \u001b[32m━━━━━━━━━━━━━━━━━━━━\u001b[0m\u001b[37m\u001b[0m \u001b[1m4s\u001b[0m 10ms/step - loss: 0.0068 - root_mean_squared_error: 0.0824 - val_loss: 0.0075 - val_root_mean_squared_error: 0.0866 - learning_rate: 1.0000e-05\n",
      "Epoch 38/50\n",
      "\u001b[1m388/388\u001b[0m \u001b[32m━━━━━━━━━━━━━━━━━━━━\u001b[0m\u001b[37m\u001b[0m \u001b[1m3s\u001b[0m 9ms/step - loss: 0.0069 - root_mean_squared_error: 0.0832 - val_loss: 0.0075 - val_root_mean_squared_error: 0.0866 - learning_rate: 1.0000e-05\n",
      "Epoch 39/50\n",
      "\u001b[1m388/388\u001b[0m \u001b[32m━━━━━━━━━━━━━━━━━━━━\u001b[0m\u001b[37m\u001b[0m \u001b[1m4s\u001b[0m 10ms/step - loss: 0.0068 - root_mean_squared_error: 0.0826 - val_loss: 0.0075 - val_root_mean_squared_error: 0.0866 - learning_rate: 1.0000e-05\n",
      "Epoch 40/50\n",
      "\u001b[1m388/388\u001b[0m \u001b[32m━━━━━━━━━━━━━━━━━━━━\u001b[0m\u001b[37m\u001b[0m \u001b[1m4s\u001b[0m 10ms/step - loss: 0.0068 - root_mean_squared_error: 0.0826 - val_loss: 0.0075 - val_root_mean_squared_error: 0.0866 - learning_rate: 1.0000e-05\n",
      "Epoch 41/50\n",
      "\u001b[1m388/388\u001b[0m \u001b[32m━━━━━━━━━━━━━━━━━━━━\u001b[0m\u001b[37m\u001b[0m \u001b[1m4s\u001b[0m 10ms/step - loss: 0.0068 - root_mean_squared_error: 0.0827 - val_loss: 0.0075 - val_root_mean_squared_error: 0.0866 - learning_rate: 1.0000e-05\n",
      "Epoch 42/50\n",
      "\u001b[1m388/388\u001b[0m \u001b[32m━━━━━━━━━━━━━━━━━━━━\u001b[0m\u001b[37m\u001b[0m \u001b[1m4s\u001b[0m 11ms/step - loss: 0.0069 - root_mean_squared_error: 0.0828 - val_loss: 0.0075 - val_root_mean_squared_error: 0.0866 - learning_rate: 1.0000e-06\n",
      "Epoch 43/50\n",
      "\u001b[1m388/388\u001b[0m \u001b[32m━━━━━━━━━━━━━━━━━━━━\u001b[0m\u001b[37m\u001b[0m \u001b[1m4s\u001b[0m 10ms/step - loss: 0.0068 - root_mean_squared_error: 0.0826 - val_loss: 0.0075 - val_root_mean_squared_error: 0.0866 - learning_rate: 1.0000e-06\n",
      "Epoch 44/50\n",
      "\u001b[1m388/388\u001b[0m \u001b[32m━━━━━━━━━━━━━━━━━━━━\u001b[0m\u001b[37m\u001b[0m \u001b[1m5s\u001b[0m 10ms/step - loss: 0.0068 - root_mean_squared_error: 0.0826 - val_loss: 0.0075 - val_root_mean_squared_error: 0.0866 - learning_rate: 1.0000e-06\n",
      "Epoch 45/50\n",
      "\u001b[1m388/388\u001b[0m \u001b[32m━━━━━━━━━━━━━━━━━━━━\u001b[0m\u001b[37m\u001b[0m \u001b[1m4s\u001b[0m 10ms/step - loss: 0.0068 - root_mean_squared_error: 0.0825 - val_loss: 0.0075 - val_root_mean_squared_error: 0.0866 - learning_rate: 1.0000e-06\n",
      "Epoch 46/50\n",
      "\u001b[1m388/388\u001b[0m \u001b[32m━━━━━━━━━━━━━━━━━━━━\u001b[0m\u001b[37m\u001b[0m \u001b[1m6s\u001b[0m 11ms/step - loss: 0.0068 - root_mean_squared_error: 0.0825 - val_loss: 0.0075 - val_root_mean_squared_error: 0.0866 - learning_rate: 1.0000e-06\n",
      "Epoch 47/50\n",
      "\u001b[1m388/388\u001b[0m \u001b[32m━━━━━━━━━━━━━━━━━━━━\u001b[0m\u001b[37m\u001b[0m \u001b[1m5s\u001b[0m 13ms/step - loss: 0.0068 - root_mean_squared_error: 0.0827 - val_loss: 0.0075 - val_root_mean_squared_error: 0.0866 - learning_rate: 1.0000e-06\n",
      "Epoch 48/50\n",
      "\u001b[1m388/388\u001b[0m \u001b[32m━━━━━━━━━━━━━━━━━━━━\u001b[0m\u001b[37m\u001b[0m \u001b[1m4s\u001b[0m 10ms/step - loss: 0.0069 - root_mean_squared_error: 0.0829 - val_loss: 0.0075 - val_root_mean_squared_error: 0.0866 - learning_rate: 1.0000e-06\n",
      "Epoch 49/50\n",
      "\u001b[1m388/388\u001b[0m \u001b[32m━━━━━━━━━━━━━━━━━━━━\u001b[0m\u001b[37m\u001b[0m \u001b[1m4s\u001b[0m 10ms/step - loss: 0.0068 - root_mean_squared_error: 0.0825 - val_loss: 0.0075 - val_root_mean_squared_error: 0.0866 - learning_rate: 1.0000e-06\n",
      "Epoch 50/50\n",
      "\u001b[1m388/388\u001b[0m \u001b[32m━━━━━━━━━━━━━━━━━━━━\u001b[0m\u001b[37m\u001b[0m \u001b[1m4s\u001b[0m 10ms/step - loss: 0.0068 - root_mean_squared_error: 0.0826 - val_loss: 0.0075 - val_root_mean_squared_error: 0.0866 - learning_rate: 1.0000e-06\n"
     ]
    }
   ],
   "source": [
    "normalizer = Normalization()\n",
    "normalizer.adapt(X_train)\n",
    "rlrop = ReduceLROnPlateau(monitor='val_loss', factor=0.1, patience=10)\n",
    "\n",
    "model = Sequential()\n",
    "# 1D Convolutional layers\n",
    "model.add(Conv1D(filters=8, kernel_size=3, activation='relu', input_shape=X_train.shape[1:]))\n",
    "# model.add(Conv1D(filters=64, kernel_size=3, activation='relu'))\n",
    "# model.add(Conv1D(filters=32, kernel_size=3, activation='relu'))\n",
    "# Flatten the output of the Conv layers\n",
    "model.add(Flatten())\n",
    "# model.add(LSTM(input_shape = X_train.shape[1:], units=86, return_sequences=True))\n",
    "# model.add(LSTM(units=64, return_sequences=True))\n",
    "# model.add(GRU(units=86, return_sequences=True))\n",
    "# model.add(LSTM(units=128, return_sequences=True))\n",
    "# model.add(GRU(units=100, return_sequences=True))\n",
    "# model.add(LSTM(units=100, return_sequences=False))\n",
    "# model.add(Dense(units=100,  activation='relu'))\n",
    "# model.add(Dense(8, activation='relu'))\n",
    "\n",
    "model.add(Dense(units=FORECAST_LENGTH, activation='linear'))\n",
    "\n",
    "model.summary()\n",
    "\n",
    "model.compile(optimizer=Adam(learning_rate=0.001), metrics=[RootMeanSquaredError()] , loss=MeanSquaredError())\n",
    "\n",
    "history = model.fit(X_train, y_train, validation_data=(X_val,y_val), epochs=50, callbacks=[rlrop])\n",
    "\n",
    "# score = model.evaluate(X_test, y_test, verbose = 1)"
   ]
  },
  {
   "cell_type": "code",
   "execution_count": 14,
   "id": "5674b419-12bd-4a4e-a83d-2438ae813939",
   "metadata": {},
   "outputs": [
    {
     "name": "stdout",
     "output_type": "stream",
     "text": [
      "\u001b[1m122/122\u001b[0m \u001b[32m━━━━━━━━━━━━━━━━━━━━\u001b[0m\u001b[37m\u001b[0m \u001b[1m1s\u001b[0m 4ms/step\n"
     ]
    }
   ],
   "source": [
    "forecast = model.predict(X_test)"
   ]
  },
  {
   "cell_type": "code",
   "execution_count": 15,
   "id": "abb7c26e-b6e8-4526-aa4e-9180825c9d51",
   "metadata": {},
   "outputs": [],
   "source": [
    "poll = np.array(df[\"aqi\"])\n",
    "\n",
    "meanop = poll.mean()\n",
    "stdop = poll.std()\n",
    "\n",
    "y_test_true = y_test*stdop + meanop\n",
    "testPredict = forecast*stdop + meanop"
   ]
  },
  {
   "cell_type": "code",
   "execution_count": 16,
   "id": "cccf66c7-77a1-483d-8b28-e5df8056b4b6",
   "metadata": {},
   "outputs": [],
   "source": [
    "from sklearn.metrics import mean_squared_error"
   ]
  },
  {
   "cell_type": "code",
   "execution_count": 17,
   "id": "3e3a186b-a281-4964-9581-f8f73931e019",
   "metadata": {},
   "outputs": [
    {
     "name": "stdout",
     "output_type": "stream",
     "text": [
      "Test RMSE = 5.2749133\n"
     ]
    }
   ],
   "source": [
    "rmse = np.sqrt(mean_squared_error(y_test_true, testPredict))\n",
    "print(\"Test RMSE =\"  ,rmse)"
   ]
  },
  {
   "cell_type": "code",
   "execution_count": 18,
   "id": "7654b701-6ba9-4602-8611-59820b6311e4",
   "metadata": {},
   "outputs": [
    {
     "data": {
      "text/plain": [
       "array([[0.24022877, 0.22354439, 0.21311624, ..., 0.21720716, 0.21644929,\n",
       "        0.21289803],\n",
       "       [0.30836806, 0.33600563, 0.3195543 , ..., 0.32710153, 0.30966547,\n",
       "        0.30464032],\n",
       "       [0.16494909, 0.16173987, 0.15193422, ..., 0.17435831, 0.16584557,\n",
       "        0.16446003],\n",
       "       ...,\n",
       "       [0.37420738, 0.37214786, 0.37886512, ..., 0.35488194, 0.3385924 ,\n",
       "        0.31674656],\n",
       "       [0.5059542 , 0.49643424, 0.42948195, ..., 0.45834374, 0.4904409 ,\n",
       "        0.48449382],\n",
       "       [0.13087724, 0.14183262, 0.14612871, ..., 0.14299515, 0.15175708,\n",
       "        0.16496015]], dtype=float32)"
      ]
     },
     "execution_count": 18,
     "metadata": {},
     "output_type": "execute_result"
    }
   ],
   "source": [
    "forecast"
   ]
  },
  {
   "cell_type": "code",
   "execution_count": 19,
   "id": "7ea98a00-c789-49d3-bdfe-1c06c5364c33",
   "metadata": {},
   "outputs": [
    {
     "data": {
      "text/plain": [
       "array([[169.31197, 168.29573, 167.66055, ..., 167.90973, 167.86357,\n",
       "        167.64726],\n",
       "       [173.4623 , 175.14569, 174.14365, ..., 174.60333, 173.54132,\n",
       "        173.23524],\n",
       "       [164.72672, 164.53125, 163.93399, ..., 165.29982, 164.78133,\n",
       "        164.69693],\n",
       "       ...,\n",
       "       [177.47253, 177.34709, 177.75623, ..., 176.29543, 175.30324,\n",
       "        173.97263],\n",
       "       [185.49716, 184.91731, 180.83928, ..., 182.59723, 184.55226,\n",
       "        184.19003],\n",
       "       [162.65141, 163.3187 , 163.58038, ..., 163.38951, 163.9232 ,\n",
       "        164.72739]], dtype=float32)"
      ]
     },
     "execution_count": 19,
     "metadata": {},
     "output_type": "execute_result"
    }
   ],
   "source": [
    "testPredict"
   ]
  },
  {
   "cell_type": "code",
   "execution_count": 20,
   "id": "4e4e0314-523d-408f-9858-83e62f6ef22e",
   "metadata": {},
   "outputs": [
    {
     "data": {
      "text/plain": [
       "array([[169.93973, 170.07016, 170.20059, ..., 171.11357, 170.46144,\n",
       "        170.20059],\n",
       "       [171.76572, 171.89613, 171.89613, ..., 176.06981, 174.6351 ,\n",
       "        173.06998],\n",
       "       [164.07051, 163.02708, 161.98367, ..., 167.07033, 167.33119,\n",
       "        167.46161],\n",
       "       ...,\n",
       "       [175.93938, 176.9828 , 177.89578, ..., 180.63477, 176.46109,\n",
       "        172.28741],\n",
       "       [183.11287, 180.76518, 178.02621, ..., 177.11322, 176.06981,\n",
       "        175.93938],\n",
       "       [162.6358 , 163.5488 , 164.72264, ..., 160.28812, 161.98367,\n",
       "        163.67923]], dtype=float32)"
      ]
     },
     "execution_count": 20,
     "metadata": {},
     "output_type": "execute_result"
    }
   ],
   "source": [
    "y_test_true"
   ]
  },
  {
   "cell_type": "code",
   "execution_count": 22,
   "id": "5b475fa9-3bff-4eb3-8a59-5d79be3c85f8",
   "metadata": {},
   "outputs": [],
   "source": [
    "import numpy as np\n",
    "\n",
    "def calculate_segment_rmse(predictions, actuals, segment_length=1):\n",
    "    num_segments = predictions.shape[1] // segment_length\n",
    "    rmses = []\n",
    "    \n",
    "    for i in range(num_segments):\n",
    "        start_idx = i * segment_length\n",
    "        end_idx = start_idx + segment_length\n",
    "        \n",
    "        # Extract the segment for both predictions and actuals\n",
    "        pred_segment = predictions[:, start_idx:end_idx]\n",
    "        actual_segment = actuals[:, start_idx:end_idx]\n",
    "        \n",
    "        # Calculate RMSE for this segment\n",
    "        segment_rmse = np.sqrt(mean_squared_error(actual_segment.flatten(), pred_segment.flatten()))\n",
    "        rmses.append(segment_rmse)\n",
    "    \n",
    "    return rmses"
   ]
  },
  {
   "cell_type": "code",
   "execution_count": 23,
   "id": "5cd634f5-995f-4a2b-a7c4-500cefae9921",
   "metadata": {},
   "outputs": [
    {
     "name": "stdout",
     "output_type": "stream",
     "text": [
      "RMSE for segment 1: 2.4604\n",
      "RMSE for segment 2: 3.1439\n",
      "RMSE for segment 3: 3.5621\n",
      "RMSE for segment 4: 3.8454\n",
      "RMSE for segment 5: 4.0167\n",
      "RMSE for segment 6: 4.1584\n",
      "RMSE for segment 7: 4.2993\n",
      "RMSE for segment 8: 4.3566\n",
      "RMSE for segment 9: 4.4311\n",
      "RMSE for segment 10: 4.4573\n",
      "RMSE for segment 11: 4.5002\n",
      "RMSE for segment 12: 4.5339\n",
      "RMSE for segment 13: 4.5786\n",
      "RMSE for segment 14: 4.6168\n",
      "RMSE for segment 15: 4.6384\n",
      "RMSE for segment 16: 4.6550\n",
      "RMSE for segment 17: 4.6859\n",
      "RMSE for segment 18: 4.6793\n",
      "RMSE for segment 19: 4.6371\n",
      "RMSE for segment 20: 4.5983\n",
      "RMSE for segment 21: 4.5854\n",
      "RMSE for segment 22: 4.6270\n",
      "RMSE for segment 23: 4.6569\n",
      "RMSE for segment 24: 4.6539\n",
      "RMSE for segment 25: 4.7534\n",
      "RMSE for segment 26: 4.8302\n",
      "RMSE for segment 27: 4.8695\n",
      "RMSE for segment 28: 4.8667\n",
      "RMSE for segment 29: 4.9592\n",
      "RMSE for segment 30: 4.9863\n",
      "RMSE for segment 31: 4.9682\n",
      "RMSE for segment 32: 4.9725\n",
      "RMSE for segment 33: 5.0260\n",
      "RMSE for segment 34: 5.0295\n",
      "RMSE for segment 35: 5.0080\n",
      "RMSE for segment 36: 4.9959\n",
      "RMSE for segment 37: 4.9826\n",
      "RMSE for segment 38: 5.0133\n",
      "RMSE for segment 39: 5.0441\n",
      "RMSE for segment 40: 5.0429\n",
      "RMSE for segment 41: 5.0372\n",
      "RMSE for segment 42: 5.0018\n",
      "RMSE for segment 43: 5.0537\n",
      "RMSE for segment 44: 5.0749\n",
      "RMSE for segment 45: 5.1668\n",
      "RMSE for segment 46: 5.1643\n",
      "RMSE for segment 47: 5.1728\n",
      "RMSE for segment 48: 5.1430\n",
      "RMSE for segment 49: 5.1414\n",
      "RMSE for segment 50: 5.1517\n",
      "RMSE for segment 51: 5.2442\n",
      "RMSE for segment 52: 5.2734\n",
      "RMSE for segment 53: 5.2632\n",
      "RMSE for segment 54: 5.2588\n",
      "RMSE for segment 55: 5.2859\n",
      "RMSE for segment 56: 5.2557\n",
      "RMSE for segment 57: 5.2596\n",
      "RMSE for segment 58: 5.2771\n",
      "RMSE for segment 59: 5.2544\n",
      "RMSE for segment 60: 5.2857\n",
      "RMSE for segment 61: 5.2731\n",
      "RMSE for segment 62: 5.2433\n",
      "RMSE for segment 63: 5.2381\n",
      "RMSE for segment 64: 5.2271\n",
      "RMSE for segment 65: 5.2280\n",
      "RMSE for segment 66: 5.2668\n",
      "RMSE for segment 67: 5.3474\n",
      "RMSE for segment 68: 5.3562\n",
      "RMSE for segment 69: 5.4324\n",
      "RMSE for segment 70: 5.4052\n",
      "RMSE for segment 71: 5.4581\n",
      "RMSE for segment 72: 5.4415\n",
      "RMSE for segment 73: 5.4256\n",
      "RMSE for segment 74: 5.4571\n",
      "RMSE for segment 75: 5.4620\n",
      "RMSE for segment 76: 5.4336\n",
      "RMSE for segment 77: 5.4746\n",
      "RMSE for segment 78: 5.5101\n",
      "RMSE for segment 79: 5.5357\n",
      "RMSE for segment 80: 5.5674\n",
      "RMSE for segment 81: 5.5462\n",
      "RMSE for segment 82: 5.4906\n",
      "RMSE for segment 83: 5.4586\n",
      "RMSE for segment 84: 5.4643\n",
      "RMSE for segment 85: 5.4969\n",
      "RMSE for segment 86: 5.4608\n",
      "RMSE for segment 87: 5.4249\n",
      "RMSE for segment 88: 5.4212\n",
      "RMSE for segment 89: 5.4016\n",
      "RMSE for segment 90: 5.3883\n",
      "RMSE for segment 91: 5.4224\n",
      "RMSE for segment 92: 5.4167\n",
      "RMSE for segment 93: 5.4635\n",
      "RMSE for segment 94: 5.4310\n",
      "RMSE for segment 95: 5.4308\n",
      "RMSE for segment 96: 5.4518\n",
      "RMSE for segment 97: 5.4569\n",
      "RMSE for segment 98: 5.4832\n",
      "RMSE for segment 99: 5.4829\n",
      "RMSE for segment 100: 5.5326\n",
      "RMSE for segment 101: 5.6292\n",
      "RMSE for segment 102: 5.6577\n",
      "RMSE for segment 103: 5.6196\n",
      "RMSE for segment 104: 5.5977\n",
      "RMSE for segment 105: 5.6052\n",
      "RMSE for segment 106: 5.6098\n",
      "RMSE for segment 107: 5.5859\n",
      "RMSE for segment 108: 5.5678\n",
      "RMSE for segment 109: 5.5562\n",
      "RMSE for segment 110: 5.5545\n",
      "RMSE for segment 111: 5.5897\n",
      "RMSE for segment 112: 5.6148\n",
      "RMSE for segment 113: 5.6653\n",
      "RMSE for segment 114: 5.6225\n",
      "RMSE for segment 115: 5.5754\n",
      "RMSE for segment 116: 5.5817\n",
      "RMSE for segment 117: 5.5322\n",
      "RMSE for segment 118: 5.4872\n",
      "RMSE for segment 119: 5.4451\n",
      "RMSE for segment 120: 5.4567\n",
      "RMSE for segment 121: 5.5254\n",
      "RMSE for segment 122: 5.5574\n",
      "RMSE for segment 123: 5.5972\n",
      "RMSE for segment 124: 5.6071\n",
      "RMSE for segment 125: 5.5996\n",
      "RMSE for segment 126: 5.5727\n",
      "RMSE for segment 127: 5.5211\n",
      "RMSE for segment 128: 5.5050\n",
      "RMSE for segment 129: 5.4744\n",
      "RMSE for segment 130: 5.4709\n",
      "RMSE for segment 131: 5.4695\n",
      "RMSE for segment 132: 5.4787\n",
      "RMSE for segment 133: 5.5248\n",
      "RMSE for segment 134: 5.5374\n",
      "RMSE for segment 135: 5.5464\n",
      "RMSE for segment 136: 5.5506\n",
      "RMSE for segment 137: 5.5816\n",
      "RMSE for segment 138: 5.5563\n",
      "RMSE for segment 139: 5.5353\n",
      "RMSE for segment 140: 5.5802\n",
      "RMSE for segment 141: 5.5827\n",
      "RMSE for segment 142: 5.5842\n",
      "RMSE for segment 143: 5.5700\n",
      "RMSE for segment 144: 5.5882\n",
      "RMSE for segment 145: 5.5821\n",
      "RMSE for segment 146: 5.5693\n",
      "RMSE for segment 147: 5.5830\n",
      "RMSE for segment 148: 5.5921\n",
      "RMSE for segment 149: 5.5557\n",
      "RMSE for segment 150: 5.5407\n",
      "RMSE for segment 151: 5.5083\n",
      "RMSE for segment 152: 5.5620\n",
      "RMSE for segment 153: 5.5928\n",
      "RMSE for segment 154: 5.6324\n",
      "RMSE for segment 155: 5.5844\n",
      "RMSE for segment 156: 5.5845\n",
      "RMSE for segment 157: 5.5518\n",
      "RMSE for segment 158: 5.5255\n",
      "RMSE for segment 159: 5.5766\n",
      "RMSE for segment 160: 5.5857\n",
      "RMSE for segment 161: 5.5924\n",
      "RMSE for segment 162: 5.6585\n",
      "RMSE for segment 163: 5.6710\n",
      "RMSE for segment 164: 5.6731\n",
      "RMSE for segment 165: 5.6901\n",
      "RMSE for segment 166: 5.6688\n",
      "RMSE for segment 167: 5.6302\n",
      "RMSE for segment 168: 5.7023\n"
     ]
    }
   ],
   "source": [
    "segment_rmses = calculate_segment_rmse(testPredict, y_test_true)\n",
    "for i, rmse in enumerate(segment_rmses):\n",
    "    print(f\"RMSE for segment {i + 1}: {rmse:.4f}\")"
   ]
  },
  {
   "cell_type": "code",
   "execution_count": 21,
   "id": "392e0b44-43bb-4879-8eff-fd993b347127",
   "metadata": {},
   "outputs": [],
   "source": [
    "model.save(\"aqi_1dcnn.keras\")"
   ]
  }
 ],
 "metadata": {
  "kernelspec": {
   "display_name": "Python 3 (ipykernel)",
   "language": "python",
   "name": "python3"
  },
  "language_info": {
   "codemirror_mode": {
    "name": "ipython",
    "version": 3
   },
   "file_extension": ".py",
   "mimetype": "text/x-python",
   "name": "python",
   "nbconvert_exporter": "python",
   "pygments_lexer": "ipython3",
   "version": "3.11.0"
  }
 },
 "nbformat": 4,
 "nbformat_minor": 5
}
