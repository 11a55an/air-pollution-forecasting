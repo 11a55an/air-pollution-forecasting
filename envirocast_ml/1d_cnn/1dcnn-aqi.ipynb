{
 "cells": [
  {
   "cell_type": "code",
   "execution_count": 1,
   "id": "08a7b78b-1d09-454f-8ecc-7c4184ab2240",
   "metadata": {},
   "outputs": [],
   "source": [
    "import pandas as pd\n",
    "import numpy as np"
   ]
  },
  {
   "cell_type": "code",
   "execution_count": 67,
   "id": "c1570c26-8e22-4498-9fe6-68e055e504a9",
   "metadata": {},
   "outputs": [],
   "source": [
    "df = pd.read_csv(\"../data/data_imputed_2.csv\")"
   ]
  },
  {
   "cell_type": "code",
   "execution_count": 68,
   "id": "55868db8-2144-49a3-9531-e4bf0728f0a2",
   "metadata": {},
   "outputs": [
    {
     "data": {
      "text/html": [
       "<div>\n",
       "<style scoped>\n",
       "    .dataframe tbody tr th:only-of-type {\n",
       "        vertical-align: middle;\n",
       "    }\n",
       "\n",
       "    .dataframe tbody tr th {\n",
       "        vertical-align: top;\n",
       "    }\n",
       "\n",
       "    .dataframe thead th {\n",
       "        text-align: right;\n",
       "    }\n",
       "</style>\n",
       "<table border=\"1\" class=\"dataframe\">\n",
       "  <thead>\n",
       "    <tr style=\"text-align: right;\">\n",
       "      <th></th>\n",
       "      <th>timestamp_local</th>\n",
       "      <th>temp</th>\n",
       "      <th>city_name</th>\n",
       "      <th>country_code</th>\n",
       "      <th>aqi</th>\n",
       "      <th>co</th>\n",
       "      <th>no2</th>\n",
       "      <th>o3</th>\n",
       "      <th>pm10</th>\n",
       "      <th>pm25</th>\n",
       "      <th>so2</th>\n",
       "    </tr>\n",
       "  </thead>\n",
       "  <tbody>\n",
       "    <tr>\n",
       "      <th>0</th>\n",
       "      <td>01/02/2022 0:00</td>\n",
       "      <td>12.6</td>\n",
       "      <td>Gujrāt</td>\n",
       "      <td>PK</td>\n",
       "      <td>385</td>\n",
       "      <td>1339.8</td>\n",
       "      <td>76.0</td>\n",
       "      <td>10.7</td>\n",
       "      <td>491.7</td>\n",
       "      <td>347.67</td>\n",
       "      <td>238.0</td>\n",
       "    </tr>\n",
       "    <tr>\n",
       "      <th>1</th>\n",
       "      <td>01/02/2022 1:00</td>\n",
       "      <td>11.5</td>\n",
       "      <td>Gujrāt</td>\n",
       "      <td>PK</td>\n",
       "      <td>404</td>\n",
       "      <td>1437.6</td>\n",
       "      <td>76.0</td>\n",
       "      <td>9.3</td>\n",
       "      <td>508.3</td>\n",
       "      <td>359.33</td>\n",
       "      <td>268.0</td>\n",
       "    </tr>\n",
       "    <tr>\n",
       "      <th>2</th>\n",
       "      <td>01/02/2022 2:00</td>\n",
       "      <td>11.9</td>\n",
       "      <td>Gujrāt</td>\n",
       "      <td>PK</td>\n",
       "      <td>421</td>\n",
       "      <td>1535.5</td>\n",
       "      <td>76.0</td>\n",
       "      <td>8.0</td>\n",
       "      <td>525.0</td>\n",
       "      <td>371.00</td>\n",
       "      <td>298.0</td>\n",
       "    </tr>\n",
       "    <tr>\n",
       "      <th>3</th>\n",
       "      <td>01/02/2022 3:00</td>\n",
       "      <td>12.2</td>\n",
       "      <td>Gujrāt</td>\n",
       "      <td>PK</td>\n",
       "      <td>425</td>\n",
       "      <td>1659.0</td>\n",
       "      <td>68.3</td>\n",
       "      <td>5.3</td>\n",
       "      <td>529.3</td>\n",
       "      <td>374.00</td>\n",
       "      <td>275.7</td>\n",
       "    </tr>\n",
       "    <tr>\n",
       "      <th>4</th>\n",
       "      <td>01/02/2022 4:00</td>\n",
       "      <td>11.9</td>\n",
       "      <td>Gujrāt</td>\n",
       "      <td>PK</td>\n",
       "      <td>430</td>\n",
       "      <td>1782.5</td>\n",
       "      <td>60.7</td>\n",
       "      <td>2.7</td>\n",
       "      <td>533.7</td>\n",
       "      <td>377.00</td>\n",
       "      <td>253.3</td>\n",
       "    </tr>\n",
       "  </tbody>\n",
       "</table>\n",
       "</div>"
      ],
      "text/plain": [
       "   timestamp_local  temp city_name country_code  aqi      co   no2    o3  \\\n",
       "0  01/02/2022 0:00  12.6    Gujrāt           PK  385  1339.8  76.0  10.7   \n",
       "1  01/02/2022 1:00  11.5    Gujrāt           PK  404  1437.6  76.0   9.3   \n",
       "2  01/02/2022 2:00  11.9    Gujrāt           PK  421  1535.5  76.0   8.0   \n",
       "3  01/02/2022 3:00  12.2    Gujrāt           PK  425  1659.0  68.3   5.3   \n",
       "4  01/02/2022 4:00  11.9    Gujrāt           PK  430  1782.5  60.7   2.7   \n",
       "\n",
       "    pm10    pm25    so2  \n",
       "0  491.7  347.67  238.0  \n",
       "1  508.3  359.33  268.0  \n",
       "2  525.0  371.00  298.0  \n",
       "3  529.3  374.00  275.7  \n",
       "4  533.7  377.00  253.3  "
      ]
     },
     "execution_count": 68,
     "metadata": {},
     "output_type": "execute_result"
    }
   ],
   "source": [
    "df.head()"
   ]
  },
  {
   "cell_type": "code",
   "execution_count": 69,
   "id": "6356a1fd-a29d-435b-93cc-c3904fd264fa",
   "metadata": {},
   "outputs": [],
   "source": [
    "import numpy as np\n",
    "import matplotlib.pyplot as plt\n",
    "\n",
    "def create_series(df, xcol, datecol):\n",
    "    # Create a dataframe with the features and the date time as the index\n",
    "    features_considered = [xcol]\n",
    "    features = df[features_considered]\n",
    "    features.index = df[datecol]\n",
    "    # features.head()\n",
    "    # features.plot(subplots=True)\n",
    "    return features\n",
    "\n",
    "\n",
    "# X is the series to test\n",
    "# log_x asks whether to log X prior to testing or not\n",
    "def stationarity_test(X, log_x = \"Y\", return_p = False, print_res = True):\n",
    "    \n",
    "    # If X isn't logged, we need to log it for better results\n",
    "    if log_x == \"Y\":\n",
    "        X = np.log(X[X>0])\n",
    "    \n",
    "    # Once we have the series as needed we can do the ADF test\n",
    "    from statsmodels.tsa.stattools import adfuller\n",
    "    dickey_fuller = adfuller(X)\n",
    "    \n",
    "    if print_res:\n",
    "    # If ADF statistic is < our 1% critical value (sig level) we can conclude it's not a fluke (ie low P val / reject H(0))\n",
    "        print('ADF Stat is: {}.'.format(dickey_fuller[0]))\n",
    "        # A lower p val means we can reject the H(0) that our data is NOT stationary\n",
    "        print('P Val is: {}.'.format(dickey_fuller[1]))\n",
    "        print('Critical Values (Significance Levels): ')\n",
    "        for key,val in dickey_fuller[4].items():\n",
    "            print(key,\":\",round(val,3))\n",
    "            \n",
    "    if return_p:\n",
    "        return dickey_fuller[1]\n",
    "    \n",
    "# Differencing the data    \n",
    "def difference(X):\n",
    "    diff = X.diff()\n",
    "    plt.plot(diff)\n",
    "    plt.show()\n",
    "    return diff"
   ]
  },
  {
   "cell_type": "code",
   "execution_count": 70,
   "id": "1957f406-a837-4345-8d16-7835bd855082",
   "metadata": {},
   "outputs": [],
   "source": [
    "from sklearn.model_selection import train_test_split\n",
    "import matplotlib.pyplot as plt\n",
    "import seaborn as sns"
   ]
  },
  {
   "cell_type": "code",
   "execution_count": 71,
   "id": "d7e3c4f9-7208-48a1-bee4-1a89c09e2714",
   "metadata": {},
   "outputs": [],
   "source": [
    "temp = df[['aqi']]"
   ]
  },
  {
   "cell_type": "code",
   "execution_count": 72,
   "id": "7a5d434c-78ae-4202-a029-b14b3912a8d6",
   "metadata": {},
   "outputs": [
    {
     "data": {
      "text/html": [
       "<div>\n",
       "<style scoped>\n",
       "    .dataframe tbody tr th:only-of-type {\n",
       "        vertical-align: middle;\n",
       "    }\n",
       "\n",
       "    .dataframe tbody tr th {\n",
       "        vertical-align: top;\n",
       "    }\n",
       "\n",
       "    .dataframe thead th {\n",
       "        text-align: right;\n",
       "    }\n",
       "</style>\n",
       "<table border=\"1\" class=\"dataframe\">\n",
       "  <thead>\n",
       "    <tr style=\"text-align: right;\">\n",
       "      <th></th>\n",
       "      <th>aqi</th>\n",
       "    </tr>\n",
       "  </thead>\n",
       "  <tbody>\n",
       "    <tr>\n",
       "      <th>0</th>\n",
       "      <td>385</td>\n",
       "    </tr>\n",
       "    <tr>\n",
       "      <th>1</th>\n",
       "      <td>404</td>\n",
       "    </tr>\n",
       "    <tr>\n",
       "      <th>2</th>\n",
       "      <td>421</td>\n",
       "    </tr>\n",
       "    <tr>\n",
       "      <th>3</th>\n",
       "      <td>425</td>\n",
       "    </tr>\n",
       "    <tr>\n",
       "      <th>4</th>\n",
       "      <td>430</td>\n",
       "    </tr>\n",
       "    <tr>\n",
       "      <th>...</th>\n",
       "      <td>...</td>\n",
       "    </tr>\n",
       "    <tr>\n",
       "      <th>19701</th>\n",
       "      <td>89</td>\n",
       "    </tr>\n",
       "    <tr>\n",
       "      <th>19702</th>\n",
       "      <td>102</td>\n",
       "    </tr>\n",
       "    <tr>\n",
       "      <th>19703</th>\n",
       "      <td>107</td>\n",
       "    </tr>\n",
       "    <tr>\n",
       "      <th>19704</th>\n",
       "      <td>112</td>\n",
       "    </tr>\n",
       "    <tr>\n",
       "      <th>19705</th>\n",
       "      <td>118</td>\n",
       "    </tr>\n",
       "  </tbody>\n",
       "</table>\n",
       "<p>19706 rows × 1 columns</p>\n",
       "</div>"
      ],
      "text/plain": [
       "       aqi\n",
       "0      385\n",
       "1      404\n",
       "2      421\n",
       "3      425\n",
       "4      430\n",
       "...    ...\n",
       "19701   89\n",
       "19702  102\n",
       "19703  107\n",
       "19704  112\n",
       "19705  118\n",
       "\n",
       "[19706 rows x 1 columns]"
      ]
     },
     "execution_count": 72,
     "metadata": {},
     "output_type": "execute_result"
    }
   ],
   "source": [
    "temp"
   ]
  },
  {
   "cell_type": "code",
   "execution_count": 73,
   "id": "a2eedd5e-c6fa-43b7-9458-5deca00f11fb",
   "metadata": {},
   "outputs": [],
   "source": [
    "from sklearn.preprocessing import MinMaxScaler\n",
    "values = temp.values\n",
    "\n",
    "values = values.astype('float32')\n",
    "\n",
    "scaler = MinMaxScaler(feature_range=(0, 1))\n",
    "scaled = scaler.fit_transform(values)"
   ]
  },
  {
   "cell_type": "code",
   "execution_count": 74,
   "id": "6769d15d-c80b-41b2-9b8a-70bd947bdf6b",
   "metadata": {},
   "outputs": [
    {
     "data": {
      "text/plain": [
       "(19706, 1)"
      ]
     },
     "execution_count": 74,
     "metadata": {},
     "output_type": "execute_result"
    }
   ],
   "source": [
    "scaled.shape"
   ]
  },
  {
   "cell_type": "code",
   "execution_count": 75,
   "id": "d93f3d70-328f-40a2-9403-0e22e9802560",
   "metadata": {},
   "outputs": [],
   "source": [
    "scaled = scaled.reshape((19706,))"
   ]
  },
  {
   "cell_type": "code",
   "execution_count": 76,
   "id": "09f5ccf2-8abf-4b08-8051-cb206ea52fad",
   "metadata": {},
   "outputs": [
    {
     "data": {
      "text/plain": [
       "(19706,)"
      ]
     },
     "execution_count": 76,
     "metadata": {},
     "output_type": "execute_result"
    }
   ],
   "source": [
    "scaled.shape"
   ]
  },
  {
   "cell_type": "code",
   "execution_count": 77,
   "id": "c03d469b-1ddb-47aa-9cd3-ab7f917ec946",
   "metadata": {},
   "outputs": [
    {
     "data": {
      "text/plain": [
       "array([0.75374734, 0.7944325 , 0.8308351 , ..., 0.15845825, 0.16916488,\n",
       "       0.18201286], dtype=float32)"
      ]
     },
     "execution_count": 77,
     "metadata": {},
     "output_type": "execute_result"
    }
   ],
   "source": [
    "scaled"
   ]
  },
  {
   "cell_type": "code",
   "execution_count": 78,
   "id": "071ee44c-f600-41f6-9490-6cda18be3d8d",
   "metadata": {},
   "outputs": [],
   "source": [
    "def df_to_X_y(df, window_size, forecast_length):\n",
    "    # df_as_np = df.to_numpy()\n",
    "    X = []\n",
    "    y = []\n",
    "    \n",
    "    for i in range(len(df) - window_size - forecast_length):\n",
    "        row_x = [[a] for a in df[i:i+window_size]]\n",
    "        \n",
    "        X.append(row_x)\n",
    "        # row_y = df_as_np[i+window_size]\n",
    "        row_y = [b for b in df[i+window_size:i+window_size+forecast_length]]\n",
    "        \n",
    "        y.append(row_y)\n",
    "        \n",
    "    return np.array(X), np.array(y)"
   ]
  },
  {
   "cell_type": "code",
   "execution_count": 90,
   "id": "c118b905-bab3-4abf-b257-253d7ea2bb98",
   "metadata": {},
   "outputs": [],
   "source": [
    "WINDOW_WIDTH = 168\n",
    "FORECAST_LENGTH = 1\n",
    "X, y = df_to_X_y(scaled, WINDOW_WIDTH, FORECAST_LENGTH)\n",
    "\n",
    "\n",
    "X_train, X_test, y_train, y_test = train_test_split(X, y, test_size=0.2, random_state=0)\n",
    "X_train, X_val, y_train, y_val = train_test_split(X_train, y_train, test_size=0.2, random_state=0)\n",
    "\n",
    "X_max = X_train.max()\n",
    "X_min = X_train.min()"
   ]
  },
  {
   "cell_type": "code",
   "execution_count": 91,
   "id": "5838000f-171e-4ea1-a35c-09157dde056c",
   "metadata": {},
   "outputs": [
    {
     "data": {
      "text/plain": [
       "(19537, 168, 1)"
      ]
     },
     "execution_count": 91,
     "metadata": {},
     "output_type": "execute_result"
    }
   ],
   "source": [
    "X.shape"
   ]
  },
  {
   "cell_type": "code",
   "execution_count": 92,
   "id": "e7b85489-d3d6-4c17-8935-238402086eff",
   "metadata": {},
   "outputs": [],
   "source": [
    "batchSize = 16\n",
    "from keras.models import Sequential, save_model, load_model\n",
    "from keras.layers import *\n",
    "from keras.callbacks import ReduceLROnPlateau, ModelCheckpoint\n",
    "from tensorflow.keras.optimizers import Adam\n",
    "from keras.losses import MeanSquaredError\n",
    "from keras.metrics import RootMeanSquaredError"
   ]
  },
  {
   "cell_type": "code",
   "execution_count": 94,
   "id": "3b6c5847-1cc5-4149-b349-ff4f5c638c90",
   "metadata": {},
   "outputs": [
    {
     "data": {
      "text/html": [
       "<pre style=\"white-space:pre;overflow-x:auto;line-height:normal;font-family:Menlo,'DejaVu Sans Mono',consolas,'Courier New',monospace\"><span style=\"font-weight: bold\">Model: \"sequential_4\"</span>\n",
       "</pre>\n"
      ],
      "text/plain": [
       "\u001b[1mModel: \"sequential_4\"\u001b[0m\n"
      ]
     },
     "metadata": {},
     "output_type": "display_data"
    },
    {
     "data": {
      "text/html": [
       "<pre style=\"white-space:pre;overflow-x:auto;line-height:normal;font-family:Menlo,'DejaVu Sans Mono',consolas,'Courier New',monospace\">┏━━━━━━━━━━━━━━━━━━━━━━━━━━━━━━━━━━━━━━┳━━━━━━━━━━━━━━━━━━━━━━━━━━━━━┳━━━━━━━━━━━━━━━━━┓\n",
       "┃<span style=\"font-weight: bold\"> Layer (type)                         </span>┃<span style=\"font-weight: bold\"> Output Shape                </span>┃<span style=\"font-weight: bold\">         Param # </span>┃\n",
       "┡━━━━━━━━━━━━━━━━━━━━━━━━━━━━━━━━━━━━━━╇━━━━━━━━━━━━━━━━━━━━━━━━━━━━━╇━━━━━━━━━━━━━━━━━┩\n",
       "│ conv1d_4 (<span style=\"color: #0087ff; text-decoration-color: #0087ff\">Conv1D</span>)                    │ (<span style=\"color: #00d7ff; text-decoration-color: #00d7ff\">None</span>, <span style=\"color: #00af00; text-decoration-color: #00af00\">166</span>, <span style=\"color: #00af00; text-decoration-color: #00af00\">64</span>)             │             <span style=\"color: #00af00; text-decoration-color: #00af00\">256</span> │\n",
       "├──────────────────────────────────────┼─────────────────────────────┼─────────────────┤\n",
       "│ flatten_4 (<span style=\"color: #0087ff; text-decoration-color: #0087ff\">Flatten</span>)                  │ (<span style=\"color: #00d7ff; text-decoration-color: #00d7ff\">None</span>, <span style=\"color: #00af00; text-decoration-color: #00af00\">10624</span>)               │               <span style=\"color: #00af00; text-decoration-color: #00af00\">0</span> │\n",
       "├──────────────────────────────────────┼─────────────────────────────┼─────────────────┤\n",
       "│ dense_4 (<span style=\"color: #0087ff; text-decoration-color: #0087ff\">Dense</span>)                      │ (<span style=\"color: #00d7ff; text-decoration-color: #00d7ff\">None</span>, <span style=\"color: #00af00; text-decoration-color: #00af00\">1</span>)                   │          <span style=\"color: #00af00; text-decoration-color: #00af00\">10,625</span> │\n",
       "└──────────────────────────────────────┴─────────────────────────────┴─────────────────┘\n",
       "</pre>\n"
      ],
      "text/plain": [
       "┏━━━━━━━━━━━━━━━━━━━━━━━━━━━━━━━━━━━━━━┳━━━━━━━━━━━━━━━━━━━━━━━━━━━━━┳━━━━━━━━━━━━━━━━━┓\n",
       "┃\u001b[1m \u001b[0m\u001b[1mLayer (type)                        \u001b[0m\u001b[1m \u001b[0m┃\u001b[1m \u001b[0m\u001b[1mOutput Shape               \u001b[0m\u001b[1m \u001b[0m┃\u001b[1m \u001b[0m\u001b[1m        Param #\u001b[0m\u001b[1m \u001b[0m┃\n",
       "┡━━━━━━━━━━━━━━━━━━━━━━━━━━━━━━━━━━━━━━╇━━━━━━━━━━━━━━━━━━━━━━━━━━━━━╇━━━━━━━━━━━━━━━━━┩\n",
       "│ conv1d_4 (\u001b[38;5;33mConv1D\u001b[0m)                    │ (\u001b[38;5;45mNone\u001b[0m, \u001b[38;5;34m166\u001b[0m, \u001b[38;5;34m64\u001b[0m)             │             \u001b[38;5;34m256\u001b[0m │\n",
       "├──────────────────────────────────────┼─────────────────────────────┼─────────────────┤\n",
       "│ flatten_4 (\u001b[38;5;33mFlatten\u001b[0m)                  │ (\u001b[38;5;45mNone\u001b[0m, \u001b[38;5;34m10624\u001b[0m)               │               \u001b[38;5;34m0\u001b[0m │\n",
       "├──────────────────────────────────────┼─────────────────────────────┼─────────────────┤\n",
       "│ dense_4 (\u001b[38;5;33mDense\u001b[0m)                      │ (\u001b[38;5;45mNone\u001b[0m, \u001b[38;5;34m1\u001b[0m)                   │          \u001b[38;5;34m10,625\u001b[0m │\n",
       "└──────────────────────────────────────┴─────────────────────────────┴─────────────────┘\n"
      ]
     },
     "metadata": {},
     "output_type": "display_data"
    },
    {
     "data": {
      "text/html": [
       "<pre style=\"white-space:pre;overflow-x:auto;line-height:normal;font-family:Menlo,'DejaVu Sans Mono',consolas,'Courier New',monospace\"><span style=\"font-weight: bold\"> Total params: </span><span style=\"color: #00af00; text-decoration-color: #00af00\">10,881</span> (42.50 KB)\n",
       "</pre>\n"
      ],
      "text/plain": [
       "\u001b[1m Total params: \u001b[0m\u001b[38;5;34m10,881\u001b[0m (42.50 KB)\n"
      ]
     },
     "metadata": {},
     "output_type": "display_data"
    },
    {
     "data": {
      "text/html": [
       "<pre style=\"white-space:pre;overflow-x:auto;line-height:normal;font-family:Menlo,'DejaVu Sans Mono',consolas,'Courier New',monospace\"><span style=\"font-weight: bold\"> Trainable params: </span><span style=\"color: #00af00; text-decoration-color: #00af00\">10,881</span> (42.50 KB)\n",
       "</pre>\n"
      ],
      "text/plain": [
       "\u001b[1m Trainable params: \u001b[0m\u001b[38;5;34m10,881\u001b[0m (42.50 KB)\n"
      ]
     },
     "metadata": {},
     "output_type": "display_data"
    },
    {
     "data": {
      "text/html": [
       "<pre style=\"white-space:pre;overflow-x:auto;line-height:normal;font-family:Menlo,'DejaVu Sans Mono',consolas,'Courier New',monospace\"><span style=\"font-weight: bold\"> Non-trainable params: </span><span style=\"color: #00af00; text-decoration-color: #00af00\">0</span> (0.00 B)\n",
       "</pre>\n"
      ],
      "text/plain": [
       "\u001b[1m Non-trainable params: \u001b[0m\u001b[38;5;34m0\u001b[0m (0.00 B)\n"
      ]
     },
     "metadata": {},
     "output_type": "display_data"
    },
    {
     "name": "stdout",
     "output_type": "stream",
     "text": [
      "Epoch 1/50\n",
      "\u001b[1m391/391\u001b[0m \u001b[32m━━━━━━━━━━━━━━━━━━━━\u001b[0m\u001b[37m\u001b[0m \u001b[1m3s\u001b[0m 6ms/step - loss: 0.0104 - root_mean_squared_error: 0.0954 - val_loss: 0.0021 - val_root_mean_squared_error: 0.0459 - learning_rate: 0.0010\n",
      "Epoch 2/50\n",
      "\u001b[1m391/391\u001b[0m \u001b[32m━━━━━━━━━━━━━━━━━━━━\u001b[0m\u001b[37m\u001b[0m \u001b[1m3s\u001b[0m 5ms/step - loss: 0.0022 - root_mean_squared_error: 0.0472 - val_loss: 0.0018 - val_root_mean_squared_error: 0.0426 - learning_rate: 0.0010\n",
      "Epoch 3/50\n",
      "\u001b[1m391/391\u001b[0m \u001b[32m━━━━━━━━━━━━━━━━━━━━\u001b[0m\u001b[37m\u001b[0m \u001b[1m3s\u001b[0m 4ms/step - loss: 0.0018 - root_mean_squared_error: 0.0421 - val_loss: 0.0022 - val_root_mean_squared_error: 0.0465 - learning_rate: 0.0010\n",
      "Epoch 4/50\n",
      "\u001b[1m391/391\u001b[0m \u001b[32m━━━━━━━━━━━━━━━━━━━━\u001b[0m\u001b[37m\u001b[0m \u001b[1m2s\u001b[0m 5ms/step - loss: 0.0016 - root_mean_squared_error: 0.0404 - val_loss: 0.0013 - val_root_mean_squared_error: 0.0365 - learning_rate: 0.0010\n",
      "Epoch 5/50\n",
      "\u001b[1m391/391\u001b[0m \u001b[32m━━━━━━━━━━━━━━━━━━━━\u001b[0m\u001b[37m\u001b[0m \u001b[1m3s\u001b[0m 5ms/step - loss: 0.0016 - root_mean_squared_error: 0.0399 - val_loss: 0.0014 - val_root_mean_squared_error: 0.0373 - learning_rate: 0.0010\n",
      "Epoch 6/50\n",
      "\u001b[1m391/391\u001b[0m \u001b[32m━━━━━━━━━━━━━━━━━━━━\u001b[0m\u001b[37m\u001b[0m \u001b[1m3s\u001b[0m 5ms/step - loss: 0.0015 - root_mean_squared_error: 0.0391 - val_loss: 0.0013 - val_root_mean_squared_error: 0.0363 - learning_rate: 0.0010\n",
      "Epoch 7/50\n",
      "\u001b[1m391/391\u001b[0m \u001b[32m━━━━━━━━━━━━━━━━━━━━\u001b[0m\u001b[37m\u001b[0m \u001b[1m2s\u001b[0m 5ms/step - loss: 0.0014 - root_mean_squared_error: 0.0379 - val_loss: 0.0015 - val_root_mean_squared_error: 0.0389 - learning_rate: 0.0010\n",
      "Epoch 8/50\n",
      "\u001b[1m391/391\u001b[0m \u001b[32m━━━━━━━━━━━━━━━━━━━━\u001b[0m\u001b[37m\u001b[0m \u001b[1m2s\u001b[0m 4ms/step - loss: 0.0015 - root_mean_squared_error: 0.0384 - val_loss: 0.0017 - val_root_mean_squared_error: 0.0414 - learning_rate: 0.0010\n",
      "Epoch 9/50\n",
      "\u001b[1m391/391\u001b[0m \u001b[32m━━━━━━━━━━━━━━━━━━━━\u001b[0m\u001b[37m\u001b[0m \u001b[1m2s\u001b[0m 4ms/step - loss: 0.0015 - root_mean_squared_error: 0.0388 - val_loss: 0.0014 - val_root_mean_squared_error: 0.0370 - learning_rate: 0.0010\n",
      "Epoch 10/50\n",
      "\u001b[1m391/391\u001b[0m \u001b[32m━━━━━━━━━━━━━━━━━━━━\u001b[0m\u001b[37m\u001b[0m \u001b[1m3s\u001b[0m 5ms/step - loss: 0.0014 - root_mean_squared_error: 0.0379 - val_loss: 0.0012 - val_root_mean_squared_error: 0.0353 - learning_rate: 0.0010\n",
      "Epoch 11/50\n",
      "\u001b[1m391/391\u001b[0m \u001b[32m━━━━━━━━━━━━━━━━━━━━\u001b[0m\u001b[37m\u001b[0m \u001b[1m3s\u001b[0m 5ms/step - loss: 0.0014 - root_mean_squared_error: 0.0368 - val_loss: 0.0014 - val_root_mean_squared_error: 0.0372 - learning_rate: 0.0010\n",
      "Epoch 12/50\n",
      "\u001b[1m391/391\u001b[0m \u001b[32m━━━━━━━━━━━━━━━━━━━━\u001b[0m\u001b[37m\u001b[0m \u001b[1m3s\u001b[0m 4ms/step - loss: 0.0013 - root_mean_squared_error: 0.0366 - val_loss: 0.0013 - val_root_mean_squared_error: 0.0357 - learning_rate: 0.0010\n",
      "Epoch 13/50\n",
      "\u001b[1m391/391\u001b[0m \u001b[32m━━━━━━━━━━━━━━━━━━━━\u001b[0m\u001b[37m\u001b[0m \u001b[1m3s\u001b[0m 5ms/step - loss: 0.0014 - root_mean_squared_error: 0.0368 - val_loss: 0.0013 - val_root_mean_squared_error: 0.0366 - learning_rate: 0.0010\n",
      "Epoch 14/50\n",
      "\u001b[1m391/391\u001b[0m \u001b[32m━━━━━━━━━━━━━━━━━━━━\u001b[0m\u001b[37m\u001b[0m \u001b[1m3s\u001b[0m 5ms/step - loss: 0.0013 - root_mean_squared_error: 0.0363 - val_loss: 0.0013 - val_root_mean_squared_error: 0.0359 - learning_rate: 0.0010\n",
      "Epoch 15/50\n",
      "\u001b[1m391/391\u001b[0m \u001b[32m━━━━━━━━━━━━━━━━━━━━\u001b[0m\u001b[37m\u001b[0m \u001b[1m2s\u001b[0m 4ms/step - loss: 0.0013 - root_mean_squared_error: 0.0359 - val_loss: 0.0012 - val_root_mean_squared_error: 0.0345 - learning_rate: 1.0000e-04\n",
      "Epoch 16/50\n",
      "\u001b[1m391/391\u001b[0m \u001b[32m━━━━━━━━━━━━━━━━━━━━\u001b[0m\u001b[37m\u001b[0m \u001b[1m4s\u001b[0m 6ms/step - loss: 0.0011 - root_mean_squared_error: 0.0335 - val_loss: 0.0012 - val_root_mean_squared_error: 0.0345 - learning_rate: 1.0000e-04\n",
      "Epoch 17/50\n",
      "\u001b[1m391/391\u001b[0m \u001b[32m━━━━━━━━━━━━━━━━━━━━\u001b[0m\u001b[37m\u001b[0m \u001b[1m2s\u001b[0m 5ms/step - loss: 0.0011 - root_mean_squared_error: 0.0331 - val_loss: 0.0012 - val_root_mean_squared_error: 0.0345 - learning_rate: 1.0000e-04\n",
      "Epoch 18/50\n",
      "\u001b[1m391/391\u001b[0m \u001b[32m━━━━━━━━━━━━━━━━━━━━\u001b[0m\u001b[37m\u001b[0m \u001b[1m3s\u001b[0m 5ms/step - loss: 0.0012 - root_mean_squared_error: 0.0343 - val_loss: 0.0012 - val_root_mean_squared_error: 0.0345 - learning_rate: 1.0000e-04\n",
      "Epoch 19/50\n",
      "\u001b[1m391/391\u001b[0m \u001b[32m━━━━━━━━━━━━━━━━━━━━\u001b[0m\u001b[37m\u001b[0m \u001b[1m3s\u001b[0m 5ms/step - loss: 0.0011 - root_mean_squared_error: 0.0336 - val_loss: 0.0012 - val_root_mean_squared_error: 0.0346 - learning_rate: 1.0000e-04\n",
      "Epoch 20/50\n",
      "\u001b[1m391/391\u001b[0m \u001b[32m━━━━━━━━━━━━━━━━━━━━\u001b[0m\u001b[37m\u001b[0m \u001b[1m3s\u001b[0m 5ms/step - loss: 0.0012 - root_mean_squared_error: 0.0340 - val_loss: 0.0012 - val_root_mean_squared_error: 0.0347 - learning_rate: 1.0000e-04\n",
      "Epoch 21/50\n",
      "\u001b[1m391/391\u001b[0m \u001b[32m━━━━━━━━━━━━━━━━━━━━\u001b[0m\u001b[37m\u001b[0m \u001b[1m3s\u001b[0m 5ms/step - loss: 0.0012 - root_mean_squared_error: 0.0340 - val_loss: 0.0012 - val_root_mean_squared_error: 0.0346 - learning_rate: 1.0000e-04\n",
      "Epoch 22/50\n",
      "\u001b[1m391/391\u001b[0m \u001b[32m━━━━━━━━━━━━━━━━━━━━\u001b[0m\u001b[37m\u001b[0m \u001b[1m3s\u001b[0m 5ms/step - loss: 0.0011 - root_mean_squared_error: 0.0329 - val_loss: 0.0012 - val_root_mean_squared_error: 0.0348 - learning_rate: 1.0000e-04\n",
      "Epoch 23/50\n",
      "\u001b[1m391/391\u001b[0m \u001b[32m━━━━━━━━━━━━━━━━━━━━\u001b[0m\u001b[37m\u001b[0m \u001b[1m2s\u001b[0m 5ms/step - loss: 0.0012 - root_mean_squared_error: 0.0346 - val_loss: 0.0012 - val_root_mean_squared_error: 0.0348 - learning_rate: 1.0000e-04\n",
      "Epoch 24/50\n",
      "\u001b[1m391/391\u001b[0m \u001b[32m━━━━━━━━━━━━━━━━━━━━\u001b[0m\u001b[37m\u001b[0m \u001b[1m2s\u001b[0m 5ms/step - loss: 0.0012 - root_mean_squared_error: 0.0350 - val_loss: 0.0012 - val_root_mean_squared_error: 0.0345 - learning_rate: 1.0000e-04\n",
      "Epoch 25/50\n",
      "\u001b[1m391/391\u001b[0m \u001b[32m━━━━━━━━━━━━━━━━━━━━\u001b[0m\u001b[37m\u001b[0m \u001b[1m2s\u001b[0m 4ms/step - loss: 0.0012 - root_mean_squared_error: 0.0341 - val_loss: 0.0012 - val_root_mean_squared_error: 0.0345 - learning_rate: 1.0000e-04\n",
      "Epoch 26/50\n",
      "\u001b[1m391/391\u001b[0m \u001b[32m━━━━━━━━━━━━━━━━━━━━\u001b[0m\u001b[37m\u001b[0m \u001b[1m2s\u001b[0m 4ms/step - loss: 0.0011 - root_mean_squared_error: 0.0328 - val_loss: 0.0012 - val_root_mean_squared_error: 0.0344 - learning_rate: 1.0000e-05\n",
      "Epoch 27/50\n",
      "\u001b[1m391/391\u001b[0m \u001b[32m━━━━━━━━━━━━━━━━━━━━\u001b[0m\u001b[37m\u001b[0m \u001b[1m2s\u001b[0m 5ms/step - loss: 0.0011 - root_mean_squared_error: 0.0326 - val_loss: 0.0012 - val_root_mean_squared_error: 0.0344 - learning_rate: 1.0000e-05\n",
      "Epoch 28/50\n",
      "\u001b[1m391/391\u001b[0m \u001b[32m━━━━━━━━━━━━━━━━━━━━\u001b[0m\u001b[37m\u001b[0m \u001b[1m3s\u001b[0m 5ms/step - loss: 0.0011 - root_mean_squared_error: 0.0332 - val_loss: 0.0012 - val_root_mean_squared_error: 0.0344 - learning_rate: 1.0000e-05\n",
      "Epoch 29/50\n",
      "\u001b[1m391/391\u001b[0m \u001b[32m━━━━━━━━━━━━━━━━━━━━\u001b[0m\u001b[37m\u001b[0m \u001b[1m3s\u001b[0m 5ms/step - loss: 0.0011 - root_mean_squared_error: 0.0332 - val_loss: 0.0012 - val_root_mean_squared_error: 0.0344 - learning_rate: 1.0000e-05\n",
      "Epoch 30/50\n",
      "\u001b[1m391/391\u001b[0m \u001b[32m━━━━━━━━━━━━━━━━━━━━\u001b[0m\u001b[37m\u001b[0m \u001b[1m2s\u001b[0m 5ms/step - loss: 0.0011 - root_mean_squared_error: 0.0332 - val_loss: 0.0012 - val_root_mean_squared_error: 0.0344 - learning_rate: 1.0000e-05\n",
      "Epoch 31/50\n",
      "\u001b[1m391/391\u001b[0m \u001b[32m━━━━━━━━━━━━━━━━━━━━\u001b[0m\u001b[37m\u001b[0m \u001b[1m2s\u001b[0m 5ms/step - loss: 0.0011 - root_mean_squared_error: 0.0336 - val_loss: 0.0012 - val_root_mean_squared_error: 0.0344 - learning_rate: 1.0000e-05\n",
      "Epoch 32/50\n",
      "\u001b[1m391/391\u001b[0m \u001b[32m━━━━━━━━━━━━━━━━━━━━\u001b[0m\u001b[37m\u001b[0m \u001b[1m2s\u001b[0m 4ms/step - loss: 0.0012 - root_mean_squared_error: 0.0340 - val_loss: 0.0012 - val_root_mean_squared_error: 0.0344 - learning_rate: 1.0000e-05\n",
      "Epoch 33/50\n",
      "\u001b[1m391/391\u001b[0m \u001b[32m━━━━━━━━━━━━━━━━━━━━\u001b[0m\u001b[37m\u001b[0m \u001b[1m3s\u001b[0m 4ms/step - loss: 0.0011 - root_mean_squared_error: 0.0332 - val_loss: 0.0012 - val_root_mean_squared_error: 0.0344 - learning_rate: 1.0000e-05\n",
      "Epoch 34/50\n",
      "\u001b[1m391/391\u001b[0m \u001b[32m━━━━━━━━━━━━━━━━━━━━\u001b[0m\u001b[37m\u001b[0m \u001b[1m2s\u001b[0m 4ms/step - loss: 0.0012 - root_mean_squared_error: 0.0342 - val_loss: 0.0012 - val_root_mean_squared_error: 0.0344 - learning_rate: 1.0000e-05\n",
      "Epoch 35/50\n",
      "\u001b[1m391/391\u001b[0m \u001b[32m━━━━━━━━━━━━━━━━━━━━\u001b[0m\u001b[37m\u001b[0m \u001b[1m2s\u001b[0m 4ms/step - loss: 0.0011 - root_mean_squared_error: 0.0333 - val_loss: 0.0012 - val_root_mean_squared_error: 0.0344 - learning_rate: 1.0000e-05\n",
      "Epoch 36/50\n",
      "\u001b[1m391/391\u001b[0m \u001b[32m━━━━━━━━━━━━━━━━━━━━\u001b[0m\u001b[37m\u001b[0m \u001b[1m2s\u001b[0m 5ms/step - loss: 0.0011 - root_mean_squared_error: 0.0335 - val_loss: 0.0012 - val_root_mean_squared_error: 0.0344 - learning_rate: 1.0000e-06\n",
      "Epoch 37/50\n",
      "\u001b[1m391/391\u001b[0m \u001b[32m━━━━━━━━━━━━━━━━━━━━\u001b[0m\u001b[37m\u001b[0m \u001b[1m3s\u001b[0m 6ms/step - loss: 0.0011 - root_mean_squared_error: 0.0332 - val_loss: 0.0012 - val_root_mean_squared_error: 0.0344 - learning_rate: 1.0000e-06\n",
      "Epoch 38/50\n",
      "\u001b[1m391/391\u001b[0m \u001b[32m━━━━━━━━━━━━━━━━━━━━\u001b[0m\u001b[37m\u001b[0m \u001b[1m2s\u001b[0m 5ms/step - loss: 0.0011 - root_mean_squared_error: 0.0335 - val_loss: 0.0012 - val_root_mean_squared_error: 0.0344 - learning_rate: 1.0000e-06\n",
      "Epoch 39/50\n",
      "\u001b[1m391/391\u001b[0m \u001b[32m━━━━━━━━━━━━━━━━━━━━\u001b[0m\u001b[37m\u001b[0m \u001b[1m2s\u001b[0m 5ms/step - loss: 0.0011 - root_mean_squared_error: 0.0336 - val_loss: 0.0012 - val_root_mean_squared_error: 0.0344 - learning_rate: 1.0000e-06\n",
      "Epoch 40/50\n",
      "\u001b[1m391/391\u001b[0m \u001b[32m━━━━━━━━━━━━━━━━━━━━\u001b[0m\u001b[37m\u001b[0m \u001b[1m2s\u001b[0m 5ms/step - loss: 0.0011 - root_mean_squared_error: 0.0338 - val_loss: 0.0012 - val_root_mean_squared_error: 0.0344 - learning_rate: 1.0000e-06\n",
      "Epoch 41/50\n",
      "\u001b[1m391/391\u001b[0m \u001b[32m━━━━━━━━━━━━━━━━━━━━\u001b[0m\u001b[37m\u001b[0m \u001b[1m3s\u001b[0m 5ms/step - loss: 0.0011 - root_mean_squared_error: 0.0334 - val_loss: 0.0012 - val_root_mean_squared_error: 0.0344 - learning_rate: 1.0000e-06\n",
      "Epoch 42/50\n",
      "\u001b[1m391/391\u001b[0m \u001b[32m━━━━━━━━━━━━━━━━━━━━\u001b[0m\u001b[37m\u001b[0m \u001b[1m3s\u001b[0m 5ms/step - loss: 0.0012 - root_mean_squared_error: 0.0342 - val_loss: 0.0012 - val_root_mean_squared_error: 0.0344 - learning_rate: 1.0000e-06\n",
      "Epoch 43/50\n",
      "\u001b[1m391/391\u001b[0m \u001b[32m━━━━━━━━━━━━━━━━━━━━\u001b[0m\u001b[37m\u001b[0m \u001b[1m2s\u001b[0m 6ms/step - loss: 0.0011 - root_mean_squared_error: 0.0330 - val_loss: 0.0012 - val_root_mean_squared_error: 0.0344 - learning_rate: 1.0000e-06\n",
      "Epoch 44/50\n",
      "\u001b[1m391/391\u001b[0m \u001b[32m━━━━━━━━━━━━━━━━━━━━\u001b[0m\u001b[37m\u001b[0m \u001b[1m2s\u001b[0m 4ms/step - loss: 0.0011 - root_mean_squared_error: 0.0327 - val_loss: 0.0012 - val_root_mean_squared_error: 0.0344 - learning_rate: 1.0000e-06\n",
      "Epoch 45/50\n",
      "\u001b[1m391/391\u001b[0m \u001b[32m━━━━━━━━━━━━━━━━━━━━\u001b[0m\u001b[37m\u001b[0m \u001b[1m1s\u001b[0m 4ms/step - loss: 0.0011 - root_mean_squared_error: 0.0338 - val_loss: 0.0012 - val_root_mean_squared_error: 0.0344 - learning_rate: 1.0000e-06\n",
      "Epoch 46/50\n",
      "\u001b[1m391/391\u001b[0m \u001b[32m━━━━━━━━━━━━━━━━━━━━\u001b[0m\u001b[37m\u001b[0m \u001b[1m2s\u001b[0m 4ms/step - loss: 0.0011 - root_mean_squared_error: 0.0333 - val_loss: 0.0012 - val_root_mean_squared_error: 0.0344 - learning_rate: 1.0000e-07\n",
      "Epoch 47/50\n",
      "\u001b[1m391/391\u001b[0m \u001b[32m━━━━━━━━━━━━━━━━━━━━\u001b[0m\u001b[37m\u001b[0m \u001b[1m3s\u001b[0m 5ms/step - loss: 0.0010 - root_mean_squared_error: 0.0321 - val_loss: 0.0012 - val_root_mean_squared_error: 0.0344 - learning_rate: 1.0000e-07\n",
      "Epoch 48/50\n",
      "\u001b[1m391/391\u001b[0m \u001b[32m━━━━━━━━━━━━━━━━━━━━\u001b[0m\u001b[37m\u001b[0m \u001b[1m3s\u001b[0m 5ms/step - loss: 0.0011 - root_mean_squared_error: 0.0333 - val_loss: 0.0012 - val_root_mean_squared_error: 0.0344 - learning_rate: 1.0000e-07\n",
      "Epoch 49/50\n",
      "\u001b[1m391/391\u001b[0m \u001b[32m━━━━━━━━━━━━━━━━━━━━\u001b[0m\u001b[37m\u001b[0m \u001b[1m3s\u001b[0m 5ms/step - loss: 0.0011 - root_mean_squared_error: 0.0335 - val_loss: 0.0012 - val_root_mean_squared_error: 0.0344 - learning_rate: 1.0000e-07\n",
      "Epoch 50/50\n",
      "\u001b[1m391/391\u001b[0m \u001b[32m━━━━━━━━━━━━━━━━━━━━\u001b[0m\u001b[37m\u001b[0m \u001b[1m3s\u001b[0m 5ms/step - loss: 0.0012 - root_mean_squared_error: 0.0341 - val_loss: 0.0012 - val_root_mean_squared_error: 0.0344 - learning_rate: 1.0000e-07\n"
     ]
    }
   ],
   "source": [
    "normalizer = Normalization()\n",
    "normalizer.adapt(X_train)\n",
    "rlrop = ReduceLROnPlateau(monitor='val_loss', factor=0.1, patience=10)\n",
    "\n",
    "model = Sequential()\n",
    "# 1D Convolutional layers\n",
    "model.add(Conv1D(filters=64, kernel_size=3, activation='relu', input_shape=X_train.shape[1:]))\n",
    "# model.add(Conv1D(filters=64, kernel_size=3, activation='relu'))\n",
    "# model.add(Conv1D(filters=32, kernel_size=3, activation='relu'))\n",
    "# Flatten the output of the Conv layers\n",
    "model.add(Flatten())\n",
    "# model.add(LSTM(input_shape = X_train.shape[1:], units=86, return_sequences=True))\n",
    "# model.add(LSTM(units=64, return_sequences=True))\n",
    "# model.add(GRU(units=86, return_sequences=True))\n",
    "# model.add(LSTM(units=128, return_sequences=True))\n",
    "# model.add(GRU(units=100, return_sequences=True))\n",
    "# model.add(LSTM(units=100, return_sequences=False))\n",
    "# model.add(Dense(units=100,  activation='relu'))\n",
    "# model.add(Dense(8, activation='relu'))\n",
    "\n",
    "model.add(Dense(units=FORECAST_LENGTH, activation='linear'))\n",
    "\n",
    "model.summary()\n",
    "\n",
    "model.compile(optimizer=Adam(learning_rate=0.001), metrics=[RootMeanSquaredError()] , loss=MeanSquaredError())\n",
    "\n",
    "history = model.fit(X_train, y_train, validation_data=(X_val,y_val), epochs=50, callbacks=[rlrop])\n",
    "\n",
    "# score = model.evaluate(X_test, y_test, verbose = 1)"
   ]
  },
  {
   "cell_type": "code",
   "execution_count": 95,
   "id": "5674b419-12bd-4a4e-a83d-2438ae813939",
   "metadata": {},
   "outputs": [
    {
     "name": "stdout",
     "output_type": "stream",
     "text": [
      "\u001b[1m123/123\u001b[0m \u001b[32m━━━━━━━━━━━━━━━━━━━━\u001b[0m\u001b[37m\u001b[0m \u001b[1m0s\u001b[0m 2ms/step\n"
     ]
    }
   ],
   "source": [
    "forecast = model.predict(X_test)"
   ]
  },
  {
   "cell_type": "code",
   "execution_count": 96,
   "id": "abb7c26e-b6e8-4526-aa4e-9180825c9d51",
   "metadata": {},
   "outputs": [],
   "source": [
    "poll = np.array(df[\"aqi\"])\n",
    "\n",
    "meanop = poll.mean()\n",
    "stdop = poll.std()\n",
    "\n",
    "y_test_true = y_test*stdop + meanop\n",
    "testPredict = forecast*stdop + meanop"
   ]
  },
  {
   "cell_type": "code",
   "execution_count": 97,
   "id": "cccf66c7-77a1-483d-8b28-e5df8056b4b6",
   "metadata": {},
   "outputs": [],
   "source": [
    "from sklearn.metrics import mean_squared_error"
   ]
  },
  {
   "cell_type": "code",
   "execution_count": 98,
   "id": "3e3a186b-a281-4964-9581-f8f73931e019",
   "metadata": {},
   "outputs": [
    {
     "name": "stdout",
     "output_type": "stream",
     "text": [
      "Test RMSE = 2.2266464\n"
     ]
    }
   ],
   "source": [
    "rmse = np.sqrt(mean_squared_error(y_test_true, testPredict))\n",
    "print(\"Test RMSE =\"  ,rmse)"
   ]
  },
  {
   "cell_type": "code",
   "execution_count": 99,
   "id": "7654b701-6ba9-4602-8611-59820b6311e4",
   "metadata": {},
   "outputs": [
    {
     "data": {
      "text/plain": [
       "array([[0.3182087 ],\n",
       "       [0.12527588],\n",
       "       [0.17633861],\n",
       "       ...,\n",
       "       [0.13315398],\n",
       "       [0.21843788],\n",
       "       [0.42623976]], dtype=float32)"
      ]
     },
     "execution_count": 99,
     "metadata": {},
     "output_type": "execute_result"
    }
   ],
   "source": [
    "forecast"
   ]
  },
  {
   "cell_type": "code",
   "execution_count": 100,
   "id": "7ea98a00-c789-49d3-bdfe-1c06c5364c33",
   "metadata": {},
   "outputs": [
    {
     "data": {
      "text/plain": [
       "array([[174.06168],\n",
       "       [162.31024],\n",
       "       [165.42044],\n",
       "       ...,\n",
       "       [162.79008],\n",
       "       [167.9847 ],\n",
       "       [180.6418 ]], dtype=float32)"
      ]
     },
     "execution_count": 100,
     "metadata": {},
     "output_type": "execute_result"
    }
   ],
   "source": [
    "testPredict"
   ]
  },
  {
   "cell_type": "code",
   "execution_count": 101,
   "id": "4e4e0314-523d-408f-9858-83e62f6ef22e",
   "metadata": {},
   "outputs": [
    {
     "data": {
      "text/plain": [
       "array([[172.54828],\n",
       "       [160.80983],\n",
       "       [166.28777],\n",
       "       ...,\n",
       "       [163.41837],\n",
       "       [165.37479],\n",
       "       [182.3303 ]], dtype=float32)"
      ]
     },
     "execution_count": 101,
     "metadata": {},
     "output_type": "execute_result"
    }
   ],
   "source": [
    "y_test_true"
   ]
  },
  {
   "cell_type": "code",
   "execution_count": 102,
   "id": "d5a7240d-c5bc-4310-9013-b5d388cfdc9b",
   "metadata": {},
   "outputs": [
    {
     "name": "stdout",
     "output_type": "stream",
     "text": [
      "\u001b[1m6/6\u001b[0m \u001b[32m━━━━━━━━━━━━━━━━━━━━\u001b[0m\u001b[37m\u001b[0m \u001b[1m0s\u001b[0m 2ms/step \n",
      "[169.91458 187.40926 160.5014  162.76108 168.45111 171.68578 162.11377\n",
      " 185.31924 174.57965 171.76117 160.30963 164.90567 169.68782 165.88435\n",
      " 162.34909 172.54448 169.30971 166.24742 192.7403  178.83891 164.91603\n",
      " 165.73605 165.58168 176.06604 166.37267 178.01857 174.65485 160.69594\n",
      " 178.18405 173.64241 181.75803 165.87349 171.71962 175.6577  165.68875\n",
      " 169.26404 167.57684 165.34644 183.09581 172.35182 163.9808  174.7425\n",
      " 158.02592 168.70834 173.88136 163.20085 173.23633 174.35324 161.39038\n",
      " 207.6283  169.04935 162.1792  163.14197 162.31961 172.23    179.2592\n",
      " 181.43954 173.33018 173.76929 171.84698 170.96667 172.25061 177.15411\n",
      " 165.72638 180.82788 176.58582 175.53667 176.25334 164.1777  178.52863\n",
      " 176.33417 168.77693 170.25299 159.5578  162.41032 160.71149 165.74657\n",
      " 182.75111 162.07297 167.07416 170.1425  162.7813  169.264   173.29195\n",
      " 167.2552  177.2388  174.50835 166.80717 171.14905 167.44427 173.59058\n",
      " 171.51314 176.0796  173.7372  161.64258 215.06183 175.59218 163.81981\n",
      " 171.46887 179.00803 174.30283 162.77585 178.96884 169.76537 189.19382\n",
      " 171.91046 177.90575 175.44841 194.80167 165.03754 172.50424 175.31693\n",
      " 176.63626 177.1611  158.45999 174.92374 177.89677 159.06943 177.66432\n",
      " 175.9262  174.17416 170.23381 160.62184 173.21779 161.59259 181.71626\n",
      " 174.693   165.98317 178.83582 173.18864 177.87407 162.2054  173.03532\n",
      " 161.5765  164.76477 175.2771  170.97748 193.48349 161.72499 188.61388\n",
      " 163.64343 180.5352  181.58853 186.39423 177.5287  160.77812 161.61862\n",
      " 157.4832  164.0569  181.71046 164.60052 170.88666 168.33406 166.08517\n",
      " 179.24777 170.47249 159.2382  160.0578  176.06033 169.5643  162.94806\n",
      " 168.90369 171.51419 175.3051  176.99957 162.79008 167.9847  180.6418 ]\n"
     ]
    }
   ],
   "source": [
    "# Use the last available data point from your dataset as the initial input\n",
    "last_input = X_test[-168:]\n",
    "\n",
    "# Make prediction\n",
    "forecast = model.predict(last_input)\n",
    "\n",
    "# Inverse transform forecasted value\n",
    "forecast = forecast.ravel() * stdop + meanop\n",
    "print(forecast)"
   ]
  },
  {
   "cell_type": "code",
   "execution_count": 104,
   "id": "f8fa1a80-49c3-4ac6-ab8c-32f45070d7d4",
   "metadata": {},
   "outputs": [
    {
     "data": {
      "text/plain": [
       "array([170.07016, 187.15611, 161.20111, 160.94025, 163.80965, 171.89613,\n",
       "       161.85324, 190.28638, 173.98297, 172.80913, 159.7664 , 164.59221,\n",
       "       169.67888, 162.24452, 164.98349, 172.6787 , 169.02673, 166.54863,\n",
       "       190.9385 , 180.3739 , 165.89648, 166.4182 , 166.28777, 178.15665,\n",
       "       166.4182 , 178.4175 , 172.80913, 159.7664 , 179.06964, 174.37425,\n",
       "       181.93903, 163.67923, 173.46127, 174.24384, 166.93991, 169.67888,\n",
       "       168.11375, 165.76607, 184.93886, 172.54828, 164.33136, 173.46127,\n",
       "       158.46214, 168.50504, 177.5045 , 162.89667, 170.46144, 173.46127,\n",
       "       161.20111, 207.89404, 170.07016, 161.72281, 163.15752, 164.98349,\n",
       "       186.1127 , 179.20006, 183.50415, 173.06998, 172.93956, 172.157  ,\n",
       "       171.37444, 172.54828, 177.11322, 164.59221, 184.93886, 177.11322,\n",
       "       171.63528, 171.89613, 163.94008, 178.02621, 176.85237, 167.85289,\n",
       "       170.72229, 159.37512, 161.85324, 161.20111, 166.67905, 185.98227,\n",
       "       162.24452, 167.72247, 168.63545, 162.37495, 174.37425, 171.244  ,\n",
       "       167.59204, 177.11322, 173.33084, 167.20076, 170.85272, 166.4182 ,\n",
       "       173.85254, 170.98315, 176.06981, 173.46127, 162.37495, 215.3284 ,\n",
       "       175.28725, 163.41837, 171.37444, 177.76537, 171.50485, 161.98367,\n",
       "       180.63477, 170.07016, 183.89545, 171.89613, 179.33049, 175.80896,\n",
       "       193.41663, 164.59221, 181.93903, 170.85272, 179.98262, 177.11322,\n",
       "       158.07086, 173.85254, 178.15665, 158.72299, 178.02621, 176.33066,\n",
       "       174.24384, 170.46144, 160.94025, 172.28741, 161.85324, 182.72159,\n",
       "       171.11357, 165.76607, 180.63477, 171.89613, 177.89578, 163.15752,\n",
       "       172.93956, 160.80983, 164.72264, 175.41768, 171.244  , 192.63406,\n",
       "       161.46196, 196.6773 , 163.94008, 182.3303 , 185.98227, 185.59099,\n",
       "       183.11287, 160.6794 , 161.20111, 156.897  , 163.28795, 183.2433 ,\n",
       "       167.46161, 171.244  , 169.15717, 166.15735, 182.98245, 169.67888,\n",
       "       159.11427, 159.11427, 175.93938, 168.63545, 161.98367, 169.67888,\n",
       "       172.28741, 185.85185, 178.15665, 163.41837, 165.37479, 182.3303 ],\n",
       "      dtype=float32)"
      ]
     },
     "execution_count": 104,
     "metadata": {},
     "output_type": "execute_result"
    }
   ],
   "source": [
    "y_test[-168:].ravel() * stdop + meanop"
   ]
  }
 ],
 "metadata": {
  "kernelspec": {
   "display_name": "Python 3 (ipykernel)",
   "language": "python",
   "name": "python3"
  },
  "language_info": {
   "codemirror_mode": {
    "name": "ipython",
    "version": 3
   },
   "file_extension": ".py",
   "mimetype": "text/x-python",
   "name": "python",
   "nbconvert_exporter": "python",
   "pygments_lexer": "ipython3",
   "version": "3.11.0"
  }
 },
 "nbformat": 4,
 "nbformat_minor": 5
}
