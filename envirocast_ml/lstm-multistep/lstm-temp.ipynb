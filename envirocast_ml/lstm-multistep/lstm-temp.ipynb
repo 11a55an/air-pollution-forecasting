{
 "cells": [
  {
   "cell_type": "markdown",
   "id": "97d94567-509b-4d26-8e2b-cd2d7c2fd1c5",
   "metadata": {},
   "source": [
    "# Air Pollution Forecasting - Temp"
   ]
  },
  {
   "cell_type": "code",
   "execution_count": 1,
   "id": "b5f9b8ed-fcd6-4c65-9c1d-d9baf0c9b19c",
   "metadata": {},
   "outputs": [],
   "source": [
    "import pandas as pd\n",
    "import numpy as np"
   ]
  },
  {
   "cell_type": "code",
   "execution_count": 6,
   "id": "7f6a3199-b275-4526-92b1-b46e1bcc34dd",
   "metadata": {},
   "outputs": [],
   "source": [
    "df = pd.read_csv(\"../data/data_imputed_2.csv\")"
   ]
  },
  {
   "cell_type": "code",
   "execution_count": 7,
   "id": "91f9c6e6-4fa1-40b3-bc7f-d27dd6bc9df0",
   "metadata": {},
   "outputs": [],
   "source": [
    "data = df[['temp']]"
   ]
  },
  {
   "cell_type": "code",
   "execution_count": 17,
   "id": "7adb5951-6756-4afa-8b89-6470edced23e",
   "metadata": {},
   "outputs": [],
   "source": [
    "def series_to_supervised(data, n_in = 1, n_out = 1, dropnan = True):\n",
    "    n_vars = 1 if type(data) is list else data.shape[1]\n",
    "    \n",
    "    df = pd.DataFrame(data)\n",
    "    cols, names = list(), list()\n",
    "    \n",
    "    # input sequence (t-n, ... t-1)\n",
    "    for i in range(n_in, 0, -1):\n",
    "        cols.append(df.shift(i))\n",
    "        names += [('var%d(t-%d)' % (j+1, i)) for j in range(n_vars)]\n",
    "        \n",
    "    # forecast sequence (t, t+1, ... t+n)\n",
    "    for i in range(0, n_out):\n",
    "        cols.append(df.shift(-i))\n",
    "        if i == 0:\n",
    "            names += [('var%d(t)' % (j+1)) for j in range(n_vars)]\n",
    "        else:\n",
    "            names += [('var%d(t+%d)' % (j+1, i)) for j in range(n_vars)]\n",
    "            \n",
    "    # put it all together\n",
    "    agg = pd.concat(cols, axis=1)\n",
    "    agg.columns = names\n",
    "    # drop rows with NaN values\n",
    "    if dropnan:\n",
    "        agg.dropna(inplace=True)\n",
    "        \n",
    "    return agg"
   ]
  },
  {
   "cell_type": "code",
   "execution_count": 19,
   "id": "2935419f-87a8-436a-ab4e-02569ae279a2",
   "metadata": {},
   "outputs": [],
   "source": [
    "from sklearn.metrics import mean_absolute_error , mean_squared_error\n",
    "from sklearn.preprocessing import MinMaxScaler\n",
    "from sklearn.preprocessing import LabelEncoder"
   ]
  },
  {
   "cell_type": "code",
   "execution_count": 20,
   "id": "346508c6-2026-42f9-a64e-2bc56e8df320",
   "metadata": {},
   "outputs": [],
   "source": [
    "values = data.values\n",
    "\n",
    "values = values.astype('float32')\n",
    "\n",
    "scaler = MinMaxScaler(feature_range=(0, 1))\n",
    "scaled = scaler.fit_transform(values)"
   ]
  },
  {
   "cell_type": "code",
   "execution_count": 40,
   "id": "4bbc768a-cd39-45ea-8833-38f57f7f32d8",
   "metadata": {},
   "outputs": [
    {
     "name": "stdout",
     "output_type": "stream",
     "text": [
      "(19538, 169)\n"
     ]
    }
   ],
   "source": [
    "# converting the dataset as supervised learning\n",
    "reframed = series_to_supervised(scaled, 168, 1)\n",
    "print(reframed.shape)"
   ]
  },
  {
   "cell_type": "code",
   "execution_count": 41,
   "id": "2a5260e5-4686-47d6-8e06-3c19881658cd",
   "metadata": {},
   "outputs": [
    {
     "name": "stdout",
     "output_type": "stream",
     "text": [
      "(13140, 1, 168) (13140,) (6398, 1, 168) (6398,)\n"
     ]
    }
   ],
   "source": [
    "values = reframed.values\n",
    "\n",
    "# We train the model on the 1st 3 years and then test on the last year (for now)\n",
    "n_train_hours = int(365 * 24 * 1.5)\n",
    "\n",
    "train = values[:n_train_hours, :]\n",
    "test = values[n_train_hours:, :]\n",
    "\n",
    "# split into input and outputs\n",
    "train_X, train_y = train[:, :-1], train[:, -1]\n",
    "test_X, test_y = test[:, :-1], test[:, -1]\n",
    "\n",
    "# reshape input to be 3D :- (no.of samples, no.of timesteps, no.of features)\n",
    "train_X = train_X.reshape((train_X.shape[0], 1, train_X.shape[1]))\n",
    "test_X = test_X.reshape((test_X.shape[0], 1, test_X.shape[1]))\n",
    "print(train_X.shape, train_y.shape, test_X.shape, test_y.shape)"
   ]
  },
  {
   "cell_type": "code",
   "execution_count": 56,
   "id": "6aebc9de-e069-4d0d-b2f3-3608608da992",
   "metadata": {},
   "outputs": [],
   "source": [
    "from tensorflow.keras.layers import Input, LSTM, Dense, Dropout, BatchNormalization, Conv2D, ConvLSTM1D, RepeatVector, TimeDistributed\n",
    "from tensorflow.keras.models import Sequential"
   ]
  },
  {
   "cell_type": "code",
   "execution_count": 68,
   "id": "f5baf67d-d6ff-43c3-ac1b-9429e36a6b35",
   "metadata": {},
   "outputs": [
    {
     "data": {
      "text/html": [
       "<pre style=\"white-space:pre;overflow-x:auto;line-height:normal;font-family:Menlo,'DejaVu Sans Mono',consolas,'Courier New',monospace\"><span style=\"font-weight: bold\">Model: \"sequential_11\"</span>\n",
       "</pre>\n"
      ],
      "text/plain": [
       "\u001b[1mModel: \"sequential_11\"\u001b[0m\n"
      ]
     },
     "metadata": {},
     "output_type": "display_data"
    },
    {
     "data": {
      "text/html": [
       "<pre style=\"white-space:pre;overflow-x:auto;line-height:normal;font-family:Menlo,'DejaVu Sans Mono',consolas,'Courier New',monospace\">┏━━━━━━━━━━━━━━━━━━━━━━━━━━━━━━━━━━━━━━┳━━━━━━━━━━━━━━━━━━━━━━━━━━━━━┳━━━━━━━━━━━━━━━━━┓\n",
       "┃<span style=\"font-weight: bold\"> Layer (type)                         </span>┃<span style=\"font-weight: bold\"> Output Shape                </span>┃<span style=\"font-weight: bold\">         Param # </span>┃\n",
       "┡━━━━━━━━━━━━━━━━━━━━━━━━━━━━━━━━━━━━━━╇━━━━━━━━━━━━━━━━━━━━━━━━━━━━━╇━━━━━━━━━━━━━━━━━┩\n",
       "│ lstm_15 (<span style=\"color: #0087ff; text-decoration-color: #0087ff\">LSTM</span>)                       │ (<span style=\"color: #00d7ff; text-decoration-color: #00d7ff\">None</span>, <span style=\"color: #00af00; text-decoration-color: #00af00\">1</span>, <span style=\"color: #00af00; text-decoration-color: #00af00\">100</span>)              │         <span style=\"color: #00af00; text-decoration-color: #00af00\">107,600</span> │\n",
       "├──────────────────────────────────────┼─────────────────────────────┼─────────────────┤\n",
       "│ lstm_16 (<span style=\"color: #0087ff; text-decoration-color: #0087ff\">LSTM</span>)                       │ (<span style=\"color: #00d7ff; text-decoration-color: #00d7ff\">None</span>, <span style=\"color: #00af00; text-decoration-color: #00af00\">100</span>)                 │          <span style=\"color: #00af00; text-decoration-color: #00af00\">80,400</span> │\n",
       "├──────────────────────────────────────┼─────────────────────────────┼─────────────────┤\n",
       "│ dense_6 (<span style=\"color: #0087ff; text-decoration-color: #0087ff\">Dense</span>)                      │ (<span style=\"color: #00d7ff; text-decoration-color: #00d7ff\">None</span>, <span style=\"color: #00af00; text-decoration-color: #00af00\">1</span>)                   │             <span style=\"color: #00af00; text-decoration-color: #00af00\">101</span> │\n",
       "└──────────────────────────────────────┴─────────────────────────────┴─────────────────┘\n",
       "</pre>\n"
      ],
      "text/plain": [
       "┏━━━━━━━━━━━━━━━━━━━━━━━━━━━━━━━━━━━━━━┳━━━━━━━━━━━━━━━━━━━━━━━━━━━━━┳━━━━━━━━━━━━━━━━━┓\n",
       "┃\u001b[1m \u001b[0m\u001b[1mLayer (type)                        \u001b[0m\u001b[1m \u001b[0m┃\u001b[1m \u001b[0m\u001b[1mOutput Shape               \u001b[0m\u001b[1m \u001b[0m┃\u001b[1m \u001b[0m\u001b[1m        Param #\u001b[0m\u001b[1m \u001b[0m┃\n",
       "┡━━━━━━━━━━━━━━━━━━━━━━━━━━━━━━━━━━━━━━╇━━━━━━━━━━━━━━━━━━━━━━━━━━━━━╇━━━━━━━━━━━━━━━━━┩\n",
       "│ lstm_15 (\u001b[38;5;33mLSTM\u001b[0m)                       │ (\u001b[38;5;45mNone\u001b[0m, \u001b[38;5;34m1\u001b[0m, \u001b[38;5;34m100\u001b[0m)              │         \u001b[38;5;34m107,600\u001b[0m │\n",
       "├──────────────────────────────────────┼─────────────────────────────┼─────────────────┤\n",
       "│ lstm_16 (\u001b[38;5;33mLSTM\u001b[0m)                       │ (\u001b[38;5;45mNone\u001b[0m, \u001b[38;5;34m100\u001b[0m)                 │          \u001b[38;5;34m80,400\u001b[0m │\n",
       "├──────────────────────────────────────┼─────────────────────────────┼─────────────────┤\n",
       "│ dense_6 (\u001b[38;5;33mDense\u001b[0m)                      │ (\u001b[38;5;45mNone\u001b[0m, \u001b[38;5;34m1\u001b[0m)                   │             \u001b[38;5;34m101\u001b[0m │\n",
       "└──────────────────────────────────────┴─────────────────────────────┴─────────────────┘\n"
      ]
     },
     "metadata": {},
     "output_type": "display_data"
    },
    {
     "data": {
      "text/html": [
       "<pre style=\"white-space:pre;overflow-x:auto;line-height:normal;font-family:Menlo,'DejaVu Sans Mono',consolas,'Courier New',monospace\"><span style=\"font-weight: bold\"> Total params: </span><span style=\"color: #00af00; text-decoration-color: #00af00\">188,101</span> (734.77 KB)\n",
       "</pre>\n"
      ],
      "text/plain": [
       "\u001b[1m Total params: \u001b[0m\u001b[38;5;34m188,101\u001b[0m (734.77 KB)\n"
      ]
     },
     "metadata": {},
     "output_type": "display_data"
    },
    {
     "data": {
      "text/html": [
       "<pre style=\"white-space:pre;overflow-x:auto;line-height:normal;font-family:Menlo,'DejaVu Sans Mono',consolas,'Courier New',monospace\"><span style=\"font-weight: bold\"> Trainable params: </span><span style=\"color: #00af00; text-decoration-color: #00af00\">188,101</span> (734.77 KB)\n",
       "</pre>\n"
      ],
      "text/plain": [
       "\u001b[1m Trainable params: \u001b[0m\u001b[38;5;34m188,101\u001b[0m (734.77 KB)\n"
      ]
     },
     "metadata": {},
     "output_type": "display_data"
    },
    {
     "data": {
      "text/html": [
       "<pre style=\"white-space:pre;overflow-x:auto;line-height:normal;font-family:Menlo,'DejaVu Sans Mono',consolas,'Courier New',monospace\"><span style=\"font-weight: bold\"> Non-trainable params: </span><span style=\"color: #00af00; text-decoration-color: #00af00\">0</span> (0.00 B)\n",
       "</pre>\n"
      ],
      "text/plain": [
       "\u001b[1m Non-trainable params: \u001b[0m\u001b[38;5;34m0\u001b[0m (0.00 B)\n"
      ]
     },
     "metadata": {},
     "output_type": "display_data"
    }
   ],
   "source": [
    "model = Sequential()\n",
    "model.add(Input(shape=(train_X.shape[1], train_X.shape[2])))\n",
    "# model.add(LSTM(64))\n",
    "# model.add(Dense(1))\n",
    "# model.add(Input(shape=(train_X.shape[1], train_X.shape[2])))\n",
    "# model.add(LSTM(256))\n",
    "# model.add(Dense(64))\n",
    "# model.add(Dropout(0.25))\n",
    "# model.add(BatchNormalization())\n",
    "# model.add(Dense(1))\n",
    "model.add(LSTM(100, activation='relu', return_sequences=True))\n",
    "# model.add(RepeatVector(1))\n",
    "model.add(LSTM(100, activation='relu', return_sequences=False))\n",
    "model.add(Dense(1))\n",
    "model.compile(loss='mse', optimizer='adam')\n",
    "model.summary()"
   ]
  },
  {
   "cell_type": "code",
   "execution_count": 69,
   "id": "d74c3f4a-dcb4-4086-9bc5-4bfd0f422f33",
   "metadata": {},
   "outputs": [
    {
     "name": "stdout",
     "output_type": "stream",
     "text": [
      "Epoch 1/50\n",
      "40/40 - 3s - 85ms/step - loss: 0.0453 - val_loss: 0.0397\n",
      "Epoch 2/50\n",
      "40/40 - 0s - 9ms/step - loss: 0.0129 - val_loss: 0.0363\n",
      "Epoch 3/50\n",
      "40/40 - 0s - 9ms/step - loss: 0.0078 - val_loss: 0.0211\n",
      "Epoch 4/50\n",
      "40/40 - 0s - 9ms/step - loss: 0.0057 - val_loss: 0.0138\n",
      "Epoch 5/50\n",
      "40/40 - 0s - 8ms/step - loss: 0.0049 - val_loss: 0.0080\n",
      "Epoch 6/50\n",
      "40/40 - 0s - 9ms/step - loss: 0.0046 - val_loss: 0.0050\n",
      "Epoch 7/50\n",
      "40/40 - 0s - 9ms/step - loss: 0.0042 - val_loss: 0.0038\n",
      "Epoch 8/50\n",
      "40/40 - 0s - 9ms/step - loss: 0.0038 - val_loss: 0.0038\n",
      "Epoch 9/50\n",
      "40/40 - 0s - 9ms/step - loss: 0.0035 - val_loss: 0.0042\n",
      "Epoch 10/50\n",
      "40/40 - 0s - 11ms/step - loss: 0.0034 - val_loss: 0.0048\n",
      "Epoch 11/50\n",
      "40/40 - 0s - 9ms/step - loss: 0.0032 - val_loss: 0.0052\n",
      "Epoch 12/50\n",
      "40/40 - 0s - 8ms/step - loss: 0.0031 - val_loss: 0.0054\n",
      "Epoch 13/50\n",
      "40/40 - 0s - 10ms/step - loss: 0.0030 - val_loss: 0.0053\n",
      "Epoch 14/50\n",
      "40/40 - 0s - 8ms/step - loss: 0.0029 - val_loss: 0.0051\n",
      "Epoch 15/50\n",
      "40/40 - 0s - 9ms/step - loss: 0.0028 - val_loss: 0.0046\n",
      "Epoch 16/50\n",
      "40/40 - 0s - 9ms/step - loss: 0.0027 - val_loss: 0.0041\n",
      "Epoch 17/50\n",
      "40/40 - 0s - 8ms/step - loss: 0.0025 - val_loss: 0.0036\n",
      "Epoch 18/50\n",
      "40/40 - 0s - 9ms/step - loss: 0.0024 - val_loss: 0.0031\n",
      "Epoch 19/50\n",
      "40/40 - 0s - 9ms/step - loss: 0.0023 - val_loss: 0.0027\n",
      "Epoch 20/50\n",
      "40/40 - 0s - 8ms/step - loss: 0.0022 - val_loss: 0.0024\n",
      "Epoch 21/50\n",
      "40/40 - 0s - 9ms/step - loss: 0.0021 - val_loss: 0.0023\n",
      "Epoch 22/50\n",
      "40/40 - 0s - 9ms/step - loss: 0.0020 - val_loss: 0.0023\n",
      "Epoch 23/50\n",
      "40/40 - 0s - 9ms/step - loss: 0.0019 - val_loss: 0.0022\n",
      "Epoch 24/50\n",
      "40/40 - 1s - 14ms/step - loss: 0.0019 - val_loss: 0.0022\n",
      "Epoch 25/50\n",
      "40/40 - 0s - 8ms/step - loss: 0.0018 - val_loss: 0.0023\n",
      "Epoch 26/50\n",
      "40/40 - 0s - 9ms/step - loss: 0.0018 - val_loss: 0.0023\n",
      "Epoch 27/50\n",
      "40/40 - 0s - 8ms/step - loss: 0.0018 - val_loss: 0.0022\n",
      "Epoch 28/50\n",
      "40/40 - 0s - 8ms/step - loss: 0.0019 - val_loss: 0.0022\n",
      "Epoch 29/50\n",
      "40/40 - 0s - 9ms/step - loss: 0.0019 - val_loss: 0.0022\n",
      "Epoch 30/50\n",
      "40/40 - 0s - 9ms/step - loss: 0.0020 - val_loss: 0.0022\n",
      "Epoch 31/50\n",
      "40/40 - 0s - 8ms/step - loss: 0.0020 - val_loss: 0.0021\n",
      "Epoch 32/50\n",
      "40/40 - 0s - 10ms/step - loss: 0.0020 - val_loss: 0.0021\n",
      "Epoch 33/50\n",
      "40/40 - 1s - 16ms/step - loss: 0.0020 - val_loss: 0.0021\n",
      "Epoch 34/50\n",
      "40/40 - 0s - 9ms/step - loss: 0.0020 - val_loss: 0.0021\n",
      "Epoch 35/50\n",
      "40/40 - 0s - 9ms/step - loss: 0.0019 - val_loss: 0.0020\n",
      "Epoch 36/50\n",
      "40/40 - 0s - 8ms/step - loss: 0.0019 - val_loss: 0.0020\n",
      "Epoch 37/50\n",
      "40/40 - 0s - 12ms/step - loss: 0.0018 - val_loss: 0.0020\n",
      "Epoch 38/50\n",
      "40/40 - 0s - 8ms/step - loss: 0.0018 - val_loss: 0.0020\n",
      "Epoch 39/50\n",
      "40/40 - 0s - 9ms/step - loss: 0.0018 - val_loss: 0.0020\n",
      "Epoch 40/50\n",
      "40/40 - 0s - 9ms/step - loss: 0.0018 - val_loss: 0.0020\n",
      "Epoch 41/50\n",
      "40/40 - 1s - 17ms/step - loss: 0.0018 - val_loss: 0.0020\n",
      "Epoch 42/50\n",
      "40/40 - 0s - 8ms/step - loss: 0.0018 - val_loss: 0.0020\n",
      "Epoch 43/50\n",
      "40/40 - 0s - 8ms/step - loss: 0.0018 - val_loss: 0.0020\n",
      "Epoch 44/50\n",
      "40/40 - 0s - 8ms/step - loss: 0.0018 - val_loss: 0.0019\n",
      "Epoch 45/50\n",
      "40/40 - 0s - 8ms/step - loss: 0.0018 - val_loss: 0.0019\n",
      "Epoch 46/50\n",
      "40/40 - 0s - 8ms/step - loss: 0.0018 - val_loss: 0.0019\n",
      "Epoch 47/50\n",
      "40/40 - 0s - 8ms/step - loss: 0.0018 - val_loss: 0.0019\n",
      "Epoch 48/50\n",
      "40/40 - 0s - 8ms/step - loss: 0.0017 - val_loss: 0.0019\n",
      "Epoch 49/50\n",
      "40/40 - 0s - 8ms/step - loss: 0.0017 - val_loss: 0.0019\n",
      "Epoch 50/50\n",
      "40/40 - 0s - 8ms/step - loss: 0.0017 - val_loss: 0.0019\n"
     ]
    }
   ],
   "source": [
    "history = model.fit(train_X, train_y, epochs=50, batch_size=264, validation_split=0.2, verbose=2, shuffle=False)"
   ]
  },
  {
   "cell_type": "code",
   "execution_count": 70,
   "id": "ec94ec25-56d1-4466-a75b-325bee91f9a3",
   "metadata": {},
   "outputs": [
    {
     "data": {
      "image/png": "[encoded data removed]",
      "text/plain": [
       "<Figure size 1500x600 with 1 Axes>"
      ]
     },
     "metadata": {},
     "output_type": "display_data"
    }
   ],
   "source": [
    "import matplotlib.pyplot as plt\n",
    "plt.figure(figsize=(15,6))\n",
    "plt.plot(history.history['loss'], label='train', linewidth = 2.5)\n",
    "plt.plot(history.history['val_loss'], label='test',  linewidth = 2.5)\n",
    "plt.legend()\n",
    "plt.show()"
   ]
  },
  {
   "cell_type": "code",
   "execution_count": 71,
   "id": "375ab757-4d10-4016-9093-fe370463c82c",
   "metadata": {},
   "outputs": [
    {
     "name": "stdout",
     "output_type": "stream",
     "text": [
      "\u001b[1m200/200\u001b[0m \u001b[32m━━━━━━━━━━━━━━━━━━━━\u001b[0m\u001b[37m\u001b[0m \u001b[1m1s\u001b[0m 3ms/step\n",
      "(6398, 1)\n",
      "(6398,)\n"
     ]
    }
   ],
   "source": [
    "testPredict = model.predict(test_X)\n",
    "print(testPredict.shape)\n",
    "testPredict = testPredict.ravel()\n",
    "\n",
    "print(testPredict.shape)"
   ]
  },
  {
   "cell_type": "code",
   "execution_count": 72,
   "id": "dbfc0c63-c7c6-402e-b9a9-cce131a96d91",
   "metadata": {},
   "outputs": [],
   "source": [
    "y_test_true = test[:,1]"
   ]
  },
  {
   "cell_type": "code",
   "execution_count": 73,
   "id": "d28aca89-2e7f-4494-9ccf-8367e4712d65",
   "metadata": {},
   "outputs": [],
   "source": [
    "poll = np.array(df[\"aqi\"])\n",
    "\n",
    "meanop = poll.mean()\n",
    "stdop = poll.std()\n",
    "\n",
    "y_test_true = y_test_true*stdop + meanop\n",
    "testPredict = testPredict*stdop + meanop"
   ]
  },
  {
   "cell_type": "code",
   "execution_count": 75,
   "id": "b98e5646-5dc1-4c56-8985-5ff1cb501d47",
   "metadata": {},
   "outputs": [
    {
     "name": "stdout",
     "output_type": "stream",
     "text": [
      "Test RMSE = 181.21182\n"
     ]
    }
   ],
   "source": [
    "rmse = np.sqrt(mean_squared_error(test_y, testPredict))\n",
    "print(\"Test RMSE =\"  ,rmse)"
   ]
  },
  {
   "cell_type": "code",
   "execution_count": null,
   "id": "1f742359-e1bb-462e-9388-70e7266079b7",
   "metadata": {},
   "outputs": [],
   "source": []
  }
 ],
 "metadata": {
  "kernelspec": {
   "display_name": "Python 3 (ipykernel)",
   "language": "python",
   "name": "python3"
  },
  "language_info": {
   "codemirror_mode": {
    "name": "ipython",
    "version": 3
   },
   "file_extension": ".py",
   "mimetype": "text/x-python",
   "name": "python",
   "nbconvert_exporter": "python",
   "pygments_lexer": "ipython3",
   "version": "3.11.0"
  }
 },
 "nbformat": 4,
 "nbformat_minor": 5
}
