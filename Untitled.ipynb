{
 "cells": [
  {
   "cell_type": "markdown",
   "id": "8312ae83-9a8b-41f6-9141-3480153687a6",
   "metadata": {},
   "source": [
    "# Data OpenMateo"
   ]
  },
  {
   "cell_type": "code",
   "execution_count": 1,
   "id": "64c3a08e-8d0d-4f1f-a144-f24478fd79f6",
   "metadata": {},
   "outputs": [],
   "source": [
    "import pandas as pd"
   ]
  },
  {
   "cell_type": "code",
   "execution_count": 2,
   "id": "f8630953-4f9e-4aae-9a7d-c3c5aac66870",
   "metadata": {},
   "outputs": [],
   "source": [
    "df = pd.read_csv(\"data_openmateo.csv\")"
   ]
  },
  {
   "cell_type": "code",
   "execution_count": 3,
   "id": "55784b77-7562-41cb-9865-a71b593de68b",
   "metadata": {},
   "outputs": [
    {
     "data": {
      "text/html": [
       "<div>\n",
       "<style scoped>\n",
       "    .dataframe tbody tr th:only-of-type {\n",
       "        vertical-align: middle;\n",
       "    }\n",
       "\n",
       "    .dataframe tbody tr th {\n",
       "        vertical-align: top;\n",
       "    }\n",
       "\n",
       "    .dataframe thead th {\n",
       "        text-align: right;\n",
       "    }\n",
       "</style>\n",
       "<table border=\"1\" class=\"dataframe\">\n",
       "  <thead>\n",
       "    <tr style=\"text-align: right;\">\n",
       "      <th></th>\n",
       "      <th>time</th>\n",
       "      <th>pm10 (μg/m³)</th>\n",
       "      <th>pm2_5 (μg/m³)</th>\n",
       "      <th>carbon_monoxide (μg/m³)</th>\n",
       "      <th>nitrogen_dioxide (μg/m³)</th>\n",
       "      <th>sulphur_dioxide (μg/m³)</th>\n",
       "      <th>ozone (μg/m³)</th>\n",
       "    </tr>\n",
       "  </thead>\n",
       "  <tbody>\n",
       "    <tr>\n",
       "      <th>0</th>\n",
       "      <td>2022-08-04T00:00</td>\n",
       "      <td>85.9</td>\n",
       "      <td>59.8</td>\n",
       "      <td>588</td>\n",
       "      <td>13.9</td>\n",
       "      <td>9.4</td>\n",
       "      <td>87</td>\n",
       "    </tr>\n",
       "    <tr>\n",
       "      <th>1</th>\n",
       "      <td>2022-08-04T01:00</td>\n",
       "      <td>77.5</td>\n",
       "      <td>53.8</td>\n",
       "      <td>580</td>\n",
       "      <td>13.9</td>\n",
       "      <td>11.0</td>\n",
       "      <td>93</td>\n",
       "    </tr>\n",
       "    <tr>\n",
       "      <th>2</th>\n",
       "      <td>2022-08-04T02:00</td>\n",
       "      <td>68.7</td>\n",
       "      <td>47.5</td>\n",
       "      <td>568</td>\n",
       "      <td>14.0</td>\n",
       "      <td>13.4</td>\n",
       "      <td>101</td>\n",
       "    </tr>\n",
       "    <tr>\n",
       "      <th>3</th>\n",
       "      <td>2022-08-04T03:00</td>\n",
       "      <td>62.9</td>\n",
       "      <td>43.2</td>\n",
       "      <td>543</td>\n",
       "      <td>13.2</td>\n",
       "      <td>15.7</td>\n",
       "      <td>115</td>\n",
       "    </tr>\n",
       "    <tr>\n",
       "      <th>4</th>\n",
       "      <td>2022-08-04T04:00</td>\n",
       "      <td>60.1</td>\n",
       "      <td>41.0</td>\n",
       "      <td>511</td>\n",
       "      <td>11.1</td>\n",
       "      <td>16.0</td>\n",
       "      <td>130</td>\n",
       "    </tr>\n",
       "  </tbody>\n",
       "</table>\n",
       "</div>"
      ],
      "text/plain": [
       "               time  pm10 (μg/m³)  pm2_5 (μg/m³)  carbon_monoxide (μg/m³)  \\\n",
       "0  2022-08-04T00:00          85.9           59.8                      588   \n",
       "1  2022-08-04T01:00          77.5           53.8                      580   \n",
       "2  2022-08-04T02:00          68.7           47.5                      568   \n",
       "3  2022-08-04T03:00          62.9           43.2                      543   \n",
       "4  2022-08-04T04:00          60.1           41.0                      511   \n",
       "\n",
       "   nitrogen_dioxide (μg/m³)  sulphur_dioxide (μg/m³)  ozone (μg/m³)  \n",
       "0                      13.9                      9.4             87  \n",
       "1                      13.9                     11.0             93  \n",
       "2                      14.0                     13.4            101  \n",
       "3                      13.2                     15.7            115  \n",
       "4                      11.1                     16.0            130  "
      ]
     },
     "execution_count": 3,
     "metadata": {},
     "output_type": "execute_result"
    }
   ],
   "source": [
    "df.head()"
   ]
  },
  {
   "cell_type": "code",
   "execution_count": 4,
   "id": "23d93df0-b80b-408e-b123-5b007ec98886",
   "metadata": {},
   "outputs": [
    {
     "data": {
      "text/html": [
       "<div>\n",
       "<style scoped>\n",
       "    .dataframe tbody tr th:only-of-type {\n",
       "        vertical-align: middle;\n",
       "    }\n",
       "\n",
       "    .dataframe tbody tr th {\n",
       "        vertical-align: top;\n",
       "    }\n",
       "\n",
       "    .dataframe thead th {\n",
       "        text-align: right;\n",
       "    }\n",
       "</style>\n",
       "<table border=\"1\" class=\"dataframe\">\n",
       "  <thead>\n",
       "    <tr style=\"text-align: right;\">\n",
       "      <th></th>\n",
       "      <th>pm10 (μg/m³)</th>\n",
       "      <th>pm2_5 (μg/m³)</th>\n",
       "      <th>carbon_monoxide (μg/m³)</th>\n",
       "      <th>nitrogen_dioxide (μg/m³)</th>\n",
       "      <th>sulphur_dioxide (μg/m³)</th>\n",
       "      <th>ozone (μg/m³)</th>\n",
       "    </tr>\n",
       "  </thead>\n",
       "  <tbody>\n",
       "    <tr>\n",
       "      <th>count</th>\n",
       "      <td>14293.000000</td>\n",
       "      <td>14293.000000</td>\n",
       "      <td>14293.000000</td>\n",
       "      <td>14293.000000</td>\n",
       "      <td>14293.000000</td>\n",
       "      <td>14293.000000</td>\n",
       "    </tr>\n",
       "    <tr>\n",
       "      <th>mean</th>\n",
       "      <td>94.892255</td>\n",
       "      <td>62.570335</td>\n",
       "      <td>880.262156</td>\n",
       "      <td>19.348856</td>\n",
       "      <td>9.273281</td>\n",
       "      <td>87.946967</td>\n",
       "    </tr>\n",
       "    <tr>\n",
       "      <th>std</th>\n",
       "      <td>57.639332</td>\n",
       "      <td>40.252286</td>\n",
       "      <td>729.070821</td>\n",
       "      <td>17.691581</td>\n",
       "      <td>5.736532</td>\n",
       "      <td>51.554124</td>\n",
       "    </tr>\n",
       "    <tr>\n",
       "      <th>min</th>\n",
       "      <td>0.800000</td>\n",
       "      <td>0.600000</td>\n",
       "      <td>59.000000</td>\n",
       "      <td>-0.900000</td>\n",
       "      <td>0.000000</td>\n",
       "      <td>0.000000</td>\n",
       "    </tr>\n",
       "    <tr>\n",
       "      <th>25%</th>\n",
       "      <td>55.200000</td>\n",
       "      <td>35.500000</td>\n",
       "      <td>383.000000</td>\n",
       "      <td>6.400000</td>\n",
       "      <td>5.300000</td>\n",
       "      <td>46.000000</td>\n",
       "    </tr>\n",
       "    <tr>\n",
       "      <th>50%</th>\n",
       "      <td>79.200000</td>\n",
       "      <td>50.600000</td>\n",
       "      <td>644.000000</td>\n",
       "      <td>14.400000</td>\n",
       "      <td>7.900000</td>\n",
       "      <td>78.000000</td>\n",
       "    </tr>\n",
       "    <tr>\n",
       "      <th>75%</th>\n",
       "      <td>116.900000</td>\n",
       "      <td>76.100000</td>\n",
       "      <td>1068.000000</td>\n",
       "      <td>26.000000</td>\n",
       "      <td>11.600000</td>\n",
       "      <td>129.000000</td>\n",
       "    </tr>\n",
       "    <tr>\n",
       "      <th>max</th>\n",
       "      <td>392.100000</td>\n",
       "      <td>274.700000</td>\n",
       "      <td>5256.000000</td>\n",
       "      <td>122.800000</td>\n",
       "      <td>42.800000</td>\n",
       "      <td>257.000000</td>\n",
       "    </tr>\n",
       "  </tbody>\n",
       "</table>\n",
       "</div>"
      ],
      "text/plain": [
       "       pm10 (μg/m³)  pm2_5 (μg/m³)  carbon_monoxide (μg/m³)  \\\n",
       "count  14293.000000   14293.000000             14293.000000   \n",
       "mean      94.892255      62.570335               880.262156   \n",
       "std       57.639332      40.252286               729.070821   \n",
       "min        0.800000       0.600000                59.000000   \n",
       "25%       55.200000      35.500000               383.000000   \n",
       "50%       79.200000      50.600000               644.000000   \n",
       "75%      116.900000      76.100000              1068.000000   \n",
       "max      392.100000     274.700000              5256.000000   \n",
       "\n",
       "       nitrogen_dioxide (μg/m³)  sulphur_dioxide (μg/m³)  ozone (μg/m³)  \n",
       "count              14293.000000             14293.000000   14293.000000  \n",
       "mean                  19.348856                 9.273281      87.946967  \n",
       "std                   17.691581                 5.736532      51.554124  \n",
       "min                   -0.900000                 0.000000       0.000000  \n",
       "25%                    6.400000                 5.300000      46.000000  \n",
       "50%                   14.400000                 7.900000      78.000000  \n",
       "75%                   26.000000                11.600000     129.000000  \n",
       "max                  122.800000                42.800000     257.000000  "
      ]
     },
     "execution_count": 4,
     "metadata": {},
     "output_type": "execute_result"
    }
   ],
   "source": [
    "df.describe()"
   ]
  },
  {
   "cell_type": "code",
   "execution_count": 5,
   "id": "4622c050-7e6d-413a-8e69-c7f428b70176",
   "metadata": {},
   "outputs": [
    {
     "name": "stdout",
     "output_type": "stream",
     "text": [
      "<class 'pandas.core.frame.DataFrame'>\n",
      "RangeIndex: 14293 entries, 0 to 14292\n",
      "Data columns (total 7 columns):\n",
      " #   Column                    Non-Null Count  Dtype  \n",
      "---  ------                    --------------  -----  \n",
      " 0   time                      14293 non-null  object \n",
      " 1   pm10 (μg/m³)              14293 non-null  float64\n",
      " 2   pm2_5 (μg/m³)             14293 non-null  float64\n",
      " 3   carbon_monoxide (μg/m³)   14293 non-null  int64  \n",
      " 4   nitrogen_dioxide (μg/m³)  14293 non-null  float64\n",
      " 5   sulphur_dioxide (μg/m³)   14293 non-null  float64\n",
      " 6   ozone (μg/m³)             14293 non-null  int64  \n",
      "dtypes: float64(4), int64(2), object(1)\n",
      "memory usage: 781.8+ KB\n"
     ]
    }
   ],
   "source": [
    "df.info()"
   ]
  },
  {
   "cell_type": "code",
   "execution_count": 6,
   "id": "f549af62-1219-4a67-bdcb-6604cad7fe3f",
   "metadata": {},
   "outputs": [],
   "source": [
    "df['time'] = pd.to_datetime(df['time'])"
   ]
  },
  {
   "cell_type": "code",
   "execution_count": 7,
   "id": "91c93294-57a7-4903-91bd-754838ced9e6",
   "metadata": {},
   "outputs": [
    {
     "name": "stdout",
     "output_type": "stream",
     "text": [
      "<class 'pandas.core.frame.DataFrame'>\n",
      "RangeIndex: 14293 entries, 0 to 14292\n",
      "Data columns (total 7 columns):\n",
      " #   Column                    Non-Null Count  Dtype         \n",
      "---  ------                    --------------  -----         \n",
      " 0   time                      14293 non-null  datetime64[ns]\n",
      " 1   pm10 (μg/m³)              14293 non-null  float64       \n",
      " 2   pm2_5 (μg/m³)             14293 non-null  float64       \n",
      " 3   carbon_monoxide (μg/m³)   14293 non-null  int64         \n",
      " 4   nitrogen_dioxide (μg/m³)  14293 non-null  float64       \n",
      " 5   sulphur_dioxide (μg/m³)   14293 non-null  float64       \n",
      " 6   ozone (μg/m³)             14293 non-null  int64         \n",
      "dtypes: datetime64[ns](1), float64(4), int64(2)\n",
      "memory usage: 781.8 KB\n"
     ]
    }
   ],
   "source": [
    "df.info()"
   ]
  },
  {
   "cell_type": "code",
   "execution_count": 8,
   "id": "a5afd7d6-d42b-4c86-bf83-44a173efdca3",
   "metadata": {},
   "outputs": [],
   "source": [
    "df.set_index('time',inplace=True)"
   ]
  },
  {
   "cell_type": "code",
   "execution_count": 9,
   "id": "dcea7956-ab4d-4f9c-ba78-ba47bb992e86",
   "metadata": {},
   "outputs": [
    {
     "data": {
      "text/html": [
       "<div>\n",
       "<style scoped>\n",
       "    .dataframe tbody tr th:only-of-type {\n",
       "        vertical-align: middle;\n",
       "    }\n",
       "\n",
       "    .dataframe tbody tr th {\n",
       "        vertical-align: top;\n",
       "    }\n",
       "\n",
       "    .dataframe thead th {\n",
       "        text-align: right;\n",
       "    }\n",
       "</style>\n",
       "<table border=\"1\" class=\"dataframe\">\n",
       "  <thead>\n",
       "    <tr style=\"text-align: right;\">\n",
       "      <th></th>\n",
       "      <th>pm10 (μg/m³)</th>\n",
       "      <th>pm2_5 (μg/m³)</th>\n",
       "      <th>carbon_monoxide (μg/m³)</th>\n",
       "      <th>nitrogen_dioxide (μg/m³)</th>\n",
       "      <th>sulphur_dioxide (μg/m³)</th>\n",
       "      <th>ozone (μg/m³)</th>\n",
       "    </tr>\n",
       "    <tr>\n",
       "      <th>time</th>\n",
       "      <th></th>\n",
       "      <th></th>\n",
       "      <th></th>\n",
       "      <th></th>\n",
       "      <th></th>\n",
       "      <th></th>\n",
       "    </tr>\n",
       "  </thead>\n",
       "  <tbody>\n",
       "    <tr>\n",
       "      <th>2022-08-04 00:00:00</th>\n",
       "      <td>85.9</td>\n",
       "      <td>59.8</td>\n",
       "      <td>588</td>\n",
       "      <td>13.9</td>\n",
       "      <td>9.4</td>\n",
       "      <td>87</td>\n",
       "    </tr>\n",
       "    <tr>\n",
       "      <th>2022-08-04 01:00:00</th>\n",
       "      <td>77.5</td>\n",
       "      <td>53.8</td>\n",
       "      <td>580</td>\n",
       "      <td>13.9</td>\n",
       "      <td>11.0</td>\n",
       "      <td>93</td>\n",
       "    </tr>\n",
       "    <tr>\n",
       "      <th>2022-08-04 02:00:00</th>\n",
       "      <td>68.7</td>\n",
       "      <td>47.5</td>\n",
       "      <td>568</td>\n",
       "      <td>14.0</td>\n",
       "      <td>13.4</td>\n",
       "      <td>101</td>\n",
       "    </tr>\n",
       "    <tr>\n",
       "      <th>2022-08-04 03:00:00</th>\n",
       "      <td>62.9</td>\n",
       "      <td>43.2</td>\n",
       "      <td>543</td>\n",
       "      <td>13.2</td>\n",
       "      <td>15.7</td>\n",
       "      <td>115</td>\n",
       "    </tr>\n",
       "    <tr>\n",
       "      <th>2022-08-04 04:00:00</th>\n",
       "      <td>60.1</td>\n",
       "      <td>41.0</td>\n",
       "      <td>511</td>\n",
       "      <td>11.1</td>\n",
       "      <td>16.0</td>\n",
       "      <td>130</td>\n",
       "    </tr>\n",
       "  </tbody>\n",
       "</table>\n",
       "</div>"
      ],
      "text/plain": [
       "                     pm10 (μg/m³)  pm2_5 (μg/m³)  carbon_monoxide (μg/m³)  \\\n",
       "time                                                                        \n",
       "2022-08-04 00:00:00          85.9           59.8                      588   \n",
       "2022-08-04 01:00:00          77.5           53.8                      580   \n",
       "2022-08-04 02:00:00          68.7           47.5                      568   \n",
       "2022-08-04 03:00:00          62.9           43.2                      543   \n",
       "2022-08-04 04:00:00          60.1           41.0                      511   \n",
       "\n",
       "                     nitrogen_dioxide (μg/m³)  sulphur_dioxide (μg/m³)  \\\n",
       "time                                                                     \n",
       "2022-08-04 00:00:00                      13.9                      9.4   \n",
       "2022-08-04 01:00:00                      13.9                     11.0   \n",
       "2022-08-04 02:00:00                      14.0                     13.4   \n",
       "2022-08-04 03:00:00                      13.2                     15.7   \n",
       "2022-08-04 04:00:00                      11.1                     16.0   \n",
       "\n",
       "                     ozone (μg/m³)  \n",
       "time                                \n",
       "2022-08-04 00:00:00             87  \n",
       "2022-08-04 01:00:00             93  \n",
       "2022-08-04 02:00:00            101  \n",
       "2022-08-04 03:00:00            115  \n",
       "2022-08-04 04:00:00            130  "
      ]
     },
     "execution_count": 9,
     "metadata": {},
     "output_type": "execute_result"
    }
   ],
   "source": [
    "df.head()"
   ]
  },
  {
   "cell_type": "code",
   "execution_count": 11,
   "id": "fabf9196-e3f9-4643-9af5-7451b405c4f6",
   "metadata": {},
   "outputs": [
    {
     "data": {
      "text/plain": [
       "<Axes: xlabel='time'>"
      ]
     },
     "execution_count": 11,
     "metadata": {},
     "output_type": "execute_result"
    },
    {
     "data": {
      "image/png": "[encoded data removed]",
      "text/plain": [
       "<Figure size 640x480 with 1 Axes>"
      ]
     },
     "metadata": {},
     "output_type": "display_data"
    }
   ],
   "source": [
    "df['pm10 (μg/m³)'].plot()"
   ]
  },
  {
   "cell_type": "code",
   "execution_count": null,
   "id": "2af8aeda-64e9-45d6-8218-5e0fb1034b71",
   "metadata": {},
   "outputs": [],
   "source": []
  }
 ],
 "metadata": {
  "kernelspec": {
   "display_name": "Python 3 (ipykernel)",
   "language": "python",
   "name": "python3"
  },
  "language_info": {
   "codemirror_mode": {
    "name": "ipython",
    "version": 3
   },
   "file_extension": ".py",
   "mimetype": "text/x-python",
   "name": "python",
   "nbconvert_exporter": "python",
   "pygments_lexer": "ipython3",
   "version": "3.11.0"
  }
 },
 "nbformat": 4,
 "nbformat_minor": 5
}
