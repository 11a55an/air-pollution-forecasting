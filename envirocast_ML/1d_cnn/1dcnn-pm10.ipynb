{
 "cells": [
  {
   "cell_type": "code",
   "execution_count": 1,
   "id": "08a7b78b-1d09-454f-8ecc-7c4184ab2240",
   "metadata": {},
   "outputs": [],
   "source": [
    "import pandas as pd\n",
    "import numpy as np"
   ]
  },
  {
   "cell_type": "code",
   "execution_count": 2,
   "id": "c1570c26-8e22-4498-9fe6-68e055e504a9",
   "metadata": {},
   "outputs": [],
   "source": [
    "df = pd.read_csv(\"../data/data_imputed_2.csv\")"
   ]
  },
  {
   "cell_type": "code",
   "execution_count": 3,
   "id": "55868db8-2144-49a3-9531-e4bf0728f0a2",
   "metadata": {},
   "outputs": [
    {
     "data": {
      "text/html": [
       "<div>\n",
       "<style scoped>\n",
       "    .dataframe tbody tr th:only-of-type {\n",
       "        vertical-align: middle;\n",
       "    }\n",
       "\n",
       "    .dataframe tbody tr th {\n",
       "        vertical-align: top;\n",
       "    }\n",
       "\n",
       "    .dataframe thead th {\n",
       "        text-align: right;\n",
       "    }\n",
       "</style>\n",
       "<table border=\"1\" class=\"dataframe\">\n",
       "  <thead>\n",
       "    <tr style=\"text-align: right;\">\n",
       "      <th></th>\n",
       "      <th>timestamp_local</th>\n",
       "      <th>temp</th>\n",
       "      <th>city_name</th>\n",
       "      <th>country_code</th>\n",
       "      <th>aqi</th>\n",
       "      <th>co</th>\n",
       "      <th>no2</th>\n",
       "      <th>o3</th>\n",
       "      <th>pm10</th>\n",
       "      <th>pm25</th>\n",
       "      <th>so2</th>\n",
       "    </tr>\n",
       "  </thead>\n",
       "  <tbody>\n",
       "    <tr>\n",
       "      <th>0</th>\n",
       "      <td>01/02/2022 0:00</td>\n",
       "      <td>12.6</td>\n",
       "      <td>Gujrāt</td>\n",
       "      <td>PK</td>\n",
       "      <td>385</td>\n",
       "      <td>1339.8</td>\n",
       "      <td>76.0</td>\n",
       "      <td>10.7</td>\n",
       "      <td>491.7</td>\n",
       "      <td>347.67</td>\n",
       "      <td>238.0</td>\n",
       "    </tr>\n",
       "    <tr>\n",
       "      <th>1</th>\n",
       "      <td>01/02/2022 1:00</td>\n",
       "      <td>11.5</td>\n",
       "      <td>Gujrāt</td>\n",
       "      <td>PK</td>\n",
       "      <td>404</td>\n",
       "      <td>1437.6</td>\n",
       "      <td>76.0</td>\n",
       "      <td>9.3</td>\n",
       "      <td>508.3</td>\n",
       "      <td>359.33</td>\n",
       "      <td>268.0</td>\n",
       "    </tr>\n",
       "    <tr>\n",
       "      <th>2</th>\n",
       "      <td>01/02/2022 2:00</td>\n",
       "      <td>11.9</td>\n",
       "      <td>Gujrāt</td>\n",
       "      <td>PK</td>\n",
       "      <td>421</td>\n",
       "      <td>1535.5</td>\n",
       "      <td>76.0</td>\n",
       "      <td>8.0</td>\n",
       "      <td>525.0</td>\n",
       "      <td>371.00</td>\n",
       "      <td>298.0</td>\n",
       "    </tr>\n",
       "    <tr>\n",
       "      <th>3</th>\n",
       "      <td>01/02/2022 3:00</td>\n",
       "      <td>12.2</td>\n",
       "      <td>Gujrāt</td>\n",
       "      <td>PK</td>\n",
       "      <td>425</td>\n",
       "      <td>1659.0</td>\n",
       "      <td>68.3</td>\n",
       "      <td>5.3</td>\n",
       "      <td>529.3</td>\n",
       "      <td>374.00</td>\n",
       "      <td>275.7</td>\n",
       "    </tr>\n",
       "    <tr>\n",
       "      <th>4</th>\n",
       "      <td>01/02/2022 4:00</td>\n",
       "      <td>11.9</td>\n",
       "      <td>Gujrāt</td>\n",
       "      <td>PK</td>\n",
       "      <td>430</td>\n",
       "      <td>1782.5</td>\n",
       "      <td>60.7</td>\n",
       "      <td>2.7</td>\n",
       "      <td>533.7</td>\n",
       "      <td>377.00</td>\n",
       "      <td>253.3</td>\n",
       "    </tr>\n",
       "  </tbody>\n",
       "</table>\n",
       "</div>"
      ],
      "text/plain": [
       "   timestamp_local  temp city_name country_code  aqi      co   no2    o3  \\\n",
       "0  01/02/2022 0:00  12.6    Gujrāt           PK  385  1339.8  76.0  10.7   \n",
       "1  01/02/2022 1:00  11.5    Gujrāt           PK  404  1437.6  76.0   9.3   \n",
       "2  01/02/2022 2:00  11.9    Gujrāt           PK  421  1535.5  76.0   8.0   \n",
       "3  01/02/2022 3:00  12.2    Gujrāt           PK  425  1659.0  68.3   5.3   \n",
       "4  01/02/2022 4:00  11.9    Gujrāt           PK  430  1782.5  60.7   2.7   \n",
       "\n",
       "    pm10    pm25    so2  \n",
       "0  491.7  347.67  238.0  \n",
       "1  508.3  359.33  268.0  \n",
       "2  525.0  371.00  298.0  \n",
       "3  529.3  374.00  275.7  \n",
       "4  533.7  377.00  253.3  "
      ]
     },
     "execution_count": 3,
     "metadata": {},
     "output_type": "execute_result"
    }
   ],
   "source": [
    "df.head()"
   ]
  },
  {
   "cell_type": "code",
   "execution_count": 4,
   "id": "1957f406-a837-4345-8d16-7835bd855082",
   "metadata": {},
   "outputs": [],
   "source": [
    "from sklearn.model_selection import train_test_split"
   ]
  },
  {
   "cell_type": "code",
   "execution_count": 5,
   "id": "d7e3c4f9-7208-48a1-bee4-1a89c09e2714",
   "metadata": {},
   "outputs": [],
   "source": [
    "data = df[['pm10']]"
   ]
  },
  {
   "cell_type": "code",
   "execution_count": 6,
   "id": "a2eedd5e-c6fa-43b7-9458-5deca00f11fb",
   "metadata": {},
   "outputs": [],
   "source": [
    "from sklearn.preprocessing import MinMaxScaler\n",
    "values = data.values\n",
    "\n",
    "values = values.astype('float32')\n",
    "\n",
    "scaler = MinMaxScaler(feature_range=(0, 1))\n",
    "scaled = scaler.fit_transform(values)"
   ]
  },
  {
   "cell_type": "code",
   "execution_count": 7,
   "id": "d93f3d70-328f-40a2-9403-0e22e9802560",
   "metadata": {},
   "outputs": [],
   "source": [
    "scaled = scaled.reshape((19706,))"
   ]
  },
  {
   "cell_type": "code",
   "execution_count": 8,
   "id": "09f5ccf2-8abf-4b08-8051-cb206ea52fad",
   "metadata": {},
   "outputs": [
    {
     "data": {
      "text/plain": [
       "(19706,)"
      ]
     },
     "execution_count": 8,
     "metadata": {},
     "output_type": "execute_result"
    }
   ],
   "source": [
    "scaled.shape"
   ]
  },
  {
   "cell_type": "code",
   "execution_count": 9,
   "id": "071ee44c-f600-41f6-9490-6cda18be3d8d",
   "metadata": {},
   "outputs": [],
   "source": [
    "def df_to_X_y(df, window_size, forecast_length):\n",
    "    # df_as_np = df.to_numpy()\n",
    "    X = []\n",
    "    y = []\n",
    "    \n",
    "    for i in range(len(df) - window_size - forecast_length):\n",
    "        row_x = [[a] for a in df[i:i+window_size]]\n",
    "        \n",
    "        X.append(row_x)\n",
    "        # row_y = df_as_np[i+window_size]\n",
    "        row_y = [b for b in df[i+window_size:i+window_size+forecast_length]]\n",
    "        \n",
    "        y.append(row_y)\n",
    "        \n",
    "    return np.array(X), np.array(y)"
   ]
  },
  {
   "cell_type": "code",
   "execution_count": 10,
   "id": "c118b905-bab3-4abf-b257-253d7ea2bb98",
   "metadata": {},
   "outputs": [],
   "source": [
    "WINDOW_WIDTH = 168\n",
    "FORECAST_LENGTH = 168\n",
    "X, y = df_to_X_y(scaled, WINDOW_WIDTH, FORECAST_LENGTH)\n",
    "\n",
    "\n",
    "X_train, X_test, y_train, y_test = train_test_split(X, y, test_size=0.2, random_state=0)\n",
    "X_train, X_val, y_train, y_val = train_test_split(X_train, y_train, test_size=0.2, random_state=0)\n",
    "\n",
    "X_max = X_train.max()\n",
    "X_min = X_train.min()"
   ]
  },
  {
   "cell_type": "code",
   "execution_count": 11,
   "id": "e7b85489-d3d6-4c17-8935-238402086eff",
   "metadata": {},
   "outputs": [],
   "source": [
    "batchSize = 16\n",
    "from keras.models import Sequential, save_model, load_model\n",
    "from keras.layers import *\n",
    "from keras.callbacks import ReduceLROnPlateau, ModelCheckpoint\n",
    "from tensorflow.keras.optimizers import Adam\n",
    "from keras.losses import MeanSquaredError\n",
    "from keras.metrics import RootMeanSquaredError"
   ]
  },
  {
   "cell_type": "code",
   "execution_count": 12,
   "id": "3b6c5847-1cc5-4149-b349-ff4f5c638c90",
   "metadata": {},
   "outputs": [
    {
     "name": "stderr",
     "output_type": "stream",
     "text": [
      "C:\\Users\\Hassan\\AppData\\Local\\Programs\\Python\\Python311\\Lib\\site-packages\\keras\\src\\layers\\convolutional\\base_conv.py:99: UserWarning: Do not pass an `input_shape`/`input_dim` argument to a layer. When using Sequential models, prefer using an `Input(shape)` object as the first layer in the model instead.\n",
      "  super().__init__(\n"
     ]
    },
    {
     "data": {
      "text/html": [
       "<pre style=\"white-space:pre;overflow-x:auto;line-height:normal;font-family:Menlo,'DejaVu Sans Mono',consolas,'Courier New',monospace\"><span style=\"font-weight: bold\">Model: \"sequential\"</span>\n",
       "</pre>\n"
      ],
      "text/plain": [
       "\u001b[1mModel: \"sequential\"\u001b[0m\n"
      ]
     },
     "metadata": {},
     "output_type": "display_data"
    },
    {
     "data": {
      "text/html": [
       "<pre style=\"white-space:pre;overflow-x:auto;line-height:normal;font-family:Menlo,'DejaVu Sans Mono',consolas,'Courier New',monospace\">┏━━━━━━━━━━━━━━━━━━━━━━━━━━━━━━━━━━━━━━┳━━━━━━━━━━━━━━━━━━━━━━━━━━━━━┳━━━━━━━━━━━━━━━━━┓\n",
       "┃<span style=\"font-weight: bold\"> Layer (type)                         </span>┃<span style=\"font-weight: bold\"> Output Shape                </span>┃<span style=\"font-weight: bold\">         Param # </span>┃\n",
       "┡━━━━━━━━━━━━━━━━━━━━━━━━━━━━━━━━━━━━━━╇━━━━━━━━━━━━━━━━━━━━━━━━━━━━━╇━━━━━━━━━━━━━━━━━┩\n",
       "│ conv1d (<span style=\"color: #0087ff; text-decoration-color: #0087ff\">Conv1D</span>)                      │ (<span style=\"color: #00d7ff; text-decoration-color: #00d7ff\">None</span>, <span style=\"color: #00af00; text-decoration-color: #00af00\">166</span>, <span style=\"color: #00af00; text-decoration-color: #00af00\">8</span>)              │              <span style=\"color: #00af00; text-decoration-color: #00af00\">32</span> │\n",
       "├──────────────────────────────────────┼─────────────────────────────┼─────────────────┤\n",
       "│ flatten (<span style=\"color: #0087ff; text-decoration-color: #0087ff\">Flatten</span>)                    │ (<span style=\"color: #00d7ff; text-decoration-color: #00d7ff\">None</span>, <span style=\"color: #00af00; text-decoration-color: #00af00\">1328</span>)                │               <span style=\"color: #00af00; text-decoration-color: #00af00\">0</span> │\n",
       "├──────────────────────────────────────┼─────────────────────────────┼─────────────────┤\n",
       "│ dense (<span style=\"color: #0087ff; text-decoration-color: #0087ff\">Dense</span>)                        │ (<span style=\"color: #00d7ff; text-decoration-color: #00d7ff\">None</span>, <span style=\"color: #00af00; text-decoration-color: #00af00\">168</span>)                 │         <span style=\"color: #00af00; text-decoration-color: #00af00\">223,272</span> │\n",
       "└──────────────────────────────────────┴─────────────────────────────┴─────────────────┘\n",
       "</pre>\n"
      ],
      "text/plain": [
       "┏━━━━━━━━━━━━━━━━━━━━━━━━━━━━━━━━━━━━━━┳━━━━━━━━━━━━━━━━━━━━━━━━━━━━━┳━━━━━━━━━━━━━━━━━┓\n",
       "┃\u001b[1m \u001b[0m\u001b[1mLayer (type)                        \u001b[0m\u001b[1m \u001b[0m┃\u001b[1m \u001b[0m\u001b[1mOutput Shape               \u001b[0m\u001b[1m \u001b[0m┃\u001b[1m \u001b[0m\u001b[1m        Param #\u001b[0m\u001b[1m \u001b[0m┃\n",
       "┡━━━━━━━━━━━━━━━━━━━━━━━━━━━━━━━━━━━━━━╇━━━━━━━━━━━━━━━━━━━━━━━━━━━━━╇━━━━━━━━━━━━━━━━━┩\n",
       "│ conv1d (\u001b[38;5;33mConv1D\u001b[0m)                      │ (\u001b[38;5;45mNone\u001b[0m, \u001b[38;5;34m166\u001b[0m, \u001b[38;5;34m8\u001b[0m)              │              \u001b[38;5;34m32\u001b[0m │\n",
       "├──────────────────────────────────────┼─────────────────────────────┼─────────────────┤\n",
       "│ flatten (\u001b[38;5;33mFlatten\u001b[0m)                    │ (\u001b[38;5;45mNone\u001b[0m, \u001b[38;5;34m1328\u001b[0m)                │               \u001b[38;5;34m0\u001b[0m │\n",
       "├──────────────────────────────────────┼─────────────────────────────┼─────────────────┤\n",
       "│ dense (\u001b[38;5;33mDense\u001b[0m)                        │ (\u001b[38;5;45mNone\u001b[0m, \u001b[38;5;34m168\u001b[0m)                 │         \u001b[38;5;34m223,272\u001b[0m │\n",
       "└──────────────────────────────────────┴─────────────────────────────┴─────────────────┘\n"
      ]
     },
     "metadata": {},
     "output_type": "display_data"
    },
    {
     "data": {
      "text/html": [
       "<pre style=\"white-space:pre;overflow-x:auto;line-height:normal;font-family:Menlo,'DejaVu Sans Mono',consolas,'Courier New',monospace\"><span style=\"font-weight: bold\"> Total params: </span><span style=\"color: #00af00; text-decoration-color: #00af00\">223,304</span> (872.28 KB)\n",
       "</pre>\n"
      ],
      "text/plain": [
       "\u001b[1m Total params: \u001b[0m\u001b[38;5;34m223,304\u001b[0m (872.28 KB)\n"
      ]
     },
     "metadata": {},
     "output_type": "display_data"
    },
    {
     "data": {
      "text/html": [
       "<pre style=\"white-space:pre;overflow-x:auto;line-height:normal;font-family:Menlo,'DejaVu Sans Mono',consolas,'Courier New',monospace\"><span style=\"font-weight: bold\"> Trainable params: </span><span style=\"color: #00af00; text-decoration-color: #00af00\">223,304</span> (872.28 KB)\n",
       "</pre>\n"
      ],
      "text/plain": [
       "\u001b[1m Trainable params: \u001b[0m\u001b[38;5;34m223,304\u001b[0m (872.28 KB)\n"
      ]
     },
     "metadata": {},
     "output_type": "display_data"
    },
    {
     "data": {
      "text/html": [
       "<pre style=\"white-space:pre;overflow-x:auto;line-height:normal;font-family:Menlo,'DejaVu Sans Mono',consolas,'Courier New',monospace\"><span style=\"font-weight: bold\"> Non-trainable params: </span><span style=\"color: #00af00; text-decoration-color: #00af00\">0</span> (0.00 B)\n",
       "</pre>\n"
      ],
      "text/plain": [
       "\u001b[1m Non-trainable params: \u001b[0m\u001b[38;5;34m0\u001b[0m (0.00 B)\n"
      ]
     },
     "metadata": {},
     "output_type": "display_data"
    },
    {
     "name": "stdout",
     "output_type": "stream",
     "text": [
      "Epoch 1/50\n",
      "\u001b[1m388/388\u001b[0m \u001b[32m━━━━━━━━━━━━━━━━━━━━\u001b[0m\u001b[37m\u001b[0m \u001b[1m3s\u001b[0m 6ms/step - loss: 0.0076 - root_mean_squared_error: 0.0859 - val_loss: 0.0050 - val_root_mean_squared_error: 0.0708 - learning_rate: 0.0010\n",
      "Epoch 2/50\n",
      "\u001b[1m388/388\u001b[0m \u001b[32m━━━━━━━━━━━━━━━━━━━━\u001b[0m\u001b[37m\u001b[0m \u001b[1m2s\u001b[0m 5ms/step - loss: 0.0050 - root_mean_squared_error: 0.0709 - val_loss: 0.0049 - val_root_mean_squared_error: 0.0703 - learning_rate: 0.0010\n",
      "Epoch 3/50\n",
      "\u001b[1m388/388\u001b[0m \u001b[32m━━━━━━━━━━━━━━━━━━━━\u001b[0m\u001b[37m\u001b[0m \u001b[1m2s\u001b[0m 5ms/step - loss: 0.0050 - root_mean_squared_error: 0.0706 - val_loss: 0.0050 - val_root_mean_squared_error: 0.0707 - learning_rate: 0.0010\n",
      "Epoch 4/50\n",
      "\u001b[1m388/388\u001b[0m \u001b[32m━━━━━━━━━━━━━━━━━━━━\u001b[0m\u001b[37m\u001b[0m \u001b[1m2s\u001b[0m 6ms/step - loss: 0.0049 - root_mean_squared_error: 0.0700 - val_loss: 0.0049 - val_root_mean_squared_error: 0.0697 - learning_rate: 0.0010\n",
      "Epoch 5/50\n",
      "\u001b[1m388/388\u001b[0m \u001b[32m━━━━━━━━━━━━━━━━━━━━\u001b[0m\u001b[37m\u001b[0m \u001b[1m2s\u001b[0m 5ms/step - loss: 0.0046 - root_mean_squared_error: 0.0680 - val_loss: 0.0050 - val_root_mean_squared_error: 0.0704 - learning_rate: 0.0010\n",
      "Epoch 6/50\n",
      "\u001b[1m388/388\u001b[0m \u001b[32m━━━━━━━━━━━━━━━━━━━━\u001b[0m\u001b[37m\u001b[0m \u001b[1m4s\u001b[0m 7ms/step - loss: 0.0048 - root_mean_squared_error: 0.0694 - val_loss: 0.0047 - val_root_mean_squared_error: 0.0684 - learning_rate: 0.0010\n",
      "Epoch 7/50\n",
      "\u001b[1m388/388\u001b[0m \u001b[32m━━━━━━━━━━━━━━━━━━━━\u001b[0m\u001b[37m\u001b[0m \u001b[1m2s\u001b[0m 6ms/step - loss: 0.0046 - root_mean_squared_error: 0.0682 - val_loss: 0.0047 - val_root_mean_squared_error: 0.0682 - learning_rate: 0.0010\n",
      "Epoch 8/50\n",
      "\u001b[1m388/388\u001b[0m \u001b[32m━━━━━━━━━━━━━━━━━━━━\u001b[0m\u001b[37m\u001b[0m \u001b[1m3s\u001b[0m 5ms/step - loss: 0.0046 - root_mean_squared_error: 0.0675 - val_loss: 0.0047 - val_root_mean_squared_error: 0.0684 - learning_rate: 0.0010\n",
      "Epoch 9/50\n",
      "\u001b[1m388/388\u001b[0m \u001b[32m━━━━━━━━━━━━━━━━━━━━\u001b[0m\u001b[37m\u001b[0m \u001b[1m3s\u001b[0m 6ms/step - loss: 0.0045 - root_mean_squared_error: 0.0671 - val_loss: 0.0047 - val_root_mean_squared_error: 0.0684 - learning_rate: 0.0010\n",
      "Epoch 10/50\n",
      "\u001b[1m388/388\u001b[0m \u001b[32m━━━━━━━━━━━━━━━━━━━━\u001b[0m\u001b[37m\u001b[0m \u001b[1m3s\u001b[0m 6ms/step - loss: 0.0046 - root_mean_squared_error: 0.0675 - val_loss: 0.0046 - val_root_mean_squared_error: 0.0676 - learning_rate: 0.0010\n",
      "Epoch 11/50\n",
      "\u001b[1m388/388\u001b[0m \u001b[32m━━━━━━━━━━━━━━━━━━━━\u001b[0m\u001b[37m\u001b[0m \u001b[1m2s\u001b[0m 5ms/step - loss: 0.0046 - root_mean_squared_error: 0.0676 - val_loss: 0.0045 - val_root_mean_squared_error: 0.0670 - learning_rate: 0.0010\n",
      "Epoch 12/50\n",
      "\u001b[1m388/388\u001b[0m \u001b[32m━━━━━━━━━━━━━━━━━━━━\u001b[0m\u001b[37m\u001b[0m \u001b[1m2s\u001b[0m 6ms/step - loss: 0.0045 - root_mean_squared_error: 0.0673 - val_loss: 0.0046 - val_root_mean_squared_error: 0.0675 - learning_rate: 0.0010\n",
      "Epoch 13/50\n",
      "\u001b[1m388/388\u001b[0m \u001b[32m━━━━━━━━━━━━━━━━━━━━\u001b[0m\u001b[37m\u001b[0m \u001b[1m3s\u001b[0m 5ms/step - loss: 0.0044 - root_mean_squared_error: 0.0666 - val_loss: 0.0045 - val_root_mean_squared_error: 0.0669 - learning_rate: 0.0010\n",
      "Epoch 14/50\n",
      "\u001b[1m388/388\u001b[0m \u001b[32m━━━━━━━━━━━━━━━━━━━━\u001b[0m\u001b[37m\u001b[0m \u001b[1m3s\u001b[0m 6ms/step - loss: 0.0044 - root_mean_squared_error: 0.0663 - val_loss: 0.0045 - val_root_mean_squared_error: 0.0674 - learning_rate: 0.0010\n",
      "Epoch 15/50\n",
      "\u001b[1m388/388\u001b[0m \u001b[32m━━━━━━━━━━━━━━━━━━━━\u001b[0m\u001b[37m\u001b[0m \u001b[1m2s\u001b[0m 5ms/step - loss: 0.0044 - root_mean_squared_error: 0.0664 - val_loss: 0.0045 - val_root_mean_squared_error: 0.0669 - learning_rate: 0.0010\n",
      "Epoch 16/50\n",
      "\u001b[1m388/388\u001b[0m \u001b[32m━━━━━━━━━━━━━━━━━━━━\u001b[0m\u001b[37m\u001b[0m \u001b[1m2s\u001b[0m 5ms/step - loss: 0.0044 - root_mean_squared_error: 0.0662 - val_loss: 0.0047 - val_root_mean_squared_error: 0.0686 - learning_rate: 0.0010\n",
      "Epoch 17/50\n",
      "\u001b[1m388/388\u001b[0m \u001b[32m━━━━━━━━━━━━━━━━━━━━\u001b[0m\u001b[37m\u001b[0m \u001b[1m2s\u001b[0m 5ms/step - loss: 0.0044 - root_mean_squared_error: 0.0666 - val_loss: 0.0045 - val_root_mean_squared_error: 0.0668 - learning_rate: 0.0010\n",
      "Epoch 18/50\n",
      "\u001b[1m388/388\u001b[0m \u001b[32m━━━━━━━━━━━━━━━━━━━━\u001b[0m\u001b[37m\u001b[0m \u001b[1m2s\u001b[0m 6ms/step - loss: 0.0044 - root_mean_squared_error: 0.0661 - val_loss: 0.0045 - val_root_mean_squared_error: 0.0668 - learning_rate: 0.0010\n",
      "Epoch 19/50\n",
      "\u001b[1m388/388\u001b[0m \u001b[32m━━━━━━━━━━━━━━━━━━━━\u001b[0m\u001b[37m\u001b[0m \u001b[1m3s\u001b[0m 5ms/step - loss: 0.0045 - root_mean_squared_error: 0.0667 - val_loss: 0.0045 - val_root_mean_squared_error: 0.0668 - learning_rate: 0.0010\n",
      "Epoch 20/50\n",
      "\u001b[1m388/388\u001b[0m \u001b[32m━━━━━━━━━━━━━━━━━━━━\u001b[0m\u001b[37m\u001b[0m \u001b[1m2s\u001b[0m 5ms/step - loss: 0.0044 - root_mean_squared_error: 0.0660 - val_loss: 0.0044 - val_root_mean_squared_error: 0.0666 - learning_rate: 0.0010\n",
      "Epoch 21/50\n",
      "\u001b[1m388/388\u001b[0m \u001b[32m━━━━━━━━━━━━━━━━━━━━\u001b[0m\u001b[37m\u001b[0m \u001b[1m2s\u001b[0m 5ms/step - loss: 0.0043 - root_mean_squared_error: 0.0657 - val_loss: 0.0045 - val_root_mean_squared_error: 0.0668 - learning_rate: 0.0010\n",
      "Epoch 22/50\n",
      "\u001b[1m388/388\u001b[0m \u001b[32m━━━━━━━━━━━━━━━━━━━━\u001b[0m\u001b[37m\u001b[0m \u001b[1m2s\u001b[0m 5ms/step - loss: 0.0044 - root_mean_squared_error: 0.0661 - val_loss: 0.0046 - val_root_mean_squared_error: 0.0675 - learning_rate: 0.0010\n",
      "Epoch 23/50\n",
      "\u001b[1m388/388\u001b[0m \u001b[32m━━━━━━━━━━━━━━━━━━━━\u001b[0m\u001b[37m\u001b[0m \u001b[1m2s\u001b[0m 6ms/step - loss: 0.0044 - root_mean_squared_error: 0.0664 - val_loss: 0.0045 - val_root_mean_squared_error: 0.0669 - learning_rate: 0.0010\n",
      "Epoch 24/50\n",
      "\u001b[1m388/388\u001b[0m \u001b[32m━━━━━━━━━━━━━━━━━━━━\u001b[0m\u001b[37m\u001b[0m \u001b[1m2s\u001b[0m 5ms/step - loss: 0.0043 - root_mean_squared_error: 0.0652 - val_loss: 0.0045 - val_root_mean_squared_error: 0.0669 - learning_rate: 0.0010\n",
      "Epoch 25/50\n",
      "\u001b[1m388/388\u001b[0m \u001b[32m━━━━━━━━━━━━━━━━━━━━\u001b[0m\u001b[37m\u001b[0m \u001b[1m3s\u001b[0m 5ms/step - loss: 0.0043 - root_mean_squared_error: 0.0659 - val_loss: 0.0044 - val_root_mean_squared_error: 0.0666 - learning_rate: 0.0010\n",
      "Epoch 26/50\n",
      "\u001b[1m388/388\u001b[0m \u001b[32m━━━━━━━━━━━━━━━━━━━━\u001b[0m\u001b[37m\u001b[0m \u001b[1m3s\u001b[0m 6ms/step - loss: 0.0042 - root_mean_squared_error: 0.0648 - val_loss: 0.0044 - val_root_mean_squared_error: 0.0663 - learning_rate: 1.0000e-04\n",
      "Epoch 27/50\n",
      "\u001b[1m388/388\u001b[0m \u001b[32m━━━━━━━━━━━━━━━━━━━━\u001b[0m\u001b[37m\u001b[0m \u001b[1m2s\u001b[0m 4ms/step - loss: 0.0043 - root_mean_squared_error: 0.0652 - val_loss: 0.0044 - val_root_mean_squared_error: 0.0663 - learning_rate: 1.0000e-04\n",
      "Epoch 28/50\n",
      "\u001b[1m388/388\u001b[0m \u001b[32m━━━━━━━━━━━━━━━━━━━━\u001b[0m\u001b[37m\u001b[0m \u001b[1m3s\u001b[0m 6ms/step - loss: 0.0042 - root_mean_squared_error: 0.0650 - val_loss: 0.0044 - val_root_mean_squared_error: 0.0663 - learning_rate: 1.0000e-04\n",
      "Epoch 29/50\n",
      "\u001b[1m388/388\u001b[0m \u001b[32m━━━━━━━━━━━━━━━━━━━━\u001b[0m\u001b[37m\u001b[0m \u001b[1m3s\u001b[0m 6ms/step - loss: 0.0042 - root_mean_squared_error: 0.0650 - val_loss: 0.0044 - val_root_mean_squared_error: 0.0664 - learning_rate: 1.0000e-04\n",
      "Epoch 30/50\n",
      "\u001b[1m388/388\u001b[0m \u001b[32m━━━━━━━━━━━━━━━━━━━━\u001b[0m\u001b[37m\u001b[0m \u001b[1m3s\u001b[0m 5ms/step - loss: 0.0041 - root_mean_squared_error: 0.0644 - val_loss: 0.0044 - val_root_mean_squared_error: 0.0664 - learning_rate: 1.0000e-04\n",
      "Epoch 31/50\n",
      "\u001b[1m388/388\u001b[0m \u001b[32m━━━━━━━━━━━━━━━━━━━━\u001b[0m\u001b[37m\u001b[0m \u001b[1m3s\u001b[0m 5ms/step - loss: 0.0042 - root_mean_squared_error: 0.0648 - val_loss: 0.0044 - val_root_mean_squared_error: 0.0663 - learning_rate: 1.0000e-04\n",
      "Epoch 32/50\n",
      "\u001b[1m388/388\u001b[0m \u001b[32m━━━━━━━━━━━━━━━━━━━━\u001b[0m\u001b[37m\u001b[0m \u001b[1m1s\u001b[0m 4ms/step - loss: 0.0042 - root_mean_squared_error: 0.0645 - val_loss: 0.0044 - val_root_mean_squared_error: 0.0663 - learning_rate: 1.0000e-04\n",
      "Epoch 33/50\n",
      "\u001b[1m388/388\u001b[0m \u001b[32m━━━━━━━━━━━━━━━━━━━━\u001b[0m\u001b[37m\u001b[0m \u001b[1m3s\u001b[0m 6ms/step - loss: 0.0042 - root_mean_squared_error: 0.0645 - val_loss: 0.0044 - val_root_mean_squared_error: 0.0664 - learning_rate: 1.0000e-04\n",
      "Epoch 34/50\n",
      "\u001b[1m388/388\u001b[0m \u001b[32m━━━━━━━━━━━━━━━━━━━━\u001b[0m\u001b[37m\u001b[0m \u001b[1m2s\u001b[0m 6ms/step - loss: 0.0042 - root_mean_squared_error: 0.0646 - val_loss: 0.0044 - val_root_mean_squared_error: 0.0663 - learning_rate: 1.0000e-04\n",
      "Epoch 35/50\n",
      "\u001b[1m388/388\u001b[0m \u001b[32m━━━━━━━━━━━━━━━━━━━━\u001b[0m\u001b[37m\u001b[0m \u001b[1m2s\u001b[0m 4ms/step - loss: 0.0041 - root_mean_squared_error: 0.0637 - val_loss: 0.0044 - val_root_mean_squared_error: 0.0663 - learning_rate: 1.0000e-04\n",
      "Epoch 36/50\n",
      "\u001b[1m388/388\u001b[0m \u001b[32m━━━━━━━━━━━━━━━━━━━━\u001b[0m\u001b[37m\u001b[0m \u001b[1m2s\u001b[0m 6ms/step - loss: 0.0041 - root_mean_squared_error: 0.0642 - val_loss: 0.0044 - val_root_mean_squared_error: 0.0662 - learning_rate: 1.0000e-05\n",
      "Epoch 37/50\n",
      "\u001b[1m388/388\u001b[0m \u001b[32m━━━━━━━━━━━━━━━━━━━━\u001b[0m\u001b[37m\u001b[0m \u001b[1m2s\u001b[0m 6ms/step - loss: 0.0042 - root_mean_squared_error: 0.0649 - val_loss: 0.0044 - val_root_mean_squared_error: 0.0662 - learning_rate: 1.0000e-05\n",
      "Epoch 38/50\n",
      "\u001b[1m388/388\u001b[0m \u001b[32m━━━━━━━━━━━━━━━━━━━━\u001b[0m\u001b[37m\u001b[0m \u001b[1m3s\u001b[0m 5ms/step - loss: 0.0041 - root_mean_squared_error: 0.0637 - val_loss: 0.0044 - val_root_mean_squared_error: 0.0662 - learning_rate: 1.0000e-05\n",
      "Epoch 39/50\n",
      "\u001b[1m388/388\u001b[0m \u001b[32m━━━━━━━━━━━━━━━━━━━━\u001b[0m\u001b[37m\u001b[0m \u001b[1m3s\u001b[0m 6ms/step - loss: 0.0041 - root_mean_squared_error: 0.0644 - val_loss: 0.0044 - val_root_mean_squared_error: 0.0662 - learning_rate: 1.0000e-05\n",
      "Epoch 40/50\n",
      "\u001b[1m388/388\u001b[0m \u001b[32m━━━━━━━━━━━━━━━━━━━━\u001b[0m\u001b[37m\u001b[0m \u001b[1m2s\u001b[0m 6ms/step - loss: 0.0041 - root_mean_squared_error: 0.0644 - val_loss: 0.0044 - val_root_mean_squared_error: 0.0662 - learning_rate: 1.0000e-05\n",
      "Epoch 41/50\n",
      "\u001b[1m388/388\u001b[0m \u001b[32m━━━━━━━━━━━━━━━━━━━━\u001b[0m\u001b[37m\u001b[0m \u001b[1m3s\u001b[0m 6ms/step - loss: 0.0040 - root_mean_squared_error: 0.0635 - val_loss: 0.0044 - val_root_mean_squared_error: 0.0662 - learning_rate: 1.0000e-05\n",
      "Epoch 42/50\n",
      "\u001b[1m388/388\u001b[0m \u001b[32m━━━━━━━━━━━━━━━━━━━━\u001b[0m\u001b[37m\u001b[0m \u001b[1m2s\u001b[0m 6ms/step - loss: 0.0042 - root_mean_squared_error: 0.0652 - val_loss: 0.0044 - val_root_mean_squared_error: 0.0662 - learning_rate: 1.0000e-05\n",
      "Epoch 43/50\n",
      "\u001b[1m388/388\u001b[0m \u001b[32m━━━━━━━━━━━━━━━━━━━━\u001b[0m\u001b[37m\u001b[0m \u001b[1m2s\u001b[0m 6ms/step - loss: 0.0041 - root_mean_squared_error: 0.0644 - val_loss: 0.0044 - val_root_mean_squared_error: 0.0662 - learning_rate: 1.0000e-05\n",
      "Epoch 44/50\n",
      "\u001b[1m388/388\u001b[0m \u001b[32m━━━━━━━━━━━━━━━━━━━━\u001b[0m\u001b[37m\u001b[0m \u001b[1m2s\u001b[0m 6ms/step - loss: 0.0042 - root_mean_squared_error: 0.0644 - val_loss: 0.0044 - val_root_mean_squared_error: 0.0662 - learning_rate: 1.0000e-05\n",
      "Epoch 45/50\n",
      "\u001b[1m388/388\u001b[0m \u001b[32m━━━━━━━━━━━━━━━━━━━━\u001b[0m\u001b[37m\u001b[0m \u001b[1m3s\u001b[0m 6ms/step - loss: 0.0041 - root_mean_squared_error: 0.0644 - val_loss: 0.0044 - val_root_mean_squared_error: 0.0662 - learning_rate: 1.0000e-05\n",
      "Epoch 46/50\n",
      "\u001b[1m388/388\u001b[0m \u001b[32m━━━━━━━━━━━━━━━━━━━━\u001b[0m\u001b[37m\u001b[0m \u001b[1m3s\u001b[0m 6ms/step - loss: 0.0041 - root_mean_squared_error: 0.0640 - val_loss: 0.0044 - val_root_mean_squared_error: 0.0662 - learning_rate: 1.0000e-06\n",
      "Epoch 47/50\n",
      "\u001b[1m388/388\u001b[0m \u001b[32m━━━━━━━━━━━━━━━━━━━━\u001b[0m\u001b[37m\u001b[0m \u001b[1m2s\u001b[0m 6ms/step - loss: 0.0041 - root_mean_squared_error: 0.0638 - val_loss: 0.0044 - val_root_mean_squared_error: 0.0662 - learning_rate: 1.0000e-06\n",
      "Epoch 48/50\n",
      "\u001b[1m388/388\u001b[0m \u001b[32m━━━━━━━━━━━━━━━━━━━━\u001b[0m\u001b[37m\u001b[0m \u001b[1m2s\u001b[0m 5ms/step - loss: 0.0041 - root_mean_squared_error: 0.0644 - val_loss: 0.0044 - val_root_mean_squared_error: 0.0662 - learning_rate: 1.0000e-06\n",
      "Epoch 49/50\n",
      "\u001b[1m388/388\u001b[0m \u001b[32m━━━━━━━━━━━━━━━━━━━━\u001b[0m\u001b[37m\u001b[0m \u001b[1m2s\u001b[0m 6ms/step - loss: 0.0041 - root_mean_squared_error: 0.0643 - val_loss: 0.0044 - val_root_mean_squared_error: 0.0662 - learning_rate: 1.0000e-06\n",
      "Epoch 50/50\n",
      "\u001b[1m388/388\u001b[0m \u001b[32m━━━━━━━━━━━━━━━━━━━━\u001b[0m\u001b[37m\u001b[0m \u001b[1m2s\u001b[0m 6ms/step - loss: 0.0042 - root_mean_squared_error: 0.0645 - val_loss: 0.0044 - val_root_mean_squared_error: 0.0662 - learning_rate: 1.0000e-06\n"
     ]
    }
   ],
   "source": [
    "normalizer = Normalization()\n",
    "normalizer.adapt(X_train)\n",
    "rlrop = ReduceLROnPlateau(monitor='val_loss', factor=0.1, patience=10)\n",
    "\n",
    "model = Sequential()\n",
    "# 1D Convolutional layers\n",
    "model.add(Conv1D(filters=8, kernel_size=3, activation='relu', input_shape=X_train.shape[1:]))\n",
    "# model.add(Conv1D(filters=64, kernel_size=3, activation='relu'))\n",
    "# model.add(Conv1D(filters=32, kernel_size=3, activation='relu'))\n",
    "# Flatten the output of the Conv layers\n",
    "model.add(Flatten())\n",
    "# model.add(LSTM(input_shape = X_train.shape[1:], units=86, return_sequences=True))\n",
    "# model.add(LSTM(units=64, return_sequences=True))\n",
    "# model.add(GRU(units=86, return_sequences=True))\n",
    "# model.add(LSTM(units=128, return_sequences=True))\n",
    "# model.add(GRU(units=100, return_sequences=True))\n",
    "# model.add(LSTM(units=100, return_sequences=False))\n",
    "# model.add(Dense(units=100,  activation='relu'))\n",
    "# model.add(Dense(8, activation='relu'))\n",
    "\n",
    "model.add(Dense(units=FORECAST_LENGTH, activation='linear'))\n",
    "\n",
    "model.summary()\n",
    "\n",
    "model.compile(optimizer=Adam(learning_rate=0.001), metrics=[RootMeanSquaredError()] , loss=MeanSquaredError())\n",
    "\n",
    "history = model.fit(X_train, y_train, validation_data=(X_val,y_val), epochs=50, callbacks=[rlrop])\n",
    "\n",
    "# score = model.evaluate(X_test, y_test, verbose = 1)"
   ]
  },
  {
   "cell_type": "code",
   "execution_count": 13,
   "id": "5674b419-12bd-4a4e-a83d-2438ae813939",
   "metadata": {},
   "outputs": [
    {
     "name": "stdout",
     "output_type": "stream",
     "text": [
      "\u001b[1m122/122\u001b[0m \u001b[32m━━━━━━━━━━━━━━━━━━━━\u001b[0m\u001b[37m\u001b[0m \u001b[1m0s\u001b[0m 2ms/step\n"
     ]
    }
   ],
   "source": [
    "forecast = model.predict(X_test)"
   ]
  },
  {
   "cell_type": "code",
   "execution_count": 14,
   "id": "abb7c26e-b6e8-4526-aa4e-9180825c9d51",
   "metadata": {},
   "outputs": [],
   "source": [
    "poll = np.array(df[\"pm10\"])\n",
    "\n",
    "meanop = poll.mean()\n",
    "stdop = poll.std()\n",
    "\n",
    "y_test_true = y_test*stdop + meanop\n",
    "testPredict = forecast*stdop + meanop"
   ]
  },
  {
   "cell_type": "code",
   "execution_count": 15,
   "id": "cccf66c7-77a1-483d-8b28-e5df8056b4b6",
   "metadata": {},
   "outputs": [],
   "source": [
    "from sklearn.metrics import mean_squared_error"
   ]
  },
  {
   "cell_type": "code",
   "execution_count": 16,
   "id": "3e3a186b-a281-4964-9581-f8f73931e019",
   "metadata": {},
   "outputs": [
    {
     "name": "stdout",
     "output_type": "stream",
     "text": [
      "Test RMSE = 5.764044\n"
     ]
    }
   ],
   "source": [
    "rmse = np.sqrt(mean_squared_error(y_test_true, testPredict))\n",
    "print(\"Test RMSE =\"  ,rmse)"
   ]
  },
  {
   "cell_type": "code",
   "execution_count": 17,
   "id": "290eb8ca-644e-49ec-94ea-4331ddf320e2",
   "metadata": {},
   "outputs": [
    {
     "name": "stdout",
     "output_type": "stream",
     "text": [
      "Test MAPE = 3.0447712168097496\n"
     ]
    }
   ],
   "source": [
    "# Calculate MAPE\n",
    "mape = np.mean(np.abs((y_test_true - testPredict) / y_test_true)) * 100\n",
    "print(\"Test MAPE =\", mape)"
   ]
  },
  {
   "cell_type": "code",
   "execution_count": 18,
   "id": "0f076abe-d042-4532-b724-c652e603a24c",
   "metadata": {},
   "outputs": [
    {
     "name": "stdout",
     "output_type": "stream",
     "text": [
      "Accuracy = 96.95522878319025 %\n"
     ]
    }
   ],
   "source": [
    "# Calculate accuracy as 1 - MAPE\n",
    "accuracy = 100 - mape\n",
    "print(\"Accuracy =\", accuracy, \"%\")"
   ]
  },
  {
   "cell_type": "code",
   "execution_count": 27,
   "id": "8ab3ba7a-675b-41f9-8a20-4dbb0be9819b",
   "metadata": {},
   "outputs": [
    {
     "name": "stdout",
     "output_type": "stream",
     "text": [
      "Test MAE = 4.046876\n"
     ]
    }
   ],
   "source": [
    "from sklearn.metrics import mean_absolute_error\n",
    "\n",
    "# Calculate MAE\n",
    "mae = mean_absolute_error(y_test_true, testPredict)\n",
    "print(\"Test MAE =\", mae)"
   ]
  },
  {
   "cell_type": "code",
   "execution_count": 19,
   "id": "a8c9fe94-b991-48aa-b917-115e04f18ffa",
   "metadata": {},
   "outputs": [
    {
     "data": {
      "text/plain": [
       "(3874, 168)"
      ]
     },
     "execution_count": 19,
     "metadata": {},
     "output_type": "execute_result"
    }
   ],
   "source": [
    "y_test_true.shape"
   ]
  },
  {
   "cell_type": "code",
   "execution_count": 20,
   "id": "a21c236d-93b7-4d0a-ba80-08ec2a83c3f8",
   "metadata": {},
   "outputs": [
    {
     "data": {
      "text/plain": [
       "(3874, 168)"
      ]
     },
     "execution_count": 20,
     "metadata": {},
     "output_type": "execute_result"
    }
   ],
   "source": [
    "testPredict.shape"
   ]
  },
  {
   "cell_type": "code",
   "execution_count": 21,
   "id": "9c9037be-c096-476c-8472-bec3a194b54d",
   "metadata": {},
   "outputs": [],
   "source": [
    "import numpy as np\n",
    "\n",
    "def calculate_segment_rmse(predictions, actuals, segment_length=1):\n",
    "    num_segments = predictions.shape[1] // segment_length\n",
    "    rmses = []\n",
    "    \n",
    "    for i in range(num_segments):\n",
    "        start_idx = i * segment_length\n",
    "        end_idx = start_idx + segment_length\n",
    "        \n",
    "        # Extract the segment for both predictions and actuals\n",
    "        pred_segment = predictions[:, start_idx:end_idx]\n",
    "        actual_segment = actuals[:, start_idx:end_idx]\n",
    "        \n",
    "        # Calculate RMSE for this segment\n",
    "        segment_rmse = np.sqrt(mean_squared_error(actual_segment.flatten(), pred_segment.flatten()))\n",
    "        rmses.append(segment_rmse)\n",
    "    \n",
    "    return rmses"
   ]
  },
  {
   "cell_type": "code",
   "execution_count": 22,
   "id": "13b4f256-db53-49f0-a277-65259836076c",
   "metadata": {},
   "outputs": [
    {
     "name": "stdout",
     "output_type": "stream",
     "text": [
      "RMSE for segment 1: 1.2969\n",
      "RMSE for segment 2: 2.0122\n",
      "RMSE for segment 3: 2.7062\n",
      "RMSE for segment 4: 3.2232\n",
      "RMSE for segment 5: 3.6736\n",
      "RMSE for segment 6: 4.0149\n",
      "RMSE for segment 7: 4.2646\n",
      "RMSE for segment 8: 4.4217\n",
      "RMSE for segment 9: 4.5521\n",
      "RMSE for segment 10: 4.6421\n",
      "RMSE for segment 11: 4.6828\n",
      "RMSE for segment 12: 4.7208\n",
      "RMSE for segment 13: 4.7923\n",
      "RMSE for segment 14: 4.8546\n",
      "RMSE for segment 15: 4.9311\n",
      "RMSE for segment 16: 4.9488\n",
      "RMSE for segment 17: 4.9185\n",
      "RMSE for segment 18: 4.9097\n",
      "RMSE for segment 19: 4.8714\n",
      "RMSE for segment 20: 4.8459\n",
      "RMSE for segment 21: 4.8425\n",
      "RMSE for segment 22: 4.8490\n",
      "RMSE for segment 23: 4.8585\n",
      "RMSE for segment 24: 4.9048\n",
      "RMSE for segment 25: 4.9986\n",
      "RMSE for segment 26: 5.0401\n",
      "RMSE for segment 27: 5.0999\n",
      "RMSE for segment 28: 5.1737\n",
      "RMSE for segment 29: 5.2602\n",
      "RMSE for segment 30: 5.3290\n",
      "RMSE for segment 31: 5.3655\n",
      "RMSE for segment 32: 5.3886\n",
      "RMSE for segment 33: 5.4540\n",
      "RMSE for segment 34: 5.4918\n",
      "RMSE for segment 35: 5.4510\n",
      "RMSE for segment 36: 5.4235\n",
      "RMSE for segment 37: 5.4209\n",
      "RMSE for segment 38: 5.4478\n",
      "RMSE for segment 39: 5.4743\n",
      "RMSE for segment 40: 5.5285\n",
      "RMSE for segment 41: 5.5600\n",
      "RMSE for segment 42: 5.5847\n",
      "RMSE for segment 43: 5.5852\n",
      "RMSE for segment 44: 5.6038\n",
      "RMSE for segment 45: 5.5833\n",
      "RMSE for segment 46: 5.5606\n",
      "RMSE for segment 47: 5.5589\n",
      "RMSE for segment 48: 5.6192\n",
      "RMSE for segment 49: 5.6308\n",
      "RMSE for segment 50: 5.6272\n",
      "RMSE for segment 51: 5.6635\n",
      "RMSE for segment 52: 5.7171\n",
      "RMSE for segment 53: 5.7458\n",
      "RMSE for segment 54: 5.7668\n",
      "RMSE for segment 55: 5.8019\n",
      "RMSE for segment 56: 5.7982\n",
      "RMSE for segment 57: 5.8004\n",
      "RMSE for segment 58: 5.8038\n",
      "RMSE for segment 59: 5.7727\n",
      "RMSE for segment 60: 5.7886\n",
      "RMSE for segment 61: 5.7670\n",
      "RMSE for segment 62: 5.7433\n",
      "RMSE for segment 63: 5.7536\n",
      "RMSE for segment 64: 5.7568\n",
      "RMSE for segment 65: 5.7644\n",
      "RMSE for segment 66: 5.7896\n",
      "RMSE for segment 67: 5.8193\n",
      "RMSE for segment 68: 5.8192\n",
      "RMSE for segment 69: 5.8651\n",
      "RMSE for segment 70: 5.9255\n",
      "RMSE for segment 71: 5.9427\n",
      "RMSE for segment 72: 5.9501\n",
      "RMSE for segment 73: 5.9600\n",
      "RMSE for segment 74: 5.9713\n",
      "RMSE for segment 75: 5.9883\n",
      "RMSE for segment 76: 6.0109\n",
      "RMSE for segment 77: 6.0224\n",
      "RMSE for segment 78: 6.0740\n",
      "RMSE for segment 79: 6.0845\n",
      "RMSE for segment 80: 6.1020\n",
      "RMSE for segment 81: 6.0889\n",
      "RMSE for segment 82: 6.0473\n",
      "RMSE for segment 83: 5.9837\n",
      "RMSE for segment 84: 5.9675\n",
      "RMSE for segment 85: 5.9917\n",
      "RMSE for segment 86: 6.0068\n",
      "RMSE for segment 87: 6.0227\n",
      "RMSE for segment 88: 6.0403\n",
      "RMSE for segment 89: 6.0099\n",
      "RMSE for segment 90: 5.9624\n",
      "RMSE for segment 91: 5.8943\n",
      "RMSE for segment 92: 5.8795\n",
      "RMSE for segment 93: 5.9180\n",
      "RMSE for segment 94: 5.9477\n",
      "RMSE for segment 95: 5.9518\n",
      "RMSE for segment 96: 5.9675\n",
      "RMSE for segment 97: 6.0079\n",
      "RMSE for segment 98: 6.0429\n",
      "RMSE for segment 99: 6.1058\n",
      "RMSE for segment 100: 6.1441\n",
      "RMSE for segment 101: 6.1787\n",
      "RMSE for segment 102: 6.2019\n",
      "RMSE for segment 103: 6.1744\n",
      "RMSE for segment 104: 6.1608\n",
      "RMSE for segment 105: 6.1350\n",
      "RMSE for segment 106: 6.1124\n",
      "RMSE for segment 107: 6.0356\n",
      "RMSE for segment 108: 6.0184\n",
      "RMSE for segment 109: 6.0192\n",
      "RMSE for segment 110: 6.0674\n",
      "RMSE for segment 111: 6.1478\n",
      "RMSE for segment 112: 6.2358\n",
      "RMSE for segment 113: 6.3013\n",
      "RMSE for segment 114: 6.3038\n",
      "RMSE for segment 115: 6.2818\n",
      "RMSE for segment 116: 6.2668\n",
      "RMSE for segment 117: 6.2408\n",
      "RMSE for segment 118: 6.1817\n",
      "RMSE for segment 119: 6.1416\n",
      "RMSE for segment 120: 6.1276\n",
      "RMSE for segment 121: 6.1275\n",
      "RMSE for segment 122: 6.1293\n",
      "RMSE for segment 123: 6.1700\n",
      "RMSE for segment 124: 6.1971\n",
      "RMSE for segment 125: 6.1872\n",
      "RMSE for segment 126: 6.1850\n",
      "RMSE for segment 127: 6.1962\n",
      "RMSE for segment 128: 6.1851\n",
      "RMSE for segment 129: 6.1498\n",
      "RMSE for segment 130: 6.1175\n",
      "RMSE for segment 131: 6.1018\n",
      "RMSE for segment 132: 6.0865\n",
      "RMSE for segment 133: 6.0799\n",
      "RMSE for segment 134: 6.0649\n",
      "RMSE for segment 135: 6.0951\n",
      "RMSE for segment 136: 6.0755\n",
      "RMSE for segment 137: 6.1144\n",
      "RMSE for segment 138: 6.1295\n",
      "RMSE for segment 139: 6.1325\n",
      "RMSE for segment 140: 6.1584\n",
      "RMSE for segment 141: 6.1585\n",
      "RMSE for segment 142: 6.1660\n",
      "RMSE for segment 143: 6.1543\n",
      "RMSE for segment 144: 6.1803\n",
      "RMSE for segment 145: 6.2080\n",
      "RMSE for segment 146: 6.1779\n",
      "RMSE for segment 147: 6.1637\n",
      "RMSE for segment 148: 6.1296\n",
      "RMSE for segment 149: 6.1190\n",
      "RMSE for segment 150: 6.0914\n",
      "RMSE for segment 151: 6.0893\n",
      "RMSE for segment 152: 6.1380\n",
      "RMSE for segment 153: 6.2226\n",
      "RMSE for segment 154: 6.2832\n",
      "RMSE for segment 155: 6.2937\n",
      "RMSE for segment 156: 6.2722\n",
      "RMSE for segment 157: 6.2227\n",
      "RMSE for segment 158: 6.1905\n",
      "RMSE for segment 159: 6.2180\n",
      "RMSE for segment 160: 6.2637\n",
      "RMSE for segment 161: 6.3203\n",
      "RMSE for segment 162: 6.3161\n",
      "RMSE for segment 163: 6.3193\n",
      "RMSE for segment 164: 6.3158\n",
      "RMSE for segment 165: 6.3196\n",
      "RMSE for segment 166: 6.3407\n",
      "RMSE for segment 167: 6.3682\n",
      "RMSE for segment 168: 6.4140\n"
     ]
    }
   ],
   "source": [
    "segment_rmses = calculate_segment_rmse(testPredict, y_test_true)\n",
    "for i, rmse in enumerate(segment_rmses):\n",
    "    print(f\"RMSE for segment {i + 1}: {rmse:.4f}\")"
   ]
  },
  {
   "cell_type": "code",
   "execution_count": 23,
   "id": "7654b701-6ba9-4602-8611-59820b6311e4",
   "metadata": {},
   "outputs": [
    {
     "data": {
      "text/plain": [
       "array([[0.20608689, 0.19107956, 0.17919657, ..., 0.16581467, 0.1559532 ,\n",
       "        0.15212072],\n",
       "       [0.12087886, 0.12230468, 0.12287796, ..., 0.19474727, 0.1842819 ,\n",
       "        0.18164772],\n",
       "       [0.07243351, 0.07161169, 0.06903677, ..., 0.08043282, 0.07799489,\n",
       "        0.07745362],\n",
       "       ...,\n",
       "       [0.18405525, 0.18701963, 0.19909997, ..., 0.20925198, 0.1930792 ,\n",
       "        0.17919481],\n",
       "       [0.5287624 , 0.50689787, 0.42252597, ..., 0.45795754, 0.45399064,\n",
       "        0.43755305],\n",
       "       [0.05769374, 0.0603647 , 0.06228498, ..., 0.07378663, 0.07404203,\n",
       "        0.07492283]], dtype=float32)"
      ]
     },
     "execution_count": 23,
     "metadata": {},
     "output_type": "execute_result"
    }
   ],
   "source": [
    "forecast"
   ]
  },
  {
   "cell_type": "code",
   "execution_count": 24,
   "id": "7ea98a00-c789-49d3-bdfe-1c06c5364c33",
   "metadata": {},
   "outputs": [
    {
     "data": {
      "text/plain": [
       "array([[133.62717 , 132.31496 , 131.27594 , ..., 130.10587 , 129.2436  ,\n",
       "        128.90851 ],\n",
       "       [126.176796, 126.30147 , 126.35159 , ..., 132.63565 , 131.72058 ,\n",
       "        131.49026 ],\n",
       "       [121.940865, 121.86901 , 121.64387 , ..., 122.640305, 122.42714 ,\n",
       "        122.379814],\n",
       "       ...,\n",
       "       [131.70078 , 131.95996 , 133.01624 , ..., 133.9039  , 132.4898  ,\n",
       "        131.27579 ],\n",
       "       [161.84103 , 159.92926 , 152.552   , ..., 155.65005 , 155.30319 ,\n",
       "        153.86594 ],\n",
       "       [120.65206 , 120.885605, 121.053505, ..., 122.05918 , 122.08151 ,\n",
       "        122.15852 ]], dtype=float32)"
      ]
     },
     "execution_count": 24,
     "metadata": {},
     "output_type": "execute_result"
    }
   ],
   "source": [
    "testPredict"
   ]
  },
  {
   "cell_type": "code",
   "execution_count": 25,
   "id": "4e4e0314-523d-408f-9858-83e62f6ef22e",
   "metadata": {},
   "outputs": [
    {
     "data": {
      "text/plain": [
       "array([[132.39545 , 132.6498  , 132.90416 , ..., 126.41791 , 125.654816,\n",
       "        124.89172 ],\n",
       "       [126.290726, 126.290726, 126.290726, ..., 131.88672 , 130.32237 ,\n",
       "        128.74533 ],\n",
       "       [121.674034, 120.98725 , 120.313194, ..., 123.238365, 123.36555 ,\n",
       "        123.49273 ],\n",
       "       ...,\n",
       "       [131.12363 , 132.14108 , 133.15852 , ..., 149.48863 , 144.47769 ,\n",
       "        139.47945 ],\n",
       "       [159.52325 , 156.17839 , 152.61731 , ..., 151.43451 , 149.94649 ,\n",
       "        149.78116 ],\n",
       "       [120.86007 , 121.41967 , 121.96655 , ..., 120.69474 , 121.71219 ,\n",
       "        122.729645]], dtype=float32)"
      ]
     },
     "execution_count": 25,
     "metadata": {},
     "output_type": "execute_result"
    }
   ],
   "source": [
    "y_test_true"
   ]
  },
  {
   "cell_type": "code",
   "execution_count": 24,
   "id": "85765500-cf61-4e8a-8763-69a8f1e567ca",
   "metadata": {},
   "outputs": [],
   "source": [
    "model.save(\"pm10_1dcnn.keras\")"
   ]
  }
 ],
 "metadata": {
  "kernelspec": {
   "display_name": "Python 3 (ipykernel)",
   "language": "python",
   "name": "python3"
  },
  "language_info": {
   "codemirror_mode": {
    "name": "ipython",
    "version": 3
   },
   "file_extension": ".py",
   "mimetype": "text/x-python",
   "name": "python",
   "nbconvert_exporter": "python",
   "pygments_lexer": "ipython3",
   "version": "3.11.0"
  }
 },
 "nbformat": 4,
 "nbformat_minor": 5
}
