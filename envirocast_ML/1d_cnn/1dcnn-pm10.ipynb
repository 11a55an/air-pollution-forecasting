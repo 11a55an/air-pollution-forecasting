{
 "cells": [
  {
   "cell_type": "code",
   "execution_count": 1,
   "id": "08a7b78b-1d09-454f-8ecc-7c4184ab2240",
   "metadata": {},
   "outputs": [],
   "source": [
    "import pandas as pd\n",
    "import numpy as np"
   ]
  },
  {
   "cell_type": "code",
   "execution_count": 2,
   "id": "c1570c26-8e22-4498-9fe6-68e055e504a9",
   "metadata": {},
   "outputs": [],
   "source": [
    "df = pd.read_csv(\"../data/data_imputed_2.csv\")"
   ]
  },
  {
   "cell_type": "code",
   "execution_count": 3,
   "id": "55868db8-2144-49a3-9531-e4bf0728f0a2",
   "metadata": {},
   "outputs": [
    {
     "data": {
      "text/html": [
       "<div>\n",
       "<style scoped>\n",
       "    .dataframe tbody tr th:only-of-type {\n",
       "        vertical-align: middle;\n",
       "    }\n",
       "\n",
       "    .dataframe tbody tr th {\n",
       "        vertical-align: top;\n",
       "    }\n",
       "\n",
       "    .dataframe thead th {\n",
       "        text-align: right;\n",
       "    }\n",
       "</style>\n",
       "<table border=\"1\" class=\"dataframe\">\n",
       "  <thead>\n",
       "    <tr style=\"text-align: right;\">\n",
       "      <th></th>\n",
       "      <th>timestamp_local</th>\n",
       "      <th>temp</th>\n",
       "      <th>city_name</th>\n",
       "      <th>country_code</th>\n",
       "      <th>aqi</th>\n",
       "      <th>co</th>\n",
       "      <th>no2</th>\n",
       "      <th>o3</th>\n",
       "      <th>pm10</th>\n",
       "      <th>pm25</th>\n",
       "      <th>so2</th>\n",
       "    </tr>\n",
       "  </thead>\n",
       "  <tbody>\n",
       "    <tr>\n",
       "      <th>0</th>\n",
       "      <td>01/02/2022 0:00</td>\n",
       "      <td>12.6</td>\n",
       "      <td>Gujrāt</td>\n",
       "      <td>PK</td>\n",
       "      <td>385</td>\n",
       "      <td>1339.8</td>\n",
       "      <td>76.0</td>\n",
       "      <td>10.7</td>\n",
       "      <td>491.7</td>\n",
       "      <td>347.67</td>\n",
       "      <td>238.0</td>\n",
       "    </tr>\n",
       "    <tr>\n",
       "      <th>1</th>\n",
       "      <td>01/02/2022 1:00</td>\n",
       "      <td>11.5</td>\n",
       "      <td>Gujrāt</td>\n",
       "      <td>PK</td>\n",
       "      <td>404</td>\n",
       "      <td>1437.6</td>\n",
       "      <td>76.0</td>\n",
       "      <td>9.3</td>\n",
       "      <td>508.3</td>\n",
       "      <td>359.33</td>\n",
       "      <td>268.0</td>\n",
       "    </tr>\n",
       "    <tr>\n",
       "      <th>2</th>\n",
       "      <td>01/02/2022 2:00</td>\n",
       "      <td>11.9</td>\n",
       "      <td>Gujrāt</td>\n",
       "      <td>PK</td>\n",
       "      <td>421</td>\n",
       "      <td>1535.5</td>\n",
       "      <td>76.0</td>\n",
       "      <td>8.0</td>\n",
       "      <td>525.0</td>\n",
       "      <td>371.00</td>\n",
       "      <td>298.0</td>\n",
       "    </tr>\n",
       "    <tr>\n",
       "      <th>3</th>\n",
       "      <td>01/02/2022 3:00</td>\n",
       "      <td>12.2</td>\n",
       "      <td>Gujrāt</td>\n",
       "      <td>PK</td>\n",
       "      <td>425</td>\n",
       "      <td>1659.0</td>\n",
       "      <td>68.3</td>\n",
       "      <td>5.3</td>\n",
       "      <td>529.3</td>\n",
       "      <td>374.00</td>\n",
       "      <td>275.7</td>\n",
       "    </tr>\n",
       "    <tr>\n",
       "      <th>4</th>\n",
       "      <td>01/02/2022 4:00</td>\n",
       "      <td>11.9</td>\n",
       "      <td>Gujrāt</td>\n",
       "      <td>PK</td>\n",
       "      <td>430</td>\n",
       "      <td>1782.5</td>\n",
       "      <td>60.7</td>\n",
       "      <td>2.7</td>\n",
       "      <td>533.7</td>\n",
       "      <td>377.00</td>\n",
       "      <td>253.3</td>\n",
       "    </tr>\n",
       "  </tbody>\n",
       "</table>\n",
       "</div>"
      ],
      "text/plain": [
       "   timestamp_local  temp city_name country_code  aqi      co   no2    o3  \\\n",
       "0  01/02/2022 0:00  12.6    Gujrāt           PK  385  1339.8  76.0  10.7   \n",
       "1  01/02/2022 1:00  11.5    Gujrāt           PK  404  1437.6  76.0   9.3   \n",
       "2  01/02/2022 2:00  11.9    Gujrāt           PK  421  1535.5  76.0   8.0   \n",
       "3  01/02/2022 3:00  12.2    Gujrāt           PK  425  1659.0  68.3   5.3   \n",
       "4  01/02/2022 4:00  11.9    Gujrāt           PK  430  1782.5  60.7   2.7   \n",
       "\n",
       "    pm10    pm25    so2  \n",
       "0  491.7  347.67  238.0  \n",
       "1  508.3  359.33  268.0  \n",
       "2  525.0  371.00  298.0  \n",
       "3  529.3  374.00  275.7  \n",
       "4  533.7  377.00  253.3  "
      ]
     },
     "execution_count": 3,
     "metadata": {},
     "output_type": "execute_result"
    }
   ],
   "source": [
    "df.head()"
   ]
  },
  {
   "cell_type": "code",
   "execution_count": 4,
   "id": "1957f406-a837-4345-8d16-7835bd855082",
   "metadata": {},
   "outputs": [],
   "source": [
    "from sklearn.model_selection import train_test_split"
   ]
  },
  {
   "cell_type": "code",
   "execution_count": 5,
   "id": "d7e3c4f9-7208-48a1-bee4-1a89c09e2714",
   "metadata": {},
   "outputs": [],
   "source": [
    "data = df[['pm10']]"
   ]
  },
  {
   "cell_type": "code",
   "execution_count": 6,
   "id": "a2eedd5e-c6fa-43b7-9458-5deca00f11fb",
   "metadata": {},
   "outputs": [],
   "source": [
    "from sklearn.preprocessing import MinMaxScaler\n",
    "values = data.values\n",
    "\n",
    "values = values.astype('float32')\n",
    "\n",
    "scaler = MinMaxScaler(feature_range=(0, 1))\n",
    "scaled = scaler.fit_transform(values)"
   ]
  },
  {
   "cell_type": "code",
   "execution_count": 7,
   "id": "d93f3d70-328f-40a2-9403-0e22e9802560",
   "metadata": {},
   "outputs": [],
   "source": [
    "scaled = scaled.reshape((19706,))"
   ]
  },
  {
   "cell_type": "code",
   "execution_count": 8,
   "id": "09f5ccf2-8abf-4b08-8051-cb206ea52fad",
   "metadata": {},
   "outputs": [
    {
     "data": {
      "text/plain": [
       "(19706,)"
      ]
     },
     "execution_count": 8,
     "metadata": {},
     "output_type": "execute_result"
    }
   ],
   "source": [
    "scaled.shape"
   ]
  },
  {
   "cell_type": "code",
   "execution_count": 9,
   "id": "071ee44c-f600-41f6-9490-6cda18be3d8d",
   "metadata": {},
   "outputs": [],
   "source": [
    "def df_to_X_y(df, window_size, forecast_length):\n",
    "    # df_as_np = df.to_numpy()\n",
    "    X = []\n",
    "    y = []\n",
    "    \n",
    "    for i in range(len(df) - window_size - forecast_length):\n",
    "        row_x = [[a] for a in df[i:i+window_size]]\n",
    "        \n",
    "        X.append(row_x)\n",
    "        # row_y = df_as_np[i+window_size]\n",
    "        row_y = [b for b in df[i+window_size:i+window_size+forecast_length]]\n",
    "        \n",
    "        y.append(row_y)\n",
    "        \n",
    "    return np.array(X), np.array(y)"
   ]
  },
  {
   "cell_type": "code",
   "execution_count": 10,
   "id": "c118b905-bab3-4abf-b257-253d7ea2bb98",
   "metadata": {},
   "outputs": [],
   "source": [
    "WINDOW_WIDTH = 168\n",
    "FORECAST_LENGTH = 168\n",
    "X, y = df_to_X_y(scaled, WINDOW_WIDTH, FORECAST_LENGTH)\n",
    "\n",
    "\n",
    "X_train, X_test, y_train, y_test = train_test_split(X, y, test_size=0.2, random_state=0)\n",
    "X_train, X_val, y_train, y_val = train_test_split(X_train, y_train, test_size=0.2, random_state=0)\n",
    "\n",
    "X_max = X_train.max()\n",
    "X_min = X_train.min()"
   ]
  },
  {
   "cell_type": "code",
   "execution_count": 11,
   "id": "e7b85489-d3d6-4c17-8935-238402086eff",
   "metadata": {},
   "outputs": [],
   "source": [
    "batchSize = 16\n",
    "from keras.models import Sequential, save_model, load_model\n",
    "from keras.layers import *\n",
    "from keras.callbacks import ReduceLROnPlateau, ModelCheckpoint\n",
    "from tensorflow.keras.optimizers import Adam\n",
    "from keras.losses import MeanSquaredError\n",
    "from keras.metrics import RootMeanSquaredError"
   ]
  },
  {
   "cell_type": "code",
   "execution_count": 26,
   "id": "3b6c5847-1cc5-4149-b349-ff4f5c638c90",
   "metadata": {},
   "outputs": [
    {
     "data": {
      "text/html": [
       "<pre style=\"white-space:pre;overflow-x:auto;line-height:normal;font-family:Menlo,'DejaVu Sans Mono',consolas,'Courier New',monospace\"><span style=\"font-weight: bold\">Model: \"sequential_2\"</span>\n",
       "</pre>\n"
      ],
      "text/plain": [
       "\u001b[1mModel: \"sequential_2\"\u001b[0m\n"
      ]
     },
     "metadata": {},
     "output_type": "display_data"
    },
    {
     "data": {
      "text/html": [
       "<pre style=\"white-space:pre;overflow-x:auto;line-height:normal;font-family:Menlo,'DejaVu Sans Mono',consolas,'Courier New',monospace\">┏━━━━━━━━━━━━━━━━━━━━━━━━━━━━━━━━━━━━━━┳━━━━━━━━━━━━━━━━━━━━━━━━━━━━━┳━━━━━━━━━━━━━━━━━┓\n",
       "┃<span style=\"font-weight: bold\"> Layer (type)                         </span>┃<span style=\"font-weight: bold\"> Output Shape                </span>┃<span style=\"font-weight: bold\">         Param # </span>┃\n",
       "┡━━━━━━━━━━━━━━━━━━━━━━━━━━━━━━━━━━━━━━╇━━━━━━━━━━━━━━━━━━━━━━━━━━━━━╇━━━━━━━━━━━━━━━━━┩\n",
       "│ conv1d_2 (<span style=\"color: #0087ff; text-decoration-color: #0087ff\">Conv1D</span>)                    │ (<span style=\"color: #00d7ff; text-decoration-color: #00d7ff\">None</span>, <span style=\"color: #00af00; text-decoration-color: #00af00\">166</span>, <span style=\"color: #00af00; text-decoration-color: #00af00\">8</span>)              │              <span style=\"color: #00af00; text-decoration-color: #00af00\">32</span> │\n",
       "├──────────────────────────────────────┼─────────────────────────────┼─────────────────┤\n",
       "│ flatten_2 (<span style=\"color: #0087ff; text-decoration-color: #0087ff\">Flatten</span>)                  │ (<span style=\"color: #00d7ff; text-decoration-color: #00d7ff\">None</span>, <span style=\"color: #00af00; text-decoration-color: #00af00\">1328</span>)                │               <span style=\"color: #00af00; text-decoration-color: #00af00\">0</span> │\n",
       "├──────────────────────────────────────┼─────────────────────────────┼─────────────────┤\n",
       "│ dense_2 (<span style=\"color: #0087ff; text-decoration-color: #0087ff\">Dense</span>)                      │ (<span style=\"color: #00d7ff; text-decoration-color: #00d7ff\">None</span>, <span style=\"color: #00af00; text-decoration-color: #00af00\">168</span>)                 │         <span style=\"color: #00af00; text-decoration-color: #00af00\">223,272</span> │\n",
       "└──────────────────────────────────────┴─────────────────────────────┴─────────────────┘\n",
       "</pre>\n"
      ],
      "text/plain": [
       "┏━━━━━━━━━━━━━━━━━━━━━━━━━━━━━━━━━━━━━━┳━━━━━━━━━━━━━━━━━━━━━━━━━━━━━┳━━━━━━━━━━━━━━━━━┓\n",
       "┃\u001b[1m \u001b[0m\u001b[1mLayer (type)                        \u001b[0m\u001b[1m \u001b[0m┃\u001b[1m \u001b[0m\u001b[1mOutput Shape               \u001b[0m\u001b[1m \u001b[0m┃\u001b[1m \u001b[0m\u001b[1m        Param #\u001b[0m\u001b[1m \u001b[0m┃\n",
       "┡━━━━━━━━━━━━━━━━━━━━━━━━━━━━━━━━━━━━━━╇━━━━━━━━━━━━━━━━━━━━━━━━━━━━━╇━━━━━━━━━━━━━━━━━┩\n",
       "│ conv1d_2 (\u001b[38;5;33mConv1D\u001b[0m)                    │ (\u001b[38;5;45mNone\u001b[0m, \u001b[38;5;34m166\u001b[0m, \u001b[38;5;34m8\u001b[0m)              │              \u001b[38;5;34m32\u001b[0m │\n",
       "├──────────────────────────────────────┼─────────────────────────────┼─────────────────┤\n",
       "│ flatten_2 (\u001b[38;5;33mFlatten\u001b[0m)                  │ (\u001b[38;5;45mNone\u001b[0m, \u001b[38;5;34m1328\u001b[0m)                │               \u001b[38;5;34m0\u001b[0m │\n",
       "├──────────────────────────────────────┼─────────────────────────────┼─────────────────┤\n",
       "│ dense_2 (\u001b[38;5;33mDense\u001b[0m)                      │ (\u001b[38;5;45mNone\u001b[0m, \u001b[38;5;34m168\u001b[0m)                 │         \u001b[38;5;34m223,272\u001b[0m │\n",
       "└──────────────────────────────────────┴─────────────────────────────┴─────────────────┘\n"
      ]
     },
     "metadata": {},
     "output_type": "display_data"
    },
    {
     "data": {
      "text/html": [
       "<pre style=\"white-space:pre;overflow-x:auto;line-height:normal;font-family:Menlo,'DejaVu Sans Mono',consolas,'Courier New',monospace\"><span style=\"font-weight: bold\"> Total params: </span><span style=\"color: #00af00; text-decoration-color: #00af00\">223,304</span> (872.28 KB)\n",
       "</pre>\n"
      ],
      "text/plain": [
       "\u001b[1m Total params: \u001b[0m\u001b[38;5;34m223,304\u001b[0m (872.28 KB)\n"
      ]
     },
     "metadata": {},
     "output_type": "display_data"
    },
    {
     "data": {
      "text/html": [
       "<pre style=\"white-space:pre;overflow-x:auto;line-height:normal;font-family:Menlo,'DejaVu Sans Mono',consolas,'Courier New',monospace\"><span style=\"font-weight: bold\"> Trainable params: </span><span style=\"color: #00af00; text-decoration-color: #00af00\">223,304</span> (872.28 KB)\n",
       "</pre>\n"
      ],
      "text/plain": [
       "\u001b[1m Trainable params: \u001b[0m\u001b[38;5;34m223,304\u001b[0m (872.28 KB)\n"
      ]
     },
     "metadata": {},
     "output_type": "display_data"
    },
    {
     "data": {
      "text/html": [
       "<pre style=\"white-space:pre;overflow-x:auto;line-height:normal;font-family:Menlo,'DejaVu Sans Mono',consolas,'Courier New',monospace\"><span style=\"font-weight: bold\"> Non-trainable params: </span><span style=\"color: #00af00; text-decoration-color: #00af00\">0</span> (0.00 B)\n",
       "</pre>\n"
      ],
      "text/plain": [
       "\u001b[1m Non-trainable params: \u001b[0m\u001b[38;5;34m0\u001b[0m (0.00 B)\n"
      ]
     },
     "metadata": {},
     "output_type": "display_data"
    },
    {
     "name": "stdout",
     "output_type": "stream",
     "text": [
      "Epoch 1/50\n",
      "\u001b[1m388/388\u001b[0m \u001b[32m━━━━━━━━━━━━━━━━━━━━\u001b[0m\u001b[37m\u001b[0m \u001b[1m5s\u001b[0m 10ms/step - loss: 0.0085 - root_mean_squared_error: 0.0900 - val_loss: 0.0050 - val_root_mean_squared_error: 0.0706 - learning_rate: 0.0010\n",
      "Epoch 2/50\n",
      "\u001b[1m388/388\u001b[0m \u001b[32m━━━━━━━━━━━━━━━━━━━━\u001b[0m\u001b[37m\u001b[0m \u001b[1m3s\u001b[0m 8ms/step - loss: 0.0050 - root_mean_squared_error: 0.0704 - val_loss: 0.0048 - val_root_mean_squared_error: 0.0693 - learning_rate: 0.0010\n",
      "Epoch 3/50\n",
      "\u001b[1m388/388\u001b[0m \u001b[32m━━━━━━━━━━━━━━━━━━━━\u001b[0m\u001b[37m\u001b[0m \u001b[1m3s\u001b[0m 8ms/step - loss: 0.0048 - root_mean_squared_error: 0.0690 - val_loss: 0.0049 - val_root_mean_squared_error: 0.0702 - learning_rate: 0.0010\n",
      "Epoch 4/50\n",
      "\u001b[1m388/388\u001b[0m \u001b[32m━━━━━━━━━━━━━━━━━━━━\u001b[0m\u001b[37m\u001b[0m \u001b[1m4s\u001b[0m 9ms/step - loss: 0.0049 - root_mean_squared_error: 0.0700 - val_loss: 0.0048 - val_root_mean_squared_error: 0.0695 - learning_rate: 0.0010\n",
      "Epoch 5/50\n",
      "\u001b[1m388/388\u001b[0m \u001b[32m━━━━━━━━━━━━━━━━━━━━\u001b[0m\u001b[37m\u001b[0m \u001b[1m4s\u001b[0m 9ms/step - loss: 0.0047 - root_mean_squared_error: 0.0686 - val_loss: 0.0048 - val_root_mean_squared_error: 0.0695 - learning_rate: 0.0010\n",
      "Epoch 6/50\n",
      "\u001b[1m388/388\u001b[0m \u001b[32m━━━━━━━━━━━━━━━━━━━━\u001b[0m\u001b[37m\u001b[0m \u001b[1m3s\u001b[0m 8ms/step - loss: 0.0047 - root_mean_squared_error: 0.0685 - val_loss: 0.0047 - val_root_mean_squared_error: 0.0687 - learning_rate: 0.0010\n",
      "Epoch 7/50\n",
      "\u001b[1m388/388\u001b[0m \u001b[32m━━━━━━━━━━━━━━━━━━━━\u001b[0m\u001b[37m\u001b[0m \u001b[1m3s\u001b[0m 8ms/step - loss: 0.0046 - root_mean_squared_error: 0.0678 - val_loss: 0.0046 - val_root_mean_squared_error: 0.0681 - learning_rate: 0.0010\n",
      "Epoch 8/50\n",
      "\u001b[1m388/388\u001b[0m \u001b[32m━━━━━━━━━━━━━━━━━━━━\u001b[0m\u001b[37m\u001b[0m \u001b[1m4s\u001b[0m 9ms/step - loss: 0.0046 - root_mean_squared_error: 0.0681 - val_loss: 0.0047 - val_root_mean_squared_error: 0.0685 - learning_rate: 0.0010\n",
      "Epoch 9/50\n",
      "\u001b[1m388/388\u001b[0m \u001b[32m━━━━━━━━━━━━━━━━━━━━\u001b[0m\u001b[37m\u001b[0m \u001b[1m4s\u001b[0m 9ms/step - loss: 0.0045 - root_mean_squared_error: 0.0674 - val_loss: 0.0046 - val_root_mean_squared_error: 0.0679 - learning_rate: 0.0010\n",
      "Epoch 10/50\n",
      "\u001b[1m388/388\u001b[0m \u001b[32m━━━━━━━━━━━━━━━━━━━━\u001b[0m\u001b[37m\u001b[0m \u001b[1m3s\u001b[0m 8ms/step - loss: 0.0046 - root_mean_squared_error: 0.0675 - val_loss: 0.0049 - val_root_mean_squared_error: 0.0702 - learning_rate: 0.0010\n",
      "Epoch 11/50\n",
      "\u001b[1m388/388\u001b[0m \u001b[32m━━━━━━━━━━━━━━━━━━━━\u001b[0m\u001b[37m\u001b[0m \u001b[1m3s\u001b[0m 8ms/step - loss: 0.0045 - root_mean_squared_error: 0.0668 - val_loss: 0.0046 - val_root_mean_squared_error: 0.0681 - learning_rate: 0.0010\n",
      "Epoch 12/50\n",
      "\u001b[1m388/388\u001b[0m \u001b[32m━━━━━━━━━━━━━━━━━━━━\u001b[0m\u001b[37m\u001b[0m \u001b[1m3s\u001b[0m 8ms/step - loss: 0.0044 - root_mean_squared_error: 0.0661 - val_loss: 0.0045 - val_root_mean_squared_error: 0.0673 - learning_rate: 0.0010\n",
      "Epoch 13/50\n",
      "\u001b[1m388/388\u001b[0m \u001b[32m━━━━━━━━━━━━━━━━━━━━\u001b[0m\u001b[37m\u001b[0m \u001b[1m5s\u001b[0m 8ms/step - loss: 0.0044 - root_mean_squared_error: 0.0662 - val_loss: 0.0046 - val_root_mean_squared_error: 0.0678 - learning_rate: 0.0010\n",
      "Epoch 14/50\n",
      "\u001b[1m388/388\u001b[0m \u001b[32m━━━━━━━━━━━━━━━━━━━━\u001b[0m\u001b[37m\u001b[0m \u001b[1m3s\u001b[0m 8ms/step - loss: 0.0044 - root_mean_squared_error: 0.0666 - val_loss: 0.0045 - val_root_mean_squared_error: 0.0672 - learning_rate: 0.0010\n",
      "Epoch 15/50\n",
      "\u001b[1m388/388\u001b[0m \u001b[32m━━━━━━━━━━━━━━━━━━━━\u001b[0m\u001b[37m\u001b[0m \u001b[1m4s\u001b[0m 10ms/step - loss: 0.0043 - root_mean_squared_error: 0.0654 - val_loss: 0.0045 - val_root_mean_squared_error: 0.0672 - learning_rate: 0.0010\n",
      "Epoch 16/50\n",
      "\u001b[1m388/388\u001b[0m \u001b[32m━━━━━━━━━━━━━━━━━━━━\u001b[0m\u001b[37m\u001b[0m \u001b[1m3s\u001b[0m 8ms/step - loss: 0.0044 - root_mean_squared_error: 0.0665 - val_loss: 0.0046 - val_root_mean_squared_error: 0.0681 - learning_rate: 0.0010\n",
      "Epoch 17/50\n",
      "\u001b[1m388/388\u001b[0m \u001b[32m━━━━━━━━━━━━━━━━━━━━\u001b[0m\u001b[37m\u001b[0m \u001b[1m3s\u001b[0m 8ms/step - loss: 0.0043 - root_mean_squared_error: 0.0658 - val_loss: 0.0045 - val_root_mean_squared_error: 0.0672 - learning_rate: 0.0010\n",
      "Epoch 18/50\n",
      "\u001b[1m388/388\u001b[0m \u001b[32m━━━━━━━━━━━━━━━━━━━━\u001b[0m\u001b[37m\u001b[0m \u001b[1m4s\u001b[0m 10ms/step - loss: 0.0042 - root_mean_squared_error: 0.0651 - val_loss: 0.0045 - val_root_mean_squared_error: 0.0673 - learning_rate: 0.0010\n",
      "Epoch 19/50\n",
      "\u001b[1m388/388\u001b[0m \u001b[32m━━━━━━━━━━━━━━━━━━━━\u001b[0m\u001b[37m\u001b[0m \u001b[1m3s\u001b[0m 8ms/step - loss: 0.0043 - root_mean_squared_error: 0.0657 - val_loss: 0.0046 - val_root_mean_squared_error: 0.0676 - learning_rate: 0.0010\n",
      "Epoch 20/50\n",
      "\u001b[1m388/388\u001b[0m \u001b[32m━━━━━━━━━━━━━━━━━━━━\u001b[0m\u001b[37m\u001b[0m \u001b[1m4s\u001b[0m 10ms/step - loss: 0.0042 - root_mean_squared_error: 0.0652 - val_loss: 0.0045 - val_root_mean_squared_error: 0.0669 - learning_rate: 0.0010\n",
      "Epoch 21/50\n",
      "\u001b[1m388/388\u001b[0m \u001b[32m━━━━━━━━━━━━━━━━━━━━\u001b[0m\u001b[37m\u001b[0m \u001b[1m4s\u001b[0m 9ms/step - loss: 0.0042 - root_mean_squared_error: 0.0648 - val_loss: 0.0046 - val_root_mean_squared_error: 0.0677 - learning_rate: 0.0010\n",
      "Epoch 22/50\n",
      "\u001b[1m388/388\u001b[0m \u001b[32m━━━━━━━━━━━━━━━━━━━━\u001b[0m\u001b[37m\u001b[0m \u001b[1m4s\u001b[0m 10ms/step - loss: 0.0043 - root_mean_squared_error: 0.0652 - val_loss: 0.0045 - val_root_mean_squared_error: 0.0668 - learning_rate: 0.0010\n",
      "Epoch 23/50\n",
      "\u001b[1m388/388\u001b[0m \u001b[32m━━━━━━━━━━━━━━━━━━━━\u001b[0m\u001b[37m\u001b[0m \u001b[1m4s\u001b[0m 11ms/step - loss: 0.0042 - root_mean_squared_error: 0.0649 - val_loss: 0.0044 - val_root_mean_squared_error: 0.0666 - learning_rate: 1.0000e-04\n",
      "Epoch 24/50\n",
      "\u001b[1m388/388\u001b[0m \u001b[32m━━━━━━━━━━━━━━━━━━━━\u001b[0m\u001b[37m\u001b[0m \u001b[1m3s\u001b[0m 9ms/step - loss: 0.0041 - root_mean_squared_error: 0.0641 - val_loss: 0.0044 - val_root_mean_squared_error: 0.0665 - learning_rate: 1.0000e-04\n",
      "Epoch 25/50\n",
      "\u001b[1m388/388\u001b[0m \u001b[32m━━━━━━━━━━━━━━━━━━━━\u001b[0m\u001b[37m\u001b[0m \u001b[1m4s\u001b[0m 10ms/step - loss: 0.0042 - root_mean_squared_error: 0.0650 - val_loss: 0.0044 - val_root_mean_squared_error: 0.0665 - learning_rate: 1.0000e-04\n",
      "Epoch 26/50\n",
      "\u001b[1m388/388\u001b[0m \u001b[32m━━━━━━━━━━━━━━━━━━━━\u001b[0m\u001b[37m\u001b[0m \u001b[1m4s\u001b[0m 9ms/step - loss: 0.0042 - root_mean_squared_error: 0.0650 - val_loss: 0.0044 - val_root_mean_squared_error: 0.0665 - learning_rate: 1.0000e-04\n",
      "Epoch 27/50\n",
      "\u001b[1m388/388\u001b[0m \u001b[32m━━━━━━━━━━━━━━━━━━━━\u001b[0m\u001b[37m\u001b[0m \u001b[1m3s\u001b[0m 8ms/step - loss: 0.0041 - root_mean_squared_error: 0.0640 - val_loss: 0.0044 - val_root_mean_squared_error: 0.0665 - learning_rate: 1.0000e-04\n",
      "Epoch 28/50\n",
      "\u001b[1m388/388\u001b[0m \u001b[32m━━━━━━━━━━━━━━━━━━━━\u001b[0m\u001b[37m\u001b[0m \u001b[1m4s\u001b[0m 9ms/step - loss: 0.0042 - root_mean_squared_error: 0.0645 - val_loss: 0.0044 - val_root_mean_squared_error: 0.0664 - learning_rate: 1.0000e-04\n",
      "Epoch 29/50\n",
      "\u001b[1m388/388\u001b[0m \u001b[32m━━━━━━━━━━━━━━━━━━━━\u001b[0m\u001b[37m\u001b[0m \u001b[1m4s\u001b[0m 10ms/step - loss: 0.0041 - root_mean_squared_error: 0.0642 - val_loss: 0.0044 - val_root_mean_squared_error: 0.0664 - learning_rate: 1.0000e-04\n",
      "Epoch 30/50\n",
      "\u001b[1m388/388\u001b[0m \u001b[32m━━━━━━━━━━━━━━━━━━━━\u001b[0m\u001b[37m\u001b[0m \u001b[1m3s\u001b[0m 9ms/step - loss: 0.0041 - root_mean_squared_error: 0.0637 - val_loss: 0.0044 - val_root_mean_squared_error: 0.0665 - learning_rate: 1.0000e-04\n",
      "Epoch 31/50\n",
      "\u001b[1m388/388\u001b[0m \u001b[32m━━━━━━━━━━━━━━━━━━━━\u001b[0m\u001b[37m\u001b[0m \u001b[1m4s\u001b[0m 9ms/step - loss: 0.0041 - root_mean_squared_error: 0.0641 - val_loss: 0.0044 - val_root_mean_squared_error: 0.0665 - learning_rate: 1.0000e-04\n",
      "Epoch 32/50\n",
      "\u001b[1m388/388\u001b[0m \u001b[32m━━━━━━━━━━━━━━━━━━━━\u001b[0m\u001b[37m\u001b[0m \u001b[1m5s\u001b[0m 8ms/step - loss: 0.0041 - root_mean_squared_error: 0.0640 - val_loss: 0.0044 - val_root_mean_squared_error: 0.0664 - learning_rate: 1.0000e-04\n",
      "Epoch 33/50\n",
      "\u001b[1m388/388\u001b[0m \u001b[32m━━━━━━━━━━━━━━━━━━━━\u001b[0m\u001b[37m\u001b[0m \u001b[1m3s\u001b[0m 9ms/step - loss: 0.0041 - root_mean_squared_error: 0.0644 - val_loss: 0.0044 - val_root_mean_squared_error: 0.0666 - learning_rate: 1.0000e-04\n",
      "Epoch 34/50\n",
      "\u001b[1m388/388\u001b[0m \u001b[32m━━━━━━━━━━━━━━━━━━━━\u001b[0m\u001b[37m\u001b[0m \u001b[1m4s\u001b[0m 11ms/step - loss: 0.0042 - root_mean_squared_error: 0.0646 - val_loss: 0.0044 - val_root_mean_squared_error: 0.0664 - learning_rate: 1.0000e-04\n",
      "Epoch 35/50\n",
      "\u001b[1m388/388\u001b[0m \u001b[32m━━━━━━━━━━━━━━━━━━━━\u001b[0m\u001b[37m\u001b[0m \u001b[1m4s\u001b[0m 9ms/step - loss: 0.0041 - root_mean_squared_error: 0.0643 - val_loss: 0.0044 - val_root_mean_squared_error: 0.0664 - learning_rate: 1.0000e-04\n",
      "Epoch 36/50\n",
      "\u001b[1m388/388\u001b[0m \u001b[32m━━━━━━━━━━━━━━━━━━━━\u001b[0m\u001b[37m\u001b[0m \u001b[1m4s\u001b[0m 10ms/step - loss: 0.0041 - root_mean_squared_error: 0.0641 - val_loss: 0.0044 - val_root_mean_squared_error: 0.0664 - learning_rate: 1.0000e-05\n",
      "Epoch 37/50\n",
      "\u001b[1m388/388\u001b[0m \u001b[32m━━━━━━━━━━━━━━━━━━━━\u001b[0m\u001b[37m\u001b[0m \u001b[1m4s\u001b[0m 10ms/step - loss: 0.0040 - root_mean_squared_error: 0.0631 - val_loss: 0.0044 - val_root_mean_squared_error: 0.0664 - learning_rate: 1.0000e-05\n",
      "Epoch 38/50\n",
      "\u001b[1m388/388\u001b[0m \u001b[32m━━━━━━━━━━━━━━━━━━━━\u001b[0m\u001b[37m\u001b[0m \u001b[1m4s\u001b[0m 10ms/step - loss: 0.0041 - root_mean_squared_error: 0.0639 - val_loss: 0.0044 - val_root_mean_squared_error: 0.0664 - learning_rate: 1.0000e-05\n",
      "Epoch 39/50\n",
      "\u001b[1m388/388\u001b[0m \u001b[32m━━━━━━━━━━━━━━━━━━━━\u001b[0m\u001b[37m\u001b[0m \u001b[1m5s\u001b[0m 10ms/step - loss: 0.0041 - root_mean_squared_error: 0.0643 - val_loss: 0.0044 - val_root_mean_squared_error: 0.0663 - learning_rate: 1.0000e-05\n",
      "Epoch 40/50\n",
      "\u001b[1m388/388\u001b[0m \u001b[32m━━━━━━━━━━━━━━━━━━━━\u001b[0m\u001b[37m\u001b[0m \u001b[1m4s\u001b[0m 10ms/step - loss: 0.0041 - root_mean_squared_error: 0.0642 - val_loss: 0.0044 - val_root_mean_squared_error: 0.0664 - learning_rate: 1.0000e-05\n",
      "Epoch 41/50\n",
      "\u001b[1m388/388\u001b[0m \u001b[32m━━━━━━━━━━━━━━━━━━━━\u001b[0m\u001b[37m\u001b[0m \u001b[1m4s\u001b[0m 9ms/step - loss: 0.0041 - root_mean_squared_error: 0.0638 - val_loss: 0.0044 - val_root_mean_squared_error: 0.0663 - learning_rate: 1.0000e-05\n",
      "Epoch 42/50\n",
      "\u001b[1m388/388\u001b[0m \u001b[32m━━━━━━━━━━━━━━━━━━━━\u001b[0m\u001b[37m\u001b[0m \u001b[1m4s\u001b[0m 9ms/step - loss: 0.0042 - root_mean_squared_error: 0.0644 - val_loss: 0.0044 - val_root_mean_squared_error: 0.0663 - learning_rate: 1.0000e-05\n",
      "Epoch 43/50\n",
      "\u001b[1m388/388\u001b[0m \u001b[32m━━━━━━━━━━━━━━━━━━━━\u001b[0m\u001b[37m\u001b[0m \u001b[1m4s\u001b[0m 10ms/step - loss: 0.0041 - root_mean_squared_error: 0.0637 - val_loss: 0.0044 - val_root_mean_squared_error: 0.0664 - learning_rate: 1.0000e-05\n",
      "Epoch 44/50\n",
      "\u001b[1m388/388\u001b[0m \u001b[32m━━━━━━━━━━━━━━━━━━━━\u001b[0m\u001b[37m\u001b[0m \u001b[1m4s\u001b[0m 9ms/step - loss: 0.0041 - root_mean_squared_error: 0.0643 - val_loss: 0.0044 - val_root_mean_squared_error: 0.0663 - learning_rate: 1.0000e-05\n",
      "Epoch 45/50\n",
      "\u001b[1m388/388\u001b[0m \u001b[32m━━━━━━━━━━━━━━━━━━━━\u001b[0m\u001b[37m\u001b[0m \u001b[1m3s\u001b[0m 9ms/step - loss: 0.0040 - root_mean_squared_error: 0.0635 - val_loss: 0.0044 - val_root_mean_squared_error: 0.0663 - learning_rate: 1.0000e-05\n",
      "Epoch 46/50\n",
      "\u001b[1m388/388\u001b[0m \u001b[32m━━━━━━━━━━━━━━━━━━━━\u001b[0m\u001b[37m\u001b[0m \u001b[1m3s\u001b[0m 9ms/step - loss: 0.0041 - root_mean_squared_error: 0.0637 - val_loss: 0.0044 - val_root_mean_squared_error: 0.0663 - learning_rate: 1.0000e-06\n",
      "Epoch 47/50\n",
      "\u001b[1m388/388\u001b[0m \u001b[32m━━━━━━━━━━━━━━━━━━━━\u001b[0m\u001b[37m\u001b[0m \u001b[1m4s\u001b[0m 9ms/step - loss: 0.0041 - root_mean_squared_error: 0.0640 - val_loss: 0.0044 - val_root_mean_squared_error: 0.0663 - learning_rate: 1.0000e-06\n",
      "Epoch 48/50\n",
      "\u001b[1m388/388\u001b[0m \u001b[32m━━━━━━━━━━━━━━━━━━━━\u001b[0m\u001b[37m\u001b[0m \u001b[1m6s\u001b[0m 11ms/step - loss: 0.0041 - root_mean_squared_error: 0.0642 - val_loss: 0.0044 - val_root_mean_squared_error: 0.0663 - learning_rate: 1.0000e-06\n",
      "Epoch 49/50\n",
      "\u001b[1m388/388\u001b[0m \u001b[32m━━━━━━━━━━━━━━━━━━━━\u001b[0m\u001b[37m\u001b[0m \u001b[1m4s\u001b[0m 10ms/step - loss: 0.0041 - root_mean_squared_error: 0.0644 - val_loss: 0.0044 - val_root_mean_squared_error: 0.0663 - learning_rate: 1.0000e-06\n",
      "Epoch 50/50\n",
      "\u001b[1m388/388\u001b[0m \u001b[32m━━━━━━━━━━━━━━━━━━━━\u001b[0m\u001b[37m\u001b[0m \u001b[1m4s\u001b[0m 10ms/step - loss: 0.0042 - root_mean_squared_error: 0.0646 - val_loss: 0.0044 - val_root_mean_squared_error: 0.0663 - learning_rate: 1.0000e-06\n"
     ]
    }
   ],
   "source": [
    "normalizer = Normalization()\n",
    "normalizer.adapt(X_train)\n",
    "rlrop = ReduceLROnPlateau(monitor='val_loss', factor=0.1, patience=10)\n",
    "\n",
    "model = Sequential()\n",
    "# 1D Convolutional layers\n",
    "model.add(Conv1D(filters=8, kernel_size=3, activation='relu', input_shape=X_train.shape[1:]))\n",
    "# model.add(Conv1D(filters=64, kernel_size=3, activation='relu'))\n",
    "# model.add(Conv1D(filters=32, kernel_size=3, activation='relu'))\n",
    "# Flatten the output of the Conv layers\n",
    "model.add(Flatten())\n",
    "# model.add(LSTM(input_shape = X_train.shape[1:], units=86, return_sequences=True))\n",
    "# model.add(LSTM(units=64, return_sequences=True))\n",
    "# model.add(GRU(units=86, return_sequences=True))\n",
    "# model.add(LSTM(units=128, return_sequences=True))\n",
    "# model.add(GRU(units=100, return_sequences=True))\n",
    "# model.add(LSTM(units=100, return_sequences=False))\n",
    "# model.add(Dense(units=100,  activation='relu'))\n",
    "# model.add(Dense(8, activation='relu'))\n",
    "\n",
    "model.add(Dense(units=FORECAST_LENGTH, activation='linear'))\n",
    "\n",
    "model.summary()\n",
    "\n",
    "model.compile(optimizer=Adam(learning_rate=0.001), metrics=[RootMeanSquaredError()] , loss=MeanSquaredError())\n",
    "\n",
    "history = model.fit(X_train, y_train, validation_data=(X_val,y_val), epochs=50, callbacks=[rlrop])\n",
    "\n",
    "# score = model.evaluate(X_test, y_test, verbose = 1)"
   ]
  },
  {
   "cell_type": "code",
   "execution_count": 13,
   "id": "5674b419-12bd-4a4e-a83d-2438ae813939",
   "metadata": {},
   "outputs": [
    {
     "name": "stdout",
     "output_type": "stream",
     "text": [
      "\u001b[1m122/122\u001b[0m \u001b[32m━━━━━━━━━━━━━━━━━━━━\u001b[0m\u001b[37m\u001b[0m \u001b[1m1s\u001b[0m 5ms/step\n"
     ]
    }
   ],
   "source": [
    "forecast = model.predict(X_test)"
   ]
  },
  {
   "cell_type": "code",
   "execution_count": 14,
   "id": "abb7c26e-b6e8-4526-aa4e-9180825c9d51",
   "metadata": {},
   "outputs": [],
   "source": [
    "poll = np.array(df[\"pm10\"])\n",
    "\n",
    "meanop = poll.mean()\n",
    "stdop = poll.std()\n",
    "\n",
    "y_test_true = y_test*stdop + meanop\n",
    "testPredict = forecast*stdop + meanop"
   ]
  },
  {
   "cell_type": "code",
   "execution_count": 15,
   "id": "cccf66c7-77a1-483d-8b28-e5df8056b4b6",
   "metadata": {},
   "outputs": [],
   "source": [
    "from sklearn.metrics import mean_squared_error"
   ]
  },
  {
   "cell_type": "code",
   "execution_count": 16,
   "id": "3e3a186b-a281-4964-9581-f8f73931e019",
   "metadata": {},
   "outputs": [
    {
     "name": "stdout",
     "output_type": "stream",
     "text": [
      "Test RMSE = 5.7175846\n"
     ]
    }
   ],
   "source": [
    "rmse = np.sqrt(mean_squared_error(y_test_true, testPredict))\n",
    "print(\"Test RMSE =\"  ,rmse)"
   ]
  },
  {
   "cell_type": "code",
   "execution_count": 17,
   "id": "a8c9fe94-b991-48aa-b917-115e04f18ffa",
   "metadata": {},
   "outputs": [
    {
     "data": {
      "text/plain": [
       "(3874, 168)"
      ]
     },
     "execution_count": 17,
     "metadata": {},
     "output_type": "execute_result"
    }
   ],
   "source": [
    "y_test_true.shape"
   ]
  },
  {
   "cell_type": "code",
   "execution_count": 18,
   "id": "a21c236d-93b7-4d0a-ba80-08ec2a83c3f8",
   "metadata": {},
   "outputs": [
    {
     "data": {
      "text/plain": [
       "(3874, 168)"
      ]
     },
     "execution_count": 18,
     "metadata": {},
     "output_type": "execute_result"
    }
   ],
   "source": [
    "testPredict.shape"
   ]
  },
  {
   "cell_type": "code",
   "execution_count": 19,
   "id": "9c9037be-c096-476c-8472-bec3a194b54d",
   "metadata": {},
   "outputs": [],
   "source": [
    "import numpy as np\n",
    "\n",
    "def calculate_segment_rmse(predictions, actuals, segment_length=1):\n",
    "    num_segments = predictions.shape[1] // segment_length\n",
    "    rmses = []\n",
    "    \n",
    "    for i in range(num_segments):\n",
    "        start_idx = i * segment_length\n",
    "        end_idx = start_idx + segment_length\n",
    "        \n",
    "        # Extract the segment for both predictions and actuals\n",
    "        pred_segment = predictions[:, start_idx:end_idx]\n",
    "        actual_segment = actuals[:, start_idx:end_idx]\n",
    "        \n",
    "        # Calculate RMSE for this segment\n",
    "        segment_rmse = np.sqrt(mean_squared_error(actual_segment.flatten(), pred_segment.flatten()))\n",
    "        rmses.append(segment_rmse)\n",
    "    \n",
    "    return rmses"
   ]
  },
  {
   "cell_type": "code",
   "execution_count": 20,
   "id": "13b4f256-db53-49f0-a277-65259836076c",
   "metadata": {},
   "outputs": [
    {
     "name": "stdout",
     "output_type": "stream",
     "text": [
      "RMSE for segment 1: 1.2778\n",
      "RMSE for segment 2: 1.9097\n",
      "RMSE for segment 3: 2.5722\n",
      "RMSE for segment 4: 3.1096\n",
      "RMSE for segment 5: 3.5610\n",
      "RMSE for segment 6: 3.9309\n",
      "RMSE for segment 7: 4.1794\n",
      "RMSE for segment 8: 4.3284\n",
      "RMSE for segment 9: 4.4681\n",
      "RMSE for segment 10: 4.5514\n",
      "RMSE for segment 11: 4.5938\n",
      "RMSE for segment 12: 4.6287\n",
      "RMSE for segment 13: 4.6991\n",
      "RMSE for segment 14: 4.7545\n",
      "RMSE for segment 15: 4.8636\n",
      "RMSE for segment 16: 4.8934\n",
      "RMSE for segment 17: 4.8757\n",
      "RMSE for segment 18: 4.8677\n",
      "RMSE for segment 19: 4.8393\n",
      "RMSE for segment 20: 4.8016\n",
      "RMSE for segment 21: 4.7883\n",
      "RMSE for segment 22: 4.7900\n",
      "RMSE for segment 23: 4.8182\n",
      "RMSE for segment 24: 4.8839\n",
      "RMSE for segment 25: 4.9722\n",
      "RMSE for segment 26: 5.0132\n",
      "RMSE for segment 27: 5.0725\n",
      "RMSE for segment 28: 5.1421\n",
      "RMSE for segment 29: 5.2368\n",
      "RMSE for segment 30: 5.3238\n",
      "RMSE for segment 31: 5.3516\n",
      "RMSE for segment 32: 5.3745\n",
      "RMSE for segment 33: 5.4340\n",
      "RMSE for segment 34: 5.4544\n",
      "RMSE for segment 35: 5.4233\n",
      "RMSE for segment 36: 5.4064\n",
      "RMSE for segment 37: 5.4020\n",
      "RMSE for segment 38: 5.4119\n",
      "RMSE for segment 39: 5.4431\n",
      "RMSE for segment 40: 5.4958\n",
      "RMSE for segment 41: 5.5257\n",
      "RMSE for segment 42: 5.5360\n",
      "RMSE for segment 43: 5.5458\n",
      "RMSE for segment 44: 5.5578\n",
      "RMSE for segment 45: 5.5541\n",
      "RMSE for segment 46: 5.5264\n",
      "RMSE for segment 47: 5.5349\n",
      "RMSE for segment 48: 5.5926\n",
      "RMSE for segment 49: 5.6151\n",
      "RMSE for segment 50: 5.6053\n",
      "RMSE for segment 51: 5.6504\n",
      "RMSE for segment 52: 5.6999\n",
      "RMSE for segment 53: 5.7204\n",
      "RMSE for segment 54: 5.7383\n",
      "RMSE for segment 55: 5.7751\n",
      "RMSE for segment 56: 5.7561\n",
      "RMSE for segment 57: 5.7426\n",
      "RMSE for segment 58: 5.7522\n",
      "RMSE for segment 59: 5.7206\n",
      "RMSE for segment 60: 5.7419\n",
      "RMSE for segment 61: 5.7242\n",
      "RMSE for segment 62: 5.7019\n",
      "RMSE for segment 63: 5.7194\n",
      "RMSE for segment 64: 5.7243\n",
      "RMSE for segment 65: 5.7252\n",
      "RMSE for segment 66: 5.7438\n",
      "RMSE for segment 67: 5.7646\n",
      "RMSE for segment 68: 5.7399\n",
      "RMSE for segment 69: 5.7604\n",
      "RMSE for segment 70: 5.8060\n",
      "RMSE for segment 71: 5.8325\n",
      "RMSE for segment 72: 5.8479\n",
      "RMSE for segment 73: 5.8710\n",
      "RMSE for segment 74: 5.8989\n",
      "RMSE for segment 75: 5.9356\n",
      "RMSE for segment 76: 5.9767\n",
      "RMSE for segment 77: 5.9844\n",
      "RMSE for segment 78: 6.0485\n",
      "RMSE for segment 79: 6.0472\n",
      "RMSE for segment 80: 6.0631\n",
      "RMSE for segment 81: 6.0486\n",
      "RMSE for segment 82: 5.9970\n",
      "RMSE for segment 83: 5.9311\n",
      "RMSE for segment 84: 5.9226\n",
      "RMSE for segment 85: 5.9547\n",
      "RMSE for segment 86: 5.9566\n",
      "RMSE for segment 87: 5.9741\n",
      "RMSE for segment 88: 5.9855\n",
      "RMSE for segment 89: 5.9655\n",
      "RMSE for segment 90: 5.9132\n",
      "RMSE for segment 91: 5.8375\n",
      "RMSE for segment 92: 5.8084\n",
      "RMSE for segment 93: 5.8388\n",
      "RMSE for segment 94: 5.8629\n",
      "RMSE for segment 95: 5.8737\n",
      "RMSE for segment 96: 5.8881\n",
      "RMSE for segment 97: 5.9492\n",
      "RMSE for segment 98: 5.9977\n",
      "RMSE for segment 99: 6.0720\n",
      "RMSE for segment 100: 6.1248\n",
      "RMSE for segment 101: 6.1573\n",
      "RMSE for segment 102: 6.1822\n",
      "RMSE for segment 103: 6.1599\n",
      "RMSE for segment 104: 6.1328\n",
      "RMSE for segment 105: 6.0992\n",
      "RMSE for segment 106: 6.0729\n",
      "RMSE for segment 107: 5.9829\n",
      "RMSE for segment 108: 5.9600\n",
      "RMSE for segment 109: 5.9575\n",
      "RMSE for segment 110: 5.9967\n",
      "RMSE for segment 111: 6.0882\n",
      "RMSE for segment 112: 6.1612\n",
      "RMSE for segment 113: 6.2269\n",
      "RMSE for segment 114: 6.2233\n",
      "RMSE for segment 115: 6.1989\n",
      "RMSE for segment 116: 6.1880\n",
      "RMSE for segment 117: 6.1644\n",
      "RMSE for segment 118: 6.1096\n",
      "RMSE for segment 119: 6.0879\n",
      "RMSE for segment 120: 6.0800\n",
      "RMSE for segment 121: 6.0728\n",
      "RMSE for segment 122: 6.0883\n",
      "RMSE for segment 123: 6.1336\n",
      "RMSE for segment 124: 6.1714\n",
      "RMSE for segment 125: 6.1677\n",
      "RMSE for segment 126: 6.1615\n",
      "RMSE for segment 127: 6.1719\n",
      "RMSE for segment 128: 6.1585\n",
      "RMSE for segment 129: 6.1103\n",
      "RMSE for segment 130: 6.0749\n",
      "RMSE for segment 131: 6.0580\n",
      "RMSE for segment 132: 6.0597\n",
      "RMSE for segment 133: 6.0611\n",
      "RMSE for segment 134: 6.0392\n",
      "RMSE for segment 135: 6.0632\n",
      "RMSE for segment 136: 6.0488\n",
      "RMSE for segment 137: 6.0863\n",
      "RMSE for segment 138: 6.0994\n",
      "RMSE for segment 139: 6.0954\n",
      "RMSE for segment 140: 6.1071\n",
      "RMSE for segment 141: 6.0797\n",
      "RMSE for segment 142: 6.0763\n",
      "RMSE for segment 143: 6.0689\n",
      "RMSE for segment 144: 6.1032\n",
      "RMSE for segment 145: 6.1251\n",
      "RMSE for segment 146: 6.1015\n",
      "RMSE for segment 147: 6.0997\n",
      "RMSE for segment 148: 6.0699\n",
      "RMSE for segment 149: 6.0627\n",
      "RMSE for segment 150: 6.0435\n",
      "RMSE for segment 151: 6.0452\n",
      "RMSE for segment 152: 6.1097\n",
      "RMSE for segment 153: 6.2043\n",
      "RMSE for segment 154: 6.2558\n",
      "RMSE for segment 155: 6.2780\n",
      "RMSE for segment 156: 6.2587\n",
      "RMSE for segment 157: 6.2173\n",
      "RMSE for segment 158: 6.1866\n",
      "RMSE for segment 159: 6.2196\n",
      "RMSE for segment 160: 6.2521\n",
      "RMSE for segment 161: 6.3047\n",
      "RMSE for segment 162: 6.2976\n",
      "RMSE for segment 163: 6.2872\n",
      "RMSE for segment 164: 6.2842\n",
      "RMSE for segment 165: 6.2688\n",
      "RMSE for segment 166: 6.2870\n",
      "RMSE for segment 167: 6.3102\n",
      "RMSE for segment 168: 6.3599\n"
     ]
    }
   ],
   "source": [
    "segment_rmses = calculate_segment_rmse(testPredict, y_test_true)\n",
    "for i, rmse in enumerate(segment_rmses):\n",
    "    print(f\"RMSE for segment {i + 1}: {rmse:.4f}\")"
   ]
  },
  {
   "cell_type": "code",
   "execution_count": 21,
   "id": "7654b701-6ba9-4602-8611-59820b6311e4",
   "metadata": {},
   "outputs": [
    {
     "data": {
      "text/plain": [
       "array([[0.17507191, 0.16133074, 0.14940642, ..., 0.17581843, 0.16838016,\n",
       "        0.15833472],\n",
       "       [0.13492468, 0.13447028, 0.13399643, ..., 0.17687625, 0.17081432,\n",
       "        0.1654405 ],\n",
       "       [0.07311019, 0.07140125, 0.07067638, ..., 0.07574112, 0.07541823,\n",
       "        0.07525648],\n",
       "       ...,\n",
       "       [0.18303245, 0.18695393, 0.19574124, ..., 0.20214295, 0.18822981,\n",
       "        0.17764547],\n",
       "       [0.49677852, 0.4723055 , 0.3960954 , ..., 0.4689053 , 0.46135828,\n",
       "        0.44151127],\n",
       "       [0.06079105, 0.06347147, 0.0652651 , ..., 0.07210771, 0.07244357,\n",
       "        0.07546005]], dtype=float32)"
      ]
     },
     "execution_count": 21,
     "metadata": {},
     "output_type": "execute_result"
    }
   ],
   "source": [
    "forecast"
   ]
  },
  {
   "cell_type": "code",
   "execution_count": 22,
   "id": "7ea98a00-c789-49d3-bdfe-1c06c5364c33",
   "metadata": {},
   "outputs": [
    {
     "data": {
      "text/plain": [
       "array([[130.9153 , 129.7138 , 128.67117, ..., 130.98056, 130.33018,\n",
       "        129.45184],\n",
       "       [127.40492, 127.3652 , 127.32376, ..., 131.07306, 130.54301,\n",
       "        130.07315],\n",
       "       [122.00003, 121.85061, 121.78723, ..., 122.23007, 122.20184,\n",
       "        122.1877 ],\n",
       "       ...,\n",
       "       [131.61134, 131.95422, 132.72256, ..., 133.28232, 132.06578,\n",
       "        131.14032],\n",
       "       [159.04445, 156.9046 , 150.241  , ..., 156.6073 , 155.9474 ,\n",
       "        154.21204],\n",
       "       [120.92288, 121.15725, 121.31408, ..., 121.91238, 121.94175,\n",
       "        122.2055 ]], dtype=float32)"
      ]
     },
     "execution_count": 22,
     "metadata": {},
     "output_type": "execute_result"
    }
   ],
   "source": [
    "testPredict"
   ]
  },
  {
   "cell_type": "code",
   "execution_count": 23,
   "id": "4e4e0314-523d-408f-9858-83e62f6ef22e",
   "metadata": {},
   "outputs": [
    {
     "data": {
      "text/plain": [
       "array([[132.39545 , 132.6498  , 132.90416 , ..., 126.41791 , 125.654816,\n",
       "        124.89172 ],\n",
       "       [126.290726, 126.290726, 126.290726, ..., 131.88672 , 130.32237 ,\n",
       "        128.74533 ],\n",
       "       [121.674034, 120.98725 , 120.313194, ..., 123.238365, 123.36555 ,\n",
       "        123.49273 ],\n",
       "       ...,\n",
       "       [131.12363 , 132.14108 , 133.15852 , ..., 149.48863 , 144.47769 ,\n",
       "        139.47945 ],\n",
       "       [159.52325 , 156.17839 , 152.61731 , ..., 151.43451 , 149.94649 ,\n",
       "        149.78116 ],\n",
       "       [120.86007 , 121.41967 , 121.96655 , ..., 120.69474 , 121.71219 ,\n",
       "        122.729645]], dtype=float32)"
      ]
     },
     "execution_count": 23,
     "metadata": {},
     "output_type": "execute_result"
    }
   ],
   "source": [
    "y_test_true"
   ]
  },
  {
   "cell_type": "code",
   "execution_count": 72,
   "id": "f4750aac-95f7-4e91-8a8f-2c7a1b8f9821",
   "metadata": {},
   "outputs": [],
   "source": [
    "last_input = X_test[-1]"
   ]
  },
  {
   "cell_type": "code",
   "execution_count": 73,
   "id": "05f51012-a2c6-4bd7-a6e5-c63304d4a532",
   "metadata": {},
   "outputs": [
    {
     "data": {
      "text/plain": [
       "(168, 1)"
      ]
     },
     "execution_count": 73,
     "metadata": {},
     "output_type": "execute_result"
    }
   ],
   "source": [
    "last_input.shape"
   ]
  },
  {
   "cell_type": "code",
   "execution_count": 74,
   "id": "62ac89ac-a2a6-45b8-91b9-97f7a76a3b9c",
   "metadata": {},
   "outputs": [],
   "source": [
    "last_input = last_input.reshape(168,)"
   ]
  },
  {
   "cell_type": "code",
   "execution_count": 77,
   "id": "d5a7240d-c5bc-4310-9013-b5d388cfdc9b",
   "metadata": {},
   "outputs": [
    {
     "name": "stdout",
     "output_type": "stream",
     "text": [
      "\u001b[1m1/1\u001b[0m \u001b[32m━━━━━━━━━━━━━━━━━━━━\u001b[0m\u001b[37m\u001b[0m \u001b[1m0s\u001b[0m 44ms/step\n"
     ]
    }
   ],
   "source": [
    "# predictions = []\n",
    "# for _ in range(168):\n",
    "#     # Predict the next value\n",
    "#     print(last_input)\n",
    "predicted_value = model.predict(last_input.reshape(1, 168, 1))[0]\n",
    "predicted_value = predicted_value\n",
    "predicted_value = predicted_value * stdop + meanop\n",
    "    # predictions.append(predicted_value)\n",
    "    \n",
    "#     # Update the input sequence for the next iteration\n",
    "#     last_input = np.append(last_input[1:], predicted_value)\n",
    "# print(predictions)"
   ]
  },
  {
   "cell_type": "code",
   "execution_count": 78,
   "id": "c00705b9-7e0e-44a7-8ad7-322c750f0846",
   "metadata": {},
   "outputs": [
    {
     "data": {
      "text/plain": [
       "array([ 88.56814 ,  87.0865  ,  85.89468 ,  85.56283 ,  85.12053 ,\n",
       "        84.926125,  84.82616 ,  84.900276,  85.012024,  86.242004,\n",
       "        87.66179 ,  89.064674,  93.91494 ,  98.99813 , 103.95776 ,\n",
       "       104.310104, 104.34928 , 104.4447  , 102.89404 , 101.59718 ,\n",
       "        99.94553 ,  96.863625,  93.75132 ,  90.66343 ,  89.166595,\n",
       "        88.023994,  86.89277 ,  86.74036 ,  86.463684,  86.19579 ,\n",
       "        86.0873  ,  85.94686 ,  85.92076 ,  86.63535 ,  87.637215,\n",
       "        88.65329 ,  93.195015,  98.06164 , 103.030815, 104.152336,\n",
       "       104.91652 , 105.34003 , 103.85257 , 102.05101 , 100.2362  ,\n",
       "        96.88373 ,  93.53139 ,  90.27503 ,  88.84191 ,  87.40513 ,\n",
       "        86.02289 ,  85.74353 ,  85.2294  ,  85.013855,  84.87958 ,\n",
       "        85.02116 ,  85.15712 ,  86.54288 ,  88.187225,  89.803764,\n",
       "        94.41786 ,  99.27209 , 104.060486, 104.77241 , 105.30119 ,\n",
       "       105.5344  , 103.812996, 101.92653 ,  99.97254 ,  96.67348 ,\n",
       "        93.36318 ,  90.06612 ,  88.883865,  87.41988 ,  86.257996,\n",
       "        85.89323 ,  85.52318 ,  85.32102 ,  85.212135,  85.41734 ,\n",
       "        85.44294 ,  86.88772 ,  88.42813 ,  89.87231 ,  94.3871  ,\n",
       "        98.89175 , 103.51255 , 103.988144, 104.30536 , 104.463875,\n",
       "       102.83104 , 101.23766 ,  99.395615,  96.23447 ,  93.1072  ,\n",
       "        89.88361 ,  88.44426 ,  86.93304 ,  85.7267  ,  85.42998 ,\n",
       "        85.09143 ,  84.877815,  84.80253 ,  84.91784 ,  85.04701 ,\n",
       "        86.415215,  88.053856,  89.80704 ,  94.46972 ,  99.05317 ,\n",
       "       103.772835, 104.54094 , 105.160934, 105.37355 , 103.89804 ,\n",
       "       102.175186, 100.05637 ,  96.5805  ,  93.22951 ,  90.03805 ,\n",
       "        88.65351 ,  87.337814,  86.35747 ,  86.130104,  85.854004,\n",
       "        85.574486,  85.344345,  85.20817 ,  85.342766,  86.753914,\n",
       "        88.379616,  89.999084,  94.50329 ,  99.009476, 103.636116,\n",
       "       104.42882 , 104.9364  , 105.28834 , 103.75739 , 102.01799 ,\n",
       "       100.146355,  96.90202 ,  93.48583 ,  90.24728 ,  88.81865 ,\n",
       "        87.354706,  86.20567 ,  85.82206 ,  85.37863 ,  84.93696 ,\n",
       "        84.807556,  84.88998 ,  85.16136 ,  86.582886,  88.23338 ,\n",
       "        89.8009  ,  94.47478 ,  99.04369 , 103.914474, 104.657936,\n",
       "       105.368095, 105.70474 , 104.150024, 102.449455, 100.35277 ,\n",
       "        97.01424 ,  93.68242 ,  90.398506], dtype=float32)"
      ]
     },
     "execution_count": 78,
     "metadata": {},
     "output_type": "execute_result"
    }
   ],
   "source": [
    "predicted_value"
   ]
  },
  {
   "cell_type": "code",
   "execution_count": 35,
   "id": "f8fa1a80-49c3-4ac6-ab8c-32f45070d7d4",
   "metadata": {},
   "outputs": [
    {
     "data": {
      "text/plain": [
       "array([30.597725, 26.346886, 28.059309, 31.56474 , 28.663692, 29.550125,\n",
       "       30.980501, 25.601479, 27.394485, 29.328516, 29.932901, 28.583109,\n",
       "       27.172878, 28.139893, 31.504303, 29.932901, 25.601479, 26.346886,\n",
       "       26.125278, 29.187494, 27.53551 , 28.663692, 30.899918, 27.253462,\n",
       "       29.630709, 25.682062, 30.013485, 27.918285, 26.649078, 28.059309,\n",
       "       25.299286, 29.550125, 26.870686, 28.804716, 26.2663  , 28.361502,\n",
       "       26.2663  , 31.806494, 25.682062, 25.762648, 28.804716, 25.984255,\n",
       "       28.663692, 26.346886, 26.649078, 28.804716, 24.553877, 26.508055,\n",
       "       29.187494, 25.823086, 28.885302, 30.456701, 30.235092, 28.744278,\n",
       "       24.715046, 29.187494, 25.238846, 29.630709, 27.47507 , 30.376118,\n",
       "       29.711294, 24.553877, 31.423717, 29.106909, 29.026325, 25.460455,\n",
       "       28.139893, 24.775486, 30.980501, 27.01171 , 27.696678, 24.997093,\n",
       "       25.460455, 27.777262, 29.106909, 27.8377  , 28.965885, 28.059309,\n",
       "       29.550125, 29.932901, 28.583109, 30.013485, 24.997093, 29.026325,\n",
       "       28.804716, 24.936655, 28.52267 , 27.172878, 27.53551 , 28.361502,\n",
       "       28.885302, 25.90367 , 28.744278, 29.187494, 26.7901  , 25.90367 ,\n",
       "       25.37987 , 25.460455, 27.696678, 24.775486, 26.568493, 30.235092,\n",
       "       27.01171 , 27.918285, 26.346886, 28.744278, 27.253462, 27.092293,\n",
       "       26.125278, 26.42747 , 29.550125, 26.42747 , 25.37987 , 28.583109,\n",
       "       29.550125, 28.885302, 25.984255, 28.965885, 24.775486, 29.489685,\n",
       "       27.616093, 29.489685, 28.139893, 25.823086, 30.073925, 29.268078,\n",
       "       26.7901  , 28.804716, 29.187494, 30.376118, 28.583109, 28.361502,\n",
       "       27.092293, 30.235092, 30.758894, 28.361502, 28.280916, 27.8377  ,\n",
       "       27.01171 , 26.205862, 27.918285, 25.238846, 29.932901, 27.092293,\n",
       "       29.550125, 27.394485, 28.885302, 28.804716, 28.059309, 25.37987 ,\n",
       "       29.409101, 28.139893, 27.47507 , 25.984255, 26.346886, 27.092293,\n",
       "       28.139893, 29.489685, 28.663692, 29.711294, 26.951271, 27.8377  ,\n",
       "       27.172878, 28.220478, 28.361502, 30.376118, 31.121525, 28.442085],\n",
       "      dtype=float32)"
      ]
     },
     "execution_count": 35,
     "metadata": {},
     "output_type": "execute_result"
    }
   ],
   "source": [
    "y_test[-168:].ravel() * stdop + meanop"
   ]
  },
  {
   "cell_type": "code",
   "execution_count": 24,
   "id": "85765500-cf61-4e8a-8763-69a8f1e567ca",
   "metadata": {},
   "outputs": [],
   "source": [
    "model.save(\"pm10_1dcnn.keras\")"
   ]
  }
 ],
 "metadata": {
  "kernelspec": {
   "display_name": "Python 3 (ipykernel)",
   "language": "python",
   "name": "python3"
  },
  "language_info": {
   "codemirror_mode": {
    "name": "ipython",
    "version": 3
   },
   "file_extension": ".py",
   "mimetype": "text/x-python",
   "name": "python",
   "nbconvert_exporter": "python",
   "pygments_lexer": "ipython3",
   "version": "3.11.0"
  }
 },
 "nbformat": 4,
 "nbformat_minor": 5
}
