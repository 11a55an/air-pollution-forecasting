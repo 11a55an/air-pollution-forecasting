{
 "cells": [
  {
   "cell_type": "code",
   "execution_count": 1,
   "id": "08a7b78b-1d09-454f-8ecc-7c4184ab2240",
   "metadata": {},
   "outputs": [],
   "source": [
    "import pandas as pd\n",
    "import numpy as np"
   ]
  },
  {
   "cell_type": "code",
   "execution_count": 2,
   "id": "c1570c26-8e22-4498-9fe6-68e055e504a9",
   "metadata": {},
   "outputs": [],
   "source": [
    "df = pd.read_csv(\"../data/data_imputed_3.csv\")"
   ]
  },
  {
   "cell_type": "code",
   "execution_count": 3,
   "id": "55868db8-2144-49a3-9531-e4bf0728f0a2",
   "metadata": {},
   "outputs": [
    {
     "data": {
      "text/html": [
       "<div>\n",
       "<style scoped>\n",
       "    .dataframe tbody tr th:only-of-type {\n",
       "        vertical-align: middle;\n",
       "    }\n",
       "\n",
       "    .dataframe tbody tr th {\n",
       "        vertical-align: top;\n",
       "    }\n",
       "\n",
       "    .dataframe thead th {\n",
       "        text-align: right;\n",
       "    }\n",
       "</style>\n",
       "<table border=\"1\" class=\"dataframe\">\n",
       "  <thead>\n",
       "    <tr style=\"text-align: right;\">\n",
       "      <th></th>\n",
       "      <th>timestamp_local</th>\n",
       "      <th>temp</th>\n",
       "      <th>aqi</th>\n",
       "      <th>co</th>\n",
       "      <th>no2</th>\n",
       "      <th>o3</th>\n",
       "      <th>pm10</th>\n",
       "      <th>pm25</th>\n",
       "      <th>so2</th>\n",
       "    </tr>\n",
       "  </thead>\n",
       "  <tbody>\n",
       "    <tr>\n",
       "      <th>0</th>\n",
       "      <td>01/02/2022 0:00</td>\n",
       "      <td>12.6</td>\n",
       "      <td>385</td>\n",
       "      <td>1339.8</td>\n",
       "      <td>76.0</td>\n",
       "      <td>10.7</td>\n",
       "      <td>491.7</td>\n",
       "      <td>347.67</td>\n",
       "      <td>238.0</td>\n",
       "    </tr>\n",
       "    <tr>\n",
       "      <th>1</th>\n",
       "      <td>01/02/2022 1:00</td>\n",
       "      <td>11.5</td>\n",
       "      <td>404</td>\n",
       "      <td>1437.6</td>\n",
       "      <td>76.0</td>\n",
       "      <td>9.3</td>\n",
       "      <td>508.3</td>\n",
       "      <td>359.33</td>\n",
       "      <td>268.0</td>\n",
       "    </tr>\n",
       "    <tr>\n",
       "      <th>2</th>\n",
       "      <td>01/02/2022 2:00</td>\n",
       "      <td>11.9</td>\n",
       "      <td>421</td>\n",
       "      <td>1535.5</td>\n",
       "      <td>76.0</td>\n",
       "      <td>8.0</td>\n",
       "      <td>525.0</td>\n",
       "      <td>371.00</td>\n",
       "      <td>298.0</td>\n",
       "    </tr>\n",
       "    <tr>\n",
       "      <th>3</th>\n",
       "      <td>01/02/2022 3:00</td>\n",
       "      <td>12.2</td>\n",
       "      <td>425</td>\n",
       "      <td>1659.0</td>\n",
       "      <td>68.3</td>\n",
       "      <td>5.3</td>\n",
       "      <td>529.3</td>\n",
       "      <td>374.00</td>\n",
       "      <td>275.7</td>\n",
       "    </tr>\n",
       "    <tr>\n",
       "      <th>4</th>\n",
       "      <td>01/02/2022 4:00</td>\n",
       "      <td>11.9</td>\n",
       "      <td>430</td>\n",
       "      <td>1782.5</td>\n",
       "      <td>60.7</td>\n",
       "      <td>2.7</td>\n",
       "      <td>533.7</td>\n",
       "      <td>377.00</td>\n",
       "      <td>253.3</td>\n",
       "    </tr>\n",
       "    <tr>\n",
       "      <th>...</th>\n",
       "      <td>...</td>\n",
       "      <td>...</td>\n",
       "      <td>...</td>\n",
       "      <td>...</td>\n",
       "      <td>...</td>\n",
       "      <td>...</td>\n",
       "      <td>...</td>\n",
       "      <td>...</td>\n",
       "      <td>...</td>\n",
       "    </tr>\n",
       "    <tr>\n",
       "      <th>20973</th>\n",
       "      <td>23/06/2024 19:00</td>\n",
       "      <td>39.3</td>\n",
       "      <td>92</td>\n",
       "      <td>155.6</td>\n",
       "      <td>21.0</td>\n",
       "      <td>105.3</td>\n",
       "      <td>57.0</td>\n",
       "      <td>31.33</td>\n",
       "      <td>17.0</td>\n",
       "    </tr>\n",
       "    <tr>\n",
       "      <th>20974</th>\n",
       "      <td>23/06/2024 20:00</td>\n",
       "      <td>37.0</td>\n",
       "      <td>98</td>\n",
       "      <td>191.4</td>\n",
       "      <td>30.0</td>\n",
       "      <td>80.0</td>\n",
       "      <td>58.0</td>\n",
       "      <td>34.00</td>\n",
       "      <td>20.0</td>\n",
       "    </tr>\n",
       "    <tr>\n",
       "      <th>20975</th>\n",
       "      <td>23/06/2024 21:00</td>\n",
       "      <td>35.6</td>\n",
       "      <td>98</td>\n",
       "      <td>233.6</td>\n",
       "      <td>39.7</td>\n",
       "      <td>60.7</td>\n",
       "      <td>58.0</td>\n",
       "      <td>34.33</td>\n",
       "      <td>23.7</td>\n",
       "    </tr>\n",
       "    <tr>\n",
       "      <th>20976</th>\n",
       "      <td>23/06/2024 22:00</td>\n",
       "      <td>34.4</td>\n",
       "      <td>99</td>\n",
       "      <td>275.8</td>\n",
       "      <td>49.3</td>\n",
       "      <td>41.3</td>\n",
       "      <td>58.0</td>\n",
       "      <td>34.67</td>\n",
       "      <td>27.3</td>\n",
       "    </tr>\n",
       "    <tr>\n",
       "      <th>20977</th>\n",
       "      <td>23/06/2024 23:00</td>\n",
       "      <td>33.3</td>\n",
       "      <td>100</td>\n",
       "      <td>318.1</td>\n",
       "      <td>59.0</td>\n",
       "      <td>22.0</td>\n",
       "      <td>58.0</td>\n",
       "      <td>35.00</td>\n",
       "      <td>31.0</td>\n",
       "    </tr>\n",
       "  </tbody>\n",
       "</table>\n",
       "<p>20978 rows × 9 columns</p>\n",
       "</div>"
      ],
      "text/plain": [
       "        timestamp_local  temp  aqi      co   no2     o3   pm10    pm25    so2\n",
       "0       01/02/2022 0:00  12.6  385  1339.8  76.0   10.7  491.7  347.67  238.0\n",
       "1       01/02/2022 1:00  11.5  404  1437.6  76.0    9.3  508.3  359.33  268.0\n",
       "2       01/02/2022 2:00  11.9  421  1535.5  76.0    8.0  525.0  371.00  298.0\n",
       "3       01/02/2022 3:00  12.2  425  1659.0  68.3    5.3  529.3  374.00  275.7\n",
       "4       01/02/2022 4:00  11.9  430  1782.5  60.7    2.7  533.7  377.00  253.3\n",
       "...                 ...   ...  ...     ...   ...    ...    ...     ...    ...\n",
       "20973  23/06/2024 19:00  39.3   92   155.6  21.0  105.3   57.0   31.33   17.0\n",
       "20974  23/06/2024 20:00  37.0   98   191.4  30.0   80.0   58.0   34.00   20.0\n",
       "20975  23/06/2024 21:00  35.6   98   233.6  39.7   60.7   58.0   34.33   23.7\n",
       "20976  23/06/2024 22:00  34.4   99   275.8  49.3   41.3   58.0   34.67   27.3\n",
       "20977  23/06/2024 23:00  33.3  100   318.1  59.0   22.0   58.0   35.00   31.0\n",
       "\n",
       "[20978 rows x 9 columns]"
      ]
     },
     "execution_count": 3,
     "metadata": {},
     "output_type": "execute_result"
    }
   ],
   "source": [
    "df"
   ]
  },
  {
   "cell_type": "code",
   "execution_count": 4,
   "id": "1957f406-a837-4345-8d16-7835bd855082",
   "metadata": {},
   "outputs": [],
   "source": [
    "from sklearn.model_selection import train_test_split"
   ]
  },
  {
   "cell_type": "code",
   "execution_count": 5,
   "id": "d7e3c4f9-7208-48a1-bee4-1a89c09e2714",
   "metadata": {},
   "outputs": [],
   "source": [
    "data = df[['pm10']]"
   ]
  },
  {
   "cell_type": "code",
   "execution_count": 6,
   "id": "a2eedd5e-c6fa-43b7-9458-5deca00f11fb",
   "metadata": {},
   "outputs": [],
   "source": [
    "from sklearn.preprocessing import MinMaxScaler\n",
    "values = data.values\n",
    "\n",
    "values = values.astype('float32')\n",
    "\n",
    "scaler = MinMaxScaler(feature_range=(0, 1))\n",
    "scaled = scaler.fit_transform(values)"
   ]
  },
  {
   "cell_type": "code",
   "execution_count": 7,
   "id": "d93f3d70-328f-40a2-9403-0e22e9802560",
   "metadata": {},
   "outputs": [],
   "source": [
    "scaled = scaled.reshape((20978,))"
   ]
  },
  {
   "cell_type": "code",
   "execution_count": 8,
   "id": "09f5ccf2-8abf-4b08-8051-cb206ea52fad",
   "metadata": {},
   "outputs": [
    {
     "data": {
      "text/plain": [
       "(20978,)"
      ]
     },
     "execution_count": 8,
     "metadata": {},
     "output_type": "execute_result"
    }
   ],
   "source": [
    "scaled.shape"
   ]
  },
  {
   "cell_type": "code",
   "execution_count": 9,
   "id": "071ee44c-f600-41f6-9490-6cda18be3d8d",
   "metadata": {},
   "outputs": [],
   "source": [
    "def df_to_X_y(df, window_size, forecast_length):\n",
    "    # df_as_np = df.to_numpy()\n",
    "    X = []\n",
    "    y = []\n",
    "    \n",
    "    for i in range(len(df) - window_size - forecast_length):\n",
    "        row_x = [[a] for a in df[i:i+window_size]]\n",
    "        \n",
    "        X.append(row_x)\n",
    "        # row_y = df_as_np[i+window_size]\n",
    "        row_y = [b for b in df[i+window_size:i+window_size+forecast_length]]\n",
    "        \n",
    "        y.append(row_y)\n",
    "        \n",
    "    return np.array(X), np.array(y)"
   ]
  },
  {
   "cell_type": "code",
   "execution_count": 10,
   "id": "2aab814e-f37e-4543-8bc8-42467a73aaac",
   "metadata": {},
   "outputs": [],
   "source": [
    "def train_test_split(X, y, test_size=0.2):\n",
    "    split_idx = int(len(X) * (1 - test_size))\n",
    "    X_train, X_test = X[:split_idx], X[split_idx:]\n",
    "    y_train, y_test = y[:split_idx], y[split_idx:]\n",
    "    return X_train, X_test, y_train, y_test"
   ]
  },
  {
   "cell_type": "code",
   "execution_count": 12,
   "id": "c118b905-bab3-4abf-b257-253d7ea2bb98",
   "metadata": {},
   "outputs": [],
   "source": [
    "WINDOW_WIDTH = 168\n",
    "FORECAST_LENGTH = 168\n",
    "X, y = df_to_X_y(scaled, WINDOW_WIDTH, FORECAST_LENGTH)\n",
    "\n",
    "\n",
    "X_train, X_test, y_train, y_test = train_test_split(X, y, test_size=0.2)\n",
    "X_train, X_val, y_train, y_val = train_test_split(X_train, y_train, test_size=0.2)\n",
    "\n",
    "X_max = X_train.max()\n",
    "X_min = X_train.min()"
   ]
  },
  {
   "cell_type": "code",
   "execution_count": 13,
   "id": "e7b85489-d3d6-4c17-8935-238402086eff",
   "metadata": {},
   "outputs": [],
   "source": [
    "batchSize = 16\n",
    "from keras.models import Sequential, save_model, load_model\n",
    "from keras.layers import *\n",
    "from keras.callbacks import ReduceLROnPlateau, ModelCheckpoint\n",
    "from tensorflow.keras.optimizers import Adam\n",
    "from keras.losses import MeanSquaredError\n",
    "from keras.metrics import RootMeanSquaredError"
   ]
  },
  {
   "cell_type": "code",
   "execution_count": 14,
   "id": "3b6c5847-1cc5-4149-b349-ff4f5c638c90",
   "metadata": {},
   "outputs": [
    {
     "name": "stderr",
     "output_type": "stream",
     "text": [
      "C:\\Users\\Hassan\\AppData\\Local\\Programs\\Python\\Python311\\Lib\\site-packages\\keras\\src\\layers\\convolutional\\base_conv.py:99: UserWarning: Do not pass an `input_shape`/`input_dim` argument to a layer. When using Sequential models, prefer using an `Input(shape)` object as the first layer in the model instead.\n",
      "  super().__init__(\n"
     ]
    },
    {
     "data": {
      "text/html": [
       "<pre style=\"white-space:pre;overflow-x:auto;line-height:normal;font-family:Menlo,'DejaVu Sans Mono',consolas,'Courier New',monospace\"><span style=\"font-weight: bold\">Model: \"sequential\"</span>\n",
       "</pre>\n"
      ],
      "text/plain": [
       "\u001b[1mModel: \"sequential\"\u001b[0m\n"
      ]
     },
     "metadata": {},
     "output_type": "display_data"
    },
    {
     "data": {
      "text/html": [
       "<pre style=\"white-space:pre;overflow-x:auto;line-height:normal;font-family:Menlo,'DejaVu Sans Mono',consolas,'Courier New',monospace\">┏━━━━━━━━━━━━━━━━━━━━━━━━━━━━━━━━━━━━━━┳━━━━━━━━━━━━━━━━━━━━━━━━━━━━━┳━━━━━━━━━━━━━━━━━┓\n",
       "┃<span style=\"font-weight: bold\"> Layer (type)                         </span>┃<span style=\"font-weight: bold\"> Output Shape                </span>┃<span style=\"font-weight: bold\">         Param # </span>┃\n",
       "┡━━━━━━━━━━━━━━━━━━━━━━━━━━━━━━━━━━━━━━╇━━━━━━━━━━━━━━━━━━━━━━━━━━━━━╇━━━━━━━━━━━━━━━━━┩\n",
       "│ conv1d (<span style=\"color: #0087ff; text-decoration-color: #0087ff\">Conv1D</span>)                      │ (<span style=\"color: #00d7ff; text-decoration-color: #00d7ff\">None</span>, <span style=\"color: #00af00; text-decoration-color: #00af00\">166</span>, <span style=\"color: #00af00; text-decoration-color: #00af00\">8</span>)              │              <span style=\"color: #00af00; text-decoration-color: #00af00\">32</span> │\n",
       "├──────────────────────────────────────┼─────────────────────────────┼─────────────────┤\n",
       "│ flatten (<span style=\"color: #0087ff; text-decoration-color: #0087ff\">Flatten</span>)                    │ (<span style=\"color: #00d7ff; text-decoration-color: #00d7ff\">None</span>, <span style=\"color: #00af00; text-decoration-color: #00af00\">1328</span>)                │               <span style=\"color: #00af00; text-decoration-color: #00af00\">0</span> │\n",
       "├──────────────────────────────────────┼─────────────────────────────┼─────────────────┤\n",
       "│ dense (<span style=\"color: #0087ff; text-decoration-color: #0087ff\">Dense</span>)                        │ (<span style=\"color: #00d7ff; text-decoration-color: #00d7ff\">None</span>, <span style=\"color: #00af00; text-decoration-color: #00af00\">168</span>)                 │         <span style=\"color: #00af00; text-decoration-color: #00af00\">223,272</span> │\n",
       "└──────────────────────────────────────┴─────────────────────────────┴─────────────────┘\n",
       "</pre>\n"
      ],
      "text/plain": [
       "┏━━━━━━━━━━━━━━━━━━━━━━━━━━━━━━━━━━━━━━┳━━━━━━━━━━━━━━━━━━━━━━━━━━━━━┳━━━━━━━━━━━━━━━━━┓\n",
       "┃\u001b[1m \u001b[0m\u001b[1mLayer (type)                        \u001b[0m\u001b[1m \u001b[0m┃\u001b[1m \u001b[0m\u001b[1mOutput Shape               \u001b[0m\u001b[1m \u001b[0m┃\u001b[1m \u001b[0m\u001b[1m        Param #\u001b[0m\u001b[1m \u001b[0m┃\n",
       "┡━━━━━━━━━━━━━━━━━━━━━━━━━━━━━━━━━━━━━━╇━━━━━━━━━━━━━━━━━━━━━━━━━━━━━╇━━━━━━━━━━━━━━━━━┩\n",
       "│ conv1d (\u001b[38;5;33mConv1D\u001b[0m)                      │ (\u001b[38;5;45mNone\u001b[0m, \u001b[38;5;34m166\u001b[0m, \u001b[38;5;34m8\u001b[0m)              │              \u001b[38;5;34m32\u001b[0m │\n",
       "├──────────────────────────────────────┼─────────────────────────────┼─────────────────┤\n",
       "│ flatten (\u001b[38;5;33mFlatten\u001b[0m)                    │ (\u001b[38;5;45mNone\u001b[0m, \u001b[38;5;34m1328\u001b[0m)                │               \u001b[38;5;34m0\u001b[0m │\n",
       "├──────────────────────────────────────┼─────────────────────────────┼─────────────────┤\n",
       "│ dense (\u001b[38;5;33mDense\u001b[0m)                        │ (\u001b[38;5;45mNone\u001b[0m, \u001b[38;5;34m168\u001b[0m)                 │         \u001b[38;5;34m223,272\u001b[0m │\n",
       "└──────────────────────────────────────┴─────────────────────────────┴─────────────────┘\n"
      ]
     },
     "metadata": {},
     "output_type": "display_data"
    },
    {
     "data": {
      "text/html": [
       "<pre style=\"white-space:pre;overflow-x:auto;line-height:normal;font-family:Menlo,'DejaVu Sans Mono',consolas,'Courier New',monospace\"><span style=\"font-weight: bold\"> Total params: </span><span style=\"color: #00af00; text-decoration-color: #00af00\">223,304</span> (872.28 KB)\n",
       "</pre>\n"
      ],
      "text/plain": [
       "\u001b[1m Total params: \u001b[0m\u001b[38;5;34m223,304\u001b[0m (872.28 KB)\n"
      ]
     },
     "metadata": {},
     "output_type": "display_data"
    },
    {
     "data": {
      "text/html": [
       "<pre style=\"white-space:pre;overflow-x:auto;line-height:normal;font-family:Menlo,'DejaVu Sans Mono',consolas,'Courier New',monospace\"><span style=\"font-weight: bold\"> Trainable params: </span><span style=\"color: #00af00; text-decoration-color: #00af00\">223,304</span> (872.28 KB)\n",
       "</pre>\n"
      ],
      "text/plain": [
       "\u001b[1m Trainable params: \u001b[0m\u001b[38;5;34m223,304\u001b[0m (872.28 KB)\n"
      ]
     },
     "metadata": {},
     "output_type": "display_data"
    },
    {
     "data": {
      "text/html": [
       "<pre style=\"white-space:pre;overflow-x:auto;line-height:normal;font-family:Menlo,'DejaVu Sans Mono',consolas,'Courier New',monospace\"><span style=\"font-weight: bold\"> Non-trainable params: </span><span style=\"color: #00af00; text-decoration-color: #00af00\">0</span> (0.00 B)\n",
       "</pre>\n"
      ],
      "text/plain": [
       "\u001b[1m Non-trainable params: \u001b[0m\u001b[38;5;34m0\u001b[0m (0.00 B)\n"
      ]
     },
     "metadata": {},
     "output_type": "display_data"
    },
    {
     "name": "stdout",
     "output_type": "stream",
     "text": [
      "Epoch 1/50\n",
      "\u001b[1m413/413\u001b[0m \u001b[32m━━━━━━━━━━━━━━━━━━━━\u001b[0m\u001b[37m\u001b[0m \u001b[1m2s\u001b[0m 3ms/step - loss: 0.0090 - root_mean_squared_error: 0.0932 - val_loss: 0.0030 - val_root_mean_squared_error: 0.0541 - learning_rate: 0.0010\n",
      "Epoch 2/50\n",
      "\u001b[1m413/413\u001b[0m \u001b[32m━━━━━━━━━━━━━━━━━━━━\u001b[0m\u001b[37m\u001b[0m \u001b[1m1s\u001b[0m 3ms/step - loss: 0.0059 - root_mean_squared_error: 0.0770 - val_loss: 0.0029 - val_root_mean_squared_error: 0.0532 - learning_rate: 0.0010\n",
      "Epoch 3/50\n",
      "\u001b[1m413/413\u001b[0m \u001b[32m━━━━━━━━━━━━━━━━━━━━\u001b[0m\u001b[37m\u001b[0m \u001b[1m1s\u001b[0m 3ms/step - loss: 0.0058 - root_mean_squared_error: 0.0760 - val_loss: 0.0030 - val_root_mean_squared_error: 0.0538 - learning_rate: 0.0010\n",
      "Epoch 4/50\n",
      "\u001b[1m413/413\u001b[0m \u001b[32m━━━━━━━━━━━━━━━━━━━━\u001b[0m\u001b[37m\u001b[0m \u001b[1m1s\u001b[0m 2ms/step - loss: 0.0056 - root_mean_squared_error: 0.0750 - val_loss: 0.0029 - val_root_mean_squared_error: 0.0530 - learning_rate: 0.0010\n",
      "Epoch 5/50\n",
      "\u001b[1m413/413\u001b[0m \u001b[32m━━━━━━━━━━━━━━━━━━━━\u001b[0m\u001b[37m\u001b[0m \u001b[1m1s\u001b[0m 3ms/step - loss: 0.0058 - root_mean_squared_error: 0.0759 - val_loss: 0.0028 - val_root_mean_squared_error: 0.0522 - learning_rate: 0.0010\n",
      "Epoch 6/50\n",
      "\u001b[1m413/413\u001b[0m \u001b[32m━━━━━━━━━━━━━━━━━━━━\u001b[0m\u001b[37m\u001b[0m \u001b[1m1s\u001b[0m 3ms/step - loss: 0.0055 - root_mean_squared_error: 0.0742 - val_loss: 0.0029 - val_root_mean_squared_error: 0.0531 - learning_rate: 0.0010\n",
      "Epoch 7/50\n",
      "\u001b[1m413/413\u001b[0m \u001b[32m━━━━━━━━━━━━━━━━━━━━\u001b[0m\u001b[37m\u001b[0m \u001b[1m1s\u001b[0m 3ms/step - loss: 0.0055 - root_mean_squared_error: 0.0745 - val_loss: 0.0028 - val_root_mean_squared_error: 0.0523 - learning_rate: 0.0010\n",
      "Epoch 8/50\n",
      "\u001b[1m413/413\u001b[0m \u001b[32m━━━━━━━━━━━━━━━━━━━━\u001b[0m\u001b[37m\u001b[0m \u001b[1m1s\u001b[0m 2ms/step - loss: 0.0054 - root_mean_squared_error: 0.0738 - val_loss: 0.0028 - val_root_mean_squared_error: 0.0525 - learning_rate: 0.0010\n",
      "Epoch 9/50\n",
      "\u001b[1m413/413\u001b[0m \u001b[32m━━━━━━━━━━━━━━━━━━━━\u001b[0m\u001b[37m\u001b[0m \u001b[1m1s\u001b[0m 3ms/step - loss: 0.0053 - root_mean_squared_error: 0.0727 - val_loss: 0.0029 - val_root_mean_squared_error: 0.0529 - learning_rate: 0.0010\n",
      "Epoch 10/50\n",
      "\u001b[1m413/413\u001b[0m \u001b[32m━━━━━━━━━━━━━━━━━━━━\u001b[0m\u001b[37m\u001b[0m \u001b[1m1s\u001b[0m 3ms/step - loss: 0.0054 - root_mean_squared_error: 0.0732 - val_loss: 0.0028 - val_root_mean_squared_error: 0.0529 - learning_rate: 0.0010\n",
      "Epoch 11/50\n",
      "\u001b[1m413/413\u001b[0m \u001b[32m━━━━━━━━━━━━━━━━━━━━\u001b[0m\u001b[37m\u001b[0m \u001b[1m1s\u001b[0m 3ms/step - loss: 0.0054 - root_mean_squared_error: 0.0731 - val_loss: 0.0028 - val_root_mean_squared_error: 0.0522 - learning_rate: 0.0010\n",
      "Epoch 12/50\n",
      "\u001b[1m413/413\u001b[0m \u001b[32m━━━━━━━━━━━━━━━━━━━━\u001b[0m\u001b[37m\u001b[0m \u001b[1m1s\u001b[0m 3ms/step - loss: 0.0051 - root_mean_squared_error: 0.0715 - val_loss: 0.0028 - val_root_mean_squared_error: 0.0524 - learning_rate: 0.0010\n",
      "Epoch 13/50\n",
      "\u001b[1m413/413\u001b[0m \u001b[32m━━━━━━━━━━━━━━━━━━━━\u001b[0m\u001b[37m\u001b[0m \u001b[1m1s\u001b[0m 3ms/step - loss: 0.0051 - root_mean_squared_error: 0.0717 - val_loss: 0.0028 - val_root_mean_squared_error: 0.0520 - learning_rate: 0.0010\n",
      "Epoch 14/50\n",
      "\u001b[1m413/413\u001b[0m \u001b[32m━━━━━━━━━━━━━━━━━━━━\u001b[0m\u001b[37m\u001b[0m \u001b[1m2s\u001b[0m 4ms/step - loss: 0.0052 - root_mean_squared_error: 0.0721 - val_loss: 0.0028 - val_root_mean_squared_error: 0.0520 - learning_rate: 0.0010\n",
      "Epoch 15/50\n",
      "\u001b[1m413/413\u001b[0m \u001b[32m━━━━━━━━━━━━━━━━━━━━\u001b[0m\u001b[37m\u001b[0m \u001b[1m1s\u001b[0m 3ms/step - loss: 0.0052 - root_mean_squared_error: 0.0723 - val_loss: 0.0028 - val_root_mean_squared_error: 0.0522 - learning_rate: 0.0010\n",
      "Epoch 16/50\n",
      "\u001b[1m413/413\u001b[0m \u001b[32m━━━━━━━━━━━━━━━━━━━━\u001b[0m\u001b[37m\u001b[0m \u001b[1m1s\u001b[0m 3ms/step - loss: 0.0051 - root_mean_squared_error: 0.0717 - val_loss: 0.0028 - val_root_mean_squared_error: 0.0524 - learning_rate: 0.0010\n",
      "Epoch 17/50\n",
      "\u001b[1m413/413\u001b[0m \u001b[32m━━━━━━━━━━━━━━━━━━━━\u001b[0m\u001b[37m\u001b[0m \u001b[1m1s\u001b[0m 2ms/step - loss: 0.0051 - root_mean_squared_error: 0.0717 - val_loss: 0.0029 - val_root_mean_squared_error: 0.0531 - learning_rate: 0.0010\n",
      "Epoch 18/50\n",
      "\u001b[1m413/413\u001b[0m \u001b[32m━━━━━━━━━━━━━━━━━━━━\u001b[0m\u001b[37m\u001b[0m \u001b[1m1s\u001b[0m 3ms/step - loss: 0.0052 - root_mean_squared_error: 0.0724 - val_loss: 0.0029 - val_root_mean_squared_error: 0.0530 - learning_rate: 0.0010\n",
      "Epoch 19/50\n",
      "\u001b[1m413/413\u001b[0m \u001b[32m━━━━━━━━━━━━━━━━━━━━\u001b[0m\u001b[37m\u001b[0m \u001b[1m2s\u001b[0m 4ms/step - loss: 0.0051 - root_mean_squared_error: 0.0714 - val_loss: 0.0028 - val_root_mean_squared_error: 0.0523 - learning_rate: 0.0010\n",
      "Epoch 20/50\n",
      "\u001b[1m413/413\u001b[0m \u001b[32m━━━━━━━━━━━━━━━━━━━━\u001b[0m\u001b[37m\u001b[0m \u001b[1m2s\u001b[0m 4ms/step - loss: 0.0050 - root_mean_squared_error: 0.0710 - val_loss: 0.0028 - val_root_mean_squared_error: 0.0522 - learning_rate: 0.0010\n",
      "Epoch 21/50\n",
      "\u001b[1m413/413\u001b[0m \u001b[32m━━━━━━━━━━━━━━━━━━━━\u001b[0m\u001b[37m\u001b[0m \u001b[1m2s\u001b[0m 4ms/step - loss: 0.0053 - root_mean_squared_error: 0.0726 - val_loss: 0.0028 - val_root_mean_squared_error: 0.0523 - learning_rate: 0.0010\n",
      "Epoch 22/50\n",
      "\u001b[1m413/413\u001b[0m \u001b[32m━━━━━━━━━━━━━━━━━━━━\u001b[0m\u001b[37m\u001b[0m \u001b[1m2s\u001b[0m 4ms/step - loss: 0.0052 - root_mean_squared_error: 0.0724 - val_loss: 0.0028 - val_root_mean_squared_error: 0.0527 - learning_rate: 0.0010\n",
      "Epoch 23/50\n",
      "\u001b[1m413/413\u001b[0m \u001b[32m━━━━━━━━━━━━━━━━━━━━\u001b[0m\u001b[37m\u001b[0m \u001b[1m2s\u001b[0m 4ms/step - loss: 0.0051 - root_mean_squared_error: 0.0717 - val_loss: 0.0028 - val_root_mean_squared_error: 0.0519 - learning_rate: 0.0010\n",
      "Epoch 24/50\n",
      "\u001b[1m413/413\u001b[0m \u001b[32m━━━━━━━━━━━━━━━━━━━━\u001b[0m\u001b[37m\u001b[0m \u001b[1m2s\u001b[0m 4ms/step - loss: 0.0049 - root_mean_squared_error: 0.0700 - val_loss: 0.0028 - val_root_mean_squared_error: 0.0519 - learning_rate: 1.0000e-04\n",
      "Epoch 25/50\n",
      "\u001b[1m413/413\u001b[0m \u001b[32m━━━━━━━━━━━━━━━━━━━━\u001b[0m\u001b[37m\u001b[0m \u001b[1m1s\u001b[0m 3ms/step - loss: 0.0051 - root_mean_squared_error: 0.0711 - val_loss: 0.0028 - val_root_mean_squared_error: 0.0519 - learning_rate: 1.0000e-04\n",
      "Epoch 26/50\n",
      "\u001b[1m413/413\u001b[0m \u001b[32m━━━━━━━━━━━━━━━━━━━━\u001b[0m\u001b[37m\u001b[0m \u001b[1m2s\u001b[0m 4ms/step - loss: 0.0050 - root_mean_squared_error: 0.0709 - val_loss: 0.0028 - val_root_mean_squared_error: 0.0520 - learning_rate: 1.0000e-04\n",
      "Epoch 27/50\n",
      "\u001b[1m413/413\u001b[0m \u001b[32m━━━━━━━━━━━━━━━━━━━━\u001b[0m\u001b[37m\u001b[0m \u001b[1m1s\u001b[0m 3ms/step - loss: 0.0050 - root_mean_squared_error: 0.0709 - val_loss: 0.0028 - val_root_mean_squared_error: 0.0520 - learning_rate: 1.0000e-04\n",
      "Epoch 28/50\n",
      "\u001b[1m413/413\u001b[0m \u001b[32m━━━━━━━━━━━━━━━━━━━━\u001b[0m\u001b[37m\u001b[0m \u001b[1m2s\u001b[0m 4ms/step - loss: 0.0050 - root_mean_squared_error: 0.0705 - val_loss: 0.0028 - val_root_mean_squared_error: 0.0521 - learning_rate: 1.0000e-04\n",
      "Epoch 29/50\n",
      "\u001b[1m413/413\u001b[0m \u001b[32m━━━━━━━━━━━━━━━━━━━━\u001b[0m\u001b[37m\u001b[0m \u001b[1m1s\u001b[0m 3ms/step - loss: 0.0050 - root_mean_squared_error: 0.0708 - val_loss: 0.0028 - val_root_mean_squared_error: 0.0523 - learning_rate: 1.0000e-04\n",
      "Epoch 30/50\n",
      "\u001b[1m413/413\u001b[0m \u001b[32m━━━━━━━━━━━━━━━━━━━━\u001b[0m\u001b[37m\u001b[0m \u001b[1m1s\u001b[0m 3ms/step - loss: 0.0050 - root_mean_squared_error: 0.0705 - val_loss: 0.0028 - val_root_mean_squared_error: 0.0521 - learning_rate: 1.0000e-04\n",
      "Epoch 31/50\n",
      "\u001b[1m413/413\u001b[0m \u001b[32m━━━━━━━━━━━━━━━━━━━━\u001b[0m\u001b[37m\u001b[0m \u001b[1m2s\u001b[0m 4ms/step - loss: 0.0050 - root_mean_squared_error: 0.0708 - val_loss: 0.0028 - val_root_mean_squared_error: 0.0522 - learning_rate: 1.0000e-04\n",
      "Epoch 32/50\n",
      "\u001b[1m413/413\u001b[0m \u001b[32m━━━━━━━━━━━━━━━━━━━━\u001b[0m\u001b[37m\u001b[0m \u001b[1m1s\u001b[0m 3ms/step - loss: 0.0050 - root_mean_squared_error: 0.0705 - val_loss: 0.0028 - val_root_mean_squared_error: 0.0521 - learning_rate: 1.0000e-04\n",
      "Epoch 33/50\n",
      "\u001b[1m413/413\u001b[0m \u001b[32m━━━━━━━━━━━━━━━━━━━━\u001b[0m\u001b[37m\u001b[0m \u001b[1m2s\u001b[0m 4ms/step - loss: 0.0050 - root_mean_squared_error: 0.0708 - val_loss: 0.0028 - val_root_mean_squared_error: 0.0523 - learning_rate: 1.0000e-04\n",
      "Epoch 34/50\n",
      "\u001b[1m413/413\u001b[0m \u001b[32m━━━━━━━━━━━━━━━━━━━━\u001b[0m\u001b[37m\u001b[0m \u001b[1m2s\u001b[0m 4ms/step - loss: 0.0050 - root_mean_squared_error: 0.0706 - val_loss: 0.0028 - val_root_mean_squared_error: 0.0522 - learning_rate: 1.0000e-05\n",
      "Epoch 35/50\n",
      "\u001b[1m413/413\u001b[0m \u001b[32m━━━━━━━━━━━━━━━━━━━━\u001b[0m\u001b[37m\u001b[0m \u001b[1m1s\u001b[0m 3ms/step - loss: 0.0050 - root_mean_squared_error: 0.0705 - val_loss: 0.0028 - val_root_mean_squared_error: 0.0522 - learning_rate: 1.0000e-05\n",
      "Epoch 36/50\n",
      "\u001b[1m413/413\u001b[0m \u001b[32m━━━━━━━━━━━━━━━━━━━━\u001b[0m\u001b[37m\u001b[0m \u001b[1m2s\u001b[0m 4ms/step - loss: 0.0048 - root_mean_squared_error: 0.0696 - val_loss: 0.0028 - val_root_mean_squared_error: 0.0522 - learning_rate: 1.0000e-05\n",
      "Epoch 37/50\n",
      "\u001b[1m413/413\u001b[0m \u001b[32m━━━━━━━━━━━━━━━━━━━━\u001b[0m\u001b[37m\u001b[0m \u001b[1m1s\u001b[0m 3ms/step - loss: 0.0049 - root_mean_squared_error: 0.0699 - val_loss: 0.0028 - val_root_mean_squared_error: 0.0521 - learning_rate: 1.0000e-05\n",
      "Epoch 38/50\n",
      "\u001b[1m413/413\u001b[0m \u001b[32m━━━━━━━━━━━━━━━━━━━━\u001b[0m\u001b[37m\u001b[0m \u001b[1m1s\u001b[0m 2ms/step - loss: 0.0050 - root_mean_squared_error: 0.0704 - val_loss: 0.0028 - val_root_mean_squared_error: 0.0522 - learning_rate: 1.0000e-05\n",
      "Epoch 39/50\n",
      "\u001b[1m413/413\u001b[0m \u001b[32m━━━━━━━━━━━━━━━━━━━━\u001b[0m\u001b[37m\u001b[0m \u001b[1m1s\u001b[0m 3ms/step - loss: 0.0049 - root_mean_squared_error: 0.0700 - val_loss: 0.0028 - val_root_mean_squared_error: 0.0522 - learning_rate: 1.0000e-05\n",
      "Epoch 40/50\n",
      "\u001b[1m413/413\u001b[0m \u001b[32m━━━━━━━━━━━━━━━━━━━━\u001b[0m\u001b[37m\u001b[0m \u001b[1m1s\u001b[0m 3ms/step - loss: 0.0048 - root_mean_squared_error: 0.0695 - val_loss: 0.0028 - val_root_mean_squared_error: 0.0522 - learning_rate: 1.0000e-05\n",
      "Epoch 41/50\n",
      "\u001b[1m413/413\u001b[0m \u001b[32m━━━━━━━━━━━━━━━━━━━━\u001b[0m\u001b[37m\u001b[0m \u001b[1m1s\u001b[0m 3ms/step - loss: 0.0048 - root_mean_squared_error: 0.0696 - val_loss: 0.0028 - val_root_mean_squared_error: 0.0522 - learning_rate: 1.0000e-05\n",
      "Epoch 42/50\n",
      "\u001b[1m413/413\u001b[0m \u001b[32m━━━━━━━━━━━━━━━━━━━━\u001b[0m\u001b[37m\u001b[0m \u001b[1m1s\u001b[0m 3ms/step - loss: 0.0049 - root_mean_squared_error: 0.0699 - val_loss: 0.0028 - val_root_mean_squared_error: 0.0522 - learning_rate: 1.0000e-05\n",
      "Epoch 43/50\n",
      "\u001b[1m413/413\u001b[0m \u001b[32m━━━━━━━━━━━━━━━━━━━━\u001b[0m\u001b[37m\u001b[0m \u001b[1m1s\u001b[0m 3ms/step - loss: 0.0050 - root_mean_squared_error: 0.0707 - val_loss: 0.0028 - val_root_mean_squared_error: 0.0522 - learning_rate: 1.0000e-05\n",
      "Epoch 44/50\n",
      "\u001b[1m413/413\u001b[0m \u001b[32m━━━━━━━━━━━━━━━━━━━━\u001b[0m\u001b[37m\u001b[0m \u001b[1m1s\u001b[0m 3ms/step - loss: 0.0048 - root_mean_squared_error: 0.0696 - val_loss: 0.0028 - val_root_mean_squared_error: 0.0522 - learning_rate: 1.0000e-06\n",
      "Epoch 45/50\n",
      "\u001b[1m413/413\u001b[0m \u001b[32m━━━━━━━━━━━━━━━━━━━━\u001b[0m\u001b[37m\u001b[0m \u001b[1m1s\u001b[0m 3ms/step - loss: 0.0049 - root_mean_squared_error: 0.0703 - val_loss: 0.0028 - val_root_mean_squared_error: 0.0522 - learning_rate: 1.0000e-06\n",
      "Epoch 46/50\n",
      "\u001b[1m413/413\u001b[0m \u001b[32m━━━━━━━━━━━━━━━━━━━━\u001b[0m\u001b[37m\u001b[0m \u001b[1m1s\u001b[0m 3ms/step - loss: 0.0050 - root_mean_squared_error: 0.0705 - val_loss: 0.0028 - val_root_mean_squared_error: 0.0522 - learning_rate: 1.0000e-06\n",
      "Epoch 47/50\n",
      "\u001b[1m413/413\u001b[0m \u001b[32m━━━━━━━━━━━━━━━━━━━━\u001b[0m\u001b[37m\u001b[0m \u001b[1m1s\u001b[0m 3ms/step - loss: 0.0050 - root_mean_squared_error: 0.0704 - val_loss: 0.0028 - val_root_mean_squared_error: 0.0522 - learning_rate: 1.0000e-06\n",
      "Epoch 48/50\n",
      "\u001b[1m413/413\u001b[0m \u001b[32m━━━━━━━━━━━━━━━━━━━━\u001b[0m\u001b[37m\u001b[0m \u001b[1m1s\u001b[0m 3ms/step - loss: 0.0049 - root_mean_squared_error: 0.0700 - val_loss: 0.0028 - val_root_mean_squared_error: 0.0522 - learning_rate: 1.0000e-06\n",
      "Epoch 49/50\n",
      "\u001b[1m413/413\u001b[0m \u001b[32m━━━━━━━━━━━━━━━━━━━━\u001b[0m\u001b[37m\u001b[0m \u001b[1m1s\u001b[0m 3ms/step - loss: 0.0050 - root_mean_squared_error: 0.0708 - val_loss: 0.0028 - val_root_mean_squared_error: 0.0522 - learning_rate: 1.0000e-06\n",
      "Epoch 50/50\n",
      "\u001b[1m413/413\u001b[0m \u001b[32m━━━━━━━━━━━━━━━━━━━━\u001b[0m\u001b[37m\u001b[0m \u001b[1m1s\u001b[0m 3ms/step - loss: 0.0051 - root_mean_squared_error: 0.0711 - val_loss: 0.0028 - val_root_mean_squared_error: 0.0522 - learning_rate: 1.0000e-06\n"
     ]
    }
   ],
   "source": [
    "normalizer = Normalization()\n",
    "normalizer.adapt(X_train)\n",
    "rlrop = ReduceLROnPlateau(monitor='val_loss', factor=0.1, patience=10)\n",
    "\n",
    "model = Sequential()\n",
    "# 1D Convolutional layers\n",
    "model.add(Conv1D(filters=8, kernel_size=3, activation='relu', input_shape=X_train.shape[1:]))\n",
    "# model.add(Conv1D(filters=64, kernel_size=3, activation='relu'))\n",
    "# model.add(Conv1D(filters=32, kernel_size=3, activation='relu'))\n",
    "# Flatten the output of the Conv layers\n",
    "model.add(Flatten())\n",
    "# model.add(LSTM(input_shape = X_train.shape[1:], units=86, return_sequences=True))\n",
    "# model.add(LSTM(units=64, return_sequences=True))\n",
    "# model.add(GRU(units=86, return_sequences=True))\n",
    "# model.add(LSTM(units=128, return_sequences=True))\n",
    "# model.add(GRU(units=100, return_sequences=True))\n",
    "# model.add(LSTM(units=100, return_sequences=False))\n",
    "# model.add(Dense(units=100,  activation='relu'))\n",
    "# model.add(Dense(8, activation='relu'))\n",
    "\n",
    "model.add(Dense(units=FORECAST_LENGTH, activation='linear'))\n",
    "\n",
    "model.summary()\n",
    "\n",
    "model.compile(optimizer=Adam(learning_rate=0.001), metrics=[RootMeanSquaredError()] , loss=MeanSquaredError())\n",
    "\n",
    "history = model.fit(X_train, y_train, validation_data=(X_val,y_val), epochs=50, callbacks=[rlrop])\n",
    "\n",
    "# score = model.evaluate(X_test, y_test, verbose = 1)"
   ]
  },
  {
   "cell_type": "code",
   "execution_count": 15,
   "id": "5674b419-12bd-4a4e-a83d-2438ae813939",
   "metadata": {},
   "outputs": [
    {
     "name": "stdout",
     "output_type": "stream",
     "text": [
      "\u001b[1m130/130\u001b[0m \u001b[32m━━━━━━━━━━━━━━━━━━━━\u001b[0m\u001b[37m\u001b[0m \u001b[1m0s\u001b[0m 1ms/step\n"
     ]
    }
   ],
   "source": [
    "forecast = model.predict(X_test)"
   ]
  },
  {
   "cell_type": "code",
   "execution_count": 16,
   "id": "abb7c26e-b6e8-4526-aa4e-9180825c9d51",
   "metadata": {},
   "outputs": [],
   "source": [
    "poll = np.array(df[\"pm10\"])\n",
    "\n",
    "meanop = poll.mean()\n",
    "stdop = poll.std()\n",
    "\n",
    "y_test_true = y_test*stdop + meanop\n",
    "testPredict = forecast*stdop + meanop"
   ]
  },
  {
   "cell_type": "code",
   "execution_count": 17,
   "id": "cccf66c7-77a1-483d-8b28-e5df8056b4b6",
   "metadata": {},
   "outputs": [],
   "source": [
    "from sklearn.metrics import mean_squared_error"
   ]
  },
  {
   "cell_type": "code",
   "execution_count": 18,
   "id": "3e3a186b-a281-4964-9581-f8f73931e019",
   "metadata": {},
   "outputs": [
    {
     "name": "stdout",
     "output_type": "stream",
     "text": [
      "Test RMSE = 4.7310667\n"
     ]
    }
   ],
   "source": [
    "rmse = np.sqrt(mean_squared_error(y_test_true, testPredict))\n",
    "print(\"Test RMSE =\"  ,rmse)"
   ]
  },
  {
   "cell_type": "code",
   "execution_count": 19,
   "id": "290eb8ca-644e-49ec-94ea-4331ddf320e2",
   "metadata": {},
   "outputs": [
    {
     "name": "stdout",
     "output_type": "stream",
     "text": [
      "Test MAPE = 2.789744921028614\n"
     ]
    }
   ],
   "source": [
    "# Calculate MAPE\n",
    "mape = np.mean(np.abs((y_test_true - testPredict) / y_test_true)) * 100\n",
    "print(\"Test MAPE =\", mape)"
   ]
  },
  {
   "cell_type": "code",
   "execution_count": 20,
   "id": "0f076abe-d042-4532-b724-c652e603a24c",
   "metadata": {},
   "outputs": [
    {
     "name": "stdout",
     "output_type": "stream",
     "text": [
      "Accuracy = 97.21025507897139 %\n"
     ]
    }
   ],
   "source": [
    "# Calculate accuracy as 1 - MAPE\n",
    "accuracy = 100 - mape\n",
    "print(\"Accuracy =\", accuracy, \"%\")"
   ]
  },
  {
   "cell_type": "code",
   "execution_count": 21,
   "id": "8ab3ba7a-675b-41f9-8a20-4dbb0be9819b",
   "metadata": {},
   "outputs": [
    {
     "name": "stdout",
     "output_type": "stream",
     "text": [
      "Test MAE = 3.437428\n"
     ]
    }
   ],
   "source": [
    "from sklearn.metrics import mean_absolute_error\n",
    "\n",
    "# Calculate MAE\n",
    "mae = mean_absolute_error(y_test_true, testPredict)\n",
    "print(\"Test MAE =\", mae)"
   ]
  },
  {
   "cell_type": "code",
   "execution_count": 22,
   "id": "a8c9fe94-b991-48aa-b917-115e04f18ffa",
   "metadata": {},
   "outputs": [
    {
     "data": {
      "text/plain": [
       "(4129, 168)"
      ]
     },
     "execution_count": 22,
     "metadata": {},
     "output_type": "execute_result"
    }
   ],
   "source": [
    "y_test_true.shape"
   ]
  },
  {
   "cell_type": "code",
   "execution_count": 23,
   "id": "a21c236d-93b7-4d0a-ba80-08ec2a83c3f8",
   "metadata": {},
   "outputs": [
    {
     "data": {
      "text/plain": [
       "(4129, 168)"
      ]
     },
     "execution_count": 23,
     "metadata": {},
     "output_type": "execute_result"
    }
   ],
   "source": [
    "testPredict.shape"
   ]
  },
  {
   "cell_type": "code",
   "execution_count": 24,
   "id": "9c9037be-c096-476c-8472-bec3a194b54d",
   "metadata": {},
   "outputs": [],
   "source": [
    "import numpy as np\n",
    "\n",
    "def calculate_segment_rmse(predictions, actuals, segment_length=1):\n",
    "    num_segments = predictions.shape[1] // segment_length\n",
    "    rmses = []\n",
    "    \n",
    "    for i in range(num_segments):\n",
    "        start_idx = i * segment_length\n",
    "        end_idx = start_idx + segment_length\n",
    "        \n",
    "        # Extract the segment for both predictions and actuals\n",
    "        pred_segment = predictions[:, start_idx:end_idx]\n",
    "        actual_segment = actuals[:, start_idx:end_idx]\n",
    "        \n",
    "        # Calculate RMSE for this segment\n",
    "        segment_rmse = np.sqrt(mean_squared_error(actual_segment.flatten(), pred_segment.flatten()))\n",
    "        rmses.append(segment_rmse)\n",
    "    \n",
    "    return rmses"
   ]
  },
  {
   "cell_type": "code",
   "execution_count": 25,
   "id": "13b4f256-db53-49f0-a277-65259836076c",
   "metadata": {},
   "outputs": [
    {
     "name": "stdout",
     "output_type": "stream",
     "text": [
      "RMSE for segment 1: 0.9601\n",
      "RMSE for segment 2: 1.4815\n",
      "RMSE for segment 3: 1.9684\n",
      "RMSE for segment 4: 2.3427\n",
      "RMSE for segment 5: 2.6567\n",
      "RMSE for segment 6: 2.8961\n",
      "RMSE for segment 7: 3.0552\n",
      "RMSE for segment 8: 3.1668\n",
      "RMSE for segment 9: 3.2467\n",
      "RMSE for segment 10: 3.3053\n",
      "RMSE for segment 11: 3.3546\n",
      "RMSE for segment 12: 3.4010\n",
      "RMSE for segment 13: 3.4382\n",
      "RMSE for segment 14: 3.4615\n",
      "RMSE for segment 15: 3.4873\n",
      "RMSE for segment 16: 3.5026\n",
      "RMSE for segment 17: 3.5183\n",
      "RMSE for segment 18: 3.5280\n",
      "RMSE for segment 19: 3.5387\n",
      "RMSE for segment 20: 3.5497\n",
      "RMSE for segment 21: 3.5550\n",
      "RMSE for segment 22: 3.5709\n",
      "RMSE for segment 23: 3.5873\n",
      "RMSE for segment 24: 3.6142\n",
      "RMSE for segment 25: 3.6611\n",
      "RMSE for segment 26: 3.7248\n",
      "RMSE for segment 27: 3.7931\n",
      "RMSE for segment 28: 3.8674\n",
      "RMSE for segment 29: 3.9429\n",
      "RMSE for segment 30: 4.0083\n",
      "RMSE for segment 31: 4.0663\n",
      "RMSE for segment 32: 4.1144\n",
      "RMSE for segment 33: 4.1492\n",
      "RMSE for segment 34: 4.1909\n",
      "RMSE for segment 35: 4.2248\n",
      "RMSE for segment 36: 4.2511\n",
      "RMSE for segment 37: 4.2723\n",
      "RMSE for segment 38: 4.2880\n",
      "RMSE for segment 39: 4.2995\n",
      "RMSE for segment 40: 4.3098\n",
      "RMSE for segment 41: 4.3156\n",
      "RMSE for segment 42: 4.3177\n",
      "RMSE for segment 43: 4.3222\n",
      "RMSE for segment 44: 4.3313\n",
      "RMSE for segment 45: 4.3355\n",
      "RMSE for segment 46: 4.3389\n",
      "RMSE for segment 47: 4.3475\n",
      "RMSE for segment 48: 4.3543\n",
      "RMSE for segment 49: 4.3721\n",
      "RMSE for segment 50: 4.4081\n",
      "RMSE for segment 51: 4.4457\n",
      "RMSE for segment 52: 4.4786\n",
      "RMSE for segment 53: 4.5178\n",
      "RMSE for segment 54: 4.5495\n",
      "RMSE for segment 55: 4.5767\n",
      "RMSE for segment 56: 4.6017\n",
      "RMSE for segment 57: 4.6280\n",
      "RMSE for segment 58: 4.6414\n",
      "RMSE for segment 59: 4.6564\n",
      "RMSE for segment 60: 4.6642\n",
      "RMSE for segment 61: 4.6728\n",
      "RMSE for segment 62: 4.6753\n",
      "RMSE for segment 63: 4.6791\n",
      "RMSE for segment 64: 4.6909\n",
      "RMSE for segment 65: 4.6871\n",
      "RMSE for segment 66: 4.6928\n",
      "RMSE for segment 67: 4.6927\n",
      "RMSE for segment 68: 4.6970\n",
      "RMSE for segment 69: 4.7047\n",
      "RMSE for segment 70: 4.7102\n",
      "RMSE for segment 71: 4.7119\n",
      "RMSE for segment 72: 4.7214\n",
      "RMSE for segment 73: 4.7374\n",
      "RMSE for segment 74: 4.7608\n",
      "RMSE for segment 75: 4.7878\n",
      "RMSE for segment 76: 4.8143\n",
      "RMSE for segment 77: 4.8397\n",
      "RMSE for segment 78: 4.8616\n",
      "RMSE for segment 79: 4.8772\n",
      "RMSE for segment 80: 4.8858\n",
      "RMSE for segment 81: 4.9046\n",
      "RMSE for segment 82: 4.9191\n",
      "RMSE for segment 83: 4.9263\n",
      "RMSE for segment 84: 4.9344\n",
      "RMSE for segment 85: 4.9464\n",
      "RMSE for segment 86: 4.9516\n",
      "RMSE for segment 87: 4.9597\n",
      "RMSE for segment 88: 4.9648\n",
      "RMSE for segment 89: 4.9684\n",
      "RMSE for segment 90: 4.9754\n",
      "RMSE for segment 91: 4.9848\n",
      "RMSE for segment 92: 4.9901\n",
      "RMSE for segment 93: 4.9888\n",
      "RMSE for segment 94: 4.9931\n",
      "RMSE for segment 95: 4.9932\n",
      "RMSE for segment 96: 4.9912\n",
      "RMSE for segment 97: 5.0012\n",
      "RMSE for segment 98: 5.0159\n",
      "RMSE for segment 99: 5.0379\n",
      "RMSE for segment 100: 5.0555\n",
      "RMSE for segment 101: 5.0775\n",
      "RMSE for segment 102: 5.1009\n",
      "RMSE for segment 103: 5.1130\n",
      "RMSE for segment 104: 5.1242\n",
      "RMSE for segment 105: 5.1373\n",
      "RMSE for segment 106: 5.1461\n",
      "RMSE for segment 107: 5.1515\n",
      "RMSE for segment 108: 5.1508\n",
      "RMSE for segment 109: 5.1531\n",
      "RMSE for segment 110: 5.1544\n",
      "RMSE for segment 111: 5.1546\n",
      "RMSE for segment 112: 5.1559\n",
      "RMSE for segment 113: 5.1526\n",
      "RMSE for segment 114: 5.1518\n",
      "RMSE for segment 115: 5.1554\n",
      "RMSE for segment 116: 5.1520\n",
      "RMSE for segment 117: 5.1590\n",
      "RMSE for segment 118: 5.1550\n",
      "RMSE for segment 119: 5.1563\n",
      "RMSE for segment 120: 5.1529\n",
      "RMSE for segment 121: 5.1584\n",
      "RMSE for segment 122: 5.1667\n",
      "RMSE for segment 123: 5.1844\n",
      "RMSE for segment 124: 5.1998\n",
      "RMSE for segment 125: 5.2209\n",
      "RMSE for segment 126: 5.2410\n",
      "RMSE for segment 127: 5.2581\n",
      "RMSE for segment 128: 5.2727\n",
      "RMSE for segment 129: 5.2875\n",
      "RMSE for segment 130: 5.2968\n",
      "RMSE for segment 131: 5.3040\n",
      "RMSE for segment 132: 5.3173\n",
      "RMSE for segment 133: 5.3256\n",
      "RMSE for segment 134: 5.3300\n",
      "RMSE for segment 135: 5.3316\n",
      "RMSE for segment 136: 5.3325\n",
      "RMSE for segment 137: 5.3386\n",
      "RMSE for segment 138: 5.3403\n",
      "RMSE for segment 139: 5.3381\n",
      "RMSE for segment 140: 5.3378\n",
      "RMSE for segment 141: 5.3405\n",
      "RMSE for segment 142: 5.3392\n",
      "RMSE for segment 143: 5.3342\n",
      "RMSE for segment 144: 5.3338\n",
      "RMSE for segment 145: 5.3354\n",
      "RMSE for segment 146: 5.3413\n",
      "RMSE for segment 147: 5.3515\n",
      "RMSE for segment 148: 5.3655\n",
      "RMSE for segment 149: 5.3761\n",
      "RMSE for segment 150: 5.3913\n",
      "RMSE for segment 151: 5.4048\n",
      "RMSE for segment 152: 5.4162\n",
      "RMSE for segment 153: 5.4258\n",
      "RMSE for segment 154: 5.4410\n",
      "RMSE for segment 155: 5.4504\n",
      "RMSE for segment 156: 5.4572\n",
      "RMSE for segment 157: 5.4616\n",
      "RMSE for segment 158: 5.4716\n",
      "RMSE for segment 159: 5.4738\n",
      "RMSE for segment 160: 5.4736\n",
      "RMSE for segment 161: 5.4771\n",
      "RMSE for segment 162: 5.4771\n",
      "RMSE for segment 163: 5.4810\n",
      "RMSE for segment 164: 5.4812\n",
      "RMSE for segment 165: 5.4790\n",
      "RMSE for segment 166: 5.4796\n",
      "RMSE for segment 167: 5.4736\n",
      "RMSE for segment 168: 5.4704\n"
     ]
    }
   ],
   "source": [
    "segment_rmses = calculate_segment_rmse(testPredict, y_test_true)\n",
    "for i, rmse in enumerate(segment_rmses):\n",
    "    print(f\"RMSE for segment {i + 1}: {rmse:.4f}\")"
   ]
  },
  {
   "cell_type": "code",
   "execution_count": 26,
   "id": "7654b701-6ba9-4602-8611-59820b6311e4",
   "metadata": {},
   "outputs": [
    {
     "data": {
      "text/plain": [
       "array([[0.2030347 , 0.19288543, 0.18089303, ..., 0.2614551 , 0.26943007,\n",
       "        0.27735844],\n",
       "       [0.18327582, 0.1701877 , 0.16420816, ..., 0.27413404, 0.28114527,\n",
       "        0.28355607],\n",
       "       [0.17302224, 0.16585366, 0.16838379, ..., 0.28111798, 0.28522503,\n",
       "        0.278835  ],\n",
       "       ...,\n",
       "       [0.04296872, 0.04470668, 0.04830423, ..., 0.05445162, 0.05342598,\n",
       "        0.05364693],\n",
       "       [0.04467445, 0.04587761, 0.04731631, ..., 0.0536266 , 0.05364816,\n",
       "        0.0559947 ],\n",
       "       [0.04478212, 0.04442422, 0.04534929, ..., 0.05328661, 0.05514623,\n",
       "        0.0591929 ]], dtype=float32)"
      ]
     },
     "execution_count": 26,
     "metadata": {},
     "output_type": "execute_result"
    }
   ],
   "source": [
    "forecast"
   ]
  },
  {
   "cell_type": "code",
   "execution_count": 27,
   "id": "7ea98a00-c789-49d3-bdfe-1c06c5364c33",
   "metadata": {},
   "outputs": [
    {
     "data": {
      "text/plain": [
       "array([[129.69357 , 128.81975 , 127.78725 , ..., 134.72336 , 135.40997 ,\n",
       "        136.09259 ],\n",
       "       [127.99239 , 126.865555, 126.35074 , ..., 135.81497 , 136.41862 ,\n",
       "        136.62617 ],\n",
       "       [127.1096  , 126.49241 , 126.71024 , ..., 136.41626 , 136.76987 ,\n",
       "        136.21971 ],\n",
       "       ...,\n",
       "       [115.91244 , 116.06207 , 116.37181 , ..., 116.90108 , 116.812775,\n",
       "        116.831795],\n",
       "       [116.059296, 116.16289 , 116.28675 , ..., 116.83005 , 116.8319  ,\n",
       "        117.033936],\n",
       "       [116.068565, 116.03775 , 116.1174  , ..., 116.80077 , 116.960884,\n",
       "        117.30929 ]], dtype=float32)"
      ]
     },
     "execution_count": 27,
     "metadata": {},
     "output_type": "execute_result"
    }
   ],
   "source": [
    "testPredict"
   ]
  },
  {
   "cell_type": "code",
   "execution_count": 28,
   "id": "4e4e0314-523d-408f-9858-83e62f6ef22e",
   "metadata": {},
   "outputs": [
    {
     "data": {
      "text/plain": [
       "array([[129.11922, 128.78108, 128.45549, ..., 141.64235, 142.18085,\n",
       "        142.73186],\n",
       "       [128.78108, 128.45549, 128.11736, ..., 142.18085, 142.73186,\n",
       "        143.27036],\n",
       "       [128.45549, 128.11736, 129.7078 , ..., 142.73186, 143.27036,\n",
       "        142.18085],\n",
       "       ...,\n",
       "       [115.59423, 115.71946, 115.84469, ..., 118.34932, 118.47455,\n",
       "        118.59978],\n",
       "       [115.71946, 115.84469, 116.13272, ..., 118.47455, 118.59978,\n",
       "        118.59978],\n",
       "       [115.84469, 116.13272, 116.43328, ..., 118.59978, 118.59978,\n",
       "        118.59978]], dtype=float32)"
      ]
     },
     "execution_count": 28,
     "metadata": {},
     "output_type": "execute_result"
    }
   ],
   "source": [
    "y_test_true"
   ]
  },
  {
   "cell_type": "code",
   "execution_count": 29,
   "id": "85765500-cf61-4e8a-8763-69a8f1e567ca",
   "metadata": {},
   "outputs": [],
   "source": [
    "model.save(\"pm10_1dcnn.keras\")"
   ]
  }
 ],
 "metadata": {
  "kernelspec": {
   "display_name": "Python 3 (ipykernel)",
   "language": "python",
   "name": "python3"
  },
  "language_info": {
   "codemirror_mode": {
    "name": "ipython",
    "version": 3
   },
   "file_extension": ".py",
   "mimetype": "text/x-python",
   "name": "python",
   "nbconvert_exporter": "python",
   "pygments_lexer": "ipython3",
   "version": "3.11.0"
  }
 },
 "nbformat": 4,
 "nbformat_minor": 5
}
