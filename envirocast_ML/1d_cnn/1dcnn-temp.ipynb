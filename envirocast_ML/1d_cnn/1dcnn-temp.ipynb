{
 "cells": [
  {
   "cell_type": "code",
   "execution_count": 1,
   "id": "08a7b78b-1d09-454f-8ecc-7c4184ab2240",
   "metadata": {},
   "outputs": [],
   "source": [
    "import pandas as pd\n",
    "import numpy as np"
   ]
  },
  {
   "cell_type": "code",
   "execution_count": 2,
   "id": "c1570c26-8e22-4498-9fe6-68e055e504a9",
   "metadata": {},
   "outputs": [],
   "source": [
    "df = pd.read_csv(\"../data/data_imputed_3.csv\")"
   ]
  },
  {
   "cell_type": "code",
   "execution_count": 3,
   "id": "0792fabd-6daf-4f9a-aa2d-a3258dc0f49f",
   "metadata": {},
   "outputs": [
    {
     "data": {
      "text/html": [
       "<div>\n",
       "<style scoped>\n",
       "    .dataframe tbody tr th:only-of-type {\n",
       "        vertical-align: middle;\n",
       "    }\n",
       "\n",
       "    .dataframe tbody tr th {\n",
       "        vertical-align: top;\n",
       "    }\n",
       "\n",
       "    .dataframe thead th {\n",
       "        text-align: right;\n",
       "    }\n",
       "</style>\n",
       "<table border=\"1\" class=\"dataframe\">\n",
       "  <thead>\n",
       "    <tr style=\"text-align: right;\">\n",
       "      <th></th>\n",
       "      <th>timestamp_local</th>\n",
       "      <th>temp</th>\n",
       "      <th>aqi</th>\n",
       "      <th>co</th>\n",
       "      <th>no2</th>\n",
       "      <th>o3</th>\n",
       "      <th>pm10</th>\n",
       "      <th>pm25</th>\n",
       "      <th>so2</th>\n",
       "    </tr>\n",
       "  </thead>\n",
       "  <tbody>\n",
       "    <tr>\n",
       "      <th>0</th>\n",
       "      <td>01/02/2022 0:00</td>\n",
       "      <td>12.6</td>\n",
       "      <td>385</td>\n",
       "      <td>1339.8</td>\n",
       "      <td>76.0</td>\n",
       "      <td>10.7</td>\n",
       "      <td>491.7</td>\n",
       "      <td>347.67</td>\n",
       "      <td>238.0</td>\n",
       "    </tr>\n",
       "    <tr>\n",
       "      <th>1</th>\n",
       "      <td>01/02/2022 1:00</td>\n",
       "      <td>11.5</td>\n",
       "      <td>404</td>\n",
       "      <td>1437.6</td>\n",
       "      <td>76.0</td>\n",
       "      <td>9.3</td>\n",
       "      <td>508.3</td>\n",
       "      <td>359.33</td>\n",
       "      <td>268.0</td>\n",
       "    </tr>\n",
       "    <tr>\n",
       "      <th>2</th>\n",
       "      <td>01/02/2022 2:00</td>\n",
       "      <td>11.9</td>\n",
       "      <td>421</td>\n",
       "      <td>1535.5</td>\n",
       "      <td>76.0</td>\n",
       "      <td>8.0</td>\n",
       "      <td>525.0</td>\n",
       "      <td>371.00</td>\n",
       "      <td>298.0</td>\n",
       "    </tr>\n",
       "    <tr>\n",
       "      <th>3</th>\n",
       "      <td>01/02/2022 3:00</td>\n",
       "      <td>12.2</td>\n",
       "      <td>425</td>\n",
       "      <td>1659.0</td>\n",
       "      <td>68.3</td>\n",
       "      <td>5.3</td>\n",
       "      <td>529.3</td>\n",
       "      <td>374.00</td>\n",
       "      <td>275.7</td>\n",
       "    </tr>\n",
       "    <tr>\n",
       "      <th>4</th>\n",
       "      <td>01/02/2022 4:00</td>\n",
       "      <td>11.9</td>\n",
       "      <td>430</td>\n",
       "      <td>1782.5</td>\n",
       "      <td>60.7</td>\n",
       "      <td>2.7</td>\n",
       "      <td>533.7</td>\n",
       "      <td>377.00</td>\n",
       "      <td>253.3</td>\n",
       "    </tr>\n",
       "    <tr>\n",
       "      <th>...</th>\n",
       "      <td>...</td>\n",
       "      <td>...</td>\n",
       "      <td>...</td>\n",
       "      <td>...</td>\n",
       "      <td>...</td>\n",
       "      <td>...</td>\n",
       "      <td>...</td>\n",
       "      <td>...</td>\n",
       "      <td>...</td>\n",
       "    </tr>\n",
       "    <tr>\n",
       "      <th>20973</th>\n",
       "      <td>23/06/2024 19:00</td>\n",
       "      <td>39.3</td>\n",
       "      <td>92</td>\n",
       "      <td>155.6</td>\n",
       "      <td>21.0</td>\n",
       "      <td>105.3</td>\n",
       "      <td>57.0</td>\n",
       "      <td>31.33</td>\n",
       "      <td>17.0</td>\n",
       "    </tr>\n",
       "    <tr>\n",
       "      <th>20974</th>\n",
       "      <td>23/06/2024 20:00</td>\n",
       "      <td>37.0</td>\n",
       "      <td>98</td>\n",
       "      <td>191.4</td>\n",
       "      <td>30.0</td>\n",
       "      <td>80.0</td>\n",
       "      <td>58.0</td>\n",
       "      <td>34.00</td>\n",
       "      <td>20.0</td>\n",
       "    </tr>\n",
       "    <tr>\n",
       "      <th>20975</th>\n",
       "      <td>23/06/2024 21:00</td>\n",
       "      <td>35.6</td>\n",
       "      <td>98</td>\n",
       "      <td>233.6</td>\n",
       "      <td>39.7</td>\n",
       "      <td>60.7</td>\n",
       "      <td>58.0</td>\n",
       "      <td>34.33</td>\n",
       "      <td>23.7</td>\n",
       "    </tr>\n",
       "    <tr>\n",
       "      <th>20976</th>\n",
       "      <td>23/06/2024 22:00</td>\n",
       "      <td>34.4</td>\n",
       "      <td>99</td>\n",
       "      <td>275.8</td>\n",
       "      <td>49.3</td>\n",
       "      <td>41.3</td>\n",
       "      <td>58.0</td>\n",
       "      <td>34.67</td>\n",
       "      <td>27.3</td>\n",
       "    </tr>\n",
       "    <tr>\n",
       "      <th>20977</th>\n",
       "      <td>23/06/2024 23:00</td>\n",
       "      <td>33.3</td>\n",
       "      <td>100</td>\n",
       "      <td>318.1</td>\n",
       "      <td>59.0</td>\n",
       "      <td>22.0</td>\n",
       "      <td>58.0</td>\n",
       "      <td>35.00</td>\n",
       "      <td>31.0</td>\n",
       "    </tr>\n",
       "  </tbody>\n",
       "</table>\n",
       "<p>20978 rows × 9 columns</p>\n",
       "</div>"
      ],
      "text/plain": [
       "        timestamp_local  temp  aqi      co   no2     o3   pm10    pm25    so2\n",
       "0       01/02/2022 0:00  12.6  385  1339.8  76.0   10.7  491.7  347.67  238.0\n",
       "1       01/02/2022 1:00  11.5  404  1437.6  76.0    9.3  508.3  359.33  268.0\n",
       "2       01/02/2022 2:00  11.9  421  1535.5  76.0    8.0  525.0  371.00  298.0\n",
       "3       01/02/2022 3:00  12.2  425  1659.0  68.3    5.3  529.3  374.00  275.7\n",
       "4       01/02/2022 4:00  11.9  430  1782.5  60.7    2.7  533.7  377.00  253.3\n",
       "...                 ...   ...  ...     ...   ...    ...    ...     ...    ...\n",
       "20973  23/06/2024 19:00  39.3   92   155.6  21.0  105.3   57.0   31.33   17.0\n",
       "20974  23/06/2024 20:00  37.0   98   191.4  30.0   80.0   58.0   34.00   20.0\n",
       "20975  23/06/2024 21:00  35.6   98   233.6  39.7   60.7   58.0   34.33   23.7\n",
       "20976  23/06/2024 22:00  34.4   99   275.8  49.3   41.3   58.0   34.67   27.3\n",
       "20977  23/06/2024 23:00  33.3  100   318.1  59.0   22.0   58.0   35.00   31.0\n",
       "\n",
       "[20978 rows x 9 columns]"
      ]
     },
     "execution_count": 3,
     "metadata": {},
     "output_type": "execute_result"
    }
   ],
   "source": [
    "df"
   ]
  },
  {
   "cell_type": "code",
   "execution_count": 5,
   "id": "d7e3c4f9-7208-48a1-bee4-1a89c09e2714",
   "metadata": {},
   "outputs": [],
   "source": [
    "temp = df[['temp']]"
   ]
  },
  {
   "cell_type": "code",
   "execution_count": 6,
   "id": "a2eedd5e-c6fa-43b7-9458-5deca00f11fb",
   "metadata": {},
   "outputs": [],
   "source": [
    "from sklearn.preprocessing import MinMaxScaler\n",
    "values = temp.values\n",
    "\n",
    "values = values.astype('float32')\n",
    "\n",
    "scaler = MinMaxScaler(feature_range=(0, 1))\n",
    "scaled = scaler.fit_transform(values)"
   ]
  },
  {
   "cell_type": "code",
   "execution_count": 8,
   "id": "d93f3d70-328f-40a2-9403-0e22e9802560",
   "metadata": {},
   "outputs": [],
   "source": [
    "scaled = scaled.reshape((20978,))"
   ]
  },
  {
   "cell_type": "code",
   "execution_count": 9,
   "id": "09f5ccf2-8abf-4b08-8051-cb206ea52fad",
   "metadata": {},
   "outputs": [
    {
     "data": {
      "text/plain": [
       "(20978,)"
      ]
     },
     "execution_count": 9,
     "metadata": {},
     "output_type": "execute_result"
    }
   ],
   "source": [
    "scaled.shape"
   ]
  },
  {
   "cell_type": "code",
   "execution_count": 10,
   "id": "071ee44c-f600-41f6-9490-6cda18be3d8d",
   "metadata": {},
   "outputs": [],
   "source": [
    "def df_to_X_y(df, window_size, forecast_length):\n",
    "    # df_as_np = df.to_numpy()\n",
    "    X = []\n",
    "    y = []\n",
    "    \n",
    "    for i in range(len(df) - window_size - forecast_length):\n",
    "        row_x = [[a] for a in df[i:i+window_size]]\n",
    "        \n",
    "        X.append(row_x)\n",
    "        # row_y = df_as_np[i+window_size]\n",
    "        row_y = [b for b in df[i+window_size:i+window_size+forecast_length]]\n",
    "        \n",
    "        y.append(row_y)\n",
    "        \n",
    "    return np.array(X), np.array(y)"
   ]
  },
  {
   "cell_type": "code",
   "execution_count": 42,
   "id": "5fe77344-3fb6-4dbb-a46b-9b05efd4ad65",
   "metadata": {},
   "outputs": [],
   "source": [
    "def train_test_split(X, y, test_size=0.2):\n",
    "    split_idx = int(len(X) * (1 - test_size))\n",
    "    X_train, X_test = X[:split_idx], X[split_idx:]\n",
    "    y_train, y_test = y[:split_idx], y[split_idx:]\n",
    "    return X_train, X_test, y_train, y_test"
   ]
  },
  {
   "cell_type": "code",
   "execution_count": 44,
   "id": "c118b905-bab3-4abf-b257-253d7ea2bb98",
   "metadata": {},
   "outputs": [],
   "source": [
    "WINDOW_WIDTH = 168\n",
    "FORECAST_LENGTH = 168\n",
    "X, y = df_to_X_y(scaled, WINDOW_WIDTH, FORECAST_LENGTH)\n",
    "\n",
    "\n",
    "X_train, X_test, y_train, y_test = train_test_split(X, y, test_size=0.2)\n",
    "X_train, X_val, y_train, y_val = train_test_split(X_train, y_train, test_size=0.2)\n",
    "\n",
    "X_max = X_train.max()\n",
    "X_min = X_train.min()"
   ]
  },
  {
   "cell_type": "code",
   "execution_count": 46,
   "id": "e7b85489-d3d6-4c17-8935-238402086eff",
   "metadata": {},
   "outputs": [],
   "source": [
    "from keras.models import Sequential, save_model, load_model\n",
    "from keras.layers import *\n",
    "from keras.callbacks import ReduceLROnPlateau, ModelCheckpoint\n",
    "from tensorflow.keras.optimizers import Adam\n",
    "from keras.losses import MeanSquaredError\n",
    "from keras.metrics import RootMeanSquaredError"
   ]
  },
  {
   "cell_type": "code",
   "execution_count": 47,
   "id": "3b6c5847-1cc5-4149-b349-ff4f5c638c90",
   "metadata": {},
   "outputs": [
    {
     "name": "stderr",
     "output_type": "stream",
     "text": [
      "C:\\Users\\Hassan\\AppData\\Local\\Programs\\Python\\Python311\\Lib\\site-packages\\keras\\src\\layers\\convolutional\\base_conv.py:99: UserWarning: Do not pass an `input_shape`/`input_dim` argument to a layer. When using Sequential models, prefer using an `Input(shape)` object as the first layer in the model instead.\n",
      "  super().__init__(\n"
     ]
    },
    {
     "data": {
      "text/html": [
       "<pre style=\"white-space:pre;overflow-x:auto;line-height:normal;font-family:Menlo,'DejaVu Sans Mono',consolas,'Courier New',monospace\"><span style=\"font-weight: bold\">Model: \"sequential_1\"</span>\n",
       "</pre>\n"
      ],
      "text/plain": [
       "\u001b[1mModel: \"sequential_1\"\u001b[0m\n"
      ]
     },
     "metadata": {},
     "output_type": "display_data"
    },
    {
     "data": {
      "text/html": [
       "<pre style=\"white-space:pre;overflow-x:auto;line-height:normal;font-family:Menlo,'DejaVu Sans Mono',consolas,'Courier New',monospace\">┏━━━━━━━━━━━━━━━━━━━━━━━━━━━━━━━━━━━━━━┳━━━━━━━━━━━━━━━━━━━━━━━━━━━━━┳━━━━━━━━━━━━━━━━━┓\n",
       "┃<span style=\"font-weight: bold\"> Layer (type)                         </span>┃<span style=\"font-weight: bold\"> Output Shape                </span>┃<span style=\"font-weight: bold\">         Param # </span>┃\n",
       "┡━━━━━━━━━━━━━━━━━━━━━━━━━━━━━━━━━━━━━━╇━━━━━━━━━━━━━━━━━━━━━━━━━━━━━╇━━━━━━━━━━━━━━━━━┩\n",
       "│ conv1d_1 (<span style=\"color: #0087ff; text-decoration-color: #0087ff\">Conv1D</span>)                    │ (<span style=\"color: #00d7ff; text-decoration-color: #00d7ff\">None</span>, <span style=\"color: #00af00; text-decoration-color: #00af00\">166</span>, <span style=\"color: #00af00; text-decoration-color: #00af00\">8</span>)              │              <span style=\"color: #00af00; text-decoration-color: #00af00\">32</span> │\n",
       "├──────────────────────────────────────┼─────────────────────────────┼─────────────────┤\n",
       "│ flatten_1 (<span style=\"color: #0087ff; text-decoration-color: #0087ff\">Flatten</span>)                  │ (<span style=\"color: #00d7ff; text-decoration-color: #00d7ff\">None</span>, <span style=\"color: #00af00; text-decoration-color: #00af00\">1328</span>)                │               <span style=\"color: #00af00; text-decoration-color: #00af00\">0</span> │\n",
       "├──────────────────────────────────────┼─────────────────────────────┼─────────────────┤\n",
       "│ dense_1 (<span style=\"color: #0087ff; text-decoration-color: #0087ff\">Dense</span>)                      │ (<span style=\"color: #00d7ff; text-decoration-color: #00d7ff\">None</span>, <span style=\"color: #00af00; text-decoration-color: #00af00\">168</span>)                 │         <span style=\"color: #00af00; text-decoration-color: #00af00\">223,272</span> │\n",
       "└──────────────────────────────────────┴─────────────────────────────┴─────────────────┘\n",
       "</pre>\n"
      ],
      "text/plain": [
       "┏━━━━━━━━━━━━━━━━━━━━━━━━━━━━━━━━━━━━━━┳━━━━━━━━━━━━━━━━━━━━━━━━━━━━━┳━━━━━━━━━━━━━━━━━┓\n",
       "┃\u001b[1m \u001b[0m\u001b[1mLayer (type)                        \u001b[0m\u001b[1m \u001b[0m┃\u001b[1m \u001b[0m\u001b[1mOutput Shape               \u001b[0m\u001b[1m \u001b[0m┃\u001b[1m \u001b[0m\u001b[1m        Param #\u001b[0m\u001b[1m \u001b[0m┃\n",
       "┡━━━━━━━━━━━━━━━━━━━━━━━━━━━━━━━━━━━━━━╇━━━━━━━━━━━━━━━━━━━━━━━━━━━━━╇━━━━━━━━━━━━━━━━━┩\n",
       "│ conv1d_1 (\u001b[38;5;33mConv1D\u001b[0m)                    │ (\u001b[38;5;45mNone\u001b[0m, \u001b[38;5;34m166\u001b[0m, \u001b[38;5;34m8\u001b[0m)              │              \u001b[38;5;34m32\u001b[0m │\n",
       "├──────────────────────────────────────┼─────────────────────────────┼─────────────────┤\n",
       "│ flatten_1 (\u001b[38;5;33mFlatten\u001b[0m)                  │ (\u001b[38;5;45mNone\u001b[0m, \u001b[38;5;34m1328\u001b[0m)                │               \u001b[38;5;34m0\u001b[0m │\n",
       "├──────────────────────────────────────┼─────────────────────────────┼─────────────────┤\n",
       "│ dense_1 (\u001b[38;5;33mDense\u001b[0m)                      │ (\u001b[38;5;45mNone\u001b[0m, \u001b[38;5;34m168\u001b[0m)                 │         \u001b[38;5;34m223,272\u001b[0m │\n",
       "└──────────────────────────────────────┴─────────────────────────────┴─────────────────┘\n"
      ]
     },
     "metadata": {},
     "output_type": "display_data"
    },
    {
     "data": {
      "text/html": [
       "<pre style=\"white-space:pre;overflow-x:auto;line-height:normal;font-family:Menlo,'DejaVu Sans Mono',consolas,'Courier New',monospace\"><span style=\"font-weight: bold\"> Total params: </span><span style=\"color: #00af00; text-decoration-color: #00af00\">223,304</span> (872.28 KB)\n",
       "</pre>\n"
      ],
      "text/plain": [
       "\u001b[1m Total params: \u001b[0m\u001b[38;5;34m223,304\u001b[0m (872.28 KB)\n"
      ]
     },
     "metadata": {},
     "output_type": "display_data"
    },
    {
     "data": {
      "text/html": [
       "<pre style=\"white-space:pre;overflow-x:auto;line-height:normal;font-family:Menlo,'DejaVu Sans Mono',consolas,'Courier New',monospace\"><span style=\"font-weight: bold\"> Trainable params: </span><span style=\"color: #00af00; text-decoration-color: #00af00\">223,304</span> (872.28 KB)\n",
       "</pre>\n"
      ],
      "text/plain": [
       "\u001b[1m Trainable params: \u001b[0m\u001b[38;5;34m223,304\u001b[0m (872.28 KB)\n"
      ]
     },
     "metadata": {},
     "output_type": "display_data"
    },
    {
     "data": {
      "text/html": [
       "<pre style=\"white-space:pre;overflow-x:auto;line-height:normal;font-family:Menlo,'DejaVu Sans Mono',consolas,'Courier New',monospace\"><span style=\"font-weight: bold\"> Non-trainable params: </span><span style=\"color: #00af00; text-decoration-color: #00af00\">0</span> (0.00 B)\n",
       "</pre>\n"
      ],
      "text/plain": [
       "\u001b[1m Non-trainable params: \u001b[0m\u001b[38;5;34m0\u001b[0m (0.00 B)\n"
      ]
     },
     "metadata": {},
     "output_type": "display_data"
    },
    {
     "name": "stdout",
     "output_type": "stream",
     "text": [
      "Epoch 1/50\n",
      "\u001b[1m413/413\u001b[0m \u001b[32m━━━━━━━━━━━━━━━━━━━━\u001b[0m\u001b[37m\u001b[0m \u001b[1m2s\u001b[0m 3ms/step - loss: 0.0235 - root_mean_squared_error: 0.1391 - val_loss: 0.0049 - val_root_mean_squared_error: 0.0692 - learning_rate: 0.0010\n",
      "Epoch 2/50\n",
      "\u001b[1m413/413\u001b[0m \u001b[32m━━━━━━━━━━━━━━━━━━━━\u001b[0m\u001b[37m\u001b[0m \u001b[1m1s\u001b[0m 2ms/step - loss: 0.0051 - root_mean_squared_error: 0.0717 - val_loss: 0.0048 - val_root_mean_squared_error: 0.0688 - learning_rate: 0.0010\n",
      "Epoch 3/50\n",
      "\u001b[1m413/413\u001b[0m \u001b[32m━━━━━━━━━━━━━━━━━━━━\u001b[0m\u001b[37m\u001b[0m \u001b[1m1s\u001b[0m 2ms/step - loss: 0.0050 - root_mean_squared_error: 0.0705 - val_loss: 0.0031 - val_root_mean_squared_error: 0.0549 - learning_rate: 0.0010\n",
      "Epoch 4/50\n",
      "\u001b[1m413/413\u001b[0m \u001b[32m━━━━━━━━━━━━━━━━━━━━\u001b[0m\u001b[37m\u001b[0m \u001b[1m1s\u001b[0m 3ms/step - loss: 0.0050 - root_mean_squared_error: 0.0707 - val_loss: 0.0032 - val_root_mean_squared_error: 0.0561 - learning_rate: 0.0010\n",
      "Epoch 5/50\n",
      "\u001b[1m413/413\u001b[0m \u001b[32m━━━━━━━━━━━━━━━━━━━━\u001b[0m\u001b[37m\u001b[0m \u001b[1m1s\u001b[0m 3ms/step - loss: 0.0048 - root_mean_squared_error: 0.0695 - val_loss: 0.0030 - val_root_mean_squared_error: 0.0545 - learning_rate: 0.0010\n",
      "Epoch 6/50\n",
      "\u001b[1m413/413\u001b[0m \u001b[32m━━━━━━━━━━━━━━━━━━━━\u001b[0m\u001b[37m\u001b[0m \u001b[1m1s\u001b[0m 3ms/step - loss: 0.0049 - root_mean_squared_error: 0.0699 - val_loss: 0.0038 - val_root_mean_squared_error: 0.0611 - learning_rate: 0.0010\n",
      "Epoch 7/50\n",
      "\u001b[1m413/413\u001b[0m \u001b[32m━━━━━━━━━━━━━━━━━━━━\u001b[0m\u001b[37m\u001b[0m \u001b[1m1s\u001b[0m 3ms/step - loss: 0.0047 - root_mean_squared_error: 0.0687 - val_loss: 0.0032 - val_root_mean_squared_error: 0.0559 - learning_rate: 0.0010\n",
      "Epoch 8/50\n",
      "\u001b[1m413/413\u001b[0m \u001b[32m━━━━━━━━━━━━━━━━━━━━\u001b[0m\u001b[37m\u001b[0m \u001b[1m1s\u001b[0m 3ms/step - loss: 0.0046 - root_mean_squared_error: 0.0677 - val_loss: 0.0041 - val_root_mean_squared_error: 0.0634 - learning_rate: 0.0010\n",
      "Epoch 9/50\n",
      "\u001b[1m413/413\u001b[0m \u001b[32m━━━━━━━━━━━━━━━━━━━━\u001b[0m\u001b[37m\u001b[0m \u001b[1m1s\u001b[0m 3ms/step - loss: 0.0047 - root_mean_squared_error: 0.0688 - val_loss: 0.0031 - val_root_mean_squared_error: 0.0555 - learning_rate: 0.0010\n",
      "Epoch 10/50\n",
      "\u001b[1m413/413\u001b[0m \u001b[32m━━━━━━━━━━━━━━━━━━━━\u001b[0m\u001b[37m\u001b[0m \u001b[1m1s\u001b[0m 3ms/step - loss: 0.0046 - root_mean_squared_error: 0.0681 - val_loss: 0.0034 - val_root_mean_squared_error: 0.0576 - learning_rate: 0.0010\n",
      "Epoch 11/50\n",
      "\u001b[1m413/413\u001b[0m \u001b[32m━━━━━━━━━━━━━━━━━━━━\u001b[0m\u001b[37m\u001b[0m \u001b[1m1s\u001b[0m 3ms/step - loss: 0.0045 - root_mean_squared_error: 0.0673 - val_loss: 0.0031 - val_root_mean_squared_error: 0.0558 - learning_rate: 0.0010\n",
      "Epoch 12/50\n",
      "\u001b[1m413/413\u001b[0m \u001b[32m━━━━━━━━━━━━━━━━━━━━\u001b[0m\u001b[37m\u001b[0m \u001b[1m1s\u001b[0m 3ms/step - loss: 0.0045 - root_mean_squared_error: 0.0670 - val_loss: 0.0033 - val_root_mean_squared_error: 0.0568 - learning_rate: 0.0010\n",
      "Epoch 13/50\n",
      "\u001b[1m413/413\u001b[0m \u001b[32m━━━━━━━━━━━━━━━━━━━━\u001b[0m\u001b[37m\u001b[0m \u001b[1m1s\u001b[0m 3ms/step - loss: 0.0045 - root_mean_squared_error: 0.0672 - val_loss: 0.0043 - val_root_mean_squared_error: 0.0650 - learning_rate: 0.0010\n",
      "Epoch 14/50\n",
      "\u001b[1m413/413\u001b[0m \u001b[32m━━━━━━━━━━━━━━━━━━━━\u001b[0m\u001b[37m\u001b[0m \u001b[1m1s\u001b[0m 3ms/step - loss: 0.0042 - root_mean_squared_error: 0.0652 - val_loss: 0.0035 - val_root_mean_squared_error: 0.0592 - learning_rate: 1.0000e-04\n",
      "Epoch 15/50\n",
      "\u001b[1m413/413\u001b[0m \u001b[32m━━━━━━━━━━━━━━━━━━━━\u001b[0m\u001b[37m\u001b[0m \u001b[1m1s\u001b[0m 3ms/step - loss: 0.0042 - root_mean_squared_error: 0.0650 - val_loss: 0.0034 - val_root_mean_squared_error: 0.0577 - learning_rate: 1.0000e-04\n",
      "Epoch 16/50\n",
      "\u001b[1m413/413\u001b[0m \u001b[32m━━━━━━━━━━━━━━━━━━━━\u001b[0m\u001b[37m\u001b[0m \u001b[1m1s\u001b[0m 3ms/step - loss: 0.0042 - root_mean_squared_error: 0.0648 - val_loss: 0.0037 - val_root_mean_squared_error: 0.0602 - learning_rate: 1.0000e-04\n",
      "Epoch 17/50\n",
      "\u001b[1m413/413\u001b[0m \u001b[32m━━━━━━━━━━━━━━━━━━━━\u001b[0m\u001b[37m\u001b[0m \u001b[1m1s\u001b[0m 3ms/step - loss: 0.0042 - root_mean_squared_error: 0.0649 - val_loss: 0.0037 - val_root_mean_squared_error: 0.0603 - learning_rate: 1.0000e-04\n",
      "Epoch 18/50\n",
      "\u001b[1m413/413\u001b[0m \u001b[32m━━━━━━━━━━━━━━━━━━━━\u001b[0m\u001b[37m\u001b[0m \u001b[1m1s\u001b[0m 3ms/step - loss: 0.0043 - root_mean_squared_error: 0.0653 - val_loss: 0.0034 - val_root_mean_squared_error: 0.0584 - learning_rate: 1.0000e-04\n",
      "Epoch 19/50\n",
      "\u001b[1m413/413\u001b[0m \u001b[32m━━━━━━━━━━━━━━━━━━━━\u001b[0m\u001b[37m\u001b[0m \u001b[1m1s\u001b[0m 3ms/step - loss: 0.0042 - root_mean_squared_error: 0.0649 - val_loss: 0.0034 - val_root_mean_squared_error: 0.0581 - learning_rate: 1.0000e-04\n",
      "Epoch 20/50\n",
      "\u001b[1m413/413\u001b[0m \u001b[32m━━━━━━━━━━━━━━━━━━━━\u001b[0m\u001b[37m\u001b[0m \u001b[1m1s\u001b[0m 3ms/step - loss: 0.0042 - root_mean_squared_error: 0.0645 - val_loss: 0.0034 - val_root_mean_squared_error: 0.0582 - learning_rate: 1.0000e-04\n",
      "Epoch 21/50\n",
      "\u001b[1m413/413\u001b[0m \u001b[32m━━━━━━━━━━━━━━━━━━━━\u001b[0m\u001b[37m\u001b[0m \u001b[1m1s\u001b[0m 3ms/step - loss: 0.0042 - root_mean_squared_error: 0.0649 - val_loss: 0.0031 - val_root_mean_squared_error: 0.0557 - learning_rate: 1.0000e-04\n",
      "Epoch 22/50\n",
      "\u001b[1m413/413\u001b[0m \u001b[32m━━━━━━━━━━━━━━━━━━━━\u001b[0m\u001b[37m\u001b[0m \u001b[1m1s\u001b[0m 3ms/step - loss: 0.0042 - root_mean_squared_error: 0.0647 - val_loss: 0.0034 - val_root_mean_squared_error: 0.0580 - learning_rate: 1.0000e-04\n",
      "Epoch 23/50\n",
      "\u001b[1m413/413\u001b[0m \u001b[32m━━━━━━━━━━━━━━━━━━━━\u001b[0m\u001b[37m\u001b[0m \u001b[1m1s\u001b[0m 3ms/step - loss: 0.0042 - root_mean_squared_error: 0.0646 - val_loss: 0.0037 - val_root_mean_squared_error: 0.0602 - learning_rate: 1.0000e-04\n",
      "Epoch 24/50\n",
      "\u001b[1m413/413\u001b[0m \u001b[32m━━━━━━━━━━━━━━━━━━━━\u001b[0m\u001b[37m\u001b[0m \u001b[1m1s\u001b[0m 3ms/step - loss: 0.0042 - root_mean_squared_error: 0.0645 - val_loss: 0.0033 - val_root_mean_squared_error: 0.0575 - learning_rate: 1.0000e-05\n",
      "Epoch 25/50\n",
      "\u001b[1m413/413\u001b[0m \u001b[32m━━━━━━━━━━━━━━━━━━━━\u001b[0m\u001b[37m\u001b[0m \u001b[1m1s\u001b[0m 3ms/step - loss: 0.0041 - root_mean_squared_error: 0.0638 - val_loss: 0.0034 - val_root_mean_squared_error: 0.0577 - learning_rate: 1.0000e-05\n",
      "Epoch 26/50\n",
      "\u001b[1m413/413\u001b[0m \u001b[32m━━━━━━━━━━━━━━━━━━━━\u001b[0m\u001b[37m\u001b[0m \u001b[1m1s\u001b[0m 3ms/step - loss: 0.0041 - root_mean_squared_error: 0.0643 - val_loss: 0.0035 - val_root_mean_squared_error: 0.0587 - learning_rate: 1.0000e-05\n",
      "Epoch 27/50\n",
      "\u001b[1m413/413\u001b[0m \u001b[32m━━━━━━━━━━━━━━━━━━━━\u001b[0m\u001b[37m\u001b[0m \u001b[1m1s\u001b[0m 3ms/step - loss: 0.0041 - root_mean_squared_error: 0.0642 - val_loss: 0.0034 - val_root_mean_squared_error: 0.0578 - learning_rate: 1.0000e-05\n",
      "Epoch 28/50\n",
      "\u001b[1m413/413\u001b[0m \u001b[32m━━━━━━━━━━━━━━━━━━━━\u001b[0m\u001b[37m\u001b[0m \u001b[1m1s\u001b[0m 3ms/step - loss: 0.0041 - root_mean_squared_error: 0.0637 - val_loss: 0.0034 - val_root_mean_squared_error: 0.0576 - learning_rate: 1.0000e-05\n",
      "Epoch 29/50\n",
      "\u001b[1m413/413\u001b[0m \u001b[32m━━━━━━━━━━━━━━━━━━━━\u001b[0m\u001b[37m\u001b[0m \u001b[1m1s\u001b[0m 3ms/step - loss: 0.0041 - root_mean_squared_error: 0.0644 - val_loss: 0.0033 - val_root_mean_squared_error: 0.0572 - learning_rate: 1.0000e-05\n",
      "Epoch 30/50\n",
      "\u001b[1m413/413\u001b[0m \u001b[32m━━━━━━━━━━━━━━━━━━━━\u001b[0m\u001b[37m\u001b[0m \u001b[1m1s\u001b[0m 2ms/step - loss: 0.0041 - root_mean_squared_error: 0.0641 - val_loss: 0.0035 - val_root_mean_squared_error: 0.0585 - learning_rate: 1.0000e-05\n",
      "Epoch 31/50\n",
      "\u001b[1m413/413\u001b[0m \u001b[32m━━━━━━━━━━━━━━━━━━━━\u001b[0m\u001b[37m\u001b[0m \u001b[1m1s\u001b[0m 3ms/step - loss: 0.0041 - root_mean_squared_error: 0.0640 - val_loss: 0.0036 - val_root_mean_squared_error: 0.0594 - learning_rate: 1.0000e-05\n",
      "Epoch 32/50\n",
      "\u001b[1m413/413\u001b[0m \u001b[32m━━━━━━━━━━━━━━━━━━━━\u001b[0m\u001b[37m\u001b[0m \u001b[1m1s\u001b[0m 3ms/step - loss: 0.0041 - root_mean_squared_error: 0.0638 - val_loss: 0.0034 - val_root_mean_squared_error: 0.0584 - learning_rate: 1.0000e-05\n",
      "Epoch 33/50\n",
      "\u001b[1m413/413\u001b[0m \u001b[32m━━━━━━━━━━━━━━━━━━━━\u001b[0m\u001b[37m\u001b[0m \u001b[1m1s\u001b[0m 3ms/step - loss: 0.0041 - root_mean_squared_error: 0.0642 - val_loss: 0.0034 - val_root_mean_squared_error: 0.0578 - learning_rate: 1.0000e-05\n",
      "Epoch 34/50\n",
      "\u001b[1m413/413\u001b[0m \u001b[32m━━━━━━━━━━━━━━━━━━━━\u001b[0m\u001b[37m\u001b[0m \u001b[1m1s\u001b[0m 3ms/step - loss: 0.0041 - root_mean_squared_error: 0.0644 - val_loss: 0.0034 - val_root_mean_squared_error: 0.0583 - learning_rate: 1.0000e-06\n",
      "Epoch 35/50\n",
      "\u001b[1m413/413\u001b[0m \u001b[32m━━━━━━━━━━━━━━━━━━━━\u001b[0m\u001b[37m\u001b[0m \u001b[1m1s\u001b[0m 3ms/step - loss: 0.0042 - root_mean_squared_error: 0.0646 - val_loss: 0.0034 - val_root_mean_squared_error: 0.0583 - learning_rate: 1.0000e-06\n",
      "Epoch 36/50\n",
      "\u001b[1m413/413\u001b[0m \u001b[32m━━━━━━━━━━━━━━━━━━━━\u001b[0m\u001b[37m\u001b[0m \u001b[1m1s\u001b[0m 3ms/step - loss: 0.0041 - root_mean_squared_error: 0.0637 - val_loss: 0.0034 - val_root_mean_squared_error: 0.0582 - learning_rate: 1.0000e-06\n",
      "Epoch 37/50\n",
      "\u001b[1m413/413\u001b[0m \u001b[32m━━━━━━━━━━━━━━━━━━━━\u001b[0m\u001b[37m\u001b[0m \u001b[1m1s\u001b[0m 3ms/step - loss: 0.0041 - root_mean_squared_error: 0.0644 - val_loss: 0.0034 - val_root_mean_squared_error: 0.0580 - learning_rate: 1.0000e-06\n",
      "Epoch 38/50\n",
      "\u001b[1m413/413\u001b[0m \u001b[32m━━━━━━━━━━━━━━━━━━━━\u001b[0m\u001b[37m\u001b[0m \u001b[1m1s\u001b[0m 3ms/step - loss: 0.0041 - root_mean_squared_error: 0.0641 - val_loss: 0.0034 - val_root_mean_squared_error: 0.0581 - learning_rate: 1.0000e-06\n",
      "Epoch 39/50\n",
      "\u001b[1m413/413\u001b[0m \u001b[32m━━━━━━━━━━━━━━━━━━━━\u001b[0m\u001b[37m\u001b[0m \u001b[1m1s\u001b[0m 3ms/step - loss: 0.0042 - root_mean_squared_error: 0.0647 - val_loss: 0.0034 - val_root_mean_squared_error: 0.0582 - learning_rate: 1.0000e-06\n",
      "Epoch 40/50\n",
      "\u001b[1m413/413\u001b[0m \u001b[32m━━━━━━━━━━━━━━━━━━━━\u001b[0m\u001b[37m\u001b[0m \u001b[1m1s\u001b[0m 3ms/step - loss: 0.0041 - root_mean_squared_error: 0.0640 - val_loss: 0.0034 - val_root_mean_squared_error: 0.0583 - learning_rate: 1.0000e-06\n",
      "Epoch 41/50\n",
      "\u001b[1m413/413\u001b[0m \u001b[32m━━━━━━━━━━━━━━━━━━━━\u001b[0m\u001b[37m\u001b[0m \u001b[1m1s\u001b[0m 3ms/step - loss: 0.0041 - root_mean_squared_error: 0.0641 - val_loss: 0.0034 - val_root_mean_squared_error: 0.0582 - learning_rate: 1.0000e-06\n",
      "Epoch 42/50\n",
      "\u001b[1m413/413\u001b[0m \u001b[32m━━━━━━━━━━━━━━━━━━━━\u001b[0m\u001b[37m\u001b[0m \u001b[1m1s\u001b[0m 3ms/step - loss: 0.0041 - root_mean_squared_error: 0.0644 - val_loss: 0.0034 - val_root_mean_squared_error: 0.0583 - learning_rate: 1.0000e-06\n",
      "Epoch 43/50\n",
      "\u001b[1m413/413\u001b[0m \u001b[32m━━━━━━━━━━━━━━━━━━━━\u001b[0m\u001b[37m\u001b[0m \u001b[1m1s\u001b[0m 3ms/step - loss: 0.0041 - root_mean_squared_error: 0.0643 - val_loss: 0.0035 - val_root_mean_squared_error: 0.0585 - learning_rate: 1.0000e-06\n",
      "Epoch 44/50\n",
      "\u001b[1m413/413\u001b[0m \u001b[32m━━━━━━━━━━━━━━━━━━━━\u001b[0m\u001b[37m\u001b[0m \u001b[1m1s\u001b[0m 3ms/step - loss: 0.0041 - root_mean_squared_error: 0.0641 - val_loss: 0.0035 - val_root_mean_squared_error: 0.0584 - learning_rate: 1.0000e-07\n",
      "Epoch 45/50\n",
      "\u001b[1m413/413\u001b[0m \u001b[32m━━━━━━━━━━━━━━━━━━━━\u001b[0m\u001b[37m\u001b[0m \u001b[1m1s\u001b[0m 3ms/step - loss: 0.0042 - root_mean_squared_error: 0.0645 - val_loss: 0.0034 - val_root_mean_squared_error: 0.0584 - learning_rate: 1.0000e-07\n",
      "Epoch 46/50\n",
      "\u001b[1m413/413\u001b[0m \u001b[32m━━━━━━━━━━━━━━━━━━━━\u001b[0m\u001b[37m\u001b[0m \u001b[1m1s\u001b[0m 3ms/step - loss: 0.0041 - root_mean_squared_error: 0.0640 - val_loss: 0.0034 - val_root_mean_squared_error: 0.0584 - learning_rate: 1.0000e-07\n",
      "Epoch 47/50\n",
      "\u001b[1m413/413\u001b[0m \u001b[32m━━━━━━━━━━━━━━━━━━━━\u001b[0m\u001b[37m\u001b[0m \u001b[1m1s\u001b[0m 3ms/step - loss: 0.0041 - root_mean_squared_error: 0.0643 - val_loss: 0.0034 - val_root_mean_squared_error: 0.0583 - learning_rate: 1.0000e-07\n",
      "Epoch 48/50\n",
      "\u001b[1m413/413\u001b[0m \u001b[32m━━━━━━━━━━━━━━━━━━━━\u001b[0m\u001b[37m\u001b[0m \u001b[1m1s\u001b[0m 3ms/step - loss: 0.0042 - root_mean_squared_error: 0.0646 - val_loss: 0.0034 - val_root_mean_squared_error: 0.0583 - learning_rate: 1.0000e-07\n",
      "Epoch 49/50\n",
      "\u001b[1m413/413\u001b[0m \u001b[32m━━━━━━━━━━━━━━━━━━━━\u001b[0m\u001b[37m\u001b[0m \u001b[1m1s\u001b[0m 3ms/step - loss: 0.0041 - root_mean_squared_error: 0.0644 - val_loss: 0.0034 - val_root_mean_squared_error: 0.0583 - learning_rate: 1.0000e-07\n",
      "Epoch 50/50\n",
      "\u001b[1m413/413\u001b[0m \u001b[32m━━━━━━━━━━━━━━━━━━━━\u001b[0m\u001b[37m\u001b[0m \u001b[1m1s\u001b[0m 3ms/step - loss: 0.0042 - root_mean_squared_error: 0.0644 - val_loss: 0.0034 - val_root_mean_squared_error: 0.0583 - learning_rate: 1.0000e-07\n"
     ]
    }
   ],
   "source": [
    "normalizer = Normalization()\n",
    "normalizer.adapt(X_train)\n",
    "rlrop = ReduceLROnPlateau(monitor='val_loss', factor=0.1, patience=10)\n",
    "\n",
    "model = Sequential()\n",
    "# 1D Convolutional layers\n",
    "model.add(Conv1D(filters=8, kernel_size=3, activation='relu', input_shape=X_train.shape[1:]))\n",
    "# model.add(Conv1D(filters=64, kernel_size=3, activation='relu'))\n",
    "# model.add(Conv1D(filters=32, kernel_size=3, activation='relu'))\n",
    "# Flatten the output of the Conv layers\n",
    "model.add(Flatten())\n",
    "# model.add(LSTM(input_shape = X_train.shape[1:], units=86, return_sequences=True))\n",
    "# model.add(LSTM(units=64, return_sequences=True))\n",
    "# model.add(GRU(units=86, return_sequences=True))\n",
    "# model.add(LSTM(units=128, return_sequences=True))\n",
    "# model.add(GRU(units=100, return_sequences=True))\n",
    "# model.add(LSTM(units=100, return_sequences=False))\n",
    "# model.add(Dense(units=100,  activation='relu'))\n",
    "# model.add(Dense(8, activation='relu'))\n",
    "\n",
    "model.add(Dense(units=FORECAST_LENGTH, activation='linear'))\n",
    "\n",
    "model.summary()\n",
    "\n",
    "model.compile(optimizer=Adam(learning_rate=0.001), metrics=[RootMeanSquaredError()] , loss=MeanSquaredError())\n",
    "\n",
    "history = model.fit(X_train, y_train, validation_data=(X_val,y_val), epochs=50, callbacks=[rlrop])\n",
    "\n",
    "# score = model.evaluate(X_test, y_test, verbose = 1)"
   ]
  },
  {
   "cell_type": "code",
   "execution_count": 48,
   "id": "5674b419-12bd-4a4e-a83d-2438ae813939",
   "metadata": {},
   "outputs": [
    {
     "name": "stdout",
     "output_type": "stream",
     "text": [
      "\u001b[1m130/130\u001b[0m \u001b[32m━━━━━━━━━━━━━━━━━━━━\u001b[0m\u001b[37m\u001b[0m \u001b[1m0s\u001b[0m 1ms/step\n"
     ]
    }
   ],
   "source": [
    "forecast = model.predict(X_test)"
   ]
  },
  {
   "cell_type": "code",
   "execution_count": 79,
   "id": "abb7c26e-b6e8-4526-aa4e-9180825c9d51",
   "metadata": {},
   "outputs": [],
   "source": [
    "poll = np.array(df[\"temp\"])\n",
    "\n",
    "meanop = poll.mean()\n",
    "stdop = poll.std()\n",
    "\n",
    "y_test_true = y_test*stdop + meanop\n",
    "testPredict = forecast*stdop + meanop"
   ]
  },
  {
   "cell_type": "code",
   "execution_count": 80,
   "id": "cccf66c7-77a1-483d-8b28-e5df8056b4b6",
   "metadata": {},
   "outputs": [],
   "source": [
    "from sklearn.metrics import mean_squared_error"
   ]
  },
  {
   "cell_type": "code",
   "execution_count": 81,
   "id": "3e3a186b-a281-4964-9581-f8f73931e019",
   "metadata": {},
   "outputs": [
    {
     "name": "stdout",
     "output_type": "stream",
     "text": [
      "Test RMSE = 0.5889489\n"
     ]
    }
   ],
   "source": [
    "rmse = np.sqrt(mean_squared_error(y_test_true, testPredict))\n",
    "print(\"Test RMSE =\"  ,rmse)"
   ]
  },
  {
   "cell_type": "code",
   "execution_count": 82,
   "id": "a4905440-808e-40e9-a2b7-0a38fb98f362",
   "metadata": {},
   "outputs": [
    {
     "name": "stdout",
     "output_type": "stream",
     "text": [
      "Test MAPE = 1.6034122556447983\n"
     ]
    }
   ],
   "source": [
    "# Calculate MAPE\n",
    "mape = np.mean(np.abs((y_test_true - testPredict) / y_test_true)) * 100\n",
    "print(\"Test MAPE =\", mape)"
   ]
  },
  {
   "cell_type": "code",
   "execution_count": 83,
   "id": "6112ccad-ea4e-45ea-a0fa-845376196c01",
   "metadata": {},
   "outputs": [
    {
     "name": "stdout",
     "output_type": "stream",
     "text": [
      "Accuracy = 98.3965877443552 %\n"
     ]
    }
   ],
   "source": [
    "# Calculate accuracy as 1 - MAPE\n",
    "accuracy = 100 - mape\n",
    "print(\"Accuracy =\", accuracy, \"%\")"
   ]
  },
  {
   "cell_type": "code",
   "execution_count": 84,
   "id": "d5e23c57-c4be-4ebc-9106-26354b2e5673",
   "metadata": {},
   "outputs": [
    {
     "name": "stdout",
     "output_type": "stream",
     "text": [
      "Test MAE = 0.45972964\n"
     ]
    }
   ],
   "source": [
    "from sklearn.metrics import mean_absolute_error\n",
    "\n",
    "# Calculate MAE\n",
    "mae = mean_absolute_error(y_test_true, testPredict)\n",
    "print(\"Test MAE =\", mae)"
   ]
  },
  {
   "cell_type": "code",
   "execution_count": 55,
   "id": "7654b701-6ba9-4602-8611-59820b6311e4",
   "metadata": {},
   "outputs": [
    {
     "data": {
      "text/plain": [
       "array([[0.18514118, 0.16574669, 0.16048098, ..., 0.24517705, 0.23057435,\n",
       "        0.19898479],\n",
       "       [0.16213939, 0.14649433, 0.13913143, ..., 0.23390768, 0.20005587,\n",
       "        0.20180704],\n",
       "       [0.13847683, 0.13747695, 0.13142288, ..., 0.20114364, 0.19543317,\n",
       "        0.17979053],\n",
       "       ...,\n",
       "       [0.8256635 , 0.7727042 , 0.76187307, ..., 0.82369876, 0.7613567 ,\n",
       "        0.74605733],\n",
       "       [0.77712834, 0.74925584, 0.7426303 , ..., 0.7591944 , 0.749273  ,\n",
       "        0.7260011 ],\n",
       "       [0.764101  , 0.7348347 , 0.701817  , ..., 0.7444183 , 0.7353683 ,\n",
       "        0.6802917 ]], dtype=float32)"
      ]
     },
     "execution_count": 55,
     "metadata": {},
     "output_type": "execute_result"
    }
   ],
   "source": [
    "forecast"
   ]
  },
  {
   "cell_type": "code",
   "execution_count": 56,
   "id": "7ea98a00-c789-49d3-bdfe-1c06c5364c33",
   "metadata": {},
   "outputs": [
    {
     "data": {
      "text/plain": [
       "array([[26.225372, 26.052591, 26.00568 , ..., 26.760216, 26.630123,\n",
       "        26.348701],\n",
       "       [26.020454, 25.881077, 25.815483, ..., 26.65982 , 26.358242,\n",
       "        26.373844],\n",
       "       [25.809652, 25.800743, 25.746809, ..., 26.367933, 26.31706 ,\n",
       "        26.177704],\n",
       "       ...,\n",
       "       [31.931614, 31.459814, 31.363323, ..., 31.914112, 31.358723,\n",
       "        31.222424],\n",
       "       [31.499228, 31.25092 , 31.191895, ..., 31.339458, 31.251072,\n",
       "        31.043749],\n",
       "       [31.383171, 31.122444, 30.828299, ..., 31.207823, 31.1272  ,\n",
       "        30.636536]], dtype=float32)"
      ]
     },
     "execution_count": 56,
     "metadata": {},
     "output_type": "execute_result"
    }
   ],
   "source": [
    "testPredict"
   ]
  },
  {
   "cell_type": "code",
   "execution_count": 57,
   "id": "4e4e0314-523d-408f-9858-83e62f6ef22e",
   "metadata": {},
   "outputs": [
    {
     "data": {
      "text/plain": [
       "array([[26.242529, 26.16023 , 26.016209, ..., 25.625296, 25.707592,\n",
       "        25.563572],\n",
       "       [26.16023 , 26.016209, 26.098507, ..., 25.707592, 25.563572,\n",
       "        25.625296],\n",
       "       [26.016209, 26.098507, 25.933912, ..., 25.563572, 25.625296,\n",
       "        25.707592],\n",
       "       ...,\n",
       "       [31.735905, 31.283266, 31.283266, ..., 32.27084 , 32.04452 ,\n",
       "        31.571308],\n",
       "       [31.283266, 31.283266, 31.20097 , ..., 32.04452 , 31.571308,\n",
       "        31.283266],\n",
       "       [31.283266, 31.20097 , 30.892353, ..., 31.571308, 31.283266,\n",
       "        31.036373]], dtype=float32)"
      ]
     },
     "execution_count": 57,
     "metadata": {},
     "output_type": "execute_result"
    }
   ],
   "source": [
    "y_test_true"
   ]
  },
  {
   "cell_type": "code",
   "execution_count": 58,
   "id": "54566e15-d957-4ac0-ae91-922d2fd111b1",
   "metadata": {},
   "outputs": [],
   "source": [
    "import numpy as np\n",
    "\n",
    "def calculate_segment_rmse(predictions, actuals, segment_length=1):\n",
    "    num_segments = predictions.shape[1] // segment_length\n",
    "    rmses = []\n",
    "    \n",
    "    for i in range(num_segments):\n",
    "        start_idx = i * segment_length\n",
    "        end_idx = start_idx + segment_length\n",
    "        \n",
    "        # Extract the segment for both predictions and actuals\n",
    "        pred_segment = predictions[:, start_idx:end_idx]\n",
    "        actual_segment = actuals[:, start_idx:end_idx]\n",
    "        \n",
    "        # Calculate RMSE for this segment\n",
    "        segment_rmse = np.sqrt(mean_squared_error(actual_segment.flatten(), pred_segment.flatten()))\n",
    "        rmses.append(segment_rmse)\n",
    "    \n",
    "    return rmses"
   ]
  },
  {
   "cell_type": "code",
   "execution_count": 59,
   "id": "9f31d5c8-5aa9-4fe9-b2bd-106df4144e3b",
   "metadata": {},
   "outputs": [
    {
     "name": "stdout",
     "output_type": "stream",
     "text": [
      "RMSE for segment 1: 0.2355\n",
      "RMSE for segment 2: 0.2751\n",
      "RMSE for segment 3: 0.3002\n",
      "RMSE for segment 4: 0.3286\n",
      "RMSE for segment 5: 0.3525\n",
      "RMSE for segment 6: 0.3676\n",
      "RMSE for segment 7: 0.3793\n",
      "RMSE for segment 8: 0.3903\n",
      "RMSE for segment 9: 0.4009\n",
      "RMSE for segment 10: 0.4050\n",
      "RMSE for segment 11: 0.4098\n",
      "RMSE for segment 12: 0.4151\n",
      "RMSE for segment 13: 0.4155\n",
      "RMSE for segment 14: 0.4176\n",
      "RMSE for segment 15: 0.4135\n",
      "RMSE for segment 16: 0.4129\n",
      "RMSE for segment 17: 0.4127\n",
      "RMSE for segment 18: 0.4122\n",
      "RMSE for segment 19: 0.4173\n",
      "RMSE for segment 20: 0.4119\n",
      "RMSE for segment 21: 0.4108\n",
      "RMSE for segment 22: 0.4113\n",
      "RMSE for segment 23: 0.4131\n",
      "RMSE for segment 24: 0.4155\n",
      "RMSE for segment 25: 0.4243\n",
      "RMSE for segment 26: 0.4350\n",
      "RMSE for segment 27: 0.4396\n",
      "RMSE for segment 28: 0.4535\n",
      "RMSE for segment 29: 0.4629\n",
      "RMSE for segment 30: 0.4700\n",
      "RMSE for segment 31: 0.4789\n",
      "RMSE for segment 32: 0.4839\n",
      "RMSE for segment 33: 0.4922\n",
      "RMSE for segment 34: 0.4944\n",
      "RMSE for segment 35: 0.4996\n",
      "RMSE for segment 36: 0.5016\n",
      "RMSE for segment 37: 0.5041\n",
      "RMSE for segment 38: 0.5028\n",
      "RMSE for segment 39: 0.5025\n",
      "RMSE for segment 40: 0.5072\n",
      "RMSE for segment 41: 0.5039\n",
      "RMSE for segment 42: 0.5063\n",
      "RMSE for segment 43: 0.5055\n",
      "RMSE for segment 44: 0.5059\n",
      "RMSE for segment 45: 0.5056\n",
      "RMSE for segment 46: 0.5077\n",
      "RMSE for segment 47: 0.5080\n",
      "RMSE for segment 48: 0.5108\n",
      "RMSE for segment 49: 0.5167\n",
      "RMSE for segment 50: 0.5218\n",
      "RMSE for segment 51: 0.5262\n",
      "RMSE for segment 52: 0.5357\n",
      "RMSE for segment 53: 0.5427\n",
      "RMSE for segment 54: 0.5456\n",
      "RMSE for segment 55: 0.5528\n",
      "RMSE for segment 56: 0.5574\n",
      "RMSE for segment 57: 0.5612\n",
      "RMSE for segment 58: 0.5644\n",
      "RMSE for segment 59: 0.5668\n",
      "RMSE for segment 60: 0.5696\n",
      "RMSE for segment 61: 0.5721\n",
      "RMSE for segment 62: 0.5736\n",
      "RMSE for segment 63: 0.5712\n",
      "RMSE for segment 64: 0.5757\n",
      "RMSE for segment 65: 0.5730\n",
      "RMSE for segment 66: 0.5738\n",
      "RMSE for segment 67: 0.5760\n",
      "RMSE for segment 68: 0.5762\n",
      "RMSE for segment 69: 0.5754\n",
      "RMSE for segment 70: 0.5773\n",
      "RMSE for segment 71: 0.5763\n",
      "RMSE for segment 72: 0.5783\n",
      "RMSE for segment 73: 0.5812\n",
      "RMSE for segment 74: 0.5867\n",
      "RMSE for segment 75: 0.5890\n",
      "RMSE for segment 76: 0.5943\n",
      "RMSE for segment 77: 0.5996\n",
      "RMSE for segment 78: 0.6030\n",
      "RMSE for segment 79: 0.6059\n",
      "RMSE for segment 80: 0.6090\n",
      "RMSE for segment 81: 0.6140\n",
      "RMSE for segment 82: 0.6138\n",
      "RMSE for segment 83: 0.6159\n",
      "RMSE for segment 84: 0.6180\n",
      "RMSE for segment 85: 0.6183\n",
      "RMSE for segment 86: 0.6185\n",
      "RMSE for segment 87: 0.6206\n",
      "RMSE for segment 88: 0.6186\n",
      "RMSE for segment 89: 0.6193\n",
      "RMSE for segment 90: 0.6218\n",
      "RMSE for segment 91: 0.6194\n",
      "RMSE for segment 92: 0.6198\n",
      "RMSE for segment 93: 0.6202\n",
      "RMSE for segment 94: 0.6222\n",
      "RMSE for segment 95: 0.6208\n",
      "RMSE for segment 96: 0.6220\n",
      "RMSE for segment 97: 0.6256\n",
      "RMSE for segment 98: 0.6312\n",
      "RMSE for segment 99: 0.6311\n",
      "RMSE for segment 100: 0.6362\n",
      "RMSE for segment 101: 0.6392\n",
      "RMSE for segment 102: 0.6424\n",
      "RMSE for segment 103: 0.6433\n",
      "RMSE for segment 104: 0.6482\n",
      "RMSE for segment 105: 0.6499\n",
      "RMSE for segment 106: 0.6515\n",
      "RMSE for segment 107: 0.6542\n",
      "RMSE for segment 108: 0.6549\n",
      "RMSE for segment 109: 0.6553\n",
      "RMSE for segment 110: 0.6562\n",
      "RMSE for segment 111: 0.6575\n",
      "RMSE for segment 112: 0.6565\n",
      "RMSE for segment 113: 0.6584\n",
      "RMSE for segment 114: 0.6593\n",
      "RMSE for segment 115: 0.6591\n",
      "RMSE for segment 116: 0.6586\n",
      "RMSE for segment 117: 0.6598\n",
      "RMSE for segment 118: 0.6583\n",
      "RMSE for segment 119: 0.6593\n",
      "RMSE for segment 120: 0.6584\n",
      "RMSE for segment 121: 0.6604\n",
      "RMSE for segment 122: 0.6618\n",
      "RMSE for segment 123: 0.6659\n",
      "RMSE for segment 124: 0.6656\n",
      "RMSE for segment 125: 0.6688\n",
      "RMSE for segment 126: 0.6708\n",
      "RMSE for segment 127: 0.6719\n",
      "RMSE for segment 128: 0.6733\n",
      "RMSE for segment 129: 0.6740\n",
      "RMSE for segment 130: 0.6760\n",
      "RMSE for segment 131: 0.6768\n",
      "RMSE for segment 132: 0.6767\n",
      "RMSE for segment 133: 0.6788\n",
      "RMSE for segment 134: 0.6784\n",
      "RMSE for segment 135: 0.6808\n",
      "RMSE for segment 136: 0.6785\n",
      "RMSE for segment 137: 0.6789\n",
      "RMSE for segment 138: 0.6782\n",
      "RMSE for segment 139: 0.6778\n",
      "RMSE for segment 140: 0.6776\n",
      "RMSE for segment 141: 0.6778\n",
      "RMSE for segment 142: 0.6773\n",
      "RMSE for segment 143: 0.6778\n",
      "RMSE for segment 144: 0.6750\n",
      "RMSE for segment 145: 0.6764\n",
      "RMSE for segment 146: 0.6794\n",
      "RMSE for segment 147: 0.6806\n",
      "RMSE for segment 148: 0.6832\n",
      "RMSE for segment 149: 0.6826\n",
      "RMSE for segment 150: 0.6851\n",
      "RMSE for segment 151: 0.6867\n",
      "RMSE for segment 152: 0.6877\n",
      "RMSE for segment 153: 0.6896\n",
      "RMSE for segment 154: 0.6898\n",
      "RMSE for segment 155: 0.6911\n",
      "RMSE for segment 156: 0.6917\n",
      "RMSE for segment 157: 0.6916\n",
      "RMSE for segment 158: 0.6915\n",
      "RMSE for segment 159: 0.6924\n",
      "RMSE for segment 160: 0.6919\n",
      "RMSE for segment 161: 0.6915\n",
      "RMSE for segment 162: 0.6903\n",
      "RMSE for segment 163: 0.6906\n",
      "RMSE for segment 164: 0.6895\n",
      "RMSE for segment 165: 0.6909\n",
      "RMSE for segment 166: 0.6891\n",
      "RMSE for segment 167: 0.6882\n",
      "RMSE for segment 168: 0.6882\n"
     ]
    }
   ],
   "source": [
    "segment_rmses = calculate_segment_rmse(testPredict, y_test_true)\n",
    "for i, rmse in enumerate(segment_rmses):\n",
    "    print(f\"RMSE for segment {i + 1}: {rmse:.4f}\")"
   ]
  },
  {
   "cell_type": "code",
   "execution_count": 85,
   "id": "85765500-cf61-4e8a-8763-69a8f1e567ca",
   "metadata": {},
   "outputs": [],
   "source": [
    "model.save(\"temp_1dcnn.keras\")"
   ]
  }
 ],
 "metadata": {
  "kernelspec": {
   "display_name": "Python 3 (ipykernel)",
   "language": "python",
   "name": "python3"
  },
  "language_info": {
   "codemirror_mode": {
    "name": "ipython",
    "version": 3
   },
   "file_extension": ".py",
   "mimetype": "text/x-python",
   "name": "python",
   "nbconvert_exporter": "python",
   "pygments_lexer": "ipython3",
   "version": "3.11.0"
  }
 },
 "nbformat": 4,
 "nbformat_minor": 5
}
