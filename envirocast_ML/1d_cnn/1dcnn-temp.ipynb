{
 "cells": [
  {
   "cell_type": "code",
   "execution_count": 37,
   "id": "08a7b78b-1d09-454f-8ecc-7c4184ab2240",
   "metadata": {},
   "outputs": [],
   "source": [
    "import pandas as pd\n",
    "import numpy as np"
   ]
  },
  {
   "cell_type": "code",
   "execution_count": 38,
   "id": "c1570c26-8e22-4498-9fe6-68e055e504a9",
   "metadata": {},
   "outputs": [],
   "source": [
    "df = pd.read_csv(\"../data/data_imputed_2.csv\")"
   ]
  },
  {
   "cell_type": "code",
   "execution_count": 39,
   "id": "55868db8-2144-49a3-9531-e4bf0728f0a2",
   "metadata": {},
   "outputs": [
    {
     "data": {
      "text/html": [
       "<div>\n",
       "<style scoped>\n",
       "    .dataframe tbody tr th:only-of-type {\n",
       "        vertical-align: middle;\n",
       "    }\n",
       "\n",
       "    .dataframe tbody tr th {\n",
       "        vertical-align: top;\n",
       "    }\n",
       "\n",
       "    .dataframe thead th {\n",
       "        text-align: right;\n",
       "    }\n",
       "</style>\n",
       "<table border=\"1\" class=\"dataframe\">\n",
       "  <thead>\n",
       "    <tr style=\"text-align: right;\">\n",
       "      <th></th>\n",
       "      <th>timestamp_local</th>\n",
       "      <th>temp</th>\n",
       "      <th>city_name</th>\n",
       "      <th>country_code</th>\n",
       "      <th>aqi</th>\n",
       "      <th>co</th>\n",
       "      <th>no2</th>\n",
       "      <th>o3</th>\n",
       "      <th>pm10</th>\n",
       "      <th>pm25</th>\n",
       "      <th>so2</th>\n",
       "    </tr>\n",
       "  </thead>\n",
       "  <tbody>\n",
       "    <tr>\n",
       "      <th>0</th>\n",
       "      <td>01/02/2022 0:00</td>\n",
       "      <td>12.6</td>\n",
       "      <td>Gujrāt</td>\n",
       "      <td>PK</td>\n",
       "      <td>385</td>\n",
       "      <td>1339.8</td>\n",
       "      <td>76.0</td>\n",
       "      <td>10.7</td>\n",
       "      <td>491.7</td>\n",
       "      <td>347.67</td>\n",
       "      <td>238.0</td>\n",
       "    </tr>\n",
       "    <tr>\n",
       "      <th>1</th>\n",
       "      <td>01/02/2022 1:00</td>\n",
       "      <td>11.5</td>\n",
       "      <td>Gujrāt</td>\n",
       "      <td>PK</td>\n",
       "      <td>404</td>\n",
       "      <td>1437.6</td>\n",
       "      <td>76.0</td>\n",
       "      <td>9.3</td>\n",
       "      <td>508.3</td>\n",
       "      <td>359.33</td>\n",
       "      <td>268.0</td>\n",
       "    </tr>\n",
       "    <tr>\n",
       "      <th>2</th>\n",
       "      <td>01/02/2022 2:00</td>\n",
       "      <td>11.9</td>\n",
       "      <td>Gujrāt</td>\n",
       "      <td>PK</td>\n",
       "      <td>421</td>\n",
       "      <td>1535.5</td>\n",
       "      <td>76.0</td>\n",
       "      <td>8.0</td>\n",
       "      <td>525.0</td>\n",
       "      <td>371.00</td>\n",
       "      <td>298.0</td>\n",
       "    </tr>\n",
       "    <tr>\n",
       "      <th>3</th>\n",
       "      <td>01/02/2022 3:00</td>\n",
       "      <td>12.2</td>\n",
       "      <td>Gujrāt</td>\n",
       "      <td>PK</td>\n",
       "      <td>425</td>\n",
       "      <td>1659.0</td>\n",
       "      <td>68.3</td>\n",
       "      <td>5.3</td>\n",
       "      <td>529.3</td>\n",
       "      <td>374.00</td>\n",
       "      <td>275.7</td>\n",
       "    </tr>\n",
       "    <tr>\n",
       "      <th>4</th>\n",
       "      <td>01/02/2022 4:00</td>\n",
       "      <td>11.9</td>\n",
       "      <td>Gujrāt</td>\n",
       "      <td>PK</td>\n",
       "      <td>430</td>\n",
       "      <td>1782.5</td>\n",
       "      <td>60.7</td>\n",
       "      <td>2.7</td>\n",
       "      <td>533.7</td>\n",
       "      <td>377.00</td>\n",
       "      <td>253.3</td>\n",
       "    </tr>\n",
       "  </tbody>\n",
       "</table>\n",
       "</div>"
      ],
      "text/plain": [
       "   timestamp_local  temp city_name country_code  aqi      co   no2    o3  \\\n",
       "0  01/02/2022 0:00  12.6    Gujrāt           PK  385  1339.8  76.0  10.7   \n",
       "1  01/02/2022 1:00  11.5    Gujrāt           PK  404  1437.6  76.0   9.3   \n",
       "2  01/02/2022 2:00  11.9    Gujrāt           PK  421  1535.5  76.0   8.0   \n",
       "3  01/02/2022 3:00  12.2    Gujrāt           PK  425  1659.0  68.3   5.3   \n",
       "4  01/02/2022 4:00  11.9    Gujrāt           PK  430  1782.5  60.7   2.7   \n",
       "\n",
       "    pm10    pm25    so2  \n",
       "0  491.7  347.67  238.0  \n",
       "1  508.3  359.33  268.0  \n",
       "2  525.0  371.00  298.0  \n",
       "3  529.3  374.00  275.7  \n",
       "4  533.7  377.00  253.3  "
      ]
     },
     "execution_count": 39,
     "metadata": {},
     "output_type": "execute_result"
    }
   ],
   "source": [
    "df.head()"
   ]
  },
  {
   "cell_type": "code",
   "execution_count": 40,
   "id": "1957f406-a837-4345-8d16-7835bd855082",
   "metadata": {},
   "outputs": [],
   "source": [
    "from sklearn.model_selection import train_test_split"
   ]
  },
  {
   "cell_type": "code",
   "execution_count": 41,
   "id": "d7e3c4f9-7208-48a1-bee4-1a89c09e2714",
   "metadata": {},
   "outputs": [],
   "source": [
    "temp = df[['temp']]"
   ]
  },
  {
   "cell_type": "code",
   "execution_count": 42,
   "id": "a2eedd5e-c6fa-43b7-9458-5deca00f11fb",
   "metadata": {},
   "outputs": [],
   "source": [
    "from sklearn.preprocessing import MinMaxScaler\n",
    "values = temp.values\n",
    "\n",
    "values = values.astype('float32')\n",
    "\n",
    "scaler = MinMaxScaler(feature_range=(0, 1))\n",
    "scaled = scaler.fit_transform(values)"
   ]
  },
  {
   "cell_type": "code",
   "execution_count": 43,
   "id": "d93f3d70-328f-40a2-9403-0e22e9802560",
   "metadata": {},
   "outputs": [],
   "source": [
    "scaled = scaled.reshape((19706,))"
   ]
  },
  {
   "cell_type": "code",
   "execution_count": 44,
   "id": "09f5ccf2-8abf-4b08-8051-cb206ea52fad",
   "metadata": {},
   "outputs": [
    {
     "data": {
      "text/plain": [
       "(19706,)"
      ]
     },
     "execution_count": 44,
     "metadata": {},
     "output_type": "execute_result"
    }
   ],
   "source": [
    "scaled.shape"
   ]
  },
  {
   "cell_type": "code",
   "execution_count": 45,
   "id": "071ee44c-f600-41f6-9490-6cda18be3d8d",
   "metadata": {},
   "outputs": [],
   "source": [
    "def df_to_X_y(df, window_size, forecast_length):\n",
    "    # df_as_np = df.to_numpy()\n",
    "    X = []\n",
    "    y = []\n",
    "    \n",
    "    for i in range(len(df) - window_size - forecast_length):\n",
    "        row_x = [[a] for a in df[i:i+window_size]]\n",
    "        \n",
    "        X.append(row_x)\n",
    "        # row_y = df_as_np[i+window_size]\n",
    "        row_y = [b for b in df[i+window_size:i+window_size+forecast_length]]\n",
    "        \n",
    "        y.append(row_y)\n",
    "        \n",
    "    return np.array(X), np.array(y)"
   ]
  },
  {
   "cell_type": "code",
   "execution_count": 46,
   "id": "c118b905-bab3-4abf-b257-253d7ea2bb98",
   "metadata": {},
   "outputs": [],
   "source": [
    "WINDOW_WIDTH = 168\n",
    "FORECAST_LENGTH = 168\n",
    "X, y = df_to_X_y(scaled, WINDOW_WIDTH, FORECAST_LENGTH)\n",
    "\n",
    "\n",
    "X_train, X_test, y_train, y_test = train_test_split(X, y, test_size=0.2, random_state=0)\n",
    "X_train, X_val, y_train, y_val = train_test_split(X_train, y_train, test_size=0.2, random_state=0)\n",
    "\n",
    "X_max = X_train.max()\n",
    "X_min = X_train.min()"
   ]
  },
  {
   "cell_type": "code",
   "execution_count": 52,
   "id": "e7b85489-d3d6-4c17-8935-238402086eff",
   "metadata": {},
   "outputs": [],
   "source": [
    "from keras.models import Sequential, save_model, load_model\n",
    "from keras.layers import *\n",
    "from keras.callbacks import ReduceLROnPlateau, ModelCheckpoint\n",
    "from tensorflow.keras.optimizers import Adam\n",
    "from keras.losses import MeanSquaredError\n",
    "from keras.metrics import RootMeanSquaredError"
   ]
  },
  {
   "cell_type": "code",
   "execution_count": 53,
   "id": "3b6c5847-1cc5-4149-b349-ff4f5c638c90",
   "metadata": {},
   "outputs": [
    {
     "data": {
      "text/html": [
       "<pre style=\"white-space:pre;overflow-x:auto;line-height:normal;font-family:Menlo,'DejaVu Sans Mono',consolas,'Courier New',monospace\"><span style=\"font-weight: bold\">Model: \"sequential_3\"</span>\n",
       "</pre>\n"
      ],
      "text/plain": [
       "\u001b[1mModel: \"sequential_3\"\u001b[0m\n"
      ]
     },
     "metadata": {},
     "output_type": "display_data"
    },
    {
     "data": {
      "text/html": [
       "<pre style=\"white-space:pre;overflow-x:auto;line-height:normal;font-family:Menlo,'DejaVu Sans Mono',consolas,'Courier New',monospace\">┏━━━━━━━━━━━━━━━━━━━━━━━━━━━━━━━━━━━━━━┳━━━━━━━━━━━━━━━━━━━━━━━━━━━━━┳━━━━━━━━━━━━━━━━━┓\n",
       "┃<span style=\"font-weight: bold\"> Layer (type)                         </span>┃<span style=\"font-weight: bold\"> Output Shape                </span>┃<span style=\"font-weight: bold\">         Param # </span>┃\n",
       "┡━━━━━━━━━━━━━━━━━━━━━━━━━━━━━━━━━━━━━━╇━━━━━━━━━━━━━━━━━━━━━━━━━━━━━╇━━━━━━━━━━━━━━━━━┩\n",
       "│ conv1d_3 (<span style=\"color: #0087ff; text-decoration-color: #0087ff\">Conv1D</span>)                    │ (<span style=\"color: #00d7ff; text-decoration-color: #00d7ff\">None</span>, <span style=\"color: #00af00; text-decoration-color: #00af00\">166</span>, <span style=\"color: #00af00; text-decoration-color: #00af00\">8</span>)              │              <span style=\"color: #00af00; text-decoration-color: #00af00\">32</span> │\n",
       "├──────────────────────────────────────┼─────────────────────────────┼─────────────────┤\n",
       "│ flatten_3 (<span style=\"color: #0087ff; text-decoration-color: #0087ff\">Flatten</span>)                  │ (<span style=\"color: #00d7ff; text-decoration-color: #00d7ff\">None</span>, <span style=\"color: #00af00; text-decoration-color: #00af00\">1328</span>)                │               <span style=\"color: #00af00; text-decoration-color: #00af00\">0</span> │\n",
       "├──────────────────────────────────────┼─────────────────────────────┼─────────────────┤\n",
       "│ dense_3 (<span style=\"color: #0087ff; text-decoration-color: #0087ff\">Dense</span>)                      │ (<span style=\"color: #00d7ff; text-decoration-color: #00d7ff\">None</span>, <span style=\"color: #00af00; text-decoration-color: #00af00\">168</span>)                 │         <span style=\"color: #00af00; text-decoration-color: #00af00\">223,272</span> │\n",
       "└──────────────────────────────────────┴─────────────────────────────┴─────────────────┘\n",
       "</pre>\n"
      ],
      "text/plain": [
       "┏━━━━━━━━━━━━━━━━━━━━━━━━━━━━━━━━━━━━━━┳━━━━━━━━━━━━━━━━━━━━━━━━━━━━━┳━━━━━━━━━━━━━━━━━┓\n",
       "┃\u001b[1m \u001b[0m\u001b[1mLayer (type)                        \u001b[0m\u001b[1m \u001b[0m┃\u001b[1m \u001b[0m\u001b[1mOutput Shape               \u001b[0m\u001b[1m \u001b[0m┃\u001b[1m \u001b[0m\u001b[1m        Param #\u001b[0m\u001b[1m \u001b[0m┃\n",
       "┡━━━━━━━━━━━━━━━━━━━━━━━━━━━━━━━━━━━━━━╇━━━━━━━━━━━━━━━━━━━━━━━━━━━━━╇━━━━━━━━━━━━━━━━━┩\n",
       "│ conv1d_3 (\u001b[38;5;33mConv1D\u001b[0m)                    │ (\u001b[38;5;45mNone\u001b[0m, \u001b[38;5;34m166\u001b[0m, \u001b[38;5;34m8\u001b[0m)              │              \u001b[38;5;34m32\u001b[0m │\n",
       "├──────────────────────────────────────┼─────────────────────────────┼─────────────────┤\n",
       "│ flatten_3 (\u001b[38;5;33mFlatten\u001b[0m)                  │ (\u001b[38;5;45mNone\u001b[0m, \u001b[38;5;34m1328\u001b[0m)                │               \u001b[38;5;34m0\u001b[0m │\n",
       "├──────────────────────────────────────┼─────────────────────────────┼─────────────────┤\n",
       "│ dense_3 (\u001b[38;5;33mDense\u001b[0m)                      │ (\u001b[38;5;45mNone\u001b[0m, \u001b[38;5;34m168\u001b[0m)                 │         \u001b[38;5;34m223,272\u001b[0m │\n",
       "└──────────────────────────────────────┴─────────────────────────────┴─────────────────┘\n"
      ]
     },
     "metadata": {},
     "output_type": "display_data"
    },
    {
     "data": {
      "text/html": [
       "<pre style=\"white-space:pre;overflow-x:auto;line-height:normal;font-family:Menlo,'DejaVu Sans Mono',consolas,'Courier New',monospace\"><span style=\"font-weight: bold\"> Total params: </span><span style=\"color: #00af00; text-decoration-color: #00af00\">223,304</span> (872.28 KB)\n",
       "</pre>\n"
      ],
      "text/plain": [
       "\u001b[1m Total params: \u001b[0m\u001b[38;5;34m223,304\u001b[0m (872.28 KB)\n"
      ]
     },
     "metadata": {},
     "output_type": "display_data"
    },
    {
     "data": {
      "text/html": [
       "<pre style=\"white-space:pre;overflow-x:auto;line-height:normal;font-family:Menlo,'DejaVu Sans Mono',consolas,'Courier New',monospace\"><span style=\"font-weight: bold\"> Trainable params: </span><span style=\"color: #00af00; text-decoration-color: #00af00\">223,304</span> (872.28 KB)\n",
       "</pre>\n"
      ],
      "text/plain": [
       "\u001b[1m Trainable params: \u001b[0m\u001b[38;5;34m223,304\u001b[0m (872.28 KB)\n"
      ]
     },
     "metadata": {},
     "output_type": "display_data"
    },
    {
     "data": {
      "text/html": [
       "<pre style=\"white-space:pre;overflow-x:auto;line-height:normal;font-family:Menlo,'DejaVu Sans Mono',consolas,'Courier New',monospace\"><span style=\"font-weight: bold\"> Non-trainable params: </span><span style=\"color: #00af00; text-decoration-color: #00af00\">0</span> (0.00 B)\n",
       "</pre>\n"
      ],
      "text/plain": [
       "\u001b[1m Non-trainable params: \u001b[0m\u001b[38;5;34m0\u001b[0m (0.00 B)\n"
      ]
     },
     "metadata": {},
     "output_type": "display_data"
    },
    {
     "name": "stdout",
     "output_type": "stream",
     "text": [
      "Epoch 1/50\n",
      "\u001b[1m388/388\u001b[0m \u001b[32m━━━━━━━━━━━━━━━━━━━━\u001b[0m\u001b[37m\u001b[0m \u001b[1m6s\u001b[0m 10ms/step - loss: 0.0250 - root_mean_squared_error: 0.1427 - val_loss: 0.0050 - val_root_mean_squared_error: 0.0709 - learning_rate: 0.0010\n",
      "Epoch 2/50\n",
      "\u001b[1m388/388\u001b[0m \u001b[32m━━━━━━━━━━━━━━━━━━━━\u001b[0m\u001b[37m\u001b[0m \u001b[1m4s\u001b[0m 9ms/step - loss: 0.0048 - root_mean_squared_error: 0.0689 - val_loss: 0.0047 - val_root_mean_squared_error: 0.0689 - learning_rate: 0.0010\n",
      "Epoch 3/50\n",
      "\u001b[1m388/388\u001b[0m \u001b[32m━━━━━━━━━━━━━━━━━━━━\u001b[0m\u001b[37m\u001b[0m \u001b[1m4s\u001b[0m 9ms/step - loss: 0.0046 - root_mean_squared_error: 0.0680 - val_loss: 0.0051 - val_root_mean_squared_error: 0.0717 - learning_rate: 0.0010\n",
      "Epoch 4/50\n",
      "\u001b[1m388/388\u001b[0m \u001b[32m━━━━━━━━━━━━━━━━━━━━\u001b[0m\u001b[37m\u001b[0m \u001b[1m4s\u001b[0m 9ms/step - loss: 0.0046 - root_mean_squared_error: 0.0675 - val_loss: 0.0047 - val_root_mean_squared_error: 0.0682 - learning_rate: 0.0010\n",
      "Epoch 5/50\n",
      "\u001b[1m388/388\u001b[0m \u001b[32m━━━━━━━━━━━━━━━━━━━━\u001b[0m\u001b[37m\u001b[0m \u001b[1m4s\u001b[0m 10ms/step - loss: 0.0045 - root_mean_squared_error: 0.0672 - val_loss: 0.0045 - val_root_mean_squared_error: 0.0673 - learning_rate: 0.0010\n",
      "Epoch 6/50\n",
      "\u001b[1m388/388\u001b[0m \u001b[32m━━━━━━━━━━━━━━━━━━━━\u001b[0m\u001b[37m\u001b[0m \u001b[1m4s\u001b[0m 10ms/step - loss: 0.0044 - root_mean_squared_error: 0.0667 - val_loss: 0.0044 - val_root_mean_squared_error: 0.0664 - learning_rate: 0.0010\n",
      "Epoch 7/50\n",
      "\u001b[1m388/388\u001b[0m \u001b[32m━━━━━━━━━━━━━━━━━━━━\u001b[0m\u001b[37m\u001b[0m \u001b[1m3s\u001b[0m 9ms/step - loss: 0.0043 - root_mean_squared_error: 0.0657 - val_loss: 0.0044 - val_root_mean_squared_error: 0.0663 - learning_rate: 0.0010\n",
      "Epoch 8/50\n",
      "\u001b[1m388/388\u001b[0m \u001b[32m━━━━━━━━━━━━━━━━━━━━\u001b[0m\u001b[37m\u001b[0m \u001b[1m4s\u001b[0m 10ms/step - loss: 0.0045 - root_mean_squared_error: 0.0667 - val_loss: 0.0045 - val_root_mean_squared_error: 0.0668 - learning_rate: 0.0010\n",
      "Epoch 9/50\n",
      "\u001b[1m388/388\u001b[0m \u001b[32m━━━━━━━━━━━━━━━━━━━━\u001b[0m\u001b[37m\u001b[0m \u001b[1m4s\u001b[0m 10ms/step - loss: 0.0044 - root_mean_squared_error: 0.0661 - val_loss: 0.0043 - val_root_mean_squared_error: 0.0658 - learning_rate: 0.0010\n",
      "Epoch 10/50\n",
      "\u001b[1m388/388\u001b[0m \u001b[32m━━━━━━━━━━━━━━━━━━━━\u001b[0m\u001b[37m\u001b[0m \u001b[1m4s\u001b[0m 9ms/step - loss: 0.0044 - root_mean_squared_error: 0.0667 - val_loss: 0.0043 - val_root_mean_squared_error: 0.0659 - learning_rate: 0.0010\n",
      "Epoch 11/50\n",
      "\u001b[1m388/388\u001b[0m \u001b[32m━━━━━━━━━━━━━━━━━━━━\u001b[0m\u001b[37m\u001b[0m \u001b[1m4s\u001b[0m 10ms/step - loss: 0.0043 - root_mean_squared_error: 0.0654 - val_loss: 0.0045 - val_root_mean_squared_error: 0.0671 - learning_rate: 0.0010\n",
      "Epoch 12/50\n",
      "\u001b[1m388/388\u001b[0m \u001b[32m━━━━━━━━━━━━━━━━━━━━\u001b[0m\u001b[37m\u001b[0m \u001b[1m4s\u001b[0m 9ms/step - loss: 0.0043 - root_mean_squared_error: 0.0657 - val_loss: 0.0043 - val_root_mean_squared_error: 0.0656 - learning_rate: 0.0010\n",
      "Epoch 13/50\n",
      "\u001b[1m388/388\u001b[0m \u001b[32m━━━━━━━━━━━━━━━━━━━━\u001b[0m\u001b[37m\u001b[0m \u001b[1m4s\u001b[0m 9ms/step - loss: 0.0044 - root_mean_squared_error: 0.0660 - val_loss: 0.0042 - val_root_mean_squared_error: 0.0651 - learning_rate: 0.0010\n",
      "Epoch 14/50\n",
      "\u001b[1m388/388\u001b[0m \u001b[32m━━━━━━━━━━━━━━━━━━━━\u001b[0m\u001b[37m\u001b[0m \u001b[1m5s\u001b[0m 12ms/step - loss: 0.0042 - root_mean_squared_error: 0.0650 - val_loss: 0.0043 - val_root_mean_squared_error: 0.0652 - learning_rate: 0.0010\n",
      "Epoch 15/50\n",
      "\u001b[1m388/388\u001b[0m \u001b[32m━━━━━━━━━━━━━━━━━━━━\u001b[0m\u001b[37m\u001b[0m \u001b[1m4s\u001b[0m 9ms/step - loss: 0.0042 - root_mean_squared_error: 0.0651 - val_loss: 0.0045 - val_root_mean_squared_error: 0.0670 - learning_rate: 0.0010\n",
      "Epoch 16/50\n",
      "\u001b[1m388/388\u001b[0m \u001b[32m━━━━━━━━━━━━━━━━━━━━\u001b[0m\u001b[37m\u001b[0m \u001b[1m4s\u001b[0m 9ms/step - loss: 0.0043 - root_mean_squared_error: 0.0658 - val_loss: 0.0045 - val_root_mean_squared_error: 0.0669 - learning_rate: 0.0010\n",
      "Epoch 17/50\n",
      "\u001b[1m388/388\u001b[0m \u001b[32m━━━━━━━━━━━━━━━━━━━━\u001b[0m\u001b[37m\u001b[0m \u001b[1m4s\u001b[0m 9ms/step - loss: 0.0044 - root_mean_squared_error: 0.0661 - val_loss: 0.0045 - val_root_mean_squared_error: 0.0672 - learning_rate: 0.0010\n",
      "Epoch 18/50\n",
      "\u001b[1m388/388\u001b[0m \u001b[32m━━━━━━━━━━━━━━━━━━━━\u001b[0m\u001b[37m\u001b[0m \u001b[1m4s\u001b[0m 10ms/step - loss: 0.0042 - root_mean_squared_error: 0.0648 - val_loss: 0.0042 - val_root_mean_squared_error: 0.0651 - learning_rate: 0.0010\n",
      "Epoch 19/50\n",
      "\u001b[1m388/388\u001b[0m \u001b[32m━━━━━━━━━━━━━━━━━━━━\u001b[0m\u001b[37m\u001b[0m \u001b[1m4s\u001b[0m 9ms/step - loss: 0.0041 - root_mean_squared_error: 0.0640 - val_loss: 0.0042 - val_root_mean_squared_error: 0.0650 - learning_rate: 0.0010\n",
      "Epoch 20/50\n",
      "\u001b[1m388/388\u001b[0m \u001b[32m━━━━━━━━━━━━━━━━━━━━\u001b[0m\u001b[37m\u001b[0m \u001b[1m4s\u001b[0m 11ms/step - loss: 0.0041 - root_mean_squared_error: 0.0644 - val_loss: 0.0045 - val_root_mean_squared_error: 0.0667 - learning_rate: 0.0010\n",
      "Epoch 21/50\n",
      "\u001b[1m388/388\u001b[0m \u001b[32m━━━━━━━━━━━━━━━━━━━━\u001b[0m\u001b[37m\u001b[0m \u001b[1m4s\u001b[0m 9ms/step - loss: 0.0042 - root_mean_squared_error: 0.0651 - val_loss: 0.0042 - val_root_mean_squared_error: 0.0650 - learning_rate: 0.0010\n",
      "Epoch 22/50\n",
      "\u001b[1m388/388\u001b[0m \u001b[32m━━━━━━━━━━━━━━━━━━━━\u001b[0m\u001b[37m\u001b[0m \u001b[1m4s\u001b[0m 11ms/step - loss: 0.0041 - root_mean_squared_error: 0.0640 - val_loss: 0.0042 - val_root_mean_squared_error: 0.0647 - learning_rate: 0.0010\n",
      "Epoch 23/50\n",
      "\u001b[1m388/388\u001b[0m \u001b[32m━━━━━━━━━━━━━━━━━━━━\u001b[0m\u001b[37m\u001b[0m \u001b[1m4s\u001b[0m 10ms/step - loss: 0.0041 - root_mean_squared_error: 0.0641 - val_loss: 0.0044 - val_root_mean_squared_error: 0.0663 - learning_rate: 0.0010\n",
      "Epoch 24/50\n",
      "\u001b[1m388/388\u001b[0m \u001b[32m━━━━━━━━━━━━━━━━━━━━\u001b[0m\u001b[37m\u001b[0m \u001b[1m4s\u001b[0m 10ms/step - loss: 0.0042 - root_mean_squared_error: 0.0646 - val_loss: 0.0042 - val_root_mean_squared_error: 0.0650 - learning_rate: 0.0010\n",
      "Epoch 25/50\n",
      "\u001b[1m388/388\u001b[0m \u001b[32m━━━━━━━━━━━━━━━━━━━━\u001b[0m\u001b[37m\u001b[0m \u001b[1m4s\u001b[0m 10ms/step - loss: 0.0041 - root_mean_squared_error: 0.0641 - val_loss: 0.0041 - val_root_mean_squared_error: 0.0644 - learning_rate: 0.0010\n",
      "Epoch 26/50\n",
      "\u001b[1m388/388\u001b[0m \u001b[32m━━━━━━━━━━━━━━━━━━━━\u001b[0m\u001b[37m\u001b[0m \u001b[1m4s\u001b[0m 10ms/step - loss: 0.0041 - root_mean_squared_error: 0.0636 - val_loss: 0.0042 - val_root_mean_squared_error: 0.0651 - learning_rate: 0.0010\n",
      "Epoch 27/50\n",
      "\u001b[1m388/388\u001b[0m \u001b[32m━━━━━━━━━━━━━━━━━━━━\u001b[0m\u001b[37m\u001b[0m \u001b[1m4s\u001b[0m 9ms/step - loss: 0.0041 - root_mean_squared_error: 0.0638 - val_loss: 0.0042 - val_root_mean_squared_error: 0.0647 - learning_rate: 0.0010\n",
      "Epoch 28/50\n",
      "\u001b[1m388/388\u001b[0m \u001b[32m━━━━━━━━━━━━━━━━━━━━\u001b[0m\u001b[37m\u001b[0m \u001b[1m5s\u001b[0m 9ms/step - loss: 0.0040 - root_mean_squared_error: 0.0632 - val_loss: 0.0042 - val_root_mean_squared_error: 0.0647 - learning_rate: 0.0010\n",
      "Epoch 29/50\n",
      "\u001b[1m388/388\u001b[0m \u001b[32m━━━━━━━━━━━━━━━━━━━━\u001b[0m\u001b[37m\u001b[0m \u001b[1m4s\u001b[0m 10ms/step - loss: 0.0040 - root_mean_squared_error: 0.0635 - val_loss: 0.0041 - val_root_mean_squared_error: 0.0641 - learning_rate: 0.0010\n",
      "Epoch 30/50\n",
      "\u001b[1m388/388\u001b[0m \u001b[32m━━━━━━━━━━━━━━━━━━━━\u001b[0m\u001b[37m\u001b[0m \u001b[1m7s\u001b[0m 14ms/step - loss: 0.0040 - root_mean_squared_error: 0.0636 - val_loss: 0.0041 - val_root_mean_squared_error: 0.0643 - learning_rate: 0.0010\n",
      "Epoch 31/50\n",
      "\u001b[1m388/388\u001b[0m \u001b[32m━━━━━━━━━━━━━━━━━━━━\u001b[0m\u001b[37m\u001b[0m \u001b[1m4s\u001b[0m 10ms/step - loss: 0.0040 - root_mean_squared_error: 0.0629 - val_loss: 0.0046 - val_root_mean_squared_error: 0.0676 - learning_rate: 0.0010\n",
      "Epoch 32/50\n",
      "\u001b[1m388/388\u001b[0m \u001b[32m━━━━━━━━━━━━━━━━━━━━\u001b[0m\u001b[37m\u001b[0m \u001b[1m4s\u001b[0m 11ms/step - loss: 0.0040 - root_mean_squared_error: 0.0634 - val_loss: 0.0042 - val_root_mean_squared_error: 0.0647 - learning_rate: 0.0010\n",
      "Epoch 33/50\n",
      "\u001b[1m388/388\u001b[0m \u001b[32m━━━━━━━━━━━━━━━━━━━━\u001b[0m\u001b[37m\u001b[0m \u001b[1m4s\u001b[0m 10ms/step - loss: 0.0039 - root_mean_squared_error: 0.0623 - val_loss: 0.0040 - val_root_mean_squared_error: 0.0635 - learning_rate: 1.0000e-04\n",
      "Epoch 34/50\n",
      "\u001b[1m388/388\u001b[0m \u001b[32m━━━━━━━━━━━━━━━━━━━━\u001b[0m\u001b[37m\u001b[0m \u001b[1m4s\u001b[0m 10ms/step - loss: 0.0038 - root_mean_squared_error: 0.0620 - val_loss: 0.0040 - val_root_mean_squared_error: 0.0636 - learning_rate: 1.0000e-04\n",
      "Epoch 35/50\n",
      "\u001b[1m388/388\u001b[0m \u001b[32m━━━━━━━━━━━━━━━━━━━━\u001b[0m\u001b[37m\u001b[0m \u001b[1m4s\u001b[0m 9ms/step - loss: 0.0038 - root_mean_squared_error: 0.0620 - val_loss: 0.0040 - val_root_mean_squared_error: 0.0634 - learning_rate: 1.0000e-04\n",
      "Epoch 36/50\n",
      "\u001b[1m388/388\u001b[0m \u001b[32m━━━━━━━━━━━━━━━━━━━━\u001b[0m\u001b[37m\u001b[0m \u001b[1m4s\u001b[0m 9ms/step - loss: 0.0039 - root_mean_squared_error: 0.0621 - val_loss: 0.0040 - val_root_mean_squared_error: 0.0635 - learning_rate: 1.0000e-04\n",
      "Epoch 37/50\n",
      "\u001b[1m388/388\u001b[0m \u001b[32m━━━━━━━━━━━━━━━━━━━━\u001b[0m\u001b[37m\u001b[0m \u001b[1m4s\u001b[0m 9ms/step - loss: 0.0038 - root_mean_squared_error: 0.0618 - val_loss: 0.0040 - val_root_mean_squared_error: 0.0635 - learning_rate: 1.0000e-04\n",
      "Epoch 38/50\n",
      "\u001b[1m388/388\u001b[0m \u001b[32m━━━━━━━━━━━━━━━━━━━━\u001b[0m\u001b[37m\u001b[0m \u001b[1m4s\u001b[0m 10ms/step - loss: 0.0039 - root_mean_squared_error: 0.0623 - val_loss: 0.0040 - val_root_mean_squared_error: 0.0634 - learning_rate: 1.0000e-04\n",
      "Epoch 39/50\n",
      "\u001b[1m388/388\u001b[0m \u001b[32m━━━━━━━━━━━━━━━━━━━━\u001b[0m\u001b[37m\u001b[0m \u001b[1m4s\u001b[0m 10ms/step - loss: 0.0037 - root_mean_squared_error: 0.0612 - val_loss: 0.0040 - val_root_mean_squared_error: 0.0634 - learning_rate: 1.0000e-04\n",
      "Epoch 40/50\n",
      "\u001b[1m388/388\u001b[0m \u001b[32m━━━━━━━━━━━━━━━━━━━━\u001b[0m\u001b[37m\u001b[0m \u001b[1m4s\u001b[0m 9ms/step - loss: 0.0038 - root_mean_squared_error: 0.0616 - val_loss: 0.0040 - val_root_mean_squared_error: 0.0635 - learning_rate: 1.0000e-04\n",
      "Epoch 41/50\n",
      "\u001b[1m388/388\u001b[0m \u001b[32m━━━━━━━━━━━━━━━━━━━━\u001b[0m\u001b[37m\u001b[0m \u001b[1m4s\u001b[0m 10ms/step - loss: 0.0038 - root_mean_squared_error: 0.0616 - val_loss: 0.0040 - val_root_mean_squared_error: 0.0635 - learning_rate: 1.0000e-04\n",
      "Epoch 42/50\n",
      "\u001b[1m388/388\u001b[0m \u001b[32m━━━━━━━━━━━━━━━━━━━━\u001b[0m\u001b[37m\u001b[0m \u001b[1m4s\u001b[0m 9ms/step - loss: 0.0037 - root_mean_squared_error: 0.0612 - val_loss: 0.0040 - val_root_mean_squared_error: 0.0635 - learning_rate: 1.0000e-04\n",
      "Epoch 43/50\n",
      "\u001b[1m388/388\u001b[0m \u001b[32m━━━━━━━━━━━━━━━━━━━━\u001b[0m\u001b[37m\u001b[0m \u001b[1m4s\u001b[0m 10ms/step - loss: 0.0039 - root_mean_squared_error: 0.0621 - val_loss: 0.0040 - val_root_mean_squared_error: 0.0633 - learning_rate: 1.0000e-04\n",
      "Epoch 44/50\n",
      "\u001b[1m388/388\u001b[0m \u001b[32m━━━━━━━━━━━━━━━━━━━━\u001b[0m\u001b[37m\u001b[0m \u001b[1m5s\u001b[0m 12ms/step - loss: 0.0038 - root_mean_squared_error: 0.0616 - val_loss: 0.0040 - val_root_mean_squared_error: 0.0634 - learning_rate: 1.0000e-05\n",
      "Epoch 45/50\n",
      "\u001b[1m388/388\u001b[0m \u001b[32m━━━━━━━━━━━━━━━━━━━━\u001b[0m\u001b[37m\u001b[0m \u001b[1m5s\u001b[0m 12ms/step - loss: 0.0038 - root_mean_squared_error: 0.0619 - val_loss: 0.0040 - val_root_mean_squared_error: 0.0634 - learning_rate: 1.0000e-05\n",
      "Epoch 46/50\n",
      "\u001b[1m388/388\u001b[0m \u001b[32m━━━━━━━━━━━━━━━━━━━━\u001b[0m\u001b[37m\u001b[0m \u001b[1m4s\u001b[0m 10ms/step - loss: 0.0038 - root_mean_squared_error: 0.0613 - val_loss: 0.0040 - val_root_mean_squared_error: 0.0633 - learning_rate: 1.0000e-05\n",
      "Epoch 47/50\n",
      "\u001b[1m388/388\u001b[0m \u001b[32m━━━━━━━━━━━━━━━━━━━━\u001b[0m\u001b[37m\u001b[0m \u001b[1m4s\u001b[0m 10ms/step - loss: 0.0038 - root_mean_squared_error: 0.0615 - val_loss: 0.0040 - val_root_mean_squared_error: 0.0634 - learning_rate: 1.0000e-05\n",
      "Epoch 48/50\n",
      "\u001b[1m388/388\u001b[0m \u001b[32m━━━━━━━━━━━━━━━━━━━━\u001b[0m\u001b[37m\u001b[0m \u001b[1m4s\u001b[0m 9ms/step - loss: 0.0038 - root_mean_squared_error: 0.0620 - val_loss: 0.0040 - val_root_mean_squared_error: 0.0634 - learning_rate: 1.0000e-05\n",
      "Epoch 49/50\n",
      "\u001b[1m388/388\u001b[0m \u001b[32m━━━━━━━━━━━━━━━━━━━━\u001b[0m\u001b[37m\u001b[0m \u001b[1m4s\u001b[0m 9ms/step - loss: 0.0038 - root_mean_squared_error: 0.0615 - val_loss: 0.0040 - val_root_mean_squared_error: 0.0633 - learning_rate: 1.0000e-05\n",
      "Epoch 50/50\n",
      "\u001b[1m388/388\u001b[0m \u001b[32m━━━━━━━━━━━━━━━━━━━━\u001b[0m\u001b[37m\u001b[0m \u001b[1m4s\u001b[0m 10ms/step - loss: 0.0038 - root_mean_squared_error: 0.0616 - val_loss: 0.0040 - val_root_mean_squared_error: 0.0633 - learning_rate: 1.0000e-05\n"
     ]
    }
   ],
   "source": [
    "normalizer = Normalization()\n",
    "normalizer.adapt(X_train)\n",
    "rlrop = ReduceLROnPlateau(monitor='val_loss', factor=0.1, patience=10)\n",
    "\n",
    "model = Sequential()\n",
    "# 1D Convolutional layers\n",
    "model.add(Conv1D(filters=8, kernel_size=3, activation='relu', input_shape=X_train.shape[1:]))\n",
    "# model.add(Conv1D(filters=64, kernel_size=3, activation='relu'))\n",
    "# model.add(Conv1D(filters=32, kernel_size=3, activation='relu'))\n",
    "# Flatten the output of the Conv layers\n",
    "model.add(Flatten())\n",
    "# model.add(LSTM(input_shape = X_train.shape[1:], units=86, return_sequences=True))\n",
    "# model.add(LSTM(units=64, return_sequences=True))\n",
    "# model.add(GRU(units=86, return_sequences=True))\n",
    "# model.add(LSTM(units=128, return_sequences=True))\n",
    "# model.add(GRU(units=100, return_sequences=True))\n",
    "# model.add(LSTM(units=100, return_sequences=False))\n",
    "# model.add(Dense(units=100,  activation='relu'))\n",
    "# model.add(Dense(8, activation='relu'))\n",
    "\n",
    "model.add(Dense(units=FORECAST_LENGTH, activation='linear'))\n",
    "\n",
    "model.summary()\n",
    "\n",
    "model.compile(optimizer=Adam(learning_rate=0.001), metrics=[RootMeanSquaredError()] , loss=MeanSquaredError())\n",
    "\n",
    "history = model.fit(X_train, y_train, validation_data=(X_val,y_val), epochs=50, callbacks=[rlrop])\n",
    "\n",
    "# score = model.evaluate(X_test, y_test, verbose = 1)"
   ]
  },
  {
   "cell_type": "code",
   "execution_count": 54,
   "id": "5674b419-12bd-4a4e-a83d-2438ae813939",
   "metadata": {},
   "outputs": [
    {
     "name": "stdout",
     "output_type": "stream",
     "text": [
      "\u001b[1m122/122\u001b[0m \u001b[32m━━━━━━━━━━━━━━━━━━━━\u001b[0m\u001b[37m\u001b[0m \u001b[1m1s\u001b[0m 4ms/step\n"
     ]
    }
   ],
   "source": [
    "forecast = model.predict(X_test)"
   ]
  },
  {
   "cell_type": "code",
   "execution_count": 55,
   "id": "abb7c26e-b6e8-4526-aa4e-9180825c9d51",
   "metadata": {},
   "outputs": [],
   "source": [
    "poll = np.array(df[\"temp\"])\n",
    "\n",
    "meanop = poll.mean()\n",
    "stdop = poll.std()\n",
    "\n",
    "y_test_true = y_test*stdop + meanop\n",
    "testPredict = forecast*stdop + meanop"
   ]
  },
  {
   "cell_type": "code",
   "execution_count": 56,
   "id": "cccf66c7-77a1-483d-8b28-e5df8056b4b6",
   "metadata": {},
   "outputs": [],
   "source": [
    "from sklearn.metrics import mean_squared_error"
   ]
  },
  {
   "cell_type": "code",
   "execution_count": 57,
   "id": "3e3a186b-a281-4964-9581-f8f73931e019",
   "metadata": {},
   "outputs": [
    {
     "name": "stdout",
     "output_type": "stream",
     "text": [
      "Test RMSE = 0.55300534\n"
     ]
    }
   ],
   "source": [
    "rmse = np.sqrt(mean_squared_error(y_test_true, testPredict))\n",
    "print(\"Test RMSE =\"  ,rmse)"
   ]
  },
  {
   "cell_type": "code",
   "execution_count": 58,
   "id": "7654b701-6ba9-4602-8611-59820b6311e4",
   "metadata": {},
   "outputs": [
    {
     "data": {
      "text/plain": [
       "array([[0.5388701 , 0.5238198 , 0.52352834, ..., 0.60559887, 0.5902555 ,\n",
       "        0.57325995],\n",
       "       [0.8818791 , 0.8673883 , 0.84816957, ..., 0.7438789 , 0.75232553,\n",
       "        0.796959  ],\n",
       "       [0.5157469 , 0.5943804 , 0.6199081 , ..., 0.43599945, 0.4717365 ,\n",
       "        0.49238998],\n",
       "       ...,\n",
       "       [0.39043373, 0.3692348 , 0.3686052 , ..., 0.2906848 , 0.3165629 ,\n",
       "        0.39325747],\n",
       "       [0.5890337 , 0.61486745, 0.66718566, ..., 0.48431444, 0.47819823,\n",
       "        0.4782009 ],\n",
       "       [0.5541259 , 0.517329  , 0.5086943 , ..., 0.61185694, 0.5514315 ,\n",
       "        0.5335064 ]], dtype=float32)"
      ]
     },
     "execution_count": 58,
     "metadata": {},
     "output_type": "execute_result"
    }
   ],
   "source": [
    "forecast"
   ]
  },
  {
   "cell_type": "code",
   "execution_count": 59,
   "id": "7ea98a00-c789-49d3-bdfe-1c06c5364c33",
   "metadata": {},
   "outputs": [
    {
     "data": {
      "text/plain": [
       "array([[28.670357, 28.539068, 28.536526, ..., 29.25245 , 29.118607,\n",
       "        28.970348],\n",
       "       [31.662521, 31.536114, 31.368465, ..., 30.458706, 30.532389,\n",
       "        30.92174 ],\n",
       "       [28.468647, 29.154589, 29.377274, ..., 27.772987, 28.084732,\n",
       "        28.264896],\n",
       "       ...,\n",
       "       [27.375504, 27.190578, 27.185087, ..., 26.505365, 26.731108,\n",
       "        27.400135],\n",
       "       [29.107948, 29.333303, 29.78969 , ..., 28.194452, 28.141098,\n",
       "        28.14112 ],\n",
       "       [28.803436, 28.482447, 28.407124, ..., 29.307041, 28.779934,\n",
       "        28.623568]], dtype=float32)"
      ]
     },
     "execution_count": 59,
     "metadata": {},
     "output_type": "execute_result"
    }
   ],
   "source": [
    "testPredict"
   ]
  },
  {
   "cell_type": "code",
   "execution_count": 60,
   "id": "4e4e0314-523d-408f-9858-83e62f6ef22e",
   "metadata": {},
   "outputs": [
    {
     "data": {
      "text/plain": [
       "array([[28.663692, 28.663692, 28.744278, ..., 29.630709, 29.630709,\n",
       "        29.489685],\n",
       "       [31.645325, 31.423717, 31.343132, ..., 31.947517, 32.08854 ,\n",
       "        32.551903],\n",
       "       [28.442085, 29.268078, 29.489685, ..., 28.280916, 29.026325,\n",
       "        29.106909],\n",
       "       ...,\n",
       "       [27.394485, 27.172878, 27.172878, ..., 25.762648, 25.984255,\n",
       "        26.508055],\n",
       "       [28.804716, 28.965885, 29.409101, ..., 28.663692, 28.663692,\n",
       "        28.663692],\n",
       "       [28.804716, 28.220478, 28.220478, ..., 29.187494, 28.280916,\n",
       "        28.139893]], dtype=float32)"
      ]
     },
     "execution_count": 60,
     "metadata": {},
     "output_type": "execute_result"
    }
   ],
   "source": [
    "y_test_true"
   ]
  },
  {
   "cell_type": "code",
   "execution_count": 62,
   "id": "54566e15-d957-4ac0-ae91-922d2fd111b1",
   "metadata": {},
   "outputs": [],
   "source": [
    "import numpy as np\n",
    "\n",
    "def calculate_segment_rmse(predictions, actuals, segment_length=1):\n",
    "    num_segments = predictions.shape[1] // segment_length\n",
    "    rmses = []\n",
    "    \n",
    "    for i in range(num_segments):\n",
    "        start_idx = i * segment_length\n",
    "        end_idx = start_idx + segment_length\n",
    "        \n",
    "        # Extract the segment for both predictions and actuals\n",
    "        pred_segment = predictions[:, start_idx:end_idx]\n",
    "        actual_segment = actuals[:, start_idx:end_idx]\n",
    "        \n",
    "        # Calculate RMSE for this segment\n",
    "        segment_rmse = np.sqrt(mean_squared_error(actual_segment.flatten(), pred_segment.flatten()))\n",
    "        rmses.append(segment_rmse)\n",
    "    \n",
    "    return rmses"
   ]
  },
  {
   "cell_type": "code",
   "execution_count": 63,
   "id": "9f31d5c8-5aa9-4fe9-b2bd-106df4144e3b",
   "metadata": {},
   "outputs": [
    {
     "name": "stdout",
     "output_type": "stream",
     "text": [
      "RMSE for segment 1: 0.1372\n",
      "RMSE for segment 2: 0.1890\n",
      "RMSE for segment 3: 0.2286\n",
      "RMSE for segment 4: 0.2678\n",
      "RMSE for segment 5: 0.2927\n",
      "RMSE for segment 6: 0.3161\n",
      "RMSE for segment 7: 0.3300\n",
      "RMSE for segment 8: 0.3461\n",
      "RMSE for segment 9: 0.3608\n",
      "RMSE for segment 10: 0.3675\n",
      "RMSE for segment 11: 0.3756\n",
      "RMSE for segment 12: 0.3801\n",
      "RMSE for segment 13: 0.3783\n",
      "RMSE for segment 14: 0.3813\n",
      "RMSE for segment 15: 0.3806\n",
      "RMSE for segment 16: 0.3811\n",
      "RMSE for segment 17: 0.3859\n",
      "RMSE for segment 18: 0.3873\n",
      "RMSE for segment 19: 0.3922\n",
      "RMSE for segment 20: 0.3948\n",
      "RMSE for segment 21: 0.3958\n",
      "RMSE for segment 22: 0.3996\n",
      "RMSE for segment 23: 0.3997\n",
      "RMSE for segment 24: 0.4003\n",
      "RMSE for segment 25: 0.4094\n",
      "RMSE for segment 26: 0.4163\n",
      "RMSE for segment 27: 0.4258\n",
      "RMSE for segment 28: 0.4373\n",
      "RMSE for segment 29: 0.4479\n",
      "RMSE for segment 30: 0.4521\n",
      "RMSE for segment 31: 0.4586\n",
      "RMSE for segment 32: 0.4637\n",
      "RMSE for segment 33: 0.4667\n",
      "RMSE for segment 34: 0.4695\n",
      "RMSE for segment 35: 0.4751\n",
      "RMSE for segment 36: 0.4794\n",
      "RMSE for segment 37: 0.4777\n",
      "RMSE for segment 38: 0.4740\n",
      "RMSE for segment 39: 0.4776\n",
      "RMSE for segment 40: 0.4792\n",
      "RMSE for segment 41: 0.4816\n",
      "RMSE for segment 42: 0.4839\n",
      "RMSE for segment 43: 0.4887\n",
      "RMSE for segment 44: 0.4878\n",
      "RMSE for segment 45: 0.4895\n",
      "RMSE for segment 46: 0.4923\n",
      "RMSE for segment 47: 0.4935\n",
      "RMSE for segment 48: 0.4952\n",
      "RMSE for segment 49: 0.5023\n",
      "RMSE for segment 50: 0.5044\n",
      "RMSE for segment 51: 0.5066\n",
      "RMSE for segment 52: 0.5145\n",
      "RMSE for segment 53: 0.5190\n",
      "RMSE for segment 54: 0.5199\n",
      "RMSE for segment 55: 0.5219\n",
      "RMSE for segment 56: 0.5249\n",
      "RMSE for segment 57: 0.5328\n",
      "RMSE for segment 58: 0.5367\n",
      "RMSE for segment 59: 0.5448\n",
      "RMSE for segment 60: 0.5472\n",
      "RMSE for segment 61: 0.5480\n",
      "RMSE for segment 62: 0.5463\n",
      "RMSE for segment 63: 0.5502\n",
      "RMSE for segment 64: 0.5478\n",
      "RMSE for segment 65: 0.5502\n",
      "RMSE for segment 66: 0.5515\n",
      "RMSE for segment 67: 0.5490\n",
      "RMSE for segment 68: 0.5463\n",
      "RMSE for segment 69: 0.5443\n",
      "RMSE for segment 70: 0.5425\n",
      "RMSE for segment 71: 0.5414\n",
      "RMSE for segment 72: 0.5424\n",
      "RMSE for segment 73: 0.5475\n",
      "RMSE for segment 74: 0.5460\n",
      "RMSE for segment 75: 0.5521\n",
      "RMSE for segment 76: 0.5562\n",
      "RMSE for segment 77: 0.5575\n",
      "RMSE for segment 78: 0.5626\n",
      "RMSE for segment 79: 0.5657\n",
      "RMSE for segment 80: 0.5656\n",
      "RMSE for segment 81: 0.5684\n",
      "RMSE for segment 82: 0.5736\n",
      "RMSE for segment 83: 0.5742\n",
      "RMSE for segment 84: 0.5781\n",
      "RMSE for segment 85: 0.5796\n",
      "RMSE for segment 86: 0.5795\n",
      "RMSE for segment 87: 0.5793\n",
      "RMSE for segment 88: 0.5729\n",
      "RMSE for segment 89: 0.5698\n",
      "RMSE for segment 90: 0.5716\n",
      "RMSE for segment 91: 0.5705\n",
      "RMSE for segment 92: 0.5656\n",
      "RMSE for segment 93: 0.5684\n",
      "RMSE for segment 94: 0.5725\n",
      "RMSE for segment 95: 0.5672\n",
      "RMSE for segment 96: 0.5707\n",
      "RMSE for segment 97: 0.5719\n",
      "RMSE for segment 98: 0.5728\n",
      "RMSE for segment 99: 0.5768\n",
      "RMSE for segment 100: 0.5820\n",
      "RMSE for segment 101: 0.5872\n",
      "RMSE for segment 102: 0.5900\n",
      "RMSE for segment 103: 0.5940\n",
      "RMSE for segment 104: 0.5967\n",
      "RMSE for segment 105: 0.5992\n",
      "RMSE for segment 106: 0.6065\n",
      "RMSE for segment 107: 0.6076\n",
      "RMSE for segment 108: 0.6097\n",
      "RMSE for segment 109: 0.6080\n",
      "RMSE for segment 110: 0.6090\n",
      "RMSE for segment 111: 0.6093\n",
      "RMSE for segment 112: 0.6103\n",
      "RMSE for segment 113: 0.6105\n",
      "RMSE for segment 114: 0.6113\n",
      "RMSE for segment 115: 0.6136\n",
      "RMSE for segment 116: 0.6133\n",
      "RMSE for segment 117: 0.6138\n",
      "RMSE for segment 118: 0.6140\n",
      "RMSE for segment 119: 0.6135\n",
      "RMSE for segment 120: 0.6105\n",
      "RMSE for segment 121: 0.6139\n",
      "RMSE for segment 122: 0.6121\n",
      "RMSE for segment 123: 0.6135\n",
      "RMSE for segment 124: 0.6180\n",
      "RMSE for segment 125: 0.6242\n",
      "RMSE for segment 126: 0.6271\n",
      "RMSE for segment 127: 0.6295\n",
      "RMSE for segment 128: 0.6364\n",
      "RMSE for segment 129: 0.6376\n",
      "RMSE for segment 130: 0.6408\n",
      "RMSE for segment 131: 0.6404\n",
      "RMSE for segment 132: 0.6415\n",
      "RMSE for segment 133: 0.6445\n",
      "RMSE for segment 134: 0.6407\n",
      "RMSE for segment 135: 0.6386\n",
      "RMSE for segment 136: 0.6361\n",
      "RMSE for segment 137: 0.6335\n",
      "RMSE for segment 138: 0.6377\n",
      "RMSE for segment 139: 0.6434\n",
      "RMSE for segment 140: 0.6401\n",
      "RMSE for segment 141: 0.6367\n",
      "RMSE for segment 142: 0.6351\n",
      "RMSE for segment 143: 0.6319\n",
      "RMSE for segment 144: 0.6308\n",
      "RMSE for segment 145: 0.6331\n",
      "RMSE for segment 146: 0.6310\n",
      "RMSE for segment 147: 0.6316\n",
      "RMSE for segment 148: 0.6343\n",
      "RMSE for segment 149: 0.6391\n",
      "RMSE for segment 150: 0.6426\n",
      "RMSE for segment 151: 0.6465\n",
      "RMSE for segment 152: 0.6501\n",
      "RMSE for segment 153: 0.6526\n",
      "RMSE for segment 154: 0.6577\n",
      "RMSE for segment 155: 0.6597\n",
      "RMSE for segment 156: 0.6639\n",
      "RMSE for segment 157: 0.6607\n",
      "RMSE for segment 158: 0.6629\n",
      "RMSE for segment 159: 0.6648\n",
      "RMSE for segment 160: 0.6664\n",
      "RMSE for segment 161: 0.6646\n",
      "RMSE for segment 162: 0.6703\n",
      "RMSE for segment 163: 0.6660\n",
      "RMSE for segment 164: 0.6610\n",
      "RMSE for segment 165: 0.6609\n",
      "RMSE for segment 166: 0.6594\n",
      "RMSE for segment 167: 0.6562\n",
      "RMSE for segment 168: 0.6549\n"
     ]
    }
   ],
   "source": [
    "segment_rmses = calculate_segment_rmse(testPredict, y_test_true)\n",
    "for i, rmse in enumerate(segment_rmses):\n",
    "    print(f\"RMSE for segment {i + 1}: {rmse:.4f}\")"
   ]
  },
  {
   "cell_type": "code",
   "execution_count": 61,
   "id": "85765500-cf61-4e8a-8763-69a8f1e567ca",
   "metadata": {},
   "outputs": [],
   "source": [
    "model.save(\"temp_1dcnn.keras\")"
   ]
  }
 ],
 "metadata": {
  "kernelspec": {
   "display_name": "Python 3 (ipykernel)",
   "language": "python",
   "name": "python3"
  },
  "language_info": {
   "codemirror_mode": {
    "name": "ipython",
    "version": 3
   },
   "file_extension": ".py",
   "mimetype": "text/x-python",
   "name": "python",
   "nbconvert_exporter": "python",
   "pygments_lexer": "ipython3",
   "version": "3.11.0"
  }
 },
 "nbformat": 4,
 "nbformat_minor": 5
}
