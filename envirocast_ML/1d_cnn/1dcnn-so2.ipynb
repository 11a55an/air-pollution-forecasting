{
 "cells": [
  {
   "cell_type": "code",
   "execution_count": 1,
   "id": "08a7b78b-1d09-454f-8ecc-7c4184ab2240",
   "metadata": {},
   "outputs": [],
   "source": [
    "import pandas as pd\n",
    "import numpy as np"
   ]
  },
  {
   "cell_type": "code",
   "execution_count": 2,
   "id": "c1570c26-8e22-4498-9fe6-68e055e504a9",
   "metadata": {},
   "outputs": [],
   "source": [
    "df = pd.read_csv(\"../data/data_imputed_3.csv\")"
   ]
  },
  {
   "cell_type": "code",
   "execution_count": 20,
   "id": "55868db8-2144-49a3-9531-e4bf0728f0a2",
   "metadata": {},
   "outputs": [
    {
     "data": {
      "text/html": [
       "<div>\n",
       "<style scoped>\n",
       "    .dataframe tbody tr th:only-of-type {\n",
       "        vertical-align: middle;\n",
       "    }\n",
       "\n",
       "    .dataframe tbody tr th {\n",
       "        vertical-align: top;\n",
       "    }\n",
       "\n",
       "    .dataframe thead th {\n",
       "        text-align: right;\n",
       "    }\n",
       "</style>\n",
       "<table border=\"1\" class=\"dataframe\">\n",
       "  <thead>\n",
       "    <tr style=\"text-align: right;\">\n",
       "      <th></th>\n",
       "      <th>timestamp_local</th>\n",
       "      <th>temp</th>\n",
       "      <th>aqi</th>\n",
       "      <th>co</th>\n",
       "      <th>no2</th>\n",
       "      <th>o3</th>\n",
       "      <th>pm10</th>\n",
       "      <th>pm25</th>\n",
       "      <th>so2</th>\n",
       "    </tr>\n",
       "  </thead>\n",
       "  <tbody>\n",
       "    <tr>\n",
       "      <th>0</th>\n",
       "      <td>01/02/2022 0:00</td>\n",
       "      <td>12.6</td>\n",
       "      <td>385</td>\n",
       "      <td>1339.8</td>\n",
       "      <td>76.0</td>\n",
       "      <td>10.7</td>\n",
       "      <td>491.7</td>\n",
       "      <td>347.67</td>\n",
       "      <td>238.0</td>\n",
       "    </tr>\n",
       "    <tr>\n",
       "      <th>1</th>\n",
       "      <td>01/02/2022 1:00</td>\n",
       "      <td>11.5</td>\n",
       "      <td>404</td>\n",
       "      <td>1437.6</td>\n",
       "      <td>76.0</td>\n",
       "      <td>9.3</td>\n",
       "      <td>508.3</td>\n",
       "      <td>359.33</td>\n",
       "      <td>268.0</td>\n",
       "    </tr>\n",
       "    <tr>\n",
       "      <th>2</th>\n",
       "      <td>01/02/2022 2:00</td>\n",
       "      <td>11.9</td>\n",
       "      <td>421</td>\n",
       "      <td>1535.5</td>\n",
       "      <td>76.0</td>\n",
       "      <td>8.0</td>\n",
       "      <td>525.0</td>\n",
       "      <td>371.00</td>\n",
       "      <td>298.0</td>\n",
       "    </tr>\n",
       "    <tr>\n",
       "      <th>3</th>\n",
       "      <td>01/02/2022 3:00</td>\n",
       "      <td>12.2</td>\n",
       "      <td>425</td>\n",
       "      <td>1659.0</td>\n",
       "      <td>68.3</td>\n",
       "      <td>5.3</td>\n",
       "      <td>529.3</td>\n",
       "      <td>374.00</td>\n",
       "      <td>275.7</td>\n",
       "    </tr>\n",
       "    <tr>\n",
       "      <th>4</th>\n",
       "      <td>01/02/2022 4:00</td>\n",
       "      <td>11.9</td>\n",
       "      <td>430</td>\n",
       "      <td>1782.5</td>\n",
       "      <td>60.7</td>\n",
       "      <td>2.7</td>\n",
       "      <td>533.7</td>\n",
       "      <td>377.00</td>\n",
       "      <td>253.3</td>\n",
       "    </tr>\n",
       "    <tr>\n",
       "      <th>...</th>\n",
       "      <td>...</td>\n",
       "      <td>...</td>\n",
       "      <td>...</td>\n",
       "      <td>...</td>\n",
       "      <td>...</td>\n",
       "      <td>...</td>\n",
       "      <td>...</td>\n",
       "      <td>...</td>\n",
       "      <td>...</td>\n",
       "    </tr>\n",
       "    <tr>\n",
       "      <th>20973</th>\n",
       "      <td>23/06/2024 19:00</td>\n",
       "      <td>39.3</td>\n",
       "      <td>92</td>\n",
       "      <td>155.6</td>\n",
       "      <td>21.0</td>\n",
       "      <td>105.3</td>\n",
       "      <td>57.0</td>\n",
       "      <td>31.33</td>\n",
       "      <td>17.0</td>\n",
       "    </tr>\n",
       "    <tr>\n",
       "      <th>20974</th>\n",
       "      <td>23/06/2024 20:00</td>\n",
       "      <td>37.0</td>\n",
       "      <td>98</td>\n",
       "      <td>191.4</td>\n",
       "      <td>30.0</td>\n",
       "      <td>80.0</td>\n",
       "      <td>58.0</td>\n",
       "      <td>34.00</td>\n",
       "      <td>20.0</td>\n",
       "    </tr>\n",
       "    <tr>\n",
       "      <th>20975</th>\n",
       "      <td>23/06/2024 21:00</td>\n",
       "      <td>35.6</td>\n",
       "      <td>98</td>\n",
       "      <td>233.6</td>\n",
       "      <td>39.7</td>\n",
       "      <td>60.7</td>\n",
       "      <td>58.0</td>\n",
       "      <td>34.33</td>\n",
       "      <td>23.7</td>\n",
       "    </tr>\n",
       "    <tr>\n",
       "      <th>20976</th>\n",
       "      <td>23/06/2024 22:00</td>\n",
       "      <td>34.4</td>\n",
       "      <td>99</td>\n",
       "      <td>275.8</td>\n",
       "      <td>49.3</td>\n",
       "      <td>41.3</td>\n",
       "      <td>58.0</td>\n",
       "      <td>34.67</td>\n",
       "      <td>27.3</td>\n",
       "    </tr>\n",
       "    <tr>\n",
       "      <th>20977</th>\n",
       "      <td>23/06/2024 23:00</td>\n",
       "      <td>33.3</td>\n",
       "      <td>100</td>\n",
       "      <td>318.1</td>\n",
       "      <td>59.0</td>\n",
       "      <td>22.0</td>\n",
       "      <td>58.0</td>\n",
       "      <td>35.00</td>\n",
       "      <td>31.0</td>\n",
       "    </tr>\n",
       "  </tbody>\n",
       "</table>\n",
       "<p>20978 rows × 9 columns</p>\n",
       "</div>"
      ],
      "text/plain": [
       "        timestamp_local  temp  aqi      co   no2     o3   pm10    pm25    so2\n",
       "0       01/02/2022 0:00  12.6  385  1339.8  76.0   10.7  491.7  347.67  238.0\n",
       "1       01/02/2022 1:00  11.5  404  1437.6  76.0    9.3  508.3  359.33  268.0\n",
       "2       01/02/2022 2:00  11.9  421  1535.5  76.0    8.0  525.0  371.00  298.0\n",
       "3       01/02/2022 3:00  12.2  425  1659.0  68.3    5.3  529.3  374.00  275.7\n",
       "4       01/02/2022 4:00  11.9  430  1782.5  60.7    2.7  533.7  377.00  253.3\n",
       "...                 ...   ...  ...     ...   ...    ...    ...     ...    ...\n",
       "20973  23/06/2024 19:00  39.3   92   155.6  21.0  105.3   57.0   31.33   17.0\n",
       "20974  23/06/2024 20:00  37.0   98   191.4  30.0   80.0   58.0   34.00   20.0\n",
       "20975  23/06/2024 21:00  35.6   98   233.6  39.7   60.7   58.0   34.33   23.7\n",
       "20976  23/06/2024 22:00  34.4   99   275.8  49.3   41.3   58.0   34.67   27.3\n",
       "20977  23/06/2024 23:00  33.3  100   318.1  59.0   22.0   58.0   35.00   31.0\n",
       "\n",
       "[20978 rows x 9 columns]"
      ]
     },
     "execution_count": 20,
     "metadata": {},
     "output_type": "execute_result"
    }
   ],
   "source": [
    "df"
   ]
  },
  {
   "cell_type": "code",
   "execution_count": 18,
   "id": "d7e3c4f9-7208-48a1-bee4-1a89c09e2714",
   "metadata": {},
   "outputs": [],
   "source": [
    "data = df[['so2']]"
   ]
  },
  {
   "cell_type": "code",
   "execution_count": 19,
   "id": "a2eedd5e-c6fa-43b7-9458-5deca00f11fb",
   "metadata": {},
   "outputs": [],
   "source": [
    "from sklearn.preprocessing import MinMaxScaler\n",
    "values = data.values\n",
    "\n",
    "values = values.astype('float32')\n",
    "\n",
    "scaler = MinMaxScaler(feature_range=(0, 1))\n",
    "scaled = scaler.fit_transform(values)"
   ]
  },
  {
   "cell_type": "code",
   "execution_count": 21,
   "id": "d93f3d70-328f-40a2-9403-0e22e9802560",
   "metadata": {},
   "outputs": [],
   "source": [
    "scaled = scaled.reshape((20978,))"
   ]
  },
  {
   "cell_type": "code",
   "execution_count": 22,
   "id": "09f5ccf2-8abf-4b08-8051-cb206ea52fad",
   "metadata": {},
   "outputs": [
    {
     "data": {
      "text/plain": [
       "(20978,)"
      ]
     },
     "execution_count": 22,
     "metadata": {},
     "output_type": "execute_result"
    }
   ],
   "source": [
    "scaled.shape"
   ]
  },
  {
   "cell_type": "code",
   "execution_count": 23,
   "id": "071ee44c-f600-41f6-9490-6cda18be3d8d",
   "metadata": {},
   "outputs": [],
   "source": [
    "def df_to_X_y(df, window_size, forecast_length):\n",
    "    # df_as_np = df.to_numpy()\n",
    "    X = []\n",
    "    y = []\n",
    "    \n",
    "    for i in range(len(df) - window_size - forecast_length):\n",
    "        row_x = [[a] for a in df[i:i+window_size]]\n",
    "        \n",
    "        X.append(row_x)\n",
    "        # row_y = df_as_np[i+window_size]\n",
    "        row_y = [b for b in df[i+window_size:i+window_size+forecast_length]]\n",
    "        \n",
    "        y.append(row_y)\n",
    "        \n",
    "    return np.array(X), np.array(y)"
   ]
  },
  {
   "cell_type": "code",
   "execution_count": 24,
   "id": "4fdcba03-65d4-4d62-8ab1-17a0a2af627e",
   "metadata": {},
   "outputs": [],
   "source": [
    "def train_test_split(X, y, test_size=0.2):\n",
    "    split_idx = int(len(X) * (1 - test_size))\n",
    "    X_train, X_test = X[:split_idx], X[split_idx:]\n",
    "    y_train, y_test = y[:split_idx], y[split_idx:]\n",
    "    return X_train, X_test, y_train, y_test"
   ]
  },
  {
   "cell_type": "code",
   "execution_count": 25,
   "id": "c118b905-bab3-4abf-b257-253d7ea2bb98",
   "metadata": {},
   "outputs": [],
   "source": [
    "WINDOW_WIDTH = 168\n",
    "FORECAST_LENGTH = 168\n",
    "X, y = df_to_X_y(scaled, WINDOW_WIDTH, FORECAST_LENGTH)\n",
    "\n",
    "\n",
    "X_train, X_test, y_train, y_test = train_test_split(X, y, test_size=0.2)\n",
    "X_train, X_val, y_train, y_val = train_test_split(X_train, y_train, test_size=0.2)\n",
    "\n",
    "X_max = X_train.max()\n",
    "X_min = X_train.min()"
   ]
  },
  {
   "cell_type": "code",
   "execution_count": 26,
   "id": "e7b85489-d3d6-4c17-8935-238402086eff",
   "metadata": {},
   "outputs": [],
   "source": [
    "batchSize = 16\n",
    "from keras.models import Sequential, save_model, load_model\n",
    "from keras.layers import *\n",
    "from keras.callbacks import ReduceLROnPlateau, ModelCheckpoint\n",
    "from tensorflow.keras.optimizers import Adam\n",
    "from keras.losses import MeanSquaredError\n",
    "from keras.metrics import RootMeanSquaredError"
   ]
  },
  {
   "cell_type": "code",
   "execution_count": 27,
   "id": "3b6c5847-1cc5-4149-b349-ff4f5c638c90",
   "metadata": {},
   "outputs": [
    {
     "name": "stderr",
     "output_type": "stream",
     "text": [
      "C:\\Users\\Hassan\\AppData\\Local\\Programs\\Python\\Python311\\Lib\\site-packages\\keras\\src\\layers\\convolutional\\base_conv.py:99: UserWarning: Do not pass an `input_shape`/`input_dim` argument to a layer. When using Sequential models, prefer using an `Input(shape)` object as the first layer in the model instead.\n",
      "  super().__init__(\n"
     ]
    },
    {
     "data": {
      "text/html": [
       "<pre style=\"white-space:pre;overflow-x:auto;line-height:normal;font-family:Menlo,'DejaVu Sans Mono',consolas,'Courier New',monospace\"><span style=\"font-weight: bold\">Model: \"sequential_1\"</span>\n",
       "</pre>\n"
      ],
      "text/plain": [
       "\u001b[1mModel: \"sequential_1\"\u001b[0m\n"
      ]
     },
     "metadata": {},
     "output_type": "display_data"
    },
    {
     "data": {
      "text/html": [
       "<pre style=\"white-space:pre;overflow-x:auto;line-height:normal;font-family:Menlo,'DejaVu Sans Mono',consolas,'Courier New',monospace\">┏━━━━━━━━━━━━━━━━━━━━━━━━━━━━━━━━━━━━━━┳━━━━━━━━━━━━━━━━━━━━━━━━━━━━━┳━━━━━━━━━━━━━━━━━┓\n",
       "┃<span style=\"font-weight: bold\"> Layer (type)                         </span>┃<span style=\"font-weight: bold\"> Output Shape                </span>┃<span style=\"font-weight: bold\">         Param # </span>┃\n",
       "┡━━━━━━━━━━━━━━━━━━━━━━━━━━━━━━━━━━━━━━╇━━━━━━━━━━━━━━━━━━━━━━━━━━━━━╇━━━━━━━━━━━━━━━━━┩\n",
       "│ conv1d_1 (<span style=\"color: #0087ff; text-decoration-color: #0087ff\">Conv1D</span>)                    │ (<span style=\"color: #00d7ff; text-decoration-color: #00d7ff\">None</span>, <span style=\"color: #00af00; text-decoration-color: #00af00\">166</span>, <span style=\"color: #00af00; text-decoration-color: #00af00\">8</span>)              │              <span style=\"color: #00af00; text-decoration-color: #00af00\">32</span> │\n",
       "├──────────────────────────────────────┼─────────────────────────────┼─────────────────┤\n",
       "│ flatten (<span style=\"color: #0087ff; text-decoration-color: #0087ff\">Flatten</span>)                    │ (<span style=\"color: #00d7ff; text-decoration-color: #00d7ff\">None</span>, <span style=\"color: #00af00; text-decoration-color: #00af00\">1328</span>)                │               <span style=\"color: #00af00; text-decoration-color: #00af00\">0</span> │\n",
       "├──────────────────────────────────────┼─────────────────────────────┼─────────────────┤\n",
       "│ dense (<span style=\"color: #0087ff; text-decoration-color: #0087ff\">Dense</span>)                        │ (<span style=\"color: #00d7ff; text-decoration-color: #00d7ff\">None</span>, <span style=\"color: #00af00; text-decoration-color: #00af00\">168</span>)                 │         <span style=\"color: #00af00; text-decoration-color: #00af00\">223,272</span> │\n",
       "└──────────────────────────────────────┴─────────────────────────────┴─────────────────┘\n",
       "</pre>\n"
      ],
      "text/plain": [
       "┏━━━━━━━━━━━━━━━━━━━━━━━━━━━━━━━━━━━━━━┳━━━━━━━━━━━━━━━━━━━━━━━━━━━━━┳━━━━━━━━━━━━━━━━━┓\n",
       "┃\u001b[1m \u001b[0m\u001b[1mLayer (type)                        \u001b[0m\u001b[1m \u001b[0m┃\u001b[1m \u001b[0m\u001b[1mOutput Shape               \u001b[0m\u001b[1m \u001b[0m┃\u001b[1m \u001b[0m\u001b[1m        Param #\u001b[0m\u001b[1m \u001b[0m┃\n",
       "┡━━━━━━━━━━━━━━━━━━━━━━━━━━━━━━━━━━━━━━╇━━━━━━━━━━━━━━━━━━━━━━━━━━━━━╇━━━━━━━━━━━━━━━━━┩\n",
       "│ conv1d_1 (\u001b[38;5;33mConv1D\u001b[0m)                    │ (\u001b[38;5;45mNone\u001b[0m, \u001b[38;5;34m166\u001b[0m, \u001b[38;5;34m8\u001b[0m)              │              \u001b[38;5;34m32\u001b[0m │\n",
       "├──────────────────────────────────────┼─────────────────────────────┼─────────────────┤\n",
       "│ flatten (\u001b[38;5;33mFlatten\u001b[0m)                    │ (\u001b[38;5;45mNone\u001b[0m, \u001b[38;5;34m1328\u001b[0m)                │               \u001b[38;5;34m0\u001b[0m │\n",
       "├──────────────────────────────────────┼─────────────────────────────┼─────────────────┤\n",
       "│ dense (\u001b[38;5;33mDense\u001b[0m)                        │ (\u001b[38;5;45mNone\u001b[0m, \u001b[38;5;34m168\u001b[0m)                 │         \u001b[38;5;34m223,272\u001b[0m │\n",
       "└──────────────────────────────────────┴─────────────────────────────┴─────────────────┘\n"
      ]
     },
     "metadata": {},
     "output_type": "display_data"
    },
    {
     "data": {
      "text/html": [
       "<pre style=\"white-space:pre;overflow-x:auto;line-height:normal;font-family:Menlo,'DejaVu Sans Mono',consolas,'Courier New',monospace\"><span style=\"font-weight: bold\"> Total params: </span><span style=\"color: #00af00; text-decoration-color: #00af00\">223,304</span> (872.28 KB)\n",
       "</pre>\n"
      ],
      "text/plain": [
       "\u001b[1m Total params: \u001b[0m\u001b[38;5;34m223,304\u001b[0m (872.28 KB)\n"
      ]
     },
     "metadata": {},
     "output_type": "display_data"
    },
    {
     "data": {
      "text/html": [
       "<pre style=\"white-space:pre;overflow-x:auto;line-height:normal;font-family:Menlo,'DejaVu Sans Mono',consolas,'Courier New',monospace\"><span style=\"font-weight: bold\"> Trainable params: </span><span style=\"color: #00af00; text-decoration-color: #00af00\">223,304</span> (872.28 KB)\n",
       "</pre>\n"
      ],
      "text/plain": [
       "\u001b[1m Trainable params: \u001b[0m\u001b[38;5;34m223,304\u001b[0m (872.28 KB)\n"
      ]
     },
     "metadata": {},
     "output_type": "display_data"
    },
    {
     "data": {
      "text/html": [
       "<pre style=\"white-space:pre;overflow-x:auto;line-height:normal;font-family:Menlo,'DejaVu Sans Mono',consolas,'Courier New',monospace\"><span style=\"font-weight: bold\"> Non-trainable params: </span><span style=\"color: #00af00; text-decoration-color: #00af00\">0</span> (0.00 B)\n",
       "</pre>\n"
      ],
      "text/plain": [
       "\u001b[1m Non-trainable params: \u001b[0m\u001b[38;5;34m0\u001b[0m (0.00 B)\n"
      ]
     },
     "metadata": {},
     "output_type": "display_data"
    },
    {
     "name": "stdout",
     "output_type": "stream",
     "text": [
      "Epoch 1/50\n",
      "\u001b[1m413/413\u001b[0m \u001b[32m━━━━━━━━━━━━━━━━━━━━\u001b[0m\u001b[37m\u001b[0m \u001b[1m2s\u001b[0m 3ms/step - loss: 0.0064 - root_mean_squared_error: 0.0767 - val_loss: 0.0016 - val_root_mean_squared_error: 0.0394 - learning_rate: 0.0010\n",
      "Epoch 2/50\n",
      "\u001b[1m413/413\u001b[0m \u001b[32m━━━━━━━━━━━━━━━━━━━━\u001b[0m\u001b[37m\u001b[0m \u001b[1m1s\u001b[0m 3ms/step - loss: 0.0029 - root_mean_squared_error: 0.0538 - val_loss: 0.0018 - val_root_mean_squared_error: 0.0427 - learning_rate: 0.0010\n",
      "Epoch 3/50\n",
      "\u001b[1m413/413\u001b[0m \u001b[32m━━━━━━━━━━━━━━━━━━━━\u001b[0m\u001b[37m\u001b[0m \u001b[1m1s\u001b[0m 2ms/step - loss: 0.0029 - root_mean_squared_error: 0.0535 - val_loss: 0.0019 - val_root_mean_squared_error: 0.0435 - learning_rate: 0.0010\n",
      "Epoch 4/50\n",
      "\u001b[1m413/413\u001b[0m \u001b[32m━━━━━━━━━━━━━━━━━━━━\u001b[0m\u001b[37m\u001b[0m \u001b[1m1s\u001b[0m 2ms/step - loss: 0.0028 - root_mean_squared_error: 0.0525 - val_loss: 0.0015 - val_root_mean_squared_error: 0.0382 - learning_rate: 0.0010\n",
      "Epoch 5/50\n",
      "\u001b[1m413/413\u001b[0m \u001b[32m━━━━━━━━━━━━━━━━━━━━\u001b[0m\u001b[37m\u001b[0m \u001b[1m1s\u001b[0m 3ms/step - loss: 0.0028 - root_mean_squared_error: 0.0528 - val_loss: 0.0018 - val_root_mean_squared_error: 0.0426 - learning_rate: 0.0010\n",
      "Epoch 6/50\n",
      "\u001b[1m413/413\u001b[0m \u001b[32m━━━━━━━━━━━━━━━━━━━━\u001b[0m\u001b[37m\u001b[0m \u001b[1m1s\u001b[0m 3ms/step - loss: 0.0028 - root_mean_squared_error: 0.0529 - val_loss: 0.0016 - val_root_mean_squared_error: 0.0399 - learning_rate: 0.0010\n",
      "Epoch 7/50\n",
      "\u001b[1m413/413\u001b[0m \u001b[32m━━━━━━━━━━━━━━━━━━━━\u001b[0m\u001b[37m\u001b[0m \u001b[1m1s\u001b[0m 3ms/step - loss: 0.0028 - root_mean_squared_error: 0.0528 - val_loss: 0.0015 - val_root_mean_squared_error: 0.0386 - learning_rate: 0.0010\n",
      "Epoch 8/50\n",
      "\u001b[1m413/413\u001b[0m \u001b[32m━━━━━━━━━━━━━━━━━━━━\u001b[0m\u001b[37m\u001b[0m \u001b[1m1s\u001b[0m 3ms/step - loss: 0.0028 - root_mean_squared_error: 0.0527 - val_loss: 0.0016 - val_root_mean_squared_error: 0.0405 - learning_rate: 0.0010\n",
      "Epoch 9/50\n",
      "\u001b[1m413/413\u001b[0m \u001b[32m━━━━━━━━━━━━━━━━━━━━\u001b[0m\u001b[37m\u001b[0m \u001b[1m1s\u001b[0m 3ms/step - loss: 0.0027 - root_mean_squared_error: 0.0524 - val_loss: 0.0017 - val_root_mean_squared_error: 0.0413 - learning_rate: 0.0010\n",
      "Epoch 10/50\n",
      "\u001b[1m413/413\u001b[0m \u001b[32m━━━━━━━━━━━━━━━━━━━━\u001b[0m\u001b[37m\u001b[0m \u001b[1m1s\u001b[0m 3ms/step - loss: 0.0027 - root_mean_squared_error: 0.0520 - val_loss: 0.0018 - val_root_mean_squared_error: 0.0421 - learning_rate: 0.0010\n",
      "Epoch 11/50\n",
      "\u001b[1m413/413\u001b[0m \u001b[32m━━━━━━━━━━━━━━━━━━━━\u001b[0m\u001b[37m\u001b[0m \u001b[1m1s\u001b[0m 2ms/step - loss: 0.0028 - root_mean_squared_error: 0.0525 - val_loss: 0.0015 - val_root_mean_squared_error: 0.0382 - learning_rate: 0.0010\n",
      "Epoch 12/50\n",
      "\u001b[1m413/413\u001b[0m \u001b[32m━━━━━━━━━━━━━━━━━━━━\u001b[0m\u001b[37m\u001b[0m \u001b[1m1s\u001b[0m 3ms/step - loss: 0.0027 - root_mean_squared_error: 0.0515 - val_loss: 0.0015 - val_root_mean_squared_error: 0.0390 - learning_rate: 1.0000e-04\n",
      "Epoch 13/50\n",
      "\u001b[1m413/413\u001b[0m \u001b[32m━━━━━━━━━━━━━━━━━━━━\u001b[0m\u001b[37m\u001b[0m \u001b[1m1s\u001b[0m 3ms/step - loss: 0.0026 - root_mean_squared_error: 0.0513 - val_loss: 0.0017 - val_root_mean_squared_error: 0.0406 - learning_rate: 1.0000e-04\n",
      "Epoch 14/50\n",
      "\u001b[1m413/413\u001b[0m \u001b[32m━━━━━━━━━━━━━━━━━━━━\u001b[0m\u001b[37m\u001b[0m \u001b[1m1s\u001b[0m 3ms/step - loss: 0.0026 - root_mean_squared_error: 0.0512 - val_loss: 0.0016 - val_root_mean_squared_error: 0.0394 - learning_rate: 1.0000e-04\n",
      "Epoch 15/50\n",
      "\u001b[1m413/413\u001b[0m \u001b[32m━━━━━━━━━━━━━━━━━━━━\u001b[0m\u001b[37m\u001b[0m \u001b[1m1s\u001b[0m 3ms/step - loss: 0.0027 - root_mean_squared_error: 0.0515 - val_loss: 0.0016 - val_root_mean_squared_error: 0.0394 - learning_rate: 1.0000e-04\n",
      "Epoch 16/50\n",
      "\u001b[1m413/413\u001b[0m \u001b[32m━━━━━━━━━━━━━━━━━━━━\u001b[0m\u001b[37m\u001b[0m \u001b[1m1s\u001b[0m 3ms/step - loss: 0.0026 - root_mean_squared_error: 0.0511 - val_loss: 0.0016 - val_root_mean_squared_error: 0.0394 - learning_rate: 1.0000e-04\n",
      "Epoch 17/50\n",
      "\u001b[1m413/413\u001b[0m \u001b[32m━━━━━━━━━━━━━━━━━━━━\u001b[0m\u001b[37m\u001b[0m \u001b[1m1s\u001b[0m 3ms/step - loss: 0.0026 - root_mean_squared_error: 0.0509 - val_loss: 0.0015 - val_root_mean_squared_error: 0.0390 - learning_rate: 1.0000e-04\n",
      "Epoch 18/50\n",
      "\u001b[1m413/413\u001b[0m \u001b[32m━━━━━━━━━━━━━━━━━━━━\u001b[0m\u001b[37m\u001b[0m \u001b[1m1s\u001b[0m 3ms/step - loss: 0.0026 - root_mean_squared_error: 0.0512 - val_loss: 0.0016 - val_root_mean_squared_error: 0.0396 - learning_rate: 1.0000e-04\n",
      "Epoch 19/50\n",
      "\u001b[1m413/413\u001b[0m \u001b[32m━━━━━━━━━━━━━━━━━━━━\u001b[0m\u001b[37m\u001b[0m \u001b[1m1s\u001b[0m 3ms/step - loss: 0.0026 - root_mean_squared_error: 0.0508 - val_loss: 0.0016 - val_root_mean_squared_error: 0.0396 - learning_rate: 1.0000e-04\n",
      "Epoch 20/50\n",
      "\u001b[1m413/413\u001b[0m \u001b[32m━━━━━━━━━━━━━━━━━━━━\u001b[0m\u001b[37m\u001b[0m \u001b[1m1s\u001b[0m 3ms/step - loss: 0.0027 - root_mean_squared_error: 0.0516 - val_loss: 0.0016 - val_root_mean_squared_error: 0.0394 - learning_rate: 1.0000e-04\n",
      "Epoch 21/50\n",
      "\u001b[1m413/413\u001b[0m \u001b[32m━━━━━━━━━━━━━━━━━━━━\u001b[0m\u001b[37m\u001b[0m \u001b[1m1s\u001b[0m 3ms/step - loss: 0.0026 - root_mean_squared_error: 0.0509 - val_loss: 0.0016 - val_root_mean_squared_error: 0.0404 - learning_rate: 1.0000e-04\n",
      "Epoch 22/50\n",
      "\u001b[1m413/413\u001b[0m \u001b[32m━━━━━━━━━━━━━━━━━━━━\u001b[0m\u001b[37m\u001b[0m \u001b[1m1s\u001b[0m 3ms/step - loss: 0.0026 - root_mean_squared_error: 0.0512 - val_loss: 0.0016 - val_root_mean_squared_error: 0.0397 - learning_rate: 1.0000e-05\n",
      "Epoch 23/50\n",
      "\u001b[1m413/413\u001b[0m \u001b[32m━━━━━━━━━━━━━━━━━━━━\u001b[0m\u001b[37m\u001b[0m \u001b[1m1s\u001b[0m 3ms/step - loss: 0.0026 - root_mean_squared_error: 0.0508 - val_loss: 0.0016 - val_root_mean_squared_error: 0.0394 - learning_rate: 1.0000e-05\n",
      "Epoch 24/50\n",
      "\u001b[1m413/413\u001b[0m \u001b[32m━━━━━━━━━━━━━━━━━━━━\u001b[0m\u001b[37m\u001b[0m \u001b[1m1s\u001b[0m 3ms/step - loss: 0.0026 - root_mean_squared_error: 0.0510 - val_loss: 0.0016 - val_root_mean_squared_error: 0.0395 - learning_rate: 1.0000e-05\n",
      "Epoch 25/50\n",
      "\u001b[1m413/413\u001b[0m \u001b[32m━━━━━━━━━━━━━━━━━━━━\u001b[0m\u001b[37m\u001b[0m \u001b[1m1s\u001b[0m 3ms/step - loss: 0.0026 - root_mean_squared_error: 0.0510 - val_loss: 0.0016 - val_root_mean_squared_error: 0.0397 - learning_rate: 1.0000e-05\n",
      "Epoch 26/50\n",
      "\u001b[1m413/413\u001b[0m \u001b[32m━━━━━━━━━━━━━━━━━━━━\u001b[0m\u001b[37m\u001b[0m \u001b[1m1s\u001b[0m 3ms/step - loss: 0.0026 - root_mean_squared_error: 0.0513 - val_loss: 0.0016 - val_root_mean_squared_error: 0.0395 - learning_rate: 1.0000e-05\n",
      "Epoch 27/50\n",
      "\u001b[1m413/413\u001b[0m \u001b[32m━━━━━━━━━━━━━━━━━━━━\u001b[0m\u001b[37m\u001b[0m \u001b[1m1s\u001b[0m 3ms/step - loss: 0.0026 - root_mean_squared_error: 0.0507 - val_loss: 0.0016 - val_root_mean_squared_error: 0.0395 - learning_rate: 1.0000e-05\n",
      "Epoch 28/50\n",
      "\u001b[1m413/413\u001b[0m \u001b[32m━━━━━━━━━━━━━━━━━━━━\u001b[0m\u001b[37m\u001b[0m \u001b[1m1s\u001b[0m 3ms/step - loss: 0.0026 - root_mean_squared_error: 0.0508 - val_loss: 0.0016 - val_root_mean_squared_error: 0.0397 - learning_rate: 1.0000e-05\n",
      "Epoch 29/50\n",
      "\u001b[1m413/413\u001b[0m \u001b[32m━━━━━━━━━━━━━━━━━━━━\u001b[0m\u001b[37m\u001b[0m \u001b[1m1s\u001b[0m 3ms/step - loss: 0.0026 - root_mean_squared_error: 0.0507 - val_loss: 0.0016 - val_root_mean_squared_error: 0.0396 - learning_rate: 1.0000e-05\n",
      "Epoch 30/50\n",
      "\u001b[1m413/413\u001b[0m \u001b[32m━━━━━━━━━━━━━━━━━━━━\u001b[0m\u001b[37m\u001b[0m \u001b[1m1s\u001b[0m 3ms/step - loss: 0.0026 - root_mean_squared_error: 0.0513 - val_loss: 0.0016 - val_root_mean_squared_error: 0.0396 - learning_rate: 1.0000e-05\n",
      "Epoch 31/50\n",
      "\u001b[1m413/413\u001b[0m \u001b[32m━━━━━━━━━━━━━━━━━━━━\u001b[0m\u001b[37m\u001b[0m \u001b[1m1s\u001b[0m 3ms/step - loss: 0.0026 - root_mean_squared_error: 0.0511 - val_loss: 0.0016 - val_root_mean_squared_error: 0.0399 - learning_rate: 1.0000e-05\n",
      "Epoch 32/50\n",
      "\u001b[1m413/413\u001b[0m \u001b[32m━━━━━━━━━━━━━━━━━━━━\u001b[0m\u001b[37m\u001b[0m \u001b[1m1s\u001b[0m 3ms/step - loss: 0.0026 - root_mean_squared_error: 0.0510 - val_loss: 0.0016 - val_root_mean_squared_error: 0.0398 - learning_rate: 1.0000e-06\n",
      "Epoch 33/50\n",
      "\u001b[1m413/413\u001b[0m \u001b[32m━━━━━━━━━━━━━━━━━━━━\u001b[0m\u001b[37m\u001b[0m \u001b[1m1s\u001b[0m 3ms/step - loss: 0.0026 - root_mean_squared_error: 0.0512 - val_loss: 0.0016 - val_root_mean_squared_error: 0.0397 - learning_rate: 1.0000e-06\n",
      "Epoch 34/50\n",
      "\u001b[1m413/413\u001b[0m \u001b[32m━━━━━━━━━━━━━━━━━━━━\u001b[0m\u001b[37m\u001b[0m \u001b[1m1s\u001b[0m 3ms/step - loss: 0.0026 - root_mean_squared_error: 0.0508 - val_loss: 0.0016 - val_root_mean_squared_error: 0.0396 - learning_rate: 1.0000e-06\n",
      "Epoch 35/50\n",
      "\u001b[1m413/413\u001b[0m \u001b[32m━━━━━━━━━━━━━━━━━━━━\u001b[0m\u001b[37m\u001b[0m \u001b[1m1s\u001b[0m 3ms/step - loss: 0.0026 - root_mean_squared_error: 0.0506 - val_loss: 0.0016 - val_root_mean_squared_error: 0.0396 - learning_rate: 1.0000e-06\n",
      "Epoch 36/50\n",
      "\u001b[1m413/413\u001b[0m \u001b[32m━━━━━━━━━━━━━━━━━━━━\u001b[0m\u001b[37m\u001b[0m \u001b[1m1s\u001b[0m 3ms/step - loss: 0.0026 - root_mean_squared_error: 0.0511 - val_loss: 0.0016 - val_root_mean_squared_error: 0.0396 - learning_rate: 1.0000e-06\n",
      "Epoch 37/50\n",
      "\u001b[1m413/413\u001b[0m \u001b[32m━━━━━━━━━━━━━━━━━━━━\u001b[0m\u001b[37m\u001b[0m \u001b[1m1s\u001b[0m 3ms/step - loss: 0.0026 - root_mean_squared_error: 0.0515 - val_loss: 0.0016 - val_root_mean_squared_error: 0.0396 - learning_rate: 1.0000e-06\n",
      "Epoch 38/50\n",
      "\u001b[1m413/413\u001b[0m \u001b[32m━━━━━━━━━━━━━━━━━━━━\u001b[0m\u001b[37m\u001b[0m \u001b[1m1s\u001b[0m 3ms/step - loss: 0.0026 - root_mean_squared_error: 0.0510 - val_loss: 0.0016 - val_root_mean_squared_error: 0.0396 - learning_rate: 1.0000e-06\n",
      "Epoch 39/50\n",
      "\u001b[1m413/413\u001b[0m \u001b[32m━━━━━━━━━━━━━━━━━━━━\u001b[0m\u001b[37m\u001b[0m \u001b[1m1s\u001b[0m 3ms/step - loss: 0.0026 - root_mean_squared_error: 0.0508 - val_loss: 0.0016 - val_root_mean_squared_error: 0.0396 - learning_rate: 1.0000e-06\n",
      "Epoch 40/50\n",
      "\u001b[1m413/413\u001b[0m \u001b[32m━━━━━━━━━━━━━━━━━━━━\u001b[0m\u001b[37m\u001b[0m \u001b[1m1s\u001b[0m 3ms/step - loss: 0.0026 - root_mean_squared_error: 0.0511 - val_loss: 0.0016 - val_root_mean_squared_error: 0.0396 - learning_rate: 1.0000e-06\n",
      "Epoch 41/50\n",
      "\u001b[1m413/413\u001b[0m \u001b[32m━━━━━━━━━━━━━━━━━━━━\u001b[0m\u001b[37m\u001b[0m \u001b[1m1s\u001b[0m 3ms/step - loss: 0.0026 - root_mean_squared_error: 0.0507 - val_loss: 0.0016 - val_root_mean_squared_error: 0.0396 - learning_rate: 1.0000e-06\n",
      "Epoch 42/50\n",
      "\u001b[1m413/413\u001b[0m \u001b[32m━━━━━━━━━━━━━━━━━━━━\u001b[0m\u001b[37m\u001b[0m \u001b[1m1s\u001b[0m 3ms/step - loss: 0.0026 - root_mean_squared_error: 0.0505 - val_loss: 0.0016 - val_root_mean_squared_error: 0.0396 - learning_rate: 1.0000e-07\n",
      "Epoch 43/50\n",
      "\u001b[1m413/413\u001b[0m \u001b[32m━━━━━━━━━━━━━━━━━━━━\u001b[0m\u001b[37m\u001b[0m \u001b[1m1s\u001b[0m 3ms/step - loss: 0.0026 - root_mean_squared_error: 0.0506 - val_loss: 0.0016 - val_root_mean_squared_error: 0.0396 - learning_rate: 1.0000e-07\n",
      "Epoch 44/50\n",
      "\u001b[1m413/413\u001b[0m \u001b[32m━━━━━━━━━━━━━━━━━━━━\u001b[0m\u001b[37m\u001b[0m \u001b[1m1s\u001b[0m 3ms/step - loss: 0.0026 - root_mean_squared_error: 0.0509 - val_loss: 0.0016 - val_root_mean_squared_error: 0.0396 - learning_rate: 1.0000e-07\n",
      "Epoch 45/50\n",
      "\u001b[1m413/413\u001b[0m \u001b[32m━━━━━━━━━━━━━━━━━━━━\u001b[0m\u001b[37m\u001b[0m \u001b[1m1s\u001b[0m 3ms/step - loss: 0.0026 - root_mean_squared_error: 0.0511 - val_loss: 0.0016 - val_root_mean_squared_error: 0.0396 - learning_rate: 1.0000e-07\n",
      "Epoch 46/50\n",
      "\u001b[1m413/413\u001b[0m \u001b[32m━━━━━━━━━━━━━━━━━━━━\u001b[0m\u001b[37m\u001b[0m \u001b[1m1s\u001b[0m 3ms/step - loss: 0.0026 - root_mean_squared_error: 0.0509 - val_loss: 0.0016 - val_root_mean_squared_error: 0.0396 - learning_rate: 1.0000e-07\n",
      "Epoch 47/50\n",
      "\u001b[1m413/413\u001b[0m \u001b[32m━━━━━━━━━━━━━━━━━━━━\u001b[0m\u001b[37m\u001b[0m \u001b[1m1s\u001b[0m 3ms/step - loss: 0.0026 - root_mean_squared_error: 0.0511 - val_loss: 0.0016 - val_root_mean_squared_error: 0.0396 - learning_rate: 1.0000e-07\n",
      "Epoch 48/50\n",
      "\u001b[1m413/413\u001b[0m \u001b[32m━━━━━━━━━━━━━━━━━━━━\u001b[0m\u001b[37m\u001b[0m \u001b[1m1s\u001b[0m 3ms/step - loss: 0.0026 - root_mean_squared_error: 0.0511 - val_loss: 0.0016 - val_root_mean_squared_error: 0.0396 - learning_rate: 1.0000e-07\n",
      "Epoch 49/50\n",
      "\u001b[1m413/413\u001b[0m \u001b[32m━━━━━━━━━━━━━━━━━━━━\u001b[0m\u001b[37m\u001b[0m \u001b[1m1s\u001b[0m 3ms/step - loss: 0.0027 - root_mean_squared_error: 0.0520 - val_loss: 0.0016 - val_root_mean_squared_error: 0.0396 - learning_rate: 1.0000e-07\n",
      "Epoch 50/50\n",
      "\u001b[1m413/413\u001b[0m \u001b[32m━━━━━━━━━━━━━━━━━━━━\u001b[0m\u001b[37m\u001b[0m \u001b[1m1s\u001b[0m 3ms/step - loss: 0.0026 - root_mean_squared_error: 0.0509 - val_loss: 0.0016 - val_root_mean_squared_error: 0.0396 - learning_rate: 1.0000e-07\n"
     ]
    }
   ],
   "source": [
    "normalizer = Normalization()\n",
    "normalizer.adapt(X_train)\n",
    "rlrop = ReduceLROnPlateau(monitor='val_loss', factor=0.1, patience=10)\n",
    "\n",
    "model = Sequential()\n",
    "# 1D Convolutional layers\n",
    "model.add(Conv1D(filters=8, kernel_size=3, activation='relu', input_shape=X_train.shape[1:]))\n",
    "# model.add(Conv1D(filters=64, kernel_size=3, activation='relu'))\n",
    "# model.add(Conv1D(filters=32, kernel_size=3, activation='relu'))\n",
    "# Flatten the output of the Conv layers\n",
    "model.add(Flatten())\n",
    "# model.add(LSTM(input_shape = X_train.shape[1:], units=86, return_sequences=True))\n",
    "# model.add(LSTM(units=64, return_sequences=True))\n",
    "# model.add(GRU(units=86, return_sequences=True))\n",
    "# model.add(LSTM(units=128, return_sequences=True))\n",
    "# model.add(GRU(units=100, return_sequences=True))\n",
    "# model.add(LSTM(units=100, return_sequences=False))\n",
    "# model.add(Dense(units=100,  activation='relu'))\n",
    "# model.add(Dense(8, activation='relu'))\n",
    "\n",
    "model.add(Dense(units=FORECAST_LENGTH, activation='linear'))\n",
    "\n",
    "model.summary()\n",
    "\n",
    "model.compile(optimizer=Adam(learning_rate=0.001), metrics=[RootMeanSquaredError()] , loss=MeanSquaredError())\n",
    "\n",
    "history = model.fit(X_train, y_train, validation_data=(X_val,y_val), epochs=50, callbacks=[rlrop])\n",
    "\n",
    "# score = model.evaluate(X_test, y_test, verbose = 1)"
   ]
  },
  {
   "cell_type": "code",
   "execution_count": 28,
   "id": "5674b419-12bd-4a4e-a83d-2438ae813939",
   "metadata": {},
   "outputs": [
    {
     "name": "stdout",
     "output_type": "stream",
     "text": [
      "\u001b[1m130/130\u001b[0m \u001b[32m━━━━━━━━━━━━━━━━━━━━\u001b[0m\u001b[37m\u001b[0m \u001b[1m0s\u001b[0m 1ms/step\n"
     ]
    }
   ],
   "source": [
    "forecast = model.predict(X_test)"
   ]
  },
  {
   "cell_type": "code",
   "execution_count": 29,
   "id": "abb7c26e-b6e8-4526-aa4e-9180825c9d51",
   "metadata": {},
   "outputs": [],
   "source": [
    "poll = np.array(df[\"so2\"])\n",
    "\n",
    "meanop = poll.mean()\n",
    "stdop = poll.std()\n",
    "\n",
    "y_test_true = y_test*stdop + meanop\n",
    "testPredict = forecast*stdop + meanop"
   ]
  },
  {
   "cell_type": "code",
   "execution_count": 30,
   "id": "cccf66c7-77a1-483d-8b28-e5df8056b4b6",
   "metadata": {},
   "outputs": [],
   "source": [
    "from sklearn.metrics import mean_squared_error"
   ]
  },
  {
   "cell_type": "code",
   "execution_count": 31,
   "id": "3e3a186b-a281-4964-9581-f8f73931e019",
   "metadata": {},
   "outputs": [
    {
     "name": "stdout",
     "output_type": "stream",
     "text": [
      "Test RMSE = 1.7281339\n"
     ]
    }
   ],
   "source": [
    "rmse = np.sqrt(mean_squared_error(y_test_true, testPredict))\n",
    "print(\"Test RMSE =\"  ,rmse)"
   ]
  },
  {
   "cell_type": "code",
   "execution_count": 32,
   "id": "74c96d84-541a-4b16-81b3-e8bdba525666",
   "metadata": {},
   "outputs": [
    {
     "name": "stdout",
     "output_type": "stream",
     "text": [
      "Test MAPE = 2.550477348268032\n"
     ]
    }
   ],
   "source": [
    "# Calculate MAPE\n",
    "mape = np.mean(np.abs((y_test_true - testPredict) / y_test_true)) * 100\n",
    "print(\"Test MAPE =\", mape)"
   ]
  },
  {
   "cell_type": "code",
   "execution_count": 33,
   "id": "804ff250-e98e-4d82-8e1c-59361680bd4e",
   "metadata": {},
   "outputs": [
    {
     "name": "stdout",
     "output_type": "stream",
     "text": [
      "Accuracy = 97.44952265173197 %\n"
     ]
    }
   ],
   "source": [
    "# Calculate accuracy as 1 - MAPE\n",
    "accuracy = 100 - mape\n",
    "print(\"Accuracy =\", accuracy, \"%\")"
   ]
  },
  {
   "cell_type": "code",
   "execution_count": 34,
   "id": "fff40bb7-26c4-4804-a0d9-7374ca5edad3",
   "metadata": {},
   "outputs": [
    {
     "name": "stdout",
     "output_type": "stream",
     "text": [
      "Test MAE = 1.1748443\n"
     ]
    }
   ],
   "source": [
    "from sklearn.metrics import mean_absolute_error\n",
    "\n",
    "# Calculate MAE\n",
    "mae = mean_absolute_error(y_test_true, testPredict)\n",
    "print(\"Test MAE =\", mae)"
   ]
  },
  {
   "cell_type": "code",
   "execution_count": 35,
   "id": "a8c9fe94-b991-48aa-b917-115e04f18ffa",
   "metadata": {},
   "outputs": [
    {
     "data": {
      "text/plain": [
       "(4129, 168)"
      ]
     },
     "execution_count": 35,
     "metadata": {},
     "output_type": "execute_result"
    }
   ],
   "source": [
    "y_test_true.shape"
   ]
  },
  {
   "cell_type": "code",
   "execution_count": 36,
   "id": "a21c236d-93b7-4d0a-ba80-08ec2a83c3f8",
   "metadata": {},
   "outputs": [
    {
     "data": {
      "text/plain": [
       "(4129, 168)"
      ]
     },
     "execution_count": 36,
     "metadata": {},
     "output_type": "execute_result"
    }
   ],
   "source": [
    "testPredict.shape"
   ]
  },
  {
   "cell_type": "code",
   "execution_count": 37,
   "id": "9c9037be-c096-476c-8472-bec3a194b54d",
   "metadata": {},
   "outputs": [],
   "source": [
    "import numpy as np\n",
    "\n",
    "def calculate_segment_rmse(predictions, actuals, segment_length=1):\n",
    "    num_segments = predictions.shape[1] // segment_length\n",
    "    rmses = []\n",
    "    \n",
    "    for i in range(num_segments):\n",
    "        start_idx = i * segment_length\n",
    "        end_idx = start_idx + segment_length\n",
    "        \n",
    "        # Extract the segment for both predictions and actuals\n",
    "        pred_segment = predictions[:, start_idx:end_idx]\n",
    "        actual_segment = actuals[:, start_idx:end_idx]\n",
    "        \n",
    "        # Calculate RMSE for this segment\n",
    "        segment_rmse = np.sqrt(mean_squared_error(actual_segment.flatten(), pred_segment.flatten()))\n",
    "        rmses.append(segment_rmse)\n",
    "    \n",
    "    return rmses"
   ]
  },
  {
   "cell_type": "code",
   "execution_count": 38,
   "id": "13b4f256-db53-49f0-a277-65259836076c",
   "metadata": {},
   "outputs": [
    {
     "name": "stdout",
     "output_type": "stream",
     "text": [
      "RMSE for segment 1: 0.4049\n",
      "RMSE for segment 2: 0.6550\n",
      "RMSE for segment 3: 0.8732\n",
      "RMSE for segment 4: 1.0374\n",
      "RMSE for segment 5: 1.1659\n",
      "RMSE for segment 6: 1.2532\n",
      "RMSE for segment 7: 1.3142\n",
      "RMSE for segment 8: 1.3485\n",
      "RMSE for segment 9: 1.3791\n",
      "RMSE for segment 10: 1.3965\n",
      "RMSE for segment 11: 1.4117\n",
      "RMSE for segment 12: 1.4260\n",
      "RMSE for segment 13: 1.4404\n",
      "RMSE for segment 14: 1.4510\n",
      "RMSE for segment 15: 1.4608\n",
      "RMSE for segment 16: 1.4690\n",
      "RMSE for segment 17: 1.4782\n",
      "RMSE for segment 18: 1.4913\n",
      "RMSE for segment 19: 1.4943\n",
      "RMSE for segment 20: 1.4991\n",
      "RMSE for segment 21: 1.5084\n",
      "RMSE for segment 22: 1.5071\n",
      "RMSE for segment 23: 1.5136\n",
      "RMSE for segment 24: 1.5158\n",
      "RMSE for segment 25: 1.5303\n",
      "RMSE for segment 26: 1.5499\n",
      "RMSE for segment 27: 1.5762\n",
      "RMSE for segment 28: 1.5970\n",
      "RMSE for segment 29: 1.6178\n",
      "RMSE for segment 30: 1.6329\n",
      "RMSE for segment 31: 1.6527\n",
      "RMSE for segment 32: 1.6551\n",
      "RMSE for segment 33: 1.6625\n",
      "RMSE for segment 34: 1.6670\n",
      "RMSE for segment 35: 1.6716\n",
      "RMSE for segment 36: 1.6762\n",
      "RMSE for segment 37: 1.6813\n",
      "RMSE for segment 38: 1.6854\n",
      "RMSE for segment 39: 1.6869\n",
      "RMSE for segment 40: 1.6902\n",
      "RMSE for segment 41: 1.6948\n",
      "RMSE for segment 42: 1.6957\n",
      "RMSE for segment 43: 1.6989\n",
      "RMSE for segment 44: 1.7001\n",
      "RMSE for segment 45: 1.6989\n",
      "RMSE for segment 46: 1.6973\n",
      "RMSE for segment 47: 1.6932\n",
      "RMSE for segment 48: 1.6937\n",
      "RMSE for segment 49: 1.6978\n",
      "RMSE for segment 50: 1.7001\n",
      "RMSE for segment 51: 1.7060\n",
      "RMSE for segment 52: 1.7188\n",
      "RMSE for segment 53: 1.7272\n",
      "RMSE for segment 54: 1.7337\n",
      "RMSE for segment 55: 1.7403\n",
      "RMSE for segment 56: 1.7456\n",
      "RMSE for segment 57: 1.7477\n",
      "RMSE for segment 58: 1.7485\n",
      "RMSE for segment 59: 1.7482\n",
      "RMSE for segment 60: 1.7480\n",
      "RMSE for segment 61: 1.7472\n",
      "RMSE for segment 62: 1.7504\n",
      "RMSE for segment 63: 1.7517\n",
      "RMSE for segment 64: 1.7534\n",
      "RMSE for segment 65: 1.7545\n",
      "RMSE for segment 66: 1.7618\n",
      "RMSE for segment 67: 1.7636\n",
      "RMSE for segment 68: 1.7608\n",
      "RMSE for segment 69: 1.7606\n",
      "RMSE for segment 70: 1.7611\n",
      "RMSE for segment 71: 1.7608\n",
      "RMSE for segment 72: 1.7588\n",
      "RMSE for segment 73: 1.7566\n",
      "RMSE for segment 74: 1.7556\n",
      "RMSE for segment 75: 1.7625\n",
      "RMSE for segment 76: 1.7599\n",
      "RMSE for segment 77: 1.7623\n",
      "RMSE for segment 78: 1.7681\n",
      "RMSE for segment 79: 1.7656\n",
      "RMSE for segment 80: 1.7685\n",
      "RMSE for segment 81: 1.7674\n",
      "RMSE for segment 82: 1.7661\n",
      "RMSE for segment 83: 1.7717\n",
      "RMSE for segment 84: 1.7682\n",
      "RMSE for segment 85: 1.7726\n",
      "RMSE for segment 86: 1.7702\n",
      "RMSE for segment 87: 1.7728\n",
      "RMSE for segment 88: 1.7737\n",
      "RMSE for segment 89: 1.7769\n",
      "RMSE for segment 90: 1.7782\n",
      "RMSE for segment 91: 1.7734\n",
      "RMSE for segment 92: 1.7744\n",
      "RMSE for segment 93: 1.7739\n",
      "RMSE for segment 94: 1.7715\n",
      "RMSE for segment 95: 1.7722\n",
      "RMSE for segment 96: 1.7703\n",
      "RMSE for segment 97: 1.7695\n",
      "RMSE for segment 98: 1.7772\n",
      "RMSE for segment 99: 1.7797\n",
      "RMSE for segment 100: 1.7875\n",
      "RMSE for segment 101: 1.7917\n",
      "RMSE for segment 102: 1.7952\n",
      "RMSE for segment 103: 1.8001\n",
      "RMSE for segment 104: 1.8019\n",
      "RMSE for segment 105: 1.8020\n",
      "RMSE for segment 106: 1.8015\n",
      "RMSE for segment 107: 1.8069\n",
      "RMSE for segment 108: 1.8048\n",
      "RMSE for segment 109: 1.8069\n",
      "RMSE for segment 110: 1.8098\n",
      "RMSE for segment 111: 1.8089\n",
      "RMSE for segment 112: 1.8063\n",
      "RMSE for segment 113: 1.8095\n",
      "RMSE for segment 114: 1.8047\n",
      "RMSE for segment 115: 1.8055\n",
      "RMSE for segment 116: 1.8065\n",
      "RMSE for segment 117: 1.8057\n",
      "RMSE for segment 118: 1.8039\n",
      "RMSE for segment 119: 1.8054\n",
      "RMSE for segment 120: 1.8017\n",
      "RMSE for segment 121: 1.8025\n",
      "RMSE for segment 122: 1.8083\n",
      "RMSE for segment 123: 1.8153\n",
      "RMSE for segment 124: 1.8205\n",
      "RMSE for segment 125: 1.8273\n",
      "RMSE for segment 126: 1.8351\n",
      "RMSE for segment 127: 1.8382\n",
      "RMSE for segment 128: 1.8393\n",
      "RMSE for segment 129: 1.8454\n",
      "RMSE for segment 130: 1.8477\n",
      "RMSE for segment 131: 1.8473\n",
      "RMSE for segment 132: 1.8518\n",
      "RMSE for segment 133: 1.8521\n",
      "RMSE for segment 134: 1.8527\n",
      "RMSE for segment 135: 1.8541\n",
      "RMSE for segment 136: 1.8580\n",
      "RMSE for segment 137: 1.8585\n",
      "RMSE for segment 138: 1.8597\n",
      "RMSE for segment 139: 1.8639\n",
      "RMSE for segment 140: 1.8625\n",
      "RMSE for segment 141: 1.8635\n",
      "RMSE for segment 142: 1.8634\n",
      "RMSE for segment 143: 1.8614\n",
      "RMSE for segment 144: 1.8612\n",
      "RMSE for segment 145: 1.8581\n",
      "RMSE for segment 146: 1.8605\n",
      "RMSE for segment 147: 1.8633\n",
      "RMSE for segment 148: 1.8669\n",
      "RMSE for segment 149: 1.8694\n",
      "RMSE for segment 150: 1.8750\n",
      "RMSE for segment 151: 1.8800\n",
      "RMSE for segment 152: 1.8809\n",
      "RMSE for segment 153: 1.8839\n",
      "RMSE for segment 154: 1.8862\n",
      "RMSE for segment 155: 1.8856\n",
      "RMSE for segment 156: 1.8865\n",
      "RMSE for segment 157: 1.8865\n",
      "RMSE for segment 158: 1.8863\n",
      "RMSE for segment 159: 1.8866\n",
      "RMSE for segment 160: 1.8900\n",
      "RMSE for segment 161: 1.8859\n",
      "RMSE for segment 162: 1.8860\n",
      "RMSE for segment 163: 1.8875\n",
      "RMSE for segment 164: 1.8856\n",
      "RMSE for segment 165: 1.8854\n",
      "RMSE for segment 166: 1.8838\n",
      "RMSE for segment 167: 1.8788\n",
      "RMSE for segment 168: 1.8800\n"
     ]
    }
   ],
   "source": [
    "segment_rmses = calculate_segment_rmse(testPredict, y_test_true)\n",
    "for i, rmse in enumerate(segment_rmses):\n",
    "    print(f\"RMSE for segment {i + 1}: {rmse:.4f}\")"
   ]
  },
  {
   "cell_type": "code",
   "execution_count": 39,
   "id": "7654b701-6ba9-4602-8611-59820b6311e4",
   "metadata": {},
   "outputs": [
    {
     "data": {
      "text/plain": [
       "array([[0.3066334 , 0.2813147 , 0.2528489 , ..., 0.20921755, 0.21632111,\n",
       "        0.2198432 ],\n",
       "       [0.2892909 , 0.26237142, 0.24014388, ..., 0.21525466, 0.22416669,\n",
       "        0.22767617],\n",
       "       [0.2642786 , 0.23813124, 0.21813536, ..., 0.2200374 , 0.23148546,\n",
       "        0.21512215],\n",
       "       ...,\n",
       "       [0.06355341, 0.06920167, 0.072556  , ..., 0.04348197, 0.04945981,\n",
       "        0.05511759],\n",
       "       [0.0639976 , 0.06772599, 0.06454934, ..., 0.05039424, 0.05468717,\n",
       "        0.05762226],\n",
       "       [0.06153944, 0.05761218, 0.05529806, ..., 0.05332372, 0.0563986 ,\n",
       "        0.05885588]], dtype=float32)"
      ]
     },
     "execution_count": 39,
     "metadata": {},
     "output_type": "execute_result"
    }
   ],
   "source": [
    "forecast"
   ]
  },
  {
   "cell_type": "code",
   "execution_count": 40,
   "id": "7ea98a00-c789-49d3-bdfe-1c06c5364c33",
   "metadata": {},
   "outputs": [
    {
     "data": {
      "text/plain": [
       "array([[55.551857, 54.375824, 53.053616, ..., 51.026985, 51.356937,\n",
       "        51.520535],\n",
       "       [54.746315, 53.49593 , 52.46348 , ..., 51.3074  , 51.721355,\n",
       "        51.88437 ],\n",
       "       [53.584515, 52.369995, 51.441208, ..., 51.529556, 52.061306,\n",
       "        51.301247],\n",
       "       ...,\n",
       "       [44.261024, 44.52338 , 44.679184, ..., 43.328724, 43.606388,\n",
       "        43.869186],\n",
       "       [44.281654, 44.454834, 44.307285, ..., 43.64979 , 43.849194,\n",
       "        43.985527],\n",
       "       [44.167477, 43.985058, 43.87757 , ..., 43.785866, 43.928688,\n",
       "        44.042828]], dtype=float32)"
      ]
     },
     "execution_count": 40,
     "metadata": {},
     "output_type": "execute_result"
    }
   ],
   "source": [
    "testPredict"
   ]
  },
  {
   "cell_type": "code",
   "execution_count": 41,
   "id": "4e4e0314-523d-408f-9858-83e62f6ef22e",
   "metadata": {},
   "outputs": [
    {
     "data": {
      "text/plain": [
       "array([[55.60104 , 54.76734 , 53.93364 , ..., 50.837036, 51.23007 ,\n",
       "        51.63501 ],\n",
       "       [54.76734 , 53.93364 , 53.099937, ..., 51.23007 , 51.63501 ,\n",
       "        52.028038],\n",
       "       [53.93364 , 53.099937, 51.46827 , ..., 51.63501 , 52.028038,\n",
       "        50.837036],\n",
       "       ...,\n",
       "       [44.08406 , 44.131702, 44.16743 , ..., 42.97643 , 43.33373 ,\n",
       "        43.691032],\n",
       "       [44.131702, 44.16743 , 44.048332, ..., 43.33373 , 43.691032,\n",
       "        44.131702],\n",
       "       [44.16743 , 44.048332, 43.92923 , ..., 43.691032, 44.131702,\n",
       "        44.560463]], dtype=float32)"
      ]
     },
     "execution_count": 41,
     "metadata": {},
     "output_type": "execute_result"
    }
   ],
   "source": [
    "y_test_true"
   ]
  },
  {
   "cell_type": "code",
   "execution_count": 42,
   "id": "85765500-cf61-4e8a-8763-69a8f1e567ca",
   "metadata": {},
   "outputs": [],
   "source": [
    "model.save(\"so2_1dcnn.keras\")"
   ]
  }
 ],
 "metadata": {
  "kernelspec": {
   "display_name": "Python 3 (ipykernel)",
   "language": "python",
   "name": "python3"
  },
  "language_info": {
   "codemirror_mode": {
    "name": "ipython",
    "version": 3
   },
   "file_extension": ".py",
   "mimetype": "text/x-python",
   "name": "python",
   "nbconvert_exporter": "python",
   "pygments_lexer": "ipython3",
   "version": "3.11.0"
  }
 },
 "nbformat": 4,
 "nbformat_minor": 5
}
