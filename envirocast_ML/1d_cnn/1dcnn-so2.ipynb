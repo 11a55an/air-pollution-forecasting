{
 "cells": [
  {
   "cell_type": "code",
   "execution_count": 1,
   "id": "08a7b78b-1d09-454f-8ecc-7c4184ab2240",
   "metadata": {},
   "outputs": [],
   "source": [
    "import pandas as pd\n",
    "import numpy as np"
   ]
  },
  {
   "cell_type": "code",
   "execution_count": 2,
   "id": "c1570c26-8e22-4498-9fe6-68e055e504a9",
   "metadata": {},
   "outputs": [],
   "source": [
    "df = pd.read_csv(\"../data/data_imputed_2.csv\")"
   ]
  },
  {
   "cell_type": "code",
   "execution_count": 3,
   "id": "55868db8-2144-49a3-9531-e4bf0728f0a2",
   "metadata": {},
   "outputs": [
    {
     "data": {
      "text/html": [
       "<div>\n",
       "<style scoped>\n",
       "    .dataframe tbody tr th:only-of-type {\n",
       "        vertical-align: middle;\n",
       "    }\n",
       "\n",
       "    .dataframe tbody tr th {\n",
       "        vertical-align: top;\n",
       "    }\n",
       "\n",
       "    .dataframe thead th {\n",
       "        text-align: right;\n",
       "    }\n",
       "</style>\n",
       "<table border=\"1\" class=\"dataframe\">\n",
       "  <thead>\n",
       "    <tr style=\"text-align: right;\">\n",
       "      <th></th>\n",
       "      <th>timestamp_local</th>\n",
       "      <th>temp</th>\n",
       "      <th>city_name</th>\n",
       "      <th>country_code</th>\n",
       "      <th>aqi</th>\n",
       "      <th>co</th>\n",
       "      <th>no2</th>\n",
       "      <th>o3</th>\n",
       "      <th>pm10</th>\n",
       "      <th>pm25</th>\n",
       "      <th>so2</th>\n",
       "    </tr>\n",
       "  </thead>\n",
       "  <tbody>\n",
       "    <tr>\n",
       "      <th>0</th>\n",
       "      <td>01/02/2022 0:00</td>\n",
       "      <td>12.6</td>\n",
       "      <td>Gujrāt</td>\n",
       "      <td>PK</td>\n",
       "      <td>385</td>\n",
       "      <td>1339.8</td>\n",
       "      <td>76.0</td>\n",
       "      <td>10.7</td>\n",
       "      <td>491.7</td>\n",
       "      <td>347.67</td>\n",
       "      <td>238.0</td>\n",
       "    </tr>\n",
       "    <tr>\n",
       "      <th>1</th>\n",
       "      <td>01/02/2022 1:00</td>\n",
       "      <td>11.5</td>\n",
       "      <td>Gujrāt</td>\n",
       "      <td>PK</td>\n",
       "      <td>404</td>\n",
       "      <td>1437.6</td>\n",
       "      <td>76.0</td>\n",
       "      <td>9.3</td>\n",
       "      <td>508.3</td>\n",
       "      <td>359.33</td>\n",
       "      <td>268.0</td>\n",
       "    </tr>\n",
       "    <tr>\n",
       "      <th>2</th>\n",
       "      <td>01/02/2022 2:00</td>\n",
       "      <td>11.9</td>\n",
       "      <td>Gujrāt</td>\n",
       "      <td>PK</td>\n",
       "      <td>421</td>\n",
       "      <td>1535.5</td>\n",
       "      <td>76.0</td>\n",
       "      <td>8.0</td>\n",
       "      <td>525.0</td>\n",
       "      <td>371.00</td>\n",
       "      <td>298.0</td>\n",
       "    </tr>\n",
       "    <tr>\n",
       "      <th>3</th>\n",
       "      <td>01/02/2022 3:00</td>\n",
       "      <td>12.2</td>\n",
       "      <td>Gujrāt</td>\n",
       "      <td>PK</td>\n",
       "      <td>425</td>\n",
       "      <td>1659.0</td>\n",
       "      <td>68.3</td>\n",
       "      <td>5.3</td>\n",
       "      <td>529.3</td>\n",
       "      <td>374.00</td>\n",
       "      <td>275.7</td>\n",
       "    </tr>\n",
       "    <tr>\n",
       "      <th>4</th>\n",
       "      <td>01/02/2022 4:00</td>\n",
       "      <td>11.9</td>\n",
       "      <td>Gujrāt</td>\n",
       "      <td>PK</td>\n",
       "      <td>430</td>\n",
       "      <td>1782.5</td>\n",
       "      <td>60.7</td>\n",
       "      <td>2.7</td>\n",
       "      <td>533.7</td>\n",
       "      <td>377.00</td>\n",
       "      <td>253.3</td>\n",
       "    </tr>\n",
       "  </tbody>\n",
       "</table>\n",
       "</div>"
      ],
      "text/plain": [
       "   timestamp_local  temp city_name country_code  aqi      co   no2    o3  \\\n",
       "0  01/02/2022 0:00  12.6    Gujrāt           PK  385  1339.8  76.0  10.7   \n",
       "1  01/02/2022 1:00  11.5    Gujrāt           PK  404  1437.6  76.0   9.3   \n",
       "2  01/02/2022 2:00  11.9    Gujrāt           PK  421  1535.5  76.0   8.0   \n",
       "3  01/02/2022 3:00  12.2    Gujrāt           PK  425  1659.0  68.3   5.3   \n",
       "4  01/02/2022 4:00  11.9    Gujrāt           PK  430  1782.5  60.7   2.7   \n",
       "\n",
       "    pm10    pm25    so2  \n",
       "0  491.7  347.67  238.0  \n",
       "1  508.3  359.33  268.0  \n",
       "2  525.0  371.00  298.0  \n",
       "3  529.3  374.00  275.7  \n",
       "4  533.7  377.00  253.3  "
      ]
     },
     "execution_count": 3,
     "metadata": {},
     "output_type": "execute_result"
    }
   ],
   "source": [
    "df.head()"
   ]
  },
  {
   "cell_type": "code",
   "execution_count": 4,
   "id": "1957f406-a837-4345-8d16-7835bd855082",
   "metadata": {},
   "outputs": [],
   "source": [
    "from sklearn.model_selection import train_test_split"
   ]
  },
  {
   "cell_type": "code",
   "execution_count": 5,
   "id": "d7e3c4f9-7208-48a1-bee4-1a89c09e2714",
   "metadata": {},
   "outputs": [],
   "source": [
    "data = df[['so2']]"
   ]
  },
  {
   "cell_type": "code",
   "execution_count": 6,
   "id": "a2eedd5e-c6fa-43b7-9458-5deca00f11fb",
   "metadata": {},
   "outputs": [],
   "source": [
    "from sklearn.preprocessing import MinMaxScaler\n",
    "values = data.values\n",
    "\n",
    "values = values.astype('float32')\n",
    "\n",
    "scaler = MinMaxScaler(feature_range=(0, 1))\n",
    "scaled = scaler.fit_transform(values)"
   ]
  },
  {
   "cell_type": "code",
   "execution_count": 7,
   "id": "d93f3d70-328f-40a2-9403-0e22e9802560",
   "metadata": {},
   "outputs": [],
   "source": [
    "scaled = scaled.reshape((19706,))"
   ]
  },
  {
   "cell_type": "code",
   "execution_count": 8,
   "id": "09f5ccf2-8abf-4b08-8051-cb206ea52fad",
   "metadata": {},
   "outputs": [
    {
     "data": {
      "text/plain": [
       "(19706,)"
      ]
     },
     "execution_count": 8,
     "metadata": {},
     "output_type": "execute_result"
    }
   ],
   "source": [
    "scaled.shape"
   ]
  },
  {
   "cell_type": "code",
   "execution_count": 9,
   "id": "071ee44c-f600-41f6-9490-6cda18be3d8d",
   "metadata": {},
   "outputs": [],
   "source": [
    "def df_to_X_y(df, window_size, forecast_length):\n",
    "    # df_as_np = df.to_numpy()\n",
    "    X = []\n",
    "    y = []\n",
    "    \n",
    "    for i in range(len(df) - window_size - forecast_length):\n",
    "        row_x = [[a] for a in df[i:i+window_size]]\n",
    "        \n",
    "        X.append(row_x)\n",
    "        # row_y = df_as_np[i+window_size]\n",
    "        row_y = [b for b in df[i+window_size:i+window_size+forecast_length]]\n",
    "        \n",
    "        y.append(row_y)\n",
    "        \n",
    "    return np.array(X), np.array(y)"
   ]
  },
  {
   "cell_type": "code",
   "execution_count": 10,
   "id": "c118b905-bab3-4abf-b257-253d7ea2bb98",
   "metadata": {},
   "outputs": [],
   "source": [
    "WINDOW_WIDTH = 168\n",
    "FORECAST_LENGTH = 168\n",
    "X, y = df_to_X_y(scaled, WINDOW_WIDTH, FORECAST_LENGTH)\n",
    "\n",
    "\n",
    "X_train, X_test, y_train, y_test = train_test_split(X, y, test_size=0.2, random_state=0)\n",
    "X_train, X_val, y_train, y_val = train_test_split(X_train, y_train, test_size=0.2, random_state=0)\n",
    "\n",
    "X_max = X_train.max()\n",
    "X_min = X_train.min()"
   ]
  },
  {
   "cell_type": "code",
   "execution_count": 11,
   "id": "e7b85489-d3d6-4c17-8935-238402086eff",
   "metadata": {},
   "outputs": [],
   "source": [
    "batchSize = 16\n",
    "from keras.models import Sequential, save_model, load_model\n",
    "from keras.layers import *\n",
    "from keras.callbacks import ReduceLROnPlateau, ModelCheckpoint\n",
    "from tensorflow.keras.optimizers import Adam\n",
    "from keras.losses import MeanSquaredError\n",
    "from keras.metrics import RootMeanSquaredError"
   ]
  },
  {
   "cell_type": "code",
   "execution_count": 12,
   "id": "3b6c5847-1cc5-4149-b349-ff4f5c638c90",
   "metadata": {},
   "outputs": [
    {
     "name": "stderr",
     "output_type": "stream",
     "text": [
      "C:\\Users\\Hassan\\AppData\\Local\\Programs\\Python\\Python311\\Lib\\site-packages\\keras\\src\\layers\\convolutional\\base_conv.py:99: UserWarning: Do not pass an `input_shape`/`input_dim` argument to a layer. When using Sequential models, prefer using an `Input(shape)` object as the first layer in the model instead.\n",
      "  super().__init__(\n"
     ]
    },
    {
     "data": {
      "text/html": [
       "<pre style=\"white-space:pre;overflow-x:auto;line-height:normal;font-family:Menlo,'DejaVu Sans Mono',consolas,'Courier New',monospace\"><span style=\"font-weight: bold\">Model: \"sequential\"</span>\n",
       "</pre>\n"
      ],
      "text/plain": [
       "\u001b[1mModel: \"sequential\"\u001b[0m\n"
      ]
     },
     "metadata": {},
     "output_type": "display_data"
    },
    {
     "data": {
      "text/html": [
       "<pre style=\"white-space:pre;overflow-x:auto;line-height:normal;font-family:Menlo,'DejaVu Sans Mono',consolas,'Courier New',monospace\">┏━━━━━━━━━━━━━━━━━━━━━━━━━━━━━━━━━━━━━━┳━━━━━━━━━━━━━━━━━━━━━━━━━━━━━┳━━━━━━━━━━━━━━━━━┓\n",
       "┃<span style=\"font-weight: bold\"> Layer (type)                         </span>┃<span style=\"font-weight: bold\"> Output Shape                </span>┃<span style=\"font-weight: bold\">         Param # </span>┃\n",
       "┡━━━━━━━━━━━━━━━━━━━━━━━━━━━━━━━━━━━━━━╇━━━━━━━━━━━━━━━━━━━━━━━━━━━━━╇━━━━━━━━━━━━━━━━━┩\n",
       "│ conv1d (<span style=\"color: #0087ff; text-decoration-color: #0087ff\">Conv1D</span>)                      │ (<span style=\"color: #00d7ff; text-decoration-color: #00d7ff\">None</span>, <span style=\"color: #00af00; text-decoration-color: #00af00\">166</span>, <span style=\"color: #00af00; text-decoration-color: #00af00\">8</span>)              │              <span style=\"color: #00af00; text-decoration-color: #00af00\">32</span> │\n",
       "├──────────────────────────────────────┼─────────────────────────────┼─────────────────┤\n",
       "│ flatten (<span style=\"color: #0087ff; text-decoration-color: #0087ff\">Flatten</span>)                    │ (<span style=\"color: #00d7ff; text-decoration-color: #00d7ff\">None</span>, <span style=\"color: #00af00; text-decoration-color: #00af00\">1328</span>)                │               <span style=\"color: #00af00; text-decoration-color: #00af00\">0</span> │\n",
       "├──────────────────────────────────────┼─────────────────────────────┼─────────────────┤\n",
       "│ dense (<span style=\"color: #0087ff; text-decoration-color: #0087ff\">Dense</span>)                        │ (<span style=\"color: #00d7ff; text-decoration-color: #00d7ff\">None</span>, <span style=\"color: #00af00; text-decoration-color: #00af00\">168</span>)                 │         <span style=\"color: #00af00; text-decoration-color: #00af00\">223,272</span> │\n",
       "└──────────────────────────────────────┴─────────────────────────────┴─────────────────┘\n",
       "</pre>\n"
      ],
      "text/plain": [
       "┏━━━━━━━━━━━━━━━━━━━━━━━━━━━━━━━━━━━━━━┳━━━━━━━━━━━━━━━━━━━━━━━━━━━━━┳━━━━━━━━━━━━━━━━━┓\n",
       "┃\u001b[1m \u001b[0m\u001b[1mLayer (type)                        \u001b[0m\u001b[1m \u001b[0m┃\u001b[1m \u001b[0m\u001b[1mOutput Shape               \u001b[0m\u001b[1m \u001b[0m┃\u001b[1m \u001b[0m\u001b[1m        Param #\u001b[0m\u001b[1m \u001b[0m┃\n",
       "┡━━━━━━━━━━━━━━━━━━━━━━━━━━━━━━━━━━━━━━╇━━━━━━━━━━━━━━━━━━━━━━━━━━━━━╇━━━━━━━━━━━━━━━━━┩\n",
       "│ conv1d (\u001b[38;5;33mConv1D\u001b[0m)                      │ (\u001b[38;5;45mNone\u001b[0m, \u001b[38;5;34m166\u001b[0m, \u001b[38;5;34m8\u001b[0m)              │              \u001b[38;5;34m32\u001b[0m │\n",
       "├──────────────────────────────────────┼─────────────────────────────┼─────────────────┤\n",
       "│ flatten (\u001b[38;5;33mFlatten\u001b[0m)                    │ (\u001b[38;5;45mNone\u001b[0m, \u001b[38;5;34m1328\u001b[0m)                │               \u001b[38;5;34m0\u001b[0m │\n",
       "├──────────────────────────────────────┼─────────────────────────────┼─────────────────┤\n",
       "│ dense (\u001b[38;5;33mDense\u001b[0m)                        │ (\u001b[38;5;45mNone\u001b[0m, \u001b[38;5;34m168\u001b[0m)                 │         \u001b[38;5;34m223,272\u001b[0m │\n",
       "└──────────────────────────────────────┴─────────────────────────────┴─────────────────┘\n"
      ]
     },
     "metadata": {},
     "output_type": "display_data"
    },
    {
     "data": {
      "text/html": [
       "<pre style=\"white-space:pre;overflow-x:auto;line-height:normal;font-family:Menlo,'DejaVu Sans Mono',consolas,'Courier New',monospace\"><span style=\"font-weight: bold\"> Total params: </span><span style=\"color: #00af00; text-decoration-color: #00af00\">223,304</span> (872.28 KB)\n",
       "</pre>\n"
      ],
      "text/plain": [
       "\u001b[1m Total params: \u001b[0m\u001b[38;5;34m223,304\u001b[0m (872.28 KB)\n"
      ]
     },
     "metadata": {},
     "output_type": "display_data"
    },
    {
     "data": {
      "text/html": [
       "<pre style=\"white-space:pre;overflow-x:auto;line-height:normal;font-family:Menlo,'DejaVu Sans Mono',consolas,'Courier New',monospace\"><span style=\"font-weight: bold\"> Trainable params: </span><span style=\"color: #00af00; text-decoration-color: #00af00\">223,304</span> (872.28 KB)\n",
       "</pre>\n"
      ],
      "text/plain": [
       "\u001b[1m Trainable params: \u001b[0m\u001b[38;5;34m223,304\u001b[0m (872.28 KB)\n"
      ]
     },
     "metadata": {},
     "output_type": "display_data"
    },
    {
     "data": {
      "text/html": [
       "<pre style=\"white-space:pre;overflow-x:auto;line-height:normal;font-family:Menlo,'DejaVu Sans Mono',consolas,'Courier New',monospace\"><span style=\"font-weight: bold\"> Non-trainable params: </span><span style=\"color: #00af00; text-decoration-color: #00af00\">0</span> (0.00 B)\n",
       "</pre>\n"
      ],
      "text/plain": [
       "\u001b[1m Non-trainable params: \u001b[0m\u001b[38;5;34m0\u001b[0m (0.00 B)\n"
      ]
     },
     "metadata": {},
     "output_type": "display_data"
    },
    {
     "name": "stdout",
     "output_type": "stream",
     "text": [
      "Epoch 1/50\n",
      "\u001b[1m388/388\u001b[0m \u001b[32m━━━━━━━━━━━━━━━━━━━━\u001b[0m\u001b[37m\u001b[0m \u001b[1m8s\u001b[0m 13ms/step - loss: 0.0045 - root_mean_squared_error: 0.0652 - val_loss: 0.0025 - val_root_mean_squared_error: 0.0499 - learning_rate: 0.0010\n",
      "Epoch 2/50\n",
      "\u001b[1m388/388\u001b[0m \u001b[32m━━━━━━━━━━━━━━━━━━━━\u001b[0m\u001b[37m\u001b[0m \u001b[1m3s\u001b[0m 8ms/step - loss: 0.0025 - root_mean_squared_error: 0.0502 - val_loss: 0.0024 - val_root_mean_squared_error: 0.0493 - learning_rate: 0.0010\n",
      "Epoch 3/50\n",
      "\u001b[1m388/388\u001b[0m \u001b[32m━━━━━━━━━━━━━━━━━━━━\u001b[0m\u001b[37m\u001b[0m \u001b[1m3s\u001b[0m 8ms/step - loss: 0.0024 - root_mean_squared_error: 0.0493 - val_loss: 0.0024 - val_root_mean_squared_error: 0.0492 - learning_rate: 0.0010\n",
      "Epoch 4/50\n",
      "\u001b[1m388/388\u001b[0m \u001b[32m━━━━━━━━━━━━━━━━━━━━\u001b[0m\u001b[37m\u001b[0m \u001b[1m4s\u001b[0m 9ms/step - loss: 0.0024 - root_mean_squared_error: 0.0494 - val_loss: 0.0024 - val_root_mean_squared_error: 0.0489 - learning_rate: 0.0010\n",
      "Epoch 5/50\n",
      "\u001b[1m388/388\u001b[0m \u001b[32m━━━━━━━━━━━━━━━━━━━━\u001b[0m\u001b[37m\u001b[0m \u001b[1m3s\u001b[0m 9ms/step - loss: 0.0025 - root_mean_squared_error: 0.0495 - val_loss: 0.0024 - val_root_mean_squared_error: 0.0490 - learning_rate: 0.0010\n",
      "Epoch 6/50\n",
      "\u001b[1m388/388\u001b[0m \u001b[32m━━━━━━━━━━━━━━━━━━━━\u001b[0m\u001b[37m\u001b[0m \u001b[1m5s\u001b[0m 8ms/step - loss: 0.0024 - root_mean_squared_error: 0.0495 - val_loss: 0.0024 - val_root_mean_squared_error: 0.0486 - learning_rate: 0.0010\n",
      "Epoch 7/50\n",
      "\u001b[1m388/388\u001b[0m \u001b[32m━━━━━━━━━━━━━━━━━━━━\u001b[0m\u001b[37m\u001b[0m \u001b[1m3s\u001b[0m 9ms/step - loss: 0.0024 - root_mean_squared_error: 0.0492 - val_loss: 0.0024 - val_root_mean_squared_error: 0.0487 - learning_rate: 0.0010\n",
      "Epoch 8/50\n",
      "\u001b[1m388/388\u001b[0m \u001b[32m━━━━━━━━━━━━━━━━━━━━\u001b[0m\u001b[37m\u001b[0m \u001b[1m5s\u001b[0m 9ms/step - loss: 0.0023 - root_mean_squared_error: 0.0483 - val_loss: 0.0024 - val_root_mean_squared_error: 0.0488 - learning_rate: 0.0010\n",
      "Epoch 9/50\n",
      "\u001b[1m388/388\u001b[0m \u001b[32m━━━━━━━━━━━━━━━━━━━━\u001b[0m\u001b[37m\u001b[0m \u001b[1m3s\u001b[0m 9ms/step - loss: 0.0024 - root_mean_squared_error: 0.0486 - val_loss: 0.0024 - val_root_mean_squared_error: 0.0487 - learning_rate: 0.0010\n",
      "Epoch 10/50\n",
      "\u001b[1m388/388\u001b[0m \u001b[32m━━━━━━━━━━━━━━━━━━━━\u001b[0m\u001b[37m\u001b[0m \u001b[1m4s\u001b[0m 10ms/step - loss: 0.0023 - root_mean_squared_error: 0.0484 - val_loss: 0.0024 - val_root_mean_squared_error: 0.0491 - learning_rate: 0.0010\n",
      "Epoch 11/50\n",
      "\u001b[1m388/388\u001b[0m \u001b[32m━━━━━━━━━━━━━━━━━━━━\u001b[0m\u001b[37m\u001b[0m \u001b[1m3s\u001b[0m 9ms/step - loss: 0.0024 - root_mean_squared_error: 0.0487 - val_loss: 0.0024 - val_root_mean_squared_error: 0.0485 - learning_rate: 0.0010\n",
      "Epoch 12/50\n",
      "\u001b[1m388/388\u001b[0m \u001b[32m━━━━━━━━━━━━━━━━━━━━\u001b[0m\u001b[37m\u001b[0m \u001b[1m4s\u001b[0m 10ms/step - loss: 0.0023 - root_mean_squared_error: 0.0480 - val_loss: 0.0024 - val_root_mean_squared_error: 0.0490 - learning_rate: 0.0010\n",
      "Epoch 13/50\n",
      "\u001b[1m388/388\u001b[0m \u001b[32m━━━━━━━━━━━━━━━━━━━━\u001b[0m\u001b[37m\u001b[0m \u001b[1m3s\u001b[0m 8ms/step - loss: 0.0023 - root_mean_squared_error: 0.0484 - val_loss: 0.0024 - val_root_mean_squared_error: 0.0488 - learning_rate: 0.0010\n",
      "Epoch 14/50\n",
      "\u001b[1m388/388\u001b[0m \u001b[32m━━━━━━━━━━━━━━━━━━━━\u001b[0m\u001b[37m\u001b[0m \u001b[1m4s\u001b[0m 11ms/step - loss: 0.0023 - root_mean_squared_error: 0.0480 - val_loss: 0.0025 - val_root_mean_squared_error: 0.0501 - learning_rate: 0.0010\n",
      "Epoch 15/50\n",
      "\u001b[1m388/388\u001b[0m \u001b[32m━━━━━━━━━━━━━━━━━━━━\u001b[0m\u001b[37m\u001b[0m \u001b[1m4s\u001b[0m 11ms/step - loss: 0.0022 - root_mean_squared_error: 0.0472 - val_loss: 0.0023 - val_root_mean_squared_error: 0.0483 - learning_rate: 1.0000e-04\n",
      "Epoch 16/50\n",
      "\u001b[1m388/388\u001b[0m \u001b[32m━━━━━━━━━━━━━━━━━━━━\u001b[0m\u001b[37m\u001b[0m \u001b[1m4s\u001b[0m 10ms/step - loss: 0.0022 - root_mean_squared_error: 0.0473 - val_loss: 0.0023 - val_root_mean_squared_error: 0.0483 - learning_rate: 1.0000e-04\n",
      "Epoch 17/50\n",
      "\u001b[1m388/388\u001b[0m \u001b[32m━━━━━━━━━━━━━━━━━━━━\u001b[0m\u001b[37m\u001b[0m \u001b[1m4s\u001b[0m 10ms/step - loss: 0.0023 - root_mean_squared_error: 0.0476 - val_loss: 0.0023 - val_root_mean_squared_error: 0.0483 - learning_rate: 1.0000e-04\n",
      "Epoch 18/50\n",
      "\u001b[1m388/388\u001b[0m \u001b[32m━━━━━━━━━━━━━━━━━━━━\u001b[0m\u001b[37m\u001b[0m \u001b[1m4s\u001b[0m 10ms/step - loss: 0.0023 - root_mean_squared_error: 0.0477 - val_loss: 0.0023 - val_root_mean_squared_error: 0.0482 - learning_rate: 1.0000e-04\n",
      "Epoch 19/50\n",
      "\u001b[1m388/388\u001b[0m \u001b[32m━━━━━━━━━━━━━━━━━━━━\u001b[0m\u001b[37m\u001b[0m \u001b[1m4s\u001b[0m 11ms/step - loss: 0.0023 - root_mean_squared_error: 0.0475 - val_loss: 0.0023 - val_root_mean_squared_error: 0.0483 - learning_rate: 1.0000e-04\n",
      "Epoch 20/50\n",
      "\u001b[1m388/388\u001b[0m \u001b[32m━━━━━━━━━━━━━━━━━━━━\u001b[0m\u001b[37m\u001b[0m \u001b[1m4s\u001b[0m 10ms/step - loss: 0.0022 - root_mean_squared_error: 0.0473 - val_loss: 0.0023 - val_root_mean_squared_error: 0.0483 - learning_rate: 1.0000e-04\n",
      "Epoch 21/50\n",
      "\u001b[1m388/388\u001b[0m \u001b[32m━━━━━━━━━━━━━━━━━━━━\u001b[0m\u001b[37m\u001b[0m \u001b[1m4s\u001b[0m 10ms/step - loss: 0.0022 - root_mean_squared_error: 0.0473 - val_loss: 0.0023 - val_root_mean_squared_error: 0.0483 - learning_rate: 1.0000e-04\n",
      "Epoch 22/50\n",
      "\u001b[1m388/388\u001b[0m \u001b[32m━━━━━━━━━━━━━━━━━━━━\u001b[0m\u001b[37m\u001b[0m \u001b[1m4s\u001b[0m 11ms/step - loss: 0.0023 - root_mean_squared_error: 0.0477 - val_loss: 0.0023 - val_root_mean_squared_error: 0.0483 - learning_rate: 1.0000e-04\n",
      "Epoch 23/50\n",
      "\u001b[1m388/388\u001b[0m \u001b[32m━━━━━━━━━━━━━━━━━━━━\u001b[0m\u001b[37m\u001b[0m \u001b[1m4s\u001b[0m 10ms/step - loss: 0.0022 - root_mean_squared_error: 0.0474 - val_loss: 0.0023 - val_root_mean_squared_error: 0.0483 - learning_rate: 1.0000e-04\n",
      "Epoch 24/50\n",
      "\u001b[1m388/388\u001b[0m \u001b[32m━━━━━━━━━━━━━━━━━━━━\u001b[0m\u001b[37m\u001b[0m \u001b[1m4s\u001b[0m 11ms/step - loss: 0.0022 - root_mean_squared_error: 0.0470 - val_loss: 0.0023 - val_root_mean_squared_error: 0.0483 - learning_rate: 1.0000e-04\n",
      "Epoch 25/50\n",
      "\u001b[1m388/388\u001b[0m \u001b[32m━━━━━━━━━━━━━━━━━━━━\u001b[0m\u001b[37m\u001b[0m \u001b[1m5s\u001b[0m 12ms/step - loss: 0.0023 - root_mean_squared_error: 0.0475 - val_loss: 0.0023 - val_root_mean_squared_error: 0.0482 - learning_rate: 1.0000e-05\n",
      "Epoch 26/50\n",
      "\u001b[1m388/388\u001b[0m \u001b[32m━━━━━━━━━━━━━━━━━━━━\u001b[0m\u001b[37m\u001b[0m \u001b[1m4s\u001b[0m 9ms/step - loss: 0.0023 - root_mean_squared_error: 0.0477 - val_loss: 0.0023 - val_root_mean_squared_error: 0.0482 - learning_rate: 1.0000e-05\n",
      "Epoch 27/50\n",
      "\u001b[1m388/388\u001b[0m \u001b[32m━━━━━━━━━━━━━━━━━━━━\u001b[0m\u001b[37m\u001b[0m \u001b[1m5s\u001b[0m 14ms/step - loss: 0.0022 - root_mean_squared_error: 0.0471 - val_loss: 0.0023 - val_root_mean_squared_error: 0.0482 - learning_rate: 1.0000e-05\n",
      "Epoch 28/50\n",
      "\u001b[1m388/388\u001b[0m \u001b[32m━━━━━━━━━━━━━━━━━━━━\u001b[0m\u001b[37m\u001b[0m \u001b[1m9s\u001b[0m 9ms/step - loss: 0.0022 - root_mean_squared_error: 0.0474 - val_loss: 0.0023 - val_root_mean_squared_error: 0.0482 - learning_rate: 1.0000e-05\n",
      "Epoch 29/50\n",
      "\u001b[1m388/388\u001b[0m \u001b[32m━━━━━━━━━━━━━━━━━━━━\u001b[0m\u001b[37m\u001b[0m \u001b[1m4s\u001b[0m 9ms/step - loss: 0.0022 - root_mean_squared_error: 0.0471 - val_loss: 0.0023 - val_root_mean_squared_error: 0.0482 - learning_rate: 1.0000e-05\n",
      "Epoch 30/50\n",
      "\u001b[1m388/388\u001b[0m \u001b[32m━━━━━━━━━━━━━━━━━━━━\u001b[0m\u001b[37m\u001b[0m \u001b[1m4s\u001b[0m 10ms/step - loss: 0.0022 - root_mean_squared_error: 0.0470 - val_loss: 0.0023 - val_root_mean_squared_error: 0.0482 - learning_rate: 1.0000e-05\n",
      "Epoch 31/50\n",
      "\u001b[1m388/388\u001b[0m \u001b[32m━━━━━━━━━━━━━━━━━━━━\u001b[0m\u001b[37m\u001b[0m \u001b[1m5s\u001b[0m 10ms/step - loss: 0.0023 - root_mean_squared_error: 0.0477 - val_loss: 0.0023 - val_root_mean_squared_error: 0.0482 - learning_rate: 1.0000e-05\n",
      "Epoch 32/50\n",
      "\u001b[1m388/388\u001b[0m \u001b[32m━━━━━━━━━━━━━━━━━━━━\u001b[0m\u001b[37m\u001b[0m \u001b[1m4s\u001b[0m 9ms/step - loss: 0.0023 - root_mean_squared_error: 0.0480 - val_loss: 0.0023 - val_root_mean_squared_error: 0.0482 - learning_rate: 1.0000e-05\n",
      "Epoch 33/50\n",
      "\u001b[1m388/388\u001b[0m \u001b[32m━━━━━━━━━━━━━━━━━━━━\u001b[0m\u001b[37m\u001b[0m \u001b[1m4s\u001b[0m 10ms/step - loss: 0.0022 - root_mean_squared_error: 0.0467 - val_loss: 0.0023 - val_root_mean_squared_error: 0.0482 - learning_rate: 1.0000e-05\n",
      "Epoch 34/50\n",
      "\u001b[1m388/388\u001b[0m \u001b[32m━━━━━━━━━━━━━━━━━━━━\u001b[0m\u001b[37m\u001b[0m \u001b[1m4s\u001b[0m 9ms/step - loss: 0.0022 - root_mean_squared_error: 0.0466 - val_loss: 0.0023 - val_root_mean_squared_error: 0.0482 - learning_rate: 1.0000e-05\n",
      "Epoch 35/50\n",
      "\u001b[1m388/388\u001b[0m \u001b[32m━━━━━━━━━━━━━━━━━━━━\u001b[0m\u001b[37m\u001b[0m \u001b[1m4s\u001b[0m 10ms/step - loss: 0.0022 - root_mean_squared_error: 0.0469 - val_loss: 0.0023 - val_root_mean_squared_error: 0.0482 - learning_rate: 1.0000e-06\n",
      "Epoch 36/50\n",
      "\u001b[1m388/388\u001b[0m \u001b[32m━━━━━━━━━━━━━━━━━━━━\u001b[0m\u001b[37m\u001b[0m \u001b[1m4s\u001b[0m 9ms/step - loss: 0.0022 - root_mean_squared_error: 0.0472 - val_loss: 0.0023 - val_root_mean_squared_error: 0.0482 - learning_rate: 1.0000e-06\n",
      "Epoch 37/50\n",
      "\u001b[1m388/388\u001b[0m \u001b[32m━━━━━━━━━━━━━━━━━━━━\u001b[0m\u001b[37m\u001b[0m \u001b[1m4s\u001b[0m 10ms/step - loss: 0.0022 - root_mean_squared_error: 0.0471 - val_loss: 0.0023 - val_root_mean_squared_error: 0.0482 - learning_rate: 1.0000e-06\n",
      "Epoch 38/50\n",
      "\u001b[1m388/388\u001b[0m \u001b[32m━━━━━━━━━━━━━━━━━━━━\u001b[0m\u001b[37m\u001b[0m \u001b[1m4s\u001b[0m 10ms/step - loss: 0.0023 - root_mean_squared_error: 0.0477 - val_loss: 0.0023 - val_root_mean_squared_error: 0.0482 - learning_rate: 1.0000e-06\n",
      "Epoch 39/50\n",
      "\u001b[1m388/388\u001b[0m \u001b[32m━━━━━━━━━━━━━━━━━━━━\u001b[0m\u001b[37m\u001b[0m \u001b[1m4s\u001b[0m 9ms/step - loss: 0.0022 - root_mean_squared_error: 0.0470 - val_loss: 0.0023 - val_root_mean_squared_error: 0.0482 - learning_rate: 1.0000e-06\n",
      "Epoch 40/50\n",
      "\u001b[1m388/388\u001b[0m \u001b[32m━━━━━━━━━━━━━━━━━━━━\u001b[0m\u001b[37m\u001b[0m \u001b[1m4s\u001b[0m 9ms/step - loss: 0.0023 - root_mean_squared_error: 0.0474 - val_loss: 0.0023 - val_root_mean_squared_error: 0.0482 - learning_rate: 1.0000e-06\n",
      "Epoch 41/50\n",
      "\u001b[1m388/388\u001b[0m \u001b[32m━━━━━━━━━━━━━━━━━━━━\u001b[0m\u001b[37m\u001b[0m \u001b[1m4s\u001b[0m 11ms/step - loss: 0.0023 - root_mean_squared_error: 0.0477 - val_loss: 0.0023 - val_root_mean_squared_error: 0.0482 - learning_rate: 1.0000e-06\n",
      "Epoch 42/50\n",
      "\u001b[1m388/388\u001b[0m \u001b[32m━━━━━━━━━━━━━━━━━━━━\u001b[0m\u001b[37m\u001b[0m \u001b[1m4s\u001b[0m 10ms/step - loss: 0.0022 - root_mean_squared_error: 0.0472 - val_loss: 0.0023 - val_root_mean_squared_error: 0.0482 - learning_rate: 1.0000e-06\n",
      "Epoch 43/50\n",
      "\u001b[1m388/388\u001b[0m \u001b[32m━━━━━━━━━━━━━━━━━━━━\u001b[0m\u001b[37m\u001b[0m \u001b[1m4s\u001b[0m 9ms/step - loss: 0.0023 - root_mean_squared_error: 0.0476 - val_loss: 0.0023 - val_root_mean_squared_error: 0.0482 - learning_rate: 1.0000e-06\n",
      "Epoch 44/50\n",
      "\u001b[1m388/388\u001b[0m \u001b[32m━━━━━━━━━━━━━━━━━━━━\u001b[0m\u001b[37m\u001b[0m \u001b[1m4s\u001b[0m 10ms/step - loss: 0.0022 - root_mean_squared_error: 0.0473 - val_loss: 0.0023 - val_root_mean_squared_error: 0.0482 - learning_rate: 1.0000e-06\n",
      "Epoch 45/50\n",
      "\u001b[1m388/388\u001b[0m \u001b[32m━━━━━━━━━━━━━━━━━━━━\u001b[0m\u001b[37m\u001b[0m \u001b[1m4s\u001b[0m 10ms/step - loss: 0.0023 - root_mean_squared_error: 0.0476 - val_loss: 0.0023 - val_root_mean_squared_error: 0.0482 - learning_rate: 1.0000e-07\n",
      "Epoch 46/50\n",
      "\u001b[1m388/388\u001b[0m \u001b[32m━━━━━━━━━━━━━━━━━━━━\u001b[0m\u001b[37m\u001b[0m \u001b[1m4s\u001b[0m 10ms/step - loss: 0.0022 - root_mean_squared_error: 0.0469 - val_loss: 0.0023 - val_root_mean_squared_error: 0.0482 - learning_rate: 1.0000e-07\n",
      "Epoch 47/50\n",
      "\u001b[1m388/388\u001b[0m \u001b[32m━━━━━━━━━━━━━━━━━━━━\u001b[0m\u001b[37m\u001b[0m \u001b[1m4s\u001b[0m 10ms/step - loss: 0.0022 - root_mean_squared_error: 0.0466 - val_loss: 0.0023 - val_root_mean_squared_error: 0.0482 - learning_rate: 1.0000e-07\n",
      "Epoch 48/50\n",
      "\u001b[1m388/388\u001b[0m \u001b[32m━━━━━━━━━━━━━━━━━━━━\u001b[0m\u001b[37m\u001b[0m \u001b[1m4s\u001b[0m 11ms/step - loss: 0.0022 - root_mean_squared_error: 0.0473 - val_loss: 0.0023 - val_root_mean_squared_error: 0.0482 - learning_rate: 1.0000e-07\n",
      "Epoch 49/50\n",
      "\u001b[1m388/388\u001b[0m \u001b[32m━━━━━━━━━━━━━━━━━━━━\u001b[0m\u001b[37m\u001b[0m \u001b[1m4s\u001b[0m 10ms/step - loss: 0.0022 - root_mean_squared_error: 0.0473 - val_loss: 0.0023 - val_root_mean_squared_error: 0.0482 - learning_rate: 1.0000e-07\n",
      "Epoch 50/50\n",
      "\u001b[1m388/388\u001b[0m \u001b[32m━━━━━━━━━━━━━━━━━━━━\u001b[0m\u001b[37m\u001b[0m \u001b[1m4s\u001b[0m 11ms/step - loss: 0.0022 - root_mean_squared_error: 0.0474 - val_loss: 0.0023 - val_root_mean_squared_error: 0.0482 - learning_rate: 1.0000e-07\n"
     ]
    }
   ],
   "source": [
    "normalizer = Normalization()\n",
    "normalizer.adapt(X_train)\n",
    "rlrop = ReduceLROnPlateau(monitor='val_loss', factor=0.1, patience=10)\n",
    "\n",
    "model = Sequential()\n",
    "# 1D Convolutional layers\n",
    "model.add(Conv1D(filters=8, kernel_size=3, activation='relu', input_shape=X_train.shape[1:]))\n",
    "# model.add(Conv1D(filters=64, kernel_size=3, activation='relu'))\n",
    "# model.add(Conv1D(filters=32, kernel_size=3, activation='relu'))\n",
    "# Flatten the output of the Conv layers\n",
    "model.add(Flatten())\n",
    "# model.add(LSTM(input_shape = X_train.shape[1:], units=86, return_sequences=True))\n",
    "# model.add(LSTM(units=64, return_sequences=True))\n",
    "# model.add(GRU(units=86, return_sequences=True))\n",
    "# model.add(LSTM(units=128, return_sequences=True))\n",
    "# model.add(GRU(units=100, return_sequences=True))\n",
    "# model.add(LSTM(units=100, return_sequences=False))\n",
    "# model.add(Dense(units=100,  activation='relu'))\n",
    "# model.add(Dense(8, activation='relu'))\n",
    "\n",
    "model.add(Dense(units=FORECAST_LENGTH, activation='linear'))\n",
    "\n",
    "model.summary()\n",
    "\n",
    "model.compile(optimizer=Adam(learning_rate=0.001), metrics=[RootMeanSquaredError()] , loss=MeanSquaredError())\n",
    "\n",
    "history = model.fit(X_train, y_train, validation_data=(X_val,y_val), epochs=50, callbacks=[rlrop])\n",
    "\n",
    "# score = model.evaluate(X_test, y_test, verbose = 1)"
   ]
  },
  {
   "cell_type": "code",
   "execution_count": 13,
   "id": "5674b419-12bd-4a4e-a83d-2438ae813939",
   "metadata": {},
   "outputs": [
    {
     "name": "stdout",
     "output_type": "stream",
     "text": [
      "\u001b[1m122/122\u001b[0m \u001b[32m━━━━━━━━━━━━━━━━━━━━\u001b[0m\u001b[37m\u001b[0m \u001b[1m1s\u001b[0m 4ms/step\n"
     ]
    }
   ],
   "source": [
    "forecast = model.predict(X_test)"
   ]
  },
  {
   "cell_type": "code",
   "execution_count": 14,
   "id": "abb7c26e-b6e8-4526-aa4e-9180825c9d51",
   "metadata": {},
   "outputs": [],
   "source": [
    "poll = np.array(df[\"so2\"])\n",
    "\n",
    "meanop = poll.mean()\n",
    "stdop = poll.std()\n",
    "\n",
    "y_test_true = y_test*stdop + meanop\n",
    "testPredict = forecast*stdop + meanop"
   ]
  },
  {
   "cell_type": "code",
   "execution_count": 15,
   "id": "cccf66c7-77a1-483d-8b28-e5df8056b4b6",
   "metadata": {},
   "outputs": [],
   "source": [
    "from sklearn.metrics import mean_squared_error"
   ]
  },
  {
   "cell_type": "code",
   "execution_count": 16,
   "id": "3e3a186b-a281-4964-9581-f8f73931e019",
   "metadata": {},
   "outputs": [
    {
     "name": "stdout",
     "output_type": "stream",
     "text": [
      "Test RMSE = 2.3338366\n"
     ]
    }
   ],
   "source": [
    "rmse = np.sqrt(mean_squared_error(y_test_true, testPredict))\n",
    "print(\"Test RMSE =\"  ,rmse)"
   ]
  },
  {
   "cell_type": "code",
   "execution_count": 17,
   "id": "a8c9fe94-b991-48aa-b917-115e04f18ffa",
   "metadata": {},
   "outputs": [
    {
     "data": {
      "text/plain": [
       "(3874, 168)"
      ]
     },
     "execution_count": 17,
     "metadata": {},
     "output_type": "execute_result"
    }
   ],
   "source": [
    "y_test_true.shape"
   ]
  },
  {
   "cell_type": "code",
   "execution_count": 18,
   "id": "a21c236d-93b7-4d0a-ba80-08ec2a83c3f8",
   "metadata": {},
   "outputs": [
    {
     "data": {
      "text/plain": [
       "(3874, 168)"
      ]
     },
     "execution_count": 18,
     "metadata": {},
     "output_type": "execute_result"
    }
   ],
   "source": [
    "testPredict.shape"
   ]
  },
  {
   "cell_type": "code",
   "execution_count": 19,
   "id": "9c9037be-c096-476c-8472-bec3a194b54d",
   "metadata": {},
   "outputs": [],
   "source": [
    "import numpy as np\n",
    "\n",
    "def calculate_segment_rmse(predictions, actuals, segment_length=1):\n",
    "    num_segments = predictions.shape[1] // segment_length\n",
    "    rmses = []\n",
    "    \n",
    "    for i in range(num_segments):\n",
    "        start_idx = i * segment_length\n",
    "        end_idx = start_idx + segment_length\n",
    "        \n",
    "        # Extract the segment for both predictions and actuals\n",
    "        pred_segment = predictions[:, start_idx:end_idx]\n",
    "        actual_segment = actuals[:, start_idx:end_idx]\n",
    "        \n",
    "        # Calculate RMSE for this segment\n",
    "        segment_rmse = np.sqrt(mean_squared_error(actual_segment.flatten(), pred_segment.flatten()))\n",
    "        rmses.append(segment_rmse)\n",
    "    \n",
    "    return rmses"
   ]
  },
  {
   "cell_type": "code",
   "execution_count": 20,
   "id": "13b4f256-db53-49f0-a277-65259836076c",
   "metadata": {},
   "outputs": [
    {
     "name": "stdout",
     "output_type": "stream",
     "text": [
      "RMSE for segment 1: 0.5450\n",
      "RMSE for segment 2: 0.8879\n",
      "RMSE for segment 3: 1.2156\n",
      "RMSE for segment 4: 1.4528\n",
      "RMSE for segment 5: 1.6322\n",
      "RMSE for segment 6: 1.7714\n",
      "RMSE for segment 7: 1.8683\n",
      "RMSE for segment 8: 1.9229\n",
      "RMSE for segment 9: 1.9628\n",
      "RMSE for segment 10: 1.9763\n",
      "RMSE for segment 11: 1.9689\n",
      "RMSE for segment 12: 1.9523\n",
      "RMSE for segment 13: 1.9606\n",
      "RMSE for segment 14: 1.9911\n",
      "RMSE for segment 15: 2.0303\n",
      "RMSE for segment 16: 2.0132\n",
      "RMSE for segment 17: 1.9987\n",
      "RMSE for segment 18: 2.0301\n",
      "RMSE for segment 19: 2.0633\n",
      "RMSE for segment 20: 2.0768\n",
      "RMSE for segment 21: 2.0726\n",
      "RMSE for segment 22: 2.0544\n",
      "RMSE for segment 23: 2.0580\n",
      "RMSE for segment 24: 2.0917\n",
      "RMSE for segment 25: 2.1226\n",
      "RMSE for segment 26: 2.1222\n",
      "RMSE for segment 27: 2.1678\n",
      "RMSE for segment 28: 2.2202\n",
      "RMSE for segment 29: 2.2199\n",
      "RMSE for segment 30: 2.2323\n",
      "RMSE for segment 31: 2.2429\n",
      "RMSE for segment 32: 2.2512\n",
      "RMSE for segment 33: 2.2466\n",
      "RMSE for segment 34: 2.2462\n",
      "RMSE for segment 35: 2.2504\n",
      "RMSE for segment 36: 2.2559\n",
      "RMSE for segment 37: 2.2741\n",
      "RMSE for segment 38: 2.2838\n",
      "RMSE for segment 39: 2.2646\n",
      "RMSE for segment 40: 2.2577\n",
      "RMSE for segment 41: 2.2519\n",
      "RMSE for segment 42: 2.2966\n",
      "RMSE for segment 43: 2.3041\n",
      "RMSE for segment 44: 2.3091\n",
      "RMSE for segment 45: 2.2660\n",
      "RMSE for segment 46: 2.2315\n",
      "RMSE for segment 47: 2.2132\n",
      "RMSE for segment 48: 2.2184\n",
      "RMSE for segment 49: 2.2144\n",
      "RMSE for segment 50: 2.2137\n",
      "RMSE for segment 51: 2.2610\n",
      "RMSE for segment 52: 2.3247\n",
      "RMSE for segment 53: 2.3604\n",
      "RMSE for segment 54: 2.3795\n",
      "RMSE for segment 55: 2.3980\n",
      "RMSE for segment 56: 2.3865\n",
      "RMSE for segment 57: 2.3620\n",
      "RMSE for segment 58: 2.3541\n",
      "RMSE for segment 59: 2.3401\n",
      "RMSE for segment 60: 2.3381\n",
      "RMSE for segment 61: 2.3262\n",
      "RMSE for segment 62: 2.3065\n",
      "RMSE for segment 63: 2.2938\n",
      "RMSE for segment 64: 2.2882\n",
      "RMSE for segment 65: 2.2589\n",
      "RMSE for segment 66: 2.2882\n",
      "RMSE for segment 67: 2.3152\n",
      "RMSE for segment 68: 2.3577\n",
      "RMSE for segment 69: 2.3488\n",
      "RMSE for segment 70: 2.3574\n",
      "RMSE for segment 71: 2.3451\n",
      "RMSE for segment 72: 2.3485\n",
      "RMSE for segment 73: 2.3351\n",
      "RMSE for segment 74: 2.3298\n",
      "RMSE for segment 75: 2.3616\n",
      "RMSE for segment 76: 2.3848\n",
      "RMSE for segment 77: 2.3909\n",
      "RMSE for segment 78: 2.3769\n",
      "RMSE for segment 79: 2.3818\n",
      "RMSE for segment 80: 2.3848\n",
      "RMSE for segment 81: 2.3761\n",
      "RMSE for segment 82: 2.3586\n",
      "RMSE for segment 83: 2.3690\n",
      "RMSE for segment 84: 2.3753\n",
      "RMSE for segment 85: 2.3949\n",
      "RMSE for segment 86: 2.4001\n",
      "RMSE for segment 87: 2.3934\n",
      "RMSE for segment 88: 2.3795\n",
      "RMSE for segment 89: 2.3623\n",
      "RMSE for segment 90: 2.3647\n",
      "RMSE for segment 91: 2.3442\n",
      "RMSE for segment 92: 2.3498\n",
      "RMSE for segment 93: 2.3755\n",
      "RMSE for segment 94: 2.3969\n",
      "RMSE for segment 95: 2.4041\n",
      "RMSE for segment 96: 2.4218\n",
      "RMSE for segment 97: 2.4159\n",
      "RMSE for segment 98: 2.4118\n",
      "RMSE for segment 99: 2.4317\n",
      "RMSE for segment 100: 2.4565\n",
      "RMSE for segment 101: 2.4513\n",
      "RMSE for segment 102: 2.4548\n",
      "RMSE for segment 103: 2.4727\n",
      "RMSE for segment 104: 2.4988\n",
      "RMSE for segment 105: 2.4874\n",
      "RMSE for segment 106: 2.4628\n",
      "RMSE for segment 107: 2.4586\n",
      "RMSE for segment 108: 2.4645\n",
      "RMSE for segment 109: 2.4728\n",
      "RMSE for segment 110: 2.4667\n",
      "RMSE for segment 111: 2.4513\n",
      "RMSE for segment 112: 2.4336\n",
      "RMSE for segment 113: 2.4211\n",
      "RMSE for segment 114: 2.4516\n",
      "RMSE for segment 115: 2.4626\n",
      "RMSE for segment 116: 2.4611\n",
      "RMSE for segment 117: 2.4315\n",
      "RMSE for segment 118: 2.4242\n",
      "RMSE for segment 119: 2.4257\n",
      "RMSE for segment 120: 2.4305\n",
      "RMSE for segment 121: 2.4349\n",
      "RMSE for segment 122: 2.4542\n",
      "RMSE for segment 123: 2.4995\n",
      "RMSE for segment 124: 2.5362\n",
      "RMSE for segment 125: 2.5386\n",
      "RMSE for segment 126: 2.5461\n",
      "RMSE for segment 127: 2.5571\n",
      "RMSE for segment 128: 2.5486\n",
      "RMSE for segment 129: 2.5063\n",
      "RMSE for segment 130: 2.4687\n",
      "RMSE for segment 131: 2.4593\n",
      "RMSE for segment 132: 2.4749\n",
      "RMSE for segment 133: 2.4470\n",
      "RMSE for segment 134: 2.4076\n",
      "RMSE for segment 135: 2.3927\n",
      "RMSE for segment 136: 2.3858\n",
      "RMSE for segment 137: 2.4074\n",
      "RMSE for segment 138: 2.4527\n",
      "RMSE for segment 139: 2.4912\n",
      "RMSE for segment 140: 2.5681\n",
      "RMSE for segment 141: 2.5756\n",
      "RMSE for segment 142: 2.5962\n",
      "RMSE for segment 143: 2.5948\n",
      "RMSE for segment 144: 2.5974\n",
      "RMSE for segment 145: 2.5844\n",
      "RMSE for segment 146: 2.5477\n",
      "RMSE for segment 147: 2.5396\n",
      "RMSE for segment 148: 2.5530\n",
      "RMSE for segment 149: 2.5697\n",
      "RMSE for segment 150: 2.5602\n",
      "RMSE for segment 151: 2.5606\n",
      "RMSE for segment 152: 2.5417\n",
      "RMSE for segment 153: 2.5292\n",
      "RMSE for segment 154: 2.5328\n",
      "RMSE for segment 155: 2.5457\n",
      "RMSE for segment 156: 2.5373\n",
      "RMSE for segment 157: 2.4656\n",
      "RMSE for segment 158: 2.4235\n",
      "RMSE for segment 159: 2.4257\n",
      "RMSE for segment 160: 2.4524\n",
      "RMSE for segment 161: 2.4743\n",
      "RMSE for segment 162: 2.5352\n",
      "RMSE for segment 163: 2.5559\n",
      "RMSE for segment 164: 2.5470\n",
      "RMSE for segment 165: 2.5159\n",
      "RMSE for segment 166: 2.5061\n",
      "RMSE for segment 167: 2.5116\n",
      "RMSE for segment 168: 2.5270\n"
     ]
    }
   ],
   "source": [
    "segment_rmses = calculate_segment_rmse(testPredict, y_test_true)\n",
    "for i, rmse in enumerate(segment_rmses):\n",
    "    print(f\"RMSE for segment {i + 1}: {rmse:.4f}\")"
   ]
  },
  {
   "cell_type": "code",
   "execution_count": 21,
   "id": "7654b701-6ba9-4602-8611-59820b6311e4",
   "metadata": {},
   "outputs": [
    {
     "data": {
      "text/plain": [
       "array([[0.08048381, 0.07467578, 0.06992105, ..., 0.08197425, 0.08020122,\n",
       "        0.07953435],\n",
       "       [0.10448924, 0.10192487, 0.10453976, ..., 0.1626497 , 0.15221184,\n",
       "        0.14641044],\n",
       "       [0.05743064, 0.05653492, 0.05456128, ..., 0.05848379, 0.05706321,\n",
       "        0.05670088],\n",
       "       ...,\n",
       "       [0.15346214, 0.15776126, 0.1708462 , ..., 0.19479358, 0.18172857,\n",
       "        0.1671418 ],\n",
       "       [0.45238256, 0.4341074 , 0.36444584, ..., 0.37625173, 0.3804539 ,\n",
       "        0.36466834],\n",
       "       [0.04589932, 0.04859518, 0.05199139, ..., 0.04744203, 0.05138961,\n",
       "        0.0554092 ]], dtype=float32)"
      ]
     },
     "execution_count": 21,
     "metadata": {},
     "output_type": "execute_result"
    }
   ],
   "source": [
    "forecast"
   ]
  },
  {
   "cell_type": "code",
   "execution_count": 22,
   "id": "7ea98a00-c789-49d3-bdfe-1c06c5364c33",
   "metadata": {},
   "outputs": [
    {
     "data": {
      "text/plain": [
       "array([[ 83.83237 ,  83.45889 ,  83.15315 , ...,  83.92821 ,  83.81419 ,\n",
       "         83.77132 ],\n",
       "       [ 85.37599 ,  85.21109 ,  85.379234, ...,  89.11588 ,  88.444695,\n",
       "         88.07165 ],\n",
       "       [ 82.34998 ,  82.29238 ,  82.165474, ...,  82.4177  ,  82.326355,\n",
       "         82.303055],\n",
       "       ...,\n",
       "       [ 88.52509 ,  88.80154 ,  89.64294 , ...,  91.18283 ,  90.342705,\n",
       "         89.40473 ],\n",
       "       [107.74657 , 106.57141 , 102.09197 , ..., 102.85112 , 103.12134 ,\n",
       "        102.10628 ],\n",
       "       [ 81.60848 ,  81.78184 ,  82.00022 , ...,  81.70769 ,  81.961525,\n",
       "         82.21999 ]], dtype=float32)"
      ]
     },
     "execution_count": 22,
     "metadata": {},
     "output_type": "execute_result"
    }
   ],
   "source": [
    "testPredict"
   ]
  },
  {
   "cell_type": "code",
   "execution_count": 23,
   "id": "4e4e0314-523d-408f-9858-83e62f6ef22e",
   "metadata": {},
   "outputs": [
    {
     "data": {
      "text/plain": [
       "array([[ 83.99237 ,  84.028305,  84.06532 , ...,  84.86345 ,  84.463844,\n",
       "         84.06532 ],\n",
       "       [ 85.29899 ,  85.33492 ,  85.37194 , ...,  88.02111 ,  87.07708 ,\n",
       "         86.13413 ],\n",
       "       [ 82.17726 ,  81.77875 ,  81.379135, ...,  83.085365,  83.15723 ,\n",
       "         83.23018 ],\n",
       "       ...,\n",
       "       [ 87.912224,  88.5296  ,  89.14589 , ..., 103.372765,  99.88737 ,\n",
       "         96.40305 ],\n",
       "       [105.4786  , 103.48274 , 101.23209 , ..., 100.50692 ,  99.56289 ,\n",
       "         99.45401 ],\n",
       "       [ 81.63284 ,  81.99651 ,  82.3591  , ...,  80.72583 ,  81.379135,\n",
       "         82.03245 ]], dtype=float32)"
      ]
     },
     "execution_count": 23,
     "metadata": {},
     "output_type": "execute_result"
    }
   ],
   "source": [
    "y_test_true"
   ]
  },
  {
   "cell_type": "code",
   "execution_count": 72,
   "id": "f4750aac-95f7-4e91-8a8f-2c7a1b8f9821",
   "metadata": {},
   "outputs": [],
   "source": [
    "last_input = X_test[-1]"
   ]
  },
  {
   "cell_type": "code",
   "execution_count": 73,
   "id": "05f51012-a2c6-4bd7-a6e5-c63304d4a532",
   "metadata": {},
   "outputs": [
    {
     "data": {
      "text/plain": [
       "(168, 1)"
      ]
     },
     "execution_count": 73,
     "metadata": {},
     "output_type": "execute_result"
    }
   ],
   "source": [
    "last_input.shape"
   ]
  },
  {
   "cell_type": "code",
   "execution_count": 74,
   "id": "62ac89ac-a2a6-45b8-91b9-97f7a76a3b9c",
   "metadata": {},
   "outputs": [],
   "source": [
    "last_input = last_input.reshape(168,)"
   ]
  },
  {
   "cell_type": "code",
   "execution_count": 77,
   "id": "d5a7240d-c5bc-4310-9013-b5d388cfdc9b",
   "metadata": {},
   "outputs": [
    {
     "name": "stdout",
     "output_type": "stream",
     "text": [
      "\u001b[1m1/1\u001b[0m \u001b[32m━━━━━━━━━━━━━━━━━━━━\u001b[0m\u001b[37m\u001b[0m \u001b[1m0s\u001b[0m 44ms/step\n"
     ]
    }
   ],
   "source": [
    "# predictions = []\n",
    "# for _ in range(168):\n",
    "#     # Predict the next value\n",
    "#     print(last_input)\n",
    "predicted_value = model.predict(last_input.reshape(1, 168, 1))[0]\n",
    "predicted_value = predicted_value\n",
    "predicted_value = predicted_value * stdop + meanop\n",
    "    # predictions.append(predicted_value)\n",
    "    \n",
    "#     # Update the input sequence for the next iteration\n",
    "#     last_input = np.append(last_input[1:], predicted_value)\n",
    "# print(predictions)"
   ]
  },
  {
   "cell_type": "code",
   "execution_count": 78,
   "id": "c00705b9-7e0e-44a7-8ad7-322c750f0846",
   "metadata": {},
   "outputs": [
    {
     "data": {
      "text/plain": [
       "array([ 88.56814 ,  87.0865  ,  85.89468 ,  85.56283 ,  85.12053 ,\n",
       "        84.926125,  84.82616 ,  84.900276,  85.012024,  86.242004,\n",
       "        87.66179 ,  89.064674,  93.91494 ,  98.99813 , 103.95776 ,\n",
       "       104.310104, 104.34928 , 104.4447  , 102.89404 , 101.59718 ,\n",
       "        99.94553 ,  96.863625,  93.75132 ,  90.66343 ,  89.166595,\n",
       "        88.023994,  86.89277 ,  86.74036 ,  86.463684,  86.19579 ,\n",
       "        86.0873  ,  85.94686 ,  85.92076 ,  86.63535 ,  87.637215,\n",
       "        88.65329 ,  93.195015,  98.06164 , 103.030815, 104.152336,\n",
       "       104.91652 , 105.34003 , 103.85257 , 102.05101 , 100.2362  ,\n",
       "        96.88373 ,  93.53139 ,  90.27503 ,  88.84191 ,  87.40513 ,\n",
       "        86.02289 ,  85.74353 ,  85.2294  ,  85.013855,  84.87958 ,\n",
       "        85.02116 ,  85.15712 ,  86.54288 ,  88.187225,  89.803764,\n",
       "        94.41786 ,  99.27209 , 104.060486, 104.77241 , 105.30119 ,\n",
       "       105.5344  , 103.812996, 101.92653 ,  99.97254 ,  96.67348 ,\n",
       "        93.36318 ,  90.06612 ,  88.883865,  87.41988 ,  86.257996,\n",
       "        85.89323 ,  85.52318 ,  85.32102 ,  85.212135,  85.41734 ,\n",
       "        85.44294 ,  86.88772 ,  88.42813 ,  89.87231 ,  94.3871  ,\n",
       "        98.89175 , 103.51255 , 103.988144, 104.30536 , 104.463875,\n",
       "       102.83104 , 101.23766 ,  99.395615,  96.23447 ,  93.1072  ,\n",
       "        89.88361 ,  88.44426 ,  86.93304 ,  85.7267  ,  85.42998 ,\n",
       "        85.09143 ,  84.877815,  84.80253 ,  84.91784 ,  85.04701 ,\n",
       "        86.415215,  88.053856,  89.80704 ,  94.46972 ,  99.05317 ,\n",
       "       103.772835, 104.54094 , 105.160934, 105.37355 , 103.89804 ,\n",
       "       102.175186, 100.05637 ,  96.5805  ,  93.22951 ,  90.03805 ,\n",
       "        88.65351 ,  87.337814,  86.35747 ,  86.130104,  85.854004,\n",
       "        85.574486,  85.344345,  85.20817 ,  85.342766,  86.753914,\n",
       "        88.379616,  89.999084,  94.50329 ,  99.009476, 103.636116,\n",
       "       104.42882 , 104.9364  , 105.28834 , 103.75739 , 102.01799 ,\n",
       "       100.146355,  96.90202 ,  93.48583 ,  90.24728 ,  88.81865 ,\n",
       "        87.354706,  86.20567 ,  85.82206 ,  85.37863 ,  84.93696 ,\n",
       "        84.807556,  84.88998 ,  85.16136 ,  86.582886,  88.23338 ,\n",
       "        89.8009  ,  94.47478 ,  99.04369 , 103.914474, 104.657936,\n",
       "       105.368095, 105.70474 , 104.150024, 102.449455, 100.35277 ,\n",
       "        97.01424 ,  93.68242 ,  90.398506], dtype=float32)"
      ]
     },
     "execution_count": 78,
     "metadata": {},
     "output_type": "execute_result"
    }
   ],
   "source": [
    "predicted_value"
   ]
  },
  {
   "cell_type": "code",
   "execution_count": 35,
   "id": "f8fa1a80-49c3-4ac6-ab8c-32f45070d7d4",
   "metadata": {},
   "outputs": [
    {
     "data": {
      "text/plain": [
       "array([30.597725, 26.346886, 28.059309, 31.56474 , 28.663692, 29.550125,\n",
       "       30.980501, 25.601479, 27.394485, 29.328516, 29.932901, 28.583109,\n",
       "       27.172878, 28.139893, 31.504303, 29.932901, 25.601479, 26.346886,\n",
       "       26.125278, 29.187494, 27.53551 , 28.663692, 30.899918, 27.253462,\n",
       "       29.630709, 25.682062, 30.013485, 27.918285, 26.649078, 28.059309,\n",
       "       25.299286, 29.550125, 26.870686, 28.804716, 26.2663  , 28.361502,\n",
       "       26.2663  , 31.806494, 25.682062, 25.762648, 28.804716, 25.984255,\n",
       "       28.663692, 26.346886, 26.649078, 28.804716, 24.553877, 26.508055,\n",
       "       29.187494, 25.823086, 28.885302, 30.456701, 30.235092, 28.744278,\n",
       "       24.715046, 29.187494, 25.238846, 29.630709, 27.47507 , 30.376118,\n",
       "       29.711294, 24.553877, 31.423717, 29.106909, 29.026325, 25.460455,\n",
       "       28.139893, 24.775486, 30.980501, 27.01171 , 27.696678, 24.997093,\n",
       "       25.460455, 27.777262, 29.106909, 27.8377  , 28.965885, 28.059309,\n",
       "       29.550125, 29.932901, 28.583109, 30.013485, 24.997093, 29.026325,\n",
       "       28.804716, 24.936655, 28.52267 , 27.172878, 27.53551 , 28.361502,\n",
       "       28.885302, 25.90367 , 28.744278, 29.187494, 26.7901  , 25.90367 ,\n",
       "       25.37987 , 25.460455, 27.696678, 24.775486, 26.568493, 30.235092,\n",
       "       27.01171 , 27.918285, 26.346886, 28.744278, 27.253462, 27.092293,\n",
       "       26.125278, 26.42747 , 29.550125, 26.42747 , 25.37987 , 28.583109,\n",
       "       29.550125, 28.885302, 25.984255, 28.965885, 24.775486, 29.489685,\n",
       "       27.616093, 29.489685, 28.139893, 25.823086, 30.073925, 29.268078,\n",
       "       26.7901  , 28.804716, 29.187494, 30.376118, 28.583109, 28.361502,\n",
       "       27.092293, 30.235092, 30.758894, 28.361502, 28.280916, 27.8377  ,\n",
       "       27.01171 , 26.205862, 27.918285, 25.238846, 29.932901, 27.092293,\n",
       "       29.550125, 27.394485, 28.885302, 28.804716, 28.059309, 25.37987 ,\n",
       "       29.409101, 28.139893, 27.47507 , 25.984255, 26.346886, 27.092293,\n",
       "       28.139893, 29.489685, 28.663692, 29.711294, 26.951271, 27.8377  ,\n",
       "       27.172878, 28.220478, 28.361502, 30.376118, 31.121525, 28.442085],\n",
       "      dtype=float32)"
      ]
     },
     "execution_count": 35,
     "metadata": {},
     "output_type": "execute_result"
    }
   ],
   "source": [
    "y_test[-168:].ravel() * stdop + meanop"
   ]
  },
  {
   "cell_type": "code",
   "execution_count": 21,
   "id": "85765500-cf61-4e8a-8763-69a8f1e567ca",
   "metadata": {},
   "outputs": [],
   "source": [
    "model.save(\"so2_1dcnn.keras\")"
   ]
  }
 ],
 "metadata": {
  "kernelspec": {
   "display_name": "Python 3 (ipykernel)",
   "language": "python",
   "name": "python3"
  },
  "language_info": {
   "codemirror_mode": {
    "name": "ipython",
    "version": 3
   },
   "file_extension": ".py",
   "mimetype": "text/x-python",
   "name": "python",
   "nbconvert_exporter": "python",
   "pygments_lexer": "ipython3",
   "version": "3.11.0"
  }
 },
 "nbformat": 4,
 "nbformat_minor": 5
}
