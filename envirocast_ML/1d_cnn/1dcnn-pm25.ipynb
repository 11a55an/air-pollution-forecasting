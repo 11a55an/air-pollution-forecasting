{
 "cells": [
  {
   "cell_type": "code",
   "execution_count": 10,
   "id": "08a7b78b-1d09-454f-8ecc-7c4184ab2240",
   "metadata": {},
   "outputs": [],
   "source": [
    "import pandas as pd\n",
    "import numpy as np"
   ]
  },
  {
   "cell_type": "code",
   "execution_count": 11,
   "id": "c1570c26-8e22-4498-9fe6-68e055e504a9",
   "metadata": {},
   "outputs": [],
   "source": [
    "df = pd.read_csv(\"../data/data_imputed_3.csv\")"
   ]
  },
  {
   "cell_type": "code",
   "execution_count": 12,
   "id": "55868db8-2144-49a3-9531-e4bf0728f0a2",
   "metadata": {},
   "outputs": [
    {
     "data": {
      "text/html": [
       "<div>\n",
       "<style scoped>\n",
       "    .dataframe tbody tr th:only-of-type {\n",
       "        vertical-align: middle;\n",
       "    }\n",
       "\n",
       "    .dataframe tbody tr th {\n",
       "        vertical-align: top;\n",
       "    }\n",
       "\n",
       "    .dataframe thead th {\n",
       "        text-align: right;\n",
       "    }\n",
       "</style>\n",
       "<table border=\"1\" class=\"dataframe\">\n",
       "  <thead>\n",
       "    <tr style=\"text-align: right;\">\n",
       "      <th></th>\n",
       "      <th>timestamp_local</th>\n",
       "      <th>temp</th>\n",
       "      <th>aqi</th>\n",
       "      <th>co</th>\n",
       "      <th>no2</th>\n",
       "      <th>o3</th>\n",
       "      <th>pm10</th>\n",
       "      <th>pm25</th>\n",
       "      <th>so2</th>\n",
       "    </tr>\n",
       "  </thead>\n",
       "  <tbody>\n",
       "    <tr>\n",
       "      <th>0</th>\n",
       "      <td>01/02/2022 0:00</td>\n",
       "      <td>12.6</td>\n",
       "      <td>385</td>\n",
       "      <td>1339.8</td>\n",
       "      <td>76.0</td>\n",
       "      <td>10.7</td>\n",
       "      <td>491.7</td>\n",
       "      <td>347.67</td>\n",
       "      <td>238.0</td>\n",
       "    </tr>\n",
       "    <tr>\n",
       "      <th>1</th>\n",
       "      <td>01/02/2022 1:00</td>\n",
       "      <td>11.5</td>\n",
       "      <td>404</td>\n",
       "      <td>1437.6</td>\n",
       "      <td>76.0</td>\n",
       "      <td>9.3</td>\n",
       "      <td>508.3</td>\n",
       "      <td>359.33</td>\n",
       "      <td>268.0</td>\n",
       "    </tr>\n",
       "    <tr>\n",
       "      <th>2</th>\n",
       "      <td>01/02/2022 2:00</td>\n",
       "      <td>11.9</td>\n",
       "      <td>421</td>\n",
       "      <td>1535.5</td>\n",
       "      <td>76.0</td>\n",
       "      <td>8.0</td>\n",
       "      <td>525.0</td>\n",
       "      <td>371.00</td>\n",
       "      <td>298.0</td>\n",
       "    </tr>\n",
       "    <tr>\n",
       "      <th>3</th>\n",
       "      <td>01/02/2022 3:00</td>\n",
       "      <td>12.2</td>\n",
       "      <td>425</td>\n",
       "      <td>1659.0</td>\n",
       "      <td>68.3</td>\n",
       "      <td>5.3</td>\n",
       "      <td>529.3</td>\n",
       "      <td>374.00</td>\n",
       "      <td>275.7</td>\n",
       "    </tr>\n",
       "    <tr>\n",
       "      <th>4</th>\n",
       "      <td>01/02/2022 4:00</td>\n",
       "      <td>11.9</td>\n",
       "      <td>430</td>\n",
       "      <td>1782.5</td>\n",
       "      <td>60.7</td>\n",
       "      <td>2.7</td>\n",
       "      <td>533.7</td>\n",
       "      <td>377.00</td>\n",
       "      <td>253.3</td>\n",
       "    </tr>\n",
       "  </tbody>\n",
       "</table>\n",
       "</div>"
      ],
      "text/plain": [
       "   timestamp_local  temp  aqi      co   no2    o3   pm10    pm25    so2\n",
       "0  01/02/2022 0:00  12.6  385  1339.8  76.0  10.7  491.7  347.67  238.0\n",
       "1  01/02/2022 1:00  11.5  404  1437.6  76.0   9.3  508.3  359.33  268.0\n",
       "2  01/02/2022 2:00  11.9  421  1535.5  76.0   8.0  525.0  371.00  298.0\n",
       "3  01/02/2022 3:00  12.2  425  1659.0  68.3   5.3  529.3  374.00  275.7\n",
       "4  01/02/2022 4:00  11.9  430  1782.5  60.7   2.7  533.7  377.00  253.3"
      ]
     },
     "execution_count": 12,
     "metadata": {},
     "output_type": "execute_result"
    }
   ],
   "source": [
    "df.head()"
   ]
  },
  {
   "cell_type": "code",
   "execution_count": 14,
   "id": "d7e3c4f9-7208-48a1-bee4-1a89c09e2714",
   "metadata": {},
   "outputs": [],
   "source": [
    "data = df[['pm25']]"
   ]
  },
  {
   "cell_type": "code",
   "execution_count": 15,
   "id": "a2eedd5e-c6fa-43b7-9458-5deca00f11fb",
   "metadata": {},
   "outputs": [],
   "source": [
    "from sklearn.preprocessing import MinMaxScaler\n",
    "values = data.values\n",
    "\n",
    "values = values.astype('float32')\n",
    "\n",
    "scaler = MinMaxScaler(feature_range=(0, 1))\n",
    "scaled = scaler.fit_transform(values)"
   ]
  },
  {
   "cell_type": "code",
   "execution_count": 16,
   "id": "d93f3d70-328f-40a2-9403-0e22e9802560",
   "metadata": {},
   "outputs": [],
   "source": [
    "scaled = scaled.reshape((20978,))"
   ]
  },
  {
   "cell_type": "code",
   "execution_count": 17,
   "id": "09f5ccf2-8abf-4b08-8051-cb206ea52fad",
   "metadata": {},
   "outputs": [
    {
     "data": {
      "text/plain": [
       "(20978,)"
      ]
     },
     "execution_count": 17,
     "metadata": {},
     "output_type": "execute_result"
    }
   ],
   "source": [
    "scaled.shape"
   ]
  },
  {
   "cell_type": "code",
   "execution_count": 18,
   "id": "071ee44c-f600-41f6-9490-6cda18be3d8d",
   "metadata": {},
   "outputs": [],
   "source": [
    "def df_to_X_y(df, window_size, forecast_length):\n",
    "    # df_as_np = df.to_numpy()\n",
    "    X = []\n",
    "    y = []\n",
    "    \n",
    "    for i in range(len(df) - window_size - forecast_length):\n",
    "        row_x = [[a] for a in df[i:i+window_size]]\n",
    "        \n",
    "        X.append(row_x)\n",
    "        # row_y = df_as_np[i+window_size]\n",
    "        row_y = [b for b in df[i+window_size:i+window_size+forecast_length]]\n",
    "        \n",
    "        y.append(row_y)\n",
    "        \n",
    "    return np.array(X), np.array(y)"
   ]
  },
  {
   "cell_type": "code",
   "execution_count": 19,
   "id": "acc61e69-89e7-4d66-a7d1-68f7f9a79cd1",
   "metadata": {},
   "outputs": [],
   "source": [
    "def train_test_split(X, y, test_size=0.2):\n",
    "    split_idx = int(len(X) * (1 - test_size))\n",
    "    X_train, X_test = X[:split_idx], X[split_idx:]\n",
    "    y_train, y_test = y[:split_idx], y[split_idx:]\n",
    "    return X_train, X_test, y_train, y_test"
   ]
  },
  {
   "cell_type": "code",
   "execution_count": 21,
   "id": "c118b905-bab3-4abf-b257-253d7ea2bb98",
   "metadata": {},
   "outputs": [],
   "source": [
    "WINDOW_WIDTH = 168\n",
    "FORECAST_LENGTH = 168\n",
    "X, y = df_to_X_y(scaled, WINDOW_WIDTH, FORECAST_LENGTH)\n",
    "\n",
    "\n",
    "X_train, X_test, y_train, y_test = train_test_split(X, y, test_size=0.2)\n",
    "X_train, X_val, y_train, y_val = train_test_split(X_train, y_train, test_size=0.2)\n",
    "\n",
    "X_max = X_train.max()\n",
    "X_min = X_train.min()"
   ]
  },
  {
   "cell_type": "code",
   "execution_count": 22,
   "id": "e7b85489-d3d6-4c17-8935-238402086eff",
   "metadata": {},
   "outputs": [],
   "source": [
    "batchSize = 16\n",
    "from keras.models import Sequential, save_model, load_model\n",
    "from keras.layers import *\n",
    "from keras.callbacks import ReduceLROnPlateau, ModelCheckpoint\n",
    "from tensorflow.keras.optimizers import Adam\n",
    "from keras.losses import MeanSquaredError\n",
    "from keras.metrics import RootMeanSquaredError"
   ]
  },
  {
   "cell_type": "code",
   "execution_count": 23,
   "id": "3b6c5847-1cc5-4149-b349-ff4f5c638c90",
   "metadata": {},
   "outputs": [
    {
     "name": "stderr",
     "output_type": "stream",
     "text": [
      "C:\\Users\\Hassan\\AppData\\Local\\Programs\\Python\\Python311\\Lib\\site-packages\\keras\\src\\layers\\convolutional\\base_conv.py:99: UserWarning: Do not pass an `input_shape`/`input_dim` argument to a layer. When using Sequential models, prefer using an `Input(shape)` object as the first layer in the model instead.\n",
      "  super().__init__(\n"
     ]
    },
    {
     "data": {
      "text/html": [
       "<pre style=\"white-space:pre;overflow-x:auto;line-height:normal;font-family:Menlo,'DejaVu Sans Mono',consolas,'Courier New',monospace\"><span style=\"font-weight: bold\">Model: \"sequential\"</span>\n",
       "</pre>\n"
      ],
      "text/plain": [
       "\u001b[1mModel: \"sequential\"\u001b[0m\n"
      ]
     },
     "metadata": {},
     "output_type": "display_data"
    },
    {
     "data": {
      "text/html": [
       "<pre style=\"white-space:pre;overflow-x:auto;line-height:normal;font-family:Menlo,'DejaVu Sans Mono',consolas,'Courier New',monospace\">┏━━━━━━━━━━━━━━━━━━━━━━━━━━━━━━━━━━━━━━┳━━━━━━━━━━━━━━━━━━━━━━━━━━━━━┳━━━━━━━━━━━━━━━━━┓\n",
       "┃<span style=\"font-weight: bold\"> Layer (type)                         </span>┃<span style=\"font-weight: bold\"> Output Shape                </span>┃<span style=\"font-weight: bold\">         Param # </span>┃\n",
       "┡━━━━━━━━━━━━━━━━━━━━━━━━━━━━━━━━━━━━━━╇━━━━━━━━━━━━━━━━━━━━━━━━━━━━━╇━━━━━━━━━━━━━━━━━┩\n",
       "│ conv1d (<span style=\"color: #0087ff; text-decoration-color: #0087ff\">Conv1D</span>)                      │ (<span style=\"color: #00d7ff; text-decoration-color: #00d7ff\">None</span>, <span style=\"color: #00af00; text-decoration-color: #00af00\">166</span>, <span style=\"color: #00af00; text-decoration-color: #00af00\">8</span>)              │              <span style=\"color: #00af00; text-decoration-color: #00af00\">32</span> │\n",
       "├──────────────────────────────────────┼─────────────────────────────┼─────────────────┤\n",
       "│ flatten (<span style=\"color: #0087ff; text-decoration-color: #0087ff\">Flatten</span>)                    │ (<span style=\"color: #00d7ff; text-decoration-color: #00d7ff\">None</span>, <span style=\"color: #00af00; text-decoration-color: #00af00\">1328</span>)                │               <span style=\"color: #00af00; text-decoration-color: #00af00\">0</span> │\n",
       "├──────────────────────────────────────┼─────────────────────────────┼─────────────────┤\n",
       "│ dense (<span style=\"color: #0087ff; text-decoration-color: #0087ff\">Dense</span>)                        │ (<span style=\"color: #00d7ff; text-decoration-color: #00d7ff\">None</span>, <span style=\"color: #00af00; text-decoration-color: #00af00\">168</span>)                 │         <span style=\"color: #00af00; text-decoration-color: #00af00\">223,272</span> │\n",
       "└──────────────────────────────────────┴─────────────────────────────┴─────────────────┘\n",
       "</pre>\n"
      ],
      "text/plain": [
       "┏━━━━━━━━━━━━━━━━━━━━━━━━━━━━━━━━━━━━━━┳━━━━━━━━━━━━━━━━━━━━━━━━━━━━━┳━━━━━━━━━━━━━━━━━┓\n",
       "┃\u001b[1m \u001b[0m\u001b[1mLayer (type)                        \u001b[0m\u001b[1m \u001b[0m┃\u001b[1m \u001b[0m\u001b[1mOutput Shape               \u001b[0m\u001b[1m \u001b[0m┃\u001b[1m \u001b[0m\u001b[1m        Param #\u001b[0m\u001b[1m \u001b[0m┃\n",
       "┡━━━━━━━━━━━━━━━━━━━━━━━━━━━━━━━━━━━━━━╇━━━━━━━━━━━━━━━━━━━━━━━━━━━━━╇━━━━━━━━━━━━━━━━━┩\n",
       "│ conv1d (\u001b[38;5;33mConv1D\u001b[0m)                      │ (\u001b[38;5;45mNone\u001b[0m, \u001b[38;5;34m166\u001b[0m, \u001b[38;5;34m8\u001b[0m)              │              \u001b[38;5;34m32\u001b[0m │\n",
       "├──────────────────────────────────────┼─────────────────────────────┼─────────────────┤\n",
       "│ flatten (\u001b[38;5;33mFlatten\u001b[0m)                    │ (\u001b[38;5;45mNone\u001b[0m, \u001b[38;5;34m1328\u001b[0m)                │               \u001b[38;5;34m0\u001b[0m │\n",
       "├──────────────────────────────────────┼─────────────────────────────┼─────────────────┤\n",
       "│ dense (\u001b[38;5;33mDense\u001b[0m)                        │ (\u001b[38;5;45mNone\u001b[0m, \u001b[38;5;34m168\u001b[0m)                 │         \u001b[38;5;34m223,272\u001b[0m │\n",
       "└──────────────────────────────────────┴─────────────────────────────┴─────────────────┘\n"
      ]
     },
     "metadata": {},
     "output_type": "display_data"
    },
    {
     "data": {
      "text/html": [
       "<pre style=\"white-space:pre;overflow-x:auto;line-height:normal;font-family:Menlo,'DejaVu Sans Mono',consolas,'Courier New',monospace\"><span style=\"font-weight: bold\"> Total params: </span><span style=\"color: #00af00; text-decoration-color: #00af00\">223,304</span> (872.28 KB)\n",
       "</pre>\n"
      ],
      "text/plain": [
       "\u001b[1m Total params: \u001b[0m\u001b[38;5;34m223,304\u001b[0m (872.28 KB)\n"
      ]
     },
     "metadata": {},
     "output_type": "display_data"
    },
    {
     "data": {
      "text/html": [
       "<pre style=\"white-space:pre;overflow-x:auto;line-height:normal;font-family:Menlo,'DejaVu Sans Mono',consolas,'Courier New',monospace\"><span style=\"font-weight: bold\"> Trainable params: </span><span style=\"color: #00af00; text-decoration-color: #00af00\">223,304</span> (872.28 KB)\n",
       "</pre>\n"
      ],
      "text/plain": [
       "\u001b[1m Trainable params: \u001b[0m\u001b[38;5;34m223,304\u001b[0m (872.28 KB)\n"
      ]
     },
     "metadata": {},
     "output_type": "display_data"
    },
    {
     "data": {
      "text/html": [
       "<pre style=\"white-space:pre;overflow-x:auto;line-height:normal;font-family:Menlo,'DejaVu Sans Mono',consolas,'Courier New',monospace\"><span style=\"font-weight: bold\"> Non-trainable params: </span><span style=\"color: #00af00; text-decoration-color: #00af00\">0</span> (0.00 B)\n",
       "</pre>\n"
      ],
      "text/plain": [
       "\u001b[1m Non-trainable params: \u001b[0m\u001b[38;5;34m0\u001b[0m (0.00 B)\n"
      ]
     },
     "metadata": {},
     "output_type": "display_data"
    },
    {
     "name": "stdout",
     "output_type": "stream",
     "text": [
      "Epoch 1/50\n",
      "\u001b[1m413/413\u001b[0m \u001b[32m━━━━━━━━━━━━━━━━━━━━\u001b[0m\u001b[37m\u001b[0m \u001b[1m2s\u001b[0m 3ms/step - loss: 0.0070 - root_mean_squared_error: 0.0824 - val_loss: 0.0015 - val_root_mean_squared_error: 0.0383 - learning_rate: 0.0010\n",
      "Epoch 2/50\n",
      "\u001b[1m413/413\u001b[0m \u001b[32m━━━━━━━━━━━━━━━━━━━━\u001b[0m\u001b[37m\u001b[0m \u001b[1m1s\u001b[0m 3ms/step - loss: 0.0044 - root_mean_squared_error: 0.0662 - val_loss: 0.0015 - val_root_mean_squared_error: 0.0376 - learning_rate: 0.0010\n",
      "Epoch 3/50\n",
      "\u001b[1m413/413\u001b[0m \u001b[32m━━━━━━━━━━━━━━━━━━━━\u001b[0m\u001b[37m\u001b[0m \u001b[1m1s\u001b[0m 2ms/step - loss: 0.0042 - root_mean_squared_error: 0.0648 - val_loss: 0.0015 - val_root_mean_squared_error: 0.0381 - learning_rate: 0.0010\n",
      "Epoch 4/50\n",
      "\u001b[1m413/413\u001b[0m \u001b[32m━━━━━━━━━━━━━━━━━━━━\u001b[0m\u001b[37m\u001b[0m \u001b[1m1s\u001b[0m 3ms/step - loss: 0.0038 - root_mean_squared_error: 0.0614 - val_loss: 0.0017 - val_root_mean_squared_error: 0.0403 - learning_rate: 0.0010\n",
      "Epoch 5/50\n",
      "\u001b[1m413/413\u001b[0m \u001b[32m━━━━━━━━━━━━━━━━━━━━\u001b[0m\u001b[37m\u001b[0m \u001b[1m1s\u001b[0m 3ms/step - loss: 0.0038 - root_mean_squared_error: 0.0619 - val_loss: 0.0015 - val_root_mean_squared_error: 0.0380 - learning_rate: 0.0010\n",
      "Epoch 6/50\n",
      "\u001b[1m413/413\u001b[0m \u001b[32m━━━━━━━━━━━━━━━━━━━━\u001b[0m\u001b[37m\u001b[0m \u001b[1m1s\u001b[0m 3ms/step - loss: 0.0039 - root_mean_squared_error: 0.0621 - val_loss: 0.0015 - val_root_mean_squared_error: 0.0379 - learning_rate: 0.0010\n",
      "Epoch 7/50\n",
      "\u001b[1m413/413\u001b[0m \u001b[32m━━━━━━━━━━━━━━━━━━━━\u001b[0m\u001b[37m\u001b[0m \u001b[1m1s\u001b[0m 2ms/step - loss: 0.0037 - root_mean_squared_error: 0.0606 - val_loss: 0.0016 - val_root_mean_squared_error: 0.0391 - learning_rate: 0.0010\n",
      "Epoch 8/50\n",
      "\u001b[1m413/413\u001b[0m \u001b[32m━━━━━━━━━━━━━━━━━━━━\u001b[0m\u001b[37m\u001b[0m \u001b[1m1s\u001b[0m 3ms/step - loss: 0.0038 - root_mean_squared_error: 0.0612 - val_loss: 0.0015 - val_root_mean_squared_error: 0.0379 - learning_rate: 0.0010\n",
      "Epoch 9/50\n",
      "\u001b[1m413/413\u001b[0m \u001b[32m━━━━━━━━━━━━━━━━━━━━\u001b[0m\u001b[37m\u001b[0m \u001b[1m2s\u001b[0m 5ms/step - loss: 0.0037 - root_mean_squared_error: 0.0610 - val_loss: 0.0015 - val_root_mean_squared_error: 0.0384 - learning_rate: 0.0010\n",
      "Epoch 10/50\n",
      "\u001b[1m413/413\u001b[0m \u001b[32m━━━━━━━━━━━━━━━━━━━━\u001b[0m\u001b[37m\u001b[0m \u001b[1m1s\u001b[0m 3ms/step - loss: 0.0037 - root_mean_squared_error: 0.0612 - val_loss: 0.0019 - val_root_mean_squared_error: 0.0434 - learning_rate: 0.0010\n",
      "Epoch 11/50\n",
      "\u001b[1m413/413\u001b[0m \u001b[32m━━━━━━━━━━━━━━━━━━━━\u001b[0m\u001b[37m\u001b[0m \u001b[1m1s\u001b[0m 3ms/step - loss: 0.0038 - root_mean_squared_error: 0.0614 - val_loss: 0.0019 - val_root_mean_squared_error: 0.0425 - learning_rate: 0.0010\n",
      "Epoch 12/50\n",
      "\u001b[1m413/413\u001b[0m \u001b[32m━━━━━━━━━━━━━━━━━━━━\u001b[0m\u001b[37m\u001b[0m \u001b[1m1s\u001b[0m 3ms/step - loss: 0.0038 - root_mean_squared_error: 0.0613 - val_loss: 0.0015 - val_root_mean_squared_error: 0.0379 - learning_rate: 1.0000e-04\n",
      "Epoch 13/50\n",
      "\u001b[1m413/413\u001b[0m \u001b[32m━━━━━━━━━━━━━━━━━━━━\u001b[0m\u001b[37m\u001b[0m \u001b[1m2s\u001b[0m 4ms/step - loss: 0.0035 - root_mean_squared_error: 0.0594 - val_loss: 0.0015 - val_root_mean_squared_error: 0.0377 - learning_rate: 1.0000e-04\n",
      "Epoch 14/50\n",
      "\u001b[1m413/413\u001b[0m \u001b[32m━━━━━━━━━━━━━━━━━━━━\u001b[0m\u001b[37m\u001b[0m \u001b[1m1s\u001b[0m 3ms/step - loss: 0.0036 - root_mean_squared_error: 0.0599 - val_loss: 0.0015 - val_root_mean_squared_error: 0.0384 - learning_rate: 1.0000e-04\n",
      "Epoch 15/50\n",
      "\u001b[1m413/413\u001b[0m \u001b[32m━━━━━━━━━━━━━━━━━━━━\u001b[0m\u001b[37m\u001b[0m \u001b[1m1s\u001b[0m 3ms/step - loss: 0.0036 - root_mean_squared_error: 0.0597 - val_loss: 0.0015 - val_root_mean_squared_error: 0.0377 - learning_rate: 1.0000e-04\n",
      "Epoch 16/50\n",
      "\u001b[1m413/413\u001b[0m \u001b[32m━━━━━━━━━━━━━━━━━━━━\u001b[0m\u001b[37m\u001b[0m \u001b[1m1s\u001b[0m 3ms/step - loss: 0.0035 - root_mean_squared_error: 0.0591 - val_loss: 0.0015 - val_root_mean_squared_error: 0.0380 - learning_rate: 1.0000e-04\n",
      "Epoch 17/50\n",
      "\u001b[1m413/413\u001b[0m \u001b[32m━━━━━━━━━━━━━━━━━━━━\u001b[0m\u001b[37m\u001b[0m \u001b[1m1s\u001b[0m 2ms/step - loss: 0.0035 - root_mean_squared_error: 0.0589 - val_loss: 0.0015 - val_root_mean_squared_error: 0.0381 - learning_rate: 1.0000e-04\n",
      "Epoch 18/50\n",
      "\u001b[1m413/413\u001b[0m \u001b[32m━━━━━━━━━━━━━━━━━━━━\u001b[0m\u001b[37m\u001b[0m \u001b[1m1s\u001b[0m 3ms/step - loss: 0.0035 - root_mean_squared_error: 0.0594 - val_loss: 0.0015 - val_root_mean_squared_error: 0.0379 - learning_rate: 1.0000e-04\n",
      "Epoch 19/50\n",
      "\u001b[1m413/413\u001b[0m \u001b[32m━━━━━━━━━━━━━━━━━━━━\u001b[0m\u001b[37m\u001b[0m \u001b[1m1s\u001b[0m 2ms/step - loss: 0.0036 - root_mean_squared_error: 0.0598 - val_loss: 0.0015 - val_root_mean_squared_error: 0.0380 - learning_rate: 1.0000e-04\n",
      "Epoch 20/50\n",
      "\u001b[1m413/413\u001b[0m \u001b[32m━━━━━━━━━━━━━━━━━━━━\u001b[0m\u001b[37m\u001b[0m \u001b[1m1s\u001b[0m 2ms/step - loss: 0.0035 - root_mean_squared_error: 0.0593 - val_loss: 0.0015 - val_root_mean_squared_error: 0.0379 - learning_rate: 1.0000e-04\n",
      "Epoch 21/50\n",
      "\u001b[1m413/413\u001b[0m \u001b[32m━━━━━━━━━━━━━━━━━━━━\u001b[0m\u001b[37m\u001b[0m \u001b[1m1s\u001b[0m 3ms/step - loss: 0.0035 - root_mean_squared_error: 0.0596 - val_loss: 0.0015 - val_root_mean_squared_error: 0.0385 - learning_rate: 1.0000e-04\n",
      "Epoch 22/50\n",
      "\u001b[1m413/413\u001b[0m \u001b[32m━━━━━━━━━━━━━━━━━━━━\u001b[0m\u001b[37m\u001b[0m \u001b[1m1s\u001b[0m 2ms/step - loss: 0.0034 - root_mean_squared_error: 0.0586 - val_loss: 0.0015 - val_root_mean_squared_error: 0.0377 - learning_rate: 1.0000e-05\n",
      "Epoch 23/50\n",
      "\u001b[1m413/413\u001b[0m \u001b[32m━━━━━━━━━━━━━━━━━━━━\u001b[0m\u001b[37m\u001b[0m \u001b[1m1s\u001b[0m 2ms/step - loss: 0.0036 - root_mean_squared_error: 0.0597 - val_loss: 0.0015 - val_root_mean_squared_error: 0.0379 - learning_rate: 1.0000e-05\n",
      "Epoch 24/50\n",
      "\u001b[1m413/413\u001b[0m \u001b[32m━━━━━━━━━━━━━━━━━━━━\u001b[0m\u001b[37m\u001b[0m \u001b[1m1s\u001b[0m 3ms/step - loss: 0.0035 - root_mean_squared_error: 0.0592 - val_loss: 0.0015 - val_root_mean_squared_error: 0.0379 - learning_rate: 1.0000e-05\n",
      "Epoch 25/50\n",
      "\u001b[1m413/413\u001b[0m \u001b[32m━━━━━━━━━━━━━━━━━━━━\u001b[0m\u001b[37m\u001b[0m \u001b[1m1s\u001b[0m 3ms/step - loss: 0.0037 - root_mean_squared_error: 0.0608 - val_loss: 0.0015 - val_root_mean_squared_error: 0.0379 - learning_rate: 1.0000e-05\n",
      "Epoch 26/50\n",
      "\u001b[1m413/413\u001b[0m \u001b[32m━━━━━━━━━━━━━━━━━━━━\u001b[0m\u001b[37m\u001b[0m \u001b[1m1s\u001b[0m 3ms/step - loss: 0.0036 - root_mean_squared_error: 0.0603 - val_loss: 0.0015 - val_root_mean_squared_error: 0.0379 - learning_rate: 1.0000e-05\n",
      "Epoch 27/50\n",
      "\u001b[1m413/413\u001b[0m \u001b[32m━━━━━━━━━━━━━━━━━━━━\u001b[0m\u001b[37m\u001b[0m \u001b[1m2s\u001b[0m 4ms/step - loss: 0.0035 - root_mean_squared_error: 0.0589 - val_loss: 0.0015 - val_root_mean_squared_error: 0.0379 - learning_rate: 1.0000e-05\n",
      "Epoch 28/50\n",
      "\u001b[1m413/413\u001b[0m \u001b[32m━━━━━━━━━━━━━━━━━━━━\u001b[0m\u001b[37m\u001b[0m \u001b[1m1s\u001b[0m 3ms/step - loss: 0.0036 - root_mean_squared_error: 0.0601 - val_loss: 0.0015 - val_root_mean_squared_error: 0.0378 - learning_rate: 1.0000e-05\n",
      "Epoch 29/50\n",
      "\u001b[1m413/413\u001b[0m \u001b[32m━━━━━━━━━━━━━━━━━━━━\u001b[0m\u001b[37m\u001b[0m \u001b[1m1s\u001b[0m 3ms/step - loss: 0.0035 - root_mean_squared_error: 0.0594 - val_loss: 0.0015 - val_root_mean_squared_error: 0.0381 - learning_rate: 1.0000e-05\n",
      "Epoch 30/50\n",
      "\u001b[1m413/413\u001b[0m \u001b[32m━━━━━━━━━━━━━━━━━━━━\u001b[0m\u001b[37m\u001b[0m \u001b[1m1s\u001b[0m 3ms/step - loss: 0.0035 - root_mean_squared_error: 0.0591 - val_loss: 0.0015 - val_root_mean_squared_error: 0.0379 - learning_rate: 1.0000e-05\n",
      "Epoch 31/50\n",
      "\u001b[1m413/413\u001b[0m \u001b[32m━━━━━━━━━━━━━━━━━━━━\u001b[0m\u001b[37m\u001b[0m \u001b[1m1s\u001b[0m 3ms/step - loss: 0.0035 - root_mean_squared_error: 0.0590 - val_loss: 0.0015 - val_root_mean_squared_error: 0.0379 - learning_rate: 1.0000e-05\n",
      "Epoch 32/50\n",
      "\u001b[1m413/413\u001b[0m \u001b[32m━━━━━━━━━━━━━━━━━━━━\u001b[0m\u001b[37m\u001b[0m \u001b[1m2s\u001b[0m 4ms/step - loss: 0.0035 - root_mean_squared_error: 0.0593 - val_loss: 0.0015 - val_root_mean_squared_error: 0.0379 - learning_rate: 1.0000e-06\n",
      "Epoch 33/50\n",
      "\u001b[1m413/413\u001b[0m \u001b[32m━━━━━━━━━━━━━━━━━━━━\u001b[0m\u001b[37m\u001b[0m \u001b[1m2s\u001b[0m 4ms/step - loss: 0.0036 - root_mean_squared_error: 0.0596 - val_loss: 0.0015 - val_root_mean_squared_error: 0.0378 - learning_rate: 1.0000e-06\n",
      "Epoch 34/50\n",
      "\u001b[1m413/413\u001b[0m \u001b[32m━━━━━━━━━━━━━━━━━━━━\u001b[0m\u001b[37m\u001b[0m \u001b[1m2s\u001b[0m 3ms/step - loss: 0.0035 - root_mean_squared_error: 0.0595 - val_loss: 0.0015 - val_root_mean_squared_error: 0.0378 - learning_rate: 1.0000e-06\n",
      "Epoch 35/50\n",
      "\u001b[1m413/413\u001b[0m \u001b[32m━━━━━━━━━━━━━━━━━━━━\u001b[0m\u001b[37m\u001b[0m \u001b[1m1s\u001b[0m 3ms/step - loss: 0.0035 - root_mean_squared_error: 0.0593 - val_loss: 0.0015 - val_root_mean_squared_error: 0.0378 - learning_rate: 1.0000e-06\n",
      "Epoch 36/50\n",
      "\u001b[1m413/413\u001b[0m \u001b[32m━━━━━━━━━━━━━━━━━━━━\u001b[0m\u001b[37m\u001b[0m \u001b[1m2s\u001b[0m 4ms/step - loss: 0.0035 - root_mean_squared_error: 0.0593 - val_loss: 0.0015 - val_root_mean_squared_error: 0.0378 - learning_rate: 1.0000e-06\n",
      "Epoch 37/50\n",
      "\u001b[1m413/413\u001b[0m \u001b[32m━━━━━━━━━━━━━━━━━━━━\u001b[0m\u001b[37m\u001b[0m \u001b[1m2s\u001b[0m 4ms/step - loss: 0.0035 - root_mean_squared_error: 0.0588 - val_loss: 0.0015 - val_root_mean_squared_error: 0.0378 - learning_rate: 1.0000e-06\n",
      "Epoch 38/50\n",
      "\u001b[1m413/413\u001b[0m \u001b[32m━━━━━━━━━━━━━━━━━━━━\u001b[0m\u001b[37m\u001b[0m \u001b[1m1s\u001b[0m 3ms/step - loss: 0.0036 - root_mean_squared_error: 0.0597 - val_loss: 0.0015 - val_root_mean_squared_error: 0.0378 - learning_rate: 1.0000e-06\n",
      "Epoch 39/50\n",
      "\u001b[1m413/413\u001b[0m \u001b[32m━━━━━━━━━━━━━━━━━━━━\u001b[0m\u001b[37m\u001b[0m \u001b[1m1s\u001b[0m 4ms/step - loss: 0.0036 - root_mean_squared_error: 0.0602 - val_loss: 0.0015 - val_root_mean_squared_error: 0.0378 - learning_rate: 1.0000e-06\n",
      "Epoch 40/50\n",
      "\u001b[1m413/413\u001b[0m \u001b[32m━━━━━━━━━━━━━━━━━━━━\u001b[0m\u001b[37m\u001b[0m \u001b[1m1s\u001b[0m 3ms/step - loss: 0.0035 - root_mean_squared_error: 0.0589 - val_loss: 0.0015 - val_root_mean_squared_error: 0.0378 - learning_rate: 1.0000e-06\n",
      "Epoch 41/50\n",
      "\u001b[1m413/413\u001b[0m \u001b[32m━━━━━━━━━━━━━━━━━━━━\u001b[0m\u001b[37m\u001b[0m \u001b[1m2s\u001b[0m 4ms/step - loss: 0.0035 - root_mean_squared_error: 0.0595 - val_loss: 0.0015 - val_root_mean_squared_error: 0.0378 - learning_rate: 1.0000e-06\n",
      "Epoch 42/50\n",
      "\u001b[1m413/413\u001b[0m \u001b[32m━━━━━━━━━━━━━━━━━━━━\u001b[0m\u001b[37m\u001b[0m \u001b[1m2s\u001b[0m 4ms/step - loss: 0.0035 - root_mean_squared_error: 0.0587 - val_loss: 0.0015 - val_root_mean_squared_error: 0.0378 - learning_rate: 1.0000e-07\n",
      "Epoch 43/50\n",
      "\u001b[1m413/413\u001b[0m \u001b[32m━━━━━━━━━━━━━━━━━━━━\u001b[0m\u001b[37m\u001b[0m \u001b[1m2s\u001b[0m 4ms/step - loss: 0.0035 - root_mean_squared_error: 0.0596 - val_loss: 0.0015 - val_root_mean_squared_error: 0.0378 - learning_rate: 1.0000e-07\n",
      "Epoch 44/50\n",
      "\u001b[1m413/413\u001b[0m \u001b[32m━━━━━━━━━━━━━━━━━━━━\u001b[0m\u001b[37m\u001b[0m \u001b[1m2s\u001b[0m 4ms/step - loss: 0.0035 - root_mean_squared_error: 0.0588 - val_loss: 0.0015 - val_root_mean_squared_error: 0.0378 - learning_rate: 1.0000e-07\n",
      "Epoch 45/50\n",
      "\u001b[1m413/413\u001b[0m \u001b[32m━━━━━━━━━━━━━━━━━━━━\u001b[0m\u001b[37m\u001b[0m \u001b[1m2s\u001b[0m 4ms/step - loss: 0.0036 - root_mean_squared_error: 0.0602 - val_loss: 0.0015 - val_root_mean_squared_error: 0.0378 - learning_rate: 1.0000e-07\n",
      "Epoch 46/50\n",
      "\u001b[1m413/413\u001b[0m \u001b[32m━━━━━━━━━━━━━━━━━━━━\u001b[0m\u001b[37m\u001b[0m \u001b[1m1s\u001b[0m 3ms/step - loss: 0.0035 - root_mean_squared_error: 0.0591 - val_loss: 0.0015 - val_root_mean_squared_error: 0.0378 - learning_rate: 1.0000e-07\n",
      "Epoch 47/50\n",
      "\u001b[1m413/413\u001b[0m \u001b[32m━━━━━━━━━━━━━━━━━━━━\u001b[0m\u001b[37m\u001b[0m \u001b[1m1s\u001b[0m 3ms/step - loss: 0.0035 - root_mean_squared_error: 0.0594 - val_loss: 0.0015 - val_root_mean_squared_error: 0.0378 - learning_rate: 1.0000e-07\n",
      "Epoch 48/50\n",
      "\u001b[1m413/413\u001b[0m \u001b[32m━━━━━━━━━━━━━━━━━━━━\u001b[0m\u001b[37m\u001b[0m \u001b[1m2s\u001b[0m 4ms/step - loss: 0.0035 - root_mean_squared_error: 0.0593 - val_loss: 0.0015 - val_root_mean_squared_error: 0.0378 - learning_rate: 1.0000e-07\n",
      "Epoch 49/50\n",
      "\u001b[1m413/413\u001b[0m \u001b[32m━━━━━━━━━━━━━━━━━━━━\u001b[0m\u001b[37m\u001b[0m \u001b[1m1s\u001b[0m 4ms/step - loss: 0.0034 - root_mean_squared_error: 0.0586 - val_loss: 0.0015 - val_root_mean_squared_error: 0.0378 - learning_rate: 1.0000e-07\n",
      "Epoch 50/50\n",
      "\u001b[1m413/413\u001b[0m \u001b[32m━━━━━━━━━━━━━━━━━━━━\u001b[0m\u001b[37m\u001b[0m \u001b[1m2s\u001b[0m 5ms/step - loss: 0.0035 - root_mean_squared_error: 0.0592 - val_loss: 0.0015 - val_root_mean_squared_error: 0.0378 - learning_rate: 1.0000e-07\n"
     ]
    }
   ],
   "source": [
    "normalizer = Normalization()\n",
    "normalizer.adapt(X_train)\n",
    "rlrop = ReduceLROnPlateau(monitor='val_loss', factor=0.1, patience=10)\n",
    "\n",
    "model = Sequential()\n",
    "# 1D Convolutional layers\n",
    "model.add(Conv1D(filters=8, kernel_size=3, activation='relu', input_shape=X_train.shape[1:]))\n",
    "# model.add(Conv1D(filters=64, kernel_size=3, activation='relu'))\n",
    "# model.add(Conv1D(filters=32, kernel_size=3, activation='relu'))\n",
    "# Flatten the output of the Conv layers\n",
    "model.add(Flatten())\n",
    "# model.add(LSTM(input_shape = X_train.shape[1:], units=86, return_sequences=True))\n",
    "# model.add(LSTM(units=64, return_sequences=True))\n",
    "# model.add(GRU(units=86, return_sequences=True))\n",
    "# model.add(LSTM(units=128, return_sequences=True))\n",
    "# model.add(GRU(units=100, return_sequences=True))\n",
    "# model.add(LSTM(units=100, return_sequences=False))\n",
    "# model.add(Dense(units=100,  activation='relu'))\n",
    "# model.add(Dense(8, activation='relu'))\n",
    "\n",
    "model.add(Dense(units=FORECAST_LENGTH, activation='linear'))\n",
    "\n",
    "model.summary()\n",
    "\n",
    "model.compile(optimizer=Adam(learning_rate=0.001), metrics=[RootMeanSquaredError()] , loss=MeanSquaredError())\n",
    "\n",
    "history = model.fit(X_train, y_train, validation_data=(X_val,y_val), epochs=50, callbacks=[rlrop])\n",
    "\n",
    "# score = model.evaluate(X_test, y_test, verbose = 1)"
   ]
  },
  {
   "cell_type": "code",
   "execution_count": 24,
   "id": "5674b419-12bd-4a4e-a83d-2438ae813939",
   "metadata": {},
   "outputs": [
    {
     "name": "stdout",
     "output_type": "stream",
     "text": [
      "\u001b[1m130/130\u001b[0m \u001b[32m━━━━━━━━━━━━━━━━━━━━\u001b[0m\u001b[37m\u001b[0m \u001b[1m0s\u001b[0m 1ms/step\n"
     ]
    }
   ],
   "source": [
    "forecast = model.predict(X_test)"
   ]
  },
  {
   "cell_type": "code",
   "execution_count": 25,
   "id": "abb7c26e-b6e8-4526-aa4e-9180825c9d51",
   "metadata": {},
   "outputs": [],
   "source": [
    "poll = np.array(df[\"pm25\"])\n",
    "\n",
    "meanop = poll.mean()\n",
    "stdop = poll.std()\n",
    "\n",
    "y_test_true = y_test*stdop + meanop\n",
    "testPredict = forecast*stdop + meanop"
   ]
  },
  {
   "cell_type": "code",
   "execution_count": 26,
   "id": "cccf66c7-77a1-483d-8b28-e5df8056b4b6",
   "metadata": {},
   "outputs": [],
   "source": [
    "from sklearn.metrics import mean_squared_error"
   ]
  },
  {
   "cell_type": "code",
   "execution_count": 27,
   "id": "3e3a186b-a281-4964-9581-f8f73931e019",
   "metadata": {},
   "outputs": [
    {
     "name": "stdout",
     "output_type": "stream",
     "text": [
      "Test RMSE = 2.4625733\n"
     ]
    }
   ],
   "source": [
    "rmse = np.sqrt(mean_squared_error(y_test_true, testPredict))\n",
    "print(\"Test RMSE =\"  ,rmse)"
   ]
  },
  {
   "cell_type": "code",
   "execution_count": 28,
   "id": "aea7a0e2-b0ee-4cce-98be-ca54b4c0e1c2",
   "metadata": {},
   "outputs": [
    {
     "name": "stdout",
     "output_type": "stream",
     "text": [
      "Test MAPE = 2.037653513252735\n"
     ]
    }
   ],
   "source": [
    "# Calculate MAPE\n",
    "mape = np.mean(np.abs((y_test_true - testPredict) / y_test_true)) * 100\n",
    "print(\"Test MAPE =\", mape)"
   ]
  },
  {
   "cell_type": "code",
   "execution_count": 29,
   "id": "60d309dd-3111-459c-8f05-2c485ae4233a",
   "metadata": {},
   "outputs": [
    {
     "name": "stdout",
     "output_type": "stream",
     "text": [
      "Accuracy = 97.96234648674726 %\n"
     ]
    }
   ],
   "source": [
    "# Calculate accuracy as 1 - MAPE\n",
    "accuracy = 100 - mape\n",
    "print(\"Accuracy =\", accuracy, \"%\")"
   ]
  },
  {
   "cell_type": "code",
   "execution_count": 30,
   "id": "664776b6-a17f-41e9-90ec-0b283f9bcad4",
   "metadata": {},
   "outputs": [
    {
     "name": "stdout",
     "output_type": "stream",
     "text": [
      "Test MAE = 1.6729987\n"
     ]
    }
   ],
   "source": [
    "from sklearn.metrics import mean_absolute_error\n",
    "\n",
    "# Calculate MAE\n",
    "mae = mean_absolute_error(y_test_true, testPredict)\n",
    "print(\"Test MAE =\", mae)"
   ]
  },
  {
   "cell_type": "code",
   "execution_count": 31,
   "id": "a8c9fe94-b991-48aa-b917-115e04f18ffa",
   "metadata": {},
   "outputs": [
    {
     "data": {
      "text/plain": [
       "(4129, 168)"
      ]
     },
     "execution_count": 31,
     "metadata": {},
     "output_type": "execute_result"
    }
   ],
   "source": [
    "y_test_true.shape"
   ]
  },
  {
   "cell_type": "code",
   "execution_count": 32,
   "id": "a21c236d-93b7-4d0a-ba80-08ec2a83c3f8",
   "metadata": {},
   "outputs": [
    {
     "data": {
      "text/plain": [
       "(4129, 168)"
      ]
     },
     "execution_count": 32,
     "metadata": {},
     "output_type": "execute_result"
    }
   ],
   "source": [
    "testPredict.shape"
   ]
  },
  {
   "cell_type": "code",
   "execution_count": 33,
   "id": "9c9037be-c096-476c-8472-bec3a194b54d",
   "metadata": {},
   "outputs": [],
   "source": [
    "import numpy as np\n",
    "\n",
    "def calculate_segment_rmse(predictions, actuals, segment_length=1):\n",
    "    num_segments = predictions.shape[1] // segment_length\n",
    "    rmses = []\n",
    "    \n",
    "    for i in range(num_segments):\n",
    "        start_idx = i * segment_length\n",
    "        end_idx = start_idx + segment_length\n",
    "        \n",
    "        # Extract the segment for both predictions and actuals\n",
    "        pred_segment = predictions[:, start_idx:end_idx]\n",
    "        actual_segment = actuals[:, start_idx:end_idx]\n",
    "        \n",
    "        # Calculate RMSE for this segment\n",
    "        segment_rmse = np.sqrt(mean_squared_error(actual_segment.flatten(), pred_segment.flatten()))\n",
    "        rmses.append(segment_rmse)\n",
    "    \n",
    "    return rmses"
   ]
  },
  {
   "cell_type": "code",
   "execution_count": 34,
   "id": "13b4f256-db53-49f0-a277-65259836076c",
   "metadata": {},
   "outputs": [
    {
     "name": "stdout",
     "output_type": "stream",
     "text": [
      "RMSE for segment 1: 0.5189\n",
      "RMSE for segment 2: 0.7907\n",
      "RMSE for segment 3: 1.0164\n",
      "RMSE for segment 4: 1.2049\n",
      "RMSE for segment 5: 1.3493\n",
      "RMSE for segment 6: 1.4607\n",
      "RMSE for segment 7: 1.5267\n",
      "RMSE for segment 8: 1.5755\n",
      "RMSE for segment 9: 1.6071\n",
      "RMSE for segment 10: 1.6403\n",
      "RMSE for segment 11: 1.6631\n",
      "RMSE for segment 12: 1.6847\n",
      "RMSE for segment 13: 1.6987\n",
      "RMSE for segment 14: 1.7109\n",
      "RMSE for segment 15: 1.7206\n",
      "RMSE for segment 16: 1.7287\n",
      "RMSE for segment 17: 1.7365\n",
      "RMSE for segment 18: 1.7401\n",
      "RMSE for segment 19: 1.7384\n",
      "RMSE for segment 20: 1.7380\n",
      "RMSE for segment 21: 1.7406\n",
      "RMSE for segment 22: 1.7456\n",
      "RMSE for segment 23: 1.7557\n",
      "RMSE for segment 24: 1.7682\n",
      "RMSE for segment 25: 1.7957\n",
      "RMSE for segment 26: 1.8338\n",
      "RMSE for segment 27: 1.8779\n",
      "RMSE for segment 28: 1.9153\n",
      "RMSE for segment 29: 1.9583\n",
      "RMSE for segment 30: 1.9977\n",
      "RMSE for segment 31: 2.0206\n",
      "RMSE for segment 32: 2.0489\n",
      "RMSE for segment 33: 2.0712\n",
      "RMSE for segment 34: 2.0940\n",
      "RMSE for segment 35: 2.1116\n",
      "RMSE for segment 36: 2.1250\n",
      "RMSE for segment 37: 2.1356\n",
      "RMSE for segment 38: 2.1450\n",
      "RMSE for segment 39: 2.1521\n",
      "RMSE for segment 40: 2.1596\n",
      "RMSE for segment 41: 2.1551\n",
      "RMSE for segment 42: 2.1604\n",
      "RMSE for segment 43: 2.1639\n",
      "RMSE for segment 44: 2.1670\n",
      "RMSE for segment 45: 2.1653\n",
      "RMSE for segment 46: 2.1718\n",
      "RMSE for segment 47: 2.1708\n",
      "RMSE for segment 48: 2.1793\n",
      "RMSE for segment 49: 2.1926\n",
      "RMSE for segment 50: 2.2095\n",
      "RMSE for segment 51: 2.2370\n",
      "RMSE for segment 52: 2.2577\n",
      "RMSE for segment 53: 2.2725\n",
      "RMSE for segment 54: 2.2957\n",
      "RMSE for segment 55: 2.3072\n",
      "RMSE for segment 56: 2.3217\n",
      "RMSE for segment 57: 2.3365\n",
      "RMSE for segment 58: 2.3439\n",
      "RMSE for segment 59: 2.3538\n",
      "RMSE for segment 60: 2.3581\n",
      "RMSE for segment 61: 2.3629\n",
      "RMSE for segment 62: 2.3668\n",
      "RMSE for segment 63: 2.3729\n",
      "RMSE for segment 64: 2.3730\n",
      "RMSE for segment 65: 2.3738\n",
      "RMSE for segment 66: 2.3755\n",
      "RMSE for segment 67: 2.3733\n",
      "RMSE for segment 68: 2.3741\n",
      "RMSE for segment 69: 2.3778\n",
      "RMSE for segment 70: 2.3767\n",
      "RMSE for segment 71: 2.3789\n",
      "RMSE for segment 72: 2.3876\n",
      "RMSE for segment 73: 2.3986\n",
      "RMSE for segment 74: 2.4213\n",
      "RMSE for segment 75: 2.4317\n",
      "RMSE for segment 76: 2.4536\n",
      "RMSE for segment 77: 2.4744\n",
      "RMSE for segment 78: 2.4823\n",
      "RMSE for segment 79: 2.4978\n",
      "RMSE for segment 80: 2.5043\n",
      "RMSE for segment 81: 2.5132\n",
      "RMSE for segment 82: 2.5178\n",
      "RMSE for segment 83: 2.5284\n",
      "RMSE for segment 84: 2.5353\n",
      "RMSE for segment 85: 2.5384\n",
      "RMSE for segment 86: 2.5393\n",
      "RMSE for segment 87: 2.5436\n",
      "RMSE for segment 88: 2.5519\n",
      "RMSE for segment 89: 2.5537\n",
      "RMSE for segment 90: 2.5571\n",
      "RMSE for segment 91: 2.5619\n",
      "RMSE for segment 92: 2.5676\n",
      "RMSE for segment 93: 2.5638\n",
      "RMSE for segment 94: 2.5676\n",
      "RMSE for segment 95: 2.5711\n",
      "RMSE for segment 96: 2.5806\n",
      "RMSE for segment 97: 2.5955\n",
      "RMSE for segment 98: 2.6043\n",
      "RMSE for segment 99: 2.6271\n",
      "RMSE for segment 100: 2.6457\n",
      "RMSE for segment 101: 2.6616\n",
      "RMSE for segment 102: 2.6762\n",
      "RMSE for segment 103: 2.6866\n",
      "RMSE for segment 104: 2.6998\n",
      "RMSE for segment 105: 2.7068\n",
      "RMSE for segment 106: 2.7108\n",
      "RMSE for segment 107: 2.7126\n",
      "RMSE for segment 108: 2.7130\n",
      "RMSE for segment 109: 2.7176\n",
      "RMSE for segment 110: 2.7143\n",
      "RMSE for segment 111: 2.7159\n",
      "RMSE for segment 112: 2.7160\n",
      "RMSE for segment 113: 2.7154\n",
      "RMSE for segment 114: 2.7135\n",
      "RMSE for segment 115: 2.7172\n",
      "RMSE for segment 116: 2.7126\n",
      "RMSE for segment 117: 2.7230\n",
      "RMSE for segment 118: 2.7142\n",
      "RMSE for segment 119: 2.7254\n",
      "RMSE for segment 120: 2.7318\n",
      "RMSE for segment 121: 2.7347\n",
      "RMSE for segment 122: 2.7390\n",
      "RMSE for segment 123: 2.7605\n",
      "RMSE for segment 124: 2.7652\n",
      "RMSE for segment 125: 2.7807\n",
      "RMSE for segment 126: 2.7955\n",
      "RMSE for segment 127: 2.8097\n",
      "RMSE for segment 128: 2.8144\n",
      "RMSE for segment 129: 2.8201\n",
      "RMSE for segment 130: 2.8323\n",
      "RMSE for segment 131: 2.8393\n",
      "RMSE for segment 132: 2.8404\n",
      "RMSE for segment 133: 2.8498\n",
      "RMSE for segment 134: 2.8519\n",
      "RMSE for segment 135: 2.8597\n",
      "RMSE for segment 136: 2.8546\n",
      "RMSE for segment 137: 2.8621\n",
      "RMSE for segment 138: 2.8572\n",
      "RMSE for segment 139: 2.8586\n",
      "RMSE for segment 140: 2.8626\n",
      "RMSE for segment 141: 2.8559\n",
      "RMSE for segment 142: 2.8643\n",
      "RMSE for segment 143: 2.8648\n",
      "RMSE for segment 144: 2.8712\n",
      "RMSE for segment 145: 2.8722\n",
      "RMSE for segment 146: 2.8735\n",
      "RMSE for segment 147: 2.8820\n",
      "RMSE for segment 148: 2.8903\n",
      "RMSE for segment 149: 2.9022\n",
      "RMSE for segment 150: 2.9105\n",
      "RMSE for segment 151: 2.9223\n",
      "RMSE for segment 152: 2.9324\n",
      "RMSE for segment 153: 2.9391\n",
      "RMSE for segment 154: 2.9426\n",
      "RMSE for segment 155: 2.9457\n",
      "RMSE for segment 156: 2.9520\n",
      "RMSE for segment 157: 2.9530\n",
      "RMSE for segment 158: 2.9507\n",
      "RMSE for segment 159: 2.9546\n",
      "RMSE for segment 160: 2.9569\n",
      "RMSE for segment 161: 2.9559\n",
      "RMSE for segment 162: 2.9558\n",
      "RMSE for segment 163: 2.9578\n",
      "RMSE for segment 164: 2.9663\n",
      "RMSE for segment 165: 2.9630\n",
      "RMSE for segment 166: 2.9676\n",
      "RMSE for segment 167: 2.9684\n",
      "RMSE for segment 168: 2.9726\n"
     ]
    }
   ],
   "source": [
    "segment_rmses = calculate_segment_rmse(testPredict, y_test_true)\n",
    "for i, rmse in enumerate(segment_rmses):\n",
    "    print(f\"RMSE for segment {i + 1}: {rmse:.4f}\")"
   ]
  },
  {
   "cell_type": "code",
   "execution_count": 35,
   "id": "7654b701-6ba9-4602-8611-59820b6311e4",
   "metadata": {},
   "outputs": [
    {
     "data": {
      "text/plain": [
       "array([[0.15286723, 0.14981377, 0.14454927, ..., 0.20705813, 0.21128932,\n",
       "        0.21695286],\n",
       "       [0.14471439, 0.13788176, 0.1346653 , ..., 0.21422195, 0.21790007,\n",
       "        0.21995872],\n",
       "       [0.13540128, 0.1320749 , 0.13438097, ..., 0.21944231, 0.22362861,\n",
       "        0.21791601],\n",
       "       ...,\n",
       "       [0.02859327, 0.03241791, 0.03477338, ..., 0.0331745 , 0.03623867,\n",
       "        0.03961613],\n",
       "       [0.02928583, 0.03251471, 0.03335475, ..., 0.03540375, 0.03893528,\n",
       "        0.04288445],\n",
       "       [0.03048321, 0.03143714, 0.03285784, ..., 0.0382637 , 0.04244003,\n",
       "        0.04708286]], dtype=float32)"
      ]
     },
     "execution_count": 35,
     "metadata": {},
     "output_type": "execute_result"
    }
   ],
   "source": [
    "forecast"
   ]
  },
  {
   "cell_type": "code",
   "execution_count": 36,
   "id": "7ea98a00-c789-49d3-bdfe-1c06c5364c33",
   "metadata": {},
   "outputs": [
    {
     "data": {
      "text/plain": [
       "array([[85.39434 , 85.20054 , 84.866394, ..., 88.833885, 89.10244 ,\n",
       "        89.461914],\n",
       "       [84.87688 , 84.44321 , 84.23905 , ..., 89.28858 , 89.52203 ,\n",
       "        89.652695],\n",
       "       [84.28577 , 84.07464 , 84.22101 , ..., 89.61992 , 89.88563 ,\n",
       "        89.52304 ],\n",
       "       ...,\n",
       "       [77.50658 , 77.74933 , 77.89883 , ..., 77.79735 , 77.99184 ,\n",
       "        78.2062  ],\n",
       "       [77.55053 , 77.75547 , 77.808784, ..., 77.93884 , 78.16299 ,\n",
       "        78.41364 ],\n",
       "       [77.626526, 77.68707 , 77.77725 , ..., 78.12036 , 78.38544 ,\n",
       "        78.68012 ]], dtype=float32)"
      ]
     },
     "execution_count": 36,
     "metadata": {},
     "output_type": "execute_result"
    }
   ],
   "source": [
    "testPredict"
   ]
  },
  {
   "cell_type": "code",
   "execution_count": 37,
   "id": "4e4e0314-523d-408f-9858-83e62f6ef22e",
   "metadata": {},
   "outputs": [
    {
     "data": {
      "text/plain": [
       "array([[85.79445 , 85.5795  , 85.36455 , ..., 93.31774 , 93.64017 ,\n",
       "        93.96259 ],\n",
       "       [85.5795  , 85.36455 , 85.14959 , ..., 93.64017 , 93.96259 ,\n",
       "        94.28502 ],\n",
       "       [85.36455 , 85.14959 , 86.116875, ..., 93.96259 , 94.28502 ,\n",
       "        93.64017 ],\n",
       "       ...,\n",
       "       [77.33933 , 77.37588 , 77.41135 , ..., 78.23568 , 78.52157 ,\n",
       "        78.808525],\n",
       "       [77.37588 , 77.41135 , 77.55429 , ..., 78.52157 , 78.808525,\n",
       "        78.843994],\n",
       "       [77.41135 , 77.55429 , 77.6983  , ..., 78.808525, 78.843994,\n",
       "        78.88054 ]], dtype=float32)"
      ]
     },
     "execution_count": 37,
     "metadata": {},
     "output_type": "execute_result"
    }
   ],
   "source": [
    "y_test_true"
   ]
  },
  {
   "cell_type": "code",
   "execution_count": 38,
   "id": "85765500-cf61-4e8a-8763-69a8f1e567ca",
   "metadata": {},
   "outputs": [],
   "source": [
    "model.save(\"pm25_1dcnn.keras\")"
   ]
  }
 ],
 "metadata": {
  "kernelspec": {
   "display_name": "Python 3 (ipykernel)",
   "language": "python",
   "name": "python3"
  },
  "language_info": {
   "codemirror_mode": {
    "name": "ipython",
    "version": 3
   },
   "file_extension": ".py",
   "mimetype": "text/x-python",
   "name": "python",
   "nbconvert_exporter": "python",
   "pygments_lexer": "ipython3",
   "version": "3.11.0"
  }
 },
 "nbformat": 4,
 "nbformat_minor": 5
}
