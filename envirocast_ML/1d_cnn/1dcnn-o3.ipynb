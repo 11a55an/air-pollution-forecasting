{
 "cells": [
  {
   "cell_type": "code",
   "execution_count": 1,
   "id": "08a7b78b-1d09-454f-8ecc-7c4184ab2240",
   "metadata": {},
   "outputs": [],
   "source": [
    "import pandas as pd\n",
    "import numpy as np"
   ]
  },
  {
   "cell_type": "code",
   "execution_count": 2,
   "id": "c1570c26-8e22-4498-9fe6-68e055e504a9",
   "metadata": {},
   "outputs": [],
   "source": [
    "df = pd.read_csv(\"../data/data_imputed_3.csv\")"
   ]
  },
  {
   "cell_type": "code",
   "execution_count": 3,
   "id": "55868db8-2144-49a3-9531-e4bf0728f0a2",
   "metadata": {},
   "outputs": [
    {
     "data": {
      "text/html": [
       "<div>\n",
       "<style scoped>\n",
       "    .dataframe tbody tr th:only-of-type {\n",
       "        vertical-align: middle;\n",
       "    }\n",
       "\n",
       "    .dataframe tbody tr th {\n",
       "        vertical-align: top;\n",
       "    }\n",
       "\n",
       "    .dataframe thead th {\n",
       "        text-align: right;\n",
       "    }\n",
       "</style>\n",
       "<table border=\"1\" class=\"dataframe\">\n",
       "  <thead>\n",
       "    <tr style=\"text-align: right;\">\n",
       "      <th></th>\n",
       "      <th>timestamp_local</th>\n",
       "      <th>temp</th>\n",
       "      <th>aqi</th>\n",
       "      <th>co</th>\n",
       "      <th>no2</th>\n",
       "      <th>o3</th>\n",
       "      <th>pm10</th>\n",
       "      <th>pm25</th>\n",
       "      <th>so2</th>\n",
       "    </tr>\n",
       "  </thead>\n",
       "  <tbody>\n",
       "    <tr>\n",
       "      <th>0</th>\n",
       "      <td>01/02/2022 0:00</td>\n",
       "      <td>12.6</td>\n",
       "      <td>385</td>\n",
       "      <td>1339.8</td>\n",
       "      <td>76.0</td>\n",
       "      <td>10.7</td>\n",
       "      <td>491.7</td>\n",
       "      <td>347.67</td>\n",
       "      <td>238.0</td>\n",
       "    </tr>\n",
       "    <tr>\n",
       "      <th>1</th>\n",
       "      <td>01/02/2022 1:00</td>\n",
       "      <td>11.5</td>\n",
       "      <td>404</td>\n",
       "      <td>1437.6</td>\n",
       "      <td>76.0</td>\n",
       "      <td>9.3</td>\n",
       "      <td>508.3</td>\n",
       "      <td>359.33</td>\n",
       "      <td>268.0</td>\n",
       "    </tr>\n",
       "    <tr>\n",
       "      <th>2</th>\n",
       "      <td>01/02/2022 2:00</td>\n",
       "      <td>11.9</td>\n",
       "      <td>421</td>\n",
       "      <td>1535.5</td>\n",
       "      <td>76.0</td>\n",
       "      <td>8.0</td>\n",
       "      <td>525.0</td>\n",
       "      <td>371.00</td>\n",
       "      <td>298.0</td>\n",
       "    </tr>\n",
       "    <tr>\n",
       "      <th>3</th>\n",
       "      <td>01/02/2022 3:00</td>\n",
       "      <td>12.2</td>\n",
       "      <td>425</td>\n",
       "      <td>1659.0</td>\n",
       "      <td>68.3</td>\n",
       "      <td>5.3</td>\n",
       "      <td>529.3</td>\n",
       "      <td>374.00</td>\n",
       "      <td>275.7</td>\n",
       "    </tr>\n",
       "    <tr>\n",
       "      <th>4</th>\n",
       "      <td>01/02/2022 4:00</td>\n",
       "      <td>11.9</td>\n",
       "      <td>430</td>\n",
       "      <td>1782.5</td>\n",
       "      <td>60.7</td>\n",
       "      <td>2.7</td>\n",
       "      <td>533.7</td>\n",
       "      <td>377.00</td>\n",
       "      <td>253.3</td>\n",
       "    </tr>\n",
       "    <tr>\n",
       "      <th>...</th>\n",
       "      <td>...</td>\n",
       "      <td>...</td>\n",
       "      <td>...</td>\n",
       "      <td>...</td>\n",
       "      <td>...</td>\n",
       "      <td>...</td>\n",
       "      <td>...</td>\n",
       "      <td>...</td>\n",
       "      <td>...</td>\n",
       "    </tr>\n",
       "    <tr>\n",
       "      <th>20973</th>\n",
       "      <td>23/06/2024 19:00</td>\n",
       "      <td>39.3</td>\n",
       "      <td>92</td>\n",
       "      <td>155.6</td>\n",
       "      <td>21.0</td>\n",
       "      <td>105.3</td>\n",
       "      <td>57.0</td>\n",
       "      <td>31.33</td>\n",
       "      <td>17.0</td>\n",
       "    </tr>\n",
       "    <tr>\n",
       "      <th>20974</th>\n",
       "      <td>23/06/2024 20:00</td>\n",
       "      <td>37.0</td>\n",
       "      <td>98</td>\n",
       "      <td>191.4</td>\n",
       "      <td>30.0</td>\n",
       "      <td>80.0</td>\n",
       "      <td>58.0</td>\n",
       "      <td>34.00</td>\n",
       "      <td>20.0</td>\n",
       "    </tr>\n",
       "    <tr>\n",
       "      <th>20975</th>\n",
       "      <td>23/06/2024 21:00</td>\n",
       "      <td>35.6</td>\n",
       "      <td>98</td>\n",
       "      <td>233.6</td>\n",
       "      <td>39.7</td>\n",
       "      <td>60.7</td>\n",
       "      <td>58.0</td>\n",
       "      <td>34.33</td>\n",
       "      <td>23.7</td>\n",
       "    </tr>\n",
       "    <tr>\n",
       "      <th>20976</th>\n",
       "      <td>23/06/2024 22:00</td>\n",
       "      <td>34.4</td>\n",
       "      <td>99</td>\n",
       "      <td>275.8</td>\n",
       "      <td>49.3</td>\n",
       "      <td>41.3</td>\n",
       "      <td>58.0</td>\n",
       "      <td>34.67</td>\n",
       "      <td>27.3</td>\n",
       "    </tr>\n",
       "    <tr>\n",
       "      <th>20977</th>\n",
       "      <td>23/06/2024 23:00</td>\n",
       "      <td>33.3</td>\n",
       "      <td>100</td>\n",
       "      <td>318.1</td>\n",
       "      <td>59.0</td>\n",
       "      <td>22.0</td>\n",
       "      <td>58.0</td>\n",
       "      <td>35.00</td>\n",
       "      <td>31.0</td>\n",
       "    </tr>\n",
       "  </tbody>\n",
       "</table>\n",
       "<p>20978 rows × 9 columns</p>\n",
       "</div>"
      ],
      "text/plain": [
       "        timestamp_local  temp  aqi      co   no2     o3   pm10    pm25    so2\n",
       "0       01/02/2022 0:00  12.6  385  1339.8  76.0   10.7  491.7  347.67  238.0\n",
       "1       01/02/2022 1:00  11.5  404  1437.6  76.0    9.3  508.3  359.33  268.0\n",
       "2       01/02/2022 2:00  11.9  421  1535.5  76.0    8.0  525.0  371.00  298.0\n",
       "3       01/02/2022 3:00  12.2  425  1659.0  68.3    5.3  529.3  374.00  275.7\n",
       "4       01/02/2022 4:00  11.9  430  1782.5  60.7    2.7  533.7  377.00  253.3\n",
       "...                 ...   ...  ...     ...   ...    ...    ...     ...    ...\n",
       "20973  23/06/2024 19:00  39.3   92   155.6  21.0  105.3   57.0   31.33   17.0\n",
       "20974  23/06/2024 20:00  37.0   98   191.4  30.0   80.0   58.0   34.00   20.0\n",
       "20975  23/06/2024 21:00  35.6   98   233.6  39.7   60.7   58.0   34.33   23.7\n",
       "20976  23/06/2024 22:00  34.4   99   275.8  49.3   41.3   58.0   34.67   27.3\n",
       "20977  23/06/2024 23:00  33.3  100   318.1  59.0   22.0   58.0   35.00   31.0\n",
       "\n",
       "[20978 rows x 9 columns]"
      ]
     },
     "execution_count": 3,
     "metadata": {},
     "output_type": "execute_result"
    }
   ],
   "source": [
    "df"
   ]
  },
  {
   "cell_type": "code",
   "execution_count": 4,
   "id": "d7e3c4f9-7208-48a1-bee4-1a89c09e2714",
   "metadata": {},
   "outputs": [],
   "source": [
    "data = df[['o3']]"
   ]
  },
  {
   "cell_type": "code",
   "execution_count": 5,
   "id": "a2eedd5e-c6fa-43b7-9458-5deca00f11fb",
   "metadata": {},
   "outputs": [],
   "source": [
    "from sklearn.preprocessing import MinMaxScaler\n",
    "values = data.values\n",
    "\n",
    "values = values.astype('float32')\n",
    "\n",
    "scaler = MinMaxScaler(feature_range=(0, 1))\n",
    "scaled = scaler.fit_transform(values)"
   ]
  },
  {
   "cell_type": "code",
   "execution_count": 6,
   "id": "d93f3d70-328f-40a2-9403-0e22e9802560",
   "metadata": {},
   "outputs": [],
   "source": [
    "scaled = scaled.reshape((20978,))"
   ]
  },
  {
   "cell_type": "code",
   "execution_count": 7,
   "id": "09f5ccf2-8abf-4b08-8051-cb206ea52fad",
   "metadata": {},
   "outputs": [
    {
     "data": {
      "text/plain": [
       "(20978,)"
      ]
     },
     "execution_count": 7,
     "metadata": {},
     "output_type": "execute_result"
    }
   ],
   "source": [
    "scaled.shape"
   ]
  },
  {
   "cell_type": "code",
   "execution_count": 8,
   "id": "071ee44c-f600-41f6-9490-6cda18be3d8d",
   "metadata": {},
   "outputs": [],
   "source": [
    "def df_to_X_y(df, window_size, forecast_length):\n",
    "    # df_as_np = df.to_numpy()\n",
    "    X = []\n",
    "    y = []\n",
    "    \n",
    "    for i in range(len(df) - window_size - forecast_length):\n",
    "        row_x = [[a] for a in df[i:i+window_size]]\n",
    "        \n",
    "        X.append(row_x)\n",
    "        # row_y = df_as_np[i+window_size]\n",
    "        row_y = [b for b in df[i+window_size:i+window_size+forecast_length]]\n",
    "        \n",
    "        y.append(row_y)\n",
    "        \n",
    "    return np.array(X), np.array(y)"
   ]
  },
  {
   "cell_type": "code",
   "execution_count": 9,
   "id": "73ef015c-a4b2-4770-b094-b4e6a1069026",
   "metadata": {},
   "outputs": [],
   "source": [
    "def train_test_split(X, y, test_size=0.2):\n",
    "    split_idx = int(len(X) * (1 - test_size))\n",
    "    X_train, X_test = X[:split_idx], X[split_idx:]\n",
    "    y_train, y_test = y[:split_idx], y[split_idx:]\n",
    "    return X_train, X_test, y_train, y_test"
   ]
  },
  {
   "cell_type": "code",
   "execution_count": 10,
   "id": "c118b905-bab3-4abf-b257-253d7ea2bb98",
   "metadata": {},
   "outputs": [],
   "source": [
    "WINDOW_WIDTH = 168\n",
    "FORECAST_LENGTH = 168\n",
    "X, y = df_to_X_y(scaled, WINDOW_WIDTH, FORECAST_LENGTH)\n",
    "\n",
    "\n",
    "X_train, X_test, y_train, y_test = train_test_split(X, y, test_size=0.2)\n",
    "X_train, X_val, y_train, y_val = train_test_split(X_train, y_train, test_size=0.2)\n",
    "\n",
    "X_max = X_train.max()\n",
    "X_min = X_train.min()"
   ]
  },
  {
   "cell_type": "code",
   "execution_count": 11,
   "id": "e7b85489-d3d6-4c17-8935-238402086eff",
   "metadata": {},
   "outputs": [],
   "source": [
    "batchSize = 16\n",
    "from keras.models import Sequential, save_model, load_model\n",
    "from keras.layers import *\n",
    "from keras.callbacks import ReduceLROnPlateau, ModelCheckpoint\n",
    "from tensorflow.keras.optimizers import Adam\n",
    "from keras.losses import MeanSquaredError\n",
    "from keras.metrics import RootMeanSquaredError"
   ]
  },
  {
   "cell_type": "code",
   "execution_count": 12,
   "id": "3b6c5847-1cc5-4149-b349-ff4f5c638c90",
   "metadata": {},
   "outputs": [
    {
     "name": "stderr",
     "output_type": "stream",
     "text": [
      "C:\\Users\\Hassan\\AppData\\Local\\Programs\\Python\\Python311\\Lib\\site-packages\\keras\\src\\layers\\convolutional\\base_conv.py:99: UserWarning: Do not pass an `input_shape`/`input_dim` argument to a layer. When using Sequential models, prefer using an `Input(shape)` object as the first layer in the model instead.\n",
      "  super().__init__(\n"
     ]
    },
    {
     "data": {
      "text/html": [
       "<pre style=\"white-space:pre;overflow-x:auto;line-height:normal;font-family:Menlo,'DejaVu Sans Mono',consolas,'Courier New',monospace\"><span style=\"font-weight: bold\">Model: \"sequential\"</span>\n",
       "</pre>\n"
      ],
      "text/plain": [
       "\u001b[1mModel: \"sequential\"\u001b[0m\n"
      ]
     },
     "metadata": {},
     "output_type": "display_data"
    },
    {
     "data": {
      "text/html": [
       "<pre style=\"white-space:pre;overflow-x:auto;line-height:normal;font-family:Menlo,'DejaVu Sans Mono',consolas,'Courier New',monospace\">┏━━━━━━━━━━━━━━━━━━━━━━━━━━━━━━━━━━━━━━┳━━━━━━━━━━━━━━━━━━━━━━━━━━━━━┳━━━━━━━━━━━━━━━━━┓\n",
       "┃<span style=\"font-weight: bold\"> Layer (type)                         </span>┃<span style=\"font-weight: bold\"> Output Shape                </span>┃<span style=\"font-weight: bold\">         Param # </span>┃\n",
       "┡━━━━━━━━━━━━━━━━━━━━━━━━━━━━━━━━━━━━━━╇━━━━━━━━━━━━━━━━━━━━━━━━━━━━━╇━━━━━━━━━━━━━━━━━┩\n",
       "│ conv1d (<span style=\"color: #0087ff; text-decoration-color: #0087ff\">Conv1D</span>)                      │ (<span style=\"color: #00d7ff; text-decoration-color: #00d7ff\">None</span>, <span style=\"color: #00af00; text-decoration-color: #00af00\">166</span>, <span style=\"color: #00af00; text-decoration-color: #00af00\">32</span>)             │             <span style=\"color: #00af00; text-decoration-color: #00af00\">128</span> │\n",
       "├──────────────────────────────────────┼─────────────────────────────┼─────────────────┤\n",
       "│ flatten (<span style=\"color: #0087ff; text-decoration-color: #0087ff\">Flatten</span>)                    │ (<span style=\"color: #00d7ff; text-decoration-color: #00d7ff\">None</span>, <span style=\"color: #00af00; text-decoration-color: #00af00\">5312</span>)                │               <span style=\"color: #00af00; text-decoration-color: #00af00\">0</span> │\n",
       "├──────────────────────────────────────┼─────────────────────────────┼─────────────────┤\n",
       "│ dense (<span style=\"color: #0087ff; text-decoration-color: #0087ff\">Dense</span>)                        │ (<span style=\"color: #00d7ff; text-decoration-color: #00d7ff\">None</span>, <span style=\"color: #00af00; text-decoration-color: #00af00\">168</span>)                 │         <span style=\"color: #00af00; text-decoration-color: #00af00\">892,584</span> │\n",
       "└──────────────────────────────────────┴─────────────────────────────┴─────────────────┘\n",
       "</pre>\n"
      ],
      "text/plain": [
       "┏━━━━━━━━━━━━━━━━━━━━━━━━━━━━━━━━━━━━━━┳━━━━━━━━━━━━━━━━━━━━━━━━━━━━━┳━━━━━━━━━━━━━━━━━┓\n",
       "┃\u001b[1m \u001b[0m\u001b[1mLayer (type)                        \u001b[0m\u001b[1m \u001b[0m┃\u001b[1m \u001b[0m\u001b[1mOutput Shape               \u001b[0m\u001b[1m \u001b[0m┃\u001b[1m \u001b[0m\u001b[1m        Param #\u001b[0m\u001b[1m \u001b[0m┃\n",
       "┡━━━━━━━━━━━━━━━━━━━━━━━━━━━━━━━━━━━━━━╇━━━━━━━━━━━━━━━━━━━━━━━━━━━━━╇━━━━━━━━━━━━━━━━━┩\n",
       "│ conv1d (\u001b[38;5;33mConv1D\u001b[0m)                      │ (\u001b[38;5;45mNone\u001b[0m, \u001b[38;5;34m166\u001b[0m, \u001b[38;5;34m32\u001b[0m)             │             \u001b[38;5;34m128\u001b[0m │\n",
       "├──────────────────────────────────────┼─────────────────────────────┼─────────────────┤\n",
       "│ flatten (\u001b[38;5;33mFlatten\u001b[0m)                    │ (\u001b[38;5;45mNone\u001b[0m, \u001b[38;5;34m5312\u001b[0m)                │               \u001b[38;5;34m0\u001b[0m │\n",
       "├──────────────────────────────────────┼─────────────────────────────┼─────────────────┤\n",
       "│ dense (\u001b[38;5;33mDense\u001b[0m)                        │ (\u001b[38;5;45mNone\u001b[0m, \u001b[38;5;34m168\u001b[0m)                 │         \u001b[38;5;34m892,584\u001b[0m │\n",
       "└──────────────────────────────────────┴─────────────────────────────┴─────────────────┘\n"
      ]
     },
     "metadata": {},
     "output_type": "display_data"
    },
    {
     "data": {
      "text/html": [
       "<pre style=\"white-space:pre;overflow-x:auto;line-height:normal;font-family:Menlo,'DejaVu Sans Mono',consolas,'Courier New',monospace\"><span style=\"font-weight: bold\"> Total params: </span><span style=\"color: #00af00; text-decoration-color: #00af00\">892,712</span> (3.41 MB)\n",
       "</pre>\n"
      ],
      "text/plain": [
       "\u001b[1m Total params: \u001b[0m\u001b[38;5;34m892,712\u001b[0m (3.41 MB)\n"
      ]
     },
     "metadata": {},
     "output_type": "display_data"
    },
    {
     "data": {
      "text/html": [
       "<pre style=\"white-space:pre;overflow-x:auto;line-height:normal;font-family:Menlo,'DejaVu Sans Mono',consolas,'Courier New',monospace\"><span style=\"font-weight: bold\"> Trainable params: </span><span style=\"color: #00af00; text-decoration-color: #00af00\">892,712</span> (3.41 MB)\n",
       "</pre>\n"
      ],
      "text/plain": [
       "\u001b[1m Trainable params: \u001b[0m\u001b[38;5;34m892,712\u001b[0m (3.41 MB)\n"
      ]
     },
     "metadata": {},
     "output_type": "display_data"
    },
    {
     "data": {
      "text/html": [
       "<pre style=\"white-space:pre;overflow-x:auto;line-height:normal;font-family:Menlo,'DejaVu Sans Mono',consolas,'Courier New',monospace\"><span style=\"font-weight: bold\"> Non-trainable params: </span><span style=\"color: #00af00; text-decoration-color: #00af00\">0</span> (0.00 B)\n",
       "</pre>\n"
      ],
      "text/plain": [
       "\u001b[1m Non-trainable params: \u001b[0m\u001b[38;5;34m0\u001b[0m (0.00 B)\n"
      ]
     },
     "metadata": {},
     "output_type": "display_data"
    },
    {
     "name": "stdout",
     "output_type": "stream",
     "text": [
      "Epoch 1/50\n",
      "\u001b[1m413/413\u001b[0m \u001b[32m━━━━━━━━━━━━━━━━━━━━\u001b[0m\u001b[37m\u001b[0m \u001b[1m5s\u001b[0m 10ms/step - loss: 0.0120 - root_mean_squared_error: 0.1064 - val_loss: 0.0047 - val_root_mean_squared_error: 0.0687 - learning_rate: 0.0010\n",
      "Epoch 2/50\n",
      "\u001b[1m413/413\u001b[0m \u001b[32m━━━━━━━━━━━━━━━━━━━━\u001b[0m\u001b[37m\u001b[0m \u001b[1m4s\u001b[0m 9ms/step - loss: 0.0069 - root_mean_squared_error: 0.0833 - val_loss: 0.0043 - val_root_mean_squared_error: 0.0659 - learning_rate: 0.0010\n",
      "Epoch 3/50\n",
      "\u001b[1m413/413\u001b[0m \u001b[32m━━━━━━━━━━━━━━━━━━━━\u001b[0m\u001b[37m\u001b[0m \u001b[1m4s\u001b[0m 9ms/step - loss: 0.0065 - root_mean_squared_error: 0.0809 - val_loss: 0.0043 - val_root_mean_squared_error: 0.0657 - learning_rate: 0.0010\n",
      "Epoch 4/50\n",
      "\u001b[1m413/413\u001b[0m \u001b[32m━━━━━━━━━━━━━━━━━━━━\u001b[0m\u001b[37m\u001b[0m \u001b[1m4s\u001b[0m 9ms/step - loss: 0.0064 - root_mean_squared_error: 0.0797 - val_loss: 0.0042 - val_root_mean_squared_error: 0.0651 - learning_rate: 0.0010\n",
      "Epoch 5/50\n",
      "\u001b[1m413/413\u001b[0m \u001b[32m━━━━━━━━━━━━━━━━━━━━\u001b[0m\u001b[37m\u001b[0m \u001b[1m4s\u001b[0m 9ms/step - loss: 0.0062 - root_mean_squared_error: 0.0789 - val_loss: 0.0044 - val_root_mean_squared_error: 0.0664 - learning_rate: 0.0010\n",
      "Epoch 6/50\n",
      "\u001b[1m413/413\u001b[0m \u001b[32m━━━━━━━━━━━━━━━━━━━━\u001b[0m\u001b[37m\u001b[0m \u001b[1m4s\u001b[0m 9ms/step - loss: 0.0062 - root_mean_squared_error: 0.0784 - val_loss: 0.0042 - val_root_mean_squared_error: 0.0648 - learning_rate: 0.0010\n",
      "Epoch 7/50\n",
      "\u001b[1m413/413\u001b[0m \u001b[32m━━━━━━━━━━━━━━━━━━━━\u001b[0m\u001b[37m\u001b[0m \u001b[1m4s\u001b[0m 9ms/step - loss: 0.0061 - root_mean_squared_error: 0.0778 - val_loss: 0.0042 - val_root_mean_squared_error: 0.0648 - learning_rate: 0.0010\n",
      "Epoch 8/50\n",
      "\u001b[1m413/413\u001b[0m \u001b[32m━━━━━━━━━━━━━━━━━━━━\u001b[0m\u001b[37m\u001b[0m \u001b[1m4s\u001b[0m 9ms/step - loss: 0.0060 - root_mean_squared_error: 0.0776 - val_loss: 0.0041 - val_root_mean_squared_error: 0.0640 - learning_rate: 0.0010\n",
      "Epoch 9/50\n",
      "\u001b[1m413/413\u001b[0m \u001b[32m━━━━━━━━━━━━━━━━━━━━\u001b[0m\u001b[37m\u001b[0m \u001b[1m4s\u001b[0m 10ms/step - loss: 0.0060 - root_mean_squared_error: 0.0772 - val_loss: 0.0041 - val_root_mean_squared_error: 0.0641 - learning_rate: 0.0010\n",
      "Epoch 10/50\n",
      "\u001b[1m413/413\u001b[0m \u001b[32m━━━━━━━━━━━━━━━━━━━━\u001b[0m\u001b[37m\u001b[0m \u001b[1m4s\u001b[0m 9ms/step - loss: 0.0059 - root_mean_squared_error: 0.0771 - val_loss: 0.0041 - val_root_mean_squared_error: 0.0641 - learning_rate: 0.0010\n",
      "Epoch 11/50\n",
      "\u001b[1m413/413\u001b[0m \u001b[32m━━━━━━━━━━━━━━━━━━━━\u001b[0m\u001b[37m\u001b[0m \u001b[1m4s\u001b[0m 9ms/step - loss: 0.0059 - root_mean_squared_error: 0.0767 - val_loss: 0.0044 - val_root_mean_squared_error: 0.0665 - learning_rate: 0.0010\n",
      "Epoch 12/50\n",
      "\u001b[1m413/413\u001b[0m \u001b[32m━━━━━━━━━━━━━━━━━━━━\u001b[0m\u001b[37m\u001b[0m \u001b[1m4s\u001b[0m 10ms/step - loss: 0.0059 - root_mean_squared_error: 0.0766 - val_loss: 0.0048 - val_root_mean_squared_error: 0.0695 - learning_rate: 0.0010\n",
      "Epoch 13/50\n",
      "\u001b[1m413/413\u001b[0m \u001b[32m━━━━━━━━━━━━━━━━━━━━\u001b[0m\u001b[37m\u001b[0m \u001b[1m4s\u001b[0m 9ms/step - loss: 0.0059 - root_mean_squared_error: 0.0770 - val_loss: 0.0042 - val_root_mean_squared_error: 0.0647 - learning_rate: 0.0010\n",
      "Epoch 14/50\n",
      "\u001b[1m413/413\u001b[0m \u001b[32m━━━━━━━━━━━━━━━━━━━━\u001b[0m\u001b[37m\u001b[0m \u001b[1m4s\u001b[0m 9ms/step - loss: 0.0059 - root_mean_squared_error: 0.0765 - val_loss: 0.0042 - val_root_mean_squared_error: 0.0647 - learning_rate: 0.0010\n",
      "Epoch 15/50\n",
      "\u001b[1m413/413\u001b[0m \u001b[32m━━━━━━━━━━━━━━━━━━━━\u001b[0m\u001b[37m\u001b[0m \u001b[1m4s\u001b[0m 9ms/step - loss: 0.0057 - root_mean_squared_error: 0.0757 - val_loss: 0.0041 - val_root_mean_squared_error: 0.0639 - learning_rate: 0.0010\n",
      "Epoch 16/50\n",
      "\u001b[1m413/413\u001b[0m \u001b[32m━━━━━━━━━━━━━━━━━━━━\u001b[0m\u001b[37m\u001b[0m \u001b[1m5s\u001b[0m 11ms/step - loss: 0.0057 - root_mean_squared_error: 0.0758 - val_loss: 0.0041 - val_root_mean_squared_error: 0.0640 - learning_rate: 0.0010\n",
      "Epoch 17/50\n",
      "\u001b[1m413/413\u001b[0m \u001b[32m━━━━━━━━━━━━━━━━━━━━\u001b[0m\u001b[37m\u001b[0m \u001b[1m5s\u001b[0m 11ms/step - loss: 0.0057 - root_mean_squared_error: 0.0753 - val_loss: 0.0040 - val_root_mean_squared_error: 0.0635 - learning_rate: 0.0010\n",
      "Epoch 18/50\n",
      "\u001b[1m413/413\u001b[0m \u001b[32m━━━━━━━━━━━━━━━━━━━━\u001b[0m\u001b[37m\u001b[0m \u001b[1m6s\u001b[0m 13ms/step - loss: 0.0057 - root_mean_squared_error: 0.0753 - val_loss: 0.0041 - val_root_mean_squared_error: 0.0638 - learning_rate: 0.0010\n",
      "Epoch 19/50\n",
      "\u001b[1m413/413\u001b[0m \u001b[32m━━━━━━━━━━━━━━━━━━━━\u001b[0m\u001b[37m\u001b[0m \u001b[1m6s\u001b[0m 15ms/step - loss: 0.0054 - root_mean_squared_error: 0.0737 - val_loss: 0.0040 - val_root_mean_squared_error: 0.0630 - learning_rate: 1.0000e-04\n",
      "Epoch 20/50\n",
      "\u001b[1m413/413\u001b[0m \u001b[32m━━━━━━━━━━━━━━━━━━━━\u001b[0m\u001b[37m\u001b[0m \u001b[1m5s\u001b[0m 12ms/step - loss: 0.0054 - root_mean_squared_error: 0.0735 - val_loss: 0.0039 - val_root_mean_squared_error: 0.0629 - learning_rate: 1.0000e-04\n",
      "Epoch 21/50\n",
      "\u001b[1m413/413\u001b[0m \u001b[32m━━━━━━━━━━━━━━━━━━━━\u001b[0m\u001b[37m\u001b[0m \u001b[1m4s\u001b[0m 11ms/step - loss: 0.0054 - root_mean_squared_error: 0.0733 - val_loss: 0.0040 - val_root_mean_squared_error: 0.0630 - learning_rate: 1.0000e-04\n",
      "Epoch 22/50\n",
      "\u001b[1m413/413\u001b[0m \u001b[32m━━━━━━━━━━━━━━━━━━━━\u001b[0m\u001b[37m\u001b[0m \u001b[1m4s\u001b[0m 10ms/step - loss: 0.0053 - root_mean_squared_error: 0.0730 - val_loss: 0.0040 - val_root_mean_squared_error: 0.0630 - learning_rate: 1.0000e-04\n",
      "Epoch 23/50\n",
      "\u001b[1m413/413\u001b[0m \u001b[32m━━━━━━━━━━━━━━━━━━━━\u001b[0m\u001b[37m\u001b[0m \u001b[1m5s\u001b[0m 12ms/step - loss: 0.0053 - root_mean_squared_error: 0.0731 - val_loss: 0.0040 - val_root_mean_squared_error: 0.0631 - learning_rate: 1.0000e-04\n",
      "Epoch 24/50\n",
      "\u001b[1m413/413\u001b[0m \u001b[32m━━━━━━━━━━━━━━━━━━━━\u001b[0m\u001b[37m\u001b[0m \u001b[1m5s\u001b[0m 11ms/step - loss: 0.0053 - root_mean_squared_error: 0.0730 - val_loss: 0.0040 - val_root_mean_squared_error: 0.0635 - learning_rate: 1.0000e-04\n",
      "Epoch 25/50\n",
      "\u001b[1m413/413\u001b[0m \u001b[32m━━━━━━━━━━━━━━━━━━━━\u001b[0m\u001b[37m\u001b[0m \u001b[1m5s\u001b[0m 12ms/step - loss: 0.0053 - root_mean_squared_error: 0.0730 - val_loss: 0.0040 - val_root_mean_squared_error: 0.0630 - learning_rate: 1.0000e-04\n",
      "Epoch 26/50\n",
      "\u001b[1m413/413\u001b[0m \u001b[32m━━━━━━━━━━━━━━━━━━━━\u001b[0m\u001b[37m\u001b[0m \u001b[1m4s\u001b[0m 10ms/step - loss: 0.0053 - root_mean_squared_error: 0.0729 - val_loss: 0.0040 - val_root_mean_squared_error: 0.0632 - learning_rate: 1.0000e-04\n",
      "Epoch 27/50\n",
      "\u001b[1m413/413\u001b[0m \u001b[32m━━━━━━━━━━━━━━━━━━━━\u001b[0m\u001b[37m\u001b[0m \u001b[1m4s\u001b[0m 10ms/step - loss: 0.0053 - root_mean_squared_error: 0.0726 - val_loss: 0.0040 - val_root_mean_squared_error: 0.0629 - learning_rate: 1.0000e-04\n",
      "Epoch 28/50\n",
      "\u001b[1m413/413\u001b[0m \u001b[32m━━━━━━━━━━━━━━━━━━━━\u001b[0m\u001b[37m\u001b[0m \u001b[1m4s\u001b[0m 10ms/step - loss: 0.0053 - root_mean_squared_error: 0.0731 - val_loss: 0.0040 - val_root_mean_squared_error: 0.0630 - learning_rate: 1.0000e-04\n",
      "Epoch 29/50\n",
      "\u001b[1m413/413\u001b[0m \u001b[32m━━━━━━━━━━━━━━━━━━━━\u001b[0m\u001b[37m\u001b[0m \u001b[1m4s\u001b[0m 10ms/step - loss: 0.0054 - root_mean_squared_error: 0.0735 - val_loss: 0.0040 - val_root_mean_squared_error: 0.0629 - learning_rate: 1.0000e-04\n",
      "Epoch 30/50\n",
      "\u001b[1m413/413\u001b[0m \u001b[32m━━━━━━━━━━━━━━━━━━━━\u001b[0m\u001b[37m\u001b[0m \u001b[1m4s\u001b[0m 9ms/step - loss: 0.0053 - root_mean_squared_error: 0.0731 - val_loss: 0.0040 - val_root_mean_squared_error: 0.0630 - learning_rate: 1.0000e-05\n",
      "Epoch 31/50\n",
      "\u001b[1m413/413\u001b[0m \u001b[32m━━━━━━━━━━━━━━━━━━━━\u001b[0m\u001b[37m\u001b[0m \u001b[1m5s\u001b[0m 13ms/step - loss: 0.0053 - root_mean_squared_error: 0.0730 - val_loss: 0.0040 - val_root_mean_squared_error: 0.0629 - learning_rate: 1.0000e-05\n",
      "Epoch 32/50\n",
      "\u001b[1m413/413\u001b[0m \u001b[32m━━━━━━━━━━━━━━━━━━━━\u001b[0m\u001b[37m\u001b[0m \u001b[1m4s\u001b[0m 10ms/step - loss: 0.0053 - root_mean_squared_error: 0.0727 - val_loss: 0.0039 - val_root_mean_squared_error: 0.0628 - learning_rate: 1.0000e-05\n",
      "Epoch 33/50\n",
      "\u001b[1m413/413\u001b[0m \u001b[32m━━━━━━━━━━━━━━━━━━━━\u001b[0m\u001b[37m\u001b[0m \u001b[1m5s\u001b[0m 11ms/step - loss: 0.0053 - root_mean_squared_error: 0.0729 - val_loss: 0.0040 - val_root_mean_squared_error: 0.0629 - learning_rate: 1.0000e-05\n",
      "Epoch 34/50\n",
      "\u001b[1m413/413\u001b[0m \u001b[32m━━━━━━━━━━━━━━━━━━━━\u001b[0m\u001b[37m\u001b[0m \u001b[1m5s\u001b[0m 12ms/step - loss: 0.0053 - root_mean_squared_error: 0.0725 - val_loss: 0.0039 - val_root_mean_squared_error: 0.0628 - learning_rate: 1.0000e-05\n",
      "Epoch 35/50\n",
      "\u001b[1m413/413\u001b[0m \u001b[32m━━━━━━━━━━━━━━━━━━━━\u001b[0m\u001b[37m\u001b[0m \u001b[1m5s\u001b[0m 12ms/step - loss: 0.0053 - root_mean_squared_error: 0.0726 - val_loss: 0.0039 - val_root_mean_squared_error: 0.0629 - learning_rate: 1.0000e-05\n",
      "Epoch 36/50\n",
      "\u001b[1m413/413\u001b[0m \u001b[32m━━━━━━━━━━━━━━━━━━━━\u001b[0m\u001b[37m\u001b[0m \u001b[1m5s\u001b[0m 11ms/step - loss: 0.0053 - root_mean_squared_error: 0.0730 - val_loss: 0.0040 - val_root_mean_squared_error: 0.0630 - learning_rate: 1.0000e-05\n",
      "Epoch 37/50\n",
      "\u001b[1m413/413\u001b[0m \u001b[32m━━━━━━━━━━━━━━━━━━━━\u001b[0m\u001b[37m\u001b[0m \u001b[1m4s\u001b[0m 10ms/step - loss: 0.0052 - root_mean_squared_error: 0.0725 - val_loss: 0.0039 - val_root_mean_squared_error: 0.0629 - learning_rate: 1.0000e-05\n",
      "Epoch 38/50\n",
      "\u001b[1m413/413\u001b[0m \u001b[32m━━━━━━━━━━━━━━━━━━━━\u001b[0m\u001b[37m\u001b[0m \u001b[1m5s\u001b[0m 11ms/step - loss: 0.0053 - root_mean_squared_error: 0.0728 - val_loss: 0.0039 - val_root_mean_squared_error: 0.0628 - learning_rate: 1.0000e-05\n",
      "Epoch 39/50\n",
      "\u001b[1m413/413\u001b[0m \u001b[32m━━━━━━━━━━━━━━━━━━━━\u001b[0m\u001b[37m\u001b[0m \u001b[1m4s\u001b[0m 10ms/step - loss: 0.0053 - root_mean_squared_error: 0.0731 - val_loss: 0.0039 - val_root_mean_squared_error: 0.0629 - learning_rate: 1.0000e-05\n",
      "Epoch 40/50\n",
      "\u001b[1m413/413\u001b[0m \u001b[32m━━━━━━━━━━━━━━━━━━━━\u001b[0m\u001b[37m\u001b[0m \u001b[1m4s\u001b[0m 10ms/step - loss: 0.0053 - root_mean_squared_error: 0.0727 - val_loss: 0.0039 - val_root_mean_squared_error: 0.0629 - learning_rate: 1.0000e-06\n",
      "Epoch 41/50\n",
      "\u001b[1m413/413\u001b[0m \u001b[32m━━━━━━━━━━━━━━━━━━━━\u001b[0m\u001b[37m\u001b[0m \u001b[1m4s\u001b[0m 11ms/step - loss: 0.0053 - root_mean_squared_error: 0.0729 - val_loss: 0.0039 - val_root_mean_squared_error: 0.0629 - learning_rate: 1.0000e-06\n",
      "Epoch 42/50\n",
      "\u001b[1m413/413\u001b[0m \u001b[32m━━━━━━━━━━━━━━━━━━━━\u001b[0m\u001b[37m\u001b[0m \u001b[1m4s\u001b[0m 9ms/step - loss: 0.0053 - root_mean_squared_error: 0.0726 - val_loss: 0.0039 - val_root_mean_squared_error: 0.0629 - learning_rate: 1.0000e-06\n",
      "Epoch 43/50\n",
      "\u001b[1m413/413\u001b[0m \u001b[32m━━━━━━━━━━━━━━━━━━━━\u001b[0m\u001b[37m\u001b[0m \u001b[1m4s\u001b[0m 9ms/step - loss: 0.0053 - root_mean_squared_error: 0.0727 - val_loss: 0.0039 - val_root_mean_squared_error: 0.0629 - learning_rate: 1.0000e-06\n",
      "Epoch 44/50\n",
      "\u001b[1m413/413\u001b[0m \u001b[32m━━━━━━━━━━━━━━━━━━━━\u001b[0m\u001b[37m\u001b[0m \u001b[1m4s\u001b[0m 10ms/step - loss: 0.0052 - root_mean_squared_error: 0.0723 - val_loss: 0.0039 - val_root_mean_squared_error: 0.0629 - learning_rate: 1.0000e-06\n",
      "Epoch 45/50\n",
      "\u001b[1m413/413\u001b[0m \u001b[32m━━━━━━━━━━━━━━━━━━━━\u001b[0m\u001b[37m\u001b[0m \u001b[1m4s\u001b[0m 10ms/step - loss: 0.0053 - root_mean_squared_error: 0.0729 - val_loss: 0.0039 - val_root_mean_squared_error: 0.0629 - learning_rate: 1.0000e-06\n",
      "Epoch 46/50\n",
      "\u001b[1m413/413\u001b[0m \u001b[32m━━━━━━━━━━━━━━━━━━━━\u001b[0m\u001b[37m\u001b[0m \u001b[1m4s\u001b[0m 11ms/step - loss: 0.0053 - root_mean_squared_error: 0.0730 - val_loss: 0.0039 - val_root_mean_squared_error: 0.0629 - learning_rate: 1.0000e-06\n",
      "Epoch 47/50\n",
      "\u001b[1m413/413\u001b[0m \u001b[32m━━━━━━━━━━━━━━━━━━━━\u001b[0m\u001b[37m\u001b[0m \u001b[1m4s\u001b[0m 10ms/step - loss: 0.0053 - root_mean_squared_error: 0.0730 - val_loss: 0.0039 - val_root_mean_squared_error: 0.0628 - learning_rate: 1.0000e-06\n",
      "Epoch 48/50\n",
      "\u001b[1m413/413\u001b[0m \u001b[32m━━━━━━━━━━━━━━━━━━━━\u001b[0m\u001b[37m\u001b[0m \u001b[1m4s\u001b[0m 10ms/step - loss: 0.0053 - root_mean_squared_error: 0.0729 - val_loss: 0.0039 - val_root_mean_squared_error: 0.0629 - learning_rate: 1.0000e-06\n",
      "Epoch 49/50\n",
      "\u001b[1m413/413\u001b[0m \u001b[32m━━━━━━━━━━━━━━━━━━━━\u001b[0m\u001b[37m\u001b[0m \u001b[1m4s\u001b[0m 10ms/step - loss: 0.0053 - root_mean_squared_error: 0.0726 - val_loss: 0.0039 - val_root_mean_squared_error: 0.0629 - learning_rate: 1.0000e-06\n",
      "Epoch 50/50\n",
      "\u001b[1m413/413\u001b[0m \u001b[32m━━━━━━━━━━━━━━━━━━━━\u001b[0m\u001b[37m\u001b[0m \u001b[1m4s\u001b[0m 9ms/step - loss: 0.0053 - root_mean_squared_error: 0.0729 - val_loss: 0.0039 - val_root_mean_squared_error: 0.0629 - learning_rate: 1.0000e-07\n"
     ]
    }
   ],
   "source": [
    "normalizer = Normalization()\n",
    "normalizer.adapt(X_train)\n",
    "rlrop = ReduceLROnPlateau(monitor='val_loss', factor=0.1, patience=10)\n",
    "\n",
    "model = Sequential()\n",
    "# 1D Convolutional layers\n",
    "model.add(Conv1D(filters=32, kernel_size=3, activation='relu', input_shape=X_train.shape[1:]))\n",
    "# model.add(Conv1D(filters=64, kernel_size=3, activation='relu'))\n",
    "# model.add(Conv1D(filters=32, kernel_size=3, activation='relu'))\n",
    "# Flatten the output of the Conv layers\n",
    "model.add(Flatten())\n",
    "# model.add(LSTM(input_shape = X_train.shape[1:], units=86, return_sequences=True))\n",
    "# model.add(LSTM(units=64, return_sequences=True))\n",
    "# model.add(GRU(units=86, return_sequences=True))\n",
    "# model.add(LSTM(units=128, return_sequences=True))\n",
    "# model.add(GRU(units=100, return_sequences=True))\n",
    "# model.add(LSTM(units=100, return_sequences=False))\n",
    "# model.add(Dense(units=100,  activation='relu'))\n",
    "# model.add(Dense(8, activation='relu'))\n",
    "\n",
    "model.add(Dense(units=FORECAST_LENGTH, activation='linear'))\n",
    "\n",
    "model.summary()\n",
    "\n",
    "model.compile(optimizer=Adam(learning_rate=0.001), metrics=[RootMeanSquaredError()] , loss=MeanSquaredError())\n",
    "\n",
    "history = model.fit(X_train, y_train, validation_data=(X_val,y_val), epochs=50, callbacks=[rlrop])\n",
    "\n",
    "# score = model.evaluate(X_test, y_test, verbose = 1)"
   ]
  },
  {
   "cell_type": "code",
   "execution_count": 13,
   "id": "5674b419-12bd-4a4e-a83d-2438ae813939",
   "metadata": {},
   "outputs": [
    {
     "name": "stdout",
     "output_type": "stream",
     "text": [
      "\u001b[1m130/130\u001b[0m \u001b[32m━━━━━━━━━━━━━━━━━━━━\u001b[0m\u001b[37m\u001b[0m \u001b[1m0s\u001b[0m 2ms/step\n"
     ]
    }
   ],
   "source": [
    "forecast = model.predict(X_test)"
   ]
  },
  {
   "cell_type": "code",
   "execution_count": 14,
   "id": "abb7c26e-b6e8-4526-aa4e-9180825c9d51",
   "metadata": {},
   "outputs": [],
   "source": [
    "poll = np.array(df[\"o3\"])\n",
    "\n",
    "meanop = poll.mean()\n",
    "stdop = poll.std()\n",
    "\n",
    "y_test_true = y_test*stdop + meanop\n",
    "testPredict = forecast*stdop + meanop"
   ]
  },
  {
   "cell_type": "code",
   "execution_count": 15,
   "id": "cccf66c7-77a1-483d-8b28-e5df8056b4b6",
   "metadata": {},
   "outputs": [],
   "source": [
    "from sklearn.metrics import mean_squared_error"
   ]
  },
  {
   "cell_type": "code",
   "execution_count": 16,
   "id": "3e3a186b-a281-4964-9581-f8f73931e019",
   "metadata": {},
   "outputs": [
    {
     "name": "stdout",
     "output_type": "stream",
     "text": [
      "Test RMSE = 3.6203837\n"
     ]
    }
   ],
   "source": [
    "rmse = np.sqrt(mean_squared_error(y_test_true, testPredict))\n",
    "print(\"Test RMSE =\"  ,rmse)"
   ]
  },
  {
   "cell_type": "code",
   "execution_count": 17,
   "id": "9fa0dda5-cbeb-45ba-a1e9-9f396270d66f",
   "metadata": {},
   "outputs": [
    {
     "name": "stdout",
     "output_type": "stream",
     "text": [
      "Test MAPE = 2.983742579817772\n"
     ]
    }
   ],
   "source": [
    "# Calculate MAPE\n",
    "mape = np.mean(np.abs((y_test_true - testPredict) / y_test_true)) * 100\n",
    "print(\"Test MAPE =\", mape)"
   ]
  },
  {
   "cell_type": "code",
   "execution_count": 18,
   "id": "600a0b58-35e4-4b12-9f3f-3740fbb92436",
   "metadata": {},
   "outputs": [
    {
     "name": "stdout",
     "output_type": "stream",
     "text": [
      "Accuracy = 97.01625742018223 %\n"
     ]
    }
   ],
   "source": [
    "# Calculate accuracy as 1 - MAPE\n",
    "accuracy = 100 - mape\n",
    "print(\"Accuracy =\", accuracy, \"%\")"
   ]
  },
  {
   "cell_type": "code",
   "execution_count": 19,
   "id": "0dd5d5b8-93ef-47af-89ee-6ae002bb96da",
   "metadata": {},
   "outputs": [
    {
     "name": "stdout",
     "output_type": "stream",
     "text": [
      "Test MAE = 2.8091164\n"
     ]
    }
   ],
   "source": [
    "from sklearn.metrics import mean_absolute_error\n",
    "\n",
    "# Calculate MAE\n",
    "mae = mean_absolute_error(y_test_true, testPredict)\n",
    "print(\"Test MAE =\", mae)"
   ]
  },
  {
   "cell_type": "code",
   "execution_count": 20,
   "id": "a8c9fe94-b991-48aa-b917-115e04f18ffa",
   "metadata": {},
   "outputs": [
    {
     "data": {
      "text/plain": [
       "(4129, 168)"
      ]
     },
     "execution_count": 20,
     "metadata": {},
     "output_type": "execute_result"
    }
   ],
   "source": [
    "y_test_true.shape"
   ]
  },
  {
   "cell_type": "code",
   "execution_count": 21,
   "id": "a21c236d-93b7-4d0a-ba80-08ec2a83c3f8",
   "metadata": {},
   "outputs": [
    {
     "data": {
      "text/plain": [
       "(4129, 168)"
      ]
     },
     "execution_count": 21,
     "metadata": {},
     "output_type": "execute_result"
    }
   ],
   "source": [
    "testPredict.shape"
   ]
  },
  {
   "cell_type": "code",
   "execution_count": 22,
   "id": "9c9037be-c096-476c-8472-bec3a194b54d",
   "metadata": {},
   "outputs": [],
   "source": [
    "import numpy as np\n",
    "\n",
    "def calculate_segment_rmse(predictions, actuals, segment_length=1):\n",
    "    num_segments = predictions.shape[1] // segment_length\n",
    "    rmses = []\n",
    "    \n",
    "    for i in range(num_segments):\n",
    "        start_idx = i * segment_length\n",
    "        end_idx = start_idx + segment_length\n",
    "        \n",
    "        # Extract the segment for both predictions and actuals\n",
    "        pred_segment = predictions[:, start_idx:end_idx]\n",
    "        actual_segment = actuals[:, start_idx:end_idx]\n",
    "        \n",
    "        # Calculate RMSE for this segment\n",
    "        segment_rmse = np.sqrt(mean_squared_error(actual_segment.flatten(), pred_segment.flatten()))\n",
    "        rmses.append(segment_rmse)\n",
    "    \n",
    "    return rmses"
   ]
  },
  {
   "cell_type": "code",
   "execution_count": 23,
   "id": "13b4f256-db53-49f0-a277-65259836076c",
   "metadata": {},
   "outputs": [
    {
     "name": "stdout",
     "output_type": "stream",
     "text": [
      "RMSE for segment 1: 1.0215\n",
      "RMSE for segment 2: 1.6904\n",
      "RMSE for segment 3: 2.2433\n",
      "RMSE for segment 4: 2.6067\n",
      "RMSE for segment 5: 2.8543\n",
      "RMSE for segment 6: 3.0095\n",
      "RMSE for segment 7: 3.0986\n",
      "RMSE for segment 8: 3.1453\n",
      "RMSE for segment 9: 3.1610\n",
      "RMSE for segment 10: 3.1651\n",
      "RMSE for segment 11: 3.1657\n",
      "RMSE for segment 12: 3.1673\n",
      "RMSE for segment 13: 3.1672\n",
      "RMSE for segment 14: 3.1645\n",
      "RMSE for segment 15: 3.1646\n",
      "RMSE for segment 16: 3.1625\n",
      "RMSE for segment 17: 3.1584\n",
      "RMSE for segment 18: 3.1550\n",
      "RMSE for segment 19: 3.1566\n",
      "RMSE for segment 20: 3.1572\n",
      "RMSE for segment 21: 3.1586\n",
      "RMSE for segment 22: 3.1636\n",
      "RMSE for segment 23: 3.1731\n",
      "RMSE for segment 24: 3.1844\n",
      "RMSE for segment 25: 3.2388\n",
      "RMSE for segment 26: 3.3118\n",
      "RMSE for segment 27: 3.3880\n",
      "RMSE for segment 28: 3.4509\n",
      "RMSE for segment 29: 3.4922\n",
      "RMSE for segment 30: 3.5276\n",
      "RMSE for segment 31: 3.5467\n",
      "RMSE for segment 32: 3.5585\n",
      "RMSE for segment 33: 3.5654\n",
      "RMSE for segment 34: 3.5637\n",
      "RMSE for segment 35: 3.5614\n",
      "RMSE for segment 36: 3.5575\n",
      "RMSE for segment 37: 3.5537\n",
      "RMSE for segment 38: 3.5521\n",
      "RMSE for segment 39: 3.5511\n",
      "RMSE for segment 40: 3.5526\n",
      "RMSE for segment 41: 3.5593\n",
      "RMSE for segment 42: 3.5646\n",
      "RMSE for segment 43: 3.5632\n",
      "RMSE for segment 44: 3.5595\n",
      "RMSE for segment 45: 3.5585\n",
      "RMSE for segment 46: 3.5558\n",
      "RMSE for segment 47: 3.5579\n",
      "RMSE for segment 48: 3.5644\n",
      "RMSE for segment 49: 3.5855\n",
      "RMSE for segment 50: 3.6151\n",
      "RMSE for segment 51: 3.6432\n",
      "RMSE for segment 52: 3.6553\n",
      "RMSE for segment 53: 3.6642\n",
      "RMSE for segment 54: 3.6686\n",
      "RMSE for segment 55: 3.6712\n",
      "RMSE for segment 56: 3.6754\n",
      "RMSE for segment 57: 3.6759\n",
      "RMSE for segment 58: 3.6737\n",
      "RMSE for segment 59: 3.6739\n",
      "RMSE for segment 60: 3.6690\n",
      "RMSE for segment 61: 3.6722\n",
      "RMSE for segment 62: 3.6701\n",
      "RMSE for segment 63: 3.6753\n",
      "RMSE for segment 64: 3.6773\n",
      "RMSE for segment 65: 3.6803\n",
      "RMSE for segment 66: 3.6859\n",
      "RMSE for segment 67: 3.6859\n",
      "RMSE for segment 68: 3.6882\n",
      "RMSE for segment 69: 3.6848\n",
      "RMSE for segment 70: 3.6836\n",
      "RMSE for segment 71: 3.6836\n",
      "RMSE for segment 72: 3.6907\n",
      "RMSE for segment 73: 3.6998\n",
      "RMSE for segment 74: 3.7165\n",
      "RMSE for segment 75: 3.7293\n",
      "RMSE for segment 76: 3.7391\n",
      "RMSE for segment 77: 3.7512\n",
      "RMSE for segment 78: 3.7624\n",
      "RMSE for segment 79: 3.7722\n",
      "RMSE for segment 80: 3.7775\n",
      "RMSE for segment 81: 3.7814\n",
      "RMSE for segment 82: 3.7806\n",
      "RMSE for segment 83: 3.7820\n",
      "RMSE for segment 84: 3.7802\n",
      "RMSE for segment 85: 3.7830\n",
      "RMSE for segment 86: 3.7782\n",
      "RMSE for segment 87: 3.7755\n",
      "RMSE for segment 88: 3.7704\n",
      "RMSE for segment 89: 3.7673\n",
      "RMSE for segment 90: 3.7667\n",
      "RMSE for segment 91: 3.7634\n",
      "RMSE for segment 92: 3.7614\n",
      "RMSE for segment 93: 3.7554\n",
      "RMSE for segment 94: 3.7499\n",
      "RMSE for segment 95: 3.7487\n",
      "RMSE for segment 96: 3.7452\n",
      "RMSE for segment 97: 3.7473\n",
      "RMSE for segment 98: 3.7571\n",
      "RMSE for segment 99: 3.7730\n",
      "RMSE for segment 100: 3.7840\n",
      "RMSE for segment 101: 3.7850\n",
      "RMSE for segment 102: 3.7905\n",
      "RMSE for segment 103: 3.7986\n",
      "RMSE for segment 104: 3.7958\n",
      "RMSE for segment 105: 3.7949\n",
      "RMSE for segment 106: 3.8006\n",
      "RMSE for segment 107: 3.8001\n",
      "RMSE for segment 108: 3.7985\n",
      "RMSE for segment 109: 3.7928\n",
      "RMSE for segment 110: 3.7928\n",
      "RMSE for segment 111: 3.7893\n",
      "RMSE for segment 112: 3.7874\n",
      "RMSE for segment 113: 3.7851\n",
      "RMSE for segment 114: 3.7874\n",
      "RMSE for segment 115: 3.7835\n",
      "RMSE for segment 116: 3.7811\n",
      "RMSE for segment 117: 3.7709\n",
      "RMSE for segment 118: 3.7697\n",
      "RMSE for segment 119: 3.7637\n",
      "RMSE for segment 120: 3.7579\n",
      "RMSE for segment 121: 3.7624\n",
      "RMSE for segment 122: 3.7725\n",
      "RMSE for segment 123: 3.7847\n",
      "RMSE for segment 124: 3.7946\n",
      "RMSE for segment 125: 3.8043\n",
      "RMSE for segment 126: 3.8013\n",
      "RMSE for segment 127: 3.8043\n",
      "RMSE for segment 128: 3.8036\n",
      "RMSE for segment 129: 3.8017\n",
      "RMSE for segment 130: 3.7950\n",
      "RMSE for segment 131: 3.7907\n",
      "RMSE for segment 132: 3.7820\n",
      "RMSE for segment 133: 3.7770\n",
      "RMSE for segment 134: 3.7706\n",
      "RMSE for segment 135: 3.7713\n",
      "RMSE for segment 136: 3.7699\n",
      "RMSE for segment 137: 3.7725\n",
      "RMSE for segment 138: 3.7756\n",
      "RMSE for segment 139: 3.7749\n",
      "RMSE for segment 140: 3.7731\n",
      "RMSE for segment 141: 3.7672\n",
      "RMSE for segment 142: 3.7637\n",
      "RMSE for segment 143: 3.7604\n",
      "RMSE for segment 144: 3.7601\n",
      "RMSE for segment 145: 3.7631\n",
      "RMSE for segment 146: 3.7721\n",
      "RMSE for segment 147: 3.7821\n",
      "RMSE for segment 148: 3.7886\n",
      "RMSE for segment 149: 3.7946\n",
      "RMSE for segment 150: 3.7931\n",
      "RMSE for segment 151: 3.7969\n",
      "RMSE for segment 152: 3.7996\n",
      "RMSE for segment 153: 3.7977\n",
      "RMSE for segment 154: 3.7929\n",
      "RMSE for segment 155: 3.7920\n",
      "RMSE for segment 156: 3.7873\n",
      "RMSE for segment 157: 3.7830\n",
      "RMSE for segment 158: 3.7767\n",
      "RMSE for segment 159: 3.7816\n",
      "RMSE for segment 160: 3.7824\n",
      "RMSE for segment 161: 3.7839\n",
      "RMSE for segment 162: 3.7854\n",
      "RMSE for segment 163: 3.7830\n",
      "RMSE for segment 164: 3.7821\n",
      "RMSE for segment 165: 3.7760\n",
      "RMSE for segment 166: 3.7656\n",
      "RMSE for segment 167: 3.7576\n",
      "RMSE for segment 168: 3.7444\n"
     ]
    }
   ],
   "source": [
    "segment_rmses = calculate_segment_rmse(testPredict, y_test_true)\n",
    "for i, rmse in enumerate(segment_rmses):\n",
    "    print(f\"RMSE for segment {i + 1}: {rmse:.4f}\")"
   ]
  },
  {
   "cell_type": "code",
   "execution_count": 24,
   "id": "7654b701-6ba9-4602-8611-59820b6311e4",
   "metadata": {},
   "outputs": [
    {
     "data": {
      "text/plain": [
       "array([[0.11756711, 0.11607878, 0.11496904, ..., 0.12688452, 0.09779279,\n",
       "        0.08172522],\n",
       "       [0.11848933, 0.11561473, 0.11464678, ..., 0.09680837, 0.08141424,\n",
       "        0.06115625],\n",
       "       [0.11369924, 0.11017311, 0.11323448, ..., 0.07453654, 0.05615649,\n",
       "        0.05629455],\n",
       "       ...,\n",
       "       [0.26169467, 0.22674862, 0.18718007, ..., 0.39512214, 0.33219934,\n",
       "        0.2713744 ],\n",
       "       [0.22765294, 0.18851432, 0.16719136, ..., 0.3287981 , 0.2718113 ,\n",
       "        0.23627317],\n",
       "       [0.19199616, 0.17127296, 0.14936413, ..., 0.2694223 , 0.23491503,\n",
       "        0.19770367]], dtype=float32)"
      ]
     },
     "execution_count": 24,
     "metadata": {},
     "output_type": "execute_result"
    }
   ],
   "source": [
    "forecast"
   ]
  },
  {
   "cell_type": "code",
   "execution_count": 25,
   "id": "7ea98a00-c789-49d3-bdfe-1c06c5364c33",
   "metadata": {},
   "outputs": [
    {
     "data": {
      "text/plain": [
       "array([[ 86.12193 ,  86.04076 ,  85.980225, ...,  86.63013 ,  85.0434  ,\n",
       "         84.16704 ],\n",
       "       [ 86.17223 ,  86.01544 ,  85.962654, ...,  84.98971 ,  84.15008 ,\n",
       "         83.045166],\n",
       "       [ 85.91097 ,  85.71865 ,  85.88562 , ...,  83.774956,  82.77247 ,\n",
       "         82.78    ],\n",
       "       ...,\n",
       "       [ 93.98295 ,  92.07692 ,  89.91877 , ..., 101.26036 ,  97.828415,\n",
       "         94.5109  ],\n",
       "       [ 92.12624 ,  89.99154 ,  88.82854 , ...,  97.64291 ,  94.53473 ,\n",
       "         92.596405],\n",
       "       [ 90.18144 ,  89.05116 ,  87.85621 , ...,  94.40443 ,  92.52233 ,\n",
       "         90.492744]], dtype=float32)"
      ]
     },
     "execution_count": 25,
     "metadata": {},
     "output_type": "execute_result"
    }
   ],
   "source": [
    "testPredict"
   ]
  },
  {
   "cell_type": "code",
   "execution_count": 26,
   "id": "4e4e0314-523d-408f-9858-83e62f6ef22e",
   "metadata": {},
   "outputs": [
    {
     "data": {
      "text/plain": [
       "array([[ 85.98279 ,  85.98279 ,  85.98279 , ...,  87.899605,  86.67981 ,\n",
       "         85.46002 ],\n",
       "       [ 85.98279 ,  85.98279 ,  85.98279 , ...,  86.67981 ,  85.46002 ,\n",
       "         84.24023 ],\n",
       "       [ 85.98279 ,  85.98279 ,  84.81528 , ...,  85.46002 ,  84.24023 ,\n",
       "         84.64102 ],\n",
       "       ...,\n",
       "       [ 93.87657 ,  92.377975,  90.86195 , ..., 102.48481 ,  98.058716,\n",
       "         93.65004 ],\n",
       "       [ 92.377975,  90.86195 ,  88.6489  , ...,  98.058716,  93.65004 ,\n",
       "         90.2869  ],\n",
       "       [ 90.86195 ,  88.6489  ,  86.45328 , ...,  93.65004 ,  90.2869  ,\n",
       "         86.90634 ]], dtype=float32)"
      ]
     },
     "execution_count": 26,
     "metadata": {},
     "output_type": "execute_result"
    }
   ],
   "source": [
    "y_test_true"
   ]
  },
  {
   "cell_type": "code",
   "execution_count": 27,
   "id": "85765500-cf61-4e8a-8763-69a8f1e567ca",
   "metadata": {},
   "outputs": [],
   "source": [
    "model.save(\"o3_1dcnn.keras\")"
   ]
  }
 ],
 "metadata": {
  "kernelspec": {
   "display_name": "Python 3 (ipykernel)",
   "language": "python",
   "name": "python3"
  },
  "language_info": {
   "codemirror_mode": {
    "name": "ipython",
    "version": 3
   },
   "file_extension": ".py",
   "mimetype": "text/x-python",
   "name": "python",
   "nbconvert_exporter": "python",
   "pygments_lexer": "ipython3",
   "version": "3.11.0"
  }
 },
 "nbformat": 4,
 "nbformat_minor": 5
}
