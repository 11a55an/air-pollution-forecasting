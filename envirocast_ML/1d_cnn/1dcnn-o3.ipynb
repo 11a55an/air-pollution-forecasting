{
 "cells": [
  {
   "cell_type": "code",
   "execution_count": 1,
   "id": "08a7b78b-1d09-454f-8ecc-7c4184ab2240",
   "metadata": {},
   "outputs": [],
   "source": [
    "import pandas as pd\n",
    "import numpy as np"
   ]
  },
  {
   "cell_type": "code",
   "execution_count": 2,
   "id": "c1570c26-8e22-4498-9fe6-68e055e504a9",
   "metadata": {},
   "outputs": [],
   "source": [
    "df = pd.read_csv(\"../data/data_imputed_2.csv\")"
   ]
  },
  {
   "cell_type": "code",
   "execution_count": 3,
   "id": "55868db8-2144-49a3-9531-e4bf0728f0a2",
   "metadata": {},
   "outputs": [
    {
     "data": {
      "text/html": [
       "<div>\n",
       "<style scoped>\n",
       "    .dataframe tbody tr th:only-of-type {\n",
       "        vertical-align: middle;\n",
       "    }\n",
       "\n",
       "    .dataframe tbody tr th {\n",
       "        vertical-align: top;\n",
       "    }\n",
       "\n",
       "    .dataframe thead th {\n",
       "        text-align: right;\n",
       "    }\n",
       "</style>\n",
       "<table border=\"1\" class=\"dataframe\">\n",
       "  <thead>\n",
       "    <tr style=\"text-align: right;\">\n",
       "      <th></th>\n",
       "      <th>timestamp_local</th>\n",
       "      <th>temp</th>\n",
       "      <th>city_name</th>\n",
       "      <th>country_code</th>\n",
       "      <th>aqi</th>\n",
       "      <th>co</th>\n",
       "      <th>no2</th>\n",
       "      <th>o3</th>\n",
       "      <th>pm10</th>\n",
       "      <th>pm25</th>\n",
       "      <th>so2</th>\n",
       "    </tr>\n",
       "  </thead>\n",
       "  <tbody>\n",
       "    <tr>\n",
       "      <th>0</th>\n",
       "      <td>01/02/2022 0:00</td>\n",
       "      <td>12.6</td>\n",
       "      <td>Gujrāt</td>\n",
       "      <td>PK</td>\n",
       "      <td>385</td>\n",
       "      <td>1339.8</td>\n",
       "      <td>76.0</td>\n",
       "      <td>10.7</td>\n",
       "      <td>491.7</td>\n",
       "      <td>347.67</td>\n",
       "      <td>238.0</td>\n",
       "    </tr>\n",
       "    <tr>\n",
       "      <th>1</th>\n",
       "      <td>01/02/2022 1:00</td>\n",
       "      <td>11.5</td>\n",
       "      <td>Gujrāt</td>\n",
       "      <td>PK</td>\n",
       "      <td>404</td>\n",
       "      <td>1437.6</td>\n",
       "      <td>76.0</td>\n",
       "      <td>9.3</td>\n",
       "      <td>508.3</td>\n",
       "      <td>359.33</td>\n",
       "      <td>268.0</td>\n",
       "    </tr>\n",
       "    <tr>\n",
       "      <th>2</th>\n",
       "      <td>01/02/2022 2:00</td>\n",
       "      <td>11.9</td>\n",
       "      <td>Gujrāt</td>\n",
       "      <td>PK</td>\n",
       "      <td>421</td>\n",
       "      <td>1535.5</td>\n",
       "      <td>76.0</td>\n",
       "      <td>8.0</td>\n",
       "      <td>525.0</td>\n",
       "      <td>371.00</td>\n",
       "      <td>298.0</td>\n",
       "    </tr>\n",
       "    <tr>\n",
       "      <th>3</th>\n",
       "      <td>01/02/2022 3:00</td>\n",
       "      <td>12.2</td>\n",
       "      <td>Gujrāt</td>\n",
       "      <td>PK</td>\n",
       "      <td>425</td>\n",
       "      <td>1659.0</td>\n",
       "      <td>68.3</td>\n",
       "      <td>5.3</td>\n",
       "      <td>529.3</td>\n",
       "      <td>374.00</td>\n",
       "      <td>275.7</td>\n",
       "    </tr>\n",
       "    <tr>\n",
       "      <th>4</th>\n",
       "      <td>01/02/2022 4:00</td>\n",
       "      <td>11.9</td>\n",
       "      <td>Gujrāt</td>\n",
       "      <td>PK</td>\n",
       "      <td>430</td>\n",
       "      <td>1782.5</td>\n",
       "      <td>60.7</td>\n",
       "      <td>2.7</td>\n",
       "      <td>533.7</td>\n",
       "      <td>377.00</td>\n",
       "      <td>253.3</td>\n",
       "    </tr>\n",
       "  </tbody>\n",
       "</table>\n",
       "</div>"
      ],
      "text/plain": [
       "   timestamp_local  temp city_name country_code  aqi      co   no2    o3  \\\n",
       "0  01/02/2022 0:00  12.6    Gujrāt           PK  385  1339.8  76.0  10.7   \n",
       "1  01/02/2022 1:00  11.5    Gujrāt           PK  404  1437.6  76.0   9.3   \n",
       "2  01/02/2022 2:00  11.9    Gujrāt           PK  421  1535.5  76.0   8.0   \n",
       "3  01/02/2022 3:00  12.2    Gujrāt           PK  425  1659.0  68.3   5.3   \n",
       "4  01/02/2022 4:00  11.9    Gujrāt           PK  430  1782.5  60.7   2.7   \n",
       "\n",
       "    pm10    pm25    so2  \n",
       "0  491.7  347.67  238.0  \n",
       "1  508.3  359.33  268.0  \n",
       "2  525.0  371.00  298.0  \n",
       "3  529.3  374.00  275.7  \n",
       "4  533.7  377.00  253.3  "
      ]
     },
     "execution_count": 3,
     "metadata": {},
     "output_type": "execute_result"
    }
   ],
   "source": [
    "df.head()"
   ]
  },
  {
   "cell_type": "code",
   "execution_count": 4,
   "id": "1957f406-a837-4345-8d16-7835bd855082",
   "metadata": {},
   "outputs": [],
   "source": [
    "from sklearn.model_selection import train_test_split"
   ]
  },
  {
   "cell_type": "code",
   "execution_count": 5,
   "id": "d7e3c4f9-7208-48a1-bee4-1a89c09e2714",
   "metadata": {},
   "outputs": [],
   "source": [
    "data = df[['o3']]"
   ]
  },
  {
   "cell_type": "code",
   "execution_count": 6,
   "id": "a2eedd5e-c6fa-43b7-9458-5deca00f11fb",
   "metadata": {},
   "outputs": [],
   "source": [
    "from sklearn.preprocessing import MinMaxScaler\n",
    "values = data.values\n",
    "\n",
    "values = values.astype('float32')\n",
    "\n",
    "scaler = MinMaxScaler(feature_range=(0, 1))\n",
    "scaled = scaler.fit_transform(values)"
   ]
  },
  {
   "cell_type": "code",
   "execution_count": 7,
   "id": "d93f3d70-328f-40a2-9403-0e22e9802560",
   "metadata": {},
   "outputs": [],
   "source": [
    "scaled = scaled.reshape((19706,))"
   ]
  },
  {
   "cell_type": "code",
   "execution_count": 8,
   "id": "09f5ccf2-8abf-4b08-8051-cb206ea52fad",
   "metadata": {},
   "outputs": [
    {
     "data": {
      "text/plain": [
       "(19706,)"
      ]
     },
     "execution_count": 8,
     "metadata": {},
     "output_type": "execute_result"
    }
   ],
   "source": [
    "scaled.shape"
   ]
  },
  {
   "cell_type": "code",
   "execution_count": 9,
   "id": "071ee44c-f600-41f6-9490-6cda18be3d8d",
   "metadata": {},
   "outputs": [],
   "source": [
    "def df_to_X_y(df, window_size, forecast_length):\n",
    "    # df_as_np = df.to_numpy()\n",
    "    X = []\n",
    "    y = []\n",
    "    \n",
    "    for i in range(len(df) - window_size - forecast_length):\n",
    "        row_x = [[a] for a in df[i:i+window_size]]\n",
    "        \n",
    "        X.append(row_x)\n",
    "        # row_y = df_as_np[i+window_size]\n",
    "        row_y = [b for b in df[i+window_size:i+window_size+forecast_length]]\n",
    "        \n",
    "        y.append(row_y)\n",
    "        \n",
    "    return np.array(X), np.array(y)"
   ]
  },
  {
   "cell_type": "code",
   "execution_count": 10,
   "id": "c118b905-bab3-4abf-b257-253d7ea2bb98",
   "metadata": {},
   "outputs": [],
   "source": [
    "WINDOW_WIDTH = 168\n",
    "FORECAST_LENGTH = 168\n",
    "X, y = df_to_X_y(scaled, WINDOW_WIDTH, FORECAST_LENGTH)\n",
    "\n",
    "\n",
    "X_train, X_test, y_train, y_test = train_test_split(X, y, test_size=0.2, random_state=0)\n",
    "X_train, X_val, y_train, y_val = train_test_split(X_train, y_train, test_size=0.2, random_state=0)\n",
    "\n",
    "X_max = X_train.max()\n",
    "X_min = X_train.min()"
   ]
  },
  {
   "cell_type": "code",
   "execution_count": 11,
   "id": "e7b85489-d3d6-4c17-8935-238402086eff",
   "metadata": {},
   "outputs": [],
   "source": [
    "batchSize = 16\n",
    "from keras.models import Sequential, save_model, load_model\n",
    "from keras.layers import *\n",
    "from keras.callbacks import ReduceLROnPlateau, ModelCheckpoint\n",
    "from tensorflow.keras.optimizers import Adam\n",
    "from keras.losses import MeanSquaredError\n",
    "from keras.metrics import RootMeanSquaredError"
   ]
  },
  {
   "cell_type": "code",
   "execution_count": 12,
   "id": "3b6c5847-1cc5-4149-b349-ff4f5c638c90",
   "metadata": {},
   "outputs": [
    {
     "name": "stderr",
     "output_type": "stream",
     "text": [
      "C:\\Users\\Hassan\\AppData\\Local\\Programs\\Python\\Python311\\Lib\\site-packages\\keras\\src\\layers\\convolutional\\base_conv.py:99: UserWarning: Do not pass an `input_shape`/`input_dim` argument to a layer. When using Sequential models, prefer using an `Input(shape)` object as the first layer in the model instead.\n",
      "  super().__init__(\n"
     ]
    },
    {
     "data": {
      "text/html": [
       "<pre style=\"white-space:pre;overflow-x:auto;line-height:normal;font-family:Menlo,'DejaVu Sans Mono',consolas,'Courier New',monospace\"><span style=\"font-weight: bold\">Model: \"sequential\"</span>\n",
       "</pre>\n"
      ],
      "text/plain": [
       "\u001b[1mModel: \"sequential\"\u001b[0m\n"
      ]
     },
     "metadata": {},
     "output_type": "display_data"
    },
    {
     "data": {
      "text/html": [
       "<pre style=\"white-space:pre;overflow-x:auto;line-height:normal;font-family:Menlo,'DejaVu Sans Mono',consolas,'Courier New',monospace\">┏━━━━━━━━━━━━━━━━━━━━━━━━━━━━━━━━━━━━━━┳━━━━━━━━━━━━━━━━━━━━━━━━━━━━━┳━━━━━━━━━━━━━━━━━┓\n",
       "┃<span style=\"font-weight: bold\"> Layer (type)                         </span>┃<span style=\"font-weight: bold\"> Output Shape                </span>┃<span style=\"font-weight: bold\">         Param # </span>┃\n",
       "┡━━━━━━━━━━━━━━━━━━━━━━━━━━━━━━━━━━━━━━╇━━━━━━━━━━━━━━━━━━━━━━━━━━━━━╇━━━━━━━━━━━━━━━━━┩\n",
       "│ conv1d (<span style=\"color: #0087ff; text-decoration-color: #0087ff\">Conv1D</span>)                      │ (<span style=\"color: #00d7ff; text-decoration-color: #00d7ff\">None</span>, <span style=\"color: #00af00; text-decoration-color: #00af00\">166</span>, <span style=\"color: #00af00; text-decoration-color: #00af00\">32</span>)             │             <span style=\"color: #00af00; text-decoration-color: #00af00\">128</span> │\n",
       "├──────────────────────────────────────┼─────────────────────────────┼─────────────────┤\n",
       "│ flatten (<span style=\"color: #0087ff; text-decoration-color: #0087ff\">Flatten</span>)                    │ (<span style=\"color: #00d7ff; text-decoration-color: #00d7ff\">None</span>, <span style=\"color: #00af00; text-decoration-color: #00af00\">5312</span>)                │               <span style=\"color: #00af00; text-decoration-color: #00af00\">0</span> │\n",
       "├──────────────────────────────────────┼─────────────────────────────┼─────────────────┤\n",
       "│ dense (<span style=\"color: #0087ff; text-decoration-color: #0087ff\">Dense</span>)                        │ (<span style=\"color: #00d7ff; text-decoration-color: #00d7ff\">None</span>, <span style=\"color: #00af00; text-decoration-color: #00af00\">168</span>)                 │         <span style=\"color: #00af00; text-decoration-color: #00af00\">892,584</span> │\n",
       "└──────────────────────────────────────┴─────────────────────────────┴─────────────────┘\n",
       "</pre>\n"
      ],
      "text/plain": [
       "┏━━━━━━━━━━━━━━━━━━━━━━━━━━━━━━━━━━━━━━┳━━━━━━━━━━━━━━━━━━━━━━━━━━━━━┳━━━━━━━━━━━━━━━━━┓\n",
       "┃\u001b[1m \u001b[0m\u001b[1mLayer (type)                        \u001b[0m\u001b[1m \u001b[0m┃\u001b[1m \u001b[0m\u001b[1mOutput Shape               \u001b[0m\u001b[1m \u001b[0m┃\u001b[1m \u001b[0m\u001b[1m        Param #\u001b[0m\u001b[1m \u001b[0m┃\n",
       "┡━━━━━━━━━━━━━━━━━━━━━━━━━━━━━━━━━━━━━━╇━━━━━━━━━━━━━━━━━━━━━━━━━━━━━╇━━━━━━━━━━━━━━━━━┩\n",
       "│ conv1d (\u001b[38;5;33mConv1D\u001b[0m)                      │ (\u001b[38;5;45mNone\u001b[0m, \u001b[38;5;34m166\u001b[0m, \u001b[38;5;34m32\u001b[0m)             │             \u001b[38;5;34m128\u001b[0m │\n",
       "├──────────────────────────────────────┼─────────────────────────────┼─────────────────┤\n",
       "│ flatten (\u001b[38;5;33mFlatten\u001b[0m)                    │ (\u001b[38;5;45mNone\u001b[0m, \u001b[38;5;34m5312\u001b[0m)                │               \u001b[38;5;34m0\u001b[0m │\n",
       "├──────────────────────────────────────┼─────────────────────────────┼─────────────────┤\n",
       "│ dense (\u001b[38;5;33mDense\u001b[0m)                        │ (\u001b[38;5;45mNone\u001b[0m, \u001b[38;5;34m168\u001b[0m)                 │         \u001b[38;5;34m892,584\u001b[0m │\n",
       "└──────────────────────────────────────┴─────────────────────────────┴─────────────────┘\n"
      ]
     },
     "metadata": {},
     "output_type": "display_data"
    },
    {
     "data": {
      "text/html": [
       "<pre style=\"white-space:pre;overflow-x:auto;line-height:normal;font-family:Menlo,'DejaVu Sans Mono',consolas,'Courier New',monospace\"><span style=\"font-weight: bold\"> Total params: </span><span style=\"color: #00af00; text-decoration-color: #00af00\">892,712</span> (3.41 MB)\n",
       "</pre>\n"
      ],
      "text/plain": [
       "\u001b[1m Total params: \u001b[0m\u001b[38;5;34m892,712\u001b[0m (3.41 MB)\n"
      ]
     },
     "metadata": {},
     "output_type": "display_data"
    },
    {
     "data": {
      "text/html": [
       "<pre style=\"white-space:pre;overflow-x:auto;line-height:normal;font-family:Menlo,'DejaVu Sans Mono',consolas,'Courier New',monospace\"><span style=\"font-weight: bold\"> Trainable params: </span><span style=\"color: #00af00; text-decoration-color: #00af00\">892,712</span> (3.41 MB)\n",
       "</pre>\n"
      ],
      "text/plain": [
       "\u001b[1m Trainable params: \u001b[0m\u001b[38;5;34m892,712\u001b[0m (3.41 MB)\n"
      ]
     },
     "metadata": {},
     "output_type": "display_data"
    },
    {
     "data": {
      "text/html": [
       "<pre style=\"white-space:pre;overflow-x:auto;line-height:normal;font-family:Menlo,'DejaVu Sans Mono',consolas,'Courier New',monospace\"><span style=\"font-weight: bold\"> Non-trainable params: </span><span style=\"color: #00af00; text-decoration-color: #00af00\">0</span> (0.00 B)\n",
       "</pre>\n"
      ],
      "text/plain": [
       "\u001b[1m Non-trainable params: \u001b[0m\u001b[38;5;34m0\u001b[0m (0.00 B)\n"
      ]
     },
     "metadata": {},
     "output_type": "display_data"
    },
    {
     "name": "stdout",
     "output_type": "stream",
     "text": [
      "Epoch 1/50\n",
      "\u001b[1m388/388\u001b[0m \u001b[32m━━━━━━━━━━━━━━━━━━━━\u001b[0m\u001b[37m\u001b[0m \u001b[1m7s\u001b[0m 17ms/step - loss: 0.0115 - root_mean_squared_error: 0.1040 - val_loss: 0.0064 - val_root_mean_squared_error: 0.0800 - learning_rate: 0.0010\n",
      "Epoch 2/50\n",
      "\u001b[1m388/388\u001b[0m \u001b[32m━━━━━━━━━━━━━━━━━━━━\u001b[0m\u001b[37m\u001b[0m \u001b[1m9s\u001b[0m 14ms/step - loss: 0.0062 - root_mean_squared_error: 0.0790 - val_loss: 0.0061 - val_root_mean_squared_error: 0.0783 - learning_rate: 0.0010\n",
      "Epoch 3/50\n",
      "\u001b[1m388/388\u001b[0m \u001b[32m━━━━━━━━━━━━━━━━━━━━\u001b[0m\u001b[37m\u001b[0m \u001b[1m5s\u001b[0m 12ms/step - loss: 0.0059 - root_mean_squared_error: 0.0770 - val_loss: 0.0059 - val_root_mean_squared_error: 0.0768 - learning_rate: 0.0010\n",
      "Epoch 4/50\n",
      "\u001b[1m388/388\u001b[0m \u001b[32m━━━━━━━━━━━━━━━━━━━━\u001b[0m\u001b[37m\u001b[0m \u001b[1m7s\u001b[0m 16ms/step - loss: 0.0058 - root_mean_squared_error: 0.0763 - val_loss: 0.0060 - val_root_mean_squared_error: 0.0771 - learning_rate: 0.0010\n",
      "Epoch 5/50\n",
      "\u001b[1m388/388\u001b[0m \u001b[32m━━━━━━━━━━━━━━━━━━━━\u001b[0m\u001b[37m\u001b[0m \u001b[1m10s\u001b[0m 15ms/step - loss: 0.0058 - root_mean_squared_error: 0.0760 - val_loss: 0.0059 - val_root_mean_squared_error: 0.0770 - learning_rate: 0.0010\n",
      "Epoch 6/50\n",
      "\u001b[1m388/388\u001b[0m \u001b[32m━━━━━━━━━━━━━━━━━━━━\u001b[0m\u001b[37m\u001b[0m \u001b[1m7s\u001b[0m 18ms/step - loss: 0.0056 - root_mean_squared_error: 0.0749 - val_loss: 0.0059 - val_root_mean_squared_error: 0.0767 - learning_rate: 0.0010\n",
      "Epoch 7/50\n",
      "\u001b[1m388/388\u001b[0m \u001b[32m━━━━━━━━━━━━━━━━━━━━\u001b[0m\u001b[37m\u001b[0m \u001b[1m7s\u001b[0m 18ms/step - loss: 0.0056 - root_mean_squared_error: 0.0746 - val_loss: 0.0058 - val_root_mean_squared_error: 0.0759 - learning_rate: 0.0010\n",
      "Epoch 8/50\n",
      "\u001b[1m388/388\u001b[0m \u001b[32m━━━━━━━━━━━━━━━━━━━━\u001b[0m\u001b[37m\u001b[0m \u001b[1m10s\u001b[0m 15ms/step - loss: 0.0055 - root_mean_squared_error: 0.0741 - val_loss: 0.0056 - val_root_mean_squared_error: 0.0750 - learning_rate: 0.0010\n",
      "Epoch 9/50\n",
      "\u001b[1m388/388\u001b[0m \u001b[32m━━━━━━━━━━━━━━━━━━━━\u001b[0m\u001b[37m\u001b[0m \u001b[1m12s\u001b[0m 18ms/step - loss: 0.0055 - root_mean_squared_error: 0.0741 - val_loss: 0.0056 - val_root_mean_squared_error: 0.0751 - learning_rate: 0.0010\n",
      "Epoch 10/50\n",
      "\u001b[1m388/388\u001b[0m \u001b[32m━━━━━━━━━━━━━━━━━━━━\u001b[0m\u001b[37m\u001b[0m \u001b[1m5s\u001b[0m 13ms/step - loss: 0.0054 - root_mean_squared_error: 0.0734 - val_loss: 0.0056 - val_root_mean_squared_error: 0.0749 - learning_rate: 0.0010\n",
      "Epoch 11/50\n",
      "\u001b[1m388/388\u001b[0m \u001b[32m━━━━━━━━━━━━━━━━━━━━\u001b[0m\u001b[37m\u001b[0m \u001b[1m7s\u001b[0m 18ms/step - loss: 0.0054 - root_mean_squared_error: 0.0732 - val_loss: 0.0056 - val_root_mean_squared_error: 0.0747 - learning_rate: 0.0010\n",
      "Epoch 12/50\n",
      "\u001b[1m388/388\u001b[0m \u001b[32m━━━━━━━━━━━━━━━━━━━━\u001b[0m\u001b[37m\u001b[0m \u001b[1m7s\u001b[0m 18ms/step - loss: 0.0053 - root_mean_squared_error: 0.0725 - val_loss: 0.0059 - val_root_mean_squared_error: 0.0766 - learning_rate: 0.0010\n",
      "Epoch 13/50\n",
      "\u001b[1m388/388\u001b[0m \u001b[32m━━━━━━━━━━━━━━━━━━━━\u001b[0m\u001b[37m\u001b[0m \u001b[1m11s\u001b[0m 18ms/step - loss: 0.0053 - root_mean_squared_error: 0.0728 - val_loss: 0.0056 - val_root_mean_squared_error: 0.0748 - learning_rate: 0.0010\n",
      "Epoch 14/50\n",
      "\u001b[1m388/388\u001b[0m \u001b[32m━━━━━━━━━━━━━━━━━━━━\u001b[0m\u001b[37m\u001b[0m \u001b[1m6s\u001b[0m 15ms/step - loss: 0.0053 - root_mean_squared_error: 0.0726 - val_loss: 0.0057 - val_root_mean_squared_error: 0.0753 - learning_rate: 0.0010\n",
      "Epoch 15/50\n",
      "\u001b[1m388/388\u001b[0m \u001b[32m━━━━━━━━━━━━━━━━━━━━\u001b[0m\u001b[37m\u001b[0m \u001b[1m12s\u001b[0m 19ms/step - loss: 0.0052 - root_mean_squared_error: 0.0720 - val_loss: 0.0056 - val_root_mean_squared_error: 0.0750 - learning_rate: 0.0010\n",
      "Epoch 16/50\n",
      "\u001b[1m388/388\u001b[0m \u001b[32m━━━━━━━━━━━━━━━━━━━━\u001b[0m\u001b[37m\u001b[0m \u001b[1m5s\u001b[0m 14ms/step - loss: 0.0051 - root_mean_squared_error: 0.0715 - val_loss: 0.0056 - val_root_mean_squared_error: 0.0748 - learning_rate: 0.0010\n",
      "Epoch 17/50\n",
      "\u001b[1m388/388\u001b[0m \u001b[32m━━━━━━━━━━━━━━━━━━━━\u001b[0m\u001b[37m\u001b[0m \u001b[1m7s\u001b[0m 19ms/step - loss: 0.0051 - root_mean_squared_error: 0.0715 - val_loss: 0.0057 - val_root_mean_squared_error: 0.0752 - learning_rate: 0.0010\n",
      "Epoch 18/50\n",
      "\u001b[1m388/388\u001b[0m \u001b[32m━━━━━━━━━━━━━━━━━━━━\u001b[0m\u001b[37m\u001b[0m \u001b[1m10s\u001b[0m 18ms/step - loss: 0.0051 - root_mean_squared_error: 0.0711 - val_loss: 0.0055 - val_root_mean_squared_error: 0.0743 - learning_rate: 0.0010\n",
      "Epoch 19/50\n",
      "\u001b[1m388/388\u001b[0m \u001b[32m━━━━━━━━━━━━━━━━━━━━\u001b[0m\u001b[37m\u001b[0m \u001b[1m7s\u001b[0m 18ms/step - loss: 0.0051 - root_mean_squared_error: 0.0717 - val_loss: 0.0056 - val_root_mean_squared_error: 0.0746 - learning_rate: 0.0010\n",
      "Epoch 20/50\n",
      "\u001b[1m388/388\u001b[0m \u001b[32m━━━━━━━━━━━━━━━━━━━━\u001b[0m\u001b[37m\u001b[0m \u001b[1m6s\u001b[0m 14ms/step - loss: 0.0051 - root_mean_squared_error: 0.0711 - val_loss: 0.0058 - val_root_mean_squared_error: 0.0764 - learning_rate: 0.0010\n",
      "Epoch 21/50\n",
      "\u001b[1m388/388\u001b[0m \u001b[32m━━━━━━━━━━━━━━━━━━━━\u001b[0m\u001b[37m\u001b[0m \u001b[1m6s\u001b[0m 15ms/step - loss: 0.0051 - root_mean_squared_error: 0.0713 - val_loss: 0.0055 - val_root_mean_squared_error: 0.0744 - learning_rate: 0.0010\n",
      "Epoch 22/50\n",
      "\u001b[1m388/388\u001b[0m \u001b[32m━━━━━━━━━━━━━━━━━━━━\u001b[0m\u001b[37m\u001b[0m \u001b[1m7s\u001b[0m 18ms/step - loss: 0.0050 - root_mean_squared_error: 0.0709 - val_loss: 0.0057 - val_root_mean_squared_error: 0.0755 - learning_rate: 0.0010\n",
      "Epoch 23/50\n",
      "\u001b[1m388/388\u001b[0m \u001b[32m━━━━━━━━━━━━━━━━━━━━\u001b[0m\u001b[37m\u001b[0m \u001b[1m5s\u001b[0m 14ms/step - loss: 0.0049 - root_mean_squared_error: 0.0702 - val_loss: 0.0056 - val_root_mean_squared_error: 0.0749 - learning_rate: 0.0010\n",
      "Epoch 24/50\n",
      "\u001b[1m388/388\u001b[0m \u001b[32m━━━━━━━━━━━━━━━━━━━━\u001b[0m\u001b[37m\u001b[0m \u001b[1m12s\u001b[0m 18ms/step - loss: 0.0050 - root_mean_squared_error: 0.0706 - val_loss: 0.0055 - val_root_mean_squared_error: 0.0742 - learning_rate: 0.0010\n",
      "Epoch 25/50\n",
      "\u001b[1m388/388\u001b[0m \u001b[32m━━━━━━━━━━━━━━━━━━━━\u001b[0m\u001b[37m\u001b[0m \u001b[1m5s\u001b[0m 13ms/step - loss: 0.0050 - root_mean_squared_error: 0.0706 - val_loss: 0.0057 - val_root_mean_squared_error: 0.0756 - learning_rate: 0.0010\n",
      "Epoch 26/50\n",
      "\u001b[1m388/388\u001b[0m \u001b[32m━━━━━━━━━━━━━━━━━━━━\u001b[0m\u001b[37m\u001b[0m \u001b[1m4s\u001b[0m 11ms/step - loss: 0.0050 - root_mean_squared_error: 0.0705 - val_loss: 0.0056 - val_root_mean_squared_error: 0.0746 - learning_rate: 0.0010\n",
      "Epoch 27/50\n",
      "\u001b[1m388/388\u001b[0m \u001b[32m━━━━━━━━━━━━━━━━━━━━\u001b[0m\u001b[37m\u001b[0m \u001b[1m7s\u001b[0m 16ms/step - loss: 0.0049 - root_mean_squared_error: 0.0701 - val_loss: 0.0055 - val_root_mean_squared_error: 0.0740 - learning_rate: 0.0010\n",
      "Epoch 28/50\n",
      "\u001b[1m388/388\u001b[0m \u001b[32m━━━━━━━━━━━━━━━━━━━━\u001b[0m\u001b[37m\u001b[0m \u001b[1m12s\u001b[0m 18ms/step - loss: 0.0048 - root_mean_squared_error: 0.0696 - val_loss: 0.0055 - val_root_mean_squared_error: 0.0741 - learning_rate: 0.0010\n",
      "Epoch 29/50\n",
      "\u001b[1m388/388\u001b[0m \u001b[32m━━━━━━━━━━━━━━━━━━━━\u001b[0m\u001b[37m\u001b[0m \u001b[1m9s\u001b[0m 13ms/step - loss: 0.0047 - root_mean_squared_error: 0.0686 - val_loss: 0.0053 - val_root_mean_squared_error: 0.0731 - learning_rate: 1.0000e-04\n",
      "Epoch 30/50\n",
      "\u001b[1m388/388\u001b[0m \u001b[32m━━━━━━━━━━━━━━━━━━━━\u001b[0m\u001b[37m\u001b[0m \u001b[1m4s\u001b[0m 11ms/step - loss: 0.0046 - root_mean_squared_error: 0.0678 - val_loss: 0.0053 - val_root_mean_squared_error: 0.0731 - learning_rate: 1.0000e-04\n",
      "Epoch 31/50\n",
      "\u001b[1m388/388\u001b[0m \u001b[32m━━━━━━━━━━━━━━━━━━━━\u001b[0m\u001b[37m\u001b[0m \u001b[1m5s\u001b[0m 12ms/step - loss: 0.0046 - root_mean_squared_error: 0.0679 - val_loss: 0.0053 - val_root_mean_squared_error: 0.0731 - learning_rate: 1.0000e-04\n",
      "Epoch 32/50\n",
      "\u001b[1m388/388\u001b[0m \u001b[32m━━━━━━━━━━━━━━━━━━━━\u001b[0m\u001b[37m\u001b[0m \u001b[1m5s\u001b[0m 14ms/step - loss: 0.0046 - root_mean_squared_error: 0.0677 - val_loss: 0.0054 - val_root_mean_squared_error: 0.0731 - learning_rate: 1.0000e-04\n",
      "Epoch 33/50\n",
      "\u001b[1m388/388\u001b[0m \u001b[32m━━━━━━━━━━━━━━━━━━━━\u001b[0m\u001b[37m\u001b[0m \u001b[1m6s\u001b[0m 14ms/step - loss: 0.0046 - root_mean_squared_error: 0.0676 - val_loss: 0.0053 - val_root_mean_squared_error: 0.0731 - learning_rate: 1.0000e-04\n",
      "Epoch 34/50\n",
      "\u001b[1m388/388\u001b[0m \u001b[32m━━━━━━━━━━━━━━━━━━━━\u001b[0m\u001b[37m\u001b[0m \u001b[1m5s\u001b[0m 12ms/step - loss: 0.0046 - root_mean_squared_error: 0.0676 - val_loss: 0.0054 - val_root_mean_squared_error: 0.0733 - learning_rate: 1.0000e-04\n",
      "Epoch 35/50\n",
      "\u001b[1m388/388\u001b[0m \u001b[32m━━━━━━━━━━━━━━━━━━━━\u001b[0m\u001b[37m\u001b[0m \u001b[1m5s\u001b[0m 12ms/step - loss: 0.0046 - root_mean_squared_error: 0.0679 - val_loss: 0.0053 - val_root_mean_squared_error: 0.0731 - learning_rate: 1.0000e-04\n",
      "Epoch 36/50\n",
      "\u001b[1m388/388\u001b[0m \u001b[32m━━━━━━━━━━━━━━━━━━━━\u001b[0m\u001b[37m\u001b[0m \u001b[1m5s\u001b[0m 12ms/step - loss: 0.0046 - root_mean_squared_error: 0.0681 - val_loss: 0.0053 - val_root_mean_squared_error: 0.0731 - learning_rate: 1.0000e-04\n",
      "Epoch 37/50\n",
      "\u001b[1m388/388\u001b[0m \u001b[32m━━━━━━━━━━━━━━━━━━━━\u001b[0m\u001b[37m\u001b[0m \u001b[1m6s\u001b[0m 13ms/step - loss: 0.0046 - root_mean_squared_error: 0.0680 - val_loss: 0.0053 - val_root_mean_squared_error: 0.0731 - learning_rate: 1.0000e-04\n",
      "Epoch 38/50\n",
      "\u001b[1m388/388\u001b[0m \u001b[32m━━━━━━━━━━━━━━━━━━━━\u001b[0m\u001b[37m\u001b[0m \u001b[1m7s\u001b[0m 18ms/step - loss: 0.0046 - root_mean_squared_error: 0.0677 - val_loss: 0.0053 - val_root_mean_squared_error: 0.0731 - learning_rate: 1.0000e-04\n",
      "Epoch 39/50\n",
      "\u001b[1m388/388\u001b[0m \u001b[32m━━━━━━━━━━━━━━━━━━━━\u001b[0m\u001b[37m\u001b[0m \u001b[1m6s\u001b[0m 14ms/step - loss: 0.0045 - root_mean_squared_error: 0.0673 - val_loss: 0.0053 - val_root_mean_squared_error: 0.0731 - learning_rate: 1.0000e-04\n",
      "Epoch 40/50\n",
      "\u001b[1m388/388\u001b[0m \u001b[32m━━━━━━━━━━━━━━━━━━━━\u001b[0m\u001b[37m\u001b[0m \u001b[1m5s\u001b[0m 13ms/step - loss: 0.0045 - root_mean_squared_error: 0.0673 - val_loss: 0.0053 - val_root_mean_squared_error: 0.0730 - learning_rate: 1.0000e-05\n",
      "Epoch 41/50\n",
      "\u001b[1m388/388\u001b[0m \u001b[32m━━━━━━━━━━━━━━━━━━━━\u001b[0m\u001b[37m\u001b[0m \u001b[1m7s\u001b[0m 18ms/step - loss: 0.0045 - root_mean_squared_error: 0.0673 - val_loss: 0.0053 - val_root_mean_squared_error: 0.0730 - learning_rate: 1.0000e-05\n",
      "Epoch 42/50\n",
      "\u001b[1m388/388\u001b[0m \u001b[32m━━━━━━━━━━━━━━━━━━━━\u001b[0m\u001b[37m\u001b[0m \u001b[1m6s\u001b[0m 16ms/step - loss: 0.0045 - root_mean_squared_error: 0.0674 - val_loss: 0.0053 - val_root_mean_squared_error: 0.0730 - learning_rate: 1.0000e-05\n",
      "Epoch 43/50\n",
      "\u001b[1m388/388\u001b[0m \u001b[32m━━━━━━━━━━━━━━━━━━━━\u001b[0m\u001b[37m\u001b[0m \u001b[1m5s\u001b[0m 12ms/step - loss: 0.0045 - root_mean_squared_error: 0.0672 - val_loss: 0.0053 - val_root_mean_squared_error: 0.0730 - learning_rate: 1.0000e-05\n",
      "Epoch 44/50\n",
      "\u001b[1m388/388\u001b[0m \u001b[32m━━━━━━━━━━━━━━━━━━━━\u001b[0m\u001b[37m\u001b[0m \u001b[1m5s\u001b[0m 12ms/step - loss: 0.0046 - root_mean_squared_error: 0.0676 - val_loss: 0.0053 - val_root_mean_squared_error: 0.0730 - learning_rate: 1.0000e-05\n",
      "Epoch 45/50\n",
      "\u001b[1m388/388\u001b[0m \u001b[32m━━━━━━━━━━━━━━━━━━━━\u001b[0m\u001b[37m\u001b[0m \u001b[1m5s\u001b[0m 12ms/step - loss: 0.0046 - root_mean_squared_error: 0.0677 - val_loss: 0.0053 - val_root_mean_squared_error: 0.0730 - learning_rate: 1.0000e-05\n",
      "Epoch 46/50\n",
      "\u001b[1m388/388\u001b[0m \u001b[32m━━━━━━━━━━━━━━━━━━━━\u001b[0m\u001b[37m\u001b[0m \u001b[1m6s\u001b[0m 15ms/step - loss: 0.0046 - root_mean_squared_error: 0.0676 - val_loss: 0.0053 - val_root_mean_squared_error: 0.0730 - learning_rate: 1.0000e-05\n",
      "Epoch 47/50\n",
      "\u001b[1m388/388\u001b[0m \u001b[32m━━━━━━━━━━━━━━━━━━━━\u001b[0m\u001b[37m\u001b[0m \u001b[1m5s\u001b[0m 12ms/step - loss: 0.0046 - root_mean_squared_error: 0.0676 - val_loss: 0.0053 - val_root_mean_squared_error: 0.0730 - learning_rate: 1.0000e-05\n",
      "Epoch 48/50\n",
      "\u001b[1m388/388\u001b[0m \u001b[32m━━━━━━━━━━━━━━━━━━━━\u001b[0m\u001b[37m\u001b[0m \u001b[1m7s\u001b[0m 18ms/step - loss: 0.0045 - root_mean_squared_error: 0.0669 - val_loss: 0.0053 - val_root_mean_squared_error: 0.0730 - learning_rate: 1.0000e-05\n",
      "Epoch 49/50\n",
      "\u001b[1m388/388\u001b[0m \u001b[32m━━━━━━━━━━━━━━━━━━━━\u001b[0m\u001b[37m\u001b[0m \u001b[1m7s\u001b[0m 19ms/step - loss: 0.0045 - root_mean_squared_error: 0.0674 - val_loss: 0.0053 - val_root_mean_squared_error: 0.0729 - learning_rate: 1.0000e-05\n",
      "Epoch 50/50\n",
      "\u001b[1m388/388\u001b[0m \u001b[32m━━━━━━━━━━━━━━━━━━━━\u001b[0m\u001b[37m\u001b[0m \u001b[1m6s\u001b[0m 15ms/step - loss: 0.0045 - root_mean_squared_error: 0.0673 - val_loss: 0.0053 - val_root_mean_squared_error: 0.0729 - learning_rate: 1.0000e-06\n"
     ]
    }
   ],
   "source": [
    "normalizer = Normalization()\n",
    "normalizer.adapt(X_train)\n",
    "rlrop = ReduceLROnPlateau(monitor='val_loss', factor=0.1, patience=10)\n",
    "\n",
    "model = Sequential()\n",
    "# 1D Convolutional layers\n",
    "model.add(Conv1D(filters=32, kernel_size=3, activation='relu', input_shape=X_train.shape[1:]))\n",
    "# model.add(Conv1D(filters=64, kernel_size=3, activation='relu'))\n",
    "# model.add(Conv1D(filters=32, kernel_size=3, activation='relu'))\n",
    "# Flatten the output of the Conv layers\n",
    "model.add(Flatten())\n",
    "# model.add(LSTM(input_shape = X_train.shape[1:], units=86, return_sequences=True))\n",
    "# model.add(LSTM(units=64, return_sequences=True))\n",
    "# model.add(GRU(units=86, return_sequences=True))\n",
    "# model.add(LSTM(units=128, return_sequences=True))\n",
    "# model.add(GRU(units=100, return_sequences=True))\n",
    "# model.add(LSTM(units=100, return_sequences=False))\n",
    "# model.add(Dense(units=100,  activation='relu'))\n",
    "# model.add(Dense(8, activation='relu'))\n",
    "\n",
    "model.add(Dense(units=FORECAST_LENGTH, activation='linear'))\n",
    "\n",
    "model.summary()\n",
    "\n",
    "model.compile(optimizer=Adam(learning_rate=0.001), metrics=[RootMeanSquaredError()] , loss=MeanSquaredError())\n",
    "\n",
    "history = model.fit(X_train, y_train, validation_data=(X_val,y_val), epochs=50, callbacks=[rlrop])\n",
    "\n",
    "# score = model.evaluate(X_test, y_test, verbose = 1)"
   ]
  },
  {
   "cell_type": "code",
   "execution_count": 13,
   "id": "5674b419-12bd-4a4e-a83d-2438ae813939",
   "metadata": {},
   "outputs": [
    {
     "name": "stdout",
     "output_type": "stream",
     "text": [
      "\u001b[1m122/122\u001b[0m \u001b[32m━━━━━━━━━━━━━━━━━━━━\u001b[0m\u001b[37m\u001b[0m \u001b[1m0s\u001b[0m 3ms/step\n"
     ]
    }
   ],
   "source": [
    "forecast = model.predict(X_test)"
   ]
  },
  {
   "cell_type": "code",
   "execution_count": 14,
   "id": "abb7c26e-b6e8-4526-aa4e-9180825c9d51",
   "metadata": {},
   "outputs": [],
   "source": [
    "poll = np.array(df[\"o3\"])\n",
    "\n",
    "meanop = poll.mean()\n",
    "stdop = poll.std()\n",
    "\n",
    "y_test_true = y_test*stdop + meanop\n",
    "testPredict = forecast*stdop + meanop"
   ]
  },
  {
   "cell_type": "code",
   "execution_count": 15,
   "id": "cccf66c7-77a1-483d-8b28-e5df8056b4b6",
   "metadata": {},
   "outputs": [],
   "source": [
    "from sklearn.metrics import mean_squared_error"
   ]
  },
  {
   "cell_type": "code",
   "execution_count": 16,
   "id": "3e3a186b-a281-4964-9581-f8f73931e019",
   "metadata": {},
   "outputs": [
    {
     "name": "stdout",
     "output_type": "stream",
     "text": [
      "Test RMSE = 3.9566438\n"
     ]
    }
   ],
   "source": [
    "rmse = np.sqrt(mean_squared_error(y_test_true, testPredict))\n",
    "print(\"Test RMSE =\"  ,rmse)"
   ]
  },
  {
   "cell_type": "code",
   "execution_count": 17,
   "id": "9fa0dda5-cbeb-45ba-a1e9-9f396270d66f",
   "metadata": {},
   "outputs": [
    {
     "name": "stdout",
     "output_type": "stream",
     "text": [
      "Test MAPE = 3.2800547778606415\n"
     ]
    }
   ],
   "source": [
    "# Calculate MAPE\n",
    "mape = np.mean(np.abs((y_test_true - testPredict) / y_test_true)) * 100\n",
    "print(\"Test MAPE =\", mape)"
   ]
  },
  {
   "cell_type": "code",
   "execution_count": 18,
   "id": "600a0b58-35e4-4b12-9f3f-3740fbb92436",
   "metadata": {},
   "outputs": [
    {
     "name": "stdout",
     "output_type": "stream",
     "text": [
      "Accuracy = 96.71994522213936 %\n"
     ]
    }
   ],
   "source": [
    "# Calculate accuracy as 1 - MAPE\n",
    "accuracy = 100 - mape\n",
    "print(\"Accuracy =\", accuracy, \"%\")"
   ]
  },
  {
   "cell_type": "code",
   "execution_count": 27,
   "id": "0dd5d5b8-93ef-47af-89ee-6ae002bb96da",
   "metadata": {},
   "outputs": [
    {
     "name": "stdout",
     "output_type": "stream",
     "text": [
      "Test MAE = 3.026497\n"
     ]
    }
   ],
   "source": [
    "from sklearn.metrics import mean_absolute_error\n",
    "\n",
    "# Calculate MAE\n",
    "mae = mean_absolute_error(y_test_true, testPredict)\n",
    "print(\"Test MAE =\", mae)"
   ]
  },
  {
   "cell_type": "code",
   "execution_count": 19,
   "id": "a8c9fe94-b991-48aa-b917-115e04f18ffa",
   "metadata": {},
   "outputs": [
    {
     "data": {
      "text/plain": [
       "(3874, 168)"
      ]
     },
     "execution_count": 19,
     "metadata": {},
     "output_type": "execute_result"
    }
   ],
   "source": [
    "y_test_true.shape"
   ]
  },
  {
   "cell_type": "code",
   "execution_count": 20,
   "id": "a21c236d-93b7-4d0a-ba80-08ec2a83c3f8",
   "metadata": {},
   "outputs": [
    {
     "data": {
      "text/plain": [
       "(3874, 168)"
      ]
     },
     "execution_count": 20,
     "metadata": {},
     "output_type": "execute_result"
    }
   ],
   "source": [
    "testPredict.shape"
   ]
  },
  {
   "cell_type": "code",
   "execution_count": 21,
   "id": "9c9037be-c096-476c-8472-bec3a194b54d",
   "metadata": {},
   "outputs": [],
   "source": [
    "import numpy as np\n",
    "\n",
    "def calculate_segment_rmse(predictions, actuals, segment_length=1):\n",
    "    num_segments = predictions.shape[1] // segment_length\n",
    "    rmses = []\n",
    "    \n",
    "    for i in range(num_segments):\n",
    "        start_idx = i * segment_length\n",
    "        end_idx = start_idx + segment_length\n",
    "        \n",
    "        # Extract the segment for both predictions and actuals\n",
    "        pred_segment = predictions[:, start_idx:end_idx]\n",
    "        actual_segment = actuals[:, start_idx:end_idx]\n",
    "        \n",
    "        # Calculate RMSE for this segment\n",
    "        segment_rmse = np.sqrt(mean_squared_error(actual_segment.flatten(), pred_segment.flatten()))\n",
    "        rmses.append(segment_rmse)\n",
    "    \n",
    "    return rmses"
   ]
  },
  {
   "cell_type": "code",
   "execution_count": 22,
   "id": "13b4f256-db53-49f0-a277-65259836076c",
   "metadata": {},
   "outputs": [
    {
     "name": "stdout",
     "output_type": "stream",
     "text": [
      "RMSE for segment 1: 0.9831\n",
      "RMSE for segment 2: 1.7514\n",
      "RMSE for segment 3: 2.3954\n",
      "RMSE for segment 4: 2.7624\n",
      "RMSE for segment 5: 3.0222\n",
      "RMSE for segment 6: 3.1956\n",
      "RMSE for segment 7: 3.2774\n",
      "RMSE for segment 8: 3.3093\n",
      "RMSE for segment 9: 3.3432\n",
      "RMSE for segment 10: 3.4057\n",
      "RMSE for segment 11: 3.4194\n",
      "RMSE for segment 12: 3.4315\n",
      "RMSE for segment 13: 3.4452\n",
      "RMSE for segment 14: 3.4351\n",
      "RMSE for segment 15: 3.4268\n",
      "RMSE for segment 16: 3.4399\n",
      "RMSE for segment 17: 3.4607\n",
      "RMSE for segment 18: 3.5185\n",
      "RMSE for segment 19: 3.5505\n",
      "RMSE for segment 20: 3.5434\n",
      "RMSE for segment 21: 3.5355\n",
      "RMSE for segment 22: 3.5153\n",
      "RMSE for segment 23: 3.4875\n",
      "RMSE for segment 24: 3.4840\n",
      "RMSE for segment 25: 3.5395\n",
      "RMSE for segment 26: 3.5812\n",
      "RMSE for segment 27: 3.6646\n",
      "RMSE for segment 28: 3.7387\n",
      "RMSE for segment 29: 3.7920\n",
      "RMSE for segment 30: 3.8202\n",
      "RMSE for segment 31: 3.8273\n",
      "RMSE for segment 32: 3.8086\n",
      "RMSE for segment 33: 3.7886\n",
      "RMSE for segment 34: 3.7765\n",
      "RMSE for segment 35: 3.8099\n",
      "RMSE for segment 36: 3.8865\n",
      "RMSE for segment 37: 3.9285\n",
      "RMSE for segment 38: 3.9305\n",
      "RMSE for segment 39: 3.9162\n",
      "RMSE for segment 40: 3.9343\n",
      "RMSE for segment 41: 3.9678\n",
      "RMSE for segment 42: 3.9795\n",
      "RMSE for segment 43: 3.9842\n",
      "RMSE for segment 44: 3.9548\n",
      "RMSE for segment 45: 3.9364\n",
      "RMSE for segment 46: 3.9282\n",
      "RMSE for segment 47: 3.9146\n",
      "RMSE for segment 48: 3.8904\n",
      "RMSE for segment 49: 3.8949\n",
      "RMSE for segment 50: 3.8969\n",
      "RMSE for segment 51: 3.9650\n",
      "RMSE for segment 52: 3.9882\n",
      "RMSE for segment 53: 3.9904\n",
      "RMSE for segment 54: 3.9632\n",
      "RMSE for segment 55: 3.9529\n",
      "RMSE for segment 56: 3.9524\n",
      "RMSE for segment 57: 3.9677\n",
      "RMSE for segment 58: 3.9579\n",
      "RMSE for segment 59: 3.9916\n",
      "RMSE for segment 60: 4.0787\n",
      "RMSE for segment 61: 4.1139\n",
      "RMSE for segment 62: 4.1242\n",
      "RMSE for segment 63: 4.1339\n",
      "RMSE for segment 64: 4.1193\n",
      "RMSE for segment 65: 4.1031\n",
      "RMSE for segment 66: 4.0853\n",
      "RMSE for segment 67: 4.0639\n",
      "RMSE for segment 68: 4.0500\n",
      "RMSE for segment 69: 4.0276\n",
      "RMSE for segment 70: 4.0144\n",
      "RMSE for segment 71: 3.9941\n",
      "RMSE for segment 72: 3.9594\n",
      "RMSE for segment 73: 3.9483\n",
      "RMSE for segment 74: 3.9512\n",
      "RMSE for segment 75: 4.0154\n",
      "RMSE for segment 76: 4.0555\n",
      "RMSE for segment 77: 4.0599\n",
      "RMSE for segment 78: 4.0365\n",
      "RMSE for segment 79: 4.0298\n",
      "RMSE for segment 80: 4.0589\n",
      "RMSE for segment 81: 4.0508\n",
      "RMSE for segment 82: 4.0210\n",
      "RMSE for segment 83: 4.0401\n",
      "RMSE for segment 84: 4.1006\n",
      "RMSE for segment 85: 4.1316\n",
      "RMSE for segment 86: 4.0985\n",
      "RMSE for segment 87: 4.0859\n",
      "RMSE for segment 88: 4.0768\n",
      "RMSE for segment 89: 4.0566\n",
      "RMSE for segment 90: 4.0522\n",
      "RMSE for segment 91: 4.0463\n",
      "RMSE for segment 92: 4.0430\n",
      "RMSE for segment 93: 4.0597\n",
      "RMSE for segment 94: 4.0627\n",
      "RMSE for segment 95: 4.0358\n",
      "RMSE for segment 96: 4.0213\n",
      "RMSE for segment 97: 4.0093\n",
      "RMSE for segment 98: 3.9723\n",
      "RMSE for segment 99: 3.9942\n",
      "RMSE for segment 100: 4.0378\n",
      "RMSE for segment 101: 4.0637\n",
      "RMSE for segment 102: 4.0643\n",
      "RMSE for segment 103: 4.0469\n",
      "RMSE for segment 104: 4.0263\n",
      "RMSE for segment 105: 3.9855\n",
      "RMSE for segment 106: 3.9798\n",
      "RMSE for segment 107: 4.0354\n",
      "RMSE for segment 108: 4.0714\n",
      "RMSE for segment 109: 4.0915\n",
      "RMSE for segment 110: 4.0900\n",
      "RMSE for segment 111: 4.0957\n",
      "RMSE for segment 112: 4.0914\n",
      "RMSE for segment 113: 4.0796\n",
      "RMSE for segment 114: 4.1134\n",
      "RMSE for segment 115: 4.1399\n",
      "RMSE for segment 116: 4.1472\n",
      "RMSE for segment 117: 4.1575\n",
      "RMSE for segment 118: 4.1763\n",
      "RMSE for segment 119: 4.1607\n",
      "RMSE for segment 120: 4.1552\n",
      "RMSE for segment 121: 4.1408\n",
      "RMSE for segment 122: 4.1263\n",
      "RMSE for segment 123: 4.1478\n",
      "RMSE for segment 124: 4.1500\n",
      "RMSE for segment 125: 4.1434\n",
      "RMSE for segment 126: 4.1344\n",
      "RMSE for segment 127: 4.1483\n",
      "RMSE for segment 128: 4.1514\n",
      "RMSE for segment 129: 4.1290\n",
      "RMSE for segment 130: 4.1248\n",
      "RMSE for segment 131: 4.1362\n",
      "RMSE for segment 132: 4.1717\n",
      "RMSE for segment 133: 4.1864\n",
      "RMSE for segment 134: 4.1752\n",
      "RMSE for segment 135: 4.2028\n",
      "RMSE for segment 136: 4.1920\n",
      "RMSE for segment 137: 4.1778\n",
      "RMSE for segment 138: 4.2062\n",
      "RMSE for segment 139: 4.2238\n",
      "RMSE for segment 140: 4.2422\n",
      "RMSE for segment 141: 4.2143\n",
      "RMSE for segment 142: 4.2386\n",
      "RMSE for segment 143: 4.2038\n",
      "RMSE for segment 144: 4.1729\n",
      "RMSE for segment 145: 4.1449\n",
      "RMSE for segment 146: 4.1282\n",
      "RMSE for segment 147: 4.1638\n",
      "RMSE for segment 148: 4.2185\n",
      "RMSE for segment 149: 4.2659\n",
      "RMSE for segment 150: 4.2807\n",
      "RMSE for segment 151: 4.2985\n",
      "RMSE for segment 152: 4.2766\n",
      "RMSE for segment 153: 4.2613\n",
      "RMSE for segment 154: 4.2296\n",
      "RMSE for segment 155: 4.2247\n",
      "RMSE for segment 156: 4.2419\n",
      "RMSE for segment 157: 4.2590\n",
      "RMSE for segment 158: 4.2732\n",
      "RMSE for segment 159: 4.2799\n",
      "RMSE for segment 160: 4.2587\n",
      "RMSE for segment 161: 4.2282\n",
      "RMSE for segment 162: 4.2082\n",
      "RMSE for segment 163: 4.1797\n",
      "RMSE for segment 164: 4.1985\n",
      "RMSE for segment 165: 4.1825\n",
      "RMSE for segment 166: 4.1584\n",
      "RMSE for segment 167: 4.1423\n",
      "RMSE for segment 168: 4.1620\n"
     ]
    }
   ],
   "source": [
    "segment_rmses = calculate_segment_rmse(testPredict, y_test_true)\n",
    "for i, rmse in enumerate(segment_rmses):\n",
    "    print(f\"RMSE for segment {i + 1}: {rmse:.4f}\")"
   ]
  },
  {
   "cell_type": "code",
   "execution_count": 23,
   "id": "7654b701-6ba9-4602-8611-59820b6311e4",
   "metadata": {},
   "outputs": [
    {
     "data": {
      "text/plain": [
       "array([[0.16116372, 0.16638248, 0.16893211, ..., 0.14472392, 0.15472215,\n",
       "        0.15930325],\n",
       "       [0.5528743 , 0.5631961 , 0.5607244 , ..., 0.5380846 , 0.5216266 ,\n",
       "        0.5132997 ],\n",
       "       [0.32481074, 0.3883506 , 0.44992256, ..., 0.1900531 , 0.22161554,\n",
       "        0.25979862],\n",
       "       ...,\n",
       "       [0.6678637 , 0.5860373 , 0.5040754 , ..., 0.39490664, 0.40893912,\n",
       "        0.43255836],\n",
       "       [0.06558615, 0.09426196, 0.29270643, ..., 0.05516756, 0.0600818 ,\n",
       "        0.07570019],\n",
       "       [0.18669437, 0.16360666, 0.14268562, ..., 0.3577841 , 0.29316005,\n",
       "        0.23115674]], dtype=float32)"
      ]
     },
     "execution_count": 23,
     "metadata": {},
     "output_type": "execute_result"
    }
   ],
   "source": [
    "forecast"
   ]
  },
  {
   "cell_type": "code",
   "execution_count": 24,
   "id": "7ea98a00-c789-49d3-bdfe-1c06c5364c33",
   "metadata": {},
   "outputs": [
    {
     "data": {
      "text/plain": [
       "array([[ 87.04286 ,  87.32649 ,  87.46506 , ...,  86.14938 ,  86.69277 ,\n",
       "         86.94175 ],\n",
       "       [108.33164 , 108.89261 , 108.75828 , ..., 107.52785 , 106.63338 ,\n",
       "        106.18083 ],\n",
       "       [ 95.93678 ,  99.39007 , 102.73639 , ...,  88.612946,  90.32831 ,\n",
       "         92.403496],\n",
       "       ...,\n",
       "       [114.581116, 110.13399 , 105.679504, ...,  99.746376, 100.50902 ,\n",
       "        101.79268 ],\n",
       "       [ 81.84839 ,  83.40687 ,  94.19197 , ...,  81.28216 ,  81.54924 ,\n",
       "         82.39807 ],\n",
       "       [ 88.430405,  87.17563 ,  86.038605, ...,  97.72883 ,  94.21663 ,\n",
       "         90.846855]], dtype=float32)"
      ]
     },
     "execution_count": 24,
     "metadata": {},
     "output_type": "execute_result"
    }
   ],
   "source": [
    "testPredict"
   ]
  },
  {
   "cell_type": "code",
   "execution_count": 25,
   "id": "4e4e0314-523d-408f-9858-83e62f6ef22e",
   "metadata": {},
   "outputs": [
    {
     "data": {
      "text/plain": [
       "array([[ 88.52845 ,  86.56636 ,  84.58691 , ...,  87.13936 ,  87.781815,\n",
       "         88.406906],\n",
       "       [108.32301 , 107.454834, 106.58665 , ..., 114.9212  , 112.95911 ,\n",
       "        110.97965 ],\n",
       "       [ 95.99483 ,  99.64119 , 103.28755 , ...,  87.95545 ,  89.44872 ,\n",
       "         90.959366],\n",
       "       ...,\n",
       "       [113.87938 , 108.49665 , 103.11392 , ...,  91.27191 ,  96.30737 ,\n",
       "        101.32546 ],\n",
       "       [ 81.46145 ,  82.972084,  93.56391 , ...,  78.40544 ,  78.457535,\n",
       "         80.02026 ],\n",
       "       [ 88.58054 ,  86.913635,  85.229355, ..., 100.11001 ,  96.04691 ,\n",
       "         92.00118 ]], dtype=float32)"
      ]
     },
     "execution_count": 25,
     "metadata": {},
     "output_type": "execute_result"
    }
   ],
   "source": [
    "y_test_true"
   ]
  },
  {
   "cell_type": "code",
   "execution_count": 79,
   "id": "85765500-cf61-4e8a-8763-69a8f1e567ca",
   "metadata": {},
   "outputs": [],
   "source": [
    "model.save(\"o3_1dcnn.keras\")"
   ]
  }
 ],
 "metadata": {
  "kernelspec": {
   "display_name": "Python 3 (ipykernel)",
   "language": "python",
   "name": "python3"
  },
  "language_info": {
   "codemirror_mode": {
    "name": "ipython",
    "version": 3
   },
   "file_extension": ".py",
   "mimetype": "text/x-python",
   "name": "python",
   "nbconvert_exporter": "python",
   "pygments_lexer": "ipython3",
   "version": "3.11.0"
  }
 },
 "nbformat": 4,
 "nbformat_minor": 5
}
