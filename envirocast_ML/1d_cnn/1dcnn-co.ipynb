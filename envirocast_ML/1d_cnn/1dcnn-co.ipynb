{
 "cells": [
  {
   "cell_type": "code",
   "execution_count": 1,
   "id": "08a7b78b-1d09-454f-8ecc-7c4184ab2240",
   "metadata": {},
   "outputs": [],
   "source": [
    "import pandas as pd\n",
    "import numpy as np"
   ]
  },
  {
   "cell_type": "code",
   "execution_count": 2,
   "id": "c1570c26-8e22-4498-9fe6-68e055e504a9",
   "metadata": {},
   "outputs": [],
   "source": [
    "df = pd.read_csv(\"../data/data_imputed_3.csv\")"
   ]
  },
  {
   "cell_type": "code",
   "execution_count": 3,
   "id": "55868db8-2144-49a3-9531-e4bf0728f0a2",
   "metadata": {},
   "outputs": [
    {
     "data": {
      "text/html": [
       "<div>\n",
       "<style scoped>\n",
       "    .dataframe tbody tr th:only-of-type {\n",
       "        vertical-align: middle;\n",
       "    }\n",
       "\n",
       "    .dataframe tbody tr th {\n",
       "        vertical-align: top;\n",
       "    }\n",
       "\n",
       "    .dataframe thead th {\n",
       "        text-align: right;\n",
       "    }\n",
       "</style>\n",
       "<table border=\"1\" class=\"dataframe\">\n",
       "  <thead>\n",
       "    <tr style=\"text-align: right;\">\n",
       "      <th></th>\n",
       "      <th>timestamp_local</th>\n",
       "      <th>temp</th>\n",
       "      <th>aqi</th>\n",
       "      <th>co</th>\n",
       "      <th>no2</th>\n",
       "      <th>o3</th>\n",
       "      <th>pm10</th>\n",
       "      <th>pm25</th>\n",
       "      <th>so2</th>\n",
       "    </tr>\n",
       "  </thead>\n",
       "  <tbody>\n",
       "    <tr>\n",
       "      <th>0</th>\n",
       "      <td>01/02/2022 0:00</td>\n",
       "      <td>12.6</td>\n",
       "      <td>385</td>\n",
       "      <td>1339.8</td>\n",
       "      <td>76.0</td>\n",
       "      <td>10.7</td>\n",
       "      <td>491.7</td>\n",
       "      <td>347.67</td>\n",
       "      <td>238.0</td>\n",
       "    </tr>\n",
       "    <tr>\n",
       "      <th>1</th>\n",
       "      <td>01/02/2022 1:00</td>\n",
       "      <td>11.5</td>\n",
       "      <td>404</td>\n",
       "      <td>1437.6</td>\n",
       "      <td>76.0</td>\n",
       "      <td>9.3</td>\n",
       "      <td>508.3</td>\n",
       "      <td>359.33</td>\n",
       "      <td>268.0</td>\n",
       "    </tr>\n",
       "    <tr>\n",
       "      <th>2</th>\n",
       "      <td>01/02/2022 2:00</td>\n",
       "      <td>11.9</td>\n",
       "      <td>421</td>\n",
       "      <td>1535.5</td>\n",
       "      <td>76.0</td>\n",
       "      <td>8.0</td>\n",
       "      <td>525.0</td>\n",
       "      <td>371.00</td>\n",
       "      <td>298.0</td>\n",
       "    </tr>\n",
       "    <tr>\n",
       "      <th>3</th>\n",
       "      <td>01/02/2022 3:00</td>\n",
       "      <td>12.2</td>\n",
       "      <td>425</td>\n",
       "      <td>1659.0</td>\n",
       "      <td>68.3</td>\n",
       "      <td>5.3</td>\n",
       "      <td>529.3</td>\n",
       "      <td>374.00</td>\n",
       "      <td>275.7</td>\n",
       "    </tr>\n",
       "    <tr>\n",
       "      <th>4</th>\n",
       "      <td>01/02/2022 4:00</td>\n",
       "      <td>11.9</td>\n",
       "      <td>430</td>\n",
       "      <td>1782.5</td>\n",
       "      <td>60.7</td>\n",
       "      <td>2.7</td>\n",
       "      <td>533.7</td>\n",
       "      <td>377.00</td>\n",
       "      <td>253.3</td>\n",
       "    </tr>\n",
       "  </tbody>\n",
       "</table>\n",
       "</div>"
      ],
      "text/plain": [
       "   timestamp_local  temp  aqi      co   no2    o3   pm10    pm25    so2\n",
       "0  01/02/2022 0:00  12.6  385  1339.8  76.0  10.7  491.7  347.67  238.0\n",
       "1  01/02/2022 1:00  11.5  404  1437.6  76.0   9.3  508.3  359.33  268.0\n",
       "2  01/02/2022 2:00  11.9  421  1535.5  76.0   8.0  525.0  371.00  298.0\n",
       "3  01/02/2022 3:00  12.2  425  1659.0  68.3   5.3  529.3  374.00  275.7\n",
       "4  01/02/2022 4:00  11.9  430  1782.5  60.7   2.7  533.7  377.00  253.3"
      ]
     },
     "execution_count": 3,
     "metadata": {},
     "output_type": "execute_result"
    }
   ],
   "source": [
    "df.head()"
   ]
  },
  {
   "cell_type": "code",
   "execution_count": 5,
   "id": "d7e3c4f9-7208-48a1-bee4-1a89c09e2714",
   "metadata": {},
   "outputs": [],
   "source": [
    "data = df[['co']]"
   ]
  },
  {
   "cell_type": "code",
   "execution_count": 6,
   "id": "a2eedd5e-c6fa-43b7-9458-5deca00f11fb",
   "metadata": {},
   "outputs": [],
   "source": [
    "from sklearn.preprocessing import MinMaxScaler\n",
    "values = data.values\n",
    "\n",
    "values = values.astype('float32')\n",
    "\n",
    "scaler = MinMaxScaler(feature_range=(0, 1))\n",
    "scaled = scaler.fit_transform(values)"
   ]
  },
  {
   "cell_type": "code",
   "execution_count": 7,
   "id": "d93f3d70-328f-40a2-9403-0e22e9802560",
   "metadata": {},
   "outputs": [],
   "source": [
    "scaled = scaled.reshape((20978,))"
   ]
  },
  {
   "cell_type": "code",
   "execution_count": 8,
   "id": "09f5ccf2-8abf-4b08-8051-cb206ea52fad",
   "metadata": {},
   "outputs": [
    {
     "data": {
      "text/plain": [
       "(20978,)"
      ]
     },
     "execution_count": 8,
     "metadata": {},
     "output_type": "execute_result"
    }
   ],
   "source": [
    "scaled.shape"
   ]
  },
  {
   "cell_type": "code",
   "execution_count": 9,
   "id": "071ee44c-f600-41f6-9490-6cda18be3d8d",
   "metadata": {},
   "outputs": [],
   "source": [
    "def df_to_X_y(df, window_size, forecast_length):\n",
    "    # df_as_np = df.to_numpy()\n",
    "    X = []\n",
    "    y = []\n",
    "    \n",
    "    for i in range(len(df) - window_size - forecast_length):\n",
    "        row_x = [[a] for a in df[i:i+window_size]]\n",
    "        \n",
    "        X.append(row_x)\n",
    "        # row_y = df_as_np[i+window_size]\n",
    "        row_y = [b for b in df[i+window_size:i+window_size+forecast_length]]\n",
    "        \n",
    "        y.append(row_y)\n",
    "        \n",
    "    return np.array(X), np.array(y)"
   ]
  },
  {
   "cell_type": "code",
   "execution_count": 10,
   "id": "c118b905-bab3-4abf-b257-253d7ea2bb98",
   "metadata": {},
   "outputs": [],
   "source": [
    "WINDOW_WIDTH = 168\n",
    "FORECAST_LENGTH = 168\n",
    "X, y = df_to_X_y(scaled, WINDOW_WIDTH, FORECAST_LENGTH)\n",
    "\n",
    "\n",
    "X_train, X_test, y_train, y_test = train_test_split(X, y, test_size=0.2, random_state=0)\n",
    "X_train, X_val, y_train, y_val = train_test_split(X_train, y_train, test_size=0.2, random_state=0)\n",
    "\n",
    "X_max = X_train.max()\n",
    "X_min = X_train.min()"
   ]
  },
  {
   "cell_type": "code",
   "execution_count": 11,
   "id": "e7b85489-d3d6-4c17-8935-238402086eff",
   "metadata": {},
   "outputs": [],
   "source": [
    "batchSize = 16\n",
    "from keras.models import Sequential, save_model, load_model\n",
    "from keras.layers import *\n",
    "from keras.callbacks import ReduceLROnPlateau, ModelCheckpoint\n",
    "from tensorflow.keras.optimizers import Adam\n",
    "from keras.losses import MeanSquaredError\n",
    "from keras.metrics import RootMeanSquaredError"
   ]
  },
  {
   "cell_type": "code",
   "execution_count": 12,
   "id": "3b6c5847-1cc5-4149-b349-ff4f5c638c90",
   "metadata": {},
   "outputs": [
    {
     "name": "stderr",
     "output_type": "stream",
     "text": [
      "C:\\Users\\Hassan\\AppData\\Local\\Programs\\Python\\Python311\\Lib\\site-packages\\keras\\src\\layers\\convolutional\\base_conv.py:99: UserWarning: Do not pass an `input_shape`/`input_dim` argument to a layer. When using Sequential models, prefer using an `Input(shape)` object as the first layer in the model instead.\n",
      "  super().__init__(\n"
     ]
    },
    {
     "data": {
      "text/html": [
       "<pre style=\"white-space:pre;overflow-x:auto;line-height:normal;font-family:Menlo,'DejaVu Sans Mono',consolas,'Courier New',monospace\"><span style=\"font-weight: bold\">Model: \"sequential\"</span>\n",
       "</pre>\n"
      ],
      "text/plain": [
       "\u001b[1mModel: \"sequential\"\u001b[0m\n"
      ]
     },
     "metadata": {},
     "output_type": "display_data"
    },
    {
     "data": {
      "text/html": [
       "<pre style=\"white-space:pre;overflow-x:auto;line-height:normal;font-family:Menlo,'DejaVu Sans Mono',consolas,'Courier New',monospace\">┏━━━━━━━━━━━━━━━━━━━━━━━━━━━━━━━━━━━━━━┳━━━━━━━━━━━━━━━━━━━━━━━━━━━━━┳━━━━━━━━━━━━━━━━━┓\n",
       "┃<span style=\"font-weight: bold\"> Layer (type)                         </span>┃<span style=\"font-weight: bold\"> Output Shape                </span>┃<span style=\"font-weight: bold\">         Param # </span>┃\n",
       "┡━━━━━━━━━━━━━━━━━━━━━━━━━━━━━━━━━━━━━━╇━━━━━━━━━━━━━━━━━━━━━━━━━━━━━╇━━━━━━━━━━━━━━━━━┩\n",
       "│ conv1d (<span style=\"color: #0087ff; text-decoration-color: #0087ff\">Conv1D</span>)                      │ (<span style=\"color: #00d7ff; text-decoration-color: #00d7ff\">None</span>, <span style=\"color: #00af00; text-decoration-color: #00af00\">166</span>, <span style=\"color: #00af00; text-decoration-color: #00af00\">8</span>)              │              <span style=\"color: #00af00; text-decoration-color: #00af00\">32</span> │\n",
       "├──────────────────────────────────────┼─────────────────────────────┼─────────────────┤\n",
       "│ flatten (<span style=\"color: #0087ff; text-decoration-color: #0087ff\">Flatten</span>)                    │ (<span style=\"color: #00d7ff; text-decoration-color: #00d7ff\">None</span>, <span style=\"color: #00af00; text-decoration-color: #00af00\">1328</span>)                │               <span style=\"color: #00af00; text-decoration-color: #00af00\">0</span> │\n",
       "├──────────────────────────────────────┼─────────────────────────────┼─────────────────┤\n",
       "│ dense (<span style=\"color: #0087ff; text-decoration-color: #0087ff\">Dense</span>)                        │ (<span style=\"color: #00d7ff; text-decoration-color: #00d7ff\">None</span>, <span style=\"color: #00af00; text-decoration-color: #00af00\">168</span>)                 │         <span style=\"color: #00af00; text-decoration-color: #00af00\">223,272</span> │\n",
       "└──────────────────────────────────────┴─────────────────────────────┴─────────────────┘\n",
       "</pre>\n"
      ],
      "text/plain": [
       "┏━━━━━━━━━━━━━━━━━━━━━━━━━━━━━━━━━━━━━━┳━━━━━━━━━━━━━━━━━━━━━━━━━━━━━┳━━━━━━━━━━━━━━━━━┓\n",
       "┃\u001b[1m \u001b[0m\u001b[1mLayer (type)                        \u001b[0m\u001b[1m \u001b[0m┃\u001b[1m \u001b[0m\u001b[1mOutput Shape               \u001b[0m\u001b[1m \u001b[0m┃\u001b[1m \u001b[0m\u001b[1m        Param #\u001b[0m\u001b[1m \u001b[0m┃\n",
       "┡━━━━━━━━━━━━━━━━━━━━━━━━━━━━━━━━━━━━━━╇━━━━━━━━━━━━━━━━━━━━━━━━━━━━━╇━━━━━━━━━━━━━━━━━┩\n",
       "│ conv1d (\u001b[38;5;33mConv1D\u001b[0m)                      │ (\u001b[38;5;45mNone\u001b[0m, \u001b[38;5;34m166\u001b[0m, \u001b[38;5;34m8\u001b[0m)              │              \u001b[38;5;34m32\u001b[0m │\n",
       "├──────────────────────────────────────┼─────────────────────────────┼─────────────────┤\n",
       "│ flatten (\u001b[38;5;33mFlatten\u001b[0m)                    │ (\u001b[38;5;45mNone\u001b[0m, \u001b[38;5;34m1328\u001b[0m)                │               \u001b[38;5;34m0\u001b[0m │\n",
       "├──────────────────────────────────────┼─────────────────────────────┼─────────────────┤\n",
       "│ dense (\u001b[38;5;33mDense\u001b[0m)                        │ (\u001b[38;5;45mNone\u001b[0m, \u001b[38;5;34m168\u001b[0m)                 │         \u001b[38;5;34m223,272\u001b[0m │\n",
       "└──────────────────────────────────────┴─────────────────────────────┴─────────────────┘\n"
      ]
     },
     "metadata": {},
     "output_type": "display_data"
    },
    {
     "data": {
      "text/html": [
       "<pre style=\"white-space:pre;overflow-x:auto;line-height:normal;font-family:Menlo,'DejaVu Sans Mono',consolas,'Courier New',monospace\"><span style=\"font-weight: bold\"> Total params: </span><span style=\"color: #00af00; text-decoration-color: #00af00\">223,304</span> (872.28 KB)\n",
       "</pre>\n"
      ],
      "text/plain": [
       "\u001b[1m Total params: \u001b[0m\u001b[38;5;34m223,304\u001b[0m (872.28 KB)\n"
      ]
     },
     "metadata": {},
     "output_type": "display_data"
    },
    {
     "data": {
      "text/html": [
       "<pre style=\"white-space:pre;overflow-x:auto;line-height:normal;font-family:Menlo,'DejaVu Sans Mono',consolas,'Courier New',monospace\"><span style=\"font-weight: bold\"> Trainable params: </span><span style=\"color: #00af00; text-decoration-color: #00af00\">223,304</span> (872.28 KB)\n",
       "</pre>\n"
      ],
      "text/plain": [
       "\u001b[1m Trainable params: \u001b[0m\u001b[38;5;34m223,304\u001b[0m (872.28 KB)\n"
      ]
     },
     "metadata": {},
     "output_type": "display_data"
    },
    {
     "data": {
      "text/html": [
       "<pre style=\"white-space:pre;overflow-x:auto;line-height:normal;font-family:Menlo,'DejaVu Sans Mono',consolas,'Courier New',monospace\"><span style=\"font-weight: bold\"> Non-trainable params: </span><span style=\"color: #00af00; text-decoration-color: #00af00\">0</span> (0.00 B)\n",
       "</pre>\n"
      ],
      "text/plain": [
       "\u001b[1m Non-trainable params: \u001b[0m\u001b[38;5;34m0\u001b[0m (0.00 B)\n"
      ]
     },
     "metadata": {},
     "output_type": "display_data"
    },
    {
     "name": "stdout",
     "output_type": "stream",
     "text": [
      "Epoch 1/50\n",
      "\u001b[1m413/413\u001b[0m \u001b[32m━━━━━━━━━━━━━━━━━━━━\u001b[0m\u001b[37m\u001b[0m \u001b[1m2s\u001b[0m 3ms/step - loss: 0.0024 - root_mean_squared_error: 0.0482 - val_loss: 0.0019 - val_root_mean_squared_error: 0.0437 - learning_rate: 0.0010\n",
      "Epoch 2/50\n",
      "\u001b[1m413/413\u001b[0m \u001b[32m━━━━━━━━━━━━━━━━━━━━\u001b[0m\u001b[37m\u001b[0m \u001b[1m1s\u001b[0m 3ms/step - loss: 0.0017 - root_mean_squared_error: 0.0415 - val_loss: 0.0018 - val_root_mean_squared_error: 0.0420 - learning_rate: 0.0010\n",
      "Epoch 3/50\n",
      "\u001b[1m413/413\u001b[0m \u001b[32m━━━━━━━━━━━━━━━━━━━━\u001b[0m\u001b[37m\u001b[0m \u001b[1m1s\u001b[0m 3ms/step - loss: 0.0015 - root_mean_squared_error: 0.0387 - val_loss: 0.0017 - val_root_mean_squared_error: 0.0409 - learning_rate: 0.0010\n",
      "Epoch 4/50\n",
      "\u001b[1m413/413\u001b[0m \u001b[32m━━━━━━━━━━━━━━━━━━━━\u001b[0m\u001b[37m\u001b[0m \u001b[1m1s\u001b[0m 3ms/step - loss: 0.0015 - root_mean_squared_error: 0.0384 - val_loss: 0.0017 - val_root_mean_squared_error: 0.0408 - learning_rate: 0.0010\n",
      "Epoch 5/50\n",
      "\u001b[1m413/413\u001b[0m \u001b[32m━━━━━━━━━━━━━━━━━━━━\u001b[0m\u001b[37m\u001b[0m \u001b[1m1s\u001b[0m 3ms/step - loss: 0.0013 - root_mean_squared_error: 0.0366 - val_loss: 0.0018 - val_root_mean_squared_error: 0.0421 - learning_rate: 0.0010\n",
      "Epoch 6/50\n",
      "\u001b[1m413/413\u001b[0m \u001b[32m━━━━━━━━━━━━━━━━━━━━\u001b[0m\u001b[37m\u001b[0m \u001b[1m1s\u001b[0m 2ms/step - loss: 0.0016 - root_mean_squared_error: 0.0398 - val_loss: 0.0016 - val_root_mean_squared_error: 0.0406 - learning_rate: 0.0010\n",
      "Epoch 7/50\n",
      "\u001b[1m413/413\u001b[0m \u001b[32m━━━━━━━━━━━━━━━━━━━━\u001b[0m\u001b[37m\u001b[0m \u001b[1m1s\u001b[0m 3ms/step - loss: 0.0014 - root_mean_squared_error: 0.0379 - val_loss: 0.0017 - val_root_mean_squared_error: 0.0409 - learning_rate: 0.0010\n",
      "Epoch 8/50\n",
      "\u001b[1m413/413\u001b[0m \u001b[32m━━━━━━━━━━━━━━━━━━━━\u001b[0m\u001b[37m\u001b[0m \u001b[1m1s\u001b[0m 3ms/step - loss: 0.0015 - root_mean_squared_error: 0.0382 - val_loss: 0.0016 - val_root_mean_squared_error: 0.0403 - learning_rate: 0.0010\n",
      "Epoch 9/50\n",
      "\u001b[1m413/413\u001b[0m \u001b[32m━━━━━━━━━━━━━━━━━━━━\u001b[0m\u001b[37m\u001b[0m \u001b[1m1s\u001b[0m 3ms/step - loss: 0.0016 - root_mean_squared_error: 0.0398 - val_loss: 0.0016 - val_root_mean_squared_error: 0.0404 - learning_rate: 0.0010\n",
      "Epoch 10/50\n",
      "\u001b[1m413/413\u001b[0m \u001b[32m━━━━━━━━━━━━━━━━━━━━\u001b[0m\u001b[37m\u001b[0m \u001b[1m1s\u001b[0m 3ms/step - loss: 0.0016 - root_mean_squared_error: 0.0394 - val_loss: 0.0017 - val_root_mean_squared_error: 0.0409 - learning_rate: 0.0010\n",
      "Epoch 11/50\n",
      "\u001b[1m413/413\u001b[0m \u001b[32m━━━━━━━━━━━━━━━━━━━━\u001b[0m\u001b[37m\u001b[0m \u001b[1m1s\u001b[0m 2ms/step - loss: 0.0014 - root_mean_squared_error: 0.0375 - val_loss: 0.0016 - val_root_mean_squared_error: 0.0404 - learning_rate: 0.0010\n",
      "Epoch 12/50\n",
      "\u001b[1m413/413\u001b[0m \u001b[32m━━━━━━━━━━━━━━━━━━━━\u001b[0m\u001b[37m\u001b[0m \u001b[1m1s\u001b[0m 3ms/step - loss: 0.0016 - root_mean_squared_error: 0.0395 - val_loss: 0.0016 - val_root_mean_squared_error: 0.0405 - learning_rate: 0.0010\n",
      "Epoch 13/50\n",
      "\u001b[1m413/413\u001b[0m \u001b[32m━━━━━━━━━━━━━━━━━━━━\u001b[0m\u001b[37m\u001b[0m \u001b[1m2s\u001b[0m 3ms/step - loss: 0.0015 - root_mean_squared_error: 0.0383 - val_loss: 0.0016 - val_root_mean_squared_error: 0.0403 - learning_rate: 0.0010\n",
      "Epoch 14/50\n",
      "\u001b[1m413/413\u001b[0m \u001b[32m━━━━━━━━━━━━━━━━━━━━\u001b[0m\u001b[37m\u001b[0m \u001b[1m1s\u001b[0m 3ms/step - loss: 0.0014 - root_mean_squared_error: 0.0380 - val_loss: 0.0016 - val_root_mean_squared_error: 0.0403 - learning_rate: 0.0010\n",
      "Epoch 15/50\n",
      "\u001b[1m413/413\u001b[0m \u001b[32m━━━━━━━━━━━━━━━━━━━━\u001b[0m\u001b[37m\u001b[0m \u001b[1m1s\u001b[0m 3ms/step - loss: 0.0014 - root_mean_squared_error: 0.0370 - val_loss: 0.0016 - val_root_mean_squared_error: 0.0400 - learning_rate: 1.0000e-04\n",
      "Epoch 16/50\n",
      "\u001b[1m413/413\u001b[0m \u001b[32m━━━━━━━━━━━━━━━━━━━━\u001b[0m\u001b[37m\u001b[0m \u001b[1m1s\u001b[0m 3ms/step - loss: 0.0013 - root_mean_squared_error: 0.0365 - val_loss: 0.0016 - val_root_mean_squared_error: 0.0400 - learning_rate: 1.0000e-04\n",
      "Epoch 17/50\n",
      "\u001b[1m413/413\u001b[0m \u001b[32m━━━━━━━━━━━━━━━━━━━━\u001b[0m\u001b[37m\u001b[0m \u001b[1m1s\u001b[0m 3ms/step - loss: 0.0014 - root_mean_squared_error: 0.0378 - val_loss: 0.0016 - val_root_mean_squared_error: 0.0400 - learning_rate: 1.0000e-04\n",
      "Epoch 18/50\n",
      "\u001b[1m413/413\u001b[0m \u001b[32m━━━━━━━━━━━━━━━━━━━━\u001b[0m\u001b[37m\u001b[0m \u001b[1m1s\u001b[0m 3ms/step - loss: 0.0013 - root_mean_squared_error: 0.0365 - val_loss: 0.0016 - val_root_mean_squared_error: 0.0400 - learning_rate: 1.0000e-04\n",
      "Epoch 19/50\n",
      "\u001b[1m413/413\u001b[0m \u001b[32m━━━━━━━━━━━━━━━━━━━━\u001b[0m\u001b[37m\u001b[0m \u001b[1m1s\u001b[0m 3ms/step - loss: 0.0015 - root_mean_squared_error: 0.0388 - val_loss: 0.0016 - val_root_mean_squared_error: 0.0400 - learning_rate: 1.0000e-04\n",
      "Epoch 20/50\n",
      "\u001b[1m413/413\u001b[0m \u001b[32m━━━━━━━━━━━━━━━━━━━━\u001b[0m\u001b[37m\u001b[0m \u001b[1m1s\u001b[0m 3ms/step - loss: 0.0015 - root_mean_squared_error: 0.0388 - val_loss: 0.0016 - val_root_mean_squared_error: 0.0400 - learning_rate: 1.0000e-04\n",
      "Epoch 21/50\n",
      "\u001b[1m413/413\u001b[0m \u001b[32m━━━━━━━━━━━━━━━━━━━━\u001b[0m\u001b[37m\u001b[0m \u001b[1m1s\u001b[0m 3ms/step - loss: 0.0013 - root_mean_squared_error: 0.0365 - val_loss: 0.0016 - val_root_mean_squared_error: 0.0400 - learning_rate: 1.0000e-04\n",
      "Epoch 22/50\n",
      "\u001b[1m413/413\u001b[0m \u001b[32m━━━━━━━━━━━━━━━━━━━━\u001b[0m\u001b[37m\u001b[0m \u001b[1m1s\u001b[0m 3ms/step - loss: 0.0015 - root_mean_squared_error: 0.0383 - val_loss: 0.0016 - val_root_mean_squared_error: 0.0400 - learning_rate: 1.0000e-04\n",
      "Epoch 23/50\n",
      "\u001b[1m413/413\u001b[0m \u001b[32m━━━━━━━━━━━━━━━━━━━━\u001b[0m\u001b[37m\u001b[0m \u001b[1m1s\u001b[0m 3ms/step - loss: 0.0015 - root_mean_squared_error: 0.0381 - val_loss: 0.0016 - val_root_mean_squared_error: 0.0400 - learning_rate: 1.0000e-04\n",
      "Epoch 24/50\n",
      "\u001b[1m413/413\u001b[0m \u001b[32m━━━━━━━━━━━━━━━━━━━━\u001b[0m\u001b[37m\u001b[0m \u001b[1m1s\u001b[0m 3ms/step - loss: 0.0014 - root_mean_squared_error: 0.0372 - val_loss: 0.0016 - val_root_mean_squared_error: 0.0400 - learning_rate: 1.0000e-04\n",
      "Epoch 25/50\n",
      "\u001b[1m413/413\u001b[0m \u001b[32m━━━━━━━━━━━━━━━━━━━━\u001b[0m\u001b[37m\u001b[0m \u001b[1m1s\u001b[0m 3ms/step - loss: 0.0013 - root_mean_squared_error: 0.0360 - val_loss: 0.0016 - val_root_mean_squared_error: 0.0400 - learning_rate: 1.0000e-05\n",
      "Epoch 26/50\n",
      "\u001b[1m413/413\u001b[0m \u001b[32m━━━━━━━━━━━━━━━━━━━━\u001b[0m\u001b[37m\u001b[0m \u001b[1m1s\u001b[0m 3ms/step - loss: 0.0014 - root_mean_squared_error: 0.0370 - val_loss: 0.0016 - val_root_mean_squared_error: 0.0400 - learning_rate: 1.0000e-05\n",
      "Epoch 27/50\n",
      "\u001b[1m413/413\u001b[0m \u001b[32m━━━━━━━━━━━━━━━━━━━━\u001b[0m\u001b[37m\u001b[0m \u001b[1m1s\u001b[0m 3ms/step - loss: 0.0014 - root_mean_squared_error: 0.0370 - val_loss: 0.0016 - val_root_mean_squared_error: 0.0399 - learning_rate: 1.0000e-05\n",
      "Epoch 28/50\n",
      "\u001b[1m413/413\u001b[0m \u001b[32m━━━━━━━━━━━━━━━━━━━━\u001b[0m\u001b[37m\u001b[0m \u001b[1m1s\u001b[0m 2ms/step - loss: 0.0015 - root_mean_squared_error: 0.0382 - val_loss: 0.0016 - val_root_mean_squared_error: 0.0399 - learning_rate: 1.0000e-05\n",
      "Epoch 29/50\n",
      "\u001b[1m413/413\u001b[0m \u001b[32m━━━━━━━━━━━━━━━━━━━━\u001b[0m\u001b[37m\u001b[0m \u001b[1m1s\u001b[0m 3ms/step - loss: 0.0013 - root_mean_squared_error: 0.0365 - val_loss: 0.0016 - val_root_mean_squared_error: 0.0399 - learning_rate: 1.0000e-05\n",
      "Epoch 30/50\n",
      "\u001b[1m413/413\u001b[0m \u001b[32m━━━━━━━━━━━━━━━━━━━━\u001b[0m\u001b[37m\u001b[0m \u001b[1m1s\u001b[0m 2ms/step - loss: 0.0013 - root_mean_squared_error: 0.0366 - val_loss: 0.0016 - val_root_mean_squared_error: 0.0399 - learning_rate: 1.0000e-05\n",
      "Epoch 31/50\n",
      "\u001b[1m413/413\u001b[0m \u001b[32m━━━━━━━━━━━━━━━━━━━━\u001b[0m\u001b[37m\u001b[0m \u001b[1m1s\u001b[0m 3ms/step - loss: 0.0013 - root_mean_squared_error: 0.0362 - val_loss: 0.0016 - val_root_mean_squared_error: 0.0399 - learning_rate: 1.0000e-05\n",
      "Epoch 32/50\n",
      "\u001b[1m413/413\u001b[0m \u001b[32m━━━━━━━━━━━━━━━━━━━━\u001b[0m\u001b[37m\u001b[0m \u001b[1m1s\u001b[0m 3ms/step - loss: 0.0015 - root_mean_squared_error: 0.0381 - val_loss: 0.0016 - val_root_mean_squared_error: 0.0399 - learning_rate: 1.0000e-05\n",
      "Epoch 33/50\n",
      "\u001b[1m413/413\u001b[0m \u001b[32m━━━━━━━━━━━━━━━━━━━━\u001b[0m\u001b[37m\u001b[0m \u001b[1m1s\u001b[0m 3ms/step - loss: 0.0013 - root_mean_squared_error: 0.0364 - val_loss: 0.0016 - val_root_mean_squared_error: 0.0399 - learning_rate: 1.0000e-05\n",
      "Epoch 34/50\n",
      "\u001b[1m413/413\u001b[0m \u001b[32m━━━━━━━━━━━━━━━━━━━━\u001b[0m\u001b[37m\u001b[0m \u001b[1m1s\u001b[0m 3ms/step - loss: 0.0013 - root_mean_squared_error: 0.0365 - val_loss: 0.0016 - val_root_mean_squared_error: 0.0399 - learning_rate: 1.0000e-05\n",
      "Epoch 35/50\n",
      "\u001b[1m413/413\u001b[0m \u001b[32m━━━━━━━━━━━━━━━━━━━━\u001b[0m\u001b[37m\u001b[0m \u001b[1m1s\u001b[0m 2ms/step - loss: 0.0013 - root_mean_squared_error: 0.0361 - val_loss: 0.0016 - val_root_mean_squared_error: 0.0399 - learning_rate: 1.0000e-06\n",
      "Epoch 36/50\n",
      "\u001b[1m413/413\u001b[0m \u001b[32m━━━━━━━━━━━━━━━━━━━━\u001b[0m\u001b[37m\u001b[0m \u001b[1m1s\u001b[0m 2ms/step - loss: 0.0015 - root_mean_squared_error: 0.0383 - val_loss: 0.0016 - val_root_mean_squared_error: 0.0399 - learning_rate: 1.0000e-06\n",
      "Epoch 37/50\n",
      "\u001b[1m413/413\u001b[0m \u001b[32m━━━━━━━━━━━━━━━━━━━━\u001b[0m\u001b[37m\u001b[0m \u001b[1m1s\u001b[0m 3ms/step - loss: 0.0015 - root_mean_squared_error: 0.0384 - val_loss: 0.0016 - val_root_mean_squared_error: 0.0399 - learning_rate: 1.0000e-06\n",
      "Epoch 38/50\n",
      "\u001b[1m413/413\u001b[0m \u001b[32m━━━━━━━━━━━━━━━━━━━━\u001b[0m\u001b[37m\u001b[0m \u001b[1m1s\u001b[0m 3ms/step - loss: 0.0014 - root_mean_squared_error: 0.0380 - val_loss: 0.0016 - val_root_mean_squared_error: 0.0399 - learning_rate: 1.0000e-06\n",
      "Epoch 39/50\n",
      "\u001b[1m413/413\u001b[0m \u001b[32m━━━━━━━━━━━━━━━━━━━━\u001b[0m\u001b[37m\u001b[0m \u001b[1m1s\u001b[0m 3ms/step - loss: 0.0013 - root_mean_squared_error: 0.0365 - val_loss: 0.0016 - val_root_mean_squared_error: 0.0399 - learning_rate: 1.0000e-06\n",
      "Epoch 40/50\n",
      "\u001b[1m413/413\u001b[0m \u001b[32m━━━━━━━━━━━━━━━━━━━━\u001b[0m\u001b[37m\u001b[0m \u001b[1m1s\u001b[0m 3ms/step - loss: 0.0014 - root_mean_squared_error: 0.0377 - val_loss: 0.0016 - val_root_mean_squared_error: 0.0399 - learning_rate: 1.0000e-06\n",
      "Epoch 41/50\n",
      "\u001b[1m413/413\u001b[0m \u001b[32m━━━━━━━━━━━━━━━━━━━━\u001b[0m\u001b[37m\u001b[0m \u001b[1m1s\u001b[0m 3ms/step - loss: 0.0015 - root_mean_squared_error: 0.0385 - val_loss: 0.0016 - val_root_mean_squared_error: 0.0399 - learning_rate: 1.0000e-06\n",
      "Epoch 42/50\n",
      "\u001b[1m413/413\u001b[0m \u001b[32m━━━━━━━━━━━━━━━━━━━━\u001b[0m\u001b[37m\u001b[0m \u001b[1m1s\u001b[0m 3ms/step - loss: 0.0014 - root_mean_squared_error: 0.0373 - val_loss: 0.0016 - val_root_mean_squared_error: 0.0399 - learning_rate: 1.0000e-06\n",
      "Epoch 43/50\n",
      "\u001b[1m413/413\u001b[0m \u001b[32m━━━━━━━━━━━━━━━━━━━━\u001b[0m\u001b[37m\u001b[0m \u001b[1m1s\u001b[0m 3ms/step - loss: 0.0015 - root_mean_squared_error: 0.0383 - val_loss: 0.0016 - val_root_mean_squared_error: 0.0399 - learning_rate: 1.0000e-06\n",
      "Epoch 44/50\n",
      "\u001b[1m413/413\u001b[0m \u001b[32m━━━━━━━━━━━━━━━━━━━━\u001b[0m\u001b[37m\u001b[0m \u001b[1m1s\u001b[0m 3ms/step - loss: 0.0015 - root_mean_squared_error: 0.0391 - val_loss: 0.0016 - val_root_mean_squared_error: 0.0399 - learning_rate: 1.0000e-06\n",
      "Epoch 45/50\n",
      "\u001b[1m413/413\u001b[0m \u001b[32m━━━━━━━━━━━━━━━━━━━━\u001b[0m\u001b[37m\u001b[0m \u001b[1m2s\u001b[0m 4ms/step - loss: 0.0015 - root_mean_squared_error: 0.0383 - val_loss: 0.0016 - val_root_mean_squared_error: 0.0399 - learning_rate: 1.0000e-07\n",
      "Epoch 46/50\n",
      "\u001b[1m413/413\u001b[0m \u001b[32m━━━━━━━━━━━━━━━━━━━━\u001b[0m\u001b[37m\u001b[0m \u001b[1m1s\u001b[0m 3ms/step - loss: 0.0013 - root_mean_squared_error: 0.0366 - val_loss: 0.0016 - val_root_mean_squared_error: 0.0399 - learning_rate: 1.0000e-07\n",
      "Epoch 47/50\n",
      "\u001b[1m413/413\u001b[0m \u001b[32m━━━━━━━━━━━━━━━━━━━━\u001b[0m\u001b[37m\u001b[0m \u001b[1m1s\u001b[0m 3ms/step - loss: 0.0015 - root_mean_squared_error: 0.0389 - val_loss: 0.0016 - val_root_mean_squared_error: 0.0399 - learning_rate: 1.0000e-07\n",
      "Epoch 48/50\n",
      "\u001b[1m413/413\u001b[0m \u001b[32m━━━━━━━━━━━━━━━━━━━━\u001b[0m\u001b[37m\u001b[0m \u001b[1m1s\u001b[0m 3ms/step - loss: 0.0014 - root_mean_squared_error: 0.0370 - val_loss: 0.0016 - val_root_mean_squared_error: 0.0399 - learning_rate: 1.0000e-07\n",
      "Epoch 49/50\n",
      "\u001b[1m413/413\u001b[0m \u001b[32m━━━━━━━━━━━━━━━━━━━━\u001b[0m\u001b[37m\u001b[0m \u001b[1m1s\u001b[0m 3ms/step - loss: 0.0013 - root_mean_squared_error: 0.0358 - val_loss: 0.0016 - val_root_mean_squared_error: 0.0399 - learning_rate: 1.0000e-07\n",
      "Epoch 50/50\n",
      "\u001b[1m413/413\u001b[0m \u001b[32m━━━━━━━━━━━━━━━━━━━━\u001b[0m\u001b[37m\u001b[0m \u001b[1m1s\u001b[0m 3ms/step - loss: 0.0014 - root_mean_squared_error: 0.0380 - val_loss: 0.0016 - val_root_mean_squared_error: 0.0399 - learning_rate: 1.0000e-07\n"
     ]
    }
   ],
   "source": [
    "normalizer = Normalization()\n",
    "normalizer.adapt(X_train)\n",
    "rlrop = ReduceLROnPlateau(monitor='val_loss', factor=0.1, patience=10)\n",
    "\n",
    "model = Sequential()\n",
    "# 1D Convolutional layers\n",
    "model.add(Conv1D(filters=8, kernel_size=3, activation='relu', input_shape=X_train.shape[1:]))\n",
    "# model.add(Conv1D(filters=64, kernel_size=3, activation='relu'))\n",
    "# model.add(Conv1D(filters=32, kernel_size=3, activation='relu'))\n",
    "# Flatten the output of the Conv layers\n",
    "model.add(Flatten())\n",
    "# model.add(LSTM(input_shape = X_train.shape[1:], units=86, return_sequences=True))\n",
    "# model.add(LSTM(units=64, return_sequences=True))\n",
    "# model.add(GRU(units=86, return_sequences=True))\n",
    "# model.add(LSTM(units=128, return_sequences=True))\n",
    "# model.add(GRU(units=100, return_sequences=True))\n",
    "# model.add(LSTM(units=100, return_sequences=False))\n",
    "# model.add(Dense(units=100,  activation='relu'))\n",
    "# model.add(Dense(8, activation='relu'))\n",
    "\n",
    "model.add(Dense(units=FORECAST_LENGTH, activation='linear'))\n",
    "\n",
    "model.summary()\n",
    "\n",
    "model.compile(optimizer=Adam(learning_rate=0.001), metrics=[RootMeanSquaredError()] , loss=MeanSquaredError())\n",
    "\n",
    "history = model.fit(X_train, y_train, validation_data=(X_val,y_val), epochs=50, callbacks=[rlrop])\n",
    "\n",
    "# score = model.evaluate(X_test, y_test, verbose = 1)"
   ]
  },
  {
   "cell_type": "code",
   "execution_count": 13,
   "id": "5674b419-12bd-4a4e-a83d-2438ae813939",
   "metadata": {},
   "outputs": [
    {
     "name": "stdout",
     "output_type": "stream",
     "text": [
      "\u001b[1m130/130\u001b[0m \u001b[32m━━━━━━━━━━━━━━━━━━━━\u001b[0m\u001b[37m\u001b[0m \u001b[1m0s\u001b[0m 1ms/step\n"
     ]
    }
   ],
   "source": [
    "forecast = model.predict(X_test)"
   ]
  },
  {
   "cell_type": "code",
   "execution_count": 14,
   "id": "abb7c26e-b6e8-4526-aa4e-9180825c9d51",
   "metadata": {},
   "outputs": [],
   "source": [
    "poll = np.array(df[\"co\"])\n",
    "\n",
    "meanop = poll.mean()\n",
    "stdop = poll.std()\n",
    "\n",
    "y_test_true = y_test*stdop + meanop\n",
    "testPredict = forecast*stdop + meanop"
   ]
  },
  {
   "cell_type": "code",
   "execution_count": 15,
   "id": "cccf66c7-77a1-483d-8b28-e5df8056b4b6",
   "metadata": {},
   "outputs": [],
   "source": [
    "from sklearn.metrics import mean_squared_error"
   ]
  },
  {
   "cell_type": "code",
   "execution_count": 16,
   "id": "3e3a186b-a281-4964-9581-f8f73931e019",
   "metadata": {},
   "outputs": [
    {
     "name": "stdout",
     "output_type": "stream",
     "text": [
      "Test RMSE = 13.474933\n"
     ]
    }
   ],
   "source": [
    "rmse = np.sqrt(mean_squared_error(y_test_true, testPredict))\n",
    "print(\"Test RMSE =\"  ,rmse)"
   ]
  },
  {
   "cell_type": "code",
   "execution_count": 17,
   "id": "290b0e86-023d-407d-9374-9add7d58b7c7",
   "metadata": {},
   "outputs": [
    {
     "name": "stdout",
     "output_type": "stream",
     "text": [
      "Test MAPE = 1.8390018492937088\n"
     ]
    }
   ],
   "source": [
    "# Calculate MAPE\n",
    "mape = np.mean(np.abs((y_test_true - testPredict) / y_test_true)) * 100\n",
    "print(\"Test MAPE =\", mape)"
   ]
  },
  {
   "cell_type": "code",
   "execution_count": 18,
   "id": "523f4ba3-a91e-4935-a641-ffe8374a582b",
   "metadata": {},
   "outputs": [
    {
     "name": "stdout",
     "output_type": "stream",
     "text": [
      "Accuracy = 98.16099815070629 %\n"
     ]
    }
   ],
   "source": [
    "# Calculate accuracy as 1 - MAPE\n",
    "accuracy = 100 - mape\n",
    "print(\"Accuracy =\", accuracy, \"%\")"
   ]
  },
  {
   "cell_type": "code",
   "execution_count": 19,
   "id": "3d34b790-15e3-4fb1-881c-a839dbc8f2fd",
   "metadata": {},
   "outputs": [
    {
     "name": "stdout",
     "output_type": "stream",
     "text": [
      "Test MAE = 6.8339844\n"
     ]
    }
   ],
   "source": [
    "from sklearn.metrics import mean_absolute_error\n",
    "\n",
    "# Calculate MAE\n",
    "mae = mean_absolute_error(y_test_true, testPredict)\n",
    "print(\"Test MAE =\", mae)"
   ]
  },
  {
   "cell_type": "code",
   "execution_count": 20,
   "id": "7654b701-6ba9-4602-8611-59820b6311e4",
   "metadata": {},
   "outputs": [
    {
     "data": {
      "text/plain": [
       "array([[0.03501679, 0.03641824, 0.03720342, ..., 0.04283508, 0.04362013,\n",
       "        0.04333312],\n",
       "       [0.02743972, 0.02615397, 0.02588571, ..., 0.04602275, 0.03586999,\n",
       "        0.02957134],\n",
       "       [0.06150617, 0.05664637, 0.05146141, ..., 0.05245339, 0.05557515,\n",
       "        0.05757346],\n",
       "       ...,\n",
       "       [0.11328793, 0.13090402, 0.14671513, ..., 0.06056726, 0.0728304 ,\n",
       "        0.08189704],\n",
       "       [0.11126898, 0.07729384, 0.06238278, ..., 0.15673962, 0.14313187,\n",
       "        0.11651459],\n",
       "       [0.01114965, 0.01070249, 0.01017707, ..., 0.01714508, 0.01759373,\n",
       "        0.01708926]], dtype=float32)"
      ]
     },
     "execution_count": 20,
     "metadata": {},
     "output_type": "execute_result"
    }
   ],
   "source": [
    "forecast"
   ]
  },
  {
   "cell_type": "code",
   "execution_count": 21,
   "id": "7ea98a00-c789-49d3-bdfe-1c06c5364c33",
   "metadata": {},
   "outputs": [
    {
     "data": {
      "text/plain": [
       "array([[347.89035, 348.3689 , 348.63702, ..., 350.56006, 350.82812,\n",
       "        350.7301 ],\n",
       "       [345.30304, 344.864  , 344.7724 , ..., 351.64853, 348.1817 ,\n",
       "        346.0309 ],\n",
       "       [356.9356 , 355.27615, 353.50565, ..., 353.8444 , 354.91037,\n",
       "        355.5927 ],\n",
       "       ...,\n",
       "       [374.61737, 380.6327 , 386.03165, ..., 356.615  , 360.80246,\n",
       "        363.8984 ],\n",
       "       [373.92798, 362.32657, 357.23495, ..., 389.45468, 384.80807,\n",
       "        375.71918],\n",
       "       [339.74054, 339.58783, 339.40842, ..., 341.78778, 341.94098,\n",
       "        341.7687 ]], dtype=float32)"
      ]
     },
     "execution_count": 21,
     "metadata": {},
     "output_type": "execute_result"
    }
   ],
   "source": [
    "testPredict"
   ]
  },
  {
   "cell_type": "code",
   "execution_count": 22,
   "id": "4e4e0314-523d-408f-9858-83e62f6ef22e",
   "metadata": {},
   "outputs": [
    {
     "data": {
      "text/plain": [
       "array([[349.7817 , 351.3044 , 352.82712, ..., 342.24966, 342.63818,\n",
       "        343.02667],\n",
       "       [345.72116, 345.3452 , 344.96295, ..., 346.6862 , 343.72223,\n",
       "        340.7583 ],\n",
       "       [358.20355, 354.87616, 351.5488 , ..., 350.95975, 351.88718,\n",
       "        352.81458],\n",
       "       ...,\n",
       "       [379.41483, 378.6566 , 377.90463, ..., 350.89084, 355.1331 ,\n",
       "        359.37534],\n",
       "       [374.95325, 360.69125, 356.10437, ..., 372.4154 , 367.01392,\n",
       "        358.473  ],\n",
       "       [339.21054, 339.22308, 338.60272, ..., 337.6001 , 337.2116 ,\n",
       "        337.08002]], dtype=float32)"
      ]
     },
     "execution_count": 22,
     "metadata": {},
     "output_type": "execute_result"
    }
   ],
   "source": [
    "y_test_true"
   ]
  },
  {
   "cell_type": "code",
   "execution_count": 23,
   "id": "edf52d50-1d2f-4349-9d8f-211475c57d2d",
   "metadata": {},
   "outputs": [],
   "source": [
    "import numpy as np\n",
    "\n",
    "def calculate_segment_rmse(predictions, actuals, segment_length=1):\n",
    "    num_segments = predictions.shape[1] // segment_length\n",
    "    rmses = []\n",
    "    \n",
    "    for i in range(num_segments):\n",
    "        start_idx = i * segment_length\n",
    "        end_idx = start_idx + segment_length\n",
    "        \n",
    "        # Extract the segment for both predictions and actuals\n",
    "        pred_segment = predictions[:, start_idx:end_idx]\n",
    "        actual_segment = actuals[:, start_idx:end_idx]\n",
    "        \n",
    "        # Calculate RMSE for this segment\n",
    "        segment_rmse = np.sqrt(mean_squared_error(actual_segment.flatten(), pred_segment.flatten()))\n",
    "        rmses.append(segment_rmse)\n",
    "    \n",
    "    return rmses"
   ]
  },
  {
   "cell_type": "code",
   "execution_count": 24,
   "id": "cf290f0a-74ca-45bc-90de-07bfc5a5d654",
   "metadata": {},
   "outputs": [
    {
     "name": "stdout",
     "output_type": "stream",
     "text": [
      "RMSE for segment 1: 4.0151\n",
      "RMSE for segment 2: 5.5160\n",
      "RMSE for segment 3: 6.5950\n",
      "RMSE for segment 4: 7.6733\n",
      "RMSE for segment 5: 8.7613\n",
      "RMSE for segment 6: 9.2883\n",
      "RMSE for segment 7: 9.6046\n",
      "RMSE for segment 8: 9.9867\n",
      "RMSE for segment 9: 10.2688\n",
      "RMSE for segment 10: 10.5310\n",
      "RMSE for segment 11: 10.7187\n",
      "RMSE for segment 12: 10.7949\n",
      "RMSE for segment 13: 10.9267\n",
      "RMSE for segment 14: 10.9947\n",
      "RMSE for segment 15: 11.1204\n",
      "RMSE for segment 16: 11.2943\n",
      "RMSE for segment 17: 11.2115\n",
      "RMSE for segment 18: 11.1915\n",
      "RMSE for segment 19: 11.1597\n",
      "RMSE for segment 20: 11.2131\n",
      "RMSE for segment 21: 11.1007\n",
      "RMSE for segment 22: 11.0946\n",
      "RMSE for segment 23: 10.8727\n",
      "RMSE for segment 24: 10.7441\n",
      "RMSE for segment 25: 10.8406\n",
      "RMSE for segment 26: 10.5827\n",
      "RMSE for segment 27: 10.4507\n",
      "RMSE for segment 28: 10.3960\n",
      "RMSE for segment 29: 10.6032\n",
      "RMSE for segment 30: 10.4630\n",
      "RMSE for segment 31: 10.4235\n",
      "RMSE for segment 32: 10.7958\n",
      "RMSE for segment 33: 11.4160\n",
      "RMSE for segment 34: 11.8277\n",
      "RMSE for segment 35: 11.9390\n",
      "RMSE for segment 36: 12.2983\n",
      "RMSE for segment 37: 12.4357\n",
      "RMSE for segment 38: 12.5890\n",
      "RMSE for segment 39: 12.8571\n",
      "RMSE for segment 40: 12.8513\n",
      "RMSE for segment 41: 12.7285\n",
      "RMSE for segment 42: 12.6548\n",
      "RMSE for segment 43: 12.6974\n",
      "RMSE for segment 44: 12.7592\n",
      "RMSE for segment 45: 12.7920\n",
      "RMSE for segment 46: 12.9692\n",
      "RMSE for segment 47: 13.3223\n",
      "RMSE for segment 48: 13.7194\n",
      "RMSE for segment 49: 13.6806\n",
      "RMSE for segment 50: 13.6471\n",
      "RMSE for segment 51: 13.7804\n",
      "RMSE for segment 52: 13.8832\n",
      "RMSE for segment 53: 13.7300\n",
      "RMSE for segment 54: 13.6969\n",
      "RMSE for segment 55: 13.7463\n",
      "RMSE for segment 56: 13.4103\n",
      "RMSE for segment 57: 13.1939\n",
      "RMSE for segment 58: 13.1512\n",
      "RMSE for segment 59: 13.4499\n",
      "RMSE for segment 60: 13.6708\n",
      "RMSE for segment 61: 13.6650\n",
      "RMSE for segment 62: 13.4674\n",
      "RMSE for segment 63: 13.3152\n",
      "RMSE for segment 64: 13.1240\n",
      "RMSE for segment 65: 13.0281\n",
      "RMSE for segment 66: 13.0209\n",
      "RMSE for segment 67: 13.1619\n",
      "RMSE for segment 68: 13.2292\n",
      "RMSE for segment 69: 13.4447\n",
      "RMSE for segment 70: 13.7772\n",
      "RMSE for segment 71: 14.0494\n",
      "RMSE for segment 72: 14.1374\n",
      "RMSE for segment 73: 14.3793\n",
      "RMSE for segment 74: 14.7192\n",
      "RMSE for segment 75: 14.6291\n",
      "RMSE for segment 76: 14.4196\n",
      "RMSE for segment 77: 14.1942\n",
      "RMSE for segment 78: 14.0993\n",
      "RMSE for segment 79: 14.1002\n",
      "RMSE for segment 80: 13.7613\n",
      "RMSE for segment 81: 13.6047\n",
      "RMSE for segment 82: 13.4190\n",
      "RMSE for segment 83: 13.2951\n",
      "RMSE for segment 84: 13.3166\n",
      "RMSE for segment 85: 13.3937\n",
      "RMSE for segment 86: 13.5116\n",
      "RMSE for segment 87: 13.5108\n",
      "RMSE for segment 88: 13.5169\n",
      "RMSE for segment 89: 13.6160\n",
      "RMSE for segment 90: 13.5977\n",
      "RMSE for segment 91: 13.7223\n",
      "RMSE for segment 92: 13.7368\n",
      "RMSE for segment 93: 13.6418\n",
      "RMSE for segment 94: 13.5795\n",
      "RMSE for segment 95: 13.3769\n",
      "RMSE for segment 96: 13.3863\n",
      "RMSE for segment 97: 13.5727\n",
      "RMSE for segment 98: 13.4957\n",
      "RMSE for segment 99: 13.6388\n",
      "RMSE for segment 100: 13.5602\n",
      "RMSE for segment 101: 13.5278\n",
      "RMSE for segment 102: 13.7194\n",
      "RMSE for segment 103: 13.7054\n",
      "RMSE for segment 104: 13.9646\n",
      "RMSE for segment 105: 13.9210\n",
      "RMSE for segment 106: 14.0918\n",
      "RMSE for segment 107: 14.2036\n",
      "RMSE for segment 108: 14.4227\n",
      "RMSE for segment 109: 14.4455\n",
      "RMSE for segment 110: 14.4370\n",
      "RMSE for segment 111: 14.5854\n",
      "RMSE for segment 112: 14.7920\n",
      "RMSE for segment 113: 15.0173\n",
      "RMSE for segment 114: 14.9881\n",
      "RMSE for segment 115: 15.0604\n",
      "RMSE for segment 116: 15.1071\n",
      "RMSE for segment 117: 15.1281\n",
      "RMSE for segment 118: 15.0671\n",
      "RMSE for segment 119: 15.0173\n",
      "RMSE for segment 120: 15.0248\n",
      "RMSE for segment 121: 15.1172\n",
      "RMSE for segment 122: 15.4498\n",
      "RMSE for segment 123: 15.6912\n",
      "RMSE for segment 124: 15.7914\n",
      "RMSE for segment 125: 15.7351\n",
      "RMSE for segment 126: 15.5465\n",
      "RMSE for segment 127: 15.5474\n",
      "RMSE for segment 128: 15.4132\n",
      "RMSE for segment 129: 15.3202\n",
      "RMSE for segment 130: 15.1105\n",
      "RMSE for segment 131: 15.0177\n",
      "RMSE for segment 132: 15.0250\n",
      "RMSE for segment 133: 15.0185\n",
      "RMSE for segment 134: 15.1275\n",
      "RMSE for segment 135: 15.2674\n",
      "RMSE for segment 136: 15.3723\n",
      "RMSE for segment 137: 15.5219\n",
      "RMSE for segment 138: 15.6442\n",
      "RMSE for segment 139: 15.8461\n",
      "RMSE for segment 140: 15.9704\n",
      "RMSE for segment 141: 15.9750\n",
      "RMSE for segment 142: 16.0625\n",
      "RMSE for segment 143: 15.9871\n",
      "RMSE for segment 144: 15.8713\n",
      "RMSE for segment 145: 15.6311\n",
      "RMSE for segment 146: 15.3140\n",
      "RMSE for segment 147: 15.0153\n",
      "RMSE for segment 148: 14.6382\n",
      "RMSE for segment 149: 14.3078\n",
      "RMSE for segment 150: 14.1149\n",
      "RMSE for segment 151: 14.0279\n",
      "RMSE for segment 152: 13.7283\n",
      "RMSE for segment 153: 13.7635\n",
      "RMSE for segment 154: 13.9549\n",
      "RMSE for segment 155: 13.8839\n",
      "RMSE for segment 156: 14.0389\n",
      "RMSE for segment 157: 13.9798\n",
      "RMSE for segment 158: 14.2242\n",
      "RMSE for segment 159: 14.0799\n",
      "RMSE for segment 160: 13.8471\n",
      "RMSE for segment 161: 13.8038\n",
      "RMSE for segment 162: 13.9030\n",
      "RMSE for segment 163: 14.1647\n",
      "RMSE for segment 164: 14.2017\n",
      "RMSE for segment 165: 14.4193\n",
      "RMSE for segment 166: 14.7738\n",
      "RMSE for segment 167: 15.0315\n",
      "RMSE for segment 168: 15.7013\n"
     ]
    }
   ],
   "source": [
    "segment_rmses = calculate_segment_rmse(testPredict, y_test_true)\n",
    "for i, rmse in enumerate(segment_rmses):\n",
    "    print(f\"RMSE for segment {i + 1}: {rmse:.4f}\")"
   ]
  },
  {
   "cell_type": "code",
   "execution_count": 25,
   "id": "85765500-cf61-4e8a-8763-69a8f1e567ca",
   "metadata": {},
   "outputs": [],
   "source": [
    "model.save(\"co_1dcnn.keras\")"
   ]
  }
 ],
 "metadata": {
  "kernelspec": {
   "display_name": "Python 3 (ipykernel)",
   "language": "python",
   "name": "python3"
  },
  "language_info": {
   "codemirror_mode": {
    "name": "ipython",
    "version": 3
   },
   "file_extension": ".py",
   "mimetype": "text/x-python",
   "name": "python",
   "nbconvert_exporter": "python",
   "pygments_lexer": "ipython3",
   "version": "3.11.0"
  }
 },
 "nbformat": 4,
 "nbformat_minor": 5
}
