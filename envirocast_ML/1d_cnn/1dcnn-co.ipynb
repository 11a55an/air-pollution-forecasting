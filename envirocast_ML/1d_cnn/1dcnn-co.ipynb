{
 "cells": [
  {
   "cell_type": "code",
   "execution_count": 1,
   "id": "08a7b78b-1d09-454f-8ecc-7c4184ab2240",
   "metadata": {},
   "outputs": [],
   "source": [
    "import pandas as pd\n",
    "import numpy as np"
   ]
  },
  {
   "cell_type": "code",
   "execution_count": 2,
   "id": "c1570c26-8e22-4498-9fe6-68e055e504a9",
   "metadata": {},
   "outputs": [],
   "source": [
    "df = pd.read_csv(\"../data/data_imputed_2.csv\")"
   ]
  },
  {
   "cell_type": "code",
   "execution_count": 3,
   "id": "55868db8-2144-49a3-9531-e4bf0728f0a2",
   "metadata": {},
   "outputs": [
    {
     "data": {
      "text/html": [
       "<div>\n",
       "<style scoped>\n",
       "    .dataframe tbody tr th:only-of-type {\n",
       "        vertical-align: middle;\n",
       "    }\n",
       "\n",
       "    .dataframe tbody tr th {\n",
       "        vertical-align: top;\n",
       "    }\n",
       "\n",
       "    .dataframe thead th {\n",
       "        text-align: right;\n",
       "    }\n",
       "</style>\n",
       "<table border=\"1\" class=\"dataframe\">\n",
       "  <thead>\n",
       "    <tr style=\"text-align: right;\">\n",
       "      <th></th>\n",
       "      <th>timestamp_local</th>\n",
       "      <th>temp</th>\n",
       "      <th>city_name</th>\n",
       "      <th>country_code</th>\n",
       "      <th>aqi</th>\n",
       "      <th>co</th>\n",
       "      <th>no2</th>\n",
       "      <th>o3</th>\n",
       "      <th>pm10</th>\n",
       "      <th>pm25</th>\n",
       "      <th>so2</th>\n",
       "    </tr>\n",
       "  </thead>\n",
       "  <tbody>\n",
       "    <tr>\n",
       "      <th>0</th>\n",
       "      <td>01/02/2022 0:00</td>\n",
       "      <td>12.6</td>\n",
       "      <td>Gujrāt</td>\n",
       "      <td>PK</td>\n",
       "      <td>385</td>\n",
       "      <td>1339.8</td>\n",
       "      <td>76.0</td>\n",
       "      <td>10.7</td>\n",
       "      <td>491.7</td>\n",
       "      <td>347.67</td>\n",
       "      <td>238.0</td>\n",
       "    </tr>\n",
       "    <tr>\n",
       "      <th>1</th>\n",
       "      <td>01/02/2022 1:00</td>\n",
       "      <td>11.5</td>\n",
       "      <td>Gujrāt</td>\n",
       "      <td>PK</td>\n",
       "      <td>404</td>\n",
       "      <td>1437.6</td>\n",
       "      <td>76.0</td>\n",
       "      <td>9.3</td>\n",
       "      <td>508.3</td>\n",
       "      <td>359.33</td>\n",
       "      <td>268.0</td>\n",
       "    </tr>\n",
       "    <tr>\n",
       "      <th>2</th>\n",
       "      <td>01/02/2022 2:00</td>\n",
       "      <td>11.9</td>\n",
       "      <td>Gujrāt</td>\n",
       "      <td>PK</td>\n",
       "      <td>421</td>\n",
       "      <td>1535.5</td>\n",
       "      <td>76.0</td>\n",
       "      <td>8.0</td>\n",
       "      <td>525.0</td>\n",
       "      <td>371.00</td>\n",
       "      <td>298.0</td>\n",
       "    </tr>\n",
       "    <tr>\n",
       "      <th>3</th>\n",
       "      <td>01/02/2022 3:00</td>\n",
       "      <td>12.2</td>\n",
       "      <td>Gujrāt</td>\n",
       "      <td>PK</td>\n",
       "      <td>425</td>\n",
       "      <td>1659.0</td>\n",
       "      <td>68.3</td>\n",
       "      <td>5.3</td>\n",
       "      <td>529.3</td>\n",
       "      <td>374.00</td>\n",
       "      <td>275.7</td>\n",
       "    </tr>\n",
       "    <tr>\n",
       "      <th>4</th>\n",
       "      <td>01/02/2022 4:00</td>\n",
       "      <td>11.9</td>\n",
       "      <td>Gujrāt</td>\n",
       "      <td>PK</td>\n",
       "      <td>430</td>\n",
       "      <td>1782.5</td>\n",
       "      <td>60.7</td>\n",
       "      <td>2.7</td>\n",
       "      <td>533.7</td>\n",
       "      <td>377.00</td>\n",
       "      <td>253.3</td>\n",
       "    </tr>\n",
       "  </tbody>\n",
       "</table>\n",
       "</div>"
      ],
      "text/plain": [
       "   timestamp_local  temp city_name country_code  aqi      co   no2    o3  \\\n",
       "0  01/02/2022 0:00  12.6    Gujrāt           PK  385  1339.8  76.0  10.7   \n",
       "1  01/02/2022 1:00  11.5    Gujrāt           PK  404  1437.6  76.0   9.3   \n",
       "2  01/02/2022 2:00  11.9    Gujrāt           PK  421  1535.5  76.0   8.0   \n",
       "3  01/02/2022 3:00  12.2    Gujrāt           PK  425  1659.0  68.3   5.3   \n",
       "4  01/02/2022 4:00  11.9    Gujrāt           PK  430  1782.5  60.7   2.7   \n",
       "\n",
       "    pm10    pm25    so2  \n",
       "0  491.7  347.67  238.0  \n",
       "1  508.3  359.33  268.0  \n",
       "2  525.0  371.00  298.0  \n",
       "3  529.3  374.00  275.7  \n",
       "4  533.7  377.00  253.3  "
      ]
     },
     "execution_count": 3,
     "metadata": {},
     "output_type": "execute_result"
    }
   ],
   "source": [
    "df.head()"
   ]
  },
  {
   "cell_type": "code",
   "execution_count": 4,
   "id": "1957f406-a837-4345-8d16-7835bd855082",
   "metadata": {},
   "outputs": [],
   "source": [
    "from sklearn.model_selection import train_test_split"
   ]
  },
  {
   "cell_type": "code",
   "execution_count": 5,
   "id": "d7e3c4f9-7208-48a1-bee4-1a89c09e2714",
   "metadata": {},
   "outputs": [],
   "source": [
    "data = df[['co']]"
   ]
  },
  {
   "cell_type": "code",
   "execution_count": 6,
   "id": "a2eedd5e-c6fa-43b7-9458-5deca00f11fb",
   "metadata": {},
   "outputs": [],
   "source": [
    "from sklearn.preprocessing import MinMaxScaler\n",
    "values = data.values\n",
    "\n",
    "values = values.astype('float32')\n",
    "\n",
    "scaler = MinMaxScaler(feature_range=(0, 1))\n",
    "scaled = scaler.fit_transform(values)"
   ]
  },
  {
   "cell_type": "code",
   "execution_count": 7,
   "id": "d93f3d70-328f-40a2-9403-0e22e9802560",
   "metadata": {},
   "outputs": [],
   "source": [
    "scaled = scaled.reshape((19706,))"
   ]
  },
  {
   "cell_type": "code",
   "execution_count": 8,
   "id": "09f5ccf2-8abf-4b08-8051-cb206ea52fad",
   "metadata": {},
   "outputs": [
    {
     "data": {
      "text/plain": [
       "(19706,)"
      ]
     },
     "execution_count": 8,
     "metadata": {},
     "output_type": "execute_result"
    }
   ],
   "source": [
    "scaled.shape"
   ]
  },
  {
   "cell_type": "code",
   "execution_count": 9,
   "id": "071ee44c-f600-41f6-9490-6cda18be3d8d",
   "metadata": {},
   "outputs": [],
   "source": [
    "def df_to_X_y(df, window_size, forecast_length):\n",
    "    # df_as_np = df.to_numpy()\n",
    "    X = []\n",
    "    y = []\n",
    "    \n",
    "    for i in range(len(df) - window_size - forecast_length):\n",
    "        row_x = [[a] for a in df[i:i+window_size]]\n",
    "        \n",
    "        X.append(row_x)\n",
    "        # row_y = df_as_np[i+window_size]\n",
    "        row_y = [b for b in df[i+window_size:i+window_size+forecast_length]]\n",
    "        \n",
    "        y.append(row_y)\n",
    "        \n",
    "    return np.array(X), np.array(y)"
   ]
  },
  {
   "cell_type": "code",
   "execution_count": 10,
   "id": "c118b905-bab3-4abf-b257-253d7ea2bb98",
   "metadata": {},
   "outputs": [],
   "source": [
    "WINDOW_WIDTH = 168\n",
    "FORECAST_LENGTH = 168\n",
    "X, y = df_to_X_y(scaled, WINDOW_WIDTH, FORECAST_LENGTH)\n",
    "\n",
    "\n",
    "X_train, X_test, y_train, y_test = train_test_split(X, y, test_size=0.2, random_state=0)\n",
    "X_train, X_val, y_train, y_val = train_test_split(X_train, y_train, test_size=0.2, random_state=0)\n",
    "\n",
    "X_max = X_train.max()\n",
    "X_min = X_train.min()"
   ]
  },
  {
   "cell_type": "code",
   "execution_count": 11,
   "id": "e7b85489-d3d6-4c17-8935-238402086eff",
   "metadata": {},
   "outputs": [],
   "source": [
    "batchSize = 16\n",
    "from keras.models import Sequential, save_model, load_model\n",
    "from keras.layers import *\n",
    "from keras.callbacks import ReduceLROnPlateau, ModelCheckpoint\n",
    "from tensorflow.keras.optimizers import Adam\n",
    "from keras.losses import MeanSquaredError\n",
    "from keras.metrics import RootMeanSquaredError"
   ]
  },
  {
   "cell_type": "code",
   "execution_count": 12,
   "id": "3b6c5847-1cc5-4149-b349-ff4f5c638c90",
   "metadata": {},
   "outputs": [
    {
     "name": "stderr",
     "output_type": "stream",
     "text": [
      "C:\\Users\\Hassan\\AppData\\Local\\Programs\\Python\\Python311\\Lib\\site-packages\\keras\\src\\layers\\convolutional\\base_conv.py:99: UserWarning: Do not pass an `input_shape`/`input_dim` argument to a layer. When using Sequential models, prefer using an `Input(shape)` object as the first layer in the model instead.\n",
      "  super().__init__(\n"
     ]
    },
    {
     "data": {
      "text/html": [
       "<pre style=\"white-space:pre;overflow-x:auto;line-height:normal;font-family:Menlo,'DejaVu Sans Mono',consolas,'Courier New',monospace\"><span style=\"font-weight: bold\">Model: \"sequential\"</span>\n",
       "</pre>\n"
      ],
      "text/plain": [
       "\u001b[1mModel: \"sequential\"\u001b[0m\n"
      ]
     },
     "metadata": {},
     "output_type": "display_data"
    },
    {
     "data": {
      "text/html": [
       "<pre style=\"white-space:pre;overflow-x:auto;line-height:normal;font-family:Menlo,'DejaVu Sans Mono',consolas,'Courier New',monospace\">┏━━━━━━━━━━━━━━━━━━━━━━━━━━━━━━━━━━━━━━┳━━━━━━━━━━━━━━━━━━━━━━━━━━━━━┳━━━━━━━━━━━━━━━━━┓\n",
       "┃<span style=\"font-weight: bold\"> Layer (type)                         </span>┃<span style=\"font-weight: bold\"> Output Shape                </span>┃<span style=\"font-weight: bold\">         Param # </span>┃\n",
       "┡━━━━━━━━━━━━━━━━━━━━━━━━━━━━━━━━━━━━━━╇━━━━━━━━━━━━━━━━━━━━━━━━━━━━━╇━━━━━━━━━━━━━━━━━┩\n",
       "│ conv1d (<span style=\"color: #0087ff; text-decoration-color: #0087ff\">Conv1D</span>)                      │ (<span style=\"color: #00d7ff; text-decoration-color: #00d7ff\">None</span>, <span style=\"color: #00af00; text-decoration-color: #00af00\">166</span>, <span style=\"color: #00af00; text-decoration-color: #00af00\">8</span>)              │              <span style=\"color: #00af00; text-decoration-color: #00af00\">32</span> │\n",
       "├──────────────────────────────────────┼─────────────────────────────┼─────────────────┤\n",
       "│ flatten (<span style=\"color: #0087ff; text-decoration-color: #0087ff\">Flatten</span>)                    │ (<span style=\"color: #00d7ff; text-decoration-color: #00d7ff\">None</span>, <span style=\"color: #00af00; text-decoration-color: #00af00\">1328</span>)                │               <span style=\"color: #00af00; text-decoration-color: #00af00\">0</span> │\n",
       "├──────────────────────────────────────┼─────────────────────────────┼─────────────────┤\n",
       "│ dense (<span style=\"color: #0087ff; text-decoration-color: #0087ff\">Dense</span>)                        │ (<span style=\"color: #00d7ff; text-decoration-color: #00d7ff\">None</span>, <span style=\"color: #00af00; text-decoration-color: #00af00\">168</span>)                 │         <span style=\"color: #00af00; text-decoration-color: #00af00\">223,272</span> │\n",
       "└──────────────────────────────────────┴─────────────────────────────┴─────────────────┘\n",
       "</pre>\n"
      ],
      "text/plain": [
       "┏━━━━━━━━━━━━━━━━━━━━━━━━━━━━━━━━━━━━━━┳━━━━━━━━━━━━━━━━━━━━━━━━━━━━━┳━━━━━━━━━━━━━━━━━┓\n",
       "┃\u001b[1m \u001b[0m\u001b[1mLayer (type)                        \u001b[0m\u001b[1m \u001b[0m┃\u001b[1m \u001b[0m\u001b[1mOutput Shape               \u001b[0m\u001b[1m \u001b[0m┃\u001b[1m \u001b[0m\u001b[1m        Param #\u001b[0m\u001b[1m \u001b[0m┃\n",
       "┡━━━━━━━━━━━━━━━━━━━━━━━━━━━━━━━━━━━━━━╇━━━━━━━━━━━━━━━━━━━━━━━━━━━━━╇━━━━━━━━━━━━━━━━━┩\n",
       "│ conv1d (\u001b[38;5;33mConv1D\u001b[0m)                      │ (\u001b[38;5;45mNone\u001b[0m, \u001b[38;5;34m166\u001b[0m, \u001b[38;5;34m8\u001b[0m)              │              \u001b[38;5;34m32\u001b[0m │\n",
       "├──────────────────────────────────────┼─────────────────────────────┼─────────────────┤\n",
       "│ flatten (\u001b[38;5;33mFlatten\u001b[0m)                    │ (\u001b[38;5;45mNone\u001b[0m, \u001b[38;5;34m1328\u001b[0m)                │               \u001b[38;5;34m0\u001b[0m │\n",
       "├──────────────────────────────────────┼─────────────────────────────┼─────────────────┤\n",
       "│ dense (\u001b[38;5;33mDense\u001b[0m)                        │ (\u001b[38;5;45mNone\u001b[0m, \u001b[38;5;34m168\u001b[0m)                 │         \u001b[38;5;34m223,272\u001b[0m │\n",
       "└──────────────────────────────────────┴─────────────────────────────┴─────────────────┘\n"
      ]
     },
     "metadata": {},
     "output_type": "display_data"
    },
    {
     "data": {
      "text/html": [
       "<pre style=\"white-space:pre;overflow-x:auto;line-height:normal;font-family:Menlo,'DejaVu Sans Mono',consolas,'Courier New',monospace\"><span style=\"font-weight: bold\"> Total params: </span><span style=\"color: #00af00; text-decoration-color: #00af00\">223,304</span> (872.28 KB)\n",
       "</pre>\n"
      ],
      "text/plain": [
       "\u001b[1m Total params: \u001b[0m\u001b[38;5;34m223,304\u001b[0m (872.28 KB)\n"
      ]
     },
     "metadata": {},
     "output_type": "display_data"
    },
    {
     "data": {
      "text/html": [
       "<pre style=\"white-space:pre;overflow-x:auto;line-height:normal;font-family:Menlo,'DejaVu Sans Mono',consolas,'Courier New',monospace\"><span style=\"font-weight: bold\"> Trainable params: </span><span style=\"color: #00af00; text-decoration-color: #00af00\">223,304</span> (872.28 KB)\n",
       "</pre>\n"
      ],
      "text/plain": [
       "\u001b[1m Trainable params: \u001b[0m\u001b[38;5;34m223,304\u001b[0m (872.28 KB)\n"
      ]
     },
     "metadata": {},
     "output_type": "display_data"
    },
    {
     "data": {
      "text/html": [
       "<pre style=\"white-space:pre;overflow-x:auto;line-height:normal;font-family:Menlo,'DejaVu Sans Mono',consolas,'Courier New',monospace\"><span style=\"font-weight: bold\"> Non-trainable params: </span><span style=\"color: #00af00; text-decoration-color: #00af00\">0</span> (0.00 B)\n",
       "</pre>\n"
      ],
      "text/plain": [
       "\u001b[1m Non-trainable params: \u001b[0m\u001b[38;5;34m0\u001b[0m (0.00 B)\n"
      ]
     },
     "metadata": {},
     "output_type": "display_data"
    },
    {
     "name": "stdout",
     "output_type": "stream",
     "text": [
      "Epoch 1/50\n",
      "\u001b[1m388/388\u001b[0m \u001b[32m━━━━━━━━━━━━━━━━━━━━\u001b[0m\u001b[37m\u001b[0m \u001b[1m3s\u001b[0m 6ms/step - loss: 0.0027 - root_mean_squared_error: 0.0518 - val_loss: 0.0019 - val_root_mean_squared_error: 0.0437 - learning_rate: 0.0010\n",
      "Epoch 2/50\n",
      "\u001b[1m388/388\u001b[0m \u001b[32m━━━━━━━━━━━━━━━━━━━━\u001b[0m\u001b[37m\u001b[0m \u001b[1m2s\u001b[0m 5ms/step - loss: 0.0019 - root_mean_squared_error: 0.0440 - val_loss: 0.0019 - val_root_mean_squared_error: 0.0435 - learning_rate: 0.0010\n",
      "Epoch 3/50\n",
      "\u001b[1m388/388\u001b[0m \u001b[32m━━━━━━━━━━━━━━━━━━━━\u001b[0m\u001b[37m\u001b[0m \u001b[1m2s\u001b[0m 6ms/step - loss: 0.0019 - root_mean_squared_error: 0.0429 - val_loss: 0.0018 - val_root_mean_squared_error: 0.0421 - learning_rate: 0.0010\n",
      "Epoch 4/50\n",
      "\u001b[1m388/388\u001b[0m \u001b[32m━━━━━━━━━━━━━━━━━━━━\u001b[0m\u001b[37m\u001b[0m \u001b[1m2s\u001b[0m 5ms/step - loss: 0.0018 - root_mean_squared_error: 0.0429 - val_loss: 0.0017 - val_root_mean_squared_error: 0.0409 - learning_rate: 0.0010\n",
      "Epoch 5/50\n",
      "\u001b[1m388/388\u001b[0m \u001b[32m━━━━━━━━━━━━━━━━━━━━\u001b[0m\u001b[37m\u001b[0m \u001b[1m3s\u001b[0m 6ms/step - loss: 0.0017 - root_mean_squared_error: 0.0412 - val_loss: 0.0017 - val_root_mean_squared_error: 0.0406 - learning_rate: 0.0010\n",
      "Epoch 6/50\n",
      "\u001b[1m388/388\u001b[0m \u001b[32m━━━━━━━━━━━━━━━━━━━━\u001b[0m\u001b[37m\u001b[0m \u001b[1m2s\u001b[0m 6ms/step - loss: 0.0016 - root_mean_squared_error: 0.0405 - val_loss: 0.0017 - val_root_mean_squared_error: 0.0407 - learning_rate: 0.0010\n",
      "Epoch 7/50\n",
      "\u001b[1m388/388\u001b[0m \u001b[32m━━━━━━━━━━━━━━━━━━━━\u001b[0m\u001b[37m\u001b[0m \u001b[1m3s\u001b[0m 6ms/step - loss: 0.0018 - root_mean_squared_error: 0.0419 - val_loss: 0.0017 - val_root_mean_squared_error: 0.0409 - learning_rate: 0.0010\n",
      "Epoch 8/50\n",
      "\u001b[1m388/388\u001b[0m \u001b[32m━━━━━━━━━━━━━━━━━━━━\u001b[0m\u001b[37m\u001b[0m \u001b[1m2s\u001b[0m 5ms/step - loss: 0.0019 - root_mean_squared_error: 0.0431 - val_loss: 0.0017 - val_root_mean_squared_error: 0.0406 - learning_rate: 0.0010\n",
      "Epoch 9/50\n",
      "\u001b[1m388/388\u001b[0m \u001b[32m━━━━━━━━━━━━━━━━━━━━\u001b[0m\u001b[37m\u001b[0m \u001b[1m2s\u001b[0m 6ms/step - loss: 0.0016 - root_mean_squared_error: 0.0404 - val_loss: 0.0016 - val_root_mean_squared_error: 0.0402 - learning_rate: 0.0010\n",
      "Epoch 10/50\n",
      "\u001b[1m388/388\u001b[0m \u001b[32m━━━━━━━━━━━━━━━━━━━━\u001b[0m\u001b[37m\u001b[0m \u001b[1m3s\u001b[0m 6ms/step - loss: 0.0016 - root_mean_squared_error: 0.0401 - val_loss: 0.0016 - val_root_mean_squared_error: 0.0405 - learning_rate: 0.0010\n",
      "Epoch 11/50\n",
      "\u001b[1m388/388\u001b[0m \u001b[32m━━━━━━━━━━━━━━━━━━━━\u001b[0m\u001b[37m\u001b[0m \u001b[1m2s\u001b[0m 6ms/step - loss: 0.0016 - root_mean_squared_error: 0.0405 - val_loss: 0.0016 - val_root_mean_squared_error: 0.0404 - learning_rate: 0.0010\n",
      "Epoch 12/50\n",
      "\u001b[1m388/388\u001b[0m \u001b[32m━━━━━━━━━━━━━━━━━━━━\u001b[0m\u001b[37m\u001b[0m \u001b[1m3s\u001b[0m 6ms/step - loss: 0.0016 - root_mean_squared_error: 0.0397 - val_loss: 0.0016 - val_root_mean_squared_error: 0.0402 - learning_rate: 0.0010\n",
      "Epoch 13/50\n",
      "\u001b[1m388/388\u001b[0m \u001b[32m━━━━━━━━━━━━━━━━━━━━\u001b[0m\u001b[37m\u001b[0m \u001b[1m2s\u001b[0m 6ms/step - loss: 0.0016 - root_mean_squared_error: 0.0400 - val_loss: 0.0016 - val_root_mean_squared_error: 0.0402 - learning_rate: 0.0010\n",
      "Epoch 14/50\n",
      "\u001b[1m388/388\u001b[0m \u001b[32m━━━━━━━━━━━━━━━━━━━━\u001b[0m\u001b[37m\u001b[0m \u001b[1m2s\u001b[0m 5ms/step - loss: 0.0016 - root_mean_squared_error: 0.0396 - val_loss: 0.0016 - val_root_mean_squared_error: 0.0406 - learning_rate: 0.0010\n",
      "Epoch 15/50\n",
      "\u001b[1m388/388\u001b[0m \u001b[32m━━━━━━━━━━━━━━━━━━━━\u001b[0m\u001b[37m\u001b[0m \u001b[1m3s\u001b[0m 6ms/step - loss: 0.0015 - root_mean_squared_error: 0.0393 - val_loss: 0.0016 - val_root_mean_squared_error: 0.0398 - learning_rate: 1.0000e-04\n",
      "Epoch 16/50\n",
      "\u001b[1m388/388\u001b[0m \u001b[32m━━━━━━━━━━━━━━━━━━━━\u001b[0m\u001b[37m\u001b[0m \u001b[1m2s\u001b[0m 6ms/step - loss: 0.0016 - root_mean_squared_error: 0.0393 - val_loss: 0.0016 - val_root_mean_squared_error: 0.0398 - learning_rate: 1.0000e-04\n",
      "Epoch 17/50\n",
      "\u001b[1m388/388\u001b[0m \u001b[32m━━━━━━━━━━━━━━━━━━━━\u001b[0m\u001b[37m\u001b[0m \u001b[1m3s\u001b[0m 6ms/step - loss: 0.0017 - root_mean_squared_error: 0.0407 - val_loss: 0.0016 - val_root_mean_squared_error: 0.0398 - learning_rate: 1.0000e-04\n",
      "Epoch 18/50\n",
      "\u001b[1m388/388\u001b[0m \u001b[32m━━━━━━━━━━━━━━━━━━━━\u001b[0m\u001b[37m\u001b[0m \u001b[1m2s\u001b[0m 6ms/step - loss: 0.0015 - root_mean_squared_error: 0.0386 - val_loss: 0.0016 - val_root_mean_squared_error: 0.0398 - learning_rate: 1.0000e-04\n",
      "Epoch 19/50\n",
      "\u001b[1m388/388\u001b[0m \u001b[32m━━━━━━━━━━━━━━━━━━━━\u001b[0m\u001b[37m\u001b[0m \u001b[1m3s\u001b[0m 6ms/step - loss: 0.0016 - root_mean_squared_error: 0.0403 - val_loss: 0.0016 - val_root_mean_squared_error: 0.0399 - learning_rate: 1.0000e-04\n",
      "Epoch 20/50\n",
      "\u001b[1m388/388\u001b[0m \u001b[32m━━━━━━━━━━━━━━━━━━━━\u001b[0m\u001b[37m\u001b[0m \u001b[1m2s\u001b[0m 6ms/step - loss: 0.0016 - root_mean_squared_error: 0.0394 - val_loss: 0.0016 - val_root_mean_squared_error: 0.0399 - learning_rate: 1.0000e-04\n",
      "Epoch 21/50\n",
      "\u001b[1m388/388\u001b[0m \u001b[32m━━━━━━━━━━━━━━━━━━━━\u001b[0m\u001b[37m\u001b[0m \u001b[1m2s\u001b[0m 5ms/step - loss: 0.0014 - root_mean_squared_error: 0.0377 - val_loss: 0.0016 - val_root_mean_squared_error: 0.0398 - learning_rate: 1.0000e-04\n",
      "Epoch 22/50\n",
      "\u001b[1m388/388\u001b[0m \u001b[32m━━━━━━━━━━━━━━━━━━━━\u001b[0m\u001b[37m\u001b[0m \u001b[1m2s\u001b[0m 5ms/step - loss: 0.0015 - root_mean_squared_error: 0.0387 - val_loss: 0.0016 - val_root_mean_squared_error: 0.0398 - learning_rate: 1.0000e-04\n",
      "Epoch 23/50\n",
      "\u001b[1m388/388\u001b[0m \u001b[32m━━━━━━━━━━━━━━━━━━━━\u001b[0m\u001b[37m\u001b[0m \u001b[1m2s\u001b[0m 6ms/step - loss: 0.0015 - root_mean_squared_error: 0.0393 - val_loss: 0.0016 - val_root_mean_squared_error: 0.0397 - learning_rate: 1.0000e-04\n",
      "Epoch 24/50\n",
      "\u001b[1m388/388\u001b[0m \u001b[32m━━━━━━━━━━━━━━━━━━━━\u001b[0m\u001b[37m\u001b[0m \u001b[1m2s\u001b[0m 6ms/step - loss: 0.0015 - root_mean_squared_error: 0.0393 - val_loss: 0.0016 - val_root_mean_squared_error: 0.0398 - learning_rate: 1.0000e-04\n",
      "Epoch 25/50\n",
      "\u001b[1m388/388\u001b[0m \u001b[32m━━━━━━━━━━━━━━━━━━━━\u001b[0m\u001b[37m\u001b[0m \u001b[1m2s\u001b[0m 5ms/step - loss: 0.0016 - root_mean_squared_error: 0.0395 - val_loss: 0.0016 - val_root_mean_squared_error: 0.0397 - learning_rate: 1.0000e-05\n",
      "Epoch 26/50\n",
      "\u001b[1m388/388\u001b[0m \u001b[32m━━━━━━━━━━━━━━━━━━━━\u001b[0m\u001b[37m\u001b[0m \u001b[1m2s\u001b[0m 5ms/step - loss: 0.0016 - root_mean_squared_error: 0.0394 - val_loss: 0.0016 - val_root_mean_squared_error: 0.0397 - learning_rate: 1.0000e-05\n",
      "Epoch 27/50\n",
      "\u001b[1m388/388\u001b[0m \u001b[32m━━━━━━━━━━━━━━━━━━━━\u001b[0m\u001b[37m\u001b[0m \u001b[1m3s\u001b[0m 6ms/step - loss: 0.0015 - root_mean_squared_error: 0.0385 - val_loss: 0.0016 - val_root_mean_squared_error: 0.0397 - learning_rate: 1.0000e-05\n",
      "Epoch 28/50\n",
      "\u001b[1m388/388\u001b[0m \u001b[32m━━━━━━━━━━━━━━━━━━━━\u001b[0m\u001b[37m\u001b[0m \u001b[1m2s\u001b[0m 6ms/step - loss: 0.0016 - root_mean_squared_error: 0.0405 - val_loss: 0.0016 - val_root_mean_squared_error: 0.0397 - learning_rate: 1.0000e-05\n",
      "Epoch 29/50\n",
      "\u001b[1m388/388\u001b[0m \u001b[32m━━━━━━━━━━━━━━━━━━━━\u001b[0m\u001b[37m\u001b[0m \u001b[1m2s\u001b[0m 6ms/step - loss: 0.0015 - root_mean_squared_error: 0.0380 - val_loss: 0.0016 - val_root_mean_squared_error: 0.0397 - learning_rate: 1.0000e-05\n",
      "Epoch 30/50\n",
      "\u001b[1m388/388\u001b[0m \u001b[32m━━━━━━━━━━━━━━━━━━━━\u001b[0m\u001b[37m\u001b[0m \u001b[1m3s\u001b[0m 5ms/step - loss: 0.0015 - root_mean_squared_error: 0.0391 - val_loss: 0.0016 - val_root_mean_squared_error: 0.0397 - learning_rate: 1.0000e-05\n",
      "Epoch 31/50\n",
      "\u001b[1m388/388\u001b[0m \u001b[32m━━━━━━━━━━━━━━━━━━━━\u001b[0m\u001b[37m\u001b[0m \u001b[1m2s\u001b[0m 4ms/step - loss: 0.0015 - root_mean_squared_error: 0.0392 - val_loss: 0.0016 - val_root_mean_squared_error: 0.0397 - learning_rate: 1.0000e-05\n",
      "Epoch 32/50\n",
      "\u001b[1m388/388\u001b[0m \u001b[32m━━━━━━━━━━━━━━━━━━━━\u001b[0m\u001b[37m\u001b[0m \u001b[1m2s\u001b[0m 4ms/step - loss: 0.0016 - root_mean_squared_error: 0.0398 - val_loss: 0.0016 - val_root_mean_squared_error: 0.0397 - learning_rate: 1.0000e-05\n",
      "Epoch 33/50\n",
      "\u001b[1m388/388\u001b[0m \u001b[32m━━━━━━━━━━━━━━━━━━━━\u001b[0m\u001b[37m\u001b[0m \u001b[1m3s\u001b[0m 6ms/step - loss: 0.0015 - root_mean_squared_error: 0.0389 - val_loss: 0.0016 - val_root_mean_squared_error: 0.0397 - learning_rate: 1.0000e-05\n",
      "Epoch 34/50\n",
      "\u001b[1m388/388\u001b[0m \u001b[32m━━━━━━━━━━━━━━━━━━━━\u001b[0m\u001b[37m\u001b[0m \u001b[1m2s\u001b[0m 5ms/step - loss: 0.0016 - root_mean_squared_error: 0.0400 - val_loss: 0.0016 - val_root_mean_squared_error: 0.0397 - learning_rate: 1.0000e-05\n",
      "Epoch 35/50\n",
      "\u001b[1m388/388\u001b[0m \u001b[32m━━━━━━━━━━━━━━━━━━━━\u001b[0m\u001b[37m\u001b[0m \u001b[1m2s\u001b[0m 6ms/step - loss: 0.0016 - root_mean_squared_error: 0.0394 - val_loss: 0.0016 - val_root_mean_squared_error: 0.0397 - learning_rate: 1.0000e-06\n",
      "Epoch 36/50\n",
      "\u001b[1m388/388\u001b[0m \u001b[32m━━━━━━━━━━━━━━━━━━━━\u001b[0m\u001b[37m\u001b[0m \u001b[1m2s\u001b[0m 4ms/step - loss: 0.0016 - root_mean_squared_error: 0.0398 - val_loss: 0.0016 - val_root_mean_squared_error: 0.0397 - learning_rate: 1.0000e-06\n",
      "Epoch 37/50\n",
      "\u001b[1m388/388\u001b[0m \u001b[32m━━━━━━━━━━━━━━━━━━━━\u001b[0m\u001b[37m\u001b[0m \u001b[1m2s\u001b[0m 5ms/step - loss: 0.0017 - root_mean_squared_error: 0.0406 - val_loss: 0.0016 - val_root_mean_squared_error: 0.0397 - learning_rate: 1.0000e-06\n",
      "Epoch 38/50\n",
      "\u001b[1m388/388\u001b[0m \u001b[32m━━━━━━━━━━━━━━━━━━━━\u001b[0m\u001b[37m\u001b[0m \u001b[1m2s\u001b[0m 5ms/step - loss: 0.0014 - root_mean_squared_error: 0.0376 - val_loss: 0.0016 - val_root_mean_squared_error: 0.0397 - learning_rate: 1.0000e-06\n",
      "Epoch 39/50\n",
      "\u001b[1m388/388\u001b[0m \u001b[32m━━━━━━━━━━━━━━━━━━━━\u001b[0m\u001b[37m\u001b[0m \u001b[1m3s\u001b[0m 6ms/step - loss: 0.0014 - root_mean_squared_error: 0.0380 - val_loss: 0.0016 - val_root_mean_squared_error: 0.0397 - learning_rate: 1.0000e-06\n",
      "Epoch 40/50\n",
      "\u001b[1m388/388\u001b[0m \u001b[32m━━━━━━━━━━━━━━━━━━━━\u001b[0m\u001b[37m\u001b[0m \u001b[1m2s\u001b[0m 5ms/step - loss: 0.0014 - root_mean_squared_error: 0.0380 - val_loss: 0.0016 - val_root_mean_squared_error: 0.0397 - learning_rate: 1.0000e-06\n",
      "Epoch 41/50\n",
      "\u001b[1m388/388\u001b[0m \u001b[32m━━━━━━━━━━━━━━━━━━━━\u001b[0m\u001b[37m\u001b[0m \u001b[1m2s\u001b[0m 5ms/step - loss: 0.0015 - root_mean_squared_error: 0.0389 - val_loss: 0.0016 - val_root_mean_squared_error: 0.0397 - learning_rate: 1.0000e-06\n",
      "Epoch 42/50\n",
      "\u001b[1m388/388\u001b[0m \u001b[32m━━━━━━━━━━━━━━━━━━━━\u001b[0m\u001b[37m\u001b[0m \u001b[1m3s\u001b[0m 5ms/step - loss: 0.0016 - root_mean_squared_error: 0.0397 - val_loss: 0.0016 - val_root_mean_squared_error: 0.0397 - learning_rate: 1.0000e-06\n",
      "Epoch 43/50\n",
      "\u001b[1m388/388\u001b[0m \u001b[32m━━━━━━━━━━━━━━━━━━━━\u001b[0m\u001b[37m\u001b[0m \u001b[1m2s\u001b[0m 5ms/step - loss: 0.0015 - root_mean_squared_error: 0.0389 - val_loss: 0.0016 - val_root_mean_squared_error: 0.0397 - learning_rate: 1.0000e-06\n",
      "Epoch 44/50\n",
      "\u001b[1m388/388\u001b[0m \u001b[32m━━━━━━━━━━━━━━━━━━━━\u001b[0m\u001b[37m\u001b[0m \u001b[1m2s\u001b[0m 6ms/step - loss: 0.0015 - root_mean_squared_error: 0.0385 - val_loss: 0.0016 - val_root_mean_squared_error: 0.0397 - learning_rate: 1.0000e-06\n",
      "Epoch 45/50\n",
      "\u001b[1m388/388\u001b[0m \u001b[32m━━━━━━━━━━━━━━━━━━━━\u001b[0m\u001b[37m\u001b[0m \u001b[1m2s\u001b[0m 4ms/step - loss: 0.0015 - root_mean_squared_error: 0.0381 - val_loss: 0.0016 - val_root_mean_squared_error: 0.0397 - learning_rate: 1.0000e-07\n",
      "Epoch 46/50\n",
      "\u001b[1m388/388\u001b[0m \u001b[32m━━━━━━━━━━━━━━━━━━━━\u001b[0m\u001b[37m\u001b[0m \u001b[1m3s\u001b[0m 5ms/step - loss: 0.0015 - root_mean_squared_error: 0.0383 - val_loss: 0.0016 - val_root_mean_squared_error: 0.0397 - learning_rate: 1.0000e-07\n",
      "Epoch 47/50\n",
      "\u001b[1m388/388\u001b[0m \u001b[32m━━━━━━━━━━━━━━━━━━━━\u001b[0m\u001b[37m\u001b[0m \u001b[1m3s\u001b[0m 5ms/step - loss: 0.0015 - root_mean_squared_error: 0.0388 - val_loss: 0.0016 - val_root_mean_squared_error: 0.0397 - learning_rate: 1.0000e-07\n",
      "Epoch 48/50\n",
      "\u001b[1m388/388\u001b[0m \u001b[32m━━━━━━━━━━━━━━━━━━━━\u001b[0m\u001b[37m\u001b[0m \u001b[1m2s\u001b[0m 5ms/step - loss: 0.0016 - root_mean_squared_error: 0.0395 - val_loss: 0.0016 - val_root_mean_squared_error: 0.0397 - learning_rate: 1.0000e-07\n",
      "Epoch 49/50\n",
      "\u001b[1m388/388\u001b[0m \u001b[32m━━━━━━━━━━━━━━━━━━━━\u001b[0m\u001b[37m\u001b[0m \u001b[1m2s\u001b[0m 6ms/step - loss: 0.0015 - root_mean_squared_error: 0.0392 - val_loss: 0.0016 - val_root_mean_squared_error: 0.0397 - learning_rate: 1.0000e-07\n",
      "Epoch 50/50\n",
      "\u001b[1m388/388\u001b[0m \u001b[32m━━━━━━━━━━━━━━━━━━━━\u001b[0m\u001b[37m\u001b[0m \u001b[1m3s\u001b[0m 6ms/step - loss: 0.0016 - root_mean_squared_error: 0.0400 - val_loss: 0.0016 - val_root_mean_squared_error: 0.0397 - learning_rate: 1.0000e-07\n"
     ]
    }
   ],
   "source": [
    "normalizer = Normalization()\n",
    "normalizer.adapt(X_train)\n",
    "rlrop = ReduceLROnPlateau(monitor='val_loss', factor=0.1, patience=10)\n",
    "\n",
    "model = Sequential()\n",
    "# 1D Convolutional layers\n",
    "model.add(Conv1D(filters=8, kernel_size=3, activation='relu', input_shape=X_train.shape[1:]))\n",
    "# model.add(Conv1D(filters=64, kernel_size=3, activation='relu'))\n",
    "# model.add(Conv1D(filters=32, kernel_size=3, activation='relu'))\n",
    "# Flatten the output of the Conv layers\n",
    "model.add(Flatten())\n",
    "# model.add(LSTM(input_shape = X_train.shape[1:], units=86, return_sequences=True))\n",
    "# model.add(LSTM(units=64, return_sequences=True))\n",
    "# model.add(GRU(units=86, return_sequences=True))\n",
    "# model.add(LSTM(units=128, return_sequences=True))\n",
    "# model.add(GRU(units=100, return_sequences=True))\n",
    "# model.add(LSTM(units=100, return_sequences=False))\n",
    "# model.add(Dense(units=100,  activation='relu'))\n",
    "# model.add(Dense(8, activation='relu'))\n",
    "\n",
    "model.add(Dense(units=FORECAST_LENGTH, activation='linear'))\n",
    "\n",
    "model.summary()\n",
    "\n",
    "model.compile(optimizer=Adam(learning_rate=0.001), metrics=[RootMeanSquaredError()] , loss=MeanSquaredError())\n",
    "\n",
    "history = model.fit(X_train, y_train, validation_data=(X_val,y_val), epochs=50, callbacks=[rlrop])\n",
    "\n",
    "# score = model.evaluate(X_test, y_test, verbose = 1)"
   ]
  },
  {
   "cell_type": "code",
   "execution_count": 13,
   "id": "5674b419-12bd-4a4e-a83d-2438ae813939",
   "metadata": {},
   "outputs": [
    {
     "name": "stdout",
     "output_type": "stream",
     "text": [
      "\u001b[1m122/122\u001b[0m \u001b[32m━━━━━━━━━━━━━━━━━━━━\u001b[0m\u001b[37m\u001b[0m \u001b[1m0s\u001b[0m 2ms/step\n"
     ]
    }
   ],
   "source": [
    "forecast = model.predict(X_test)"
   ]
  },
  {
   "cell_type": "code",
   "execution_count": 14,
   "id": "abb7c26e-b6e8-4526-aa4e-9180825c9d51",
   "metadata": {},
   "outputs": [],
   "source": [
    "poll = np.array(df[\"co\"])\n",
    "\n",
    "meanop = poll.mean()\n",
    "stdop = poll.std()\n",
    "\n",
    "y_test_true = y_test*stdop + meanop\n",
    "testPredict = forecast*stdop + meanop"
   ]
  },
  {
   "cell_type": "code",
   "execution_count": 15,
   "id": "cccf66c7-77a1-483d-8b28-e5df8056b4b6",
   "metadata": {},
   "outputs": [],
   "source": [
    "from sklearn.metrics import mean_squared_error"
   ]
  },
  {
   "cell_type": "code",
   "execution_count": 16,
   "id": "3e3a186b-a281-4964-9581-f8f73931e019",
   "metadata": {},
   "outputs": [
    {
     "name": "stdout",
     "output_type": "stream",
     "text": [
      "Test RMSE = 13.425984\n"
     ]
    }
   ],
   "source": [
    "rmse = np.sqrt(mean_squared_error(y_test_true, testPredict))\n",
    "print(\"Test RMSE =\"  ,rmse)"
   ]
  },
  {
   "cell_type": "code",
   "execution_count": 17,
   "id": "290b0e86-023d-407d-9374-9add7d58b7c7",
   "metadata": {},
   "outputs": [
    {
     "name": "stdout",
     "output_type": "stream",
     "text": [
      "Test MAPE = 1.8594613298773766\n"
     ]
    }
   ],
   "source": [
    "# Calculate MAPE\n",
    "mape = np.mean(np.abs((y_test_true - testPredict) / y_test_true)) * 100\n",
    "print(\"Test MAPE =\", mape)"
   ]
  },
  {
   "cell_type": "code",
   "execution_count": 18,
   "id": "523f4ba3-a91e-4935-a641-ffe8374a582b",
   "metadata": {},
   "outputs": [
    {
     "name": "stdout",
     "output_type": "stream",
     "text": [
      "Accuracy = 98.14053867012262 %\n"
     ]
    }
   ],
   "source": [
    "# Calculate accuracy as 1 - MAPE\n",
    "accuracy = 100 - mape\n",
    "print(\"Accuracy =\", accuracy, \"%\")"
   ]
  },
  {
   "cell_type": "code",
   "execution_count": 23,
   "id": "3d34b790-15e3-4fb1-881c-a839dbc8f2fd",
   "metadata": {},
   "outputs": [
    {
     "name": "stdout",
     "output_type": "stream",
     "text": [
      "Test MAE = 7.1278114\n"
     ]
    }
   ],
   "source": [
    "from sklearn.metrics import mean_absolute_error\n",
    "\n",
    "# Calculate MAE\n",
    "mae = mean_absolute_error(y_test_true, testPredict)\n",
    "print(\"Test MAE =\", mae)"
   ]
  },
  {
   "cell_type": "code",
   "execution_count": 19,
   "id": "7654b701-6ba9-4602-8611-59820b6311e4",
   "metadata": {},
   "outputs": [
    {
     "data": {
      "text/plain": [
       "array([[0.03694756, 0.03317951, 0.02794226, ..., 0.03766806, 0.03923149,\n",
       "        0.03445485],\n",
       "       [0.0138067 , 0.00865128, 0.00746845, ..., 0.02738076, 0.02239216,\n",
       "        0.01892924],\n",
       "       [0.0134774 , 0.00913968, 0.00722151, ..., 0.01842717, 0.0193835 ,\n",
       "        0.02048876],\n",
       "       ...,\n",
       "       [0.0702417 , 0.07939713, 0.0899758 , ..., 0.11903349, 0.10806515,\n",
       "        0.09589876],\n",
       "       [0.187272  , 0.16975799, 0.14258707, ..., 0.18327433, 0.18218207,\n",
       "        0.17423314],\n",
       "       [0.02621881, 0.02848161, 0.03056005, ..., 0.01186379, 0.01777488,\n",
       "        0.02196932]], dtype=float32)"
      ]
     },
     "execution_count": 19,
     "metadata": {},
     "output_type": "execute_result"
    }
   ],
   "source": [
    "forecast"
   ]
  },
  {
   "cell_type": "code",
   "execution_count": 20,
   "id": "7ea98a00-c789-49d3-bdfe-1c06c5364c33",
   "metadata": {},
   "outputs": [
    {
     "data": {
      "text/plain": [
       "array([[361.13   , 359.8173 , 357.99277, ..., 361.381  , 361.92566,\n",
       "        360.2616 ],\n",
       "       [353.0683 , 351.27225, 350.8602 , ..., 357.79715, 356.05927,\n",
       "        354.85284],\n",
       "       [352.95355, 351.4424 , 350.77417, ..., 354.67795, 355.0111 ,\n",
       "        355.39615],\n",
       "       ...,\n",
       "       [372.72888, 375.91843, 379.60376, ..., 389.72678, 385.90567,\n",
       "        381.66718],\n",
       "       [413.49942, 407.39795, 397.93225, ..., 412.10672, 411.72623,\n",
       "        408.957  ],\n",
       "       [357.39236, 358.18066, 358.90475, ..., 352.39142, 354.4507 ,\n",
       "        355.91196]], dtype=float32)"
      ]
     },
     "execution_count": 20,
     "metadata": {},
     "output_type": "execute_result"
    }
   ],
   "source": [
    "testPredict"
   ]
  },
  {
   "cell_type": "code",
   "execution_count": 21,
   "id": "4e4e0314-523d-408f-9858-83e62f6ef22e",
   "metadata": {},
   "outputs": [
    {
     "data": {
      "text/plain": [
       "array([[355.572  , 356.3136 , 357.06158, ..., 362.99432, 360.7056 ,\n",
       "        358.4169 ],\n",
       "       [350.94345, 350.93066, 350.91788, ..., 353.89062, 352.66318,\n",
       "        351.42932],\n",
       "       [354.12717, 353.02118, 351.9152 , ..., 353.60294, 353.7308 ,\n",
       "        353.85226],\n",
       "       ...,\n",
       "       [371.7272 , 375.416  , 379.11118, ..., 498.09204, 476.279  ,\n",
       "        454.46594],\n",
       "       [405.86606, 399.55612, 392.24887, ..., 401.80008, 404.67053,\n",
       "        404.44678],\n",
       "       [357.58582, 358.25708, 358.92834, ..., 352.70792, 355.59756,\n",
       "        358.48083]], dtype=float32)"
      ]
     },
     "execution_count": 21,
     "metadata": {},
     "output_type": "execute_result"
    }
   ],
   "source": [
    "y_test_true"
   ]
  },
  {
   "cell_type": "code",
   "execution_count": 44,
   "id": "edf52d50-1d2f-4349-9d8f-211475c57d2d",
   "metadata": {},
   "outputs": [],
   "source": [
    "import numpy as np\n",
    "\n",
    "def calculate_segment_rmse(predictions, actuals, segment_length=1):\n",
    "    num_segments = predictions.shape[1] // segment_length\n",
    "    rmses = []\n",
    "    \n",
    "    for i in range(num_segments):\n",
    "        start_idx = i * segment_length\n",
    "        end_idx = start_idx + segment_length\n",
    "        \n",
    "        # Extract the segment for both predictions and actuals\n",
    "        pred_segment = predictions[:, start_idx:end_idx]\n",
    "        actual_segment = actuals[:, start_idx:end_idx]\n",
    "        \n",
    "        # Calculate RMSE for this segment\n",
    "        segment_rmse = np.sqrt(mean_squared_error(actual_segment.flatten(), pred_segment.flatten()))\n",
    "        rmses.append(segment_rmse)\n",
    "    \n",
    "    return rmses"
   ]
  },
  {
   "cell_type": "code",
   "execution_count": 45,
   "id": "cf290f0a-74ca-45bc-90de-07bfc5a5d654",
   "metadata": {},
   "outputs": [
    {
     "name": "stdout",
     "output_type": "stream",
     "text": [
      "RMSE for segment 1: 3.1780\n",
      "RMSE for segment 2: 4.4285\n",
      "RMSE for segment 3: 5.5976\n",
      "RMSE for segment 4: 6.4963\n",
      "RMSE for segment 5: 7.2847\n",
      "RMSE for segment 6: 7.9633\n",
      "RMSE for segment 7: 8.5341\n",
      "RMSE for segment 8: 8.7907\n",
      "RMSE for segment 9: 9.1045\n",
      "RMSE for segment 10: 9.2716\n",
      "RMSE for segment 11: 9.3965\n",
      "RMSE for segment 12: 9.4698\n",
      "RMSE for segment 13: 9.6623\n",
      "RMSE for segment 14: 9.9495\n",
      "RMSE for segment 15: 10.3346\n",
      "RMSE for segment 16: 10.2894\n",
      "RMSE for segment 17: 10.1561\n",
      "RMSE for segment 18: 10.1354\n",
      "RMSE for segment 19: 10.0209\n",
      "RMSE for segment 20: 9.8053\n",
      "RMSE for segment 21: 9.6207\n",
      "RMSE for segment 22: 9.5756\n",
      "RMSE for segment 23: 9.6144\n",
      "RMSE for segment 24: 9.8953\n",
      "RMSE for segment 25: 10.3248\n",
      "RMSE for segment 26: 10.4398\n",
      "RMSE for segment 27: 10.6416\n",
      "RMSE for segment 28: 10.8633\n",
      "RMSE for segment 29: 11.2793\n",
      "RMSE for segment 30: 11.3096\n",
      "RMSE for segment 31: 11.2323\n",
      "RMSE for segment 32: 11.4933\n",
      "RMSE for segment 33: 12.0268\n",
      "RMSE for segment 34: 12.1790\n",
      "RMSE for segment 35: 11.8756\n",
      "RMSE for segment 36: 11.7014\n",
      "RMSE for segment 37: 11.6232\n",
      "RMSE for segment 38: 11.6110\n",
      "RMSE for segment 39: 11.6549\n",
      "RMSE for segment 40: 11.8784\n",
      "RMSE for segment 41: 12.0663\n",
      "RMSE for segment 42: 12.2554\n",
      "RMSE for segment 43: 12.5133\n",
      "RMSE for segment 44: 12.7449\n",
      "RMSE for segment 45: 13.0977\n",
      "RMSE for segment 46: 13.0652\n",
      "RMSE for segment 47: 13.0775\n",
      "RMSE for segment 48: 13.1594\n",
      "RMSE for segment 49: 13.0847\n",
      "RMSE for segment 50: 12.9107\n",
      "RMSE for segment 51: 12.8004\n",
      "RMSE for segment 52: 12.6817\n",
      "RMSE for segment 53: 12.5408\n",
      "RMSE for segment 54: 12.4901\n",
      "RMSE for segment 55: 12.5721\n",
      "RMSE for segment 56: 12.7116\n",
      "RMSE for segment 57: 12.7557\n",
      "RMSE for segment 58: 13.0657\n",
      "RMSE for segment 59: 12.9871\n",
      "RMSE for segment 60: 13.0930\n",
      "RMSE for segment 61: 12.8608\n",
      "RMSE for segment 62: 12.6570\n",
      "RMSE for segment 63: 12.7543\n",
      "RMSE for segment 64: 12.6182\n",
      "RMSE for segment 65: 12.7782\n",
      "RMSE for segment 66: 13.1932\n",
      "RMSE for segment 67: 13.3471\n",
      "RMSE for segment 68: 13.2646\n",
      "RMSE for segment 69: 13.3090\n",
      "RMSE for segment 70: 13.5799\n",
      "RMSE for segment 71: 14.0085\n",
      "RMSE for segment 72: 14.0731\n",
      "RMSE for segment 73: 14.2911\n",
      "RMSE for segment 74: 14.4980\n",
      "RMSE for segment 75: 14.5767\n",
      "RMSE for segment 76: 14.6400\n",
      "RMSE for segment 77: 14.6682\n",
      "RMSE for segment 78: 14.8214\n",
      "RMSE for segment 79: 14.9283\n",
      "RMSE for segment 80: 15.1650\n",
      "RMSE for segment 81: 15.1589\n",
      "RMSE for segment 82: 15.0173\n",
      "RMSE for segment 83: 14.8358\n",
      "RMSE for segment 84: 14.7824\n",
      "RMSE for segment 85: 14.8278\n",
      "RMSE for segment 86: 14.4738\n",
      "RMSE for segment 87: 14.2431\n",
      "RMSE for segment 88: 14.0397\n",
      "RMSE for segment 89: 13.8720\n",
      "RMSE for segment 90: 13.7539\n",
      "RMSE for segment 91: 13.6433\n",
      "RMSE for segment 92: 13.5092\n",
      "RMSE for segment 93: 13.4107\n",
      "RMSE for segment 94: 13.3548\n",
      "RMSE for segment 95: 13.3302\n",
      "RMSE for segment 96: 13.2799\n",
      "RMSE for segment 97: 13.3506\n",
      "RMSE for segment 98: 13.5924\n",
      "RMSE for segment 99: 13.9914\n",
      "RMSE for segment 100: 14.2866\n",
      "RMSE for segment 101: 14.6172\n",
      "RMSE for segment 102: 14.8315\n",
      "RMSE for segment 103: 14.7558\n",
      "RMSE for segment 104: 14.7927\n",
      "RMSE for segment 105: 14.6269\n",
      "RMSE for segment 106: 14.5467\n",
      "RMSE for segment 107: 14.3154\n",
      "RMSE for segment 108: 14.1744\n",
      "RMSE for segment 109: 14.1178\n",
      "RMSE for segment 110: 13.9941\n",
      "RMSE for segment 111: 14.1978\n",
      "RMSE for segment 112: 14.4995\n",
      "RMSE for segment 113: 14.9564\n",
      "RMSE for segment 114: 15.0507\n",
      "RMSE for segment 115: 15.1098\n",
      "RMSE for segment 116: 15.2974\n",
      "RMSE for segment 117: 15.3447\n",
      "RMSE for segment 118: 15.2453\n",
      "RMSE for segment 119: 15.0716\n",
      "RMSE for segment 120: 14.8886\n",
      "RMSE for segment 121: 14.7002\n",
      "RMSE for segment 122: 14.7479\n",
      "RMSE for segment 123: 14.9697\n",
      "RMSE for segment 124: 15.1086\n",
      "RMSE for segment 125: 14.8941\n",
      "RMSE for segment 126: 14.8056\n",
      "RMSE for segment 127: 14.6590\n",
      "RMSE for segment 128: 14.5880\n",
      "RMSE for segment 129: 14.3473\n",
      "RMSE for segment 130: 14.1708\n",
      "RMSE for segment 131: 14.0642\n",
      "RMSE for segment 132: 14.0173\n",
      "RMSE for segment 133: 13.9246\n",
      "RMSE for segment 134: 13.7665\n",
      "RMSE for segment 135: 13.8016\n",
      "RMSE for segment 136: 13.7867\n",
      "RMSE for segment 137: 13.8925\n",
      "RMSE for segment 138: 14.1271\n",
      "RMSE for segment 139: 14.4163\n",
      "RMSE for segment 140: 14.6899\n",
      "RMSE for segment 141: 14.6111\n",
      "RMSE for segment 142: 14.5295\n",
      "RMSE for segment 143: 14.3589\n",
      "RMSE for segment 144: 14.2658\n",
      "RMSE for segment 145: 14.1834\n",
      "RMSE for segment 146: 14.1586\n",
      "RMSE for segment 147: 14.0398\n",
      "RMSE for segment 148: 13.9270\n",
      "RMSE for segment 149: 13.7507\n",
      "RMSE for segment 150: 13.7242\n",
      "RMSE for segment 151: 13.8926\n",
      "RMSE for segment 152: 14.3998\n",
      "RMSE for segment 153: 14.9271\n",
      "RMSE for segment 154: 15.3006\n",
      "RMSE for segment 155: 15.3191\n",
      "RMSE for segment 156: 15.1836\n",
      "RMSE for segment 157: 14.9560\n",
      "RMSE for segment 158: 14.7923\n",
      "RMSE for segment 159: 14.9369\n",
      "RMSE for segment 160: 15.1632\n",
      "RMSE for segment 161: 15.3349\n",
      "RMSE for segment 162: 15.4591\n",
      "RMSE for segment 163: 15.6627\n",
      "RMSE for segment 164: 15.7329\n",
      "RMSE for segment 165: 15.7842\n",
      "RMSE for segment 166: 15.9221\n",
      "RMSE for segment 167: 16.2313\n",
      "RMSE for segment 168: 16.6913\n"
     ]
    }
   ],
   "source": [
    "segment_rmses = calculate_segment_rmse(testPredict, y_test_true)\n",
    "for i, rmse in enumerate(segment_rmses):\n",
    "    print(f\"RMSE for segment {i + 1}: {rmse:.4f}\")"
   ]
  },
  {
   "cell_type": "code",
   "execution_count": 43,
   "id": "85765500-cf61-4e8a-8763-69a8f1e567ca",
   "metadata": {},
   "outputs": [],
   "source": [
    "model.save(\"co_1dcnn.keras\")"
   ]
  }
 ],
 "metadata": {
  "kernelspec": {
   "display_name": "Python 3 (ipykernel)",
   "language": "python",
   "name": "python3"
  },
  "language_info": {
   "codemirror_mode": {
    "name": "ipython",
    "version": 3
   },
   "file_extension": ".py",
   "mimetype": "text/x-python",
   "name": "python",
   "nbconvert_exporter": "python",
   "pygments_lexer": "ipython3",
   "version": "3.11.0"
  }
 },
 "nbformat": 4,
 "nbformat_minor": 5
}
