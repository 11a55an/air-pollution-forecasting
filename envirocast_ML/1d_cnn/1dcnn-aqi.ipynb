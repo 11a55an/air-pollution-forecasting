{
 "cells": [
  {
   "cell_type": "code",
   "execution_count": 1,
   "id": "08a7b78b-1d09-454f-8ecc-7c4184ab2240",
   "metadata": {},
   "outputs": [],
   "source": [
    "import pandas as pd\n",
    "import numpy as np"
   ]
  },
  {
   "cell_type": "code",
   "execution_count": 2,
   "id": "c1570c26-8e22-4498-9fe6-68e055e504a9",
   "metadata": {},
   "outputs": [],
   "source": [
    "df = pd.read_csv(\"../data/data_imputed_3.csv\")"
   ]
  },
  {
   "cell_type": "code",
   "execution_count": 3,
   "id": "55868db8-2144-49a3-9531-e4bf0728f0a2",
   "metadata": {},
   "outputs": [
    {
     "data": {
      "text/html": [
       "<div>\n",
       "<style scoped>\n",
       "    .dataframe tbody tr th:only-of-type {\n",
       "        vertical-align: middle;\n",
       "    }\n",
       "\n",
       "    .dataframe tbody tr th {\n",
       "        vertical-align: top;\n",
       "    }\n",
       "\n",
       "    .dataframe thead th {\n",
       "        text-align: right;\n",
       "    }\n",
       "</style>\n",
       "<table border=\"1\" class=\"dataframe\">\n",
       "  <thead>\n",
       "    <tr style=\"text-align: right;\">\n",
       "      <th></th>\n",
       "      <th>timestamp_local</th>\n",
       "      <th>temp</th>\n",
       "      <th>aqi</th>\n",
       "      <th>co</th>\n",
       "      <th>no2</th>\n",
       "      <th>o3</th>\n",
       "      <th>pm10</th>\n",
       "      <th>pm25</th>\n",
       "      <th>so2</th>\n",
       "    </tr>\n",
       "  </thead>\n",
       "  <tbody>\n",
       "    <tr>\n",
       "      <th>0</th>\n",
       "      <td>01/02/2022 0:00</td>\n",
       "      <td>12.6</td>\n",
       "      <td>385</td>\n",
       "      <td>1339.8</td>\n",
       "      <td>76.0</td>\n",
       "      <td>10.7</td>\n",
       "      <td>491.7</td>\n",
       "      <td>347.67</td>\n",
       "      <td>238.0</td>\n",
       "    </tr>\n",
       "    <tr>\n",
       "      <th>1</th>\n",
       "      <td>01/02/2022 1:00</td>\n",
       "      <td>11.5</td>\n",
       "      <td>404</td>\n",
       "      <td>1437.6</td>\n",
       "      <td>76.0</td>\n",
       "      <td>9.3</td>\n",
       "      <td>508.3</td>\n",
       "      <td>359.33</td>\n",
       "      <td>268.0</td>\n",
       "    </tr>\n",
       "    <tr>\n",
       "      <th>2</th>\n",
       "      <td>01/02/2022 2:00</td>\n",
       "      <td>11.9</td>\n",
       "      <td>421</td>\n",
       "      <td>1535.5</td>\n",
       "      <td>76.0</td>\n",
       "      <td>8.0</td>\n",
       "      <td>525.0</td>\n",
       "      <td>371.00</td>\n",
       "      <td>298.0</td>\n",
       "    </tr>\n",
       "    <tr>\n",
       "      <th>3</th>\n",
       "      <td>01/02/2022 3:00</td>\n",
       "      <td>12.2</td>\n",
       "      <td>425</td>\n",
       "      <td>1659.0</td>\n",
       "      <td>68.3</td>\n",
       "      <td>5.3</td>\n",
       "      <td>529.3</td>\n",
       "      <td>374.00</td>\n",
       "      <td>275.7</td>\n",
       "    </tr>\n",
       "    <tr>\n",
       "      <th>4</th>\n",
       "      <td>01/02/2022 4:00</td>\n",
       "      <td>11.9</td>\n",
       "      <td>430</td>\n",
       "      <td>1782.5</td>\n",
       "      <td>60.7</td>\n",
       "      <td>2.7</td>\n",
       "      <td>533.7</td>\n",
       "      <td>377.00</td>\n",
       "      <td>253.3</td>\n",
       "    </tr>\n",
       "  </tbody>\n",
       "</table>\n",
       "</div>"
      ],
      "text/plain": [
       "   timestamp_local  temp  aqi      co   no2    o3   pm10    pm25    so2\n",
       "0  01/02/2022 0:00  12.6  385  1339.8  76.0  10.7  491.7  347.67  238.0\n",
       "1  01/02/2022 1:00  11.5  404  1437.6  76.0   9.3  508.3  359.33  268.0\n",
       "2  01/02/2022 2:00  11.9  421  1535.5  76.0   8.0  525.0  371.00  298.0\n",
       "3  01/02/2022 3:00  12.2  425  1659.0  68.3   5.3  529.3  374.00  275.7\n",
       "4  01/02/2022 4:00  11.9  430  1782.5  60.7   2.7  533.7  377.00  253.3"
      ]
     },
     "execution_count": 3,
     "metadata": {},
     "output_type": "execute_result"
    }
   ],
   "source": [
    "df.head()"
   ]
  },
  {
   "cell_type": "code",
   "execution_count": 5,
   "id": "d7e3c4f9-7208-48a1-bee4-1a89c09e2714",
   "metadata": {},
   "outputs": [],
   "source": [
    "data = df[['aqi']]"
   ]
  },
  {
   "cell_type": "code",
   "execution_count": 6,
   "id": "a2eedd5e-c6fa-43b7-9458-5deca00f11fb",
   "metadata": {},
   "outputs": [],
   "source": [
    "from sklearn.preprocessing import MinMaxScaler\n",
    "values = data.values\n",
    "\n",
    "values = values.astype('float32')\n",
    "\n",
    "scaler = MinMaxScaler(feature_range=(0, 1))\n",
    "scaled = scaler.fit_transform(values)"
   ]
  },
  {
   "cell_type": "code",
   "execution_count": 7,
   "id": "6769d15d-c80b-41b2-9b8a-70bd947bdf6b",
   "metadata": {},
   "outputs": [
    {
     "data": {
      "text/plain": [
       "(20978, 1)"
      ]
     },
     "execution_count": 7,
     "metadata": {},
     "output_type": "execute_result"
    }
   ],
   "source": [
    "scaled.shape"
   ]
  },
  {
   "cell_type": "code",
   "execution_count": 8,
   "id": "d93f3d70-328f-40a2-9403-0e22e9802560",
   "metadata": {},
   "outputs": [],
   "source": [
    "scaled = scaled.reshape((20978,))"
   ]
  },
  {
   "cell_type": "code",
   "execution_count": 9,
   "id": "09f5ccf2-8abf-4b08-8051-cb206ea52fad",
   "metadata": {},
   "outputs": [
    {
     "data": {
      "text/plain": [
       "(20978,)"
      ]
     },
     "execution_count": 9,
     "metadata": {},
     "output_type": "execute_result"
    }
   ],
   "source": [
    "scaled.shape"
   ]
  },
  {
   "cell_type": "code",
   "execution_count": 10,
   "id": "071ee44c-f600-41f6-9490-6cda18be3d8d",
   "metadata": {},
   "outputs": [],
   "source": [
    "def df_to_X_y(df, window_size, forecast_length):\n",
    "    # df_as_np = df.to_numpy()\n",
    "    X = []\n",
    "    y = []\n",
    "    \n",
    "    for i in range(len(df) - window_size - forecast_length):\n",
    "        row_x = [[a] for a in df[i:i+window_size]]\n",
    "        \n",
    "        X.append(row_x)\n",
    "        # row_y = df_as_np[i+window_size]\n",
    "        row_y = [b for b in df[i+window_size:i+window_size+forecast_length]]\n",
    "        \n",
    "        y.append(row_y)\n",
    "        \n",
    "    return np.array(X), np.array(y)"
   ]
  },
  {
   "cell_type": "code",
   "execution_count": 12,
   "id": "46cf13de-bc13-4332-87b0-a72d7a0a7ce8",
   "metadata": {},
   "outputs": [],
   "source": [
    "def train_test_split(X, y, test_size=0.2):\n",
    "    split_idx = int(len(X) * (1 - test_size))\n",
    "    X_train, X_test = X[:split_idx], X[split_idx:]\n",
    "    y_train, y_test = y[:split_idx], y[split_idx:]\n",
    "    return X_train, X_test, y_train, y_test"
   ]
  },
  {
   "cell_type": "code",
   "execution_count": 13,
   "id": "c118b905-bab3-4abf-b257-253d7ea2bb98",
   "metadata": {},
   "outputs": [],
   "source": [
    "WINDOW_WIDTH = 168\n",
    "FORECAST_LENGTH = 168\n",
    "X, y = df_to_X_y(scaled, WINDOW_WIDTH, FORECAST_LENGTH)\n",
    "\n",
    "\n",
    "X_train, X_test, y_train, y_test = train_test_split(X, y, test_size=0.2)\n",
    "X_train, X_val, y_train, y_val = train_test_split(X_train, y_train, test_size=0.2)\n",
    "\n",
    "X_max = X_train.max()\n",
    "X_min = X_train.min()"
   ]
  },
  {
   "cell_type": "code",
   "execution_count": 14,
   "id": "e7b85489-d3d6-4c17-8935-238402086eff",
   "metadata": {},
   "outputs": [],
   "source": [
    "# batchSize = 16\n",
    "from keras.models import Sequential, save_model, load_model\n",
    "from keras.layers import *\n",
    "from keras.callbacks import ReduceLROnPlateau, ModelCheckpoint\n",
    "from tensorflow.keras.optimizers import Adam\n",
    "from keras.losses import MeanSquaredError\n",
    "from keras.metrics import RootMeanSquaredError"
   ]
  },
  {
   "cell_type": "code",
   "execution_count": 15,
   "id": "3b6c5847-1cc5-4149-b349-ff4f5c638c90",
   "metadata": {},
   "outputs": [
    {
     "name": "stderr",
     "output_type": "stream",
     "text": [
      "C:\\Users\\Hassan\\AppData\\Local\\Programs\\Python\\Python311\\Lib\\site-packages\\keras\\src\\layers\\convolutional\\base_conv.py:99: UserWarning: Do not pass an `input_shape`/`input_dim` argument to a layer. When using Sequential models, prefer using an `Input(shape)` object as the first layer in the model instead.\n",
      "  super().__init__(\n"
     ]
    },
    {
     "data": {
      "text/html": [
       "<pre style=\"white-space:pre;overflow-x:auto;line-height:normal;font-family:Menlo,'DejaVu Sans Mono',consolas,'Courier New',monospace\"><span style=\"font-weight: bold\">Model: \"sequential\"</span>\n",
       "</pre>\n"
      ],
      "text/plain": [
       "\u001b[1mModel: \"sequential\"\u001b[0m\n"
      ]
     },
     "metadata": {},
     "output_type": "display_data"
    },
    {
     "data": {
      "text/html": [
       "<pre style=\"white-space:pre;overflow-x:auto;line-height:normal;font-family:Menlo,'DejaVu Sans Mono',consolas,'Courier New',monospace\">┏━━━━━━━━━━━━━━━━━━━━━━━━━━━━━━━━━━━━━━┳━━━━━━━━━━━━━━━━━━━━━━━━━━━━━┳━━━━━━━━━━━━━━━━━┓\n",
       "┃<span style=\"font-weight: bold\"> Layer (type)                         </span>┃<span style=\"font-weight: bold\"> Output Shape                </span>┃<span style=\"font-weight: bold\">         Param # </span>┃\n",
       "┡━━━━━━━━━━━━━━━━━━━━━━━━━━━━━━━━━━━━━━╇━━━━━━━━━━━━━━━━━━━━━━━━━━━━━╇━━━━━━━━━━━━━━━━━┩\n",
       "│ conv1d (<span style=\"color: #0087ff; text-decoration-color: #0087ff\">Conv1D</span>)                      │ (<span style=\"color: #00d7ff; text-decoration-color: #00d7ff\">None</span>, <span style=\"color: #00af00; text-decoration-color: #00af00\">166</span>, <span style=\"color: #00af00; text-decoration-color: #00af00\">8</span>)              │              <span style=\"color: #00af00; text-decoration-color: #00af00\">32</span> │\n",
       "├──────────────────────────────────────┼─────────────────────────────┼─────────────────┤\n",
       "│ flatten (<span style=\"color: #0087ff; text-decoration-color: #0087ff\">Flatten</span>)                    │ (<span style=\"color: #00d7ff; text-decoration-color: #00d7ff\">None</span>, <span style=\"color: #00af00; text-decoration-color: #00af00\">1328</span>)                │               <span style=\"color: #00af00; text-decoration-color: #00af00\">0</span> │\n",
       "├──────────────────────────────────────┼─────────────────────────────┼─────────────────┤\n",
       "│ dense (<span style=\"color: #0087ff; text-decoration-color: #0087ff\">Dense</span>)                        │ (<span style=\"color: #00d7ff; text-decoration-color: #00d7ff\">None</span>, <span style=\"color: #00af00; text-decoration-color: #00af00\">168</span>)                 │         <span style=\"color: #00af00; text-decoration-color: #00af00\">223,272</span> │\n",
       "└──────────────────────────────────────┴─────────────────────────────┴─────────────────┘\n",
       "</pre>\n"
      ],
      "text/plain": [
       "┏━━━━━━━━━━━━━━━━━━━━━━━━━━━━━━━━━━━━━━┳━━━━━━━━━━━━━━━━━━━━━━━━━━━━━┳━━━━━━━━━━━━━━━━━┓\n",
       "┃\u001b[1m \u001b[0m\u001b[1mLayer (type)                        \u001b[0m\u001b[1m \u001b[0m┃\u001b[1m \u001b[0m\u001b[1mOutput Shape               \u001b[0m\u001b[1m \u001b[0m┃\u001b[1m \u001b[0m\u001b[1m        Param #\u001b[0m\u001b[1m \u001b[0m┃\n",
       "┡━━━━━━━━━━━━━━━━━━━━━━━━━━━━━━━━━━━━━━╇━━━━━━━━━━━━━━━━━━━━━━━━━━━━━╇━━━━━━━━━━━━━━━━━┩\n",
       "│ conv1d (\u001b[38;5;33mConv1D\u001b[0m)                      │ (\u001b[38;5;45mNone\u001b[0m, \u001b[38;5;34m166\u001b[0m, \u001b[38;5;34m8\u001b[0m)              │              \u001b[38;5;34m32\u001b[0m │\n",
       "├──────────────────────────────────────┼─────────────────────────────┼─────────────────┤\n",
       "│ flatten (\u001b[38;5;33mFlatten\u001b[0m)                    │ (\u001b[38;5;45mNone\u001b[0m, \u001b[38;5;34m1328\u001b[0m)                │               \u001b[38;5;34m0\u001b[0m │\n",
       "├──────────────────────────────────────┼─────────────────────────────┼─────────────────┤\n",
       "│ dense (\u001b[38;5;33mDense\u001b[0m)                        │ (\u001b[38;5;45mNone\u001b[0m, \u001b[38;5;34m168\u001b[0m)                 │         \u001b[38;5;34m223,272\u001b[0m │\n",
       "└──────────────────────────────────────┴─────────────────────────────┴─────────────────┘\n"
      ]
     },
     "metadata": {},
     "output_type": "display_data"
    },
    {
     "data": {
      "text/html": [
       "<pre style=\"white-space:pre;overflow-x:auto;line-height:normal;font-family:Menlo,'DejaVu Sans Mono',consolas,'Courier New',monospace\"><span style=\"font-weight: bold\"> Total params: </span><span style=\"color: #00af00; text-decoration-color: #00af00\">223,304</span> (872.28 KB)\n",
       "</pre>\n"
      ],
      "text/plain": [
       "\u001b[1m Total params: \u001b[0m\u001b[38;5;34m223,304\u001b[0m (872.28 KB)\n"
      ]
     },
     "metadata": {},
     "output_type": "display_data"
    },
    {
     "data": {
      "text/html": [
       "<pre style=\"white-space:pre;overflow-x:auto;line-height:normal;font-family:Menlo,'DejaVu Sans Mono',consolas,'Courier New',monospace\"><span style=\"font-weight: bold\"> Trainable params: </span><span style=\"color: #00af00; text-decoration-color: #00af00\">223,304</span> (872.28 KB)\n",
       "</pre>\n"
      ],
      "text/plain": [
       "\u001b[1m Trainable params: \u001b[0m\u001b[38;5;34m223,304\u001b[0m (872.28 KB)\n"
      ]
     },
     "metadata": {},
     "output_type": "display_data"
    },
    {
     "data": {
      "text/html": [
       "<pre style=\"white-space:pre;overflow-x:auto;line-height:normal;font-family:Menlo,'DejaVu Sans Mono',consolas,'Courier New',monospace\"><span style=\"font-weight: bold\"> Non-trainable params: </span><span style=\"color: #00af00; text-decoration-color: #00af00\">0</span> (0.00 B)\n",
       "</pre>\n"
      ],
      "text/plain": [
       "\u001b[1m Non-trainable params: \u001b[0m\u001b[38;5;34m0\u001b[0m (0.00 B)\n"
      ]
     },
     "metadata": {},
     "output_type": "display_data"
    },
    {
     "name": "stdout",
     "output_type": "stream",
     "text": [
      "Epoch 1/50\n",
      "\u001b[1m413/413\u001b[0m \u001b[32m━━━━━━━━━━━━━━━━━━━━\u001b[0m\u001b[37m\u001b[0m \u001b[1m2s\u001b[0m 3ms/step - loss: 0.0143 - root_mean_squared_error: 0.1162 - val_loss: 0.0063 - val_root_mean_squared_error: 0.0787 - learning_rate: 0.0010\n",
      "Epoch 2/50\n",
      "\u001b[1m413/413\u001b[0m \u001b[32m━━━━━━━━━━━━━━━━━━━━\u001b[0m\u001b[37m\u001b[0m \u001b[1m1s\u001b[0m 3ms/step - loss: 0.0085 - root_mean_squared_error: 0.0919 - val_loss: 0.0059 - val_root_mean_squared_error: 0.0765 - learning_rate: 0.0010\n",
      "Epoch 3/50\n",
      "\u001b[1m413/413\u001b[0m \u001b[32m━━━━━━━━━━━━━━━━━━━━\u001b[0m\u001b[37m\u001b[0m \u001b[1m1s\u001b[0m 3ms/step - loss: 0.0082 - root_mean_squared_error: 0.0905 - val_loss: 0.0059 - val_root_mean_squared_error: 0.0765 - learning_rate: 0.0010\n",
      "Epoch 4/50\n",
      "\u001b[1m413/413\u001b[0m \u001b[32m━━━━━━━━━━━━━━━━━━━━\u001b[0m\u001b[37m\u001b[0m \u001b[1m1s\u001b[0m 3ms/step - loss: 0.0081 - root_mean_squared_error: 0.0898 - val_loss: 0.0058 - val_root_mean_squared_error: 0.0762 - learning_rate: 0.0010\n",
      "Epoch 5/50\n",
      "\u001b[1m413/413\u001b[0m \u001b[32m━━━━━━━━━━━━━━━━━━━━\u001b[0m\u001b[37m\u001b[0m \u001b[1m1s\u001b[0m 3ms/step - loss: 0.0081 - root_mean_squared_error: 0.0900 - val_loss: 0.0058 - val_root_mean_squared_error: 0.0761 - learning_rate: 0.0010\n",
      "Epoch 6/50\n",
      "\u001b[1m413/413\u001b[0m \u001b[32m━━━━━━━━━━━━━━━━━━━━\u001b[0m\u001b[37m\u001b[0m \u001b[1m1s\u001b[0m 3ms/step - loss: 0.0078 - root_mean_squared_error: 0.0884 - val_loss: 0.0060 - val_root_mean_squared_error: 0.0772 - learning_rate: 0.0010\n",
      "Epoch 7/50\n",
      "\u001b[1m413/413\u001b[0m \u001b[32m━━━━━━━━━━━━━━━━━━━━\u001b[0m\u001b[37m\u001b[0m \u001b[1m1s\u001b[0m 3ms/step - loss: 0.0079 - root_mean_squared_error: 0.0890 - val_loss: 0.0059 - val_root_mean_squared_error: 0.0765 - learning_rate: 0.0010\n",
      "Epoch 8/50\n",
      "\u001b[1m413/413\u001b[0m \u001b[32m━━━━━━━━━━━━━━━━━━━━\u001b[0m\u001b[37m\u001b[0m \u001b[1m1s\u001b[0m 3ms/step - loss: 0.0079 - root_mean_squared_error: 0.0888 - val_loss: 0.0060 - val_root_mean_squared_error: 0.0774 - learning_rate: 0.0010\n",
      "Epoch 9/50\n",
      "\u001b[1m413/413\u001b[0m \u001b[32m━━━━━━━━━━━━━━━━━━━━\u001b[0m\u001b[37m\u001b[0m \u001b[1m2s\u001b[0m 4ms/step - loss: 0.0078 - root_mean_squared_error: 0.0883 - val_loss: 0.0059 - val_root_mean_squared_error: 0.0763 - learning_rate: 0.0010\n",
      "Epoch 10/50\n",
      "\u001b[1m413/413\u001b[0m \u001b[32m━━━━━━━━━━━━━━━━━━━━\u001b[0m\u001b[37m\u001b[0m \u001b[1m1s\u001b[0m 3ms/step - loss: 0.0078 - root_mean_squared_error: 0.0885 - val_loss: 0.0059 - val_root_mean_squared_error: 0.0766 - learning_rate: 0.0010\n",
      "Epoch 11/50\n",
      "\u001b[1m413/413\u001b[0m \u001b[32m━━━━━━━━━━━━━━━━━━━━\u001b[0m\u001b[37m\u001b[0m \u001b[1m1s\u001b[0m 3ms/step - loss: 0.0077 - root_mean_squared_error: 0.0876 - val_loss: 0.0059 - val_root_mean_squared_error: 0.0764 - learning_rate: 0.0010\n",
      "Epoch 12/50\n",
      "\u001b[1m413/413\u001b[0m \u001b[32m━━━━━━━━━━━━━━━━━━━━\u001b[0m\u001b[37m\u001b[0m \u001b[1m2s\u001b[0m 4ms/step - loss: 0.0077 - root_mean_squared_error: 0.0878 - val_loss: 0.0060 - val_root_mean_squared_error: 0.0774 - learning_rate: 0.0010\n",
      "Epoch 13/50\n",
      "\u001b[1m413/413\u001b[0m \u001b[32m━━━━━━━━━━━━━━━━━━━━\u001b[0m\u001b[37m\u001b[0m \u001b[1m2s\u001b[0m 4ms/step - loss: 0.0074 - root_mean_squared_error: 0.0863 - val_loss: 0.0059 - val_root_mean_squared_error: 0.0764 - learning_rate: 1.0000e-04\n",
      "Epoch 14/50\n",
      "\u001b[1m413/413\u001b[0m \u001b[32m━━━━━━━━━━━━━━━━━━━━\u001b[0m\u001b[37m\u001b[0m \u001b[1m1s\u001b[0m 3ms/step - loss: 0.0077 - root_mean_squared_error: 0.0876 - val_loss: 0.0059 - val_root_mean_squared_error: 0.0765 - learning_rate: 1.0000e-04\n",
      "Epoch 15/50\n",
      "\u001b[1m413/413\u001b[0m \u001b[32m━━━━━━━━━━━━━━━━━━━━\u001b[0m\u001b[37m\u001b[0m \u001b[1m2s\u001b[0m 4ms/step - loss: 0.0075 - root_mean_squared_error: 0.0866 - val_loss: 0.0059 - val_root_mean_squared_error: 0.0767 - learning_rate: 1.0000e-04\n",
      "Epoch 16/50\n",
      "\u001b[1m413/413\u001b[0m \u001b[32m━━━━━━━━━━━━━━━━━━━━\u001b[0m\u001b[37m\u001b[0m \u001b[1m1s\u001b[0m 3ms/step - loss: 0.0076 - root_mean_squared_error: 0.0872 - val_loss: 0.0059 - val_root_mean_squared_error: 0.0764 - learning_rate: 1.0000e-04\n",
      "Epoch 17/50\n",
      "\u001b[1m413/413\u001b[0m \u001b[32m━━━━━━━━━━━━━━━━━━━━\u001b[0m\u001b[37m\u001b[0m \u001b[1m2s\u001b[0m 4ms/step - loss: 0.0075 - root_mean_squared_error: 0.0868 - val_loss: 0.0059 - val_root_mean_squared_error: 0.0764 - learning_rate: 1.0000e-04\n",
      "Epoch 18/50\n",
      "\u001b[1m413/413\u001b[0m \u001b[32m━━━━━━━━━━━━━━━━━━━━\u001b[0m\u001b[37m\u001b[0m \u001b[1m1s\u001b[0m 3ms/step - loss: 0.0074 - root_mean_squared_error: 0.0863 - val_loss: 0.0059 - val_root_mean_squared_error: 0.0764 - learning_rate: 1.0000e-04\n",
      "Epoch 19/50\n",
      "\u001b[1m413/413\u001b[0m \u001b[32m━━━━━━━━━━━━━━━━━━━━\u001b[0m\u001b[37m\u001b[0m \u001b[1m1s\u001b[0m 4ms/step - loss: 0.0075 - root_mean_squared_error: 0.0868 - val_loss: 0.0060 - val_root_mean_squared_error: 0.0769 - learning_rate: 1.0000e-04\n",
      "Epoch 20/50\n",
      "\u001b[1m413/413\u001b[0m \u001b[32m━━━━━━━━━━━━━━━━━━━━\u001b[0m\u001b[37m\u001b[0m \u001b[1m1s\u001b[0m 3ms/step - loss: 0.0075 - root_mean_squared_error: 0.0868 - val_loss: 0.0060 - val_root_mean_squared_error: 0.0770 - learning_rate: 1.0000e-04\n",
      "Epoch 21/50\n",
      "\u001b[1m413/413\u001b[0m \u001b[32m━━━━━━━━━━━━━━━━━━━━\u001b[0m\u001b[37m\u001b[0m \u001b[1m1s\u001b[0m 3ms/step - loss: 0.0075 - root_mean_squared_error: 0.0866 - val_loss: 0.0059 - val_root_mean_squared_error: 0.0768 - learning_rate: 1.0000e-04\n",
      "Epoch 22/50\n",
      "\u001b[1m413/413\u001b[0m \u001b[32m━━━━━━━━━━━━━━━━━━━━\u001b[0m\u001b[37m\u001b[0m \u001b[1m1s\u001b[0m 3ms/step - loss: 0.0075 - root_mean_squared_error: 0.0865 - val_loss: 0.0059 - val_root_mean_squared_error: 0.0765 - learning_rate: 1.0000e-04\n",
      "Epoch 23/50\n",
      "\u001b[1m413/413\u001b[0m \u001b[32m━━━━━━━━━━━━━━━━━━━━\u001b[0m\u001b[37m\u001b[0m \u001b[1m1s\u001b[0m 3ms/step - loss: 0.0075 - root_mean_squared_error: 0.0864 - val_loss: 0.0059 - val_root_mean_squared_error: 0.0764 - learning_rate: 1.0000e-05\n",
      "Epoch 24/50\n",
      "\u001b[1m413/413\u001b[0m \u001b[32m━━━━━━━━━━━━━━━━━━━━\u001b[0m\u001b[37m\u001b[0m \u001b[1m1s\u001b[0m 3ms/step - loss: 0.0074 - root_mean_squared_error: 0.0861 - val_loss: 0.0059 - val_root_mean_squared_error: 0.0765 - learning_rate: 1.0000e-05\n",
      "Epoch 25/50\n",
      "\u001b[1m413/413\u001b[0m \u001b[32m━━━━━━━━━━━━━━━━━━━━\u001b[0m\u001b[37m\u001b[0m \u001b[1m1s\u001b[0m 3ms/step - loss: 0.0075 - root_mean_squared_error: 0.0868 - val_loss: 0.0059 - val_root_mean_squared_error: 0.0766 - learning_rate: 1.0000e-05\n",
      "Epoch 26/50\n",
      "\u001b[1m413/413\u001b[0m \u001b[32m━━━━━━━━━━━━━━━━━━━━\u001b[0m\u001b[37m\u001b[0m \u001b[1m1s\u001b[0m 2ms/step - loss: 0.0075 - root_mean_squared_error: 0.0869 - val_loss: 0.0059 - val_root_mean_squared_error: 0.0767 - learning_rate: 1.0000e-05\n",
      "Epoch 27/50\n",
      "\u001b[1m413/413\u001b[0m \u001b[32m━━━━━━━━━━━━━━━━━━━━\u001b[0m\u001b[37m\u001b[0m \u001b[1m1s\u001b[0m 3ms/step - loss: 0.0075 - root_mean_squared_error: 0.0868 - val_loss: 0.0059 - val_root_mean_squared_error: 0.0766 - learning_rate: 1.0000e-05\n",
      "Epoch 28/50\n",
      "\u001b[1m413/413\u001b[0m \u001b[32m━━━━━━━━━━━━━━━━━━━━\u001b[0m\u001b[37m\u001b[0m \u001b[1m1s\u001b[0m 3ms/step - loss: 0.0074 - root_mean_squared_error: 0.0858 - val_loss: 0.0059 - val_root_mean_squared_error: 0.0765 - learning_rate: 1.0000e-05\n",
      "Epoch 29/50\n",
      "\u001b[1m413/413\u001b[0m \u001b[32m━━━━━━━━━━━━━━━━━━━━\u001b[0m\u001b[37m\u001b[0m \u001b[1m1s\u001b[0m 3ms/step - loss: 0.0074 - root_mean_squared_error: 0.0861 - val_loss: 0.0059 - val_root_mean_squared_error: 0.0765 - learning_rate: 1.0000e-05\n",
      "Epoch 30/50\n",
      "\u001b[1m413/413\u001b[0m \u001b[32m━━━━━━━━━━━━━━━━━━━━\u001b[0m\u001b[37m\u001b[0m \u001b[1m1s\u001b[0m 3ms/step - loss: 0.0075 - root_mean_squared_error: 0.0868 - val_loss: 0.0059 - val_root_mean_squared_error: 0.0766 - learning_rate: 1.0000e-05\n",
      "Epoch 31/50\n",
      "\u001b[1m413/413\u001b[0m \u001b[32m━━━━━━━━━━━━━━━━━━━━\u001b[0m\u001b[37m\u001b[0m \u001b[1m1s\u001b[0m 3ms/step - loss: 0.0075 - root_mean_squared_error: 0.0866 - val_loss: 0.0059 - val_root_mean_squared_error: 0.0765 - learning_rate: 1.0000e-05\n",
      "Epoch 32/50\n",
      "\u001b[1m413/413\u001b[0m \u001b[32m━━━━━━━━━━━━━━━━━━━━\u001b[0m\u001b[37m\u001b[0m \u001b[1m1s\u001b[0m 3ms/step - loss: 0.0074 - root_mean_squared_error: 0.0863 - val_loss: 0.0059 - val_root_mean_squared_error: 0.0765 - learning_rate: 1.0000e-05\n",
      "Epoch 33/50\n",
      "\u001b[1m413/413\u001b[0m \u001b[32m━━━━━━━━━━━━━━━━━━━━\u001b[0m\u001b[37m\u001b[0m \u001b[1m2s\u001b[0m 4ms/step - loss: 0.0075 - root_mean_squared_error: 0.0863 - val_loss: 0.0059 - val_root_mean_squared_error: 0.0765 - learning_rate: 1.0000e-06\n",
      "Epoch 34/50\n",
      "\u001b[1m413/413\u001b[0m \u001b[32m━━━━━━━━━━━━━━━━━━━━\u001b[0m\u001b[37m\u001b[0m \u001b[1m1s\u001b[0m 3ms/step - loss: 0.0075 - root_mean_squared_error: 0.0866 - val_loss: 0.0059 - val_root_mean_squared_error: 0.0765 - learning_rate: 1.0000e-06\n",
      "Epoch 35/50\n",
      "\u001b[1m413/413\u001b[0m \u001b[32m━━━━━━━━━━━━━━━━━━━━\u001b[0m\u001b[37m\u001b[0m \u001b[1m1s\u001b[0m 3ms/step - loss: 0.0075 - root_mean_squared_error: 0.0865 - val_loss: 0.0059 - val_root_mean_squared_error: 0.0765 - learning_rate: 1.0000e-06\n",
      "Epoch 36/50\n",
      "\u001b[1m413/413\u001b[0m \u001b[32m━━━━━━━━━━━━━━━━━━━━\u001b[0m\u001b[37m\u001b[0m \u001b[1m1s\u001b[0m 3ms/step - loss: 0.0075 - root_mean_squared_error: 0.0866 - val_loss: 0.0059 - val_root_mean_squared_error: 0.0765 - learning_rate: 1.0000e-06\n",
      "Epoch 37/50\n",
      "\u001b[1m413/413\u001b[0m \u001b[32m━━━━━━━━━━━━━━━━━━━━\u001b[0m\u001b[37m\u001b[0m \u001b[1m2s\u001b[0m 4ms/step - loss: 0.0075 - root_mean_squared_error: 0.0865 - val_loss: 0.0059 - val_root_mean_squared_error: 0.0765 - learning_rate: 1.0000e-06\n",
      "Epoch 38/50\n",
      "\u001b[1m413/413\u001b[0m \u001b[32m━━━━━━━━━━━━━━━━━━━━\u001b[0m\u001b[37m\u001b[0m \u001b[1m1s\u001b[0m 3ms/step - loss: 0.0075 - root_mean_squared_error: 0.0863 - val_loss: 0.0059 - val_root_mean_squared_error: 0.0765 - learning_rate: 1.0000e-06\n",
      "Epoch 39/50\n",
      "\u001b[1m413/413\u001b[0m \u001b[32m━━━━━━━━━━━━━━━━━━━━\u001b[0m\u001b[37m\u001b[0m \u001b[1m1s\u001b[0m 3ms/step - loss: 0.0074 - root_mean_squared_error: 0.0863 - val_loss: 0.0059 - val_root_mean_squared_error: 0.0765 - learning_rate: 1.0000e-06\n",
      "Epoch 40/50\n",
      "\u001b[1m413/413\u001b[0m \u001b[32m━━━━━━━━━━━━━━━━━━━━\u001b[0m\u001b[37m\u001b[0m \u001b[1m1s\u001b[0m 3ms/step - loss: 0.0075 - root_mean_squared_error: 0.0863 - val_loss: 0.0059 - val_root_mean_squared_error: 0.0765 - learning_rate: 1.0000e-06\n",
      "Epoch 41/50\n",
      "\u001b[1m413/413\u001b[0m \u001b[32m━━━━━━━━━━━━━━━━━━━━\u001b[0m\u001b[37m\u001b[0m \u001b[1m1s\u001b[0m 3ms/step - loss: 0.0075 - root_mean_squared_error: 0.0865 - val_loss: 0.0059 - val_root_mean_squared_error: 0.0765 - learning_rate: 1.0000e-06\n",
      "Epoch 42/50\n",
      "\u001b[1m413/413\u001b[0m \u001b[32m━━━━━━━━━━━━━━━━━━━━\u001b[0m\u001b[37m\u001b[0m \u001b[1m1s\u001b[0m 3ms/step - loss: 0.0075 - root_mean_squared_error: 0.0866 - val_loss: 0.0059 - val_root_mean_squared_error: 0.0765 - learning_rate: 1.0000e-06\n",
      "Epoch 43/50\n",
      "\u001b[1m413/413\u001b[0m \u001b[32m━━━━━━━━━━━━━━━━━━━━\u001b[0m\u001b[37m\u001b[0m \u001b[1m1s\u001b[0m 3ms/step - loss: 0.0074 - root_mean_squared_error: 0.0859 - val_loss: 0.0059 - val_root_mean_squared_error: 0.0765 - learning_rate: 1.0000e-07\n",
      "Epoch 44/50\n",
      "\u001b[1m413/413\u001b[0m \u001b[32m━━━━━━━━━━━━━━━━━━━━\u001b[0m\u001b[37m\u001b[0m \u001b[1m1s\u001b[0m 3ms/step - loss: 0.0074 - root_mean_squared_error: 0.0860 - val_loss: 0.0059 - val_root_mean_squared_error: 0.0765 - learning_rate: 1.0000e-07\n",
      "Epoch 45/50\n",
      "\u001b[1m413/413\u001b[0m \u001b[32m━━━━━━━━━━━━━━━━━━━━\u001b[0m\u001b[37m\u001b[0m \u001b[1m1s\u001b[0m 3ms/step - loss: 0.0075 - root_mean_squared_error: 0.0864 - val_loss: 0.0059 - val_root_mean_squared_error: 0.0765 - learning_rate: 1.0000e-07\n",
      "Epoch 46/50\n",
      "\u001b[1m413/413\u001b[0m \u001b[32m━━━━━━━━━━━━━━━━━━━━\u001b[0m\u001b[37m\u001b[0m \u001b[1m1s\u001b[0m 4ms/step - loss: 0.0074 - root_mean_squared_error: 0.0863 - val_loss: 0.0059 - val_root_mean_squared_error: 0.0765 - learning_rate: 1.0000e-07\n",
      "Epoch 47/50\n",
      "\u001b[1m413/413\u001b[0m \u001b[32m━━━━━━━━━━━━━━━━━━━━\u001b[0m\u001b[37m\u001b[0m \u001b[1m1s\u001b[0m 3ms/step - loss: 0.0075 - root_mean_squared_error: 0.0865 - val_loss: 0.0059 - val_root_mean_squared_error: 0.0765 - learning_rate: 1.0000e-07\n",
      "Epoch 48/50\n",
      "\u001b[1m413/413\u001b[0m \u001b[32m━━━━━━━━━━━━━━━━━━━━\u001b[0m\u001b[37m\u001b[0m \u001b[1m1s\u001b[0m 3ms/step - loss: 0.0074 - root_mean_squared_error: 0.0861 - val_loss: 0.0059 - val_root_mean_squared_error: 0.0765 - learning_rate: 1.0000e-07\n",
      "Epoch 49/50\n",
      "\u001b[1m413/413\u001b[0m \u001b[32m━━━━━━━━━━━━━━━━━━━━\u001b[0m\u001b[37m\u001b[0m \u001b[1m1s\u001b[0m 3ms/step - loss: 0.0075 - root_mean_squared_error: 0.0865 - val_loss: 0.0059 - val_root_mean_squared_error: 0.0765 - learning_rate: 1.0000e-07\n",
      "Epoch 50/50\n",
      "\u001b[1m413/413\u001b[0m \u001b[32m━━━━━━━━━━━━━━━━━━━━\u001b[0m\u001b[37m\u001b[0m \u001b[1m1s\u001b[0m 3ms/step - loss: 0.0074 - root_mean_squared_error: 0.0861 - val_loss: 0.0059 - val_root_mean_squared_error: 0.0765 - learning_rate: 1.0000e-07\n"
     ]
    }
   ],
   "source": [
    "normalizer = Normalization()\n",
    "normalizer.adapt(X_train)\n",
    "rlrop = ReduceLROnPlateau(monitor='val_loss', factor=0.1, patience=10)\n",
    "\n",
    "model = Sequential()\n",
    "# 1D Convolutional layers\n",
    "model.add(Conv1D(filters=8, kernel_size=3, activation='relu', input_shape=X_train.shape[1:]))\n",
    "# model.add(Conv1D(filters=64, kernel_size=3, activation='relu'))\n",
    "# model.add(Conv1D(filters=32, kernel_size=3, activation='relu'))\n",
    "# Flatten the output of the Conv layers\n",
    "model.add(Flatten())\n",
    "# model.add(LSTM(input_shape = X_train.shape[1:], units=86, return_sequences=True))\n",
    "# model.add(LSTM(units=64, return_sequences=True))\n",
    "# model.add(GRU(units=86, return_sequences=True))\n",
    "# model.add(LSTM(units=128, return_sequences=True))\n",
    "# model.add(GRU(units=100, return_sequences=True))\n",
    "# model.add(LSTM(units=100, return_sequences=False))\n",
    "# model.add(Dense(units=100,  activation='relu'))\n",
    "# model.add(Dense(8, activation='relu'))\n",
    "\n",
    "model.add(Dense(units=FORECAST_LENGTH, activation='linear'))\n",
    "\n",
    "model.summary()\n",
    "\n",
    "model.compile(optimizer=Adam(learning_rate=0.001), metrics=[RootMeanSquaredError()] , loss=MeanSquaredError())\n",
    "\n",
    "history = model.fit(X_train, y_train, validation_data=(X_val,y_val), epochs=50, callbacks=[rlrop])\n",
    "\n",
    "# score = model.evaluate(X_test, y_test, verbose = 1)"
   ]
  },
  {
   "cell_type": "code",
   "execution_count": 16,
   "id": "5674b419-12bd-4a4e-a83d-2438ae813939",
   "metadata": {},
   "outputs": [
    {
     "name": "stdout",
     "output_type": "stream",
     "text": [
      "\u001b[1m130/130\u001b[0m \u001b[32m━━━━━━━━━━━━━━━━━━━━\u001b[0m\u001b[37m\u001b[0m \u001b[1m0s\u001b[0m 1ms/step\n"
     ]
    }
   ],
   "source": [
    "forecast = model.predict(X_test)"
   ]
  },
  {
   "cell_type": "code",
   "execution_count": 17,
   "id": "abb7c26e-b6e8-4526-aa4e-9180825c9d51",
   "metadata": {},
   "outputs": [],
   "source": [
    "poll = np.array(df[\"aqi\"])\n",
    "\n",
    "meanop = poll.mean()\n",
    "stdop = poll.std()\n",
    "\n",
    "y_test_true = y_test*stdop + meanop\n",
    "testPredict = forecast*stdop + meanop"
   ]
  },
  {
   "cell_type": "code",
   "execution_count": 18,
   "id": "cccf66c7-77a1-483d-8b28-e5df8056b4b6",
   "metadata": {},
   "outputs": [],
   "source": [
    "from sklearn.metrics import mean_squared_error"
   ]
  },
  {
   "cell_type": "code",
   "execution_count": 19,
   "id": "3e3a186b-a281-4964-9581-f8f73931e019",
   "metadata": {},
   "outputs": [
    {
     "name": "stdout",
     "output_type": "stream",
     "text": [
      "Test RMSE = 4.5698357\n"
     ]
    }
   ],
   "source": [
    "rmse = np.sqrt(mean_squared_error(y_test_true, testPredict))\n",
    "print(\"Test RMSE =\"  ,rmse)"
   ]
  },
  {
   "cell_type": "code",
   "execution_count": 20,
   "id": "36ea54f5-1e34-4d2c-908f-ca3921ec43dd",
   "metadata": {},
   "outputs": [
    {
     "name": "stdout",
     "output_type": "stream",
     "text": [
      "Test MAPE = 2.179250307381153\n"
     ]
    }
   ],
   "source": [
    "# Calculate MAPE\n",
    "mape = np.mean(np.abs((y_test_true - testPredict) / y_test_true)) * 100\n",
    "print(\"Test MAPE =\", mape)"
   ]
  },
  {
   "cell_type": "code",
   "execution_count": 21,
   "id": "df991d3e-1a8a-48e0-a252-e776cd86cdbc",
   "metadata": {},
   "outputs": [
    {
     "name": "stdout",
     "output_type": "stream",
     "text": [
      "Accuracy = 97.82074969261885 %\n"
     ]
    }
   ],
   "source": [
    "# Calculate accuracy as 1 - MAPE\n",
    "accuracy = 100 - mape\n",
    "print(\"Accuracy =\", accuracy, \"%\")"
   ]
  },
  {
   "cell_type": "code",
   "execution_count": 22,
   "id": "be1397a0-61d5-481e-a951-fb6d30664948",
   "metadata": {},
   "outputs": [
    {
     "name": "stdout",
     "output_type": "stream",
     "text": [
      "Test MAE = 3.554779\n"
     ]
    }
   ],
   "source": [
    "from sklearn.metrics import mean_absolute_error\n",
    "\n",
    "# Calculate MAE\n",
    "mae = mean_absolute_error(y_test_true, testPredict)\n",
    "print(\"Test MAE =\", mae)"
   ]
  },
  {
   "cell_type": "code",
   "execution_count": 23,
   "id": "7654b701-6ba9-4602-8611-59820b6311e4",
   "metadata": {},
   "outputs": [
    {
     "data": {
      "text/plain": [
       "array([[0.39407456, 0.37053648, 0.3643689 , ..., 0.34418464, 0.332134  ,\n",
       "        0.34136724],\n",
       "       [0.35893464, 0.3555043 , 0.3952383 , ..., 0.33646718, 0.34552473,\n",
       "        0.33744895],\n",
       "       [0.3568992 , 0.39295065, 0.40369314, ..., 0.34310958, 0.33632708,\n",
       "        0.33412918],\n",
       "       ...,\n",
       "       [0.09757732, 0.11165283, 0.11279416, ..., 0.12293139, 0.11700513,\n",
       "        0.12039022],\n",
       "       [0.09663095, 0.10452829, 0.11039461, ..., 0.11661612, 0.12020627,\n",
       "        0.12451528],\n",
       "       [0.09534045, 0.10364802, 0.11180894, ..., 0.1194696 , 0.12369837,\n",
       "        0.13182202]], dtype=float32)"
      ]
     },
     "execution_count": 23,
     "metadata": {},
     "output_type": "execute_result"
    }
   ],
   "source": [
    "forecast"
   ]
  },
  {
   "cell_type": "code",
   "execution_count": 24,
   "id": "7ea98a00-c789-49d3-bdfe-1c06c5364c33",
   "metadata": {},
   "outputs": [
    {
     "data": {
      "text/plain": [
       "array([[175.10715, 173.67197, 173.29591, ..., 172.06522, 171.33046,\n",
       "        171.89343],\n",
       "       [172.96457, 172.7554 , 175.1781 , ..., 171.59467, 172.14693,\n",
       "        171.65453],\n",
       "       [172.84045, 175.03862, 175.69362, ..., 171.99966, 171.58612,\n",
       "        171.4521 ],\n",
       "       ...,\n",
       "       [157.02884, 157.88707, 157.95667, ..., 158.57475, 158.21341,\n",
       "        158.41982],\n",
       "       [156.97115, 157.45267, 157.81035, ..., 158.1897 , 158.4086 ,\n",
       "        158.67133],\n",
       "       [156.89246, 157.39899, 157.89659, ..., 158.36368, 158.62152,\n",
       "        159.11685]], dtype=float32)"
      ]
     },
     "execution_count": 24,
     "metadata": {},
     "output_type": "execute_result"
    }
   ],
   "source": [
    "testPredict"
   ]
  },
  {
   "cell_type": "code",
   "execution_count": 25,
   "id": "4e4e0314-523d-408f-9858-83e62f6ef22e",
   "metadata": {},
   "outputs": [
    {
     "data": {
      "text/plain": [
       "array([[173.9278 , 173.5361 , 173.27498, ..., 168.83585, 169.22752,\n",
       "        169.61922],\n",
       "       [173.5361 , 173.27498, 172.8833 , ..., 169.22752, 169.61922,\n",
       "        170.01091],\n",
       "       [173.27498, 172.8833 , 174.45006, ..., 169.61922, 170.01091,\n",
       "        169.22752],\n",
       "       ...,\n",
       "       [155.64897, 155.77954, 155.77954, ..., 157.99911, 158.78249,\n",
       "        159.56587],\n",
       "       [155.77954, 155.77954, 156.17123, ..., 158.78249, 159.56587,\n",
       "        159.56587],\n",
       "       [155.77954, 156.17123, 156.56291, ..., 159.56587, 159.56587,\n",
       "        159.69643]], dtype=float32)"
      ]
     },
     "execution_count": 25,
     "metadata": {},
     "output_type": "execute_result"
    }
   ],
   "source": [
    "y_test_true"
   ]
  },
  {
   "cell_type": "code",
   "execution_count": 26,
   "id": "5b475fa9-3bff-4eb3-8a59-5d79be3c85f8",
   "metadata": {},
   "outputs": [],
   "source": [
    "import numpy as np\n",
    "\n",
    "def calculate_segment_rmse(predictions, actuals, segment_length=1):\n",
    "    num_segments = predictions.shape[1] // segment_length\n",
    "    rmses = []\n",
    "    \n",
    "    for i in range(num_segments):\n",
    "        start_idx = i * segment_length\n",
    "        end_idx = start_idx + segment_length\n",
    "        \n",
    "        # Extract the segment for both predictions and actuals\n",
    "        pred_segment = predictions[:, start_idx:end_idx]\n",
    "        actual_segment = actuals[:, start_idx:end_idx]\n",
    "        \n",
    "        # Calculate RMSE for this segment\n",
    "        segment_rmse = np.sqrt(mean_squared_error(actual_segment.flatten(), pred_segment.flatten()))\n",
    "        rmses.append(segment_rmse)\n",
    "    \n",
    "    return rmses"
   ]
  },
  {
   "cell_type": "code",
   "execution_count": 27,
   "id": "5cd634f5-995f-4a2b-a7c4-500cefae9921",
   "metadata": {},
   "outputs": [
    {
     "name": "stdout",
     "output_type": "stream",
     "text": [
      "RMSE for segment 1: 2.0341\n",
      "RMSE for segment 2: 2.5859\n",
      "RMSE for segment 3: 2.9526\n",
      "RMSE for segment 4: 3.1901\n",
      "RMSE for segment 5: 3.3531\n",
      "RMSE for segment 6: 3.4528\n",
      "RMSE for segment 7: 3.5380\n",
      "RMSE for segment 8: 3.6082\n",
      "RMSE for segment 9: 3.6480\n",
      "RMSE for segment 10: 3.6954\n",
      "RMSE for segment 11: 3.7318\n",
      "RMSE for segment 12: 3.7530\n",
      "RMSE for segment 13: 3.7717\n",
      "RMSE for segment 14: 3.7876\n",
      "RMSE for segment 15: 3.8016\n",
      "RMSE for segment 16: 3.8144\n",
      "RMSE for segment 17: 3.8169\n",
      "RMSE for segment 18: 3.8212\n",
      "RMSE for segment 19: 3.8405\n",
      "RMSE for segment 20: 3.8424\n",
      "RMSE for segment 21: 3.8329\n",
      "RMSE for segment 22: 3.8395\n",
      "RMSE for segment 23: 3.8379\n",
      "RMSE for segment 24: 3.8707\n",
      "RMSE for segment 25: 3.9250\n",
      "RMSE for segment 26: 3.9980\n",
      "RMSE for segment 27: 4.0602\n",
      "RMSE for segment 28: 4.1127\n",
      "RMSE for segment 29: 4.1473\n",
      "RMSE for segment 30: 4.1648\n",
      "RMSE for segment 31: 4.1971\n",
      "RMSE for segment 32: 4.2324\n",
      "RMSE for segment 33: 4.2420\n",
      "RMSE for segment 34: 4.2747\n",
      "RMSE for segment 35: 4.2913\n",
      "RMSE for segment 36: 4.3030\n",
      "RMSE for segment 37: 4.3158\n",
      "RMSE for segment 38: 4.3135\n",
      "RMSE for segment 39: 4.3149\n",
      "RMSE for segment 40: 4.3265\n",
      "RMSE for segment 41: 4.3162\n",
      "RMSE for segment 42: 4.3176\n",
      "RMSE for segment 43: 4.3193\n",
      "RMSE for segment 44: 4.3252\n",
      "RMSE for segment 45: 4.3284\n",
      "RMSE for segment 46: 4.3365\n",
      "RMSE for segment 47: 4.3419\n",
      "RMSE for segment 48: 4.3427\n",
      "RMSE for segment 49: 4.3744\n",
      "RMSE for segment 50: 4.4042\n",
      "RMSE for segment 51: 4.4425\n",
      "RMSE for segment 52: 4.4762\n",
      "RMSE for segment 53: 4.4953\n",
      "RMSE for segment 54: 4.5158\n",
      "RMSE for segment 55: 4.5230\n",
      "RMSE for segment 56: 4.5324\n",
      "RMSE for segment 57: 4.5515\n",
      "RMSE for segment 58: 4.5507\n",
      "RMSE for segment 59: 4.5596\n",
      "RMSE for segment 60: 4.5607\n",
      "RMSE for segment 61: 4.5648\n",
      "RMSE for segment 62: 4.5641\n",
      "RMSE for segment 63: 4.5620\n",
      "RMSE for segment 64: 4.5616\n",
      "RMSE for segment 65: 4.5585\n",
      "RMSE for segment 66: 4.5636\n",
      "RMSE for segment 67: 4.5550\n",
      "RMSE for segment 68: 4.5511\n",
      "RMSE for segment 69: 4.5557\n",
      "RMSE for segment 70: 4.5602\n",
      "RMSE for segment 71: 4.5640\n",
      "RMSE for segment 72: 4.5760\n",
      "RMSE for segment 73: 4.5829\n",
      "RMSE for segment 74: 4.5952\n",
      "RMSE for segment 75: 4.6168\n",
      "RMSE for segment 76: 4.6207\n",
      "RMSE for segment 77: 4.6315\n",
      "RMSE for segment 78: 4.6458\n",
      "RMSE for segment 79: 4.6546\n",
      "RMSE for segment 80: 4.6673\n",
      "RMSE for segment 81: 4.6652\n",
      "RMSE for segment 82: 4.6700\n",
      "RMSE for segment 83: 4.6740\n",
      "RMSE for segment 84: 4.6830\n",
      "RMSE for segment 85: 4.6795\n",
      "RMSE for segment 86: 4.6882\n",
      "RMSE for segment 87: 4.6927\n",
      "RMSE for segment 88: 4.6829\n",
      "RMSE for segment 89: 4.6869\n",
      "RMSE for segment 90: 4.6873\n",
      "RMSE for segment 91: 4.6845\n",
      "RMSE for segment 92: 4.6992\n",
      "RMSE for segment 93: 4.6998\n",
      "RMSE for segment 94: 4.7117\n",
      "RMSE for segment 95: 4.7092\n",
      "RMSE for segment 96: 4.7121\n",
      "RMSE for segment 97: 4.7267\n",
      "RMSE for segment 98: 4.7479\n",
      "RMSE for segment 99: 4.7557\n",
      "RMSE for segment 100: 4.7756\n",
      "RMSE for segment 101: 4.7802\n",
      "RMSE for segment 102: 4.8001\n",
      "RMSE for segment 103: 4.8162\n",
      "RMSE for segment 104: 4.8302\n",
      "RMSE for segment 105: 4.8328\n",
      "RMSE for segment 106: 4.8444\n",
      "RMSE for segment 107: 4.8438\n",
      "RMSE for segment 108: 4.8496\n",
      "RMSE for segment 109: 4.8524\n",
      "RMSE for segment 110: 4.8498\n",
      "RMSE for segment 111: 4.8462\n",
      "RMSE for segment 112: 4.8434\n",
      "RMSE for segment 113: 4.8414\n",
      "RMSE for segment 114: 4.8392\n",
      "RMSE for segment 115: 4.8342\n",
      "RMSE for segment 116: 4.8389\n",
      "RMSE for segment 117: 4.8330\n",
      "RMSE for segment 118: 4.8441\n",
      "RMSE for segment 119: 4.8482\n",
      "RMSE for segment 120: 4.8454\n",
      "RMSE for segment 121: 4.8475\n",
      "RMSE for segment 122: 4.8663\n",
      "RMSE for segment 123: 4.8721\n",
      "RMSE for segment 124: 4.8794\n",
      "RMSE for segment 125: 4.8889\n",
      "RMSE for segment 126: 4.8978\n",
      "RMSE for segment 127: 4.9053\n",
      "RMSE for segment 128: 4.9103\n",
      "RMSE for segment 129: 4.9174\n",
      "RMSE for segment 130: 4.9191\n",
      "RMSE for segment 131: 4.9330\n",
      "RMSE for segment 132: 4.9330\n",
      "RMSE for segment 133: 4.9346\n",
      "RMSE for segment 134: 4.9380\n",
      "RMSE for segment 135: 4.9385\n",
      "RMSE for segment 136: 4.9403\n",
      "RMSE for segment 137: 4.9416\n",
      "RMSE for segment 138: 4.9494\n",
      "RMSE for segment 139: 4.9423\n",
      "RMSE for segment 140: 4.9501\n",
      "RMSE for segment 141: 4.9456\n",
      "RMSE for segment 142: 4.9483\n",
      "RMSE for segment 143: 4.9568\n",
      "RMSE for segment 144: 4.9605\n",
      "RMSE for segment 145: 4.9652\n",
      "RMSE for segment 146: 4.9711\n",
      "RMSE for segment 147: 4.9886\n",
      "RMSE for segment 148: 5.0010\n",
      "RMSE for segment 149: 5.0099\n",
      "RMSE for segment 150: 5.0131\n",
      "RMSE for segment 151: 5.0297\n",
      "RMSE for segment 152: 5.0431\n",
      "RMSE for segment 153: 5.0480\n",
      "RMSE for segment 154: 5.0626\n",
      "RMSE for segment 155: 5.0646\n",
      "RMSE for segment 156: 5.0619\n",
      "RMSE for segment 157: 5.0658\n",
      "RMSE for segment 158: 5.0671\n",
      "RMSE for segment 159: 5.0724\n",
      "RMSE for segment 160: 5.0773\n",
      "RMSE for segment 161: 5.0854\n",
      "RMSE for segment 162: 5.0784\n",
      "RMSE for segment 163: 5.0824\n",
      "RMSE for segment 164: 5.0756\n",
      "RMSE for segment 165: 5.0799\n",
      "RMSE for segment 166: 5.0862\n",
      "RMSE for segment 167: 5.0855\n",
      "RMSE for segment 168: 5.0858\n"
     ]
    }
   ],
   "source": [
    "segment_rmses = calculate_segment_rmse(testPredict, y_test_true)\n",
    "for i, rmse in enumerate(segment_rmses):\n",
    "    print(f\"RMSE for segment {i + 1}: {rmse:.4f}\")"
   ]
  },
  {
   "cell_type": "code",
   "execution_count": 28,
   "id": "392e0b44-43bb-4879-8eff-fd993b347127",
   "metadata": {},
   "outputs": [],
   "source": [
    "model.save(\"aqi_1dcnn.keras\")"
   ]
  }
 ],
 "metadata": {
  "kernelspec": {
   "display_name": "Python 3 (ipykernel)",
   "language": "python",
   "name": "python3"
  },
  "language_info": {
   "codemirror_mode": {
    "name": "ipython",
    "version": 3
   },
   "file_extension": ".py",
   "mimetype": "text/x-python",
   "name": "python",
   "nbconvert_exporter": "python",
   "pygments_lexer": "ipython3",
   "version": "3.11.0"
  }
 },
 "nbformat": 4,
 "nbformat_minor": 5
}
