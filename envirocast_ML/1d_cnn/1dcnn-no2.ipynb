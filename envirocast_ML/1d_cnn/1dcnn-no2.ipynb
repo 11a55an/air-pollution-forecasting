{
 "cells": [
  {
   "cell_type": "code",
   "execution_count": 24,
   "id": "08a7b78b-1d09-454f-8ecc-7c4184ab2240",
   "metadata": {},
   "outputs": [],
   "source": [
    "import pandas as pd\n",
    "import numpy as np"
   ]
  },
  {
   "cell_type": "code",
   "execution_count": 25,
   "id": "c1570c26-8e22-4498-9fe6-68e055e504a9",
   "metadata": {},
   "outputs": [],
   "source": [
    "df = pd.read_csv(\"../data/data_imputed_2.csv\")"
   ]
  },
  {
   "cell_type": "code",
   "execution_count": 26,
   "id": "55868db8-2144-49a3-9531-e4bf0728f0a2",
   "metadata": {},
   "outputs": [
    {
     "data": {
      "text/html": [
       "<div>\n",
       "<style scoped>\n",
       "    .dataframe tbody tr th:only-of-type {\n",
       "        vertical-align: middle;\n",
       "    }\n",
       "\n",
       "    .dataframe tbody tr th {\n",
       "        vertical-align: top;\n",
       "    }\n",
       "\n",
       "    .dataframe thead th {\n",
       "        text-align: right;\n",
       "    }\n",
       "</style>\n",
       "<table border=\"1\" class=\"dataframe\">\n",
       "  <thead>\n",
       "    <tr style=\"text-align: right;\">\n",
       "      <th></th>\n",
       "      <th>timestamp_local</th>\n",
       "      <th>temp</th>\n",
       "      <th>city_name</th>\n",
       "      <th>country_code</th>\n",
       "      <th>aqi</th>\n",
       "      <th>co</th>\n",
       "      <th>no2</th>\n",
       "      <th>o3</th>\n",
       "      <th>pm10</th>\n",
       "      <th>pm25</th>\n",
       "      <th>so2</th>\n",
       "    </tr>\n",
       "  </thead>\n",
       "  <tbody>\n",
       "    <tr>\n",
       "      <th>0</th>\n",
       "      <td>01/02/2022 0:00</td>\n",
       "      <td>12.6</td>\n",
       "      <td>Gujrāt</td>\n",
       "      <td>PK</td>\n",
       "      <td>385</td>\n",
       "      <td>1339.8</td>\n",
       "      <td>76.0</td>\n",
       "      <td>10.7</td>\n",
       "      <td>491.7</td>\n",
       "      <td>347.67</td>\n",
       "      <td>238.0</td>\n",
       "    </tr>\n",
       "    <tr>\n",
       "      <th>1</th>\n",
       "      <td>01/02/2022 1:00</td>\n",
       "      <td>11.5</td>\n",
       "      <td>Gujrāt</td>\n",
       "      <td>PK</td>\n",
       "      <td>404</td>\n",
       "      <td>1437.6</td>\n",
       "      <td>76.0</td>\n",
       "      <td>9.3</td>\n",
       "      <td>508.3</td>\n",
       "      <td>359.33</td>\n",
       "      <td>268.0</td>\n",
       "    </tr>\n",
       "    <tr>\n",
       "      <th>2</th>\n",
       "      <td>01/02/2022 2:00</td>\n",
       "      <td>11.9</td>\n",
       "      <td>Gujrāt</td>\n",
       "      <td>PK</td>\n",
       "      <td>421</td>\n",
       "      <td>1535.5</td>\n",
       "      <td>76.0</td>\n",
       "      <td>8.0</td>\n",
       "      <td>525.0</td>\n",
       "      <td>371.00</td>\n",
       "      <td>298.0</td>\n",
       "    </tr>\n",
       "    <tr>\n",
       "      <th>3</th>\n",
       "      <td>01/02/2022 3:00</td>\n",
       "      <td>12.2</td>\n",
       "      <td>Gujrāt</td>\n",
       "      <td>PK</td>\n",
       "      <td>425</td>\n",
       "      <td>1659.0</td>\n",
       "      <td>68.3</td>\n",
       "      <td>5.3</td>\n",
       "      <td>529.3</td>\n",
       "      <td>374.00</td>\n",
       "      <td>275.7</td>\n",
       "    </tr>\n",
       "    <tr>\n",
       "      <th>4</th>\n",
       "      <td>01/02/2022 4:00</td>\n",
       "      <td>11.9</td>\n",
       "      <td>Gujrāt</td>\n",
       "      <td>PK</td>\n",
       "      <td>430</td>\n",
       "      <td>1782.5</td>\n",
       "      <td>60.7</td>\n",
       "      <td>2.7</td>\n",
       "      <td>533.7</td>\n",
       "      <td>377.00</td>\n",
       "      <td>253.3</td>\n",
       "    </tr>\n",
       "  </tbody>\n",
       "</table>\n",
       "</div>"
      ],
      "text/plain": [
       "   timestamp_local  temp city_name country_code  aqi      co   no2    o3  \\\n",
       "0  01/02/2022 0:00  12.6    Gujrāt           PK  385  1339.8  76.0  10.7   \n",
       "1  01/02/2022 1:00  11.5    Gujrāt           PK  404  1437.6  76.0   9.3   \n",
       "2  01/02/2022 2:00  11.9    Gujrāt           PK  421  1535.5  76.0   8.0   \n",
       "3  01/02/2022 3:00  12.2    Gujrāt           PK  425  1659.0  68.3   5.3   \n",
       "4  01/02/2022 4:00  11.9    Gujrāt           PK  430  1782.5  60.7   2.7   \n",
       "\n",
       "    pm10    pm25    so2  \n",
       "0  491.7  347.67  238.0  \n",
       "1  508.3  359.33  268.0  \n",
       "2  525.0  371.00  298.0  \n",
       "3  529.3  374.00  275.7  \n",
       "4  533.7  377.00  253.3  "
      ]
     },
     "execution_count": 26,
     "metadata": {},
     "output_type": "execute_result"
    }
   ],
   "source": [
    "df.head()"
   ]
  },
  {
   "cell_type": "code",
   "execution_count": 27,
   "id": "1957f406-a837-4345-8d16-7835bd855082",
   "metadata": {},
   "outputs": [],
   "source": [
    "from sklearn.model_selection import train_test_split"
   ]
  },
  {
   "cell_type": "code",
   "execution_count": 28,
   "id": "d7e3c4f9-7208-48a1-bee4-1a89c09e2714",
   "metadata": {},
   "outputs": [],
   "source": [
    "data = df[['no2']]"
   ]
  },
  {
   "cell_type": "code",
   "execution_count": 29,
   "id": "a2eedd5e-c6fa-43b7-9458-5deca00f11fb",
   "metadata": {},
   "outputs": [],
   "source": [
    "from sklearn.preprocessing import MinMaxScaler\n",
    "values = data.values\n",
    "\n",
    "values = values.astype('float32')\n",
    "\n",
    "scaler = MinMaxScaler(feature_range=(0, 1))\n",
    "scaled = scaler.fit_transform(values)"
   ]
  },
  {
   "cell_type": "code",
   "execution_count": 30,
   "id": "d93f3d70-328f-40a2-9403-0e22e9802560",
   "metadata": {},
   "outputs": [],
   "source": [
    "scaled = scaled.reshape((19706,))"
   ]
  },
  {
   "cell_type": "code",
   "execution_count": 31,
   "id": "09f5ccf2-8abf-4b08-8051-cb206ea52fad",
   "metadata": {},
   "outputs": [
    {
     "data": {
      "text/plain": [
       "(19706,)"
      ]
     },
     "execution_count": 31,
     "metadata": {},
     "output_type": "execute_result"
    }
   ],
   "source": [
    "scaled.shape"
   ]
  },
  {
   "cell_type": "code",
   "execution_count": 32,
   "id": "071ee44c-f600-41f6-9490-6cda18be3d8d",
   "metadata": {},
   "outputs": [],
   "source": [
    "def df_to_X_y(df, window_size, forecast_length):\n",
    "    # df_as_np = df.to_numpy()\n",
    "    X = []\n",
    "    y = []\n",
    "    \n",
    "    for i in range(len(df) - window_size - forecast_length):\n",
    "        row_x = [[a] for a in df[i:i+window_size]]\n",
    "        \n",
    "        X.append(row_x)\n",
    "        # row_y = df_as_np[i+window_size]\n",
    "        row_y = [b for b in df[i+window_size:i+window_size+forecast_length]]\n",
    "        \n",
    "        y.append(row_y)\n",
    "        \n",
    "    return np.array(X), np.array(y)"
   ]
  },
  {
   "cell_type": "code",
   "execution_count": 35,
   "id": "c118b905-bab3-4abf-b257-253d7ea2bb98",
   "metadata": {},
   "outputs": [],
   "source": [
    "WINDOW_WIDTH = 168\n",
    "FORECAST_LENGTH = 168\n",
    "X, y = df_to_X_y(scaled, WINDOW_WIDTH, FORECAST_LENGTH)\n",
    "\n",
    "\n",
    "X_train, X_test, y_train, y_test = train_test_split(X, y, test_size=0.2, random_state=0)\n",
    "X_train, X_val, y_train, y_val = train_test_split(X_train, y_train, test_size=0.2, random_state=0)\n",
    "\n",
    "X_max = X_train.max()\n",
    "X_min = X_train.min()"
   ]
  },
  {
   "cell_type": "code",
   "execution_count": 34,
   "id": "e7b85489-d3d6-4c17-8935-238402086eff",
   "metadata": {},
   "outputs": [],
   "source": [
    "from keras.models import Sequential, save_model, load_model\n",
    "from keras.layers import *\n",
    "from keras.callbacks import ReduceLROnPlateau, ModelCheckpoint\n",
    "from tensorflow.keras.optimizers import Adam\n",
    "from keras.losses import MeanSquaredError\n",
    "from keras.metrics import RootMeanSquaredError"
   ]
  },
  {
   "cell_type": "code",
   "execution_count": 36,
   "id": "3b6c5847-1cc5-4149-b349-ff4f5c638c90",
   "metadata": {},
   "outputs": [
    {
     "name": "stderr",
     "output_type": "stream",
     "text": [
      "C:\\Users\\Hassan\\AppData\\Local\\Programs\\Python\\Python311\\Lib\\site-packages\\keras\\src\\layers\\convolutional\\base_conv.py:99: UserWarning: Do not pass an `input_shape`/`input_dim` argument to a layer. When using Sequential models, prefer using an `Input(shape)` object as the first layer in the model instead.\n",
      "  super().__init__(\n"
     ]
    },
    {
     "data": {
      "text/html": [
       "<pre style=\"white-space:pre;overflow-x:auto;line-height:normal;font-family:Menlo,'DejaVu Sans Mono',consolas,'Courier New',monospace\"><span style=\"font-weight: bold\">Model: \"sequential_1\"</span>\n",
       "</pre>\n"
      ],
      "text/plain": [
       "\u001b[1mModel: \"sequential_1\"\u001b[0m\n"
      ]
     },
     "metadata": {},
     "output_type": "display_data"
    },
    {
     "data": {
      "text/html": [
       "<pre style=\"white-space:pre;overflow-x:auto;line-height:normal;font-family:Menlo,'DejaVu Sans Mono',consolas,'Courier New',monospace\">┏━━━━━━━━━━━━━━━━━━━━━━━━━━━━━━━━━━━━━━┳━━━━━━━━━━━━━━━━━━━━━━━━━━━━━┳━━━━━━━━━━━━━━━━━┓\n",
       "┃<span style=\"font-weight: bold\"> Layer (type)                         </span>┃<span style=\"font-weight: bold\"> Output Shape                </span>┃<span style=\"font-weight: bold\">         Param # </span>┃\n",
       "┡━━━━━━━━━━━━━━━━━━━━━━━━━━━━━━━━━━━━━━╇━━━━━━━━━━━━━━━━━━━━━━━━━━━━━╇━━━━━━━━━━━━━━━━━┩\n",
       "│ conv1d_1 (<span style=\"color: #0087ff; text-decoration-color: #0087ff\">Conv1D</span>)                    │ (<span style=\"color: #00d7ff; text-decoration-color: #00d7ff\">None</span>, <span style=\"color: #00af00; text-decoration-color: #00af00\">166</span>, <span style=\"color: #00af00; text-decoration-color: #00af00\">8</span>)              │              <span style=\"color: #00af00; text-decoration-color: #00af00\">32</span> │\n",
       "├──────────────────────────────────────┼─────────────────────────────┼─────────────────┤\n",
       "│ flatten_1 (<span style=\"color: #0087ff; text-decoration-color: #0087ff\">Flatten</span>)                  │ (<span style=\"color: #00d7ff; text-decoration-color: #00d7ff\">None</span>, <span style=\"color: #00af00; text-decoration-color: #00af00\">1328</span>)                │               <span style=\"color: #00af00; text-decoration-color: #00af00\">0</span> │\n",
       "├──────────────────────────────────────┼─────────────────────────────┼─────────────────┤\n",
       "│ dense_1 (<span style=\"color: #0087ff; text-decoration-color: #0087ff\">Dense</span>)                      │ (<span style=\"color: #00d7ff; text-decoration-color: #00d7ff\">None</span>, <span style=\"color: #00af00; text-decoration-color: #00af00\">168</span>)                 │         <span style=\"color: #00af00; text-decoration-color: #00af00\">223,272</span> │\n",
       "└──────────────────────────────────────┴─────────────────────────────┴─────────────────┘\n",
       "</pre>\n"
      ],
      "text/plain": [
       "┏━━━━━━━━━━━━━━━━━━━━━━━━━━━━━━━━━━━━━━┳━━━━━━━━━━━━━━━━━━━━━━━━━━━━━┳━━━━━━━━━━━━━━━━━┓\n",
       "┃\u001b[1m \u001b[0m\u001b[1mLayer (type)                        \u001b[0m\u001b[1m \u001b[0m┃\u001b[1m \u001b[0m\u001b[1mOutput Shape               \u001b[0m\u001b[1m \u001b[0m┃\u001b[1m \u001b[0m\u001b[1m        Param #\u001b[0m\u001b[1m \u001b[0m┃\n",
       "┡━━━━━━━━━━━━━━━━━━━━━━━━━━━━━━━━━━━━━━╇━━━━━━━━━━━━━━━━━━━━━━━━━━━━━╇━━━━━━━━━━━━━━━━━┩\n",
       "│ conv1d_1 (\u001b[38;5;33mConv1D\u001b[0m)                    │ (\u001b[38;5;45mNone\u001b[0m, \u001b[38;5;34m166\u001b[0m, \u001b[38;5;34m8\u001b[0m)              │              \u001b[38;5;34m32\u001b[0m │\n",
       "├──────────────────────────────────────┼─────────────────────────────┼─────────────────┤\n",
       "│ flatten_1 (\u001b[38;5;33mFlatten\u001b[0m)                  │ (\u001b[38;5;45mNone\u001b[0m, \u001b[38;5;34m1328\u001b[0m)                │               \u001b[38;5;34m0\u001b[0m │\n",
       "├──────────────────────────────────────┼─────────────────────────────┼─────────────────┤\n",
       "│ dense_1 (\u001b[38;5;33mDense\u001b[0m)                      │ (\u001b[38;5;45mNone\u001b[0m, \u001b[38;5;34m168\u001b[0m)                 │         \u001b[38;5;34m223,272\u001b[0m │\n",
       "└──────────────────────────────────────┴─────────────────────────────┴─────────────────┘\n"
      ]
     },
     "metadata": {},
     "output_type": "display_data"
    },
    {
     "data": {
      "text/html": [
       "<pre style=\"white-space:pre;overflow-x:auto;line-height:normal;font-family:Menlo,'DejaVu Sans Mono',consolas,'Courier New',monospace\"><span style=\"font-weight: bold\"> Total params: </span><span style=\"color: #00af00; text-decoration-color: #00af00\">223,304</span> (872.28 KB)\n",
       "</pre>\n"
      ],
      "text/plain": [
       "\u001b[1m Total params: \u001b[0m\u001b[38;5;34m223,304\u001b[0m (872.28 KB)\n"
      ]
     },
     "metadata": {},
     "output_type": "display_data"
    },
    {
     "data": {
      "text/html": [
       "<pre style=\"white-space:pre;overflow-x:auto;line-height:normal;font-family:Menlo,'DejaVu Sans Mono',consolas,'Courier New',monospace\"><span style=\"font-weight: bold\"> Trainable params: </span><span style=\"color: #00af00; text-decoration-color: #00af00\">223,304</span> (872.28 KB)\n",
       "</pre>\n"
      ],
      "text/plain": [
       "\u001b[1m Trainable params: \u001b[0m\u001b[38;5;34m223,304\u001b[0m (872.28 KB)\n"
      ]
     },
     "metadata": {},
     "output_type": "display_data"
    },
    {
     "data": {
      "text/html": [
       "<pre style=\"white-space:pre;overflow-x:auto;line-height:normal;font-family:Menlo,'DejaVu Sans Mono',consolas,'Courier New',monospace\"><span style=\"font-weight: bold\"> Non-trainable params: </span><span style=\"color: #00af00; text-decoration-color: #00af00\">0</span> (0.00 B)\n",
       "</pre>\n"
      ],
      "text/plain": [
       "\u001b[1m Non-trainable params: \u001b[0m\u001b[38;5;34m0\u001b[0m (0.00 B)\n"
      ]
     },
     "metadata": {},
     "output_type": "display_data"
    },
    {
     "name": "stdout",
     "output_type": "stream",
     "text": [
      "Epoch 1/50\n",
      "\u001b[1m388/388\u001b[0m \u001b[32m━━━━━━━━━━━━━━━━━━━━\u001b[0m\u001b[37m\u001b[0m \u001b[1m6s\u001b[0m 11ms/step - loss: 0.0172 - root_mean_squared_error: 0.1293 - val_loss: 0.0125 - val_root_mean_squared_error: 0.1118 - learning_rate: 0.0010\n",
      "Epoch 2/50\n",
      "\u001b[1m388/388\u001b[0m \u001b[32m━━━━━━━━━━━━━━━━━━━━\u001b[0m\u001b[37m\u001b[0m \u001b[1m5s\u001b[0m 11ms/step - loss: 0.0118 - root_mean_squared_error: 0.1087 - val_loss: 0.0120 - val_root_mean_squared_error: 0.1094 - learning_rate: 0.0010\n",
      "Epoch 3/50\n",
      "\u001b[1m388/388\u001b[0m \u001b[32m━━━━━━━━━━━━━━━━━━━━\u001b[0m\u001b[37m\u001b[0m \u001b[1m6s\u001b[0m 14ms/step - loss: 0.0115 - root_mean_squared_error: 0.1073 - val_loss: 0.0117 - val_root_mean_squared_error: 0.1081 - learning_rate: 0.0010\n",
      "Epoch 4/50\n",
      "\u001b[1m388/388\u001b[0m \u001b[32m━━━━━━━━━━━━━━━━━━━━\u001b[0m\u001b[37m\u001b[0m \u001b[1m5s\u001b[0m 11ms/step - loss: 0.0115 - root_mean_squared_error: 0.1074 - val_loss: 0.0116 - val_root_mean_squared_error: 0.1076 - learning_rate: 0.0010\n",
      "Epoch 5/50\n",
      "\u001b[1m388/388\u001b[0m \u001b[32m━━━━━━━━━━━━━━━━━━━━\u001b[0m\u001b[37m\u001b[0m \u001b[1m6s\u001b[0m 14ms/step - loss: 0.0112 - root_mean_squared_error: 0.1058 - val_loss: 0.0117 - val_root_mean_squared_error: 0.1083 - learning_rate: 0.0010\n",
      "Epoch 6/50\n",
      "\u001b[1m388/388\u001b[0m \u001b[32m━━━━━━━━━━━━━━━━━━━━\u001b[0m\u001b[37m\u001b[0m \u001b[1m6s\u001b[0m 14ms/step - loss: 0.0111 - root_mean_squared_error: 0.1051 - val_loss: 0.0114 - val_root_mean_squared_error: 0.1070 - learning_rate: 0.0010\n",
      "Epoch 7/50\n",
      "\u001b[1m388/388\u001b[0m \u001b[32m━━━━━━━━━━━━━━━━━━━━\u001b[0m\u001b[37m\u001b[0m \u001b[1m4s\u001b[0m 11ms/step - loss: 0.0111 - root_mean_squared_error: 0.1053 - val_loss: 0.0113 - val_root_mean_squared_error: 0.1065 - learning_rate: 0.0010\n",
      "Epoch 8/50\n",
      "\u001b[1m388/388\u001b[0m \u001b[32m━━━━━━━━━━━━━━━━━━━━\u001b[0m\u001b[37m\u001b[0m \u001b[1m4s\u001b[0m 9ms/step - loss: 0.0108 - root_mean_squared_error: 0.1037 - val_loss: 0.0113 - val_root_mean_squared_error: 0.1065 - learning_rate: 0.0010\n",
      "Epoch 9/50\n",
      "\u001b[1m388/388\u001b[0m \u001b[32m━━━━━━━━━━━━━━━━━━━━\u001b[0m\u001b[37m\u001b[0m \u001b[1m4s\u001b[0m 9ms/step - loss: 0.0109 - root_mean_squared_error: 0.1045 - val_loss: 0.0113 - val_root_mean_squared_error: 0.1064 - learning_rate: 0.0010\n",
      "Epoch 10/50\n",
      "\u001b[1m388/388\u001b[0m \u001b[32m━━━━━━━━━━━━━━━━━━━━\u001b[0m\u001b[37m\u001b[0m \u001b[1m4s\u001b[0m 10ms/step - loss: 0.0108 - root_mean_squared_error: 0.1038 - val_loss: 0.0113 - val_root_mean_squared_error: 0.1065 - learning_rate: 0.0010\n",
      "Epoch 11/50\n",
      "\u001b[1m388/388\u001b[0m \u001b[32m━━━━━━━━━━━━━━━━━━━━\u001b[0m\u001b[37m\u001b[0m \u001b[1m3s\u001b[0m 8ms/step - loss: 0.0109 - root_mean_squared_error: 0.1044 - val_loss: 0.0113 - val_root_mean_squared_error: 0.1062 - learning_rate: 0.0010\n",
      "Epoch 12/50\n",
      "\u001b[1m388/388\u001b[0m \u001b[32m━━━━━━━━━━━━━━━━━━━━\u001b[0m\u001b[37m\u001b[0m \u001b[1m3s\u001b[0m 9ms/step - loss: 0.0107 - root_mean_squared_error: 0.1032 - val_loss: 0.0113 - val_root_mean_squared_error: 0.1064 - learning_rate: 0.0010\n",
      "Epoch 13/50\n",
      "\u001b[1m388/388\u001b[0m \u001b[32m━━━━━━━━━━━━━━━━━━━━\u001b[0m\u001b[37m\u001b[0m \u001b[1m4s\u001b[0m 9ms/step - loss: 0.0106 - root_mean_squared_error: 0.1030 - val_loss: 0.0113 - val_root_mean_squared_error: 0.1063 - learning_rate: 0.0010\n",
      "Epoch 14/50\n",
      "\u001b[1m388/388\u001b[0m \u001b[32m━━━━━━━━━━━━━━━━━━━━\u001b[0m\u001b[37m\u001b[0m \u001b[1m3s\u001b[0m 9ms/step - loss: 0.0107 - root_mean_squared_error: 0.1032 - val_loss: 0.0113 - val_root_mean_squared_error: 0.1062 - learning_rate: 0.0010\n",
      "Epoch 15/50\n",
      "\u001b[1m388/388\u001b[0m \u001b[32m━━━━━━━━━━━━━━━━━━━━\u001b[0m\u001b[37m\u001b[0m \u001b[1m7s\u001b[0m 13ms/step - loss: 0.0107 - root_mean_squared_error: 0.1034 - val_loss: 0.0114 - val_root_mean_squared_error: 0.1066 - learning_rate: 0.0010\n",
      "Epoch 16/50\n",
      "\u001b[1m388/388\u001b[0m \u001b[32m━━━━━━━━━━━━━━━━━━━━\u001b[0m\u001b[37m\u001b[0m \u001b[1m4s\u001b[0m 10ms/step - loss: 0.0105 - root_mean_squared_error: 0.1024 - val_loss: 0.0112 - val_root_mean_squared_error: 0.1060 - learning_rate: 0.0010\n",
      "Epoch 17/50\n",
      "\u001b[1m388/388\u001b[0m \u001b[32m━━━━━━━━━━━━━━━━━━━━\u001b[0m\u001b[37m\u001b[0m \u001b[1m4s\u001b[0m 11ms/step - loss: 0.0105 - root_mean_squared_error: 0.1027 - val_loss: 0.0112 - val_root_mean_squared_error: 0.1059 - learning_rate: 0.0010\n",
      "Epoch 18/50\n",
      "\u001b[1m388/388\u001b[0m \u001b[32m━━━━━━━━━━━━━━━━━━━━\u001b[0m\u001b[37m\u001b[0m \u001b[1m6s\u001b[0m 14ms/step - loss: 0.0107 - root_mean_squared_error: 0.1033 - val_loss: 0.0112 - val_root_mean_squared_error: 0.1056 - learning_rate: 0.0010\n",
      "Epoch 19/50\n",
      "\u001b[1m388/388\u001b[0m \u001b[32m━━━━━━━━━━━━━━━━━━━━\u001b[0m\u001b[37m\u001b[0m \u001b[1m6s\u001b[0m 15ms/step - loss: 0.0105 - root_mean_squared_error: 0.1026 - val_loss: 0.0113 - val_root_mean_squared_error: 0.1062 - learning_rate: 0.0010\n",
      "Epoch 20/50\n",
      "\u001b[1m388/388\u001b[0m \u001b[32m━━━━━━━━━━━━━━━━━━━━\u001b[0m\u001b[37m\u001b[0m \u001b[1m9s\u001b[0m 10ms/step - loss: 0.0105 - root_mean_squared_error: 0.1027 - val_loss: 0.0112 - val_root_mean_squared_error: 0.1058 - learning_rate: 0.0010\n",
      "Epoch 21/50\n",
      "\u001b[1m388/388\u001b[0m \u001b[32m━━━━━━━━━━━━━━━━━━━━\u001b[0m\u001b[37m\u001b[0m \u001b[1m4s\u001b[0m 10ms/step - loss: 0.0105 - root_mean_squared_error: 0.1023 - val_loss: 0.0112 - val_root_mean_squared_error: 0.1057 - learning_rate: 0.0010\n",
      "Epoch 22/50\n",
      "\u001b[1m388/388\u001b[0m \u001b[32m━━━━━━━━━━━━━━━━━━━━\u001b[0m\u001b[37m\u001b[0m \u001b[1m4s\u001b[0m 11ms/step - loss: 0.0104 - root_mean_squared_error: 0.1022 - val_loss: 0.0112 - val_root_mean_squared_error: 0.1058 - learning_rate: 0.0010\n",
      "Epoch 23/50\n",
      "\u001b[1m388/388\u001b[0m \u001b[32m━━━━━━━━━━━━━━━━━━━━\u001b[0m\u001b[37m\u001b[0m \u001b[1m4s\u001b[0m 10ms/step - loss: 0.0103 - root_mean_squared_error: 0.1017 - val_loss: 0.0112 - val_root_mean_squared_error: 0.1059 - learning_rate: 0.0010\n",
      "Epoch 24/50\n",
      "\u001b[1m388/388\u001b[0m \u001b[32m━━━━━━━━━━━━━━━━━━━━\u001b[0m\u001b[37m\u001b[0m \u001b[1m4s\u001b[0m 10ms/step - loss: 0.0102 - root_mean_squared_error: 0.1010 - val_loss: 0.0112 - val_root_mean_squared_error: 0.1058 - learning_rate: 0.0010\n",
      "Epoch 25/50\n",
      "\u001b[1m388/388\u001b[0m \u001b[32m━━━━━━━━━━━━━━━━━━━━\u001b[0m\u001b[37m\u001b[0m \u001b[1m4s\u001b[0m 11ms/step - loss: 0.0102 - root_mean_squared_error: 0.1010 - val_loss: 0.0112 - val_root_mean_squared_error: 0.1058 - learning_rate: 0.0010\n",
      "Epoch 26/50\n",
      "\u001b[1m388/388\u001b[0m \u001b[32m━━━━━━━━━━━━━━━━━━━━\u001b[0m\u001b[37m\u001b[0m \u001b[1m4s\u001b[0m 10ms/step - loss: 0.0102 - root_mean_squared_error: 0.1012 - val_loss: 0.0112 - val_root_mean_squared_error: 0.1060 - learning_rate: 0.0010\n",
      "Epoch 27/50\n",
      "\u001b[1m388/388\u001b[0m \u001b[32m━━━━━━━━━━━━━━━━━━━━\u001b[0m\u001b[37m\u001b[0m \u001b[1m3s\u001b[0m 8ms/step - loss: 0.0102 - root_mean_squared_error: 0.1010 - val_loss: 0.0111 - val_root_mean_squared_error: 0.1052 - learning_rate: 1.0000e-04\n",
      "Epoch 28/50\n",
      "\u001b[1m388/388\u001b[0m \u001b[32m━━━━━━━━━━━━━━━━━━━━\u001b[0m\u001b[37m\u001b[0m \u001b[1m4s\u001b[0m 9ms/step - loss: 0.0101 - root_mean_squared_error: 0.1005 - val_loss: 0.0111 - val_root_mean_squared_error: 0.1052 - learning_rate: 1.0000e-04\n",
      "Epoch 29/50\n",
      "\u001b[1m388/388\u001b[0m \u001b[32m━━━━━━━━━━━━━━━━━━━━\u001b[0m\u001b[37m\u001b[0m \u001b[1m4s\u001b[0m 10ms/step - loss: 0.0101 - root_mean_squared_error: 0.1005 - val_loss: 0.0110 - val_root_mean_squared_error: 0.1051 - learning_rate: 1.0000e-04\n",
      "Epoch 30/50\n",
      "\u001b[1m388/388\u001b[0m \u001b[32m━━━━━━━━━━━━━━━━━━━━\u001b[0m\u001b[37m\u001b[0m \u001b[1m4s\u001b[0m 9ms/step - loss: 0.0101 - root_mean_squared_error: 0.1003 - val_loss: 0.0111 - val_root_mean_squared_error: 0.1052 - learning_rate: 1.0000e-04\n",
      "Epoch 31/50\n",
      "\u001b[1m388/388\u001b[0m \u001b[32m━━━━━━━━━━━━━━━━━━━━\u001b[0m\u001b[37m\u001b[0m \u001b[1m4s\u001b[0m 11ms/step - loss: 0.0101 - root_mean_squared_error: 0.1003 - val_loss: 0.0111 - val_root_mean_squared_error: 0.1052 - learning_rate: 1.0000e-04\n",
      "Epoch 32/50\n",
      "\u001b[1m388/388\u001b[0m \u001b[32m━━━━━━━━━━━━━━━━━━━━\u001b[0m\u001b[37m\u001b[0m \u001b[1m4s\u001b[0m 11ms/step - loss: 0.0101 - root_mean_squared_error: 0.1005 - val_loss: 0.0111 - val_root_mean_squared_error: 0.1052 - learning_rate: 1.0000e-04\n",
      "Epoch 33/50\n",
      "\u001b[1m388/388\u001b[0m \u001b[32m━━━━━━━━━━━━━━━━━━━━\u001b[0m\u001b[37m\u001b[0m \u001b[1m5s\u001b[0m 12ms/step - loss: 0.0100 - root_mean_squared_error: 0.1000 - val_loss: 0.0110 - val_root_mean_squared_error: 0.1051 - learning_rate: 1.0000e-04\n",
      "Epoch 34/50\n",
      "\u001b[1m388/388\u001b[0m \u001b[32m━━━━━━━━━━━━━━━━━━━━\u001b[0m\u001b[37m\u001b[0m \u001b[1m4s\u001b[0m 9ms/step - loss: 0.0102 - root_mean_squared_error: 0.1008 - val_loss: 0.0111 - val_root_mean_squared_error: 0.1051 - learning_rate: 1.0000e-04\n",
      "Epoch 35/50\n",
      "\u001b[1m388/388\u001b[0m \u001b[32m━━━━━━━━━━━━━━━━━━━━\u001b[0m\u001b[37m\u001b[0m \u001b[1m4s\u001b[0m 11ms/step - loss: 0.0100 - root_mean_squared_error: 0.1000 - val_loss: 0.0110 - val_root_mean_squared_error: 0.1051 - learning_rate: 1.0000e-04\n",
      "Epoch 36/50\n",
      "\u001b[1m388/388\u001b[0m \u001b[32m━━━━━━━━━━━━━━━━━━━━\u001b[0m\u001b[37m\u001b[0m \u001b[1m4s\u001b[0m 10ms/step - loss: 0.0100 - root_mean_squared_error: 0.0999 - val_loss: 0.0111 - val_root_mean_squared_error: 0.1054 - learning_rate: 1.0000e-04\n",
      "Epoch 37/50\n",
      "\u001b[1m388/388\u001b[0m \u001b[32m━━━━━━━━━━━━━━━━━━━━\u001b[0m\u001b[37m\u001b[0m \u001b[1m3s\u001b[0m 8ms/step - loss: 0.0100 - root_mean_squared_error: 0.1002 - val_loss: 0.0111 - val_root_mean_squared_error: 0.1053 - learning_rate: 1.0000e-04\n",
      "Epoch 38/50\n",
      "\u001b[1m388/388\u001b[0m \u001b[32m━━━━━━━━━━━━━━━━━━━━\u001b[0m\u001b[37m\u001b[0m \u001b[1m7s\u001b[0m 13ms/step - loss: 0.0100 - root_mean_squared_error: 0.0999 - val_loss: 0.0111 - val_root_mean_squared_error: 0.1052 - learning_rate: 1.0000e-05\n",
      "Epoch 39/50\n",
      "\u001b[1m388/388\u001b[0m \u001b[32m━━━━━━━━━━━━━━━━━━━━\u001b[0m\u001b[37m\u001b[0m \u001b[1m4s\u001b[0m 9ms/step - loss: 0.0100 - root_mean_squared_error: 0.0998 - val_loss: 0.0111 - val_root_mean_squared_error: 0.1051 - learning_rate: 1.0000e-05\n",
      "Epoch 40/50\n",
      "\u001b[1m388/388\u001b[0m \u001b[32m━━━━━━━━━━━━━━━━━━━━\u001b[0m\u001b[37m\u001b[0m \u001b[1m4s\u001b[0m 11ms/step - loss: 0.0101 - root_mean_squared_error: 0.1005 - val_loss: 0.0111 - val_root_mean_squared_error: 0.1051 - learning_rate: 1.0000e-05\n",
      "Epoch 41/50\n",
      "\u001b[1m388/388\u001b[0m \u001b[32m━━━━━━━━━━━━━━━━━━━━\u001b[0m\u001b[37m\u001b[0m \u001b[1m4s\u001b[0m 11ms/step - loss: 0.0099 - root_mean_squared_error: 0.0996 - val_loss: 0.0110 - val_root_mean_squared_error: 0.1051 - learning_rate: 1.0000e-05\n",
      "Epoch 42/50\n",
      "\u001b[1m388/388\u001b[0m \u001b[32m━━━━━━━━━━━━━━━━━━━━\u001b[0m\u001b[37m\u001b[0m \u001b[1m4s\u001b[0m 9ms/step - loss: 0.0100 - root_mean_squared_error: 0.1000 - val_loss: 0.0110 - val_root_mean_squared_error: 0.1051 - learning_rate: 1.0000e-05\n",
      "Epoch 43/50\n",
      "\u001b[1m388/388\u001b[0m \u001b[32m━━━━━━━━━━━━━━━━━━━━\u001b[0m\u001b[37m\u001b[0m \u001b[1m4s\u001b[0m 11ms/step - loss: 0.0099 - root_mean_squared_error: 0.0997 - val_loss: 0.0110 - val_root_mean_squared_error: 0.1051 - learning_rate: 1.0000e-05\n",
      "Epoch 44/50\n",
      "\u001b[1m388/388\u001b[0m \u001b[32m━━━━━━━━━━━━━━━━━━━━\u001b[0m\u001b[37m\u001b[0m \u001b[1m5s\u001b[0m 14ms/step - loss: 0.0098 - root_mean_squared_error: 0.0992 - val_loss: 0.0110 - val_root_mean_squared_error: 0.1051 - learning_rate: 1.0000e-05\n",
      "Epoch 45/50\n",
      "\u001b[1m388/388\u001b[0m \u001b[32m━━━━━━━━━━━━━━━━━━━━\u001b[0m\u001b[37m\u001b[0m \u001b[1m9s\u001b[0m 10ms/step - loss: 0.0099 - root_mean_squared_error: 0.0995 - val_loss: 0.0110 - val_root_mean_squared_error: 0.1051 - learning_rate: 1.0000e-05\n",
      "Epoch 46/50\n",
      "\u001b[1m388/388\u001b[0m \u001b[32m━━━━━━━━━━━━━━━━━━━━\u001b[0m\u001b[37m\u001b[0m \u001b[1m4s\u001b[0m 10ms/step - loss: 0.0100 - root_mean_squared_error: 0.1002 - val_loss: 0.0110 - val_root_mean_squared_error: 0.1051 - learning_rate: 1.0000e-05\n",
      "Epoch 47/50\n",
      "\u001b[1m388/388\u001b[0m \u001b[32m━━━━━━━━━━━━━━━━━━━━\u001b[0m\u001b[37m\u001b[0m \u001b[1m4s\u001b[0m 9ms/step - loss: 0.0099 - root_mean_squared_error: 0.0996 - val_loss: 0.0110 - val_root_mean_squared_error: 0.1051 - learning_rate: 1.0000e-05\n",
      "Epoch 48/50\n",
      "\u001b[1m388/388\u001b[0m \u001b[32m━━━━━━━━━━━━━━━━━━━━\u001b[0m\u001b[37m\u001b[0m \u001b[1m5s\u001b[0m 10ms/step - loss: 0.0100 - root_mean_squared_error: 0.1001 - val_loss: 0.0110 - val_root_mean_squared_error: 0.1051 - learning_rate: 1.0000e-06\n",
      "Epoch 49/50\n",
      "\u001b[1m388/388\u001b[0m \u001b[32m━━━━━━━━━━━━━━━━━━━━\u001b[0m\u001b[37m\u001b[0m \u001b[1m4s\u001b[0m 9ms/step - loss: 0.0100 - root_mean_squared_error: 0.0999 - val_loss: 0.0110 - val_root_mean_squared_error: 0.1051 - learning_rate: 1.0000e-06\n",
      "Epoch 50/50\n",
      "\u001b[1m388/388\u001b[0m \u001b[32m━━━━━━━━━━━━━━━━━━━━\u001b[0m\u001b[37m\u001b[0m \u001b[1m4s\u001b[0m 9ms/step - loss: 0.0100 - root_mean_squared_error: 0.0999 - val_loss: 0.0110 - val_root_mean_squared_error: 0.1051 - learning_rate: 1.0000e-06\n"
     ]
    }
   ],
   "source": [
    "normalizer = Normalization()\n",
    "normalizer.adapt(X_train)\n",
    "rlrop = ReduceLROnPlateau(monitor='val_loss', factor=0.1, patience=10)\n",
    "\n",
    "model = Sequential()\n",
    "# 1D Convolutional layers\n",
    "model.add(Conv1D(filters=8, kernel_size=3, activation='relu', input_shape=X_train.shape[1:]))\n",
    "# model.add(Conv1D(filters=64, kernel_size=3, activation='relu'))\n",
    "# model.add(Conv1D(filters=32, kernel_size=3, activation='relu'))\n",
    "# Flatten the output of the Conv layers\n",
    "model.add(Flatten())\n",
    "# model.add(LSTM(input_shape = X_train.shape[1:], units=86, return_sequences=True))\n",
    "# model.add(LSTM(units=64, return_sequences=True))\n",
    "# model.add(GRU(units=86, return_sequences=True))\n",
    "# model.add(LSTM(units=128, return_sequences=True))\n",
    "# model.add(GRU(units=100, return_sequences=True))\n",
    "# model.add(LSTM(units=100, return_sequences=False))\n",
    "# model.add(Dense(units=100,  activation='relu'))\n",
    "# model.add(Dense(8, activation='relu'))\n",
    "\n",
    "model.add(Dense(units=FORECAST_LENGTH, activation='linear'))\n",
    "\n",
    "model.summary()\n",
    "\n",
    "model.compile(optimizer=Adam(learning_rate=0.001), metrics=[RootMeanSquaredError()] , loss=MeanSquaredError())\n",
    "\n",
    "history = model.fit(X_train, y_train, validation_data=(X_val,y_val), epochs=50, callbacks=[rlrop])\n",
    "\n",
    "# score = model.evaluate(X_test, y_test, verbose = 1)"
   ]
  },
  {
   "cell_type": "code",
   "execution_count": 37,
   "id": "5674b419-12bd-4a4e-a83d-2438ae813939",
   "metadata": {},
   "outputs": [
    {
     "name": "stdout",
     "output_type": "stream",
     "text": [
      "\u001b[1m122/122\u001b[0m \u001b[32m━━━━━━━━━━━━━━━━━━━━\u001b[0m\u001b[37m\u001b[0m \u001b[1m1s\u001b[0m 4ms/step\n"
     ]
    }
   ],
   "source": [
    "forecast = model.predict(X_test)"
   ]
  },
  {
   "cell_type": "code",
   "execution_count": 38,
   "id": "abb7c26e-b6e8-4526-aa4e-9180825c9d51",
   "metadata": {},
   "outputs": [],
   "source": [
    "poll = np.array(df[\"no2\"])\n",
    "\n",
    "meanop = poll.mean()\n",
    "stdop = poll.std()\n",
    "\n",
    "y_test_true = y_test*stdop + meanop\n",
    "testPredict = forecast*stdop + meanop"
   ]
  },
  {
   "cell_type": "code",
   "execution_count": 39,
   "id": "cccf66c7-77a1-483d-8b28-e5df8056b4b6",
   "metadata": {},
   "outputs": [],
   "source": [
    "from sklearn.metrics import mean_squared_error"
   ]
  },
  {
   "cell_type": "code",
   "execution_count": 40,
   "id": "3e3a186b-a281-4964-9581-f8f73931e019",
   "metadata": {},
   "outputs": [
    {
     "name": "stdout",
     "output_type": "stream",
     "text": [
      "Test RMSE = 2.16819\n"
     ]
    }
   ],
   "source": [
    "rmse = np.sqrt(mean_squared_error(y_test_true, testPredict))\n",
    "print(\"Test RMSE =\"  ,rmse)"
   ]
  },
  {
   "cell_type": "code",
   "execution_count": 41,
   "id": "7654b701-6ba9-4602-8611-59820b6311e4",
   "metadata": {},
   "outputs": [
    {
     "data": {
      "text/plain": [
       "array([[0.18179467, 0.16730995, 0.15114498, ..., 0.21940133, 0.20115858,\n",
       "        0.18267974],\n",
       "       [0.02884203, 0.02147755, 0.01538873, ..., 0.02298902, 0.02161576,\n",
       "        0.01556774],\n",
       "       [0.05169522, 0.0332549 , 0.00541855, ..., 0.11075142, 0.10315458,\n",
       "        0.100477  ],\n",
       "       ...,\n",
       "       [0.02515925, 0.12560573, 0.23442893, ..., 0.10960113, 0.09678591,\n",
       "        0.07470426],\n",
       "       [0.49065685, 0.43852144, 0.34061334, ..., 0.29128557, 0.22643162,\n",
       "        0.24752223],\n",
       "       [0.1990409 , 0.21089864, 0.21825725, ..., 0.10839663, 0.15231964,\n",
       "        0.19808891]], dtype=float32)"
      ]
     },
     "execution_count": 41,
     "metadata": {},
     "output_type": "execute_result"
    }
   ],
   "source": [
    "forecast"
   ]
  },
  {
   "cell_type": "code",
   "execution_count": 42,
   "id": "7ea98a00-c789-49d3-bdfe-1c06c5364c33",
   "metadata": {},
   "outputs": [
    {
     "data": {
      "text/plain": [
       "array([[28.642801, 28.337393, 27.996553, ..., 29.435738, 29.05109 ,\n",
       "        28.661463],\n",
       "       [25.4178  , 25.262522, 25.134138, ..., 25.29439 , 25.265434,\n",
       "        25.137913],\n",
       "       [25.89966 , 25.510845, 24.923918, ..., 27.144857, 26.984678,\n",
       "        26.928223],\n",
       "       ...,\n",
       "       [25.340149, 27.45806 , 29.752594, ..., 27.120604, 26.850395,\n",
       "        26.384804],\n",
       "       [35.15515 , 34.055878, 31.991488, ..., 30.951414, 29.583971,\n",
       "        30.028666],\n",
       "       [29.00644 , 29.256458, 29.411613, ..., 27.095207, 28.021322,\n",
       "        28.986366]], dtype=float32)"
      ]
     },
     "execution_count": 42,
     "metadata": {},
     "output_type": "execute_result"
    }
   ],
   "source": [
    "testPredict"
   ]
  },
  {
   "cell_type": "code",
   "execution_count": 43,
   "id": "4e4e0314-523d-408f-9858-83e62f6ef22e",
   "metadata": {},
   "outputs": [
    {
     "data": {
      "text/plain": [
       "array([[27.915205, 28.454588, 29.010315, ..., 30.530396, 29.549698,\n",
       "        28.569002],\n",
       "       [25.136566, 25.25098 , 25.34905 , ..., 25.463465, 25.34905 ,\n",
       "        25.25098 ],\n",
       "       [26.002848, 25.577879, 25.136566, ..., 26.722025, 26.493196,\n",
       "        26.280712],\n",
       "       ...,\n",
       "       [25.626915, 28.078655, 30.530396, ..., 28.19307 , 27.392168,\n",
       "        26.60761 ],\n",
       "       [35.15601 , 34.616627, 33.145584, ..., 35.384842, 35.106976,\n",
       "        34.894493],\n",
       "       [28.8959  , 29.059351, 29.2228  , ..., 27.048923, 28.454588,\n",
       "        29.876596]], dtype=float32)"
      ]
     },
     "execution_count": 43,
     "metadata": {},
     "output_type": "execute_result"
    }
   ],
   "source": [
    "y_test_true"
   ]
  },
  {
   "cell_type": "code",
   "execution_count": 44,
   "id": "7c99f7b4-aaaa-4f09-9445-67e041e9827c",
   "metadata": {},
   "outputs": [],
   "source": [
    "import numpy as np\n",
    "\n",
    "def calculate_segment_rmse(predictions, actuals, segment_length=1):\n",
    "    num_segments = predictions.shape[1] // segment_length\n",
    "    rmses = []\n",
    "    \n",
    "    for i in range(num_segments):\n",
    "        start_idx = i * segment_length\n",
    "        end_idx = start_idx + segment_length\n",
    "        \n",
    "        # Extract the segment for both predictions and actuals\n",
    "        pred_segment = predictions[:, start_idx:end_idx]\n",
    "        actual_segment = actuals[:, start_idx:end_idx]\n",
    "        \n",
    "        # Calculate RMSE for this segment\n",
    "        segment_rmse = np.sqrt(mean_squared_error(actual_segment.flatten(), pred_segment.flatten()))\n",
    "        rmses.append(segment_rmse)\n",
    "    \n",
    "    return rmses"
   ]
  },
  {
   "cell_type": "code",
   "execution_count": 45,
   "id": "7fa11944-e42f-454a-9275-85be213fa36f",
   "metadata": {},
   "outputs": [
    {
     "name": "stdout",
     "output_type": "stream",
     "text": [
      "RMSE for segment 1: 0.5052\n",
      "RMSE for segment 2: 0.9399\n",
      "RMSE for segment 3: 1.3419\n",
      "RMSE for segment 4: 1.5356\n",
      "RMSE for segment 5: 1.6742\n",
      "RMSE for segment 6: 1.7868\n",
      "RMSE for segment 7: 1.8815\n",
      "RMSE for segment 8: 1.9198\n",
      "RMSE for segment 9: 1.9538\n",
      "RMSE for segment 10: 1.9706\n",
      "RMSE for segment 11: 1.9612\n",
      "RMSE for segment 12: 1.9639\n",
      "RMSE for segment 13: 1.9771\n",
      "RMSE for segment 14: 1.9490\n",
      "RMSE for segment 15: 1.9426\n",
      "RMSE for segment 16: 1.9253\n",
      "RMSE for segment 17: 1.9269\n",
      "RMSE for segment 18: 1.9397\n",
      "RMSE for segment 19: 1.9419\n",
      "RMSE for segment 20: 1.9415\n",
      "RMSE for segment 21: 1.9657\n",
      "RMSE for segment 22: 1.9762\n",
      "RMSE for segment 23: 1.9708\n",
      "RMSE for segment 24: 1.9783\n",
      "RMSE for segment 25: 1.9872\n",
      "RMSE for segment 26: 1.9972\n",
      "RMSE for segment 27: 2.0359\n",
      "RMSE for segment 28: 2.0612\n",
      "RMSE for segment 29: 2.0946\n",
      "RMSE for segment 30: 2.1333\n",
      "RMSE for segment 31: 2.1484\n",
      "RMSE for segment 32: 2.1579\n",
      "RMSE for segment 33: 2.1705\n",
      "RMSE for segment 34: 2.1694\n",
      "RMSE for segment 35: 2.1604\n",
      "RMSE for segment 36: 2.1744\n",
      "RMSE for segment 37: 2.1897\n",
      "RMSE for segment 38: 2.1863\n",
      "RMSE for segment 39: 2.1861\n",
      "RMSE for segment 40: 2.1879\n",
      "RMSE for segment 41: 2.1786\n",
      "RMSE for segment 42: 2.1859\n",
      "RMSE for segment 43: 2.1967\n",
      "RMSE for segment 44: 2.2083\n",
      "RMSE for segment 45: 2.2178\n",
      "RMSE for segment 46: 2.2175\n",
      "RMSE for segment 47: 2.1987\n",
      "RMSE for segment 48: 2.2164\n",
      "RMSE for segment 49: 2.2175\n",
      "RMSE for segment 50: 2.2210\n",
      "RMSE for segment 51: 2.2280\n",
      "RMSE for segment 52: 2.2273\n",
      "RMSE for segment 53: 2.2121\n",
      "RMSE for segment 54: 2.2069\n",
      "RMSE for segment 55: 2.1928\n",
      "RMSE for segment 56: 2.1825\n",
      "RMSE for segment 57: 2.1997\n",
      "RMSE for segment 58: 2.2247\n",
      "RMSE for segment 59: 2.2198\n",
      "RMSE for segment 60: 2.2420\n",
      "RMSE for segment 61: 2.2366\n",
      "RMSE for segment 62: 2.2360\n",
      "RMSE for segment 63: 2.2476\n",
      "RMSE for segment 64: 2.2549\n",
      "RMSE for segment 65: 2.2366\n",
      "RMSE for segment 66: 2.2021\n",
      "RMSE for segment 67: 2.1698\n",
      "RMSE for segment 68: 2.1595\n",
      "RMSE for segment 69: 2.1633\n",
      "RMSE for segment 70: 2.1778\n",
      "RMSE for segment 71: 2.1961\n",
      "RMSE for segment 72: 2.2029\n",
      "RMSE for segment 73: 2.1954\n",
      "RMSE for segment 74: 2.1821\n",
      "RMSE for segment 75: 2.2013\n",
      "RMSE for segment 76: 2.2207\n",
      "RMSE for segment 77: 2.2305\n",
      "RMSE for segment 78: 2.2469\n",
      "RMSE for segment 79: 2.2455\n",
      "RMSE for segment 80: 2.2265\n",
      "RMSE for segment 81: 2.2332\n",
      "RMSE for segment 82: 2.2324\n",
      "RMSE for segment 83: 2.2068\n",
      "RMSE for segment 84: 2.2189\n",
      "RMSE for segment 85: 2.2428\n",
      "RMSE for segment 86: 2.2557\n",
      "RMSE for segment 87: 2.2608\n",
      "RMSE for segment 88: 2.2456\n",
      "RMSE for segment 89: 2.2305\n",
      "RMSE for segment 90: 2.2106\n",
      "RMSE for segment 91: 2.2127\n",
      "RMSE for segment 92: 2.2214\n",
      "RMSE for segment 93: 2.2304\n",
      "RMSE for segment 94: 2.2244\n",
      "RMSE for segment 95: 2.1996\n",
      "RMSE for segment 96: 2.1848\n",
      "RMSE for segment 97: 2.1792\n",
      "RMSE for segment 98: 2.1842\n",
      "RMSE for segment 99: 2.2209\n",
      "RMSE for segment 100: 2.2450\n",
      "RMSE for segment 101: 2.2344\n",
      "RMSE for segment 102: 2.2194\n",
      "RMSE for segment 103: 2.2271\n",
      "RMSE for segment 104: 2.2312\n",
      "RMSE for segment 105: 2.2421\n",
      "RMSE for segment 106: 2.2360\n",
      "RMSE for segment 107: 2.2280\n",
      "RMSE for segment 108: 2.2345\n",
      "RMSE for segment 109: 2.2409\n",
      "RMSE for segment 110: 2.2381\n",
      "RMSE for segment 111: 2.2562\n",
      "RMSE for segment 112: 2.2476\n",
      "RMSE for segment 113: 2.2424\n",
      "RMSE for segment 114: 2.2233\n",
      "RMSE for segment 115: 2.2292\n",
      "RMSE for segment 116: 2.2342\n",
      "RMSE for segment 117: 2.2481\n",
      "RMSE for segment 118: 2.2432\n",
      "RMSE for segment 119: 2.2272\n",
      "RMSE for segment 120: 2.2249\n",
      "RMSE for segment 121: 2.2005\n",
      "RMSE for segment 122: 2.2025\n",
      "RMSE for segment 123: 2.2434\n",
      "RMSE for segment 124: 2.2660\n",
      "RMSE for segment 125: 2.2633\n",
      "RMSE for segment 126: 2.2549\n",
      "RMSE for segment 127: 2.2696\n",
      "RMSE for segment 128: 2.2728\n",
      "RMSE for segment 129: 2.2772\n",
      "RMSE for segment 130: 2.2824\n",
      "RMSE for segment 131: 2.2569\n",
      "RMSE for segment 132: 2.2636\n",
      "RMSE for segment 133: 2.2538\n",
      "RMSE for segment 134: 2.2593\n",
      "RMSE for segment 135: 2.2761\n",
      "RMSE for segment 136: 2.2704\n",
      "RMSE for segment 137: 2.2652\n",
      "RMSE for segment 138: 2.2641\n",
      "RMSE for segment 139: 2.2621\n",
      "RMSE for segment 140: 2.2706\n",
      "RMSE for segment 141: 2.2779\n",
      "RMSE for segment 142: 2.2717\n",
      "RMSE for segment 143: 2.2311\n",
      "RMSE for segment 144: 2.2293\n",
      "RMSE for segment 145: 2.2229\n",
      "RMSE for segment 146: 2.2230\n",
      "RMSE for segment 147: 2.2524\n",
      "RMSE for segment 148: 2.2707\n",
      "RMSE for segment 149: 2.2561\n",
      "RMSE for segment 150: 2.2474\n",
      "RMSE for segment 151: 2.2337\n",
      "RMSE for segment 152: 2.2180\n",
      "RMSE for segment 153: 2.2267\n",
      "RMSE for segment 154: 2.2390\n",
      "RMSE for segment 155: 2.2339\n",
      "RMSE for segment 156: 2.2568\n",
      "RMSE for segment 157: 2.2591\n",
      "RMSE for segment 158: 2.2610\n",
      "RMSE for segment 159: 2.2725\n",
      "RMSE for segment 160: 2.2668\n",
      "RMSE for segment 161: 2.2576\n",
      "RMSE for segment 162: 2.2484\n",
      "RMSE for segment 163: 2.2396\n",
      "RMSE for segment 164: 2.2430\n",
      "RMSE for segment 165: 2.2499\n",
      "RMSE for segment 166: 2.2551\n",
      "RMSE for segment 167: 2.2261\n",
      "RMSE for segment 168: 2.2384\n"
     ]
    }
   ],
   "source": [
    "segment_rmses = calculate_segment_rmse(testPredict, y_test_true)\n",
    "for i, rmse in enumerate(segment_rmses):\n",
    "    print(f\"RMSE for segment {i + 1}: {rmse:.4f}\")"
   ]
  },
  {
   "cell_type": "code",
   "execution_count": 46,
   "id": "85765500-cf61-4e8a-8763-69a8f1e567ca",
   "metadata": {},
   "outputs": [],
   "source": [
    "model.save(\"no2_1dcnn.keras\")"
   ]
  }
 ],
 "metadata": {
  "kernelspec": {
   "display_name": "Python 3 (ipykernel)",
   "language": "python",
   "name": "python3"
  },
  "language_info": {
   "codemirror_mode": {
    "name": "ipython",
    "version": 3
   },
   "file_extension": ".py",
   "mimetype": "text/x-python",
   "name": "python",
   "nbconvert_exporter": "python",
   "pygments_lexer": "ipython3",
   "version": "3.11.0"
  }
 },
 "nbformat": 4,
 "nbformat_minor": 5
}
