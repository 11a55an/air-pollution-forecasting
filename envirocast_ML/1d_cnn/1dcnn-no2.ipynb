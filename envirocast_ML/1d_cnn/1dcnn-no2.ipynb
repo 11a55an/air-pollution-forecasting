{
 "cells": [
  {
   "cell_type": "code",
   "execution_count": 1,
   "id": "08a7b78b-1d09-454f-8ecc-7c4184ab2240",
   "metadata": {},
   "outputs": [],
   "source": [
    "import pandas as pd\n",
    "import numpy as np"
   ]
  },
  {
   "cell_type": "code",
   "execution_count": 2,
   "id": "c1570c26-8e22-4498-9fe6-68e055e504a9",
   "metadata": {},
   "outputs": [],
   "source": [
    "df = pd.read_csv(\"../data/data_imputed_3.csv\")"
   ]
  },
  {
   "cell_type": "code",
   "execution_count": 3,
   "id": "55868db8-2144-49a3-9531-e4bf0728f0a2",
   "metadata": {},
   "outputs": [
    {
     "data": {
      "text/html": [
       "<div>\n",
       "<style scoped>\n",
       "    .dataframe tbody tr th:only-of-type {\n",
       "        vertical-align: middle;\n",
       "    }\n",
       "\n",
       "    .dataframe tbody tr th {\n",
       "        vertical-align: top;\n",
       "    }\n",
       "\n",
       "    .dataframe thead th {\n",
       "        text-align: right;\n",
       "    }\n",
       "</style>\n",
       "<table border=\"1\" class=\"dataframe\">\n",
       "  <thead>\n",
       "    <tr style=\"text-align: right;\">\n",
       "      <th></th>\n",
       "      <th>timestamp_local</th>\n",
       "      <th>temp</th>\n",
       "      <th>aqi</th>\n",
       "      <th>co</th>\n",
       "      <th>no2</th>\n",
       "      <th>o3</th>\n",
       "      <th>pm10</th>\n",
       "      <th>pm25</th>\n",
       "      <th>so2</th>\n",
       "    </tr>\n",
       "  </thead>\n",
       "  <tbody>\n",
       "    <tr>\n",
       "      <th>0</th>\n",
       "      <td>01/02/2022 0:00</td>\n",
       "      <td>12.6</td>\n",
       "      <td>385</td>\n",
       "      <td>1339.8</td>\n",
       "      <td>76.0</td>\n",
       "      <td>10.7</td>\n",
       "      <td>491.7</td>\n",
       "      <td>347.67</td>\n",
       "      <td>238.0</td>\n",
       "    </tr>\n",
       "    <tr>\n",
       "      <th>1</th>\n",
       "      <td>01/02/2022 1:00</td>\n",
       "      <td>11.5</td>\n",
       "      <td>404</td>\n",
       "      <td>1437.6</td>\n",
       "      <td>76.0</td>\n",
       "      <td>9.3</td>\n",
       "      <td>508.3</td>\n",
       "      <td>359.33</td>\n",
       "      <td>268.0</td>\n",
       "    </tr>\n",
       "    <tr>\n",
       "      <th>2</th>\n",
       "      <td>01/02/2022 2:00</td>\n",
       "      <td>11.9</td>\n",
       "      <td>421</td>\n",
       "      <td>1535.5</td>\n",
       "      <td>76.0</td>\n",
       "      <td>8.0</td>\n",
       "      <td>525.0</td>\n",
       "      <td>371.00</td>\n",
       "      <td>298.0</td>\n",
       "    </tr>\n",
       "    <tr>\n",
       "      <th>3</th>\n",
       "      <td>01/02/2022 3:00</td>\n",
       "      <td>12.2</td>\n",
       "      <td>425</td>\n",
       "      <td>1659.0</td>\n",
       "      <td>68.3</td>\n",
       "      <td>5.3</td>\n",
       "      <td>529.3</td>\n",
       "      <td>374.00</td>\n",
       "      <td>275.7</td>\n",
       "    </tr>\n",
       "    <tr>\n",
       "      <th>4</th>\n",
       "      <td>01/02/2022 4:00</td>\n",
       "      <td>11.9</td>\n",
       "      <td>430</td>\n",
       "      <td>1782.5</td>\n",
       "      <td>60.7</td>\n",
       "      <td>2.7</td>\n",
       "      <td>533.7</td>\n",
       "      <td>377.00</td>\n",
       "      <td>253.3</td>\n",
       "    </tr>\n",
       "    <tr>\n",
       "      <th>...</th>\n",
       "      <td>...</td>\n",
       "      <td>...</td>\n",
       "      <td>...</td>\n",
       "      <td>...</td>\n",
       "      <td>...</td>\n",
       "      <td>...</td>\n",
       "      <td>...</td>\n",
       "      <td>...</td>\n",
       "      <td>...</td>\n",
       "    </tr>\n",
       "    <tr>\n",
       "      <th>20973</th>\n",
       "      <td>23/06/2024 19:00</td>\n",
       "      <td>39.3</td>\n",
       "      <td>92</td>\n",
       "      <td>155.6</td>\n",
       "      <td>21.0</td>\n",
       "      <td>105.3</td>\n",
       "      <td>57.0</td>\n",
       "      <td>31.33</td>\n",
       "      <td>17.0</td>\n",
       "    </tr>\n",
       "    <tr>\n",
       "      <th>20974</th>\n",
       "      <td>23/06/2024 20:00</td>\n",
       "      <td>37.0</td>\n",
       "      <td>98</td>\n",
       "      <td>191.4</td>\n",
       "      <td>30.0</td>\n",
       "      <td>80.0</td>\n",
       "      <td>58.0</td>\n",
       "      <td>34.00</td>\n",
       "      <td>20.0</td>\n",
       "    </tr>\n",
       "    <tr>\n",
       "      <th>20975</th>\n",
       "      <td>23/06/2024 21:00</td>\n",
       "      <td>35.6</td>\n",
       "      <td>98</td>\n",
       "      <td>233.6</td>\n",
       "      <td>39.7</td>\n",
       "      <td>60.7</td>\n",
       "      <td>58.0</td>\n",
       "      <td>34.33</td>\n",
       "      <td>23.7</td>\n",
       "    </tr>\n",
       "    <tr>\n",
       "      <th>20976</th>\n",
       "      <td>23/06/2024 22:00</td>\n",
       "      <td>34.4</td>\n",
       "      <td>99</td>\n",
       "      <td>275.8</td>\n",
       "      <td>49.3</td>\n",
       "      <td>41.3</td>\n",
       "      <td>58.0</td>\n",
       "      <td>34.67</td>\n",
       "      <td>27.3</td>\n",
       "    </tr>\n",
       "    <tr>\n",
       "      <th>20977</th>\n",
       "      <td>23/06/2024 23:00</td>\n",
       "      <td>33.3</td>\n",
       "      <td>100</td>\n",
       "      <td>318.1</td>\n",
       "      <td>59.0</td>\n",
       "      <td>22.0</td>\n",
       "      <td>58.0</td>\n",
       "      <td>35.00</td>\n",
       "      <td>31.0</td>\n",
       "    </tr>\n",
       "  </tbody>\n",
       "</table>\n",
       "<p>20978 rows × 9 columns</p>\n",
       "</div>"
      ],
      "text/plain": [
       "        timestamp_local  temp  aqi      co   no2     o3   pm10    pm25    so2\n",
       "0       01/02/2022 0:00  12.6  385  1339.8  76.0   10.7  491.7  347.67  238.0\n",
       "1       01/02/2022 1:00  11.5  404  1437.6  76.0    9.3  508.3  359.33  268.0\n",
       "2       01/02/2022 2:00  11.9  421  1535.5  76.0    8.0  525.0  371.00  298.0\n",
       "3       01/02/2022 3:00  12.2  425  1659.0  68.3    5.3  529.3  374.00  275.7\n",
       "4       01/02/2022 4:00  11.9  430  1782.5  60.7    2.7  533.7  377.00  253.3\n",
       "...                 ...   ...  ...     ...   ...    ...    ...     ...    ...\n",
       "20973  23/06/2024 19:00  39.3   92   155.6  21.0  105.3   57.0   31.33   17.0\n",
       "20974  23/06/2024 20:00  37.0   98   191.4  30.0   80.0   58.0   34.00   20.0\n",
       "20975  23/06/2024 21:00  35.6   98   233.6  39.7   60.7   58.0   34.33   23.7\n",
       "20976  23/06/2024 22:00  34.4   99   275.8  49.3   41.3   58.0   34.67   27.3\n",
       "20977  23/06/2024 23:00  33.3  100   318.1  59.0   22.0   58.0   35.00   31.0\n",
       "\n",
       "[20978 rows x 9 columns]"
      ]
     },
     "execution_count": 3,
     "metadata": {},
     "output_type": "execute_result"
    }
   ],
   "source": [
    "df"
   ]
  },
  {
   "cell_type": "code",
   "execution_count": 5,
   "id": "d7e3c4f9-7208-48a1-bee4-1a89c09e2714",
   "metadata": {},
   "outputs": [],
   "source": [
    "data = df[['no2']]"
   ]
  },
  {
   "cell_type": "code",
   "execution_count": 6,
   "id": "a2eedd5e-c6fa-43b7-9458-5deca00f11fb",
   "metadata": {},
   "outputs": [],
   "source": [
    "from sklearn.preprocessing import MinMaxScaler\n",
    "values = data.values\n",
    "\n",
    "values = values.astype('float32')\n",
    "\n",
    "scaler = MinMaxScaler(feature_range=(0, 1))\n",
    "scaled = scaler.fit_transform(values)"
   ]
  },
  {
   "cell_type": "code",
   "execution_count": 7,
   "id": "d93f3d70-328f-40a2-9403-0e22e9802560",
   "metadata": {},
   "outputs": [],
   "source": [
    "scaled = scaled.reshape((20978,))"
   ]
  },
  {
   "cell_type": "code",
   "execution_count": 8,
   "id": "09f5ccf2-8abf-4b08-8051-cb206ea52fad",
   "metadata": {},
   "outputs": [
    {
     "data": {
      "text/plain": [
       "(20978,)"
      ]
     },
     "execution_count": 8,
     "metadata": {},
     "output_type": "execute_result"
    }
   ],
   "source": [
    "scaled.shape"
   ]
  },
  {
   "cell_type": "code",
   "execution_count": 9,
   "id": "071ee44c-f600-41f6-9490-6cda18be3d8d",
   "metadata": {},
   "outputs": [],
   "source": [
    "def df_to_X_y(df, window_size, forecast_length):\n",
    "    # df_as_np = df.to_numpy()\n",
    "    X = []\n",
    "    y = []\n",
    "    \n",
    "    for i in range(len(df) - window_size - forecast_length):\n",
    "        row_x = [[a] for a in df[i:i+window_size]]\n",
    "        \n",
    "        X.append(row_x)\n",
    "        # row_y = df_as_np[i+window_size]\n",
    "        row_y = [b for b in df[i+window_size:i+window_size+forecast_length]]\n",
    "        \n",
    "        y.append(row_y)\n",
    "        \n",
    "    return np.array(X), np.array(y)"
   ]
  },
  {
   "cell_type": "code",
   "execution_count": 10,
   "id": "48f61b07-b546-4fb5-8b8b-0f5e23aed505",
   "metadata": {},
   "outputs": [],
   "source": [
    "def train_test_split(X, y, test_size=0.2):\n",
    "    split_idx = int(len(X) * (1 - test_size))\n",
    "    X_train, X_test = X[:split_idx], X[split_idx:]\n",
    "    y_train, y_test = y[:split_idx], y[split_idx:]\n",
    "    return X_train, X_test, y_train, y_test"
   ]
  },
  {
   "cell_type": "code",
   "execution_count": 11,
   "id": "c118b905-bab3-4abf-b257-253d7ea2bb98",
   "metadata": {},
   "outputs": [],
   "source": [
    "WINDOW_WIDTH = 168\n",
    "FORECAST_LENGTH = 168\n",
    "X, y = df_to_X_y(scaled, WINDOW_WIDTH, FORECAST_LENGTH)\n",
    "\n",
    "\n",
    "X_train, X_test, y_train, y_test = train_test_split(X, y, test_size=0.2)\n",
    "X_train, X_val, y_train, y_val = train_test_split(X_train, y_train, test_size=0.2)\n",
    "\n",
    "X_max = X_train.max()\n",
    "X_min = X_train.min()"
   ]
  },
  {
   "cell_type": "code",
   "execution_count": 12,
   "id": "e7b85489-d3d6-4c17-8935-238402086eff",
   "metadata": {},
   "outputs": [],
   "source": [
    "from keras.models import Sequential, save_model, load_model\n",
    "from keras.layers import *\n",
    "from keras.callbacks import ReduceLROnPlateau, ModelCheckpoint\n",
    "from tensorflow.keras.optimizers import Adam\n",
    "from keras.losses import MeanSquaredError\n",
    "from keras.metrics import RootMeanSquaredError"
   ]
  },
  {
   "cell_type": "code",
   "execution_count": 13,
   "id": "3b6c5847-1cc5-4149-b349-ff4f5c638c90",
   "metadata": {},
   "outputs": [
    {
     "name": "stderr",
     "output_type": "stream",
     "text": [
      "C:\\Users\\Hassan\\AppData\\Local\\Programs\\Python\\Python311\\Lib\\site-packages\\keras\\src\\layers\\convolutional\\base_conv.py:99: UserWarning: Do not pass an `input_shape`/`input_dim` argument to a layer. When using Sequential models, prefer using an `Input(shape)` object as the first layer in the model instead.\n",
      "  super().__init__(\n"
     ]
    },
    {
     "data": {
      "text/html": [
       "<pre style=\"white-space:pre;overflow-x:auto;line-height:normal;font-family:Menlo,'DejaVu Sans Mono',consolas,'Courier New',monospace\"><span style=\"font-weight: bold\">Model: \"sequential\"</span>\n",
       "</pre>\n"
      ],
      "text/plain": [
       "\u001b[1mModel: \"sequential\"\u001b[0m\n"
      ]
     },
     "metadata": {},
     "output_type": "display_data"
    },
    {
     "data": {
      "text/html": [
       "<pre style=\"white-space:pre;overflow-x:auto;line-height:normal;font-family:Menlo,'DejaVu Sans Mono',consolas,'Courier New',monospace\">┏━━━━━━━━━━━━━━━━━━━━━━━━━━━━━━━━━━━━━━┳━━━━━━━━━━━━━━━━━━━━━━━━━━━━━┳━━━━━━━━━━━━━━━━━┓\n",
       "┃<span style=\"font-weight: bold\"> Layer (type)                         </span>┃<span style=\"font-weight: bold\"> Output Shape                </span>┃<span style=\"font-weight: bold\">         Param # </span>┃\n",
       "┡━━━━━━━━━━━━━━━━━━━━━━━━━━━━━━━━━━━━━━╇━━━━━━━━━━━━━━━━━━━━━━━━━━━━━╇━━━━━━━━━━━━━━━━━┩\n",
       "│ conv1d (<span style=\"color: #0087ff; text-decoration-color: #0087ff\">Conv1D</span>)                      │ (<span style=\"color: #00d7ff; text-decoration-color: #00d7ff\">None</span>, <span style=\"color: #00af00; text-decoration-color: #00af00\">166</span>, <span style=\"color: #00af00; text-decoration-color: #00af00\">8</span>)              │              <span style=\"color: #00af00; text-decoration-color: #00af00\">32</span> │\n",
       "├──────────────────────────────────────┼─────────────────────────────┼─────────────────┤\n",
       "│ flatten (<span style=\"color: #0087ff; text-decoration-color: #0087ff\">Flatten</span>)                    │ (<span style=\"color: #00d7ff; text-decoration-color: #00d7ff\">None</span>, <span style=\"color: #00af00; text-decoration-color: #00af00\">1328</span>)                │               <span style=\"color: #00af00; text-decoration-color: #00af00\">0</span> │\n",
       "├──────────────────────────────────────┼─────────────────────────────┼─────────────────┤\n",
       "│ dense (<span style=\"color: #0087ff; text-decoration-color: #0087ff\">Dense</span>)                        │ (<span style=\"color: #00d7ff; text-decoration-color: #00d7ff\">None</span>, <span style=\"color: #00af00; text-decoration-color: #00af00\">168</span>)                 │         <span style=\"color: #00af00; text-decoration-color: #00af00\">223,272</span> │\n",
       "└──────────────────────────────────────┴─────────────────────────────┴─────────────────┘\n",
       "</pre>\n"
      ],
      "text/plain": [
       "┏━━━━━━━━━━━━━━━━━━━━━━━━━━━━━━━━━━━━━━┳━━━━━━━━━━━━━━━━━━━━━━━━━━━━━┳━━━━━━━━━━━━━━━━━┓\n",
       "┃\u001b[1m \u001b[0m\u001b[1mLayer (type)                        \u001b[0m\u001b[1m \u001b[0m┃\u001b[1m \u001b[0m\u001b[1mOutput Shape               \u001b[0m\u001b[1m \u001b[0m┃\u001b[1m \u001b[0m\u001b[1m        Param #\u001b[0m\u001b[1m \u001b[0m┃\n",
       "┡━━━━━━━━━━━━━━━━━━━━━━━━━━━━━━━━━━━━━━╇━━━━━━━━━━━━━━━━━━━━━━━━━━━━━╇━━━━━━━━━━━━━━━━━┩\n",
       "│ conv1d (\u001b[38;5;33mConv1D\u001b[0m)                      │ (\u001b[38;5;45mNone\u001b[0m, \u001b[38;5;34m166\u001b[0m, \u001b[38;5;34m8\u001b[0m)              │              \u001b[38;5;34m32\u001b[0m │\n",
       "├──────────────────────────────────────┼─────────────────────────────┼─────────────────┤\n",
       "│ flatten (\u001b[38;5;33mFlatten\u001b[0m)                    │ (\u001b[38;5;45mNone\u001b[0m, \u001b[38;5;34m1328\u001b[0m)                │               \u001b[38;5;34m0\u001b[0m │\n",
       "├──────────────────────────────────────┼─────────────────────────────┼─────────────────┤\n",
       "│ dense (\u001b[38;5;33mDense\u001b[0m)                        │ (\u001b[38;5;45mNone\u001b[0m, \u001b[38;5;34m168\u001b[0m)                 │         \u001b[38;5;34m223,272\u001b[0m │\n",
       "└──────────────────────────────────────┴─────────────────────────────┴─────────────────┘\n"
      ]
     },
     "metadata": {},
     "output_type": "display_data"
    },
    {
     "data": {
      "text/html": [
       "<pre style=\"white-space:pre;overflow-x:auto;line-height:normal;font-family:Menlo,'DejaVu Sans Mono',consolas,'Courier New',monospace\"><span style=\"font-weight: bold\"> Total params: </span><span style=\"color: #00af00; text-decoration-color: #00af00\">223,304</span> (872.28 KB)\n",
       "</pre>\n"
      ],
      "text/plain": [
       "\u001b[1m Total params: \u001b[0m\u001b[38;5;34m223,304\u001b[0m (872.28 KB)\n"
      ]
     },
     "metadata": {},
     "output_type": "display_data"
    },
    {
     "data": {
      "text/html": [
       "<pre style=\"white-space:pre;overflow-x:auto;line-height:normal;font-family:Menlo,'DejaVu Sans Mono',consolas,'Courier New',monospace\"><span style=\"font-weight: bold\"> Trainable params: </span><span style=\"color: #00af00; text-decoration-color: #00af00\">223,304</span> (872.28 KB)\n",
       "</pre>\n"
      ],
      "text/plain": [
       "\u001b[1m Trainable params: \u001b[0m\u001b[38;5;34m223,304\u001b[0m (872.28 KB)\n"
      ]
     },
     "metadata": {},
     "output_type": "display_data"
    },
    {
     "data": {
      "text/html": [
       "<pre style=\"white-space:pre;overflow-x:auto;line-height:normal;font-family:Menlo,'DejaVu Sans Mono',consolas,'Courier New',monospace\"><span style=\"font-weight: bold\"> Non-trainable params: </span><span style=\"color: #00af00; text-decoration-color: #00af00\">0</span> (0.00 B)\n",
       "</pre>\n"
      ],
      "text/plain": [
       "\u001b[1m Non-trainable params: \u001b[0m\u001b[38;5;34m0\u001b[0m (0.00 B)\n"
      ]
     },
     "metadata": {},
     "output_type": "display_data"
    },
    {
     "name": "stdout",
     "output_type": "stream",
     "text": [
      "Epoch 1/50\n",
      "\u001b[1m413/413\u001b[0m \u001b[32m━━━━━━━━━━━━━━━━━━━━\u001b[0m\u001b[37m\u001b[0m \u001b[1m2s\u001b[0m 3ms/step - loss: 0.0212 - root_mean_squared_error: 0.1439 - val_loss: 0.0048 - val_root_mean_squared_error: 0.0692 - learning_rate: 0.0010\n",
      "Epoch 2/50\n",
      "\u001b[1m413/413\u001b[0m \u001b[32m━━━━━━━━━━━━━━━━━━━━\u001b[0m\u001b[37m\u001b[0m \u001b[1m1s\u001b[0m 3ms/step - loss: 0.0149 - root_mean_squared_error: 0.1220 - val_loss: 0.0046 - val_root_mean_squared_error: 0.0680 - learning_rate: 0.0010\n",
      "Epoch 3/50\n",
      "\u001b[1m413/413\u001b[0m \u001b[32m━━━━━━━━━━━━━━━━━━━━\u001b[0m\u001b[37m\u001b[0m \u001b[1m1s\u001b[0m 3ms/step - loss: 0.0148 - root_mean_squared_error: 0.1217 - val_loss: 0.0045 - val_root_mean_squared_error: 0.0671 - learning_rate: 0.0010\n",
      "Epoch 4/50\n",
      "\u001b[1m413/413\u001b[0m \u001b[32m━━━━━━━━━━━━━━━━━━━━\u001b[0m\u001b[37m\u001b[0m \u001b[1m1s\u001b[0m 3ms/step - loss: 0.0147 - root_mean_squared_error: 0.1210 - val_loss: 0.0045 - val_root_mean_squared_error: 0.0671 - learning_rate: 0.0010\n",
      "Epoch 5/50\n",
      "\u001b[1m413/413\u001b[0m \u001b[32m━━━━━━━━━━━━━━━━━━━━\u001b[0m\u001b[37m\u001b[0m \u001b[1m1s\u001b[0m 3ms/step - loss: 0.0145 - root_mean_squared_error: 0.1205 - val_loss: 0.0045 - val_root_mean_squared_error: 0.0671 - learning_rate: 0.0010\n",
      "Epoch 6/50\n",
      "\u001b[1m413/413\u001b[0m \u001b[32m━━━━━━━━━━━━━━━━━━━━\u001b[0m\u001b[37m\u001b[0m \u001b[1m1s\u001b[0m 3ms/step - loss: 0.0143 - root_mean_squared_error: 0.1195 - val_loss: 0.0049 - val_root_mean_squared_error: 0.0699 - learning_rate: 0.0010\n",
      "Epoch 7/50\n",
      "\u001b[1m413/413\u001b[0m \u001b[32m━━━━━━━━━━━━━━━━━━━━\u001b[0m\u001b[37m\u001b[0m \u001b[1m1s\u001b[0m 3ms/step - loss: 0.0144 - root_mean_squared_error: 0.1199 - val_loss: 0.0047 - val_root_mean_squared_error: 0.0685 - learning_rate: 0.0010\n",
      "Epoch 8/50\n",
      "\u001b[1m413/413\u001b[0m \u001b[32m━━━━━━━━━━━━━━━━━━━━\u001b[0m\u001b[37m\u001b[0m \u001b[1m1s\u001b[0m 3ms/step - loss: 0.0141 - root_mean_squared_error: 0.1189 - val_loss: 0.0047 - val_root_mean_squared_error: 0.0685 - learning_rate: 0.0010\n",
      "Epoch 9/50\n",
      "\u001b[1m413/413\u001b[0m \u001b[32m━━━━━━━━━━━━━━━━━━━━\u001b[0m\u001b[37m\u001b[0m \u001b[1m1s\u001b[0m 3ms/step - loss: 0.0142 - root_mean_squared_error: 0.1190 - val_loss: 0.0046 - val_root_mean_squared_error: 0.0681 - learning_rate: 0.0010\n",
      "Epoch 10/50\n",
      "\u001b[1m413/413\u001b[0m \u001b[32m━━━━━━━━━━━━━━━━━━━━\u001b[0m\u001b[37m\u001b[0m \u001b[1m1s\u001b[0m 3ms/step - loss: 0.0140 - root_mean_squared_error: 0.1183 - val_loss: 0.0046 - val_root_mean_squared_error: 0.0679 - learning_rate: 0.0010\n",
      "Epoch 11/50\n",
      "\u001b[1m413/413\u001b[0m \u001b[32m━━━━━━━━━━━━━━━━━━━━\u001b[0m\u001b[37m\u001b[0m \u001b[1m1s\u001b[0m 3ms/step - loss: 0.0140 - root_mean_squared_error: 0.1184 - val_loss: 0.0047 - val_root_mean_squared_error: 0.0686 - learning_rate: 0.0010\n",
      "Epoch 12/50\n",
      "\u001b[1m413/413\u001b[0m \u001b[32m━━━━━━━━━━━━━━━━━━━━\u001b[0m\u001b[37m\u001b[0m \u001b[1m1s\u001b[0m 3ms/step - loss: 0.0140 - root_mean_squared_error: 0.1182 - val_loss: 0.0047 - val_root_mean_squared_error: 0.0687 - learning_rate: 0.0010\n",
      "Epoch 13/50\n",
      "\u001b[1m413/413\u001b[0m \u001b[32m━━━━━━━━━━━━━━━━━━━━\u001b[0m\u001b[37m\u001b[0m \u001b[1m1s\u001b[0m 3ms/step - loss: 0.0141 - root_mean_squared_error: 0.1187 - val_loss: 0.0047 - val_root_mean_squared_error: 0.0684 - learning_rate: 0.0010\n",
      "Epoch 14/50\n",
      "\u001b[1m413/413\u001b[0m \u001b[32m━━━━━━━━━━━━━━━━━━━━\u001b[0m\u001b[37m\u001b[0m \u001b[1m1s\u001b[0m 3ms/step - loss: 0.0136 - root_mean_squared_error: 0.1166 - val_loss: 0.0046 - val_root_mean_squared_error: 0.0676 - learning_rate: 1.0000e-04\n",
      "Epoch 15/50\n",
      "\u001b[1m413/413\u001b[0m \u001b[32m━━━━━━━━━━━━━━━━━━━━\u001b[0m\u001b[37m\u001b[0m \u001b[1m1s\u001b[0m 3ms/step - loss: 0.0135 - root_mean_squared_error: 0.1163 - val_loss: 0.0047 - val_root_mean_squared_error: 0.0686 - learning_rate: 1.0000e-04\n",
      "Epoch 16/50\n",
      "\u001b[1m413/413\u001b[0m \u001b[32m━━━━━━━━━━━━━━━━━━━━\u001b[0m\u001b[37m\u001b[0m \u001b[1m1s\u001b[0m 3ms/step - loss: 0.0135 - root_mean_squared_error: 0.1163 - val_loss: 0.0046 - val_root_mean_squared_error: 0.0679 - learning_rate: 1.0000e-04\n",
      "Epoch 17/50\n",
      "\u001b[1m413/413\u001b[0m \u001b[32m━━━━━━━━━━━━━━━━━━━━\u001b[0m\u001b[37m\u001b[0m \u001b[1m1s\u001b[0m 3ms/step - loss: 0.0135 - root_mean_squared_error: 0.1162 - val_loss: 0.0046 - val_root_mean_squared_error: 0.0675 - learning_rate: 1.0000e-04\n",
      "Epoch 18/50\n",
      "\u001b[1m413/413\u001b[0m \u001b[32m━━━━━━━━━━━━━━━━━━━━\u001b[0m\u001b[37m\u001b[0m \u001b[1m1s\u001b[0m 3ms/step - loss: 0.0136 - root_mean_squared_error: 0.1167 - val_loss: 0.0046 - val_root_mean_squared_error: 0.0682 - learning_rate: 1.0000e-04\n",
      "Epoch 19/50\n",
      "\u001b[1m413/413\u001b[0m \u001b[32m━━━━━━━━━━━━━━━━━━━━\u001b[0m\u001b[37m\u001b[0m \u001b[1m1s\u001b[0m 3ms/step - loss: 0.0136 - root_mean_squared_error: 0.1165 - val_loss: 0.0046 - val_root_mean_squared_error: 0.0680 - learning_rate: 1.0000e-04\n",
      "Epoch 20/50\n",
      "\u001b[1m413/413\u001b[0m \u001b[32m━━━━━━━━━━━━━━━━━━━━\u001b[0m\u001b[37m\u001b[0m \u001b[1m1s\u001b[0m 3ms/step - loss: 0.0134 - root_mean_squared_error: 0.1158 - val_loss: 0.0047 - val_root_mean_squared_error: 0.0686 - learning_rate: 1.0000e-04\n",
      "Epoch 21/50\n",
      "\u001b[1m413/413\u001b[0m \u001b[32m━━━━━━━━━━━━━━━━━━━━\u001b[0m\u001b[37m\u001b[0m \u001b[1m1s\u001b[0m 3ms/step - loss: 0.0136 - root_mean_squared_error: 0.1166 - val_loss: 0.0046 - val_root_mean_squared_error: 0.0679 - learning_rate: 1.0000e-04\n",
      "Epoch 22/50\n",
      "\u001b[1m413/413\u001b[0m \u001b[32m━━━━━━━━━━━━━━━━━━━━\u001b[0m\u001b[37m\u001b[0m \u001b[1m1s\u001b[0m 3ms/step - loss: 0.0136 - root_mean_squared_error: 0.1168 - val_loss: 0.0047 - val_root_mean_squared_error: 0.0687 - learning_rate: 1.0000e-04\n",
      "Epoch 23/50\n",
      "\u001b[1m413/413\u001b[0m \u001b[32m━━━━━━━━━━━━━━━━━━━━\u001b[0m\u001b[37m\u001b[0m \u001b[1m1s\u001b[0m 3ms/step - loss: 0.0137 - root_mean_squared_error: 0.1170 - val_loss: 0.0047 - val_root_mean_squared_error: 0.0685 - learning_rate: 1.0000e-04\n",
      "Epoch 24/50\n",
      "\u001b[1m413/413\u001b[0m \u001b[32m━━━━━━━━━━━━━━━━━━━━\u001b[0m\u001b[37m\u001b[0m \u001b[1m1s\u001b[0m 3ms/step - loss: 0.0137 - root_mean_squared_error: 0.1172 - val_loss: 0.0047 - val_root_mean_squared_error: 0.0685 - learning_rate: 1.0000e-05\n",
      "Epoch 25/50\n",
      "\u001b[1m413/413\u001b[0m \u001b[32m━━━━━━━━━━━━━━━━━━━━\u001b[0m\u001b[37m\u001b[0m \u001b[1m1s\u001b[0m 3ms/step - loss: 0.0136 - root_mean_squared_error: 0.1165 - val_loss: 0.0047 - val_root_mean_squared_error: 0.0686 - learning_rate: 1.0000e-05\n",
      "Epoch 26/50\n",
      "\u001b[1m413/413\u001b[0m \u001b[32m━━━━━━━━━━━━━━━━━━━━\u001b[0m\u001b[37m\u001b[0m \u001b[1m1s\u001b[0m 3ms/step - loss: 0.0136 - root_mean_squared_error: 0.1165 - val_loss: 0.0047 - val_root_mean_squared_error: 0.0686 - learning_rate: 1.0000e-05\n",
      "Epoch 27/50\n",
      "\u001b[1m413/413\u001b[0m \u001b[32m━━━━━━━━━━━━━━━━━━━━\u001b[0m\u001b[37m\u001b[0m \u001b[1m1s\u001b[0m 3ms/step - loss: 0.0135 - root_mean_squared_error: 0.1160 - val_loss: 0.0047 - val_root_mean_squared_error: 0.0686 - learning_rate: 1.0000e-05\n",
      "Epoch 28/50\n",
      "\u001b[1m413/413\u001b[0m \u001b[32m━━━━━━━━━━━━━━━━━━━━\u001b[0m\u001b[37m\u001b[0m \u001b[1m1s\u001b[0m 3ms/step - loss: 0.0135 - root_mean_squared_error: 0.1162 - val_loss: 0.0047 - val_root_mean_squared_error: 0.0688 - learning_rate: 1.0000e-05\n",
      "Epoch 29/50\n",
      "\u001b[1m413/413\u001b[0m \u001b[32m━━━━━━━━━━━━━━━━━━━━\u001b[0m\u001b[37m\u001b[0m \u001b[1m1s\u001b[0m 3ms/step - loss: 0.0136 - root_mean_squared_error: 0.1167 - val_loss: 0.0047 - val_root_mean_squared_error: 0.0687 - learning_rate: 1.0000e-05\n",
      "Epoch 30/50\n",
      "\u001b[1m413/413\u001b[0m \u001b[32m━━━━━━━━━━━━━━━━━━━━\u001b[0m\u001b[37m\u001b[0m \u001b[1m1s\u001b[0m 2ms/step - loss: 0.0134 - root_mean_squared_error: 0.1158 - val_loss: 0.0047 - val_root_mean_squared_error: 0.0686 - learning_rate: 1.0000e-05\n",
      "Epoch 31/50\n",
      "\u001b[1m413/413\u001b[0m \u001b[32m━━━━━━━━━━━━━━━━━━━━\u001b[0m\u001b[37m\u001b[0m \u001b[1m1s\u001b[0m 3ms/step - loss: 0.0135 - root_mean_squared_error: 0.1163 - val_loss: 0.0047 - val_root_mean_squared_error: 0.0684 - learning_rate: 1.0000e-05\n",
      "Epoch 32/50\n",
      "\u001b[1m413/413\u001b[0m \u001b[32m━━━━━━━━━━━━━━━━━━━━\u001b[0m\u001b[37m\u001b[0m \u001b[1m1s\u001b[0m 3ms/step - loss: 0.0135 - root_mean_squared_error: 0.1163 - val_loss: 0.0047 - val_root_mean_squared_error: 0.0687 - learning_rate: 1.0000e-05\n",
      "Epoch 33/50\n",
      "\u001b[1m413/413\u001b[0m \u001b[32m━━━━━━━━━━━━━━━━━━━━\u001b[0m\u001b[37m\u001b[0m \u001b[1m1s\u001b[0m 3ms/step - loss: 0.0136 - root_mean_squared_error: 0.1165 - val_loss: 0.0047 - val_root_mean_squared_error: 0.0686 - learning_rate: 1.0000e-05\n",
      "Epoch 34/50\n",
      "\u001b[1m413/413\u001b[0m \u001b[32m━━━━━━━━━━━━━━━━━━━━\u001b[0m\u001b[37m\u001b[0m \u001b[1m1s\u001b[0m 3ms/step - loss: 0.0137 - root_mean_squared_error: 0.1170 - val_loss: 0.0047 - val_root_mean_squared_error: 0.0686 - learning_rate: 1.0000e-06\n",
      "Epoch 35/50\n",
      "\u001b[1m413/413\u001b[0m \u001b[32m━━━━━━━━━━━━━━━━━━━━\u001b[0m\u001b[37m\u001b[0m \u001b[1m1s\u001b[0m 3ms/step - loss: 0.0135 - root_mean_squared_error: 0.1160 - val_loss: 0.0047 - val_root_mean_squared_error: 0.0686 - learning_rate: 1.0000e-06\n",
      "Epoch 36/50\n",
      "\u001b[1m413/413\u001b[0m \u001b[32m━━━━━━━━━━━━━━━━━━━━\u001b[0m\u001b[37m\u001b[0m \u001b[1m1s\u001b[0m 3ms/step - loss: 0.0134 - root_mean_squared_error: 0.1159 - val_loss: 0.0047 - val_root_mean_squared_error: 0.0686 - learning_rate: 1.0000e-06\n",
      "Epoch 37/50\n",
      "\u001b[1m413/413\u001b[0m \u001b[32m━━━━━━━━━━━━━━━━━━━━\u001b[0m\u001b[37m\u001b[0m \u001b[1m1s\u001b[0m 3ms/step - loss: 0.0136 - root_mean_squared_error: 0.1164 - val_loss: 0.0047 - val_root_mean_squared_error: 0.0686 - learning_rate: 1.0000e-06\n",
      "Epoch 38/50\n",
      "\u001b[1m413/413\u001b[0m \u001b[32m━━━━━━━━━━━━━━━━━━━━\u001b[0m\u001b[37m\u001b[0m \u001b[1m1s\u001b[0m 3ms/step - loss: 0.0135 - root_mean_squared_error: 0.1163 - val_loss: 0.0047 - val_root_mean_squared_error: 0.0686 - learning_rate: 1.0000e-06\n",
      "Epoch 39/50\n",
      "\u001b[1m413/413\u001b[0m \u001b[32m━━━━━━━━━━━━━━━━━━━━\u001b[0m\u001b[37m\u001b[0m \u001b[1m1s\u001b[0m 3ms/step - loss: 0.0137 - root_mean_squared_error: 0.1169 - val_loss: 0.0047 - val_root_mean_squared_error: 0.0686 - learning_rate: 1.0000e-06\n",
      "Epoch 40/50\n",
      "\u001b[1m413/413\u001b[0m \u001b[32m━━━━━━━━━━━━━━━━━━━━\u001b[0m\u001b[37m\u001b[0m \u001b[1m1s\u001b[0m 3ms/step - loss: 0.0137 - root_mean_squared_error: 0.1169 - val_loss: 0.0047 - val_root_mean_squared_error: 0.0686 - learning_rate: 1.0000e-06\n",
      "Epoch 41/50\n",
      "\u001b[1m413/413\u001b[0m \u001b[32m━━━━━━━━━━━━━━━━━━━━\u001b[0m\u001b[37m\u001b[0m \u001b[1m1s\u001b[0m 3ms/step - loss: 0.0136 - root_mean_squared_error: 0.1165 - val_loss: 0.0047 - val_root_mean_squared_error: 0.0686 - learning_rate: 1.0000e-06\n",
      "Epoch 42/50\n",
      "\u001b[1m413/413\u001b[0m \u001b[32m━━━━━━━━━━━━━━━━━━━━\u001b[0m\u001b[37m\u001b[0m \u001b[1m1s\u001b[0m 3ms/step - loss: 0.0135 - root_mean_squared_error: 0.1163 - val_loss: 0.0047 - val_root_mean_squared_error: 0.0686 - learning_rate: 1.0000e-06\n",
      "Epoch 43/50\n",
      "\u001b[1m413/413\u001b[0m \u001b[32m━━━━━━━━━━━━━━━━━━━━\u001b[0m\u001b[37m\u001b[0m \u001b[1m1s\u001b[0m 3ms/step - loss: 0.0136 - root_mean_squared_error: 0.1165 - val_loss: 0.0047 - val_root_mean_squared_error: 0.0686 - learning_rate: 1.0000e-06\n",
      "Epoch 44/50\n",
      "\u001b[1m413/413\u001b[0m \u001b[32m━━━━━━━━━━━━━━━━━━━━\u001b[0m\u001b[37m\u001b[0m \u001b[1m1s\u001b[0m 3ms/step - loss: 0.0136 - root_mean_squared_error: 0.1164 - val_loss: 0.0047 - val_root_mean_squared_error: 0.0686 - learning_rate: 1.0000e-07\n",
      "Epoch 45/50\n",
      "\u001b[1m413/413\u001b[0m \u001b[32m━━━━━━━━━━━━━━━━━━━━\u001b[0m\u001b[37m\u001b[0m \u001b[1m1s\u001b[0m 3ms/step - loss: 0.0134 - root_mean_squared_error: 0.1159 - val_loss: 0.0047 - val_root_mean_squared_error: 0.0686 - learning_rate: 1.0000e-07\n",
      "Epoch 46/50\n",
      "\u001b[1m413/413\u001b[0m \u001b[32m━━━━━━━━━━━━━━━━━━━━\u001b[0m\u001b[37m\u001b[0m \u001b[1m1s\u001b[0m 3ms/step - loss: 0.0137 - root_mean_squared_error: 0.1171 - val_loss: 0.0047 - val_root_mean_squared_error: 0.0686 - learning_rate: 1.0000e-07\n",
      "Epoch 47/50\n",
      "\u001b[1m413/413\u001b[0m \u001b[32m━━━━━━━━━━━━━━━━━━━━\u001b[0m\u001b[37m\u001b[0m \u001b[1m1s\u001b[0m 3ms/step - loss: 0.0136 - root_mean_squared_error: 0.1168 - val_loss: 0.0047 - val_root_mean_squared_error: 0.0686 - learning_rate: 1.0000e-07\n",
      "Epoch 48/50\n",
      "\u001b[1m413/413\u001b[0m \u001b[32m━━━━━━━━━━━━━━━━━━━━\u001b[0m\u001b[37m\u001b[0m \u001b[1m1s\u001b[0m 3ms/step - loss: 0.0135 - root_mean_squared_error: 0.1164 - val_loss: 0.0047 - val_root_mean_squared_error: 0.0686 - learning_rate: 1.0000e-07\n",
      "Epoch 49/50\n",
      "\u001b[1m413/413\u001b[0m \u001b[32m━━━━━━━━━━━━━━━━━━━━\u001b[0m\u001b[37m\u001b[0m \u001b[1m1s\u001b[0m 3ms/step - loss: 0.0136 - root_mean_squared_error: 0.1167 - val_loss: 0.0047 - val_root_mean_squared_error: 0.0686 - learning_rate: 1.0000e-07\n",
      "Epoch 50/50\n",
      "\u001b[1m413/413\u001b[0m \u001b[32m━━━━━━━━━━━━━━━━━━━━\u001b[0m\u001b[37m\u001b[0m \u001b[1m1s\u001b[0m 3ms/step - loss: 0.0136 - root_mean_squared_error: 0.1164 - val_loss: 0.0047 - val_root_mean_squared_error: 0.0686 - learning_rate: 1.0000e-07\n"
     ]
    }
   ],
   "source": [
    "normalizer = Normalization()\n",
    "normalizer.adapt(X_train)\n",
    "rlrop = ReduceLROnPlateau(monitor='val_loss', factor=0.1, patience=10)\n",
    "\n",
    "model = Sequential()\n",
    "# 1D Convolutional layers\n",
    "model.add(Conv1D(filters=8, kernel_size=3, activation='relu', input_shape=X_train.shape[1:]))\n",
    "# model.add(Conv1D(filters=64, kernel_size=3, activation='relu'))\n",
    "# model.add(Conv1D(filters=32, kernel_size=3, activation='relu'))\n",
    "# Flatten the output of the Conv layers\n",
    "model.add(Flatten())\n",
    "# model.add(LSTM(input_shape = X_train.shape[1:], units=86, return_sequences=True))\n",
    "# model.add(LSTM(units=64, return_sequences=True))\n",
    "# model.add(GRU(units=86, return_sequences=True))\n",
    "# model.add(LSTM(units=128, return_sequences=True))\n",
    "# model.add(GRU(units=100, return_sequences=True))\n",
    "# model.add(LSTM(units=100, return_sequences=False))\n",
    "# model.add(Dense(units=100,  activation='relu'))\n",
    "# model.add(Dense(8, activation='relu'))\n",
    "\n",
    "model.add(Dense(units=FORECAST_LENGTH, activation='linear'))\n",
    "\n",
    "model.summary()\n",
    "\n",
    "model.compile(optimizer=Adam(learning_rate=0.001), metrics=[RootMeanSquaredError()] , loss=MeanSquaredError())\n",
    "\n",
    "history = model.fit(X_train, y_train, validation_data=(X_val,y_val), epochs=50, callbacks=[rlrop])\n",
    "\n",
    "# score = model.evaluate(X_test, y_test, verbose = 1)"
   ]
  },
  {
   "cell_type": "code",
   "execution_count": 14,
   "id": "5674b419-12bd-4a4e-a83d-2438ae813939",
   "metadata": {},
   "outputs": [
    {
     "name": "stdout",
     "output_type": "stream",
     "text": [
      "\u001b[1m130/130\u001b[0m \u001b[32m━━━━━━━━━━━━━━━━━━━━\u001b[0m\u001b[37m\u001b[0m \u001b[1m0s\u001b[0m 1ms/step\n"
     ]
    }
   ],
   "source": [
    "forecast = model.predict(X_test)"
   ]
  },
  {
   "cell_type": "code",
   "execution_count": 15,
   "id": "abb7c26e-b6e8-4526-aa4e-9180825c9d51",
   "metadata": {},
   "outputs": [],
   "source": [
    "poll = np.array(df[\"no2\"])\n",
    "\n",
    "meanop = poll.mean()\n",
    "stdop = poll.std()\n",
    "\n",
    "y_test_true = y_test*stdop + meanop\n",
    "testPredict = forecast*stdop + meanop"
   ]
  },
  {
   "cell_type": "code",
   "execution_count": 16,
   "id": "cccf66c7-77a1-483d-8b28-e5df8056b4b6",
   "metadata": {},
   "outputs": [],
   "source": [
    "from sklearn.metrics import mean_squared_error"
   ]
  },
  {
   "cell_type": "code",
   "execution_count": 17,
   "id": "3e3a186b-a281-4964-9581-f8f73931e019",
   "metadata": {},
   "outputs": [
    {
     "name": "stdout",
     "output_type": "stream",
     "text": [
      "Test RMSE = 1.6601526\n"
     ]
    }
   ],
   "source": [
    "rmse = np.sqrt(mean_squared_error(y_test_true, testPredict))\n",
    "print(\"Test RMSE =\"  ,rmse)"
   ]
  },
  {
   "cell_type": "code",
   "execution_count": 18,
   "id": "5c0c4983-e99d-4c75-89cd-e5a7ca60ab7b",
   "metadata": {},
   "outputs": [
    {
     "name": "stdout",
     "output_type": "stream",
     "text": [
      "Test MAPE = 4.469982162117958\n"
     ]
    }
   ],
   "source": [
    "# Calculate MAPE\n",
    "mape = np.mean(np.abs((y_test_true - testPredict) / y_test_true)) * 100\n",
    "print(\"Test MAPE =\", mape)"
   ]
  },
  {
   "cell_type": "code",
   "execution_count": 19,
   "id": "8d42a56a-0ab1-487e-b9ca-fdb63c51e765",
   "metadata": {},
   "outputs": [
    {
     "name": "stdout",
     "output_type": "stream",
     "text": [
      "Accuracy = 95.53001783788204 %\n"
     ]
    }
   ],
   "source": [
    "# Calculate accuracy as 1 - MAPE\n",
    "accuracy = 100 - mape\n",
    "print(\"Accuracy =\", accuracy, \"%\")"
   ]
  },
  {
   "cell_type": "code",
   "execution_count": 20,
   "id": "ba92f99d-b28e-4cbc-bfb8-ef23eb2af48f",
   "metadata": {},
   "outputs": [
    {
     "name": "stdout",
     "output_type": "stream",
     "text": [
      "Test MAE = 1.2170553\n"
     ]
    }
   ],
   "source": [
    "from sklearn.metrics import mean_absolute_error\n",
    "\n",
    "# Calculate MAE\n",
    "mae = mean_absolute_error(y_test_true, testPredict)\n",
    "print(\"Test MAE =\", mae)"
   ]
  },
  {
   "cell_type": "code",
   "execution_count": 21,
   "id": "7654b701-6ba9-4602-8611-59820b6311e4",
   "metadata": {},
   "outputs": [
    {
     "data": {
      "text/plain": [
       "array([[0.3710157 , 0.34192315, 0.31120124, ..., 0.4047989 , 0.41207904,\n",
       "        0.40942085],\n",
       "       [0.3342556 , 0.30194515, 0.26915357, ..., 0.40800318, 0.40626663,\n",
       "        0.41410595],\n",
       "       [0.29961056, 0.2710051 , 0.24222723, ..., 0.4059026 , 0.41090944,\n",
       "        0.38831222],\n",
       "       ...,\n",
       "       [0.22851238, 0.248283  , 0.27695808, ..., 0.10000403, 0.17374986,\n",
       "        0.24725172],\n",
       "       [0.22285765, 0.24914005, 0.26790625, ..., 0.17100903, 0.24052866,\n",
       "        0.27543777],\n",
       "       [0.20494929, 0.21990621, 0.23871854, ..., 0.24456888, 0.26753277,\n",
       "        0.29864514]], dtype=float32)"
      ]
     },
     "execution_count": 21,
     "metadata": {},
     "output_type": "execute_result"
    }
   ],
   "source": [
    "forecast"
   ]
  },
  {
   "cell_type": "code",
   "execution_count": 22,
   "id": "7ea98a00-c789-49d3-bdfe-1c06c5364c33",
   "metadata": {},
   "outputs": [
    {
     "data": {
      "text/plain": [
       "array([[32.05042 , 31.444637, 30.80493 , ..., 32.753872, 32.905464,\n",
       "        32.850113],\n",
       "       [31.28498 , 30.612194, 29.92939 , ..., 32.820595, 32.78443 ,\n",
       "        32.94767 ],\n",
       "       [30.563581, 29.967943, 29.368715, ..., 32.776855, 32.881107,\n",
       "        32.410576],\n",
       "       ...,\n",
       "       [29.083138, 29.494812, 30.0919  , ..., 26.407265, 27.94284 ,\n",
       "        29.473337],\n",
       "       [28.965391, 29.512657, 29.903418, ..., 27.88577 , 29.333347,\n",
       "        30.060244],\n",
       "       [28.592493, 28.903934, 29.295654, ..., 29.417475, 29.895641,\n",
       "        30.54348 ]], dtype=float32)"
      ]
     },
     "execution_count": 22,
     "metadata": {},
     "output_type": "execute_result"
    }
   ],
   "source": [
    "testPredict"
   ]
  },
  {
   "cell_type": "code",
   "execution_count": 23,
   "id": "4e4e0314-523d-408f-9858-83e62f6ef22e",
   "metadata": {},
   "outputs": [
    {
     "data": {
      "text/plain": [
       "array([[31.911436, 31.152786, 30.410276, ..., 33.20276 , 33.31575 ,\n",
       "        33.412598],\n",
       "       [31.152786, 30.410276, 29.651625, ..., 33.31575 , 33.412598,\n",
       "        33.52559 ],\n",
       "       [30.410276, 29.651625, 29.49021 , ..., 33.412598, 33.52559 ,\n",
       "        32.5571  ],\n",
       "       ...,\n",
       "       [28.473295, 28.40873 , 28.360304, ..., 26.261908, 27.714643,\n",
       "        29.16738 ],\n",
       "       [28.40873 , 28.360304, 29.215805, ..., 27.714643, 29.16738 ,\n",
       "        30.733107],\n",
       "       [28.360304, 29.215805, 30.087446, ..., 29.16738 , 30.733107,\n",
       "        32.282692]], dtype=float32)"
      ]
     },
     "execution_count": 23,
     "metadata": {},
     "output_type": "execute_result"
    }
   ],
   "source": [
    "y_test_true"
   ]
  },
  {
   "cell_type": "code",
   "execution_count": 24,
   "id": "7c99f7b4-aaaa-4f09-9445-67e041e9827c",
   "metadata": {},
   "outputs": [],
   "source": [
    "import numpy as np\n",
    "\n",
    "def calculate_segment_rmse(predictions, actuals, segment_length=1):\n",
    "    num_segments = predictions.shape[1] // segment_length\n",
    "    rmses = []\n",
    "    \n",
    "    for i in range(num_segments):\n",
    "        start_idx = i * segment_length\n",
    "        end_idx = start_idx + segment_length\n",
    "        \n",
    "        # Extract the segment for both predictions and actuals\n",
    "        pred_segment = predictions[:, start_idx:end_idx]\n",
    "        actual_segment = actuals[:, start_idx:end_idx]\n",
    "        \n",
    "        # Calculate RMSE for this segment\n",
    "        segment_rmse = np.sqrt(mean_squared_error(actual_segment.flatten(), pred_segment.flatten()))\n",
    "        rmses.append(segment_rmse)\n",
    "    \n",
    "    return rmses"
   ]
  },
  {
   "cell_type": "code",
   "execution_count": 25,
   "id": "7fa11944-e42f-454a-9275-85be213fa36f",
   "metadata": {},
   "outputs": [
    {
     "name": "stdout",
     "output_type": "stream",
     "text": [
      "RMSE for segment 1: 0.3820\n",
      "RMSE for segment 2: 0.6573\n",
      "RMSE for segment 3: 0.8882\n",
      "RMSE for segment 4: 1.0518\n",
      "RMSE for segment 5: 1.1768\n",
      "RMSE for segment 6: 1.2632\n",
      "RMSE for segment 7: 1.3145\n",
      "RMSE for segment 8: 1.3503\n",
      "RMSE for segment 9: 1.3740\n",
      "RMSE for segment 10: 1.3914\n",
      "RMSE for segment 11: 1.4010\n",
      "RMSE for segment 12: 1.4084\n",
      "RMSE for segment 13: 1.4149\n",
      "RMSE for segment 14: 1.4227\n",
      "RMSE for segment 15: 1.4270\n",
      "RMSE for segment 16: 1.4301\n",
      "RMSE for segment 17: 1.4324\n",
      "RMSE for segment 18: 1.4309\n",
      "RMSE for segment 19: 1.4291\n",
      "RMSE for segment 20: 1.4305\n",
      "RMSE for segment 21: 1.4266\n",
      "RMSE for segment 22: 1.4240\n",
      "RMSE for segment 23: 1.4181\n",
      "RMSE for segment 24: 1.4203\n",
      "RMSE for segment 25: 1.4288\n",
      "RMSE for segment 26: 1.4458\n",
      "RMSE for segment 27: 1.4662\n",
      "RMSE for segment 28: 1.4896\n",
      "RMSE for segment 29: 1.5085\n",
      "RMSE for segment 30: 1.5234\n",
      "RMSE for segment 31: 1.5362\n",
      "RMSE for segment 32: 1.5483\n",
      "RMSE for segment 33: 1.5566\n",
      "RMSE for segment 34: 1.5614\n",
      "RMSE for segment 35: 1.5666\n",
      "RMSE for segment 36: 1.5712\n",
      "RMSE for segment 37: 1.5740\n",
      "RMSE for segment 38: 1.5783\n",
      "RMSE for segment 39: 1.5803\n",
      "RMSE for segment 40: 1.5808\n",
      "RMSE for segment 41: 1.5790\n",
      "RMSE for segment 42: 1.5817\n",
      "RMSE for segment 43: 1.5805\n",
      "RMSE for segment 44: 1.5789\n",
      "RMSE for segment 45: 1.5749\n",
      "RMSE for segment 46: 1.5713\n",
      "RMSE for segment 47: 1.5695\n",
      "RMSE for segment 48: 1.5723\n",
      "RMSE for segment 49: 1.5748\n",
      "RMSE for segment 50: 1.5879\n",
      "RMSE for segment 51: 1.6036\n",
      "RMSE for segment 52: 1.6180\n",
      "RMSE for segment 53: 1.6312\n",
      "RMSE for segment 54: 1.6416\n",
      "RMSE for segment 55: 1.6523\n",
      "RMSE for segment 56: 1.6563\n",
      "RMSE for segment 57: 1.6612\n",
      "RMSE for segment 58: 1.6652\n",
      "RMSE for segment 59: 1.6629\n",
      "RMSE for segment 60: 1.6628\n",
      "RMSE for segment 61: 1.6641\n",
      "RMSE for segment 62: 1.6700\n",
      "RMSE for segment 63: 1.6683\n",
      "RMSE for segment 64: 1.6709\n",
      "RMSE for segment 65: 1.6741\n",
      "RMSE for segment 66: 1.6750\n",
      "RMSE for segment 67: 1.6764\n",
      "RMSE for segment 68: 1.6747\n",
      "RMSE for segment 69: 1.6725\n",
      "RMSE for segment 70: 1.6731\n",
      "RMSE for segment 71: 1.6684\n",
      "RMSE for segment 72: 1.6666\n",
      "RMSE for segment 73: 1.6691\n",
      "RMSE for segment 74: 1.6745\n",
      "RMSE for segment 75: 1.6805\n",
      "RMSE for segment 76: 1.6824\n",
      "RMSE for segment 77: 1.6840\n",
      "RMSE for segment 78: 1.6869\n",
      "RMSE for segment 79: 1.6881\n",
      "RMSE for segment 80: 1.6907\n",
      "RMSE for segment 81: 1.6905\n",
      "RMSE for segment 82: 1.6933\n",
      "RMSE for segment 83: 1.6933\n",
      "RMSE for segment 84: 1.6981\n",
      "RMSE for segment 85: 1.6959\n",
      "RMSE for segment 86: 1.6976\n",
      "RMSE for segment 87: 1.6988\n",
      "RMSE for segment 88: 1.7009\n",
      "RMSE for segment 89: 1.7035\n",
      "RMSE for segment 90: 1.7042\n",
      "RMSE for segment 91: 1.7051\n",
      "RMSE for segment 92: 1.7051\n",
      "RMSE for segment 93: 1.7054\n",
      "RMSE for segment 94: 1.7068\n",
      "RMSE for segment 95: 1.7075\n",
      "RMSE for segment 96: 1.7092\n",
      "RMSE for segment 97: 1.7148\n",
      "RMSE for segment 98: 1.7230\n",
      "RMSE for segment 99: 1.7337\n",
      "RMSE for segment 100: 1.7373\n",
      "RMSE for segment 101: 1.7465\n",
      "RMSE for segment 102: 1.7550\n",
      "RMSE for segment 103: 1.7601\n",
      "RMSE for segment 104: 1.7623\n",
      "RMSE for segment 105: 1.7670\n",
      "RMSE for segment 106: 1.7715\n",
      "RMSE for segment 107: 1.7733\n",
      "RMSE for segment 108: 1.7709\n",
      "RMSE for segment 109: 1.7739\n",
      "RMSE for segment 110: 1.7725\n",
      "RMSE for segment 111: 1.7722\n",
      "RMSE for segment 112: 1.7727\n",
      "RMSE for segment 113: 1.7735\n",
      "RMSE for segment 114: 1.7734\n",
      "RMSE for segment 115: 1.7733\n",
      "RMSE for segment 116: 1.7764\n",
      "RMSE for segment 117: 1.7762\n",
      "RMSE for segment 118: 1.7762\n",
      "RMSE for segment 119: 1.7679\n",
      "RMSE for segment 120: 1.7686\n",
      "RMSE for segment 121: 1.7708\n",
      "RMSE for segment 122: 1.7790\n",
      "RMSE for segment 123: 1.7853\n",
      "RMSE for segment 124: 1.7961\n",
      "RMSE for segment 125: 1.8007\n",
      "RMSE for segment 126: 1.8043\n",
      "RMSE for segment 127: 1.8042\n",
      "RMSE for segment 128: 1.8080\n",
      "RMSE for segment 129: 1.8133\n",
      "RMSE for segment 130: 1.8139\n",
      "RMSE for segment 131: 1.8148\n",
      "RMSE for segment 132: 1.8143\n",
      "RMSE for segment 133: 1.8136\n",
      "RMSE for segment 134: 1.8135\n",
      "RMSE for segment 135: 1.8127\n",
      "RMSE for segment 136: 1.8135\n",
      "RMSE for segment 137: 1.8147\n",
      "RMSE for segment 138: 1.8154\n",
      "RMSE for segment 139: 1.8142\n",
      "RMSE for segment 140: 1.8150\n",
      "RMSE for segment 141: 1.8124\n",
      "RMSE for segment 142: 1.8025\n",
      "RMSE for segment 143: 1.7965\n",
      "RMSE for segment 144: 1.7905\n",
      "RMSE for segment 145: 1.7907\n",
      "RMSE for segment 146: 1.7907\n",
      "RMSE for segment 147: 1.7921\n",
      "RMSE for segment 148: 1.7957\n",
      "RMSE for segment 149: 1.7943\n",
      "RMSE for segment 150: 1.7983\n",
      "RMSE for segment 151: 1.8009\n",
      "RMSE for segment 152: 1.8034\n",
      "RMSE for segment 153: 1.7990\n",
      "RMSE for segment 154: 1.7997\n",
      "RMSE for segment 155: 1.8014\n",
      "RMSE for segment 156: 1.8004\n",
      "RMSE for segment 157: 1.7974\n",
      "RMSE for segment 158: 1.8002\n",
      "RMSE for segment 159: 1.7975\n",
      "RMSE for segment 160: 1.7967\n",
      "RMSE for segment 161: 1.7958\n",
      "RMSE for segment 162: 1.7948\n",
      "RMSE for segment 163: 1.7922\n",
      "RMSE for segment 164: 1.7903\n",
      "RMSE for segment 165: 1.7860\n",
      "RMSE for segment 166: 1.7787\n",
      "RMSE for segment 167: 1.7678\n",
      "RMSE for segment 168: 1.7635\n"
     ]
    }
   ],
   "source": [
    "segment_rmses = calculate_segment_rmse(testPredict, y_test_true)\n",
    "for i, rmse in enumerate(segment_rmses):\n",
    "    print(f\"RMSE for segment {i + 1}: {rmse:.4f}\")"
   ]
  },
  {
   "cell_type": "code",
   "execution_count": 26,
   "id": "85765500-cf61-4e8a-8763-69a8f1e567ca",
   "metadata": {},
   "outputs": [],
   "source": [
    "model.save(\"no2_1dcnn.keras\")"
   ]
  }
 ],
 "metadata": {
  "kernelspec": {
   "display_name": "Python 3 (ipykernel)",
   "language": "python",
   "name": "python3"
  },
  "language_info": {
   "codemirror_mode": {
    "name": "ipython",
    "version": 3
   },
   "file_extension": ".py",
   "mimetype": "text/x-python",
   "name": "python",
   "nbconvert_exporter": "python",
   "pygments_lexer": "ipython3",
   "version": "3.11.0"
  }
 },
 "nbformat": 4,
 "nbformat_minor": 5
}
