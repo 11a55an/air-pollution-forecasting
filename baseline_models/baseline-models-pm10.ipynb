{
 "cells": [
  {
   "cell_type": "markdown",
   "id": "f1c1a553-ba96-41cc-baf9-a49af745bc9b",
   "metadata": {},
   "source": [
    "# Baseline Models - PM10"
   ]
  },
  {
   "cell_type": "markdown",
   "id": "f560b514-ba64-4c97-82a6-8b8b6d82841c",
   "metadata": {},
   "source": [
    "## Import Data"
   ]
  },
  {
   "cell_type": "code",
   "execution_count": 1,
   "id": "4f35722e-6d29-4c90-8d3f-fcc7dc252067",
   "metadata": {},
   "outputs": [],
   "source": [
    "import pandas as pd"
   ]
  },
  {
   "cell_type": "code",
   "execution_count": 2,
   "id": "8b5226be-757e-4348-89f2-b4c8e8eed890",
   "metadata": {},
   "outputs": [],
   "source": [
    "import numpy as np"
   ]
  },
  {
   "cell_type": "code",
   "execution_count": 6,
   "id": "843a923d-08cd-410e-b5ab-4352cf4b188f",
   "metadata": {},
   "outputs": [],
   "source": [
    "df = pd.read_csv(\"../data/data_final.csv\")"
   ]
  },
  {
   "cell_type": "code",
   "execution_count": 7,
   "id": "3d0cdbff-35c8-4853-8b18-e63f7c6125f4",
   "metadata": {},
   "outputs": [
    {
     "data": {
      "text/html": [
       "<div>\n",
       "<style scoped>\n",
       "    .dataframe tbody tr th:only-of-type {\n",
       "        vertical-align: middle;\n",
       "    }\n",
       "\n",
       "    .dataframe tbody tr th {\n",
       "        vertical-align: top;\n",
       "    }\n",
       "\n",
       "    .dataframe thead th {\n",
       "        text-align: right;\n",
       "    }\n",
       "</style>\n",
       "<table border=\"1\" class=\"dataframe\">\n",
       "  <thead>\n",
       "    <tr style=\"text-align: right;\">\n",
       "      <th></th>\n",
       "      <th>temp</th>\n",
       "      <th>timestamp_local</th>\n",
       "      <th>city_name</th>\n",
       "      <th>country_code</th>\n",
       "      <th>aqi</th>\n",
       "      <th>co</th>\n",
       "      <th>no2</th>\n",
       "      <th>o3</th>\n",
       "      <th>pm10</th>\n",
       "      <th>pm25</th>\n",
       "      <th>so2</th>\n",
       "    </tr>\n",
       "  </thead>\n",
       "  <tbody>\n",
       "    <tr>\n",
       "      <th>0</th>\n",
       "      <td>12.6</td>\n",
       "      <td>2022-02-01T00:00:00</td>\n",
       "      <td>Gujrāt</td>\n",
       "      <td>PK</td>\n",
       "      <td>385.0</td>\n",
       "      <td>1339.8</td>\n",
       "      <td>76.0</td>\n",
       "      <td>10.7</td>\n",
       "      <td>491.7</td>\n",
       "      <td>347.67</td>\n",
       "      <td>238.0</td>\n",
       "    </tr>\n",
       "    <tr>\n",
       "      <th>1</th>\n",
       "      <td>11.5</td>\n",
       "      <td>2022-02-01T01:00:00</td>\n",
       "      <td>Gujrāt</td>\n",
       "      <td>PK</td>\n",
       "      <td>404.0</td>\n",
       "      <td>1437.6</td>\n",
       "      <td>76.0</td>\n",
       "      <td>9.3</td>\n",
       "      <td>508.3</td>\n",
       "      <td>359.33</td>\n",
       "      <td>268.0</td>\n",
       "    </tr>\n",
       "    <tr>\n",
       "      <th>2</th>\n",
       "      <td>11.9</td>\n",
       "      <td>2022-02-01T02:00:00</td>\n",
       "      <td>Gujrāt</td>\n",
       "      <td>PK</td>\n",
       "      <td>421.0</td>\n",
       "      <td>1535.5</td>\n",
       "      <td>76.0</td>\n",
       "      <td>8.0</td>\n",
       "      <td>525.0</td>\n",
       "      <td>371.00</td>\n",
       "      <td>298.0</td>\n",
       "    </tr>\n",
       "    <tr>\n",
       "      <th>3</th>\n",
       "      <td>12.2</td>\n",
       "      <td>2022-02-01T03:00:00</td>\n",
       "      <td>Gujrāt</td>\n",
       "      <td>PK</td>\n",
       "      <td>425.0</td>\n",
       "      <td>1659.0</td>\n",
       "      <td>68.3</td>\n",
       "      <td>5.3</td>\n",
       "      <td>529.3</td>\n",
       "      <td>374.00</td>\n",
       "      <td>275.7</td>\n",
       "    </tr>\n",
       "    <tr>\n",
       "      <th>4</th>\n",
       "      <td>11.9</td>\n",
       "      <td>2022-02-01T04:00:00</td>\n",
       "      <td>Gujrāt</td>\n",
       "      <td>PK</td>\n",
       "      <td>430.0</td>\n",
       "      <td>1782.5</td>\n",
       "      <td>60.7</td>\n",
       "      <td>2.7</td>\n",
       "      <td>533.7</td>\n",
       "      <td>377.00</td>\n",
       "      <td>253.3</td>\n",
       "    </tr>\n",
       "    <tr>\n",
       "      <th>...</th>\n",
       "      <td>...</td>\n",
       "      <td>...</td>\n",
       "      <td>...</td>\n",
       "      <td>...</td>\n",
       "      <td>...</td>\n",
       "      <td>...</td>\n",
       "      <td>...</td>\n",
       "      <td>...</td>\n",
       "      <td>...</td>\n",
       "      <td>...</td>\n",
       "      <td>...</td>\n",
       "    </tr>\n",
       "    <tr>\n",
       "      <th>18213</th>\n",
       "      <td>20.7</td>\n",
       "      <td>2024-02-29T19:00:00</td>\n",
       "      <td>Gujrāt</td>\n",
       "      <td>PK</td>\n",
       "      <td>122.0</td>\n",
       "      <td>246.9</td>\n",
       "      <td>23.3</td>\n",
       "      <td>64.7</td>\n",
       "      <td>67.0</td>\n",
       "      <td>43.67</td>\n",
       "      <td>32.3</td>\n",
       "    </tr>\n",
       "    <tr>\n",
       "      <th>18214</th>\n",
       "      <td>18.1</td>\n",
       "      <td>2024-02-29T20:00:00</td>\n",
       "      <td>Gujrāt</td>\n",
       "      <td>PK</td>\n",
       "      <td>145.0</td>\n",
       "      <td>301.1</td>\n",
       "      <td>30.0</td>\n",
       "      <td>48.0</td>\n",
       "      <td>79.0</td>\n",
       "      <td>52.00</td>\n",
       "      <td>37.0</td>\n",
       "    </tr>\n",
       "    <tr>\n",
       "      <th>18215</th>\n",
       "      <td>18.5</td>\n",
       "      <td>2024-02-29T21:00:00</td>\n",
       "      <td>Gujrāt</td>\n",
       "      <td>PK</td>\n",
       "      <td>152.0</td>\n",
       "      <td>304.6</td>\n",
       "      <td>26.7</td>\n",
       "      <td>46.7</td>\n",
       "      <td>86.0</td>\n",
       "      <td>56.67</td>\n",
       "      <td>36.7</td>\n",
       "    </tr>\n",
       "    <tr>\n",
       "      <th>18216</th>\n",
       "      <td>17.4</td>\n",
       "      <td>2024-02-29T22:00:00</td>\n",
       "      <td>Gujrāt</td>\n",
       "      <td>PK</td>\n",
       "      <td>158.0</td>\n",
       "      <td>308.1</td>\n",
       "      <td>23.3</td>\n",
       "      <td>45.3</td>\n",
       "      <td>93.0</td>\n",
       "      <td>61.33</td>\n",
       "      <td>36.3</td>\n",
       "    </tr>\n",
       "    <tr>\n",
       "      <th>18217</th>\n",
       "      <td>17.4</td>\n",
       "      <td>2024-02-29T23:00:00</td>\n",
       "      <td>Gujrāt</td>\n",
       "      <td>PK</td>\n",
       "      <td>164.0</td>\n",
       "      <td>311.6</td>\n",
       "      <td>20.0</td>\n",
       "      <td>44.0</td>\n",
       "      <td>100.0</td>\n",
       "      <td>66.00</td>\n",
       "      <td>36.0</td>\n",
       "    </tr>\n",
       "  </tbody>\n",
       "</table>\n",
       "<p>18218 rows × 11 columns</p>\n",
       "</div>"
      ],
      "text/plain": [
       "       temp      timestamp_local city_name country_code    aqi      co   no2  \\\n",
       "0      12.6  2022-02-01T00:00:00    Gujrāt           PK  385.0  1339.8  76.0   \n",
       "1      11.5  2022-02-01T01:00:00    Gujrāt           PK  404.0  1437.6  76.0   \n",
       "2      11.9  2022-02-01T02:00:00    Gujrāt           PK  421.0  1535.5  76.0   \n",
       "3      12.2  2022-02-01T03:00:00    Gujrāt           PK  425.0  1659.0  68.3   \n",
       "4      11.9  2022-02-01T04:00:00    Gujrāt           PK  430.0  1782.5  60.7   \n",
       "...     ...                  ...       ...          ...    ...     ...   ...   \n",
       "18213  20.7  2024-02-29T19:00:00    Gujrāt           PK  122.0   246.9  23.3   \n",
       "18214  18.1  2024-02-29T20:00:00    Gujrāt           PK  145.0   301.1  30.0   \n",
       "18215  18.5  2024-02-29T21:00:00    Gujrāt           PK  152.0   304.6  26.7   \n",
       "18216  17.4  2024-02-29T22:00:00    Gujrāt           PK  158.0   308.1  23.3   \n",
       "18217  17.4  2024-02-29T23:00:00    Gujrāt           PK  164.0   311.6  20.0   \n",
       "\n",
       "         o3   pm10    pm25    so2  \n",
       "0      10.7  491.7  347.67  238.0  \n",
       "1       9.3  508.3  359.33  268.0  \n",
       "2       8.0  525.0  371.00  298.0  \n",
       "3       5.3  529.3  374.00  275.7  \n",
       "4       2.7  533.7  377.00  253.3  \n",
       "...     ...    ...     ...    ...  \n",
       "18213  64.7   67.0   43.67   32.3  \n",
       "18214  48.0   79.0   52.00   37.0  \n",
       "18215  46.7   86.0   56.67   36.7  \n",
       "18216  45.3   93.0   61.33   36.3  \n",
       "18217  44.0  100.0   66.00   36.0  \n",
       "\n",
       "[18218 rows x 11 columns]"
      ]
     },
     "execution_count": 7,
     "metadata": {},
     "output_type": "execute_result"
    }
   ],
   "source": [
    "df"
   ]
  },
  {
   "cell_type": "code",
   "execution_count": 8,
   "id": "9e660f77-6b05-4687-ad14-9bdb9a22eb08",
   "metadata": {},
   "outputs": [],
   "source": [
    "data = df[[\"pm10\"]].copy()"
   ]
  },
  {
   "cell_type": "code",
   "execution_count": 9,
   "id": "a2489410-f255-4693-a846-61cc8d137fa5",
   "metadata": {},
   "outputs": [
    {
     "data": {
      "text/html": [
       "<div>\n",
       "<style scoped>\n",
       "    .dataframe tbody tr th:only-of-type {\n",
       "        vertical-align: middle;\n",
       "    }\n",
       "\n",
       "    .dataframe tbody tr th {\n",
       "        vertical-align: top;\n",
       "    }\n",
       "\n",
       "    .dataframe thead th {\n",
       "        text-align: right;\n",
       "    }\n",
       "</style>\n",
       "<table border=\"1\" class=\"dataframe\">\n",
       "  <thead>\n",
       "    <tr style=\"text-align: right;\">\n",
       "      <th></th>\n",
       "      <th>pm10</th>\n",
       "    </tr>\n",
       "  </thead>\n",
       "  <tbody>\n",
       "    <tr>\n",
       "      <th>0</th>\n",
       "      <td>491.7</td>\n",
       "    </tr>\n",
       "    <tr>\n",
       "      <th>1</th>\n",
       "      <td>508.3</td>\n",
       "    </tr>\n",
       "    <tr>\n",
       "      <th>2</th>\n",
       "      <td>525.0</td>\n",
       "    </tr>\n",
       "    <tr>\n",
       "      <th>3</th>\n",
       "      <td>529.3</td>\n",
       "    </tr>\n",
       "    <tr>\n",
       "      <th>4</th>\n",
       "      <td>533.7</td>\n",
       "    </tr>\n",
       "  </tbody>\n",
       "</table>\n",
       "</div>"
      ],
      "text/plain": [
       "    pm10\n",
       "0  491.7\n",
       "1  508.3\n",
       "2  525.0\n",
       "3  529.3\n",
       "4  533.7"
      ]
     },
     "execution_count": 9,
     "metadata": {},
     "output_type": "execute_result"
    }
   ],
   "source": [
    "data.head()"
   ]
  },
  {
   "cell_type": "markdown",
   "id": "8b9836f0-1e47-4e46-9c10-debca7e112fa",
   "metadata": {},
   "source": [
    "## Arithmetic Mean"
   ]
  },
  {
   "cell_type": "code",
   "execution_count": 10,
   "id": "03c0d9d8-d428-40b6-a97f-25dfd3de14f9",
   "metadata": {},
   "outputs": [],
   "source": [
    "train = data[:-168]"
   ]
  },
  {
   "cell_type": "code",
   "execution_count": 11,
   "id": "016268ba-98f9-46c5-8e27-acc8b352790d",
   "metadata": {},
   "outputs": [],
   "source": [
    "test = data[-168:]"
   ]
  },
  {
   "cell_type": "code",
   "execution_count": 12,
   "id": "9e4f3d05-1792-4004-8e1c-1a2a09467c20",
   "metadata": {},
   "outputs": [],
   "source": [
    "historical_mean = np.mean(train)"
   ]
  },
  {
   "cell_type": "code",
   "execution_count": 13,
   "id": "28ea262d-f6e3-47bb-9041-bef84d185a10",
   "metadata": {},
   "outputs": [
    {
     "data": {
      "text/plain": [
       "120.95415554072096"
      ]
     },
     "execution_count": 13,
     "metadata": {},
     "output_type": "execute_result"
    }
   ],
   "source": [
    "historical_mean"
   ]
  },
  {
   "cell_type": "code",
   "execution_count": 14,
   "id": "73cb70dc-e105-42ca-b349-d3602b7d134f",
   "metadata": {},
   "outputs": [
    {
     "name": "stderr",
     "output_type": "stream",
     "text": [
      "C:\\Users\\Hassan\\AppData\\Local\\Temp\\ipykernel_39180\\3412765972.py:1: SettingWithCopyWarning: \n",
      "A value is trying to be set on a copy of a slice from a DataFrame.\n",
      "Try using .loc[row_indexer,col_indexer] = value instead\n",
      "\n",
      "See the caveats in the documentation: https://pandas.pydata.org/pandas-docs/stable/user_guide/indexing.html#returning-a-view-versus-a-copy\n",
      "  test['pred_mean'] = historical_mean\n"
     ]
    }
   ],
   "source": [
    "test['pred_mean'] = historical_mean"
   ]
  },
  {
   "cell_type": "code",
   "execution_count": 15,
   "id": "2f7121fc-3b03-428d-a3f6-8ec6c1383ece",
   "metadata": {},
   "outputs": [
    {
     "data": {
      "text/html": [
       "<div>\n",
       "<style scoped>\n",
       "    .dataframe tbody tr th:only-of-type {\n",
       "        vertical-align: middle;\n",
       "    }\n",
       "\n",
       "    .dataframe tbody tr th {\n",
       "        vertical-align: top;\n",
       "    }\n",
       "\n",
       "    .dataframe thead th {\n",
       "        text-align: right;\n",
       "    }\n",
       "</style>\n",
       "<table border=\"1\" class=\"dataframe\">\n",
       "  <thead>\n",
       "    <tr style=\"text-align: right;\">\n",
       "      <th></th>\n",
       "      <th>pm10</th>\n",
       "      <th>pred_mean</th>\n",
       "    </tr>\n",
       "  </thead>\n",
       "  <tbody>\n",
       "    <tr>\n",
       "      <th>18050</th>\n",
       "      <td>50.7</td>\n",
       "      <td>120.954156</td>\n",
       "    </tr>\n",
       "    <tr>\n",
       "      <th>18051</th>\n",
       "      <td>47.3</td>\n",
       "      <td>120.954156</td>\n",
       "    </tr>\n",
       "    <tr>\n",
       "      <th>18052</th>\n",
       "      <td>44.0</td>\n",
       "      <td>120.954156</td>\n",
       "    </tr>\n",
       "    <tr>\n",
       "      <th>18053</th>\n",
       "      <td>43.7</td>\n",
       "      <td>120.954156</td>\n",
       "    </tr>\n",
       "    <tr>\n",
       "      <th>18054</th>\n",
       "      <td>43.3</td>\n",
       "      <td>120.954156</td>\n",
       "    </tr>\n",
       "    <tr>\n",
       "      <th>...</th>\n",
       "      <td>...</td>\n",
       "      <td>...</td>\n",
       "    </tr>\n",
       "    <tr>\n",
       "      <th>18213</th>\n",
       "      <td>67.0</td>\n",
       "      <td>120.954156</td>\n",
       "    </tr>\n",
       "    <tr>\n",
       "      <th>18214</th>\n",
       "      <td>79.0</td>\n",
       "      <td>120.954156</td>\n",
       "    </tr>\n",
       "    <tr>\n",
       "      <th>18215</th>\n",
       "      <td>86.0</td>\n",
       "      <td>120.954156</td>\n",
       "    </tr>\n",
       "    <tr>\n",
       "      <th>18216</th>\n",
       "      <td>93.0</td>\n",
       "      <td>120.954156</td>\n",
       "    </tr>\n",
       "    <tr>\n",
       "      <th>18217</th>\n",
       "      <td>100.0</td>\n",
       "      <td>120.954156</td>\n",
       "    </tr>\n",
       "  </tbody>\n",
       "</table>\n",
       "<p>168 rows × 2 columns</p>\n",
       "</div>"
      ],
      "text/plain": [
       "        pm10   pred_mean\n",
       "18050   50.7  120.954156\n",
       "18051   47.3  120.954156\n",
       "18052   44.0  120.954156\n",
       "18053   43.7  120.954156\n",
       "18054   43.3  120.954156\n",
       "...      ...         ...\n",
       "18213   67.0  120.954156\n",
       "18214   79.0  120.954156\n",
       "18215   86.0  120.954156\n",
       "18216   93.0  120.954156\n",
       "18217  100.0  120.954156\n",
       "\n",
       "[168 rows x 2 columns]"
      ]
     },
     "execution_count": 15,
     "metadata": {},
     "output_type": "execute_result"
    }
   ],
   "source": [
    "test"
   ]
  },
  {
   "cell_type": "code",
   "execution_count": 16,
   "id": "d56d9163-7b5a-4622-ad2c-002c1cabab20",
   "metadata": {},
   "outputs": [],
   "source": [
    "def mape(y_true, y_pred):\n",
    " return np.mean(np.abs((y_true - y_pred) / y_true)) * 100"
   ]
  },
  {
   "cell_type": "code",
   "execution_count": 17,
   "id": "adaabbee-5682-44fe-abc6-773633985332",
   "metadata": {},
   "outputs": [],
   "source": [
    "def rmse(y_true, y_pred):\n",
    "    return np.sqrt(np.mean((y_true - y_pred) ** 2))"
   ]
  },
  {
   "cell_type": "code",
   "execution_count": 18,
   "id": "2411b205-eda5-4087-8745-c3897ad65965",
   "metadata": {},
   "outputs": [
    {
     "name": "stdout",
     "output_type": "stream",
     "text": [
      "116.28587122557781\n"
     ]
    }
   ],
   "source": [
    "mape_hist_mean = mape(test['pm10'], test['pred_mean'])\n",
    "print(mape_hist_mean)"
   ]
  },
  {
   "cell_type": "code",
   "execution_count": 19,
   "id": "5a07e129-92f3-4a64-a08e-f55c03fb1f3a",
   "metadata": {},
   "outputs": [
    {
     "name": "stdout",
     "output_type": "stream",
     "text": [
      "62.1915668774277\n"
     ]
    }
   ],
   "source": [
    "rmse_hist_mean = rmse(test['pm10'], test['pred_mean'])\n",
    "print(rmse_hist_mean)"
   ]
  },
  {
   "cell_type": "markdown",
   "id": "d9aa2985-f652-4ea3-adb9-3779f2f10a5e",
   "metadata": {},
   "source": [
    "## Last Week Mean"
   ]
  },
  {
   "cell_type": "code",
   "execution_count": 21,
   "id": "3ab65d7d-7e93-4be9-95b5-31b0313eb8e6",
   "metadata": {},
   "outputs": [],
   "source": [
    "last_week_mean = np.mean(train.pm10[-168:])"
   ]
  },
  {
   "cell_type": "code",
   "execution_count": 22,
   "id": "94e40e91-31b9-4bda-af26-737eebde5eab",
   "metadata": {},
   "outputs": [
    {
     "data": {
      "text/plain": [
       "94.66071428571429"
      ]
     },
     "execution_count": 22,
     "metadata": {},
     "output_type": "execute_result"
    }
   ],
   "source": [
    "last_week_mean"
   ]
  },
  {
   "cell_type": "code",
   "execution_count": 23,
   "id": "4aef26e5-05d7-4eda-9fdc-6506a0942b95",
   "metadata": {},
   "outputs": [
    {
     "name": "stderr",
     "output_type": "stream",
     "text": [
      "C:\\Users\\Hassan\\AppData\\Local\\Temp\\ipykernel_39180\\1023222008.py:1: SettingWithCopyWarning: \n",
      "A value is trying to be set on a copy of a slice from a DataFrame.\n",
      "Try using .loc[row_indexer,col_indexer] = value instead\n",
      "\n",
      "See the caveats in the documentation: https://pandas.pydata.org/pandas-docs/stable/user_guide/indexing.html#returning-a-view-versus-a-copy\n",
      "  test['pred_last_week'] = last_week_mean\n"
     ]
    }
   ],
   "source": [
    "test['pred_last_week'] = last_week_mean"
   ]
  },
  {
   "cell_type": "code",
   "execution_count": 24,
   "id": "468b5dda-442f-4f91-8d20-5dd960936551",
   "metadata": {},
   "outputs": [
    {
     "name": "stdout",
     "output_type": "stream",
     "text": [
      "69.34905626014849\n"
     ]
    }
   ],
   "source": [
    "mape_last_week_mean = mape(test['pm10'], test['pred_last_week'])\n",
    "print(mape_last_week_mean)"
   ]
  },
  {
   "cell_type": "code",
   "execution_count": 25,
   "id": "d196c024-b830-4f33-b11f-47737e2d44ea",
   "metadata": {},
   "outputs": [
    {
     "name": "stdout",
     "output_type": "stream",
     "text": [
      "37.37151827797957\n"
     ]
    }
   ],
   "source": [
    "rmse_last_week_mean = rmse(test['pm10'], test['pred_last_week'])\n",
    "print(rmse_last_week_mean)"
   ]
  },
  {
   "cell_type": "markdown",
   "id": "903e6e6c-733d-4fdc-ab0f-1a716f887114",
   "metadata": {},
   "source": [
    "## Last Known Value"
   ]
  },
  {
   "cell_type": "code",
   "execution_count": 26,
   "id": "6b4116a6-2dd6-442c-993f-76ab2126ec96",
   "metadata": {},
   "outputs": [],
   "source": [
    "last = train.pm10.iloc[-1]"
   ]
  },
  {
   "cell_type": "code",
   "execution_count": 27,
   "id": "0dd05e74-d247-4546-a2d2-95e7ce1c860a",
   "metadata": {},
   "outputs": [
    {
     "data": {
      "text/plain": [
       "54.0"
      ]
     },
     "execution_count": 27,
     "metadata": {},
     "output_type": "execute_result"
    }
   ],
   "source": [
    "last"
   ]
  },
  {
   "cell_type": "code",
   "execution_count": 28,
   "id": "debfced3-8f8b-4817-a276-0a1f84a2980d",
   "metadata": {},
   "outputs": [
    {
     "name": "stderr",
     "output_type": "stream",
     "text": [
      "C:\\Users\\Hassan\\AppData\\Local\\Temp\\ipykernel_39180\\155972364.py:1: SettingWithCopyWarning: \n",
      "A value is trying to be set on a copy of a slice from a DataFrame.\n",
      "Try using .loc[row_indexer,col_indexer] = value instead\n",
      "\n",
      "See the caveats in the documentation: https://pandas.pydata.org/pandas-docs/stable/user_guide/indexing.html#returning-a-view-versus-a-copy\n",
      "  test.loc[:, 'pred_last'] = last\n"
     ]
    }
   ],
   "source": [
    "test.loc[:, 'pred_last'] = last"
   ]
  },
  {
   "cell_type": "code",
   "execution_count": 29,
   "id": "f226f5d0-0bdc-42aa-9d0f-ff6b82239e38",
   "metadata": {},
   "outputs": [
    {
     "name": "stdout",
     "output_type": "stream",
     "text": [
      "25.285032651313887\n"
     ]
    }
   ],
   "source": [
    "mape_last = mape(test['pm10'], test['pred_last'])\n",
    "print(mape_last)"
   ]
  },
  {
   "cell_type": "code",
   "execution_count": 30,
   "id": "69000b08-45da-450e-a62f-6b35f8cf4979",
   "metadata": {},
   "outputs": [
    {
     "name": "stdout",
     "output_type": "stream",
     "text": [
      "17.25053484333029\n"
     ]
    }
   ],
   "source": [
    "rmse_last = rmse(test['pm10'], test['pred_last'])\n",
    "print(rmse_last)"
   ]
  },
  {
   "cell_type": "markdown",
   "id": "f711da24-463d-4a79-bcec-d7090377b062",
   "metadata": {},
   "source": [
    "## Naive Seasonal Forecast"
   ]
  },
  {
   "cell_type": "code",
   "execution_count": 31,
   "id": "48384c67-0658-45a1-82dd-28fda4fd849c",
   "metadata": {},
   "outputs": [
    {
     "name": "stderr",
     "output_type": "stream",
     "text": [
      "C:\\Users\\Hassan\\AppData\\Local\\Temp\\ipykernel_39180\\1114910935.py:1: SettingWithCopyWarning: \n",
      "A value is trying to be set on a copy of a slice from a DataFrame.\n",
      "Try using .loc[row_indexer,col_indexer] = value instead\n",
      "\n",
      "See the caveats in the documentation: https://pandas.pydata.org/pandas-docs/stable/user_guide/indexing.html#returning-a-view-versus-a-copy\n",
      "  test.loc[:, 'pred_last_season'] = train['pm10'][-168:].values\n"
     ]
    }
   ],
   "source": [
    "test.loc[:, 'pred_last_season'] = train['pm10'][-168:].values"
   ]
  },
  {
   "cell_type": "code",
   "execution_count": 32,
   "id": "0dccb8ed-a9c8-491e-887f-40ac495ac90b",
   "metadata": {},
   "outputs": [
    {
     "data": {
      "text/plain": [
       "85.94455490623777"
      ]
     },
     "execution_count": 32,
     "metadata": {},
     "output_type": "execute_result"
    }
   ],
   "source": [
    "mape_naive_seasonal = mape(test['pm10'], test['pred_last_season'])\n",
    "mape_naive_seasonal"
   ]
  },
  {
   "cell_type": "code",
   "execution_count": 33,
   "id": "e3306630-d16d-41c4-b520-7181db5a669d",
   "metadata": {},
   "outputs": [
    {
     "name": "stdout",
     "output_type": "stream",
     "text": [
      "55.98969930774256\n"
     ]
    }
   ],
   "source": [
    "rmse_naive_seasonal = rmse(test['pm10'], test['pred_last_season'])\n",
    "print(rmse_naive_seasonal)"
   ]
  }
 ],
 "metadata": {
  "kernelspec": {
   "display_name": "Python 3 (ipykernel)",
   "language": "python",
   "name": "python3"
  },
  "language_info": {
   "codemirror_mode": {
    "name": "ipython",
    "version": 3
   },
   "file_extension": ".py",
   "mimetype": "text/x-python",
   "name": "python",
   "nbconvert_exporter": "python",
   "pygments_lexer": "ipython3",
   "version": "3.11.0"
  }
 },
 "nbformat": 4,
 "nbformat_minor": 5
}
